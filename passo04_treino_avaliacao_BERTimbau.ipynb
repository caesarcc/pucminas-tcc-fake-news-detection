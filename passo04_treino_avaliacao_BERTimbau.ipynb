{
  "cells": [
    {
      "cell_type": "markdown",
      "metadata": {
        "id": "view-in-github",
        "colab_type": "text"
      },
      "source": [
        "<a href=\"https://colab.research.google.com/github/caesarcc/pucminas-tcc-fake-news-detection/blob/main/passo04_treino_avaliacao_BERTimbau.ipynb\" target=\"_parent\"><img src=\"https://colab.research.google.com/assets/colab-badge.svg\" alt=\"Open In Colab\"/></a>"
      ]
    },
    {
      "cell_type": "markdown",
      "metadata": {
        "id": "k04XI2wn9ps9"
      },
      "source": [
        "## Treino e Avaliação do Modelo BERTimbau\n",
        "\n",
        "### Iniciando pela configuração do Google Colab"
      ]
    },
    {
      "cell_type": "code",
      "execution_count": 2,
      "metadata": {
        "colab": {
          "base_uri": "https://localhost:8080/"
        },
        "id": "GLWPP5tE97EJ",
        "outputId": "c5e7006a-b9c3-464c-91d5-3f7d6030a479"
      },
      "outputs": [
        {
          "output_type": "stream",
          "name": "stdout",
          "text": [
            "\u001b[K     |████████████████████████████████| 4.4 MB 4.3 MB/s \n",
            "\u001b[K     |████████████████████████████████| 6.6 MB 50.3 MB/s \n",
            "\u001b[K     |████████████████████████████████| 596 kB 56.3 MB/s \n",
            "\u001b[K     |████████████████████████████████| 101 kB 11.4 MB/s \n",
            "\u001b[?25h"
          ]
        }
      ],
      "source": [
        "!pip install -q transformers"
      ]
    },
    {
      "cell_type": "code",
      "execution_count": 1,
      "metadata": {
        "colab": {
          "base_uri": "https://localhost:8080/"
        },
        "id": "3EZomSUMMKAf",
        "outputId": "ca65e5b3-6d58-4f9e-a9c4-e4c5d133261a"
      },
      "outputs": [
        {
          "metadata": {
            "tags": null
          },
          "name": "stdout",
          "output_type": "stream",
          "text": [
            "Mounted at /content/drive\n"
          ]
        }
      ],
      "source": [
        "from google.colab import drive\n",
        "drive.mount('/content/drive')"
      ]
    },
    {
      "cell_type": "code",
      "execution_count": null,
      "metadata": {
        "cellView": "form",
        "id": "CPzAh59THwj1"
      },
      "outputs": [],
      "source": [
        "# Importação de bibliotecas utilizadas no treino e avaliação\n",
        "import datetime\n",
        "import os\n",
        "import random\n",
        "import time\n",
        "import numpy as np\n",
        "import pandas as pd\n",
        "from tqdm.auto import tqdm\n",
        "import matplotlib.pyplot as plt\n",
        "import seaborn as sns\n",
        "import torch\n",
        "from IPython.display import display\n",
        "from sklearn.metrics import (accuracy_score, auc, classification_report, f1_score,\n",
        "                             confusion_matrix, ConfusionMatrixDisplay, roc_curve,\n",
        "                             mean_squared_error, root_mean_squared_error)\n",
        "from torch.utils.data import (DataLoader, TensorDataset)\n",
        "from transformers import (AutoModelForSequenceClassification, AutoTokenizer)\n",
        "from transformers.file_utils import is_torch_available"
      ]
    },
    {
      "cell_type": "code",
      "source": [
        "#Configurações de ambiente\n",
        "%matplotlib inline\n",
        "# limites de impressão para o pandas\n",
        "pd.set_option(\"display.max_rows\", 50, 'display.max_colwidth', 250)\n",
        "# configura tema dos gráficos\n",
        "sns.set_theme(style=\"white\")\n",
        "#configura a barra de progressos para usar no apply\n",
        "tqdm.pandas()\n",
        "\n",
        "def format_time(elapsed):\n",
        "    elapsed_rounded = int(round((elapsed)))\n",
        "    return str(datetime.timedelta(seconds=elapsed_rounded))"
      ],
      "metadata": {
        "id": "YQIBNchuK-_V"
      },
      "execution_count": null,
      "outputs": []
    },
    {
      "cell_type": "markdown",
      "metadata": {
        "id": "nYVq1HCgX5zB"
      },
      "source": [
        "### Carrega dados pré-processados"
      ]
    },
    {
      "cell_type": "code",
      "execution_count": null,
      "metadata": {
        "colab": {
          "base_uri": "https://localhost:8080/"
        },
        "id": "GLNk1WPwXznk",
        "outputId": "ab96fe03-ca27-4f10-bb78-73a926023ba4"
      },
      "outputs": [
        {
          "output_type": "stream",
          "name": "stdout",
          "text": [
            "<class 'pandas.core.frame.DataFrame'>\n",
            "RangeIndex: 6703 entries, 0 to 6702\n",
            "Data columns (total 6 columns):\n",
            " #   Column            Non-Null Count  Dtype \n",
            "---  ------            --------------  ----- \n",
            " 0   texto             6703 non-null   object\n",
            " 1   classe            6703 non-null   int64 \n",
            " 2   texto_limpo       6703 non-null   object\n",
            " 3   qtde_limpo        6703 non-null   int64 \n",
            " 4   texto_lematizado  6703 non-null   object\n",
            " 5   qtde_lematizado   6703 non-null   int64 \n",
            "dtypes: int64(3), object(3)\n",
            "memory usage: 314.3+ KB\n"
          ]
        }
      ],
      "source": [
        "dados = pd.read_csv(r'/content/drive/MyDrive/PUC/TCC/dados/dataset_processado.csv', sep = ',')\n",
        "dados.info()"
      ]
    },
    {
      "cell_type": "markdown",
      "metadata": {
        "id": "kwgNPYpg9ptK"
      },
      "source": [
        "### Geração de seed  \n",
        "Rotina para garantir a reprodução dos resultados mesmo que o ambiente for reiniciado.  \n",
        "Semente aplicada às libs random, numpy e torch."
      ]
    },
    {
      "cell_type": "code",
      "execution_count": null,
      "metadata": {
        "id": "TwFrnP8c9ptL"
      },
      "outputs": [],
      "source": [
        "RANDOM_SEED = 42\n",
        "def garantir_reprodutividade(seed: int):\n",
        "    random.seed(seed)\n",
        "    np.random.seed(seed)\n",
        "    if is_torch_available():\n",
        "        torch.manual_seed(seed)\n",
        "        if torch.cuda.is_available():\n",
        "            torch.cuda.manual_seed_all(seed)\n",
        "            return \"cuda\"\n",
        "    return \"cpu\"\n",
        "\n",
        "device = garantir_reprodutividade(RANDOM_SEED)"
      ]
    },
    {
      "cell_type": "markdown",
      "metadata": {
        "id": "tlDLC7k59ptM"
      },
      "source": [
        "### Carregando o modelo pré-treinado BERTimbau"
      ]
    },
    {
      "cell_type": "code",
      "execution_count": null,
      "metadata": {
        "colab": {
          "base_uri": "https://localhost:8080/",
          "height": 320,
          "referenced_widgets": [
            "6c1fc0c5f17d4d768820fad4330e7b16",
            "430f5349294d462faf2670b7c95b3323",
            "73da31a19e1b442d82942c8a2d786f88",
            "f722ac3ea76a4f1ea72607b3c0054e13",
            "36c35c6c96cf4b3eb0800dc96b30c9fd",
            "b4ad10f6d9ba4faaae6ea7aeaa10021d",
            "8f3f31c334d6411ca9ce7673ecd77d0a",
            "76d6b93a610343c09dd2d4bd617473ce",
            "902f46686b7346f985fb35160cbc985a",
            "4e7f2566442441c1bcb3d273cbb40dbc",
            "1f3fa25374344bc2a4fce0ed797ebd88",
            "67b1db4aa3d14f56b68d5947ef326b24",
            "70c380f265d543da808393c5bd8429c2",
            "d347b9f37b914a389e5c35a5b6ef2bca",
            "3672e20cece9406ea481031a2314efaa",
            "1b01673ef3894c8f800d5c463d854744",
            "1cd1264012a3422b88fb3a80767fd69c",
            "44c82f06945a44499641bfab529ce65c",
            "59fa50f1a9714a2a8ef3bd705ec88b67",
            "82198715c76a418e8d66ebe802c18bea",
            "f6bc23b7c9de4e2db814615e76a87d49",
            "f2ab4df8b0964650b31257033ba742fe",
            "bc9e34de8fa94cad876c34f7253bc80e",
            "479ad322c44a4d3aaa232e651187adb9",
            "f5a715a22ad6424891fb0aa57f234f5e",
            "efb12cf87ed541afaf6fb30db9485e17",
            "5446df3ba2c349e8ab393c7b7db700f5",
            "12566f39c6b24624b77853c5aa59246e",
            "53a5c7deac6f4565afae5f28e589b15f",
            "8d63654151a14a55b7a31caeb652dd24",
            "072fd931d0554ed9b47235efc65ec74c",
            "b4c1d36a3fa745688d5f9cd5d38d3c0f",
            "d76d1c9758634694971ecf32be4d2f9a",
            "56cb02e75f4f48fe8f92a5a66abcb5f4",
            "6141d1cf61f84173ac3a4155f5255f2e",
            "d1b4742d4ead4e988ca4761d6afd8a86",
            "5444545406ef4dda8d652638c21fdc0e",
            "6c4809efbb0147fdbdebe8c42562ef49",
            "8fc427a0805d4112b821d60ce9344cef",
            "22efae12eee0409780f405fd156030f5",
            "f6c98a5ce55c42c6906cab36965f39ed",
            "a3c8e01b6b0847e985d1fe7f4db60c7e",
            "b7af3c8d50be4ca1a9d42f122c632685",
            "756d5b41c7634aaca390b7f2be7dafe1",
            "dadde2fef5c54f3fbcbb2b1ace52d0a2",
            "b96ec1b9d39b46d2a47e728ed2f876f7",
            "cbf29277bc6940868d8ab81c78633b09",
            "de35f7f58b3b44fbaab66075736c3819",
            "88c3c17f16b444f4ba09f796e828a182",
            "01c38e0122364c308305177f90fe36ae",
            "91e6bad122b747178bdb722ec115a9b7",
            "3a4f7e80805c448da27598cc32bd9c27",
            "7582e28ccfea4433a6b2af988c8919fa",
            "529f622dd56c42b3a395fcba2d4d6515",
            "2e856b5862674c1b80f7733ed9c03402",
            "8a18167125ed4747aa3aef78c2d4307e",
            "2419fdcda7e34045b153b0dcdeb14fae",
            "908825bc0fff4fae86102eef24d172a7",
            "add334a06f6648968b0681afc8f9ab59",
            "15650090b42c42d1bf440e18082faf94",
            "af23748943e54550a3349f11bf6a0795",
            "3d28b45853cd49109c4e5ed6525b3e97",
            "ad4bc4480a6c4014bda3bffca022cc1c",
            "593a86ef504d4ba3ae61b65e9d924f2a",
            "d8d3a6f6e1fc49979a502bad01d5a491",
            "9d70d936374c457792d480092629ad5b"
          ]
        },
        "id": "VQkF_nDy9ptM",
        "outputId": "e0aca8e9-6396-4b24-a68c-c04a87b209ec"
      },
      "outputs": [
        {
          "output_type": "display_data",
          "data": {
            "text/plain": [
              "Downloading:   0%|          | 0.00/43.0 [00:00<?, ?B/s]"
            ],
            "application/vnd.jupyter.widget-view+json": {
              "version_major": 2,
              "version_minor": 0,
              "model_id": "6c1fc0c5f17d4d768820fad4330e7b16"
            }
          },
          "metadata": {}
        },
        {
          "output_type": "display_data",
          "data": {
            "text/plain": [
              "Downloading:   0%|          | 0.00/647 [00:00<?, ?B/s]"
            ],
            "application/vnd.jupyter.widget-view+json": {
              "version_major": 2,
              "version_minor": 0,
              "model_id": "67b1db4aa3d14f56b68d5947ef326b24"
            }
          },
          "metadata": {}
        },
        {
          "output_type": "display_data",
          "data": {
            "text/plain": [
              "Downloading:   0%|          | 0.00/205k [00:00<?, ?B/s]"
            ],
            "application/vnd.jupyter.widget-view+json": {
              "version_major": 2,
              "version_minor": 0,
              "model_id": "bc9e34de8fa94cad876c34f7253bc80e"
            }
          },
          "metadata": {}
        },
        {
          "output_type": "display_data",
          "data": {
            "text/plain": [
              "Downloading:   0%|          | 0.00/2.00 [00:00<?, ?B/s]"
            ],
            "application/vnd.jupyter.widget-view+json": {
              "version_major": 2,
              "version_minor": 0,
              "model_id": "56cb02e75f4f48fe8f92a5a66abcb5f4"
            }
          },
          "metadata": {}
        },
        {
          "output_type": "display_data",
          "data": {
            "text/plain": [
              "Downloading:   0%|          | 0.00/112 [00:00<?, ?B/s]"
            ],
            "application/vnd.jupyter.widget-view+json": {
              "version_major": 2,
              "version_minor": 0,
              "model_id": "dadde2fef5c54f3fbcbb2b1ace52d0a2"
            }
          },
          "metadata": {}
        },
        {
          "output_type": "display_data",
          "data": {
            "text/plain": [
              "Downloading:   0%|          | 0.00/418M [00:00<?, ?B/s]"
            ],
            "application/vnd.jupyter.widget-view+json": {
              "version_major": 2,
              "version_minor": 0,
              "model_id": "8a18167125ed4747aa3aef78c2d4307e"
            }
          },
          "metadata": {}
        },
        {
          "output_type": "stream",
          "name": "stderr",
          "text": [
            "Some weights of the model checkpoint at neuralmind/bert-base-portuguese-cased were not used when initializing BertForSequenceClassification: ['cls.predictions.transform.LayerNorm.bias', 'cls.seq_relationship.weight', 'cls.predictions.transform.dense.bias', 'cls.predictions.transform.LayerNorm.weight', 'cls.seq_relationship.bias', 'cls.predictions.bias', 'cls.predictions.transform.dense.weight', 'cls.predictions.decoder.weight']\n",
            "- This IS expected if you are initializing BertForSequenceClassification from the checkpoint of a model trained on another task or with another architecture (e.g. initializing a BertForSequenceClassification model from a BertForPreTraining model).\n",
            "- This IS NOT expected if you are initializing BertForSequenceClassification from the checkpoint of a model that you expect to be exactly identical (initializing a BertForSequenceClassification model from a BertForSequenceClassification model).\n",
            "Some weights of BertForSequenceClassification were not initialized from the model checkpoint at neuralmind/bert-base-portuguese-cased and are newly initialized: ['classifier.weight', 'classifier.bias']\n",
            "You should probably TRAIN this model on a down-stream task to be able to use it for predictions and inference.\n"
          ]
        }
      ],
      "source": [
        "MODELO_LOCAL = \"/content/drive/MyDrive/PUC/TCC/modelos/classificador_bertimbau\"\n",
        "MODELO_ORIGEM = \"neuralmind/bert-base-portuguese-cased\"\n",
        "\n",
        "# carrega tokenizador\n",
        "tokenizer = AutoTokenizer.from_pretrained(\n",
        "    MODELO_ORIGEM, \n",
        "    # não altera case, pois o modelo é case-sensitive\n",
        "    do_lower_case=False\n",
        ")\n",
        "# carrega pesos do modelo \"BERTimbau\"\n",
        "model_bert = AutoModelForSequenceClassification.from_pretrained(\n",
        "    MODELO_ORIGEM, \n",
        "    num_labels=2          # número de classes da classificação\n",
        ").to(device)   # coloca o modelo para rodar na GPU\n",
        "# configura otimizador com learning rate baixo\n",
        "optimizer = torch.optim.AdamW(model_bert.parameters(), lr = 1e-5)"
      ]
    },
    {
      "cell_type": "markdown",
      "source": [
        "### Tokeniza todos textos para acelerar o treino"
      ],
      "metadata": {
        "id": "WN7A3JOsSw4R"
      }
    },
    {
      "cell_type": "code",
      "source": [
        "campo_texto = 'texto_lematizado' #'texto_wordcloud_nomes_numeros'\n",
        "dados_token = dados[['classe', campo_texto]].copy()\n",
        "dados_token['TOKENS'] = dados_token[campo_texto].progress_apply(\n",
        "    lambda x: np.array(\n",
        "        tokenizer.encode(x, padding='max_length', \n",
        "                         truncation=True, max_length=300)))\n",
        "dados_token.rename(columns={'classe':'LABELS'}, inplace=True)"
      ],
      "metadata": {
        "id": "qb1k7REPUC5H",
        "outputId": "cac1315f-0235-41cc-9603-94588ee7d2f8",
        "colab": {
          "base_uri": "https://localhost:8080/",
          "height": 49,
          "referenced_widgets": [
            "2111e96e6017477a8bfbe1b45310f764",
            "4684d02dced942d58c6ccbfccc59b36b",
            "aed1939be16b4e17ba4d093972235fef",
            "68a17524352541a0a688d23dd2b07fe0",
            "d53d9b4118da442781705ef17e914947",
            "b35b0dd4e5fc4b8c9f49a6c914a4ec10",
            "56a517109030434ab7ae50f3bc04e199",
            "d21ad4a97ad04b938325fadcdba59164",
            "977450121ea94e4da3639da512767262",
            "b72c41f5988c462ab24e10c907592fb9",
            "644f3c7f2ad54332a7bd2df79654d684"
          ]
        }
      },
      "execution_count": null,
      "outputs": [
        {
          "output_type": "display_data",
          "data": {
            "text/plain": [
              "  0%|          | 0/6703 [00:00<?, ?it/s]"
            ],
            "application/vnd.jupyter.widget-view+json": {
              "version_major": 2,
              "version_minor": 0,
              "model_id": "2111e96e6017477a8bfbe1b45310f764"
            }
          },
          "metadata": {}
        }
      ]
    },
    {
      "cell_type": "markdown",
      "source": [
        "### Separa treino, validação e teste e gera datasets de tensoes"
      ],
      "metadata": {
        "id": "EVaxeU2PgdtQ"
      }
    },
    {
      "cell_type": "code",
      "source": [
        "# Separa 60% para treino, 20% para validação e 20% para teste\n",
        "dados_treino, dados_validacao, dados_teste = np.split(\n",
        "    dados_token.sample(frac=1), [\n",
        "      int(.6*len(dados_token)), \n",
        "      int(.8*len(dados_token))\n",
        "])\n",
        "lote_tamanho = 4\n",
        "lote_status = 32\n",
        "\n",
        "# gera dataset e leitor de dados de treino\n",
        "treino_dados = TensorDataset(\n",
        "    torch.tensor(np.array(dados_treino['TOKENS'].to_list())).to(device), \n",
        "    torch.tensor(np.array(dados_treino['LABELS'].values)).to(device))\n",
        "treino_leitor = DataLoader(treino_dados, batch_size=lote_tamanho, shuffle=True)\n",
        "\n",
        "# gera dataset e leitor de dados de validação\n",
        "validacao_dados = TensorDataset(\n",
        "    torch.tensor(np.array(dados_validacao['TOKENS'].to_list())).to(device), \n",
        "    torch.tensor(np.array(dados_validacao['LABELS'].values)).to(device))\n",
        "validacao_leitor = DataLoader(validacao_dados, batch_size=lote_tamanho, shuffle=True)\n",
        "\n",
        "# gera dataset e leitor de dados de validação\n",
        "teste_dados = TensorDataset(\n",
        "    torch.tensor(np.array(dados_teste['TOKENS'].to_list())).to(device), \n",
        "    torch.tensor(np.array(dados_teste['LABELS'].values)).to(device))\n",
        "teste_leitor = DataLoader(teste_dados, batch_size=lote_tamanho, shuffle=True)\n"
      ],
      "metadata": {
        "id": "H7FuPhXbZyBR"
      },
      "execution_count": null,
      "outputs": []
    },
    {
      "cell_type": "markdown",
      "source": [
        "### Método de Avaliação do Modelo"
      ],
      "metadata": {
        "id": "7MjqyRBBiW-M"
      }
    },
    {
      "cell_type": "code",
      "source": [
        "def avaliar_modelo(modelo, dados):\n",
        "  modelo.eval() # coloca o modelo em avaliação\n",
        "  classes_real, classes_pred = [], []\n",
        "  for idx_lote, lote in enumerate(dados):\n",
        "    # pega os dados do lote\n",
        "    lote_valores = lote[0].to(device)\n",
        "    lote_classes = lote[1].to(device)\n",
        "\n",
        "    # realiza predição\n",
        "    outputs = model_bert(lote_valores)    \n",
        "    # retorna indice de maior valor na predição\n",
        "    pred_classes = torch.argmax(outputs.logits, 1)\n",
        "    # salva retorno para medição\n",
        "    classes_real.extend(lote[1].tolist())\n",
        "    classes_pred.extend(pred_classes.tolist())\n",
        "\n",
        "  # Obtem f1, acurácia e loss da validação\n",
        "  f1 = f1_score(classes_real, classes_pred, average='weighted')\n",
        "  acuracia = accuracy_score(classes_real, classes_pred)\n",
        "  loss = mean_squared_error(classes_real, classes_pred)\n",
        "  return f1, acuracia, loss"
      ],
      "metadata": {
        "id": "rZFKmz8koAIO"
      },
      "execution_count": null,
      "outputs": []
    },
    {
      "cell_type": "markdown",
      "source": [
        "### Treinamento Completo"
      ],
      "metadata": {
        "id": "txAUAB30FgAH"
      }
    },
    {
      "cell_type": "code",
      "source": [
        "epocas = 5\n",
        "parar_treino = 2    \n",
        "max_f1, repetir_treino = 0, 0\n",
        "estatisticas = []\n",
        "inicio = time.time()\n",
        "\n",
        "for epoca in range(0, epocas):\n",
        "  f1, acc, _ = avaliar_modelo(model_bert, validacao_leitor)\n",
        "  model_bert.train()\n",
        "  losses = []\n",
        "  for idx_lote, lote in enumerate(treino_leitor):\n",
        "    # pega os dados do lote\n",
        "    lote_valores = lote[0].to(device)\n",
        "    lote_classes = lote[1].to(device)\n",
        "\n",
        "    # treina no lote atual\n",
        "    output = model_bert(lote_valores, labels=lote_classes)\n",
        "    # Salva o loss\n",
        "    loss = output.loss\n",
        "    losses.append(float(loss))\n",
        "    # Backpropagation\n",
        "    loss.backward()\n",
        "    optimizer.step()\n",
        "    optimizer.zero_grad()\n",
        "\n",
        "    # imprime processo\n",
        "    if (idx_lote+1) % (lote_status) == 0:\n",
        "      print(\"Época: {} [{}/{} ({:.0f}%)]\".format(epoca + 1, idx_lote+1, \\\n",
        "        len(treino_leitor), 100. * idx_lote / len(treino_leitor)) \\\n",
        "        + \"\\tLoss: {:.6f}\\tLoss Total: {:.6f}\".format(\n",
        "            float(loss) , round(sum(losses) / len(losses), 5)))\n",
        "  \n",
        "  print('Validando...')\n",
        "  f1, acc, losses_val = avaliar_modelo(model_bert, validacao_leitor)\n",
        "  print('F1: ', f1, 'Acurácia: ', acc, 'Loss: ', losses_val)\n",
        "\n",
        "  # grava as estatísticas por época.\n",
        "  estatisticas.append(\n",
        "      {\n",
        "          'epoca': epoca + 1,\n",
        "          'Loss de Treinamento': round(sum(losses) / len(losses), 5),\n",
        "          'Loss de Validação': round(losses_val, 5),\n",
        "          'F1': round(f1, 5),\n",
        "          'Acurácia de Validação': round(acc, 5)\n",
        "      }\n",
        "  )\n",
        "\n",
        "  if f1 > max_f1:\n",
        "    model_bert.save_pretrained(MODELO_LOCAL)\n",
        "    max_f1 = f1\n",
        "    repeat = 0\n",
        "    print('Salvando melhor modelo...')\n",
        "  else:\n",
        "    repetir_treino += 1\n",
        "  if repetir_treino == parar_treino:\n",
        "    break\n",
        "\n",
        "print(\"Tempo total do treino {:} (h:mm:ss)\".format(format_time(time.time()-inicio)))"
      ],
      "metadata": {
        "id": "ZgXnJjjDpGuJ",
        "outputId": "d61a62e2-f967-4bf2-8803-ae82b4583f06",
        "colab": {
          "base_uri": "https://localhost:8080/"
        }
      },
      "execution_count": null,
      "outputs": [
        {
          "output_type": "stream",
          "name": "stdout",
          "text": [
            "Progresso: 0.37 31\n",
            "Progresso: 0.75 63\n",
            "              precision    recall  f1-score   support\n",
            "\n",
            "   Confiável       0.55      0.02      0.04       318\n",
            "       Falso       0.53      0.99      0.69       352\n",
            "\n",
            "    accuracy                           0.53       670\n",
            "   macro avg       0.54      0.50      0.36       670\n",
            "weighted avg       0.54      0.53      0.38       670\n",
            "\n",
            "Época: 1 [32/587 (5%)]\tLoss: 0.608414\tLoss Total: 0.605600\n",
            "Época: 1 [64/587 (11%)]\tLoss: 0.276066\tLoss Total: 0.492780\n",
            "Época: 1 [96/587 (16%)]\tLoss: 0.376243\tLoss Total: 0.456270\n",
            "Época: 1 [128/587 (22%)]\tLoss: 0.365763\tLoss Total: 0.408370\n",
            "Época: 1 [160/587 (27%)]\tLoss: 0.044171\tLoss Total: 0.376700\n",
            "Época: 1 [192/587 (33%)]\tLoss: 0.427981\tLoss Total: 0.344780\n",
            "Época: 1 [224/587 (38%)]\tLoss: 0.049338\tLoss Total: 0.328520\n",
            "Época: 1 [256/587 (43%)]\tLoss: 0.084038\tLoss Total: 0.317670\n",
            "Época: 1 [288/587 (49%)]\tLoss: 0.270750\tLoss Total: 0.307670\n",
            "Época: 1 [320/587 (54%)]\tLoss: 0.026597\tLoss Total: 0.288930\n",
            "Época: 1 [352/587 (60%)]\tLoss: 0.161417\tLoss Total: 0.277790\n",
            "Época: 1 [384/587 (65%)]\tLoss: 0.358162\tLoss Total: 0.272570\n",
            "Época: 1 [416/587 (71%)]\tLoss: 0.445625\tLoss Total: 0.265430\n",
            "Época: 1 [448/587 (76%)]\tLoss: 0.031727\tLoss Total: 0.260610\n",
            "Época: 1 [480/587 (82%)]\tLoss: 0.027262\tLoss Total: 0.251300\n",
            "Época: 1 [512/587 (87%)]\tLoss: 0.030958\tLoss Total: 0.243380\n",
            "Época: 1 [544/587 (93%)]\tLoss: 0.120430\tLoss Total: 0.234650\n",
            "Época: 1 [576/587 (98%)]\tLoss: 0.012537\tLoss Total: 0.231350\n",
            "Progresso: 0.37 31\n",
            "Progresso: 0.75 63\n",
            "              precision    recall  f1-score   support\n",
            "\n",
            "   Confiável       0.95      0.96      0.95       318\n",
            "       Falso       0.97      0.95      0.96       352\n",
            "\n",
            "    accuracy                           0.96       670\n",
            "   macro avg       0.96      0.96      0.96       670\n",
            "weighted avg       0.96      0.96      0.96       670\n",
            "\n",
            "F1:  0.9567304252608257 Acurácia:  0.9567164179104478\n",
            "Salvando melhor modelo...\n",
            "Progresso: 0.37 31\n",
            "Progresso: 0.75 63\n",
            "              precision    recall  f1-score   support\n",
            "\n",
            "   Confiável       0.95      0.96      0.95       318\n",
            "       Falso       0.97      0.95      0.96       352\n",
            "\n",
            "    accuracy                           0.96       670\n",
            "   macro avg       0.96      0.96      0.96       670\n",
            "weighted avg       0.96      0.96      0.96       670\n",
            "\n",
            "Época: 2 [32/587 (5%)]\tLoss: 0.023124\tLoss Total: 0.159290\n",
            "Época: 2 [64/587 (11%)]\tLoss: 0.021048\tLoss Total: 0.120420\n",
            "Época: 2 [96/587 (16%)]\tLoss: 0.082266\tLoss Total: 0.113560\n",
            "Época: 2 [128/587 (22%)]\tLoss: 0.010893\tLoss Total: 0.102370\n",
            "Época: 2 [160/587 (27%)]\tLoss: 0.007058\tLoss Total: 0.105050\n",
            "Época: 2 [192/587 (33%)]\tLoss: 0.030457\tLoss Total: 0.114280\n",
            "Época: 2 [224/587 (38%)]\tLoss: 0.168430\tLoss Total: 0.114370\n",
            "Época: 2 [256/587 (43%)]\tLoss: 0.010863\tLoss Total: 0.109510\n",
            "Época: 2 [288/587 (49%)]\tLoss: 0.152362\tLoss Total: 0.107060\n",
            "Época: 2 [320/587 (54%)]\tLoss: 0.011234\tLoss Total: 0.101980\n",
            "Época: 2 [352/587 (60%)]\tLoss: 0.013355\tLoss Total: 0.100050\n",
            "Época: 2 [384/587 (65%)]\tLoss: 0.139929\tLoss Total: 0.100690\n",
            "Época: 2 [416/587 (71%)]\tLoss: 0.072496\tLoss Total: 0.099680\n",
            "Época: 2 [448/587 (76%)]\tLoss: 0.007817\tLoss Total: 0.096010\n",
            "Época: 2 [480/587 (82%)]\tLoss: 0.020112\tLoss Total: 0.093910\n",
            "Época: 2 [512/587 (87%)]\tLoss: 0.009774\tLoss Total: 0.092120\n",
            "Época: 2 [544/587 (93%)]\tLoss: 0.010894\tLoss Total: 0.090570\n",
            "Época: 2 [576/587 (98%)]\tLoss: 0.015397\tLoss Total: 0.090200\n",
            "Progresso: 0.37 31\n",
            "Progresso: 0.75 63\n",
            "              precision    recall  f1-score   support\n",
            "\n",
            "   Confiável       0.98      0.96      0.97       318\n",
            "       Falso       0.96      0.98      0.97       352\n",
            "\n",
            "    accuracy                           0.97       670\n",
            "   macro avg       0.97      0.97      0.97       670\n",
            "weighted avg       0.97      0.97      0.97       670\n",
            "\n",
            "F1:  0.9686366020614361 Acurácia:  0.9686567164179104\n",
            "Salvando melhor modelo...\n",
            "Progresso: 0.37 31\n",
            "Progresso: 0.75 63\n",
            "              precision    recall  f1-score   support\n",
            "\n",
            "   Confiável       0.98      0.96      0.97       318\n",
            "       Falso       0.96      0.98      0.97       352\n",
            "\n",
            "    accuracy                           0.97       670\n",
            "   macro avg       0.97      0.97      0.97       670\n",
            "weighted avg       0.97      0.97      0.97       670\n",
            "\n",
            "Época: 3 [32/587 (5%)]\tLoss: 0.004374\tLoss Total: 0.016310\n",
            "Época: 3 [64/587 (11%)]\tLoss: 0.009719\tLoss Total: 0.012480\n",
            "Época: 3 [96/587 (16%)]\tLoss: 0.002663\tLoss Total: 0.016790\n",
            "Época: 3 [128/587 (22%)]\tLoss: 0.304611\tLoss Total: 0.027750\n",
            "Época: 3 [160/587 (27%)]\tLoss: 0.003847\tLoss Total: 0.027250\n",
            "Época: 3 [192/587 (33%)]\tLoss: 0.005254\tLoss Total: 0.029180\n",
            "Época: 3 [224/587 (38%)]\tLoss: 0.003741\tLoss Total: 0.027590\n",
            "Época: 3 [256/587 (43%)]\tLoss: 0.007195\tLoss Total: 0.029140\n",
            "Época: 3 [288/587 (49%)]\tLoss: 0.012327\tLoss Total: 0.032170\n",
            "Época: 3 [320/587 (54%)]\tLoss: 0.008241\tLoss Total: 0.036080\n",
            "Época: 3 [352/587 (60%)]\tLoss: 0.060127\tLoss Total: 0.038990\n",
            "Época: 3 [384/587 (65%)]\tLoss: 0.005867\tLoss Total: 0.037750\n",
            "Época: 3 [416/587 (71%)]\tLoss: 0.002913\tLoss Total: 0.039420\n",
            "Época: 3 [448/587 (76%)]\tLoss: 0.359871\tLoss Total: 0.039180\n",
            "Época: 3 [480/587 (82%)]\tLoss: 0.005520\tLoss Total: 0.041210\n",
            "Época: 3 [512/587 (87%)]\tLoss: 0.074533\tLoss Total: 0.041770\n",
            "Época: 3 [544/587 (93%)]\tLoss: 0.003009\tLoss Total: 0.041310\n",
            "Época: 3 [576/587 (98%)]\tLoss: 0.002031\tLoss Total: 0.039590\n",
            "Progresso: 0.37 31\n",
            "Progresso: 0.75 63\n",
            "              precision    recall  f1-score   support\n",
            "\n",
            "   Confiável       0.98      0.97      0.97       318\n",
            "       Falso       0.97      0.98      0.98       352\n",
            "\n",
            "    accuracy                           0.98       670\n",
            "   macro avg       0.98      0.98      0.98       670\n",
            "weighted avg       0.98      0.98      0.98       670\n",
            "\n",
            "F1:  0.9761155616365054 Acurácia:  0.9761194029850746\n",
            "Salvando melhor modelo...\n",
            "Progresso: 0.37 31\n",
            "Progresso: 0.75 63\n",
            "              precision    recall  f1-score   support\n",
            "\n",
            "   Confiável       0.98      0.97      0.97       318\n",
            "       Falso       0.97      0.98      0.98       352\n",
            "\n",
            "    accuracy                           0.98       670\n",
            "   macro avg       0.98      0.98      0.98       670\n",
            "weighted avg       0.98      0.98      0.98       670\n",
            "\n",
            "Época: 4 [32/587 (5%)]\tLoss: 0.010099\tLoss Total: 0.036440\n",
            "Época: 4 [64/587 (11%)]\tLoss: 0.001586\tLoss Total: 0.020500\n",
            "Época: 4 [96/587 (16%)]\tLoss: 0.002400\tLoss Total: 0.016770\n",
            "Época: 4 [128/587 (22%)]\tLoss: 0.004092\tLoss Total: 0.013670\n",
            "Época: 4 [160/587 (27%)]\tLoss: 0.001707\tLoss Total: 0.011510\n",
            "Época: 4 [192/587 (33%)]\tLoss: 0.004866\tLoss Total: 0.014330\n",
            "Época: 4 [224/587 (38%)]\tLoss: 0.001409\tLoss Total: 0.013840\n",
            "Época: 4 [256/587 (43%)]\tLoss: 0.001972\tLoss Total: 0.012430\n",
            "Época: 4 [288/587 (49%)]\tLoss: 0.001924\tLoss Total: 0.011460\n",
            "Época: 4 [320/587 (54%)]\tLoss: 0.071652\tLoss Total: 0.012830\n",
            "Época: 4 [352/587 (60%)]\tLoss: 0.041050\tLoss Total: 0.014570\n",
            "Época: 4 [384/587 (65%)]\tLoss: 0.665998\tLoss Total: 0.018920\n",
            "Época: 4 [416/587 (71%)]\tLoss: 0.279159\tLoss Total: 0.025110\n",
            "Época: 4 [448/587 (76%)]\tLoss: 0.005306\tLoss Total: 0.025970\n",
            "Época: 4 [480/587 (82%)]\tLoss: 0.013801\tLoss Total: 0.026200\n",
            "Época: 4 [512/587 (87%)]\tLoss: 0.062275\tLoss Total: 0.025010\n",
            "Época: 4 [544/587 (93%)]\tLoss: 0.038334\tLoss Total: 0.027350\n",
            "Época: 4 [576/587 (98%)]\tLoss: 0.013231\tLoss Total: 0.028760\n",
            "Progresso: 0.37 31\n",
            "Progresso: 0.75 63\n",
            "              precision    recall  f1-score   support\n",
            "\n",
            "   Confiável       0.93      0.98      0.96       318\n",
            "       Falso       0.98      0.93      0.96       352\n",
            "\n",
            "    accuracy                           0.96       670\n",
            "   macro avg       0.96      0.96      0.96       670\n",
            "weighted avg       0.96      0.96      0.96       670\n",
            "\n",
            "F1:  0.9567439118000015 Acurácia:  0.9567164179104478\n",
            "Progresso: 0.37 31\n",
            "Progresso: 0.75 63\n",
            "              precision    recall  f1-score   support\n",
            "\n",
            "   Confiável       0.93      0.98      0.96       318\n",
            "       Falso       0.98      0.93      0.96       352\n",
            "\n",
            "    accuracy                           0.96       670\n",
            "   macro avg       0.96      0.96      0.96       670\n",
            "weighted avg       0.96      0.96      0.96       670\n",
            "\n",
            "Época: 5 [32/587 (5%)]\tLoss: 0.002672\tLoss Total: 0.058410\n",
            "Época: 5 [64/587 (11%)]\tLoss: 0.012332\tLoss Total: 0.039300\n",
            "Época: 5 [96/587 (16%)]\tLoss: 0.003754\tLoss Total: 0.028530\n",
            "Época: 5 [128/587 (22%)]\tLoss: 0.009826\tLoss Total: 0.024920\n",
            "Época: 5 [160/587 (27%)]\tLoss: 0.034338\tLoss Total: 0.025000\n",
            "Época: 5 [192/587 (33%)]\tLoss: 0.004497\tLoss Total: 0.022370\n",
            "Época: 5 [224/587 (38%)]\tLoss: 0.031189\tLoss Total: 0.020000\n",
            "Época: 5 [256/587 (43%)]\tLoss: 0.001634\tLoss Total: 0.019900\n",
            "Época: 5 [288/587 (49%)]\tLoss: 0.001458\tLoss Total: 0.018000\n",
            "Época: 5 [320/587 (54%)]\tLoss: 0.005991\tLoss Total: 0.016460\n",
            "Época: 5 [352/587 (60%)]\tLoss: 0.000977\tLoss Total: 0.015110\n",
            "Época: 5 [384/587 (65%)]\tLoss: 0.001167\tLoss Total: 0.016340\n",
            "Época: 5 [416/587 (71%)]\tLoss: 0.001584\tLoss Total: 0.016200\n",
            "Época: 5 [448/587 (76%)]\tLoss: 0.005768\tLoss Total: 0.015910\n",
            "Época: 5 [480/587 (82%)]\tLoss: 0.001025\tLoss Total: 0.016140\n",
            "Época: 5 [512/587 (87%)]\tLoss: 0.006806\tLoss Total: 0.017780\n",
            "Época: 5 [544/587 (93%)]\tLoss: 0.001016\tLoss Total: 0.018880\n",
            "Época: 5 [576/587 (98%)]\tLoss: 0.002158\tLoss Total: 0.018130\n",
            "Progresso: 0.37 31\n",
            "Progresso: 0.75 63\n",
            "              precision    recall  f1-score   support\n",
            "\n",
            "   Confiável       0.96      0.98      0.97       318\n",
            "       Falso       0.98      0.97      0.97       352\n",
            "\n",
            "    accuracy                           0.97       670\n",
            "   macro avg       0.97      0.97      0.97       670\n",
            "weighted avg       0.97      0.97      0.97       670\n",
            "\n",
            "F1:  0.9731444003771412 Acurácia:  0.9731343283582089\n",
            "Tempo total do treino 0:07:56 (h:mm:ss)\n"
          ]
        }
      ]
    },
    {
      "cell_type": "markdown",
      "source": [
        "### Teste do Modelo tunado"
      ],
      "metadata": {
        "id": "ZNBk7HKMrwaj"
      }
    },
    {
      "cell_type": "code",
      "source": [
        "classes_previstas , classes_verdadeiras = [], []\n",
        "\n",
        "for lote in teste_leitor:\n",
        "    # coloca o lote na GPUS\n",
        "    lote = tuple(t.to(device) for t in lote)\n",
        "    lote_valores, lote_classes = lote\n",
        "    with torch.no_grad():\n",
        "        outputs = model_bert(lote_valores)\n",
        "\n",
        "    # Adiciona as prediões e as classes para a CPU\n",
        "    outputs = outputs.logits.detach().cpu().numpy()\n",
        "    classes = lote_classes.to('cpu').numpy()\n",
        "\n",
        "    # Salva as predições e as classes corretos\n",
        "    classes_previstas.append(outputs)\n",
        "    classes_verdadeiras.append(classes) \n",
        "\n",
        "# prepara resultado\n",
        "lista_previsoes = np.concatenate(classes_previstas, axis=0)\n",
        "lista_previsoes = np.argmax(lista_previsoes, axis=1).flatten()\n",
        "lista_classes_verdadeiras = np.concatenate(classes_verdadeiras, axis=0)"
      ],
      "metadata": {
        "id": "SGtx0zzarme0"
      },
      "execution_count": null,
      "outputs": []
    },
    {
      "cell_type": "markdown",
      "metadata": {
        "id": "Hgk3AvF_QfiL"
      },
      "source": [
        "### Relatório de classificação"
      ]
    },
    {
      "cell_type": "code",
      "execution_count": null,
      "metadata": {
        "colab": {
          "base_uri": "https://localhost:8080/"
        },
        "id": "xV9buFKaQZPt",
        "outputId": "5706844c-9256-448c-973b-989abec6bb44"
      },
      "outputs": [
        {
          "output_type": "stream",
          "name": "stdout",
          "text": [
            "              precision    recall  f1-score   support\n",
            "\n",
            "   confiável       0.97      0.98      0.97       650\n",
            "       falso       0.98      0.97      0.97       691\n",
            "\n",
            "    accuracy                           0.97      1341\n",
            "   macro avg       0.97      0.97      0.97      1341\n",
            "weighted avg       0.97      0.97      0.97      1341\n",
            "\n"
          ]
        }
      ],
      "source": [
        "print(classification_report(lista_classes_verdadeiras, lista_previsoes,target_names=['confiável','falso']))"
      ]
    },
    {
      "cell_type": "markdown",
      "metadata": {
        "id": "8NDl-wTARPK_"
      },
      "source": [
        "### Gráfico da Acurácia"
      ]
    },
    {
      "cell_type": "code",
      "execution_count": null,
      "metadata": {
        "colab": {
          "base_uri": "https://localhost:8080/"
        },
        "id": "8OvFJDKhRPnL",
        "outputId": "f95f71e5-8f4e-4de5-b552-15e1e645ffb0"
      },
      "outputs": [
        {
          "output_type": "stream",
          "name": "stdout",
          "text": [
            "0.9731543624161074\n"
          ]
        }
      ],
      "source": [
        "print(accuracy_score(lista_classes_verdadeiras, lista_previsoes))"
      ]
    },
    {
      "cell_type": "markdown",
      "metadata": {
        "id": "VSwGnmkSRWih"
      },
      "source": [
        "### Matriz de confusão"
      ]
    },
    {
      "cell_type": "code",
      "execution_count": null,
      "metadata": {
        "colab": {
          "base_uri": "https://localhost:8080/",
          "height": 340
        },
        "id": "oxyqsf-xRYIt",
        "outputId": "4f81a55c-1608-4f8d-e2b5-bc886afc3fda"
      },
      "outputs": [
        {
          "output_type": "stream",
          "name": "stdout",
          "text": [
            "[[634  16]\n",
            " [ 20 671]]\n"
          ]
        },
        {
          "output_type": "execute_result",
          "data": {
            "text/plain": [
              "<sklearn.metrics._plot.confusion_matrix.ConfusionMatrixDisplay at 0x7fbef60d6050>"
            ]
          },
          "metadata": {},
          "execution_count": 18
        },
        {
          "output_type": "display_data",
          "data": {
            "text/plain": [
              "<Figure size 432x288 with 2 Axes>"
            ],
            "image/png": "[encoded data removed]"
          },
          "metadata": {}
        }
      ],
      "source": [
        "conf = confusion_matrix(lista_classes_verdadeiras, lista_previsoes)\n",
        "print(conf)\n",
        "cmd = ConfusionMatrixDisplay(conf, display_labels=['confiável','falso'])\n",
        "cmd.plot()"
      ]
    },
    {
      "cell_type": "markdown",
      "source": [
        "### Curva ROC\n",
        "Receiver Operating Characteristic Curve"
      ],
      "metadata": {
        "id": "PfO0SkfQqp-Q"
      }
    },
    {
      "cell_type": "code",
      "source": [
        "fpr, tpr, _ = roc_curve(lista_classes_verdadeiras, lista_previsoes)\n",
        "roc_auc = auc(fpr, tpr)\n",
        "\n",
        "plt.figure()\n",
        "lw = 2\n",
        "plt.plot(fpr, tpr, color='darkorange',\n",
        "         lw=lw, label='Curva ROC (área = %0.2f)' % roc_auc)\n",
        "plt.plot([0, 1], [0, 1], color='navy', lw=lw, linestyle='--')\n",
        "plt.xlim([0.0, 1.0])\n",
        "plt.ylim([0.0, 1.05])\n",
        "plt.xlabel('Taxa Falso Positivo')\n",
        "plt.ylabel('Taxa Positive Real')\n",
        "plt.title('Receiver Operating Characteristic')\n",
        "plt.legend(loc=\"lower right\")\n",
        "plt.show()"
      ],
      "metadata": {
        "id": "D9U8P0cdqhe7",
        "outputId": "61419fe8-8555-468f-81d5-d5eccbc55521",
        "colab": {
          "base_uri": "https://localhost:8080/",
          "height": 245
        }
      },
      "execution_count": 3,
      "outputs": [
        {
          "output_type": "error",
          "ename": "NameError",
          "evalue": "ignored",
          "traceback": [
            "\u001b[0;31m---------------------------------------------------------------------------\u001b[0m",
            "\u001b[0;31mNameError\u001b[0m                                 Traceback (most recent call last)",
            "\u001b[0;32m<ipython-input-3-df5481af2249>\u001b[0m in \u001b[0;36m<module>\u001b[0;34m()\u001b[0m\n\u001b[0;32m----> 1\u001b[0;31m \u001b[0mfpr\u001b[0m\u001b[0;34m,\u001b[0m \u001b[0mtpr\u001b[0m\u001b[0;34m,\u001b[0m \u001b[0m_\u001b[0m \u001b[0;34m=\u001b[0m \u001b[0mroc_curve\u001b[0m\u001b[0;34m(\u001b[0m\u001b[0mlista_classes_verdadeiras\u001b[0m\u001b[0;34m,\u001b[0m \u001b[0mlista_previsoes\u001b[0m\u001b[0;34m)\u001b[0m\u001b[0;34m\u001b[0m\u001b[0;34m\u001b[0m\u001b[0m\n\u001b[0m\u001b[1;32m      2\u001b[0m \u001b[0mroc_auc\u001b[0m \u001b[0;34m=\u001b[0m \u001b[0mauc\u001b[0m\u001b[0;34m(\u001b[0m\u001b[0mfpr\u001b[0m\u001b[0;34m,\u001b[0m \u001b[0mtpr\u001b[0m\u001b[0;34m)\u001b[0m\u001b[0;34m\u001b[0m\u001b[0;34m\u001b[0m\u001b[0m\n\u001b[1;32m      3\u001b[0m \u001b[0;34m\u001b[0m\u001b[0m\n\u001b[1;32m      4\u001b[0m \u001b[0mplt\u001b[0m\u001b[0;34m.\u001b[0m\u001b[0mfigure\u001b[0m\u001b[0;34m(\u001b[0m\u001b[0;34m)\u001b[0m\u001b[0;34m\u001b[0m\u001b[0;34m\u001b[0m\u001b[0m\n\u001b[1;32m      5\u001b[0m \u001b[0mlw\u001b[0m \u001b[0;34m=\u001b[0m \u001b[0;36m2\u001b[0m\u001b[0;34m\u001b[0m\u001b[0;34m\u001b[0m\u001b[0m\n",
            "\u001b[0;31mNameError\u001b[0m: name 'roc_curve' is not defined"
          ]
        }
      ]
    },
    {
      "cell_type": "markdown",
      "metadata": {
        "id": "ZsP7h_bYRfOn"
      },
      "source": [
        "### Gera as estatísticas do treino"
      ]
    },
    {
      "cell_type": "code",
      "execution_count": null,
      "metadata": {
        "id": "CF9E0G2jRkUf"
      },
      "outputs": [],
      "source": [
        "# Cria um dataframe das estatísticas\n",
        "pd.set_option('precision', 3)\n",
        "df_estatisticas = pd.DataFrame(data=estatisticas)\n",
        "df_estatisticas = df_estatisticas.set_index('epoca')"
      ]
    },
    {
      "cell_type": "markdown",
      "metadata": {
        "id": "McJfNhcNRvMV"
      },
      "source": [
        "### Curva de aprendizado"
      ]
    },
    {
      "cell_type": "code",
      "execution_count": null,
      "metadata": {
        "colab": {
          "base_uri": "https://localhost:8080/",
          "height": 302
        },
        "id": "vL6_52WnRqxf",
        "outputId": "f900c5e3-7016-4e81-8a39-58966a2bad46"
      },
      "outputs": [
        {
          "output_type": "display_data",
          "data": {
            "text/plain": [
              "<Figure size 432x288 with 1 Axes>"
            ],
            "image/png": "[encoded data removed]"
          },
          "metadata": {}
        }
      ],
      "source": [
        "plt.figure()\n",
        "# Mostra curva de aprendizado.\n",
        "plt.plot(df_estatisticas['Loss de Treinamento'], 'b-o', label=\"Treinamento\")\n",
        "plt.plot(df_estatisticas['Loss de Validação'], 'g-o', label=\"Validação\")\n",
        "plt.title(\"Loss de Treinamento vs Validação\")\n",
        "plt.xlabel(\"Época\")\n",
        "plt.ylabel(\"Loss\")\n",
        "plt.legend()\n",
        "plt.xticks([1, 2, 3, 4, 5])\n",
        "plt.show()"
      ]
    },
    {
      "cell_type": "markdown",
      "metadata": {
        "id": "dvJb4GhoRx_P"
      },
      "source": [
        "### Acurácia"
      ]
    },
    {
      "cell_type": "code",
      "execution_count": null,
      "metadata": {
        "colab": {
          "base_uri": "https://localhost:8080/",
          "height": 302
        },
        "id": "EknVQrBHR3a3",
        "outputId": "e0410a9c-d19d-46cc-c303-03c3c237d9bd"
      },
      "outputs": [
        {
          "output_type": "display_data",
          "data": {
            "text/plain": [
              "<Figure size 432x288 with 1 Axes>"
            ],
            "image/png": "[encoded data removed]"
          },
          "metadata": {}
        }
      ],
      "source": [
        "plt.figure()\n",
        "plt.plot(df_estatisticas['Acurácia de Validação'], 'g-o', label=\"Validação\")\n",
        "plt.title(\"Acurácia de Validação\")\n",
        "plt.xlabel(\"Época\")\n",
        "plt.ylabel(\"Acurácia\")\n",
        "plt.legend(loc=\"lower right\")\n",
        "plt.xticks([1, 2, 3, 4, 5])\n",
        "plt.show()"
      ]
    }
  ],
  "metadata": {
    "accelerator": "GPU",
    "colab": {
      "collapsed_sections": [],
      "machine_shape": "hm",
      "name": "classificacao_passo02_treino_avaliacao.ipynb",
      "provenance": [],
      "background_execution": "on",
      "include_colab_link": true
    },
    "kernelspec": {
      "display_name": "Python 3",
      "name": "python3"
    },
    "language_info": {
      "codemirror_mode": {
        "name": "ipython",
        "version": 3
      },
      "file_extension": ".py",
      "mimetype": "text/x-python",
      "name": "python",
      "nbconvert_exporter": "python",
      "pygments_lexer": "ipython3",
      "version": "3.8.13"
    },
    "widgets": {
      "application/vnd.jupyter.widget-state+json": {
        "6c1fc0c5f17d4d768820fad4330e7b16": {
          "model_module": "@jupyter-widgets/controls",
          "model_name": "HBoxModel",
          "model_module_version": "1.5.0",
          "state": {
            "_dom_classes": [],
            "_model_module": "@jupyter-widgets/controls",
            "_model_module_version": "1.5.0",
            "_model_name": "HBoxModel",
            "_view_count": null,
            "_view_module": "@jupyter-widgets/controls",
            "_view_module_version": "1.5.0",
            "_view_name": "HBoxView",
            "box_style": "",
            "children": [
              "IPY_MODEL_430f5349294d462faf2670b7c95b3323",
              "IPY_MODEL_73da31a19e1b442d82942c8a2d786f88",
              "IPY_MODEL_f722ac3ea76a4f1ea72607b3c0054e13"
            ],
            "layout": "IPY_MODEL_36c35c6c96cf4b3eb0800dc96b30c9fd"
          }
        },
        "430f5349294d462faf2670b7c95b3323": {
          "model_module": "@jupyter-widgets/controls",
          "model_name": "HTMLModel",
          "model_module_version": "1.5.0",
          "state": {
            "_dom_classes": [],
            "_model_module": "@jupyter-widgets/controls",
            "_model_module_version": "1.5.0",
            "_model_name": "HTMLModel",
            "_view_count": null,
            "_view_module": "@jupyter-widgets/controls",
            "_view_module_version": "1.5.0",
            "_view_name": "HTMLView",
            "description": "",
            "description_tooltip": null,
            "layout": "IPY_MODEL_b4ad10f6d9ba4faaae6ea7aeaa10021d",
            "placeholder": "​",
            "style": "IPY_MODEL_8f3f31c334d6411ca9ce7673ecd77d0a",
            "value": "Downloading: 100%"
          }
        },
        "73da31a19e1b442d82942c8a2d786f88": {
          "model_module": "@jupyter-widgets/controls",
          "model_name": "FloatProgressModel",
          "model_module_version": "1.5.0",
          "state": {
            "_dom_classes": [],
            "_model_module": "@jupyter-widgets/controls",
            "_model_module_version": "1.5.0",
            "_model_name": "FloatProgressModel",
            "_view_count": null,
            "_view_module": "@jupyter-widgets/controls",
            "_view_module_version": "1.5.0",
            "_view_name": "ProgressView",
            "bar_style": "success",
            "description": "",
            "description_tooltip": null,
            "layout": "IPY_MODEL_76d6b93a610343c09dd2d4bd617473ce",
            "max": 43,
            "min": 0,
            "orientation": "horizontal",
            "style": "IPY_MODEL_902f46686b7346f985fb35160cbc985a",
            "value": 43
          }
        },
        "f722ac3ea76a4f1ea72607b3c0054e13": {
          "model_module": "@jupyter-widgets/controls",
          "model_name": "HTMLModel",
          "model_module_version": "1.5.0",
          "state": {
            "_dom_classes": [],
            "_model_module": "@jupyter-widgets/controls",
            "_model_module_version": "1.5.0",
            "_model_name": "HTMLModel",
            "_view_count": null,
            "_view_module": "@jupyter-widgets/controls",
            "_view_module_version": "1.5.0",
            "_view_name": "HTMLView",
            "description": "",
            "description_tooltip": null,
            "layout": "IPY_MODEL_4e7f2566442441c1bcb3d273cbb40dbc",
            "placeholder": "​",
            "style": "IPY_MODEL_1f3fa25374344bc2a4fce0ed797ebd88",
            "value": " 43.0/43.0 [00:00&lt;00:00, 1.10kB/s]"
          }
        },
        "36c35c6c96cf4b3eb0800dc96b30c9fd": {
          "model_module": "@jupyter-widgets/base",
          "model_name": "LayoutModel",
          "model_module_version": "1.2.0",
          "state": {
            "_model_module": "@jupyter-widgets/base",
            "_model_module_version": "1.2.0",
            "_model_name": "LayoutModel",
            "_view_count": null,
            "_view_module": "@jupyter-widgets/base",
            "_view_module_version": "1.2.0",
            "_view_name": "LayoutView",
            "align_content": null,
            "align_items": null,
            "align_self": null,
            "border": null,
            "bottom": null,
            "display": null,
            "flex": null,
            "flex_flow": null,
            "grid_area": null,
            "grid_auto_columns": null,
            "grid_auto_flow": null,
            "grid_auto_rows": null,
            "grid_column": null,
            "grid_gap": null,
            "grid_row": null,
            "grid_template_areas": null,
            "grid_template_columns": null,
            "grid_template_rows": null,
            "height": null,
            "justify_content": null,
            "justify_items": null,
            "left": null,
            "margin": null,
            "max_height": null,
            "max_width": null,
            "min_height": null,
            "min_width": null,
            "object_fit": null,
            "object_position": null,
            "order": null,
            "overflow": null,
            "overflow_x": null,
            "overflow_y": null,
            "padding": null,
            "right": null,
            "top": null,
            "visibility": null,
            "width": null
          }
        },
        "b4ad10f6d9ba4faaae6ea7aeaa10021d": {
          "model_module": "@jupyter-widgets/base",
          "model_name": "LayoutModel",
          "model_module_version": "1.2.0",
          "state": {
            "_model_module": "@jupyter-widgets/base",
            "_model_module_version": "1.2.0",
            "_model_name": "LayoutModel",
            "_view_count": null,
            "_view_module": "@jupyter-widgets/base",
            "_view_module_version": "1.2.0",
            "_view_name": "LayoutView",
            "align_content": null,
            "align_items": null,
            "align_self": null,
            "border": null,
            "bottom": null,
            "display": null,
            "flex": null,
            "flex_flow": null,
            "grid_area": null,
            "grid_auto_columns": null,
            "grid_auto_flow": null,
            "grid_auto_rows": null,
            "grid_column": null,
            "grid_gap": null,
            "grid_row": null,
            "grid_template_areas": null,
            "grid_template_columns": null,
            "grid_template_rows": null,
            "height": null,
            "justify_content": null,
            "justify_items": null,
            "left": null,
            "margin": null,
            "max_height": null,
            "max_width": null,
            "min_height": null,
            "min_width": null,
            "object_fit": null,
            "object_position": null,
            "order": null,
            "overflow": null,
            "overflow_x": null,
            "overflow_y": null,
            "padding": null,
            "right": null,
            "top": null,
            "visibility": null,
            "width": null
          }
        },
        "8f3f31c334d6411ca9ce7673ecd77d0a": {
          "model_module": "@jupyter-widgets/controls",
          "model_name": "DescriptionStyleModel",
          "model_module_version": "1.5.0",
          "state": {
            "_model_module": "@jupyter-widgets/controls",
            "_model_module_version": "1.5.0",
            "_model_name": "DescriptionStyleModel",
            "_view_count": null,
            "_view_module": "@jupyter-widgets/base",
            "_view_module_version": "1.2.0",
            "_view_name": "StyleView",
            "description_width": ""
          }
        },
        "76d6b93a610343c09dd2d4bd617473ce": {
          "model_module": "@jupyter-widgets/base",
          "model_name": "LayoutModel",
          "model_module_version": "1.2.0",
          "state": {
            "_model_module": "@jupyter-widgets/base",
            "_model_module_version": "1.2.0",
            "_model_name": "LayoutModel",
            "_view_count": null,
            "_view_module": "@jupyter-widgets/base",
            "_view_module_version": "1.2.0",
            "_view_name": "LayoutView",
            "align_content": null,
            "align_items": null,
            "align_self": null,
            "border": null,
            "bottom": null,
            "display": null,
            "flex": null,
            "flex_flow": null,
            "grid_area": null,
            "grid_auto_columns": null,
            "grid_auto_flow": null,
            "grid_auto_rows": null,
            "grid_column": null,
            "grid_gap": null,
            "grid_row": null,
            "grid_template_areas": null,
            "grid_template_columns": null,
            "grid_template_rows": null,
            "height": null,
            "justify_content": null,
            "justify_items": null,
            "left": null,
            "margin": null,
            "max_height": null,
            "max_width": null,
            "min_height": null,
            "min_width": null,
            "object_fit": null,
            "object_position": null,
            "order": null,
            "overflow": null,
            "overflow_x": null,
            "overflow_y": null,
            "padding": null,
            "right": null,
            "top": null,
            "visibility": null,
            "width": null
          }
        },
        "902f46686b7346f985fb35160cbc985a": {
          "model_module": "@jupyter-widgets/controls",
          "model_name": "ProgressStyleModel",
          "model_module_version": "1.5.0",
          "state": {
            "_model_module": "@jupyter-widgets/controls",
            "_model_module_version": "1.5.0",
            "_model_name": "ProgressStyleModel",
            "_view_count": null,
            "_view_module": "@jupyter-widgets/base",
            "_view_module_version": "1.2.0",
            "_view_name": "StyleView",
            "bar_color": null,
            "description_width": ""
          }
        },
        "4e7f2566442441c1bcb3d273cbb40dbc": {
          "model_module": "@jupyter-widgets/base",
          "model_name": "LayoutModel",
          "model_module_version": "1.2.0",
          "state": {
            "_model_module": "@jupyter-widgets/base",
            "_model_module_version": "1.2.0",
            "_model_name": "LayoutModel",
            "_view_count": null,
            "_view_module": "@jupyter-widgets/base",
            "_view_module_version": "1.2.0",
            "_view_name": "LayoutView",
            "align_content": null,
            "align_items": null,
            "align_self": null,
            "border": null,
            "bottom": null,
            "display": null,
            "flex": null,
            "flex_flow": null,
            "grid_area": null,
            "grid_auto_columns": null,
            "grid_auto_flow": null,
            "grid_auto_rows": null,
            "grid_column": null,
            "grid_gap": null,
            "grid_row": null,
            "grid_template_areas": null,
            "grid_template_columns": null,
            "grid_template_rows": null,
            "height": null,
            "justify_content": null,
            "justify_items": null,
            "left": null,
            "margin": null,
            "max_height": null,
            "max_width": null,
            "min_height": null,
            "min_width": null,
            "object_fit": null,
            "object_position": null,
            "order": null,
            "overflow": null,
            "overflow_x": null,
            "overflow_y": null,
            "padding": null,
            "right": null,
            "top": null,
            "visibility": null,
            "width": null
          }
        },
        "1f3fa25374344bc2a4fce0ed797ebd88": {
          "model_module": "@jupyter-widgets/controls",
          "model_name": "DescriptionStyleModel",
          "model_module_version": "1.5.0",
          "state": {
            "_model_module": "@jupyter-widgets/controls",
            "_model_module_version": "1.5.0",
            "_model_name": "DescriptionStyleModel",
            "_view_count": null,
            "_view_module": "@jupyter-widgets/base",
            "_view_module_version": "1.2.0",
            "_view_name": "StyleView",
            "description_width": ""
          }
        },
        "67b1db4aa3d14f56b68d5947ef326b24": {
          "model_module": "@jupyter-widgets/controls",
          "model_name": "HBoxModel",
          "model_module_version": "1.5.0",
          "state": {
            "_dom_classes": [],
            "_model_module": "@jupyter-widgets/controls",
            "_model_module_version": "1.5.0",
            "_model_name": "HBoxModel",
            "_view_count": null,
            "_view_module": "@jupyter-widgets/controls",
            "_view_module_version": "1.5.0",
            "_view_name": "HBoxView",
            "box_style": "",
            "children": [
              "IPY_MODEL_70c380f265d543da808393c5bd8429c2",
              "IPY_MODEL_d347b9f37b914a389e5c35a5b6ef2bca",
              "IPY_MODEL_3672e20cece9406ea481031a2314efaa"
            ],
            "layout": "IPY_MODEL_1b01673ef3894c8f800d5c463d854744"
          }
        },
        "70c380f265d543da808393c5bd8429c2": {
          "model_module": "@jupyter-widgets/controls",
          "model_name": "HTMLModel",
          "model_module_version": "1.5.0",
          "state": {
            "_dom_classes": [],
            "_model_module": "@jupyter-widgets/controls",
            "_model_module_version": "1.5.0",
            "_model_name": "HTMLModel",
            "_view_count": null,
            "_view_module": "@jupyter-widgets/controls",
            "_view_module_version": "1.5.0",
            "_view_name": "HTMLView",
            "description": "",
            "description_tooltip": null,
            "layout": "IPY_MODEL_1cd1264012a3422b88fb3a80767fd69c",
            "placeholder": "​",
            "style": "IPY_MODEL_44c82f06945a44499641bfab529ce65c",
            "value": "Downloading: 100%"
          }
        },
        "d347b9f37b914a389e5c35a5b6ef2bca": {
          "model_module": "@jupyter-widgets/controls",
          "model_name": "FloatProgressModel",
          "model_module_version": "1.5.0",
          "state": {
            "_dom_classes": [],
            "_model_module": "@jupyter-widgets/controls",
            "_model_module_version": "1.5.0",
            "_model_name": "FloatProgressModel",
            "_view_count": null,
            "_view_module": "@jupyter-widgets/controls",
            "_view_module_version": "1.5.0",
            "_view_name": "ProgressView",
            "bar_style": "success",
            "description": "",
            "description_tooltip": null,
            "layout": "IPY_MODEL_59fa50f1a9714a2a8ef3bd705ec88b67",
            "max": 647,
            "min": 0,
            "orientation": "horizontal",
            "style": "IPY_MODEL_82198715c76a418e8d66ebe802c18bea",
            "value": 647
          }
        },
        "3672e20cece9406ea481031a2314efaa": {
          "model_module": "@jupyter-widgets/controls",
          "model_name": "HTMLModel",
          "model_module_version": "1.5.0",
          "state": {
            "_dom_classes": [],
            "_model_module": "@jupyter-widgets/controls",
            "_model_module_version": "1.5.0",
            "_model_name": "HTMLModel",
            "_view_count": null,
            "_view_module": "@jupyter-widgets/controls",
            "_view_module_version": "1.5.0",
            "_view_name": "HTMLView",
            "description": "",
            "description_tooltip": null,
            "layout": "IPY_MODEL_f6bc23b7c9de4e2db814615e76a87d49",
            "placeholder": "​",
            "style": "IPY_MODEL_f2ab4df8b0964650b31257033ba742fe",
            "value": " 647/647 [00:00&lt;00:00, 18.5kB/s]"
          }
        },
        "1b01673ef3894c8f800d5c463d854744": {
          "model_module": "@jupyter-widgets/base",
          "model_name": "LayoutModel",
          "model_module_version": "1.2.0",
          "state": {
            "_model_module": "@jupyter-widgets/base",
            "_model_module_version": "1.2.0",
            "_model_name": "LayoutModel",
            "_view_count": null,
            "_view_module": "@jupyter-widgets/base",
            "_view_module_version": "1.2.0",
            "_view_name": "LayoutView",
            "align_content": null,
            "align_items": null,
            "align_self": null,
            "border": null,
            "bottom": null,
            "display": null,
            "flex": null,
            "flex_flow": null,
            "grid_area": null,
            "grid_auto_columns": null,
            "grid_auto_flow": null,
            "grid_auto_rows": null,
            "grid_column": null,
            "grid_gap": null,
            "grid_row": null,
            "grid_template_areas": null,
            "grid_template_columns": null,
            "grid_template_rows": null,
            "height": null,
            "justify_content": null,
            "justify_items": null,
            "left": null,
            "margin": null,
            "max_height": null,
            "max_width": null,
            "min_height": null,
            "min_width": null,
            "object_fit": null,
            "object_position": null,
            "order": null,
            "overflow": null,
            "overflow_x": null,
            "overflow_y": null,
            "padding": null,
            "right": null,
            "top": null,
            "visibility": null,
            "width": null
          }
        },
        "1cd1264012a3422b88fb3a80767fd69c": {
          "model_module": "@jupyter-widgets/base",
          "model_name": "LayoutModel",
          "model_module_version": "1.2.0",
          "state": {
            "_model_module": "@jupyter-widgets/base",
            "_model_module_version": "1.2.0",
            "_model_name": "LayoutModel",
            "_view_count": null,
            "_view_module": "@jupyter-widgets/base",
            "_view_module_version": "1.2.0",
            "_view_name": "LayoutView",
            "align_content": null,
            "align_items": null,
            "align_self": null,
            "border": null,
            "bottom": null,
            "display": null,
            "flex": null,
            "flex_flow": null,
            "grid_area": null,
            "grid_auto_columns": null,
            "grid_auto_flow": null,
            "grid_auto_rows": null,
            "grid_column": null,
            "grid_gap": null,
            "grid_row": null,
            "grid_template_areas": null,
            "grid_template_columns": null,
            "grid_template_rows": null,
            "height": null,
            "justify_content": null,
            "justify_items": null,
            "left": null,
            "margin": null,
            "max_height": null,
            "max_width": null,
            "min_height": null,
            "min_width": null,
            "object_fit": null,
            "object_position": null,
            "order": null,
            "overflow": null,
            "overflow_x": null,
            "overflow_y": null,
            "padding": null,
            "right": null,
            "top": null,
            "visibility": null,
            "width": null
          }
        },
        "44c82f06945a44499641bfab529ce65c": {
          "model_module": "@jupyter-widgets/controls",
          "model_name": "DescriptionStyleModel",
          "model_module_version": "1.5.0",
          "state": {
            "_model_module": "@jupyter-widgets/controls",
            "_model_module_version": "1.5.0",
            "_model_name": "DescriptionStyleModel",
            "_view_count": null,
            "_view_module": "@jupyter-widgets/base",
            "_view_module_version": "1.2.0",
            "_view_name": "StyleView",
            "description_width": ""
          }
        },
        "59fa50f1a9714a2a8ef3bd705ec88b67": {
          "model_module": "@jupyter-widgets/base",
          "model_name": "LayoutModel",
          "model_module_version": "1.2.0",
          "state": {
            "_model_module": "@jupyter-widgets/base",
            "_model_module_version": "1.2.0",
            "_model_name": "LayoutModel",
            "_view_count": null,
            "_view_module": "@jupyter-widgets/base",
            "_view_module_version": "1.2.0",
            "_view_name": "LayoutView",
            "align_content": null,
            "align_items": null,
            "align_self": null,
            "border": null,
            "bottom": null,
            "display": null,
            "flex": null,
            "flex_flow": null,
            "grid_area": null,
            "grid_auto_columns": null,
            "grid_auto_flow": null,
            "grid_auto_rows": null,
            "grid_column": null,
            "grid_gap": null,
            "grid_row": null,
            "grid_template_areas": null,
            "grid_template_columns": null,
            "grid_template_rows": null,
            "height": null,
            "justify_content": null,
            "justify_items": null,
            "left": null,
            "margin": null,
            "max_height": null,
            "max_width": null,
            "min_height": null,
            "min_width": null,
            "object_fit": null,
            "object_position": null,
            "order": null,
            "overflow": null,
            "overflow_x": null,
            "overflow_y": null,
            "padding": null,
            "right": null,
            "top": null,
            "visibility": null,
            "width": null
          }
        },
        "82198715c76a418e8d66ebe802c18bea": {
          "model_module": "@jupyter-widgets/controls",
          "model_name": "ProgressStyleModel",
          "model_module_version": "1.5.0",
          "state": {
            "_model_module": "@jupyter-widgets/controls",
            "_model_module_version": "1.5.0",
            "_model_name": "ProgressStyleModel",
            "_view_count": null,
            "_view_module": "@jupyter-widgets/base",
            "_view_module_version": "1.2.0",
            "_view_name": "StyleView",
            "bar_color": null,
            "description_width": ""
          }
        },
        "f6bc23b7c9de4e2db814615e76a87d49": {
          "model_module": "@jupyter-widgets/base",
          "model_name": "LayoutModel",
          "model_module_version": "1.2.0",
          "state": {
            "_model_module": "@jupyter-widgets/base",
            "_model_module_version": "1.2.0",
            "_model_name": "LayoutModel",
            "_view_count": null,
            "_view_module": "@jupyter-widgets/base",
            "_view_module_version": "1.2.0",
            "_view_name": "LayoutView",
            "align_content": null,
            "align_items": null,
            "align_self": null,
            "border": null,
            "bottom": null,
            "display": null,
            "flex": null,
            "flex_flow": null,
            "grid_area": null,
            "grid_auto_columns": null,
            "grid_auto_flow": null,
            "grid_auto_rows": null,
            "grid_column": null,
            "grid_gap": null,
            "grid_row": null,
            "grid_template_areas": null,
            "grid_template_columns": null,
            "grid_template_rows": null,
            "height": null,
            "justify_content": null,
            "justify_items": null,
            "left": null,
            "margin": null,
            "max_height": null,
            "max_width": null,
            "min_height": null,
            "min_width": null,
            "object_fit": null,
            "object_position": null,
            "order": null,
            "overflow": null,
            "overflow_x": null,
            "overflow_y": null,
            "padding": null,
            "right": null,
            "top": null,
            "visibility": null,
            "width": null
          }
        },
        "f2ab4df8b0964650b31257033ba742fe": {
          "model_module": "@jupyter-widgets/controls",
          "model_name": "DescriptionStyleModel",
          "model_module_version": "1.5.0",
          "state": {
            "_model_module": "@jupyter-widgets/controls",
            "_model_module_version": "1.5.0",
            "_model_name": "DescriptionStyleModel",
            "_view_count": null,
            "_view_module": "@jupyter-widgets/base",
            "_view_module_version": "1.2.0",
            "_view_name": "StyleView",
            "description_width": ""
          }
        },
        "bc9e34de8fa94cad876c34f7253bc80e": {
          "model_module": "@jupyter-widgets/controls",
          "model_name": "HBoxModel",
          "model_module_version": "1.5.0",
          "state": {
            "_dom_classes": [],
            "_model_module": "@jupyter-widgets/controls",
            "_model_module_version": "1.5.0",
            "_model_name": "HBoxModel",
            "_view_count": null,
            "_view_module": "@jupyter-widgets/controls",
            "_view_module_version": "1.5.0",
            "_view_name": "HBoxView",
            "box_style": "",
            "children": [
              "IPY_MODEL_479ad322c44a4d3aaa232e651187adb9",
              "IPY_MODEL_f5a715a22ad6424891fb0aa57f234f5e",
              "IPY_MODEL_efb12cf87ed541afaf6fb30db9485e17"
            ],
            "layout": "IPY_MODEL_5446df3ba2c349e8ab393c7b7db700f5"
          }
        },
        "479ad322c44a4d3aaa232e651187adb9": {
          "model_module": "@jupyter-widgets/controls",
          "model_name": "HTMLModel",
          "model_module_version": "1.5.0",
          "state": {
            "_dom_classes": [],
            "_model_module": "@jupyter-widgets/controls",
            "_model_module_version": "1.5.0",
            "_model_name": "HTMLModel",
            "_view_count": null,
            "_view_module": "@jupyter-widgets/controls",
            "_view_module_version": "1.5.0",
            "_view_name": "HTMLView",
            "description": "",
            "description_tooltip": null,
            "layout": "IPY_MODEL_12566f39c6b24624b77853c5aa59246e",
            "placeholder": "​",
            "style": "IPY_MODEL_53a5c7deac6f4565afae5f28e589b15f",
            "value": "Downloading: 100%"
          }
        },
        "f5a715a22ad6424891fb0aa57f234f5e": {
          "model_module": "@jupyter-widgets/controls",
          "model_name": "FloatProgressModel",
          "model_module_version": "1.5.0",
          "state": {
            "_dom_classes": [],
            "_model_module": "@jupyter-widgets/controls",
            "_model_module_version": "1.5.0",
            "_model_name": "FloatProgressModel",
            "_view_count": null,
            "_view_module": "@jupyter-widgets/controls",
            "_view_module_version": "1.5.0",
            "_view_name": "ProgressView",
            "bar_style": "success",
            "description": "",
            "description_tooltip": null,
            "layout": "IPY_MODEL_8d63654151a14a55b7a31caeb652dd24",
            "max": 209528,
            "min": 0,
            "orientation": "horizontal",
            "style": "IPY_MODEL_072fd931d0554ed9b47235efc65ec74c",
            "value": 209528
          }
        },
        "efb12cf87ed541afaf6fb30db9485e17": {
          "model_module": "@jupyter-widgets/controls",
          "model_name": "HTMLModel",
          "model_module_version": "1.5.0",
          "state": {
            "_dom_classes": [],
            "_model_module": "@jupyter-widgets/controls",
            "_model_module_version": "1.5.0",
            "_model_name": "HTMLModel",
            "_view_count": null,
            "_view_module": "@jupyter-widgets/controls",
            "_view_module_version": "1.5.0",
            "_view_name": "HTMLView",
            "description": "",
            "description_tooltip": null,
            "layout": "IPY_MODEL_b4c1d36a3fa745688d5f9cd5d38d3c0f",
            "placeholder": "​",
            "style": "IPY_MODEL_d76d1c9758634694971ecf32be4d2f9a",
            "value": " 205k/205k [00:00&lt;00:00, 616kB/s]"
          }
        },
        "5446df3ba2c349e8ab393c7b7db700f5": {
          "model_module": "@jupyter-widgets/base",
          "model_name": "LayoutModel",
          "model_module_version": "1.2.0",
          "state": {
            "_model_module": "@jupyter-widgets/base",
            "_model_module_version": "1.2.0",
            "_model_name": "LayoutModel",
            "_view_count": null,
            "_view_module": "@jupyter-widgets/base",
            "_view_module_version": "1.2.0",
            "_view_name": "LayoutView",
            "align_content": null,
            "align_items": null,
            "align_self": null,
            "border": null,
            "bottom": null,
            "display": null,
            "flex": null,
            "flex_flow": null,
            "grid_area": null,
            "grid_auto_columns": null,
            "grid_auto_flow": null,
            "grid_auto_rows": null,
            "grid_column": null,
            "grid_gap": null,
            "grid_row": null,
            "grid_template_areas": null,
            "grid_template_columns": null,
            "grid_template_rows": null,
            "height": null,
            "justify_content": null,
            "justify_items": null,
            "left": null,
            "margin": null,
            "max_height": null,
            "max_width": null,
            "min_height": null,
            "min_width": null,
            "object_fit": null,
            "object_position": null,
            "order": null,
            "overflow": null,
            "overflow_x": null,
            "overflow_y": null,
            "padding": null,
            "right": null,
            "top": null,
            "visibility": null,
            "width": null
          }
        },
        "12566f39c6b24624b77853c5aa59246e": {
          "model_module": "@jupyter-widgets/base",
          "model_name": "LayoutModel",
          "model_module_version": "1.2.0",
          "state": {
            "_model_module": "@jupyter-widgets/base",
            "_model_module_version": "1.2.0",
            "_model_name": "LayoutModel",
            "_view_count": null,
            "_view_module": "@jupyter-widgets/base",
            "_view_module_version": "1.2.0",
            "_view_name": "LayoutView",
            "align_content": null,
            "align_items": null,
            "align_self": null,
            "border": null,
            "bottom": null,
            "display": null,
            "flex": null,
            "flex_flow": null,
            "grid_area": null,
            "grid_auto_columns": null,
            "grid_auto_flow": null,
            "grid_auto_rows": null,
            "grid_column": null,
            "grid_gap": null,
            "grid_row": null,
            "grid_template_areas": null,
            "grid_template_columns": null,
            "grid_template_rows": null,
            "height": null,
            "justify_content": null,
            "justify_items": null,
            "left": null,
            "margin": null,
            "max_height": null,
            "max_width": null,
            "min_height": null,
            "min_width": null,
            "object_fit": null,
            "object_position": null,
            "order": null,
            "overflow": null,
            "overflow_x": null,
            "overflow_y": null,
            "padding": null,
            "right": null,
            "top": null,
            "visibility": null,
            "width": null
          }
        },
        "53a5c7deac6f4565afae5f28e589b15f": {
          "model_module": "@jupyter-widgets/controls",
          "model_name": "DescriptionStyleModel",
          "model_module_version": "1.5.0",
          "state": {
            "_model_module": "@jupyter-widgets/controls",
            "_model_module_version": "1.5.0",
            "_model_name": "DescriptionStyleModel",
            "_view_count": null,
            "_view_module": "@jupyter-widgets/base",
            "_view_module_version": "1.2.0",
            "_view_name": "StyleView",
            "description_width": ""
          }
        },
        "8d63654151a14a55b7a31caeb652dd24": {
          "model_module": "@jupyter-widgets/base",
          "model_name": "LayoutModel",
          "model_module_version": "1.2.0",
          "state": {
            "_model_module": "@jupyter-widgets/base",
            "_model_module_version": "1.2.0",
            "_model_name": "LayoutModel",
            "_view_count": null,
            "_view_module": "@jupyter-widgets/base",
            "_view_module_version": "1.2.0",
            "_view_name": "LayoutView",
            "align_content": null,
            "align_items": null,
            "align_self": null,
            "border": null,
            "bottom": null,
            "display": null,
            "flex": null,
            "flex_flow": null,
            "grid_area": null,
            "grid_auto_columns": null,
            "grid_auto_flow": null,
            "grid_auto_rows": null,
            "grid_column": null,
            "grid_gap": null,
            "grid_row": null,
            "grid_template_areas": null,
            "grid_template_columns": null,
            "grid_template_rows": null,
            "height": null,
            "justify_content": null,
            "justify_items": null,
            "left": null,
            "margin": null,
            "max_height": null,
            "max_width": null,
            "min_height": null,
            "min_width": null,
            "object_fit": null,
            "object_position": null,
            "order": null,
            "overflow": null,
            "overflow_x": null,
            "overflow_y": null,
            "padding": null,
            "right": null,
            "top": null,
            "visibility": null,
            "width": null
          }
        },
        "072fd931d0554ed9b47235efc65ec74c": {
          "model_module": "@jupyter-widgets/controls",
          "model_name": "ProgressStyleModel",
          "model_module_version": "1.5.0",
          "state": {
            "_model_module": "@jupyter-widgets/controls",
            "_model_module_version": "1.5.0",
            "_model_name": "ProgressStyleModel",
            "_view_count": null,
            "_view_module": "@jupyter-widgets/base",
            "_view_module_version": "1.2.0",
            "_view_name": "StyleView",
            "bar_color": null,
            "description_width": ""
          }
        },
        "b4c1d36a3fa745688d5f9cd5d38d3c0f": {
          "model_module": "@jupyter-widgets/base",
          "model_name": "LayoutModel",
          "model_module_version": "1.2.0",
          "state": {
            "_model_module": "@jupyter-widgets/base",
            "_model_module_version": "1.2.0",
            "_model_name": "LayoutModel",
            "_view_count": null,
            "_view_module": "@jupyter-widgets/base",
            "_view_module_version": "1.2.0",
            "_view_name": "LayoutView",
            "align_content": null,
            "align_items": null,
            "align_self": null,
            "border": null,
            "bottom": null,
            "display": null,
            "flex": null,
            "flex_flow": null,
            "grid_area": null,
            "grid_auto_columns": null,
            "grid_auto_flow": null,
            "grid_auto_rows": null,
            "grid_column": null,
            "grid_gap": null,
            "grid_row": null,
            "grid_template_areas": null,
            "grid_template_columns": null,
            "grid_template_rows": null,
            "height": null,
            "justify_content": null,
            "justify_items": null,
            "left": null,
            "margin": null,
            "max_height": null,
            "max_width": null,
            "min_height": null,
            "min_width": null,
            "object_fit": null,
            "object_position": null,
            "order": null,
            "overflow": null,
            "overflow_x": null,
            "overflow_y": null,
            "padding": null,
            "right": null,
            "top": null,
            "visibility": null,
            "width": null
          }
        },
        "d76d1c9758634694971ecf32be4d2f9a": {
          "model_module": "@jupyter-widgets/controls",
          "model_name": "DescriptionStyleModel",
          "model_module_version": "1.5.0",
          "state": {
            "_model_module": "@jupyter-widgets/controls",
            "_model_module_version": "1.5.0",
            "_model_name": "DescriptionStyleModel",
            "_view_count": null,
            "_view_module": "@jupyter-widgets/base",
            "_view_module_version": "1.2.0",
            "_view_name": "StyleView",
            "description_width": ""
          }
        },
        "56cb02e75f4f48fe8f92a5a66abcb5f4": {
          "model_module": "@jupyter-widgets/controls",
          "model_name": "HBoxModel",
          "model_module_version": "1.5.0",
          "state": {
            "_dom_classes": [],
            "_model_module": "@jupyter-widgets/controls",
            "_model_module_version": "1.5.0",
            "_model_name": "HBoxModel",
            "_view_count": null,
            "_view_module": "@jupyter-widgets/controls",
            "_view_module_version": "1.5.0",
            "_view_name": "HBoxView",
            "box_style": "",
            "children": [
              "IPY_MODEL_6141d1cf61f84173ac3a4155f5255f2e",
              "IPY_MODEL_d1b4742d4ead4e988ca4761d6afd8a86",
              "IPY_MODEL_5444545406ef4dda8d652638c21fdc0e"
            ],
            "layout": "IPY_MODEL_6c4809efbb0147fdbdebe8c42562ef49"
          }
        },
        "6141d1cf61f84173ac3a4155f5255f2e": {
          "model_module": "@jupyter-widgets/controls",
          "model_name": "HTMLModel",
          "model_module_version": "1.5.0",
          "state": {
            "_dom_classes": [],
            "_model_module": "@jupyter-widgets/controls",
            "_model_module_version": "1.5.0",
            "_model_name": "HTMLModel",
            "_view_count": null,
            "_view_module": "@jupyter-widgets/controls",
            "_view_module_version": "1.5.0",
            "_view_name": "HTMLView",
            "description": "",
            "description_tooltip": null,
            "layout": "IPY_MODEL_8fc427a0805d4112b821d60ce9344cef",
            "placeholder": "​",
            "style": "IPY_MODEL_22efae12eee0409780f405fd156030f5",
            "value": "Downloading: 100%"
          }
        },
        "d1b4742d4ead4e988ca4761d6afd8a86": {
          "model_module": "@jupyter-widgets/controls",
          "model_name": "FloatProgressModel",
          "model_module_version": "1.5.0",
          "state": {
            "_dom_classes": [],
            "_model_module": "@jupyter-widgets/controls",
            "_model_module_version": "1.5.0",
            "_model_name": "FloatProgressModel",
            "_view_count": null,
            "_view_module": "@jupyter-widgets/controls",
            "_view_module_version": "1.5.0",
            "_view_name": "ProgressView",
            "bar_style": "success",
            "description": "",
            "description_tooltip": null,
            "layout": "IPY_MODEL_f6c98a5ce55c42c6906cab36965f39ed",
            "max": 2,
            "min": 0,
            "orientation": "horizontal",
            "style": "IPY_MODEL_a3c8e01b6b0847e985d1fe7f4db60c7e",
            "value": 2
          }
        },
        "5444545406ef4dda8d652638c21fdc0e": {
          "model_module": "@jupyter-widgets/controls",
          "model_name": "HTMLModel",
          "model_module_version": "1.5.0",
          "state": {
            "_dom_classes": [],
            "_model_module": "@jupyter-widgets/controls",
            "_model_module_version": "1.5.0",
            "_model_name": "HTMLModel",
            "_view_count": null,
            "_view_module": "@jupyter-widgets/controls",
            "_view_module_version": "1.5.0",
            "_view_name": "HTMLView",
            "description": "",
            "description_tooltip": null,
            "layout": "IPY_MODEL_b7af3c8d50be4ca1a9d42f122c632685",
            "placeholder": "​",
            "style": "IPY_MODEL_756d5b41c7634aaca390b7f2be7dafe1",
            "value": " 2.00/2.00 [00:00&lt;00:00, 59.4B/s]"
          }
        },
        "6c4809efbb0147fdbdebe8c42562ef49": {
          "model_module": "@jupyter-widgets/base",
          "model_name": "LayoutModel",
          "model_module_version": "1.2.0",
          "state": {
            "_model_module": "@jupyter-widgets/base",
            "_model_module_version": "1.2.0",
            "_model_name": "LayoutModel",
            "_view_count": null,
            "_view_module": "@jupyter-widgets/base",
            "_view_module_version": "1.2.0",
            "_view_name": "LayoutView",
            "align_content": null,
            "align_items": null,
            "align_self": null,
            "border": null,
            "bottom": null,
            "display": null,
            "flex": null,
            "flex_flow": null,
            "grid_area": null,
            "grid_auto_columns": null,
            "grid_auto_flow": null,
            "grid_auto_rows": null,
            "grid_column": null,
            "grid_gap": null,
            "grid_row": null,
            "grid_template_areas": null,
            "grid_template_columns": null,
            "grid_template_rows": null,
            "height": null,
            "justify_content": null,
            "justify_items": null,
            "left": null,
            "margin": null,
            "max_height": null,
            "max_width": null,
            "min_height": null,
            "min_width": null,
            "object_fit": null,
            "object_position": null,
            "order": null,
            "overflow": null,
            "overflow_x": null,
            "overflow_y": null,
            "padding": null,
            "right": null,
            "top": null,
            "visibility": null,
            "width": null
          }
        },
        "8fc427a0805d4112b821d60ce9344cef": {
          "model_module": "@jupyter-widgets/base",
          "model_name": "LayoutModel",
          "model_module_version": "1.2.0",
          "state": {
            "_model_module": "@jupyter-widgets/base",
            "_model_module_version": "1.2.0",
            "_model_name": "LayoutModel",
            "_view_count": null,
            "_view_module": "@jupyter-widgets/base",
            "_view_module_version": "1.2.0",
            "_view_name": "LayoutView",
            "align_content": null,
            "align_items": null,
            "align_self": null,
            "border": null,
            "bottom": null,
            "display": null,
            "flex": null,
            "flex_flow": null,
            "grid_area": null,
            "grid_auto_columns": null,
            "grid_auto_flow": null,
            "grid_auto_rows": null,
            "grid_column": null,
            "grid_gap": null,
            "grid_row": null,
            "grid_template_areas": null,
            "grid_template_columns": null,
            "grid_template_rows": null,
            "height": null,
            "justify_content": null,
            "justify_items": null,
            "left": null,
            "margin": null,
            "max_height": null,
            "max_width": null,
            "min_height": null,
            "min_width": null,
            "object_fit": null,
            "object_position": null,
            "order": null,
            "overflow": null,
            "overflow_x": null,
            "overflow_y": null,
            "padding": null,
            "right": null,
            "top": null,
            "visibility": null,
            "width": null
          }
        },
        "22efae12eee0409780f405fd156030f5": {
          "model_module": "@jupyter-widgets/controls",
          "model_name": "DescriptionStyleModel",
          "model_module_version": "1.5.0",
          "state": {
            "_model_module": "@jupyter-widgets/controls",
            "_model_module_version": "1.5.0",
            "_model_name": "DescriptionStyleModel",
            "_view_count": null,
            "_view_module": "@jupyter-widgets/base",
            "_view_module_version": "1.2.0",
            "_view_name": "StyleView",
            "description_width": ""
          }
        },
        "f6c98a5ce55c42c6906cab36965f39ed": {
          "model_module": "@jupyter-widgets/base",
          "model_name": "LayoutModel",
          "model_module_version": "1.2.0",
          "state": {
            "_model_module": "@jupyter-widgets/base",
            "_model_module_version": "1.2.0",
            "_model_name": "LayoutModel",
            "_view_count": null,
            "_view_module": "@jupyter-widgets/base",
            "_view_module_version": "1.2.0",
            "_view_name": "LayoutView",
            "align_content": null,
            "align_items": null,
            "align_self": null,
            "border": null,
            "bottom": null,
            "display": null,
            "flex": null,
            "flex_flow": null,
            "grid_area": null,
            "grid_auto_columns": null,
            "grid_auto_flow": null,
            "grid_auto_rows": null,
            "grid_column": null,
            "grid_gap": null,
            "grid_row": null,
            "grid_template_areas": null,
            "grid_template_columns": null,
            "grid_template_rows": null,
            "height": null,
            "justify_content": null,
            "justify_items": null,
            "left": null,
            "margin": null,
            "max_height": null,
            "max_width": null,
            "min_height": null,
            "min_width": null,
            "object_fit": null,
            "object_position": null,
            "order": null,
            "overflow": null,
            "overflow_x": null,
            "overflow_y": null,
            "padding": null,
            "right": null,
            "top": null,
            "visibility": null,
            "width": null
          }
        },
        "a3c8e01b6b0847e985d1fe7f4db60c7e": {
          "model_module": "@jupyter-widgets/controls",
          "model_name": "ProgressStyleModel",
          "model_module_version": "1.5.0",
          "state": {
            "_model_module": "@jupyter-widgets/controls",
            "_model_module_version": "1.5.0",
            "_model_name": "ProgressStyleModel",
            "_view_count": null,
            "_view_module": "@jupyter-widgets/base",
            "_view_module_version": "1.2.0",
            "_view_name": "StyleView",
            "bar_color": null,
            "description_width": ""
          }
        },
        "b7af3c8d50be4ca1a9d42f122c632685": {
          "model_module": "@jupyter-widgets/base",
          "model_name": "LayoutModel",
          "model_module_version": "1.2.0",
          "state": {
            "_model_module": "@jupyter-widgets/base",
            "_model_module_version": "1.2.0",
            "_model_name": "LayoutModel",
            "_view_count": null,
            "_view_module": "@jupyter-widgets/base",
            "_view_module_version": "1.2.0",
            "_view_name": "LayoutView",
            "align_content": null,
            "align_items": null,
            "align_self": null,
            "border": null,
            "bottom": null,
            "display": null,
            "flex": null,
            "flex_flow": null,
            "grid_area": null,
            "grid_auto_columns": null,
            "grid_auto_flow": null,
            "grid_auto_rows": null,
            "grid_column": null,
            "grid_gap": null,
            "grid_row": null,
            "grid_template_areas": null,
            "grid_template_columns": null,
            "grid_template_rows": null,
            "height": null,
            "justify_content": null,
            "justify_items": null,
            "left": null,
            "margin": null,
            "max_height": null,
            "max_width": null,
            "min_height": null,
            "min_width": null,
            "object_fit": null,
            "object_position": null,
            "order": null,
            "overflow": null,
            "overflow_x": null,
            "overflow_y": null,
            "padding": null,
            "right": null,
            "top": null,
            "visibility": null,
            "width": null
          }
        },
        "756d5b41c7634aaca390b7f2be7dafe1": {
          "model_module": "@jupyter-widgets/controls",
          "model_name": "DescriptionStyleModel",
          "model_module_version": "1.5.0",
          "state": {
            "_model_module": "@jupyter-widgets/controls",
            "_model_module_version": "1.5.0",
            "_model_name": "DescriptionStyleModel",
            "_view_count": null,
            "_view_module": "@jupyter-widgets/base",
            "_view_module_version": "1.2.0",
            "_view_name": "StyleView",
            "description_width": ""
          }
        },
        "dadde2fef5c54f3fbcbb2b1ace52d0a2": {
          "model_module": "@jupyter-widgets/controls",
          "model_name": "HBoxModel",
          "model_module_version": "1.5.0",
          "state": {
            "_dom_classes": [],
            "_model_module": "@jupyter-widgets/controls",
            "_model_module_version": "1.5.0",
            "_model_name": "HBoxModel",
            "_view_count": null,
            "_view_module": "@jupyter-widgets/controls",
            "_view_module_version": "1.5.0",
            "_view_name": "HBoxView",
            "box_style": "",
            "children": [
              "IPY_MODEL_b96ec1b9d39b46d2a47e728ed2f876f7",
              "IPY_MODEL_cbf29277bc6940868d8ab81c78633b09",
              "IPY_MODEL_de35f7f58b3b44fbaab66075736c3819"
            ],
            "layout": "IPY_MODEL_88c3c17f16b444f4ba09f796e828a182"
          }
        },
        "b96ec1b9d39b46d2a47e728ed2f876f7": {
          "model_module": "@jupyter-widgets/controls",
          "model_name": "HTMLModel",
          "model_module_version": "1.5.0",
          "state": {
            "_dom_classes": [],
            "_model_module": "@jupyter-widgets/controls",
            "_model_module_version": "1.5.0",
            "_model_name": "HTMLModel",
            "_view_count": null,
            "_view_module": "@jupyter-widgets/controls",
            "_view_module_version": "1.5.0",
            "_view_name": "HTMLView",
            "description": "",
            "description_tooltip": null,
            "layout": "IPY_MODEL_01c38e0122364c308305177f90fe36ae",
            "placeholder": "​",
            "style": "IPY_MODEL_91e6bad122b747178bdb722ec115a9b7",
            "value": "Downloading: 100%"
          }
        },
        "cbf29277bc6940868d8ab81c78633b09": {
          "model_module": "@jupyter-widgets/controls",
          "model_name": "FloatProgressModel",
          "model_module_version": "1.5.0",
          "state": {
            "_dom_classes": [],
            "_model_module": "@jupyter-widgets/controls",
            "_model_module_version": "1.5.0",
            "_model_name": "FloatProgressModel",
            "_view_count": null,
            "_view_module": "@jupyter-widgets/controls",
            "_view_module_version": "1.5.0",
            "_view_name": "ProgressView",
            "bar_style": "success",
            "description": "",
            "description_tooltip": null,
            "layout": "IPY_MODEL_3a4f7e80805c448da27598cc32bd9c27",
            "max": 112,
            "min": 0,
            "orientation": "horizontal",
            "style": "IPY_MODEL_7582e28ccfea4433a6b2af988c8919fa",
            "value": 112
          }
        },
        "de35f7f58b3b44fbaab66075736c3819": {
          "model_module": "@jupyter-widgets/controls",
          "model_name": "HTMLModel",
          "model_module_version": "1.5.0",
          "state": {
            "_dom_classes": [],
            "_model_module": "@jupyter-widgets/controls",
            "_model_module_version": "1.5.0",
            "_model_name": "HTMLModel",
            "_view_count": null,
            "_view_module": "@jupyter-widgets/controls",
            "_view_module_version": "1.5.0",
            "_view_name": "HTMLView",
            "description": "",
            "description_tooltip": null,
            "layout": "IPY_MODEL_529f622dd56c42b3a395fcba2d4d6515",
            "placeholder": "​",
            "style": "IPY_MODEL_2e856b5862674c1b80f7733ed9c03402",
            "value": " 112/112 [00:00&lt;00:00, 2.98kB/s]"
          }
        },
        "88c3c17f16b444f4ba09f796e828a182": {
          "model_module": "@jupyter-widgets/base",
          "model_name": "LayoutModel",
          "model_module_version": "1.2.0",
          "state": {
            "_model_module": "@jupyter-widgets/base",
            "_model_module_version": "1.2.0",
            "_model_name": "LayoutModel",
            "_view_count": null,
            "_view_module": "@jupyter-widgets/base",
            "_view_module_version": "1.2.0",
            "_view_name": "LayoutView",
            "align_content": null,
            "align_items": null,
            "align_self": null,
            "border": null,
            "bottom": null,
            "display": null,
            "flex": null,
            "flex_flow": null,
            "grid_area": null,
            "grid_auto_columns": null,
            "grid_auto_flow": null,
            "grid_auto_rows": null,
            "grid_column": null,
            "grid_gap": null,
            "grid_row": null,
            "grid_template_areas": null,
            "grid_template_columns": null,
            "grid_template_rows": null,
            "height": null,
            "justify_content": null,
            "justify_items": null,
            "left": null,
            "margin": null,
            "max_height": null,
            "max_width": null,
            "min_height": null,
            "min_width": null,
            "object_fit": null,
            "object_position": null,
            "order": null,
            "overflow": null,
            "overflow_x": null,
            "overflow_y": null,
            "padding": null,
            "right": null,
            "top": null,
            "visibility": null,
            "width": null
          }
        },
        "01c38e0122364c308305177f90fe36ae": {
          "model_module": "@jupyter-widgets/base",
          "model_name": "LayoutModel",
          "model_module_version": "1.2.0",
          "state": {
            "_model_module": "@jupyter-widgets/base",
            "_model_module_version": "1.2.0",
            "_model_name": "LayoutModel",
            "_view_count": null,
            "_view_module": "@jupyter-widgets/base",
            "_view_module_version": "1.2.0",
            "_view_name": "LayoutView",
            "align_content": null,
            "align_items": null,
            "align_self": null,
            "border": null,
            "bottom": null,
            "display": null,
            "flex": null,
            "flex_flow": null,
            "grid_area": null,
            "grid_auto_columns": null,
            "grid_auto_flow": null,
            "grid_auto_rows": null,
            "grid_column": null,
            "grid_gap": null,
            "grid_row": null,
            "grid_template_areas": null,
            "grid_template_columns": null,
            "grid_template_rows": null,
            "height": null,
            "justify_content": null,
            "justify_items": null,
            "left": null,
            "margin": null,
            "max_height": null,
            "max_width": null,
            "min_height": null,
            "min_width": null,
            "object_fit": null,
            "object_position": null,
            "order": null,
            "overflow": null,
            "overflow_x": null,
            "overflow_y": null,
            "padding": null,
            "right": null,
            "top": null,
            "visibility": null,
            "width": null
          }
        },
        "91e6bad122b747178bdb722ec115a9b7": {
          "model_module": "@jupyter-widgets/controls",
          "model_name": "DescriptionStyleModel",
          "model_module_version": "1.5.0",
          "state": {
            "_model_module": "@jupyter-widgets/controls",
            "_model_module_version": "1.5.0",
            "_model_name": "DescriptionStyleModel",
            "_view_count": null,
            "_view_module": "@jupyter-widgets/base",
            "_view_module_version": "1.2.0",
            "_view_name": "StyleView",
            "description_width": ""
          }
        },
        "3a4f7e80805c448da27598cc32bd9c27": {
          "model_module": "@jupyter-widgets/base",
          "model_name": "LayoutModel",
          "model_module_version": "1.2.0",
          "state": {
            "_model_module": "@jupyter-widgets/base",
            "_model_module_version": "1.2.0",
            "_model_name": "LayoutModel",
            "_view_count": null,
            "_view_module": "@jupyter-widgets/base",
            "_view_module_version": "1.2.0",
            "_view_name": "LayoutView",
            "align_content": null,
            "align_items": null,
            "align_self": null,
            "border": null,
            "bottom": null,
            "display": null,
            "flex": null,
            "flex_flow": null,
            "grid_area": null,
            "grid_auto_columns": null,
            "grid_auto_flow": null,
            "grid_auto_rows": null,
            "grid_column": null,
            "grid_gap": null,
            "grid_row": null,
            "grid_template_areas": null,
            "grid_template_columns": null,
            "grid_template_rows": null,
            "height": null,
            "justify_content": null,
            "justify_items": null,
            "left": null,
            "margin": null,
            "max_height": null,
            "max_width": null,
            "min_height": null,
            "min_width": null,
            "object_fit": null,
            "object_position": null,
            "order": null,
            "overflow": null,
            "overflow_x": null,
            "overflow_y": null,
            "padding": null,
            "right": null,
            "top": null,
            "visibility": null,
            "width": null
          }
        },
        "7582e28ccfea4433a6b2af988c8919fa": {
          "model_module": "@jupyter-widgets/controls",
          "model_name": "ProgressStyleModel",
          "model_module_version": "1.5.0",
          "state": {
            "_model_module": "@jupyter-widgets/controls",
            "_model_module_version": "1.5.0",
            "_model_name": "ProgressStyleModel",
            "_view_count": null,
            "_view_module": "@jupyter-widgets/base",
            "_view_module_version": "1.2.0",
            "_view_name": "StyleView",
            "bar_color": null,
            "description_width": ""
          }
        },
        "529f622dd56c42b3a395fcba2d4d6515": {
          "model_module": "@jupyter-widgets/base",
          "model_name": "LayoutModel",
          "model_module_version": "1.2.0",
          "state": {
            "_model_module": "@jupyter-widgets/base",
            "_model_module_version": "1.2.0",
            "_model_name": "LayoutModel",
            "_view_count": null,
            "_view_module": "@jupyter-widgets/base",
            "_view_module_version": "1.2.0",
            "_view_name": "LayoutView",
            "align_content": null,
            "align_items": null,
            "align_self": null,
            "border": null,
            "bottom": null,
            "display": null,
            "flex": null,
            "flex_flow": null,
            "grid_area": null,
            "grid_auto_columns": null,
            "grid_auto_flow": null,
            "grid_auto_rows": null,
            "grid_column": null,
            "grid_gap": null,
            "grid_row": null,
            "grid_template_areas": null,
            "grid_template_columns": null,
            "grid_template_rows": null,
            "height": null,
            "justify_content": null,
            "justify_items": null,
            "left": null,
            "margin": null,
            "max_height": null,
            "max_width": null,
            "min_height": null,
            "min_width": null,
            "object_fit": null,
            "object_position": null,
            "order": null,
            "overflow": null,
            "overflow_x": null,
            "overflow_y": null,
            "padding": null,
            "right": null,
            "top": null,
            "visibility": null,
            "width": null
          }
        },
        "2e856b5862674c1b80f7733ed9c03402": {
          "model_module": "@jupyter-widgets/controls",
          "model_name": "DescriptionStyleModel",
          "model_module_version": "1.5.0",
          "state": {
            "_model_module": "@jupyter-widgets/controls",
            "_model_module_version": "1.5.0",
            "_model_name": "DescriptionStyleModel",
            "_view_count": null,
            "_view_module": "@jupyter-widgets/base",
            "_view_module_version": "1.2.0",
            "_view_name": "StyleView",
            "description_width": ""
          }
        },
        "8a18167125ed4747aa3aef78c2d4307e": {
          "model_module": "@jupyter-widgets/controls",
          "model_name": "HBoxModel",
          "model_module_version": "1.5.0",
          "state": {
            "_dom_classes": [],
            "_model_module": "@jupyter-widgets/controls",
            "_model_module_version": "1.5.0",
            "_model_name": "HBoxModel",
            "_view_count": null,
            "_view_module": "@jupyter-widgets/controls",
            "_view_module_version": "1.5.0",
            "_view_name": "HBoxView",
            "box_style": "",
            "children": [
              "IPY_MODEL_2419fdcda7e34045b153b0dcdeb14fae",
              "IPY_MODEL_908825bc0fff4fae86102eef24d172a7",
              "IPY_MODEL_add334a06f6648968b0681afc8f9ab59"
            ],
            "layout": "IPY_MODEL_15650090b42c42d1bf440e18082faf94"
          }
        },
        "2419fdcda7e34045b153b0dcdeb14fae": {
          "model_module": "@jupyter-widgets/controls",
          "model_name": "HTMLModel",
          "model_module_version": "1.5.0",
          "state": {
            "_dom_classes": [],
            "_model_module": "@jupyter-widgets/controls",
            "_model_module_version": "1.5.0",
            "_model_name": "HTMLModel",
            "_view_count": null,
            "_view_module": "@jupyter-widgets/controls",
            "_view_module_version": "1.5.0",
            "_view_name": "HTMLView",
            "description": "",
            "description_tooltip": null,
            "layout": "IPY_MODEL_af23748943e54550a3349f11bf6a0795",
            "placeholder": "​",
            "style": "IPY_MODEL_3d28b45853cd49109c4e5ed6525b3e97",
            "value": "Downloading: 100%"
          }
        },
        "908825bc0fff4fae86102eef24d172a7": {
          "model_module": "@jupyter-widgets/controls",
          "model_name": "FloatProgressModel",
          "model_module_version": "1.5.0",
          "state": {
            "_dom_classes": [],
            "_model_module": "@jupyter-widgets/controls",
            "_model_module_version": "1.5.0",
            "_model_name": "FloatProgressModel",
            "_view_count": null,
            "_view_module": "@jupyter-widgets/controls",
            "_view_module_version": "1.5.0",
            "_view_name": "ProgressView",
            "bar_style": "success",
            "description": "",
            "description_tooltip": null,
            "layout": "IPY_MODEL_ad4bc4480a6c4014bda3bffca022cc1c",
            "max": 438235074,
            "min": 0,
            "orientation": "horizontal",
            "style": "IPY_MODEL_593a86ef504d4ba3ae61b65e9d924f2a",
            "value": 438235074
          }
        },
        "add334a06f6648968b0681afc8f9ab59": {
          "model_module": "@jupyter-widgets/controls",
          "model_name": "HTMLModel",
          "model_module_version": "1.5.0",
          "state": {
            "_dom_classes": [],
            "_model_module": "@jupyter-widgets/controls",
            "_model_module_version": "1.5.0",
            "_model_name": "HTMLModel",
            "_view_count": null,
            "_view_module": "@jupyter-widgets/controls",
            "_view_module_version": "1.5.0",
            "_view_name": "HTMLView",
            "description": "",
            "description_tooltip": null,
            "layout": "IPY_MODEL_d8d3a6f6e1fc49979a502bad01d5a491",
            "placeholder": "​",
            "style": "IPY_MODEL_9d70d936374c457792d480092629ad5b",
            "value": " 418M/418M [00:16&lt;00:00, 23.1MB/s]"
          }
        },
        "15650090b42c42d1bf440e18082faf94": {
          "model_module": "@jupyter-widgets/base",
          "model_name": "LayoutModel",
          "model_module_version": "1.2.0",
          "state": {
            "_model_module": "@jupyter-widgets/base",
            "_model_module_version": "1.2.0",
            "_model_name": "LayoutModel",
            "_view_count": null,
            "_view_module": "@jupyter-widgets/base",
            "_view_module_version": "1.2.0",
            "_view_name": "LayoutView",
            "align_content": null,
            "align_items": null,
            "align_self": null,
            "border": null,
            "bottom": null,
            "display": null,
            "flex": null,
            "flex_flow": null,
            "grid_area": null,
            "grid_auto_columns": null,
            "grid_auto_flow": null,
            "grid_auto_rows": null,
            "grid_column": null,
            "grid_gap": null,
            "grid_row": null,
            "grid_template_areas": null,
            "grid_template_columns": null,
            "grid_template_rows": null,
            "height": null,
            "justify_content": null,
            "justify_items": null,
            "left": null,
            "margin": null,
            "max_height": null,
            "max_width": null,
            "min_height": null,
            "min_width": null,
            "object_fit": null,
            "object_position": null,
            "order": null,
            "overflow": null,
            "overflow_x": null,
            "overflow_y": null,
            "padding": null,
            "right": null,
            "top": null,
            "visibility": null,
            "width": null
          }
        },
        "af23748943e54550a3349f11bf6a0795": {
          "model_module": "@jupyter-widgets/base",
          "model_name": "LayoutModel",
          "model_module_version": "1.2.0",
          "state": {
            "_model_module": "@jupyter-widgets/base",
            "_model_module_version": "1.2.0",
            "_model_name": "LayoutModel",
            "_view_count": null,
            "_view_module": "@jupyter-widgets/base",
            "_view_module_version": "1.2.0",
            "_view_name": "LayoutView",
            "align_content": null,
            "align_items": null,
            "align_self": null,
            "border": null,
            "bottom": null,
            "display": null,
            "flex": null,
            "flex_flow": null,
            "grid_area": null,
            "grid_auto_columns": null,
            "grid_auto_flow": null,
            "grid_auto_rows": null,
            "grid_column": null,
            "grid_gap": null,
            "grid_row": null,
            "grid_template_areas": null,
            "grid_template_columns": null,
            "grid_template_rows": null,
            "height": null,
            "justify_content": null,
            "justify_items": null,
            "left": null,
            "margin": null,
            "max_height": null,
            "max_width": null,
            "min_height": null,
            "min_width": null,
            "object_fit": null,
            "object_position": null,
            "order": null,
            "overflow": null,
            "overflow_x": null,
            "overflow_y": null,
            "padding": null,
            "right": null,
            "top": null,
            "visibility": null,
            "width": null
          }
        },
        "3d28b45853cd49109c4e5ed6525b3e97": {
          "model_module": "@jupyter-widgets/controls",
          "model_name": "DescriptionStyleModel",
          "model_module_version": "1.5.0",
          "state": {
            "_model_module": "@jupyter-widgets/controls",
            "_model_module_version": "1.5.0",
            "_model_name": "DescriptionStyleModel",
            "_view_count": null,
            "_view_module": "@jupyter-widgets/base",
            "_view_module_version": "1.2.0",
            "_view_name": "StyleView",
            "description_width": ""
          }
        },
        "ad4bc4480a6c4014bda3bffca022cc1c": {
          "model_module": "@jupyter-widgets/base",
          "model_name": "LayoutModel",
          "model_module_version": "1.2.0",
          "state": {
            "_model_module": "@jupyter-widgets/base",
            "_model_module_version": "1.2.0",
            "_model_name": "LayoutModel",
            "_view_count": null,
            "_view_module": "@jupyter-widgets/base",
            "_view_module_version": "1.2.0",
            "_view_name": "LayoutView",
            "align_content": null,
            "align_items": null,
            "align_self": null,
            "border": null,
            "bottom": null,
            "display": null,
            "flex": null,
            "flex_flow": null,
            "grid_area": null,
            "grid_auto_columns": null,
            "grid_auto_flow": null,
            "grid_auto_rows": null,
            "grid_column": null,
            "grid_gap": null,
            "grid_row": null,
            "grid_template_areas": null,
            "grid_template_columns": null,
            "grid_template_rows": null,
            "height": null,
            "justify_content": null,
            "justify_items": null,
            "left": null,
            "margin": null,
            "max_height": null,
            "max_width": null,
            "min_height": null,
            "min_width": null,
            "object_fit": null,
            "object_position": null,
            "order": null,
            "overflow": null,
            "overflow_x": null,
            "overflow_y": null,
            "padding": null,
            "right": null,
            "top": null,
            "visibility": null,
            "width": null
          }
        },
        "593a86ef504d4ba3ae61b65e9d924f2a": {
          "model_module": "@jupyter-widgets/controls",
          "model_name": "ProgressStyleModel",
          "model_module_version": "1.5.0",
          "state": {
            "_model_module": "@jupyter-widgets/controls",
            "_model_module_version": "1.5.0",
            "_model_name": "ProgressStyleModel",
            "_view_count": null,
            "_view_module": "@jupyter-widgets/base",
            "_view_module_version": "1.2.0",
            "_view_name": "StyleView",
            "bar_color": null,
            "description_width": ""
          }
        },
        "d8d3a6f6e1fc49979a502bad01d5a491": {
          "model_module": "@jupyter-widgets/base",
          "model_name": "LayoutModel",
          "model_module_version": "1.2.0",
          "state": {
            "_model_module": "@jupyter-widgets/base",
            "_model_module_version": "1.2.0",
            "_model_name": "LayoutModel",
            "_view_count": null,
            "_view_module": "@jupyter-widgets/base",
            "_view_module_version": "1.2.0",
            "_view_name": "LayoutView",
            "align_content": null,
            "align_items": null,
            "align_self": null,
            "border": null,
            "bottom": null,
            "display": null,
            "flex": null,
            "flex_flow": null,
            "grid_area": null,
            "grid_auto_columns": null,
            "grid_auto_flow": null,
            "grid_auto_rows": null,
            "grid_column": null,
            "grid_gap": null,
            "grid_row": null,
            "grid_template_areas": null,
            "grid_template_columns": null,
            "grid_template_rows": null,
            "height": null,
            "justify_content": null,
            "justify_items": null,
            "left": null,
            "margin": null,
            "max_height": null,
            "max_width": null,
            "min_height": null,
            "min_width": null,
            "object_fit": null,
            "object_position": null,
            "order": null,
            "overflow": null,
            "overflow_x": null,
            "overflow_y": null,
            "padding": null,
            "right": null,
            "top": null,
            "visibility": null,
            "width": null
          }
        },
        "9d70d936374c457792d480092629ad5b": {
          "model_module": "@jupyter-widgets/controls",
          "model_name": "DescriptionStyleModel",
          "model_module_version": "1.5.0",
          "state": {
            "_model_module": "@jupyter-widgets/controls",
            "_model_module_version": "1.5.0",
            "_model_name": "DescriptionStyleModel",
            "_view_count": null,
            "_view_module": "@jupyter-widgets/base",
            "_view_module_version": "1.2.0",
            "_view_name": "StyleView",
            "description_width": ""
          }
        },
        "2111e96e6017477a8bfbe1b45310f764": {
          "model_module": "@jupyter-widgets/controls",
          "model_name": "HBoxModel",
          "model_module_version": "1.5.0",
          "state": {
            "_dom_classes": [],
            "_model_module": "@jupyter-widgets/controls",
            "_model_module_version": "1.5.0",
            "_model_name": "HBoxModel",
            "_view_count": null,
            "_view_module": "@jupyter-widgets/controls",
            "_view_module_version": "1.5.0",
            "_view_name": "HBoxView",
            "box_style": "",
            "children": [
              "IPY_MODEL_4684d02dced942d58c6ccbfccc59b36b",
              "IPY_MODEL_aed1939be16b4e17ba4d093972235fef",
              "IPY_MODEL_68a17524352541a0a688d23dd2b07fe0"
            ],
            "layout": "IPY_MODEL_d53d9b4118da442781705ef17e914947"
          }
        },
        "4684d02dced942d58c6ccbfccc59b36b": {
          "model_module": "@jupyter-widgets/controls",
          "model_name": "HTMLModel",
          "model_module_version": "1.5.0",
          "state": {
            "_dom_classes": [],
            "_model_module": "@jupyter-widgets/controls",
            "_model_module_version": "1.5.0",
            "_model_name": "HTMLModel",
            "_view_count": null,
            "_view_module": "@jupyter-widgets/controls",
            "_view_module_version": "1.5.0",
            "_view_name": "HTMLView",
            "description": "",
            "description_tooltip": null,
            "layout": "IPY_MODEL_b35b0dd4e5fc4b8c9f49a6c914a4ec10",
            "placeholder": "​",
            "style": "IPY_MODEL_56a517109030434ab7ae50f3bc04e199",
            "value": "100%"
          }
        },
        "aed1939be16b4e17ba4d093972235fef": {
          "model_module": "@jupyter-widgets/controls",
          "model_name": "FloatProgressModel",
          "model_module_version": "1.5.0",
          "state": {
            "_dom_classes": [],
            "_model_module": "@jupyter-widgets/controls",
            "_model_module_version": "1.5.0",
            "_model_name": "FloatProgressModel",
            "_view_count": null,
            "_view_module": "@jupyter-widgets/controls",
            "_view_module_version": "1.5.0",
            "_view_name": "ProgressView",
            "bar_style": "success",
            "description": "",
            "description_tooltip": null,
            "layout": "IPY_MODEL_d21ad4a97ad04b938325fadcdba59164",
            "max": 6703,
            "min": 0,
            "orientation": "horizontal",
            "style": "IPY_MODEL_977450121ea94e4da3639da512767262",
            "value": 6703
          }
        },
        "68a17524352541a0a688d23dd2b07fe0": {
          "model_module": "@jupyter-widgets/controls",
          "model_name": "HTMLModel",
          "model_module_version": "1.5.0",
          "state": {
            "_dom_classes": [],
            "_model_module": "@jupyter-widgets/controls",
            "_model_module_version": "1.5.0",
            "_model_name": "HTMLModel",
            "_view_count": null,
            "_view_module": "@jupyter-widgets/controls",
            "_view_module_version": "1.5.0",
            "_view_name": "HTMLView",
            "description": "",
            "description_tooltip": null,
            "layout": "IPY_MODEL_b72c41f5988c462ab24e10c907592fb9",
            "placeholder": "​",
            "style": "IPY_MODEL_644f3c7f2ad54332a7bd2df79654d684",
            "value": " 6703/6703 [00:08&lt;00:00, 1033.54it/s]"
          }
        },
        "d53d9b4118da442781705ef17e914947": {
          "model_module": "@jupyter-widgets/base",
          "model_name": "LayoutModel",
          "model_module_version": "1.2.0",
          "state": {
            "_model_module": "@jupyter-widgets/base",
            "_model_module_version": "1.2.0",
            "_model_name": "LayoutModel",
            "_view_count": null,
            "_view_module": "@jupyter-widgets/base",
            "_view_module_version": "1.2.0",
            "_view_name": "LayoutView",
            "align_content": null,
            "align_items": null,
            "align_self": null,
            "border": null,
            "bottom": null,
            "display": null,
            "flex": null,
            "flex_flow": null,
            "grid_area": null,
            "grid_auto_columns": null,
            "grid_auto_flow": null,
            "grid_auto_rows": null,
            "grid_column": null,
            "grid_gap": null,
            "grid_row": null,
            "grid_template_areas": null,
            "grid_template_columns": null,
            "grid_template_rows": null,
            "height": null,
            "justify_content": null,
            "justify_items": null,
            "left": null,
            "margin": null,
            "max_height": null,
            "max_width": null,
            "min_height": null,
            "min_width": null,
            "object_fit": null,
            "object_position": null,
            "order": null,
            "overflow": null,
            "overflow_x": null,
            "overflow_y": null,
            "padding": null,
            "right": null,
            "top": null,
            "visibility": null,
            "width": null
          }
        },
        "b35b0dd4e5fc4b8c9f49a6c914a4ec10": {
          "model_module": "@jupyter-widgets/base",
          "model_name": "LayoutModel",
          "model_module_version": "1.2.0",
          "state": {
            "_model_module": "@jupyter-widgets/base",
            "_model_module_version": "1.2.0",
            "_model_name": "LayoutModel",
            "_view_count": null,
            "_view_module": "@jupyter-widgets/base",
            "_view_module_version": "1.2.0",
            "_view_name": "LayoutView",
            "align_content": null,
            "align_items": null,
            "align_self": null,
            "border": null,
            "bottom": null,
            "display": null,
            "flex": null,
            "flex_flow": null,
            "grid_area": null,
            "grid_auto_columns": null,
            "grid_auto_flow": null,
            "grid_auto_rows": null,
            "grid_column": null,
            "grid_gap": null,
            "grid_row": null,
            "grid_template_areas": null,
            "grid_template_columns": null,
            "grid_template_rows": null,
            "height": null,
            "justify_content": null,
            "justify_items": null,
            "left": null,
            "margin": null,
            "max_height": null,
            "max_width": null,
            "min_height": null,
            "min_width": null,
            "object_fit": null,
            "object_position": null,
            "order": null,
            "overflow": null,
            "overflow_x": null,
            "overflow_y": null,
            "padding": null,
            "right": null,
            "top": null,
            "visibility": null,
            "width": null
          }
        },
        "56a517109030434ab7ae50f3bc04e199": {
          "model_module": "@jupyter-widgets/controls",
          "model_name": "DescriptionStyleModel",
          "model_module_version": "1.5.0",
          "state": {
            "_model_module": "@jupyter-widgets/controls",
            "_model_module_version": "1.5.0",
            "_model_name": "DescriptionStyleModel",
            "_view_count": null,
            "_view_module": "@jupyter-widgets/base",
            "_view_module_version": "1.2.0",
            "_view_name": "StyleView",
            "description_width": ""
          }
        },
        "d21ad4a97ad04b938325fadcdba59164": {
          "model_module": "@jupyter-widgets/base",
          "model_name": "LayoutModel",
          "model_module_version": "1.2.0",
          "state": {
            "_model_module": "@jupyter-widgets/base",
            "_model_module_version": "1.2.0",
            "_model_name": "LayoutModel",
            "_view_count": null,
            "_view_module": "@jupyter-widgets/base",
            "_view_module_version": "1.2.0",
            "_view_name": "LayoutView",
            "align_content": null,
            "align_items": null,
            "align_self": null,
            "border": null,
            "bottom": null,
            "display": null,
            "flex": null,
            "flex_flow": null,
            "grid_area": null,
            "grid_auto_columns": null,
            "grid_auto_flow": null,
            "grid_auto_rows": null,
            "grid_column": null,
            "grid_gap": null,
            "grid_row": null,
            "grid_template_areas": null,
            "grid_template_columns": null,
            "grid_template_rows": null,
            "height": null,
            "justify_content": null,
            "justify_items": null,
            "left": null,
            "margin": null,
            "max_height": null,
            "max_width": null,
            "min_height": null,
            "min_width": null,
            "object_fit": null,
            "object_position": null,
            "order": null,
            "overflow": null,
            "overflow_x": null,
            "overflow_y": null,
            "padding": null,
            "right": null,
            "top": null,
            "visibility": null,
            "width": null
          }
        },
        "977450121ea94e4da3639da512767262": {
          "model_module": "@jupyter-widgets/controls",
          "model_name": "ProgressStyleModel",
          "model_module_version": "1.5.0",
          "state": {
            "_model_module": "@jupyter-widgets/controls",
            "_model_module_version": "1.5.0",
            "_model_name": "ProgressStyleModel",
            "_view_count": null,
            "_view_module": "@jupyter-widgets/base",
            "_view_module_version": "1.2.0",
            "_view_name": "StyleView",
            "bar_color": null,
            "description_width": ""
          }
        },
        "b72c41f5988c462ab24e10c907592fb9": {
          "model_module": "@jupyter-widgets/base",
          "model_name": "LayoutModel",
          "model_module_version": "1.2.0",
          "state": {
            "_model_module": "@jupyter-widgets/base",
            "_model_module_version": "1.2.0",
            "_model_name": "LayoutModel",
            "_view_count": null,
            "_view_module": "@jupyter-widgets/base",
            "_view_module_version": "1.2.0",
            "_view_name": "LayoutView",
            "align_content": null,
            "align_items": null,
            "align_self": null,
            "border": null,
            "bottom": null,
            "display": null,
            "flex": null,
            "flex_flow": null,
            "grid_area": null,
            "grid_auto_columns": null,
            "grid_auto_flow": null,
            "grid_auto_rows": null,
            "grid_column": null,
            "grid_gap": null,
            "grid_row": null,
            "grid_template_areas": null,
            "grid_template_columns": null,
            "grid_template_rows": null,
            "height": null,
            "justify_content": null,
            "justify_items": null,
            "left": null,
            "margin": null,
            "max_height": null,
            "max_width": null,
            "min_height": null,
            "min_width": null,
            "object_fit": null,
            "object_position": null,
            "order": null,
            "overflow": null,
            "overflow_x": null,
            "overflow_y": null,
            "padding": null,
            "right": null,
            "top": null,
            "visibility": null,
            "width": null
          }
        },
        "644f3c7f2ad54332a7bd2df79654d684": {
          "model_module": "@jupyter-widgets/controls",
          "model_name": "DescriptionStyleModel",
          "model_module_version": "1.5.0",
          "state": {
            "_model_module": "@jupyter-widgets/controls",
            "_model_module_version": "1.5.0",
            "_model_name": "DescriptionStyleModel",
            "_view_count": null,
            "_view_module": "@jupyter-widgets/base",
            "_view_module_version": "1.2.0",
            "_view_name": "StyleView",
            "description_width": ""
          }
        }
      }
    },
    "gpuClass": "standard"
  },
  "nbformat": 4,
  "nbformat_minor": 0
}