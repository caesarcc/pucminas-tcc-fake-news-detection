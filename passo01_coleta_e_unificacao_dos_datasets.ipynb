{
  "cells": [
    {
      "cell_type": "markdown",
      "metadata": {
        "id": "WRxgfVVsPtyK"
      },
      "source": [
        "## Coleta e unificação dos datasets Fake.br-Corpus e FakeWhatsApp.Br"
      ]
    },
    {
      "cell_type": "code",
      "execution_count": 38,
      "metadata": {
        "cellView": "form",
        "id": "CPzAh59THwj1"
      },
      "outputs": [],
      "source": [
        "# Importação de bibliotecas utilizadas no pré-processamento\n",
        "import os\n",
        "import re\n",
        "import pandas as pd\n",
        "import matplotlib.pyplot as plt\n",
        "import seaborn as sns\n",
        "import pt_core_news_sm\n",
        "from IPython.display import display\n",
        "%matplotlib inline\n",
        "pd.set_option(\"display.max_rows\", 50, 'display.max_colwidth', 0)"
      ]
    },
    {
      "cell_type": "markdown",
      "metadata": {
        "id": "nYVq1HCgX5zB"
      },
      "source": [
        "### Baixar os dados do [Fake.br-Corpus](https://github.com/roneysco/Fake.br-Corpus)"
      ]
    },
    {
      "cell_type": "code",
      "execution_count": 2,
      "metadata": {
        "colab": {
          "base_uri": "https://localhost:8080/"
        },
        "id": "GLNk1WPwXznk",
        "outputId": "eeb6a599-f7e4-404a-f263-ca0eef00f634"
      },
      "outputs": [
        {
          "name": "stdout",
          "output_type": "stream",
          "text": [
            "Cloning into 'Fake.br-Corpus'...\n",
            "remote: Enumerating objects: 28763, done.\u001b[K\n",
            "remote: Total 28763 (delta 0), reused 0 (delta 0), pack-reused 28763\u001b[K\n",
            "Receiving objects: 100% (28763/28763), 37.10 MiB | 13.31 MiB/s, done.\n",
            "Resolving deltas: 100% (14129/14129), done.\n",
            "Checking out files: 100% (21602/21602), done.\n"
          ]
        }
      ],
      "source": [
        "!git clone https://github.com/roneysco/Fake.br-Corpus"
      ]
    },
    {
      "cell_type": "markdown",
      "metadata": {
        "id": "GYFyNmetYS2k"
      },
      "source": [
        "### Carregando os dados\n",
        "\n",
        "Vou utilizar a amostra \"full_texts\" do Corpus para realizar novo processamento e limpeza dos dados conforme as novas hipóteses propostas."
      ]
    },
    {
      "cell_type": "code",
      "execution_count": 43,
      "metadata": {
        "colab": {
          "base_uri": "https://localhost:8080/",
          "height": 320
        },
        "id": "OaTZgu98YhqB",
        "outputId": "241eb209-98ae-4b81-9f5e-103d4a216275"
      },
      "outputs": [
        {
          "data": {
            "text/html": [
              "\n",
              "  <div id=\"df-80c3a019-9e61-4c54-ae0c-e94bca962b75\">\n",
              "    <div class=\"colab-df-container\">\n",
              "      <div>\n",
              "<style scoped>\n",
              "    .dataframe tbody tr th:only-of-type {\n",
              "        vertical-align: middle;\n",
              "    }\n",
              "\n",
              "    .dataframe tbody tr th {\n",
              "        vertical-align: top;\n",
              "    }\n",
              "\n",
              "    .dataframe thead th {\n",
              "        text-align: right;\n",
              "    }\n",
              "</style>\n",
              "<table border=\"1\" class=\"dataframe\">\n",
              "  <thead>\n",
              "    <tr style=\"text-align: right;\">\n",
              "      <th></th>\n",
              "      <th>classe</th>\n",
              "      <th>texto</th>\n",
              "    </tr>\n",
              "  </thead>\n",
              "  <tbody>\n",
              "    <tr>\n",
              "      <th>5204</th>\n",
              "      <td>1</td>\n",
              "      <td>Edson Fachin é o novo relator da Lava Jato. .</td>\n",
              "    </tr>\n",
              "    <tr>\n",
              "      <th>4826</th>\n",
              "      <td>1</td>\n",
              "      <td>Paulo Henrique Amorim: \"Aécio Neves é um gangster filhinho de papai\".  \"É provável que o Marcola e o Fernandinho Beira-Mar tenham uma linguagem mais elevada que Aécio\".  (*** dessa vez temos que tirar o chapéu para PHA ***) PHA, que é petista de carteirinha e já possui diversos processos no \"lombo\", soltou o verbo contra o senador Aécio Neves:</td>\n",
              "    </tr>\n",
              "    <tr>\n",
              "      <th>6876</th>\n",
              "      <td>1</td>\n",
              "      <td>Você acredita em premonição? O último depoimento de um dos integrantes do grupo Mamonas Assassinas.  A NOTÍCIA DO ACIDENTE.  Doze horas após a declaração da suposta premonição,  a aeronave que levaria o grupo para um show em Brasília se chocou contra a Serra da Cantareira,  matando todos os integrantes do grupo</td>\n",
              "    </tr>\n",
              "    <tr>\n",
              "      <th>4694</th>\n",
              "      <td>1</td>\n",
              "      <td>Site O Antagonista \"mata\" Caetano Veloso.  A intenção da postagem feita pelo Antagonista era chamar atenção para uma possível candidatura de Joaquim Barbosa.  Com o título \" ... o Brasil está preparado para ter um presidente negro? \" a matéria teve um detalhe curioso: Mataram Caetano Veloso! Aos 74 anos, o músico petista goza de plena saúde e não pensa em morrer tão cedo! confira no print abaixo:</td>\n",
              "    </tr>\n",
              "    <tr>\n",
              "      <th>7056</th>\n",
              "      <td>1</td>\n",
              "      <td>Ex-marido de Dilma: \"A gente assaltava bancos e roubava quartéis para pegar armas. Era muito romântico\".  Segundo Araújo,  o grupo praticou assaltos a banco,  roubos de caminhões de carne,  além de \"ações em quarteis\" para \"pegar armas\"..</td>\n",
              "    </tr>\n",
              "  </tbody>\n",
              "</table>\n",
              "</div>\n",
              "      <button class=\"colab-df-convert\" onclick=\"convertToInteractive('df-80c3a019-9e61-4c54-ae0c-e94bca962b75')\"\n",
              "              title=\"Convert this dataframe to an interactive table.\"\n",
              "              style=\"display:none;\">\n",
              "        \n",
              "  <svg xmlns=\"http://www.w3.org/2000/svg\" height=\"24px\"viewBox=\"0 0 24 24\"\n",
              "       width=\"24px\">\n",
              "    <path d=\"M0 0h24v24H0V0z\" fill=\"none\"/>\n",
              "    <path d=\"M18.56 5.44l.94 2.06.94-2.06 2.06-.94-2.06-.94-.94-2.06-.94 2.06-2.06.94zm-11 1L8.5 8.5l.94-2.06 2.06-.94-2.06-.94L8.5 2.5l-.94 2.06-2.06.94zm10 10l.94 2.06.94-2.06 2.06-.94-2.06-.94-.94-2.06-.94 2.06-2.06.94z\"/><path d=\"M17.41 7.96l-1.37-1.37c-.4-.4-.92-.59-1.43-.59-.52 0-1.04.2-1.43.59L10.3 9.45l-7.72 7.72c-.78.78-.78 2.05 0 2.83L4 21.41c.39.39.9.59 1.41.59.51 0 1.02-.2 1.41-.59l7.78-7.78 2.81-2.81c.8-.78.8-2.07 0-2.86zM5.41 20L4 18.59l7.72-7.72 1.47 1.35L5.41 20z\"/>\n",
              "  </svg>\n",
              "      </button>\n",
              "      \n",
              "  <style>\n",
              "    .colab-df-container {\n",
              "      display:flex;\n",
              "      flex-wrap:wrap;\n",
              "      gap: 12px;\n",
              "    }\n",
              "\n",
              "    .colab-df-convert {\n",
              "      background-color: #E8F0FE;\n",
              "      border: none;\n",
              "      border-radius: 50%;\n",
              "      cursor: pointer;\n",
              "      display: none;\n",
              "      fill: #1967D2;\n",
              "      height: 32px;\n",
              "      padding: 0 0 0 0;\n",
              "      width: 32px;\n",
              "    }\n",
              "\n",
              "    .colab-df-convert:hover {\n",
              "      background-color: #E2EBFA;\n",
              "      box-shadow: 0px 1px 2px rgba(60, 64, 67, 0.3), 0px 1px 3px 1px rgba(60, 64, 67, 0.15);\n",
              "      fill: #174EA6;\n",
              "    }\n",
              "\n",
              "    [theme=dark] .colab-df-convert {\n",
              "      background-color: #3B4455;\n",
              "      fill: #D2E3FC;\n",
              "    }\n",
              "\n",
              "    [theme=dark] .colab-df-convert:hover {\n",
              "      background-color: #434B5C;\n",
              "      box-shadow: 0px 1px 3px 1px rgba(0, 0, 0, 0.15);\n",
              "      filter: drop-shadow(0px 1px 2px rgba(0, 0, 0, 0.3));\n",
              "      fill: #FFFFFF;\n",
              "    }\n",
              "  </style>\n",
              "\n",
              "      <script>\n",
              "        const buttonEl =\n",
              "          document.querySelector('#df-80c3a019-9e61-4c54-ae0c-e94bca962b75 button.colab-df-convert');\n",
              "        buttonEl.style.display =\n",
              "          google.colab.kernel.accessAllowed ? 'block' : 'none';\n",
              "\n",
              "        async function convertToInteractive(key) {\n",
              "          const element = document.querySelector('#df-80c3a019-9e61-4c54-ae0c-e94bca962b75');\n",
              "          const dataTable =\n",
              "            await google.colab.kernel.invokeFunction('convertToInteractive',\n",
              "                                                     [key], {});\n",
              "          if (!dataTable) return;\n",
              "\n",
              "          const docLinkHtml = 'Like what you see? Visit the ' +\n",
              "            '<a target=\"_blank\" href=https://colab.research.google.com/notebooks/data_table.ipynb>data table notebook</a>'\n",
              "            + ' to learn more about interactive tables.';\n",
              "          element.innerHTML = '';\n",
              "          dataTable['output_type'] = 'display_data';\n",
              "          await google.colab.output.renderOutput(dataTable, element);\n",
              "          const docLink = document.createElement('div');\n",
              "          docLink.innerHTML = docLinkHtml;\n",
              "          element.appendChild(docLink);\n",
              "        }\n",
              "      </script>\n",
              "    </div>\n",
              "  </div>\n",
              "  "
            ],
            "text/plain": [
              "      classe  \\\n",
              "5204  1        \n",
              "4826  1        \n",
              "6876  1        \n",
              "4694  1        \n",
              "7056  1        \n",
              "\n",
              "                                                                                                                                                                                                                                                                                                                                                                                                                texto  \n",
              "5204  Edson Fachin é o novo relator da Lava Jato. .                                                                                                                                                                                                                                                                                                                                                                    \n",
              "4826  Paulo Henrique Amorim: \"Aécio Neves é um gangster filhinho de papai\".  \"É provável que o Marcola e o Fernandinho Beira-Mar tenham uma linguagem mais elevada que Aécio\".  (*** dessa vez temos que tirar o chapéu para PHA ***) PHA, que é petista de carteirinha e já possui diversos processos no \"lombo\", soltou o verbo contra o senador Aécio Neves:                                                        \n",
              "6876  Você acredita em premonição? O último depoimento de um dos integrantes do grupo Mamonas Assassinas.  A NOTÍCIA DO ACIDENTE.  Doze horas após a declaração da suposta premonição,  a aeronave que levaria o grupo para um show em Brasília se chocou contra a Serra da Cantareira,  matando todos os integrantes do grupo                                                                                         \n",
              "4694  Site O Antagonista \"mata\" Caetano Veloso.  A intenção da postagem feita pelo Antagonista era chamar atenção para uma possível candidatura de Joaquim Barbosa.  Com o título \" ... o Brasil está preparado para ter um presidente negro? \" a matéria teve um detalhe curioso: Mataram Caetano Veloso! Aos 74 anos, o músico petista goza de plena saúde e não pensa em morrer tão cedo! confira no print abaixo:  \n",
              "7056  Ex-marido de Dilma: \"A gente assaltava bancos e roubava quartéis para pegar armas. Era muito romântico\".  Segundo Araújo,  o grupo praticou assaltos a banco,  roubos de caminhões de carne,  além de \"ações em quarteis\" para \"pegar armas\"..                                                                                                                                                                   "
            ]
          },
          "metadata": {},
          "output_type": "display_data"
        }
      ],
      "source": [
        "DADOS_CAMINHO = \"./Fake.br-Corpus/full_texts\"\n",
        "\n",
        "def load_txts(path):\n",
        "    txts = []\n",
        "    for filename in sorted(os.listdir(path), key=lambda x: int(re.match(\"[0-9]+\", x).group())):\n",
        "        with open(os.path.join(path, filename)) as f:\n",
        "            txts.append(f.read())\n",
        "    return [txt.rstrip() for txt in txts]\n",
        "\n",
        "true_txts = load_txts(os.path.join(DADOS_CAMINHO, \"true\"))\n",
        "fake_txts = load_txts(os.path.join(DADOS_CAMINHO, \"fake\"))\n",
        "\n",
        "#confere se tem a mesma quantidade (dataset é balanceado)\n",
        "assert(len(true_txts) == len(fake_txts))\n",
        "\n",
        "dados = pd.DataFrame(\n",
        "    [{\"texto\": t, \"classe\": 0} for t in true_txts] \\\n",
        "         + [{\"texto\": f, \"classe\": 1}  for f in fake_txts]\n",
        ")\n",
        "display(dados[dados['texto'].str.len()<400].sample(n=5)[['classe', 'texto']])"
      ]
    },
    {
      "cell_type": "markdown",
      "metadata": {
        "id": "g31RWCqPZCH7"
      },
      "source": [
        "### Exploração e limpeza de dados"
      ]
    },
    {
      "cell_type": "code",
      "execution_count": 44,
      "metadata": {
        "colab": {
          "base_uri": "https://localhost:8080/",
          "height": 299
        },
        "id": "CHkOe1UfZEAM",
        "outputId": "b876e9a1-c218-4956-eef9-d8f3ed13b9aa"
      },
      "outputs": [
        {
          "data": {
            "image/png": "[encoded data removed]",
            "text/plain": [
              "<Figure size 432x288 with 1 Axes>"
            ]
          },
          "metadata": {
            "needs_background": "light"
          },
          "output_type": "display_data"
        }
      ],
      "source": [
        "ax = sns.countplot(x=\"classe\", data=dados)\n",
        "ax.set_xticklabels([\"0 = Confiável\", \"1 = Falso\"], fontsize=12)\n",
        "ax.set_title('Distribuição balanceada de valores', fontsize=14)\n",
        "ax.set_ylabel('quantidade')\n",
        "plt.show()"
      ]
    },
    {
      "cell_type": "code",
      "execution_count": 84,
      "metadata": {
        "colab": {
          "base_uri": "https://localhost:8080/",
          "height": 441
        },
        "id": "xBxHYwFx-Vq5",
        "outputId": "83107420-ca71-48b6-e657-7f115020a6f1"
      },
      "outputs": [
        {
          "data": {
            "text/html": [
              "\n",
              "  <div id=\"df-da702b95-65f3-4310-8a15-cfafb419032f\">\n",
              "    <div class=\"colab-df-container\">\n",
              "      <div>\n",
              "<style scoped>\n",
              "    .dataframe tbody tr th:only-of-type {\n",
              "        vertical-align: middle;\n",
              "    }\n",
              "\n",
              "    .dataframe tbody tr th {\n",
              "        vertical-align: top;\n",
              "    }\n",
              "\n",
              "    .dataframe thead th {\n",
              "        text-align: right;\n",
              "    }\n",
              "</style>\n",
              "<table border=\"1\" class=\"dataframe\">\n",
              "  <thead>\n",
              "    <tr style=\"text-align: right;\">\n",
              "      <th></th>\n",
              "      <th>classe</th>\n",
              "      <th>texto</th>\n",
              "      <th>texto_limpo</th>\n",
              "    </tr>\n",
              "  </thead>\n",
              "  <tbody>\n",
              "    <tr>\n",
              "      <th>5485</th>\n",
              "      <td>1</td>\n",
              "      <td>CONTRASTE: Enquanto manifestantes e PM se confrontavam,  engravatados se divertiam em um regabofe. .  Do lado de dentro: Um divertido coquetel acontecia nas dependências da Câmara dos Deputados. Do lado de fora: A PM confrontava manifestantes. A foto de Gisele Arthur resume o que acontece em nosso país.</td>\n",
              "      <td>CONTRASTE: Enquanto manifestantes e PM se confrontavam,  engravatados se divertiam em um regabofe. .  Do lado de dentro: Um divertido coquetel acontecia nas dependências da Câmara dos Deputados. Do lado de fora: A PM confrontava manifestantes. A foto de Gisele Arthur resume o que acontece em nosso país.</td>\n",
              "    </tr>\n",
              "    <tr>\n",
              "      <th>5192</th>\n",
              "      <td>1</td>\n",
              "      <td>Repórter pergunta para Dória se dá para construir um diálogo com pichadores: \"Não negocio com bandidos\".  Dória participou de uma sabatina na CBN (leia-se Globo) com duas jornalistas.  Elas bem que tentaram induzir o prefeito com algumas perguntas capiciosas. Bem, o resultado você assiste no vídeo abaixo: \"Não vou negociar com pichadores. Não negocio com bandidos\" disse o prefeito de SP</td>\n",
              "      <td>Repórter pergunta para Dória se dá para construir um diálogo com pichadores: \"Não negocio com bandidos\".  Dória participou de uma sabatina na CBN (leia-se Globo) com duas jornalistas.  Elas bem que tentaram induzir o prefeito com algumas perguntas capiciosas. Bem, o resultado você assiste no vídeo abaixo: \"Não vou negociar com pichadores. Não negocio com bandidos\" disse o prefeito de SP</td>\n",
              "    </tr>\n",
              "    <tr>\n",
              "      <th>4781</th>\n",
              "      <td>1</td>\n",
              "      <td>Na surdina? Deputados tentaram votar reajuste para servidores federais na madrugada. .  Enquanto não há dinheiro para pagar os pobres velhinhos que recebem apenas 1 salário mínimo de aposentadoria, a Câmara dos Deputados faz sua parte [...] só que faz ao contrário.</td>\n",
              "      <td>Na surdina? Deputados tentaram votar reajuste para servidores federais na madrugada. .  Enquanto não há dinheiro para pagar os pobres velhinhos que recebem apenas 1 salário mínimo de aposentadoria, a Câmara dos Deputados faz sua parte [...] só que faz ao contrário.</td>\n",
              "    </tr>\n",
              "    <tr>\n",
              "      <th>4642</th>\n",
              "      <td>1</td>\n",
              "      <td>A deselegância de Zezé: \"Passar a mulher da gente pra trás é fácil, difícil é passar para frente\". .  Em uma entrevista exibida no programa de Danilo Gentili, o sertanejo soltou mais uma: \" Passar a mulher da gente pra trás é fácil, difícil é passar para frente\". Calma Zezé! Dinheiro não é tudo. Essa sua deselegância só demonstra uma coisa: insegurança total! leia também:</td>\n",
              "      <td>A deselegância de Zezé: \"Passar a mulher da gente pra trás é fácil, difícil é passar para frente\". .  Em uma entrevista exibida no programa de Danilo Gentili, o sertanejo soltou mais uma: \" Passar a mulher da gente pra trás é fácil, difícil é passar para frente\". Calma Zezé! Dinheiro não é tudo. Essa sua deselegância só demonstra uma coisa: insegurança total! leia também:</td>\n",
              "    </tr>\n",
              "    <tr>\n",
              "      <th>4559</th>\n",
              "      <td>1</td>\n",
              "      <td>Cantora Elza Soares (80 anos) era um dos passageiros do avião que pegou fogo no ar: \"Fiquei paralisada\".  O incidente aconteceu na madrugada da última sexta-feira (4) durante um voo da empresa American Airlines.</td>\n",
              "      <td>Cantora Elza Soares (80 anos) era um dos passageiros do avião que pegou fogo no ar: \"Fiquei paralisada\".  O incidente aconteceu na madrugada da última sexta-feira (4) durante um voo da empresa American Airlines.</td>\n",
              "    </tr>\n",
              "  </tbody>\n",
              "</table>\n",
              "</div>\n",
              "      <button class=\"colab-df-convert\" onclick=\"convertToInteractive('df-da702b95-65f3-4310-8a15-cfafb419032f')\"\n",
              "              title=\"Convert this dataframe to an interactive table.\"\n",
              "              style=\"display:none;\">\n",
              "        \n",
              "  <svg xmlns=\"http://www.w3.org/2000/svg\" height=\"24px\"viewBox=\"0 0 24 24\"\n",
              "       width=\"24px\">\n",
              "    <path d=\"M0 0h24v24H0V0z\" fill=\"none\"/>\n",
              "    <path d=\"M18.56 5.44l.94 2.06.94-2.06 2.06-.94-2.06-.94-.94-2.06-.94 2.06-2.06.94zm-11 1L8.5 8.5l.94-2.06 2.06-.94-2.06-.94L8.5 2.5l-.94 2.06-2.06.94zm10 10l.94 2.06.94-2.06 2.06-.94-2.06-.94-.94-2.06-.94 2.06-2.06.94z\"/><path d=\"M17.41 7.96l-1.37-1.37c-.4-.4-.92-.59-1.43-.59-.52 0-1.04.2-1.43.59L10.3 9.45l-7.72 7.72c-.78.78-.78 2.05 0 2.83L4 21.41c.39.39.9.59 1.41.59.51 0 1.02-.2 1.41-.59l7.78-7.78 2.81-2.81c.8-.78.8-2.07 0-2.86zM5.41 20L4 18.59l7.72-7.72 1.47 1.35L5.41 20z\"/>\n",
              "  </svg>\n",
              "      </button>\n",
              "      \n",
              "  <style>\n",
              "    .colab-df-container {\n",
              "      display:flex;\n",
              "      flex-wrap:wrap;\n",
              "      gap: 12px;\n",
              "    }\n",
              "\n",
              "    .colab-df-convert {\n",
              "      background-color: #E8F0FE;\n",
              "      border: none;\n",
              "      border-radius: 50%;\n",
              "      cursor: pointer;\n",
              "      display: none;\n",
              "      fill: #1967D2;\n",
              "      height: 32px;\n",
              "      padding: 0 0 0 0;\n",
              "      width: 32px;\n",
              "    }\n",
              "\n",
              "    .colab-df-convert:hover {\n",
              "      background-color: #E2EBFA;\n",
              "      box-shadow: 0px 1px 2px rgba(60, 64, 67, 0.3), 0px 1px 3px 1px rgba(60, 64, 67, 0.15);\n",
              "      fill: #174EA6;\n",
              "    }\n",
              "\n",
              "    [theme=dark] .colab-df-convert {\n",
              "      background-color: #3B4455;\n",
              "      fill: #D2E3FC;\n",
              "    }\n",
              "\n",
              "    [theme=dark] .colab-df-convert:hover {\n",
              "      background-color: #434B5C;\n",
              "      box-shadow: 0px 1px 3px 1px rgba(0, 0, 0, 0.15);\n",
              "      filter: drop-shadow(0px 1px 2px rgba(0, 0, 0, 0.3));\n",
              "      fill: #FFFFFF;\n",
              "    }\n",
              "  </style>\n",
              "\n",
              "      <script>\n",
              "        const buttonEl =\n",
              "          document.querySelector('#df-da702b95-65f3-4310-8a15-cfafb419032f button.colab-df-convert');\n",
              "        buttonEl.style.display =\n",
              "          google.colab.kernel.accessAllowed ? 'block' : 'none';\n",
              "\n",
              "        async function convertToInteractive(key) {\n",
              "          const element = document.querySelector('#df-da702b95-65f3-4310-8a15-cfafb419032f');\n",
              "          const dataTable =\n",
              "            await google.colab.kernel.invokeFunction('convertToInteractive',\n",
              "                                                     [key], {});\n",
              "          if (!dataTable) return;\n",
              "\n",
              "          const docLinkHtml = 'Like what you see? Visit the ' +\n",
              "            '<a target=\"_blank\" href=https://colab.research.google.com/notebooks/data_table.ipynb>data table notebook</a>'\n",
              "            + ' to learn more about interactive tables.';\n",
              "          element.innerHTML = '';\n",
              "          dataTable['output_type'] = 'display_data';\n",
              "          await google.colab.output.renderOutput(dataTable, element);\n",
              "          const docLink = document.createElement('div');\n",
              "          docLink.innerHTML = docLinkHtml;\n",
              "          element.appendChild(docLink);\n",
              "        }\n",
              "      </script>\n",
              "    </div>\n",
              "  </div>\n",
              "  "
            ],
            "text/plain": [
              "      classe  \\\n",
              "5485  1        \n",
              "5192  1        \n",
              "4781  1        \n",
              "4642  1        \n",
              "4559  1        \n",
              "\n",
              "                                                                                                                                                                                                                                                                                                                                                                                                      texto  \\\n",
              "5485  CONTRASTE: Enquanto manifestantes e PM se confrontavam,  engravatados se divertiam em um regabofe. .  Do lado de dentro: Um divertido coquetel acontecia nas dependências da Câmara dos Deputados. Do lado de fora: A PM confrontava manifestantes. A foto de Gisele Arthur resume o que acontece em nosso país.                                                                                        \n",
              "5192  Repórter pergunta para Dória se dá para construir um diálogo com pichadores: \"Não negocio com bandidos\".  Dória participou de uma sabatina na CBN (leia-se Globo) com duas jornalistas.  Elas bem que tentaram induzir o prefeito com algumas perguntas capiciosas. Bem, o resultado você assiste no vídeo abaixo: \"Não vou negociar com pichadores. Não negocio com bandidos\" disse o prefeito de SP   \n",
              "4781  Na surdina? Deputados tentaram votar reajuste para servidores federais na madrugada. .  Enquanto não há dinheiro para pagar os pobres velhinhos que recebem apenas 1 salário mínimo de aposentadoria, a Câmara dos Deputados faz sua parte [...] só que faz ao contrário.                                                                                                                               \n",
              "4642  A deselegância de Zezé: \"Passar a mulher da gente pra trás é fácil, difícil é passar para frente\". .  Em uma entrevista exibida no programa de Danilo Gentili, o sertanejo soltou mais uma: \" Passar a mulher da gente pra trás é fácil, difícil é passar para frente\". Calma Zezé! Dinheiro não é tudo. Essa sua deselegância só demonstra uma coisa: insegurança total! leia também:                  \n",
              "4559  Cantora Elza Soares (80 anos) era um dos passageiros do avião que pegou fogo no ar: \"Fiquei paralisada\".  O incidente aconteceu na madrugada da última sexta-feira (4) durante um voo da empresa American Airlines.                                                                                                                                                                                     \n",
              "\n",
              "                                                                                                                                                                                                                                                                                                                                                                                                texto_limpo  \n",
              "5485  CONTRASTE: Enquanto manifestantes e PM se confrontavam,  engravatados se divertiam em um regabofe. .  Do lado de dentro: Um divertido coquetel acontecia nas dependências da Câmara dos Deputados. Do lado de fora: A PM confrontava manifestantes. A foto de Gisele Arthur resume o que acontece em nosso país.                                                                                       \n",
              "5192  Repórter pergunta para Dória se dá para construir um diálogo com pichadores: \"Não negocio com bandidos\".  Dória participou de uma sabatina na CBN (leia-se Globo) com duas jornalistas.  Elas bem que tentaram induzir o prefeito com algumas perguntas capiciosas. Bem, o resultado você assiste no vídeo abaixo: \"Não vou negociar com pichadores. Não negocio com bandidos\" disse o prefeito de SP  \n",
              "4781  Na surdina? Deputados tentaram votar reajuste para servidores federais na madrugada. .  Enquanto não há dinheiro para pagar os pobres velhinhos que recebem apenas 1 salário mínimo de aposentadoria, a Câmara dos Deputados faz sua parte [...] só que faz ao contrário.                                                                                                                              \n",
              "4642  A deselegância de Zezé: \"Passar a mulher da gente pra trás é fácil, difícil é passar para frente\". .  Em uma entrevista exibida no programa de Danilo Gentili, o sertanejo soltou mais uma: \" Passar a mulher da gente pra trás é fácil, difícil é passar para frente\". Calma Zezé! Dinheiro não é tudo. Essa sua deselegância só demonstra uma coisa: insegurança total! leia também:                 \n",
              "4559  Cantora Elza Soares (80 anos) era um dos passageiros do avião que pegou fogo no ar: \"Fiquei paralisada\".  O incidente aconteceu na madrugada da última sexta-feira (4) durante um voo da empresa American Airlines.                                                                                                                                                                                    "
            ]
          },
          "metadata": {},
          "output_type": "display_data"
        }
      ],
      "source": [
        "display(dados[dados['texto'].str.len()<400].sample(n=5)[['classe', 'texto', 'texto_limpo']])"
      ]
    },
    {
      "cell_type": "code",
      "execution_count": 103,
      "metadata": {
        "colab": {
          "base_uri": "https://localhost:8080/"
        },
        "id": "cxF_h0qs-4nO",
        "outputId": "6f78ff7c-14a8-4d8c-9a6a-34bd72af04da"
      },
      "outputs": [
        {
          "name": "stdout",
          "output_type": "stream",
          "text": [
            "campo [...] e resolveu.  . estender  ...  Dilma, ator Otávio Augusto entra no páreo\n"
          ]
        }
      ],
      "source": [
        "texto = \"campo [...] e resolveu. \\n. estender  ... \\\\nDilma, ator Otávio Augusto entra no páreo\"\n",
        "#texto = texto.replace('\\.\\w\\s', ' ') \n",
        "print(texto)"
      ]
    },
    {
      "cell_type": "code",
      "execution_count": null,
      "metadata": {
        "id": "YCO1XnsHPtyd"
      },
      "outputs": [],
      "source": [
        "# Salva dados para uso no notebook do próximo passo.\n",
        "os.makedirs(\"dados/\", exist_ok=True)\n",
        "dados.to_csv('dados/datasets_unificados.csv', sep = ',', index = True)"
      ]
    }
  ],
  "metadata": {
    "colab": {
      "collapsed_sections": [],
      "include_colab_link": true,
      "machine_shape": "hm",
      "name": "ultimo_mesmo_fake_news_bertimbau.ipynb",
      "provenance": []
    },
    "interpreter": {
      "hash": "50691a0bc379e9e647c9463feff34781ae883c7b810726d51a7ed60c4a02b637"
    },
    "kernelspec": {
      "display_name": "Python 3.8.13 ('tcc')",
      "language": "python",
      "name": "python3"
    },
    "language_info": {
      "codemirror_mode": {
        "name": "ipython",
        "version": 3
      },
      "file_extension": ".py",
      "mimetype": "text/x-python",
      "name": "python",
      "nbconvert_exporter": "python",
      "pygments_lexer": "ipython3",
      "version": "3.8.13"
    }
  },
  "nbformat": 4,
  "nbformat_minor": 0
}
