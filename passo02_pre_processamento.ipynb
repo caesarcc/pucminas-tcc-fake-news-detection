{
  "cells": [
    {
      "cell_type": "markdown",
      "metadata": {
        "id": "view-in-github",
        "colab_type": "text"
      },
      "source": [
        "<a href=\"https://colab.research.google.com/github/caesarcc/pucminas-tcc-fake-news-detection/blob/main/passo02_pre_processamento.ipynb\" target=\"_parent\"><img src=\"https://colab.research.google.com/assets/colab-badge.svg\" alt=\"Open In Colab\"/></a>"
      ]
    },
    {
      "cell_type": "markdown",
      "metadata": {
        "id": "WRxgfVVsPtyK"
      },
      "source": [
        "## Pre-Processamento e limpeza do dataset\n",
        "\n",
        "### Iniciando pela configuração do Google Colab"
      ]
    },
    {
      "cell_type": "code",
      "execution_count": 42,
      "metadata": {
        "colab": {
          "base_uri": "https://localhost:8080/"
        },
        "id": "6hB_K-J4iA-r",
        "outputId": "ceeb5650-81c3-4be7-a060-fa578a91347e"
      },
      "outputs": [
        {
          "output_type": "stream",
          "name": "stdout",
          "text": [
            "Looking in indexes: https://pypi.org/simple, https://us-python.pkg.dev/colab-wheels/public/simple/\n",
            "Collecting pt-core-news-sm==3.3.0\n",
            "  Downloading https://github.com/explosion/spacy-models/releases/download/pt_core_news_sm-3.3.0/pt_core_news_sm-3.3.0-py3-none-any.whl (13.0 MB)\n",
            "\u001b[K     |████████████████████████████████| 13.0 MB 14.1 MB/s \n",
            "\u001b[?25hRequirement already satisfied: spacy<3.4.0,>=3.3.0.dev0 in /usr/local/lib/python3.7/dist-packages (from pt-core-news-sm==3.3.0) (3.3.1)\n",
            "Requirement already satisfied: wasabi<1.1.0,>=0.9.1 in /usr/local/lib/python3.7/dist-packages (from spacy<3.4.0,>=3.3.0.dev0->pt-core-news-sm==3.3.0) (0.9.1)\n",
            "Requirement already satisfied: pydantic!=1.8,!=1.8.1,<1.9.0,>=1.7.4 in /usr/local/lib/python3.7/dist-packages (from spacy<3.4.0,>=3.3.0.dev0->pt-core-news-sm==3.3.0) (1.8.2)\n",
            "Requirement already satisfied: numpy>=1.15.0 in /usr/local/lib/python3.7/dist-packages (from spacy<3.4.0,>=3.3.0.dev0->pt-core-news-sm==3.3.0) (1.21.6)\n",
            "Requirement already satisfied: jinja2 in /usr/local/lib/python3.7/dist-packages (from spacy<3.4.0,>=3.3.0.dev0->pt-core-news-sm==3.3.0) (2.11.3)\n",
            "Requirement already satisfied: requests<3.0.0,>=2.13.0 in /usr/local/lib/python3.7/dist-packages (from spacy<3.4.0,>=3.3.0.dev0->pt-core-news-sm==3.3.0) (2.23.0)\n",
            "Requirement already satisfied: spacy-legacy<3.1.0,>=3.0.9 in /usr/local/lib/python3.7/dist-packages (from spacy<3.4.0,>=3.3.0.dev0->pt-core-news-sm==3.3.0) (3.0.9)\n",
            "Requirement already satisfied: langcodes<4.0.0,>=3.2.0 in /usr/local/lib/python3.7/dist-packages (from spacy<3.4.0,>=3.3.0.dev0->pt-core-news-sm==3.3.0) (3.3.0)\n",
            "Requirement already satisfied: preshed<3.1.0,>=3.0.2 in /usr/local/lib/python3.7/dist-packages (from spacy<3.4.0,>=3.3.0.dev0->pt-core-news-sm==3.3.0) (3.0.6)\n",
            "Requirement already satisfied: setuptools in /usr/local/lib/python3.7/dist-packages (from spacy<3.4.0,>=3.3.0.dev0->pt-core-news-sm==3.3.0) (57.4.0)\n",
            "Requirement already satisfied: spacy-loggers<2.0.0,>=1.0.0 in /usr/local/lib/python3.7/dist-packages (from spacy<3.4.0,>=3.3.0.dev0->pt-core-news-sm==3.3.0) (1.0.2)\n",
            "Requirement already satisfied: typing-extensions<4.2.0,>=3.7.4 in /usr/local/lib/python3.7/dist-packages (from spacy<3.4.0,>=3.3.0.dev0->pt-core-news-sm==3.3.0) (4.1.1)\n",
            "Requirement already satisfied: srsly<3.0.0,>=2.4.3 in /usr/local/lib/python3.7/dist-packages (from spacy<3.4.0,>=3.3.0.dev0->pt-core-news-sm==3.3.0) (2.4.3)\n",
            "Requirement already satisfied: typer<0.5.0,>=0.3.0 in /usr/local/lib/python3.7/dist-packages (from spacy<3.4.0,>=3.3.0.dev0->pt-core-news-sm==3.3.0) (0.4.1)\n",
            "Requirement already satisfied: packaging>=20.0 in /usr/local/lib/python3.7/dist-packages (from spacy<3.4.0,>=3.3.0.dev0->pt-core-news-sm==3.3.0) (21.3)\n",
            "Requirement already satisfied: blis<0.8.0,>=0.4.0 in /usr/local/lib/python3.7/dist-packages (from spacy<3.4.0,>=3.3.0.dev0->pt-core-news-sm==3.3.0) (0.7.7)\n",
            "Requirement already satisfied: tqdm<5.0.0,>=4.38.0 in /usr/local/lib/python3.7/dist-packages (from spacy<3.4.0,>=3.3.0.dev0->pt-core-news-sm==3.3.0) (4.64.0)\n",
            "Requirement already satisfied: murmurhash<1.1.0,>=0.28.0 in /usr/local/lib/python3.7/dist-packages (from spacy<3.4.0,>=3.3.0.dev0->pt-core-news-sm==3.3.0) (1.0.7)\n",
            "Requirement already satisfied: cymem<2.1.0,>=2.0.2 in /usr/local/lib/python3.7/dist-packages (from spacy<3.4.0,>=3.3.0.dev0->pt-core-news-sm==3.3.0) (2.0.6)\n",
            "Requirement already satisfied: catalogue<2.1.0,>=2.0.6 in /usr/local/lib/python3.7/dist-packages (from spacy<3.4.0,>=3.3.0.dev0->pt-core-news-sm==3.3.0) (2.0.7)\n",
            "Requirement already satisfied: pathy>=0.3.5 in /usr/local/lib/python3.7/dist-packages (from spacy<3.4.0,>=3.3.0.dev0->pt-core-news-sm==3.3.0) (0.6.1)\n",
            "Requirement already satisfied: thinc<8.1.0,>=8.0.14 in /usr/local/lib/python3.7/dist-packages (from spacy<3.4.0,>=3.3.0.dev0->pt-core-news-sm==3.3.0) (8.0.17)\n",
            "Requirement already satisfied: zipp>=0.5 in /usr/local/lib/python3.7/dist-packages (from catalogue<2.1.0,>=2.0.6->spacy<3.4.0,>=3.3.0.dev0->pt-core-news-sm==3.3.0) (3.8.0)\n",
            "Requirement already satisfied: pyparsing!=3.0.5,>=2.0.2 in /usr/local/lib/python3.7/dist-packages (from packaging>=20.0->spacy<3.4.0,>=3.3.0.dev0->pt-core-news-sm==3.3.0) (3.0.9)\n",
            "Requirement already satisfied: smart-open<6.0.0,>=5.0.0 in /usr/local/lib/python3.7/dist-packages (from pathy>=0.3.5->spacy<3.4.0,>=3.3.0.dev0->pt-core-news-sm==3.3.0) (5.2.1)\n",
            "Requirement already satisfied: chardet<4,>=3.0.2 in /usr/local/lib/python3.7/dist-packages (from requests<3.0.0,>=2.13.0->spacy<3.4.0,>=3.3.0.dev0->pt-core-news-sm==3.3.0) (3.0.4)\n",
            "Requirement already satisfied: certifi>=2017.4.17 in /usr/local/lib/python3.7/dist-packages (from requests<3.0.0,>=2.13.0->spacy<3.4.0,>=3.3.0.dev0->pt-core-news-sm==3.3.0) (2022.6.15)\n",
            "Requirement already satisfied: urllib3!=1.25.0,!=1.25.1,<1.26,>=1.21.1 in /usr/local/lib/python3.7/dist-packages (from requests<3.0.0,>=2.13.0->spacy<3.4.0,>=3.3.0.dev0->pt-core-news-sm==3.3.0) (1.24.3)\n",
            "Requirement already satisfied: idna<3,>=2.5 in /usr/local/lib/python3.7/dist-packages (from requests<3.0.0,>=2.13.0->spacy<3.4.0,>=3.3.0.dev0->pt-core-news-sm==3.3.0) (2.10)\n",
            "Requirement already satisfied: click<9.0.0,>=7.1.1 in /usr/local/lib/python3.7/dist-packages (from typer<0.5.0,>=0.3.0->spacy<3.4.0,>=3.3.0.dev0->pt-core-news-sm==3.3.0) (7.1.2)\n",
            "Requirement already satisfied: MarkupSafe>=0.23 in /usr/local/lib/python3.7/dist-packages (from jinja2->spacy<3.4.0,>=3.3.0.dev0->pt-core-news-sm==3.3.0) (2.0.1)\n",
            "\u001b[38;5;2m✔ Download and installation successful\u001b[0m\n",
            "You can now load the package via spacy.load('pt_core_news_sm')\n"
          ]
        }
      ],
      "source": [
        "# Instalação de libs que não estão presentes no Colab\n",
        "!pip install -q emoji\n",
        "!pip install -q transformers --no-cache-dir\n",
        "!pip install -q sentencepiece\n",
        "# Configuração da lib Spacy\n",
        "!python -m spacy download pt_core_news_sm"
      ]
    },
    {
      "cell_type": "code",
      "execution_count": 43,
      "metadata": {
        "colab": {
          "base_uri": "https://localhost:8080/"
        },
        "id": "NC05ATj6Q5mp",
        "outputId": "35ba34aa-0e01-4dae-869a-4ff3fbf8f8db"
      },
      "outputs": [
        {
          "output_type": "stream",
          "name": "stdout",
          "text": [
            "Drive already mounted at /content/drive; to attempt to forcibly remount, call drive.mount(\"/content/drive\", force_remount=True).\n"
          ]
        }
      ],
      "source": [
        "# Configura acesso ao Google Driver onde serão salvos os arquivos grandes\n",
        "from google.colab import drive\n",
        "drive.mount('/content/drive')"
      ]
    },
    {
      "cell_type": "code",
      "execution_count": 44,
      "metadata": {
        "cellView": "form",
        "id": "CPzAh59THwj1"
      },
      "outputs": [],
      "source": [
        "# Importação de bibliotecas utilizadas no pré-processamento\n",
        "import re\n",
        "import emoji\n",
        "from tqdm.auto import tqdm\n",
        "import pandas as pd\n",
        "import numpy as np\n",
        "import matplotlib.pyplot as plt\n",
        "import seaborn as sns\n",
        "import torch\n",
        "import pt_core_news_sm\n",
        "from transformers import AutoTokenizer, AutoModelForSeq2SeqLM\n",
        "from IPython.display import display"
      ]
    },
    {
      "cell_type": "code",
      "source": [
        "#Configurações de ambiente\n",
        "%matplotlib inline\n",
        "# limites de impressão para o pandas\n",
        "pd.set_option(\"display.max_rows\", 50, 'display.max_colwidth', 350)\n",
        "# configura tema dos gráficos\n",
        "sns.set_theme(style=\"whitegrid\")\n",
        "#configura a barra de progressos para usar no apply\n",
        "tqdm.pandas()\n",
        "# Identifica device gpu ou cpu disponível\n",
        "device_disponivel = 'cuda' if torch.cuda.is_available() else 'cpu'\n",
        "!nvidia-smi"
      ],
      "metadata": {
        "id": "lKmAvvAxIOXO",
        "outputId": "4fc707d2-8238-4b3d-c28d-426ec2a9bb55",
        "colab": {
          "base_uri": "https://localhost:8080/"
        }
      },
      "execution_count": 45,
      "outputs": [
        {
          "output_type": "stream",
          "name": "stdout",
          "text": [
            "Tue Jun 28 20:58:52 2022       \n",
            "+-----------------------------------------------------------------------------+\n",
            "| NVIDIA-SMI 460.32.03    Driver Version: 460.32.03    CUDA Version: 11.2     |\n",
            "|-------------------------------+----------------------+----------------------+\n",
            "| GPU  Name        Persistence-M| Bus-Id        Disp.A | Volatile Uncorr. ECC |\n",
            "| Fan  Temp  Perf  Pwr:Usage/Cap|         Memory-Usage | GPU-Util  Compute M. |\n",
            "|                               |                      |               MIG M. |\n",
            "|===============================+======================+======================|\n",
            "|   0  Tesla T4            Off  | 00000000:00:04.0 Off |                    0 |\n",
            "| N/A   65C    P0    31W /  70W |   2056MiB / 15109MiB |      0%      Default |\n",
            "|                               |                      |                  N/A |\n",
            "+-------------------------------+----------------------+----------------------+\n",
            "                                                                               \n",
            "+-----------------------------------------------------------------------------+\n",
            "| Processes:                                                                  |\n",
            "|  GPU   GI   CI        PID   Type   Process name                  GPU Memory |\n",
            "|        ID   ID                                                   Usage      |\n",
            "|=============================================================================|\n",
            "+-----------------------------------------------------------------------------+\n"
          ]
        }
      ]
    },
    {
      "cell_type": "markdown",
      "metadata": {
        "id": "CAIEyECELbcI"
      },
      "source": [
        "### Carregar arquivo CSV das bases unificadas e validar"
      ]
    },
    {
      "cell_type": "code",
      "execution_count": 338,
      "metadata": {
        "colab": {
          "base_uri": "https://localhost:8080/"
        },
        "id": "x-_cNp9TLjj7",
        "outputId": "c7439a00-0a29-456e-e3b1-ef186c6389aa"
      },
      "outputs": [
        {
          "output_type": "stream",
          "name": "stdout",
          "text": [
            "<class 'pandas.core.frame.DataFrame'>\n",
            "RangeIndex: 9537 entries, 0 to 9536\n",
            "Data columns (total 2 columns):\n",
            " #   Column  Non-Null Count  Dtype \n",
            "---  ------  --------------  ----- \n",
            " 0   texto   9537 non-null   object\n",
            " 1   classe  9537 non-null   int64 \n",
            "dtypes: int64(1), object(1)\n",
            "memory usage: 149.1+ KB\n"
          ]
        }
      ],
      "source": [
        "dados = pd.read_csv(r'/content/drive/MyDrive/PUC/TCC/dados/datasets_unificados.csv', \n",
        "                    sep = ',', names=['texto', 'classe'], header=1).reset_index(drop=True)\n",
        "dados.info()"
      ]
    },
    {
      "cell_type": "code",
      "execution_count": 339,
      "metadata": {
        "colab": {
          "base_uri": "https://localhost:8080/",
          "height": 337
        },
        "id": "foUthMFjVRxp",
        "outputId": "a20fa710-3365-4729-a294-0bd49d3dfbd9"
      },
      "outputs": [
        {
          "output_type": "execute_result",
          "data": {
            "text/plain": [
              "                                                                                                                                                                                                                                                                                                                                                                                                             texto  \\\n",
              "8877  Rapaz eu nunca achei que fosse conhecer um cabra tão macho e tão verdadeiro em suas palavras... pense num cabra véi macho!😳👇👇👇👇                                                                                                                                                                                                                                                                                \n",
              "7533  *Não sabe ainda em qual candidato a presidente vc vai votar?*\\n*Vou te ajudar*\\n👇🏼👇🏼👇🏼👇🏼👇🏼👇🏼👇🏼\\n\\n*1° Pegue o número da sua idade.*\\n*2° multiplique por 2.*\\n*3° Some 34 ao resultado.*\\n*4° Divide por 2.* \\n*5° Diminua a sua idade.*\\n*Resultado????*\\n*Esse número você deverá votar para presidente* 😉                                                                                                   \n",
              "8881  Olha o \"eleitor do Bolsonaro\" que foi xingar o Haddad na Missa - nota do PT. Na verdade, é um *petista passando por eleitor do Bolsonaro*. \\n*Esse é  Gérson Florindo, Presidente do PT de Ubatuba - SP*. \\nSó tem *canalha* nesse partido! Não salva um 😡😡😡                                                                                                                                                   \n",
              "7390  E nós achávamos que este homem era louco. E olha o que ele disse há alguns anos atrás respondendo a uma pergunta ofensiva, imbecil e de baixo nível do jornalista Teodomiro Braga do Jornal do Brasil. Verdade extrema! 👇👇👇😳😳                                                                                                                                                                                  \n",
              "9081  *NOTÍCIA URGENTE PLANTÃO DA GLOBO*\\n\\nURGENTE: STJ acaba de deferir Habeas Corpus ao ex-presidente Lula.\\nNo mérito da matéria, o Ministro suspende a decisão do TRF da 4 Região e permite que ele seja candidato nas próximas eleições.\\nVeja a íntegra da decisão em https://g1.globo.com https://encrypted-tbn3.gstatic.com/images?q=tbn:ANd9GcTu8G-W0iEFB7QbWgrqjsTtmofCMcY9Gp1MrRrI5XQ3LDeqGmG-cmSGKTqF   \n",
              "\n",
              "      classe  \n",
              "8877  0       \n",
              "7533  0       \n",
              "8881  1       \n",
              "7390  0       \n",
              "9081  1       "
            ],
            "text/html": [
              "\n",
              "  <div id=\"df-7c24e6f5-cfa8-4f2e-9691-936663bde0d7\">\n",
              "    <div class=\"colab-df-container\">\n",
              "      <div>\n",
              "<style scoped>\n",
              "    .dataframe tbody tr th:only-of-type {\n",
              "        vertical-align: middle;\n",
              "    }\n",
              "\n",
              "    .dataframe tbody tr th {\n",
              "        vertical-align: top;\n",
              "    }\n",
              "\n",
              "    .dataframe thead th {\n",
              "        text-align: right;\n",
              "    }\n",
              "</style>\n",
              "<table border=\"1\" class=\"dataframe\">\n",
              "  <thead>\n",
              "    <tr style=\"text-align: right;\">\n",
              "      <th></th>\n",
              "      <th>texto</th>\n",
              "      <th>classe</th>\n",
              "    </tr>\n",
              "  </thead>\n",
              "  <tbody>\n",
              "    <tr>\n",
              "      <th>8877</th>\n",
              "      <td>Rapaz eu nunca achei que fosse conhecer um cabra tão macho e tão verdadeiro em suas palavras... pense num cabra véi macho!😳👇👇👇👇</td>\n",
              "      <td>0</td>\n",
              "    </tr>\n",
              "    <tr>\n",
              "      <th>7533</th>\n",
              "      <td>*Não sabe ainda em qual candidato a presidente vc vai votar?*\\n*Vou te ajudar*\\n👇🏼👇🏼👇🏼👇🏼👇🏼👇🏼👇🏼\\n\\n*1° Pegue o número da sua idade.*\\n*2° multiplique por 2.*\\n*3° Some 34 ao resultado.*\\n*4° Divide por 2.* \\n*5° Diminua a sua idade.*\\n*Resultado????*\\n*Esse número você deverá votar para presidente* 😉</td>\n",
              "      <td>0</td>\n",
              "    </tr>\n",
              "    <tr>\n",
              "      <th>8881</th>\n",
              "      <td>Olha o \"eleitor do Bolsonaro\" que foi xingar o Haddad na Missa - nota do PT. Na verdade, é um *petista passando por eleitor do Bolsonaro*. \\n*Esse é  Gérson Florindo, Presidente do PT de Ubatuba - SP*. \\nSó tem *canalha* nesse partido! Não salva um 😡😡😡</td>\n",
              "      <td>1</td>\n",
              "    </tr>\n",
              "    <tr>\n",
              "      <th>7390</th>\n",
              "      <td>E nós achávamos que este homem era louco. E olha o que ele disse há alguns anos atrás respondendo a uma pergunta ofensiva, imbecil e de baixo nível do jornalista Teodomiro Braga do Jornal do Brasil. Verdade extrema! 👇👇👇😳😳</td>\n",
              "      <td>0</td>\n",
              "    </tr>\n",
              "    <tr>\n",
              "      <th>9081</th>\n",
              "      <td>*NOTÍCIA URGENTE PLANTÃO DA GLOBO*\\n\\nURGENTE: STJ acaba de deferir Habeas Corpus ao ex-presidente Lula.\\nNo mérito da matéria, o Ministro suspende a decisão do TRF da 4 Região e permite que ele seja candidato nas próximas eleições.\\nVeja a íntegra da decisão em https://g1.globo.com https://encrypted-tbn3.gstatic.com/images?q=tbn:ANd9GcTu8G-W0iEFB7QbWgrqjsTtmofCMcY9Gp1MrRrI5XQ3LDeqGmG-cmSGKTqF</td>\n",
              "      <td>1</td>\n",
              "    </tr>\n",
              "  </tbody>\n",
              "</table>\n",
              "</div>\n",
              "      <button class=\"colab-df-convert\" onclick=\"convertToInteractive('df-7c24e6f5-cfa8-4f2e-9691-936663bde0d7')\"\n",
              "              title=\"Convert this dataframe to an interactive table.\"\n",
              "              style=\"display:none;\">\n",
              "        \n",
              "  <svg xmlns=\"http://www.w3.org/2000/svg\" height=\"24px\"viewBox=\"0 0 24 24\"\n",
              "       width=\"24px\">\n",
              "    <path d=\"M0 0h24v24H0V0z\" fill=\"none\"/>\n",
              "    <path d=\"M18.56 5.44l.94 2.06.94-2.06 2.06-.94-2.06-.94-.94-2.06-.94 2.06-2.06.94zm-11 1L8.5 8.5l.94-2.06 2.06-.94-2.06-.94L8.5 2.5l-.94 2.06-2.06.94zm10 10l.94 2.06.94-2.06 2.06-.94-2.06-.94-.94-2.06-.94 2.06-2.06.94z\"/><path d=\"M17.41 7.96l-1.37-1.37c-.4-.4-.92-.59-1.43-.59-.52 0-1.04.2-1.43.59L10.3 9.45l-7.72 7.72c-.78.78-.78 2.05 0 2.83L4 21.41c.39.39.9.59 1.41.59.51 0 1.02-.2 1.41-.59l7.78-7.78 2.81-2.81c.8-.78.8-2.07 0-2.86zM5.41 20L4 18.59l7.72-7.72 1.47 1.35L5.41 20z\"/>\n",
              "  </svg>\n",
              "      </button>\n",
              "      \n",
              "  <style>\n",
              "    .colab-df-container {\n",
              "      display:flex;\n",
              "      flex-wrap:wrap;\n",
              "      gap: 12px;\n",
              "    }\n",
              "\n",
              "    .colab-df-convert {\n",
              "      background-color: #E8F0FE;\n",
              "      border: none;\n",
              "      border-radius: 50%;\n",
              "      cursor: pointer;\n",
              "      display: none;\n",
              "      fill: #1967D2;\n",
              "      height: 32px;\n",
              "      padding: 0 0 0 0;\n",
              "      width: 32px;\n",
              "    }\n",
              "\n",
              "    .colab-df-convert:hover {\n",
              "      background-color: #E2EBFA;\n",
              "      box-shadow: 0px 1px 2px rgba(60, 64, 67, 0.3), 0px 1px 3px 1px rgba(60, 64, 67, 0.15);\n",
              "      fill: #174EA6;\n",
              "    }\n",
              "\n",
              "    [theme=dark] .colab-df-convert {\n",
              "      background-color: #3B4455;\n",
              "      fill: #D2E3FC;\n",
              "    }\n",
              "\n",
              "    [theme=dark] .colab-df-convert:hover {\n",
              "      background-color: #434B5C;\n",
              "      box-shadow: 0px 1px 3px 1px rgba(0, 0, 0, 0.15);\n",
              "      filter: drop-shadow(0px 1px 2px rgba(0, 0, 0, 0.3));\n",
              "      fill: #FFFFFF;\n",
              "    }\n",
              "  </style>\n",
              "\n",
              "      <script>\n",
              "        const buttonEl =\n",
              "          document.querySelector('#df-7c24e6f5-cfa8-4f2e-9691-936663bde0d7 button.colab-df-convert');\n",
              "        buttonEl.style.display =\n",
              "          google.colab.kernel.accessAllowed ? 'block' : 'none';\n",
              "\n",
              "        async function convertToInteractive(key) {\n",
              "          const element = document.querySelector('#df-7c24e6f5-cfa8-4f2e-9691-936663bde0d7');\n",
              "          const dataTable =\n",
              "            await google.colab.kernel.invokeFunction('convertToInteractive',\n",
              "                                                     [key], {});\n",
              "          if (!dataTable) return;\n",
              "\n",
              "          const docLinkHtml = 'Like what you see? Visit the ' +\n",
              "            '<a target=\"_blank\" href=https://colab.research.google.com/notebooks/data_table.ipynb>data table notebook</a>'\n",
              "            + ' to learn more about interactive tables.';\n",
              "          element.innerHTML = '';\n",
              "          dataTable['output_type'] = 'display_data';\n",
              "          await google.colab.output.renderOutput(dataTable, element);\n",
              "          const docLink = document.createElement('div');\n",
              "          docLink.innerHTML = docLinkHtml;\n",
              "          element.appendChild(docLink);\n",
              "        }\n",
              "      </script>\n",
              "    </div>\n",
              "  </div>\n",
              "  "
            ]
          },
          "metadata": {},
          "execution_count": 339
        }
      ],
      "source": [
        "dados[dados['texto'].str.len()<400].sample(n=5)"
      ]
    },
    {
      "cell_type": "markdown",
      "metadata": {
        "id": "g31RWCqPZCH7"
      },
      "source": [
        "### Exploração e limpeza de dados"
      ]
    },
    {
      "cell_type": "code",
      "execution_count": 340,
      "metadata": {
        "id": "EbTZch_bPtyZ",
        "outputId": "1ad1397c-d30b-4a2f-8c38-ba9f4241aaeb",
        "colab": {
          "base_uri": "https://localhost:8080/",
          "height": 49,
          "referenced_widgets": [
            "eabc46fb19ee41458cabfb41aff5cb0a",
            "da66763de86b4549a38ebee37fb01267",
            "55443be689a44f3d9bf10d51443580b7",
            "7d05006d48584809bf531778f3e4a915",
            "e061274af9e247679c83bc445cd71ba6",
            "548700f226a74030bca78288c4ed9664",
            "9c1f0be057624244ab58093bbea9b701",
            "f644b69df2384fdca66238b61341e472",
            "e99d24a7c9be480aafc4126431cfef08",
            "2527707de4314f9087102bb341baf5ce",
            "dab481dc2ba54ba0a0f7ca8c06bf3da3"
          ]
        }
      },
      "outputs": [
        {
          "output_type": "display_data",
          "data": {
            "text/plain": [
              "  0%|          | 0/9537 [00:00<?, ?it/s]"
            ],
            "application/vnd.jupyter.widget-view+json": {
              "version_major": 2,
              "version_minor": 0,
              "model_id": "eabc46fb19ee41458cabfb41aff5cb0a"
            }
          },
          "metadata": {}
        }
      ],
      "source": [
        "def limpar_textos(texto):\n",
        "    # Corrige marcadores de nova linha indevidos (textuas e não textuais)\n",
        "    texto = re.sub(r'(\\n|\\r)', ' ', re.sub('(\\n|\\r)', ' ', texto))\n",
        "    # Remove urls no texto\n",
        "    texto = re.sub(r'(https|http|ftp)?:\\/\\/(\\w|\\.|-|\\/|\\?|\\=|\\&|\\%)*\\b', '', texto)\n",
        "    # Remove emojis por lib\n",
        "    texto = emoji.replace_emoji(texto, replace='')\n",
        "    # Mantem apenas caracteres alfanuméricos com e sem acentuação + pontuação\n",
        "    texto = re.sub(u'[^a-zA-Z0-9áéíóúÁÉÍÓÚâêîôÂÊÎÔãõÃÕçÇ:\\-,.\" ]', '', texto)\n",
        "    # Remove reticências e pontuação incorreta\n",
        "    texto = re.sub(r'(\\.\\.|\\.\\.\\.|\\.\\.\\.\\.|\\. \\.)', '', texto)\n",
        "    # Remove números concatenados ao final ou início de palavras\n",
        "    texto = re.sub(r'(?:([a-z])\\d+|\\d([a-z]))', r'\\1\\2', texto)\n",
        "    # Remove multiplos caracteres em branco\n",
        "    return re.sub(r'\\s+',' ', texto).strip()\n",
        "\n",
        "dados[\"texto_limpo\"] = dados.texto.progress_apply(limpar_textos)\n",
        "dados[\"qtde_limpo\"] = dados.texto_limpo.apply(\n",
        "                                lambda texto: len(re.findall(r\"[\\w']+\", texto)))"
      ]
    },
    {
      "cell_type": "code",
      "execution_count": 14,
      "metadata": {
        "colab": {
          "base_uri": "https://localhost:8080/",
          "height": 528
        },
        "id": "xBxHYwFx-Vq5",
        "outputId": "50fd62fb-6971-433a-ea32-ceffc2651a2c"
      },
      "outputs": [
        {
          "output_type": "display_data",
          "data": {
            "text/plain": [
              "      classe  \\\n",
              "9375       1   \n",
              "9261       0   \n",
              "4742       1   \n",
              "9079       0   \n",
              "5100       1   \n",
              "\n",
              "                                                                                                                                                                                                                                                                                                                                                              texto  \\\n",
              "9375  Adélio Bispo de Oliveira foi a mão que realizou os pensamentos de toda a elite bilionária, de toda a esquerda subsidiada, de toda a mídia comprada. Bolsonaro está cercado por milhões de assassinos, E ainda veremos toda essa gente alegando a violência que ele sofreu como prova de que o violento é ele. Esperem e verão.\\nhttps://blogdoolavo.com/pe...   \n",
              "9261  Flavio Bolsonaro 177 Senador_RJ (@FlavioBolsonaro) tweetou: Infelizmente foi mais grave que esperávamos. A perfuração atingiu parte do fígado, do pulmão e da alça do intestino. Perdeu muito sangue, chegou no hospital com pressão de 10/3, quase morto... Seu estado agora parece estabilizado. Orem, por favor! https://twitter.com/FlavioBolsonaro/st...   \n",
              "4742                                                                                                                                                                                   Coreia do Norte dispara diversos mísseis simultaneamente.  A Coreia do Norte disparou diversos mísseis na noite de hoje, horario de Brasília (manhã do dia 08/06 na Coreia).   \n",
              "9079                                                                                                                                                                                                                                                               👏🏿👏🏿👏🏿Quem tem a ex mulher fazendo campanha a favor, é porque não deve ser um cara ruim, né?...😉   \n",
              "5100  Se Temer for cassado, FHC tem grandes chances de assumir a presidência até 2018.  O ex-presidente Fernando Henrique Cardoso tem grandes chances de assumir a presidência da república com um empurrãozinho do Congresso.  Vamos explicar. O artigo 81 da Constituição Federal diz o seguinte: É cobra comendo cobra [...] o PMDB que \"comeu\" o PT [...] po...   \n",
              "\n",
              "                                                                                                                                                                                                                                                                                                                                                        texto_limpo  \\\n",
              "9375                                 Adélio Bispo de Oliveira foi a mão que realizou os pensamentos de toda a elite bilionária, de toda a esquerda subsidiada, de toda a mídia comprada. Bolsonaro está cercado por milhões de assassinos, E ainda veremos toda essa gente alegando a violência que ele sofreu como prova de que o violento é ele. Esperem e verão.   \n",
              "9261                                                    Flavio Bolsonaro 177 SenadorRJ FlavioBolsonaro tweetou: Infelizmente foi mais grave que esperávamos. A perfuração atingiu parte do fígado, do pulmão e da alça do intestino. Perdeu muito sangue, chegou no hospital com pressão de 103, quase morto. Seu estado agora parece estabilizado. Orem, por favor   \n",
              "4742                                                                                                                                                                                       Coreia do Norte dispara diversos mísseis simultaneamente. A Coreia do Norte disparou diversos mísseis na noite de hoje, horario de Brasília manhã do dia 0806 na Coreia.   \n",
              "9079                                                                                                                                                                                                                                                                         Quem tem a ex mulher fazendo campanha a favor, é porque não deve ser um cara ruim, né.   \n",
              "5100  Se Temer for cassado, FHC tem grandes chances de assumir a presidência até 2018. O ex-presidente Fernando Henrique Cardoso tem grandes chances de assumir a presidência da república com um empurrãozinho do Congresso. Vamos explicar. O artigo 81 da Constituição Federal diz o seguinte: É cobra comendo cobra . o PMDB que \"comeu\" o PT . poderá ser \"...   \n",
              "\n",
              "      qtde_limpo  \n",
              "9375          56  \n",
              "9261          45  \n",
              "4742          27  \n",
              "9079          18  \n",
              "5100          65  "
            ],
            "text/html": [
              "\n",
              "  <div id=\"df-c6bfe847-ff44-436d-b77e-52b428d5146f\">\n",
              "    <div class=\"colab-df-container\">\n",
              "      <div>\n",
              "<style scoped>\n",
              "    .dataframe tbody tr th:only-of-type {\n",
              "        vertical-align: middle;\n",
              "    }\n",
              "\n",
              "    .dataframe tbody tr th {\n",
              "        vertical-align: top;\n",
              "    }\n",
              "\n",
              "    .dataframe thead th {\n",
              "        text-align: right;\n",
              "    }\n",
              "</style>\n",
              "<table border=\"1\" class=\"dataframe\">\n",
              "  <thead>\n",
              "    <tr style=\"text-align: right;\">\n",
              "      <th></th>\n",
              "      <th>classe</th>\n",
              "      <th>texto</th>\n",
              "      <th>texto_limpo</th>\n",
              "      <th>qtde_limpo</th>\n",
              "    </tr>\n",
              "  </thead>\n",
              "  <tbody>\n",
              "    <tr>\n",
              "      <th>9375</th>\n",
              "      <td>1</td>\n",
              "      <td>Adélio Bispo de Oliveira foi a mão que realizou os pensamentos de toda a elite bilionária, de toda a esquerda subsidiada, de toda a mídia comprada. Bolsonaro está cercado por milhões de assassinos, E ainda veremos toda essa gente alegando a violência que ele sofreu como prova de que o violento é ele. Esperem e verão.\\nhttps://blogdoolavo.com/pe...</td>\n",
              "      <td>Adélio Bispo de Oliveira foi a mão que realizou os pensamentos de toda a elite bilionária, de toda a esquerda subsidiada, de toda a mídia comprada. Bolsonaro está cercado por milhões de assassinos, E ainda veremos toda essa gente alegando a violência que ele sofreu como prova de que o violento é ele. Esperem e verão.</td>\n",
              "      <td>56</td>\n",
              "    </tr>\n",
              "    <tr>\n",
              "      <th>9261</th>\n",
              "      <td>0</td>\n",
              "      <td>Flavio Bolsonaro 177 Senador_RJ (@FlavioBolsonaro) tweetou: Infelizmente foi mais grave que esperávamos. A perfuração atingiu parte do fígado, do pulmão e da alça do intestino. Perdeu muito sangue, chegou no hospital com pressão de 10/3, quase morto... Seu estado agora parece estabilizado. Orem, por favor! https://twitter.com/FlavioBolsonaro/st...</td>\n",
              "      <td>Flavio Bolsonaro 177 SenadorRJ FlavioBolsonaro tweetou: Infelizmente foi mais grave que esperávamos. A perfuração atingiu parte do fígado, do pulmão e da alça do intestino. Perdeu muito sangue, chegou no hospital com pressão de 103, quase morto. Seu estado agora parece estabilizado. Orem, por favor</td>\n",
              "      <td>45</td>\n",
              "    </tr>\n",
              "    <tr>\n",
              "      <th>4742</th>\n",
              "      <td>1</td>\n",
              "      <td>Coreia do Norte dispara diversos mísseis simultaneamente.  A Coreia do Norte disparou diversos mísseis na noite de hoje, horario de Brasília (manhã do dia 08/06 na Coreia).</td>\n",
              "      <td>Coreia do Norte dispara diversos mísseis simultaneamente. A Coreia do Norte disparou diversos mísseis na noite de hoje, horario de Brasília manhã do dia 0806 na Coreia.</td>\n",
              "      <td>27</td>\n",
              "    </tr>\n",
              "    <tr>\n",
              "      <th>9079</th>\n",
              "      <td>0</td>\n",
              "      <td>👏🏿👏🏿👏🏿Quem tem a ex mulher fazendo campanha a favor, é porque não deve ser um cara ruim, né?...😉</td>\n",
              "      <td>Quem tem a ex mulher fazendo campanha a favor, é porque não deve ser um cara ruim, né.</td>\n",
              "      <td>18</td>\n",
              "    </tr>\n",
              "    <tr>\n",
              "      <th>5100</th>\n",
              "      <td>1</td>\n",
              "      <td>Se Temer for cassado, FHC tem grandes chances de assumir a presidência até 2018.  O ex-presidente Fernando Henrique Cardoso tem grandes chances de assumir a presidência da república com um empurrãozinho do Congresso.  Vamos explicar. O artigo 81 da Constituição Federal diz o seguinte: É cobra comendo cobra [...] o PMDB que \"comeu\" o PT [...] po...</td>\n",
              "      <td>Se Temer for cassado, FHC tem grandes chances de assumir a presidência até 2018. O ex-presidente Fernando Henrique Cardoso tem grandes chances de assumir a presidência da república com um empurrãozinho do Congresso. Vamos explicar. O artigo 81 da Constituição Federal diz o seguinte: É cobra comendo cobra . o PMDB que \"comeu\" o PT . poderá ser \"...</td>\n",
              "      <td>65</td>\n",
              "    </tr>\n",
              "  </tbody>\n",
              "</table>\n",
              "</div>\n",
              "      <button class=\"colab-df-convert\" onclick=\"convertToInteractive('df-c6bfe847-ff44-436d-b77e-52b428d5146f')\"\n",
              "              title=\"Convert this dataframe to an interactive table.\"\n",
              "              style=\"display:none;\">\n",
              "        \n",
              "  <svg xmlns=\"http://www.w3.org/2000/svg\" height=\"24px\"viewBox=\"0 0 24 24\"\n",
              "       width=\"24px\">\n",
              "    <path d=\"M0 0h24v24H0V0z\" fill=\"none\"/>\n",
              "    <path d=\"M18.56 5.44l.94 2.06.94-2.06 2.06-.94-2.06-.94-.94-2.06-.94 2.06-2.06.94zm-11 1L8.5 8.5l.94-2.06 2.06-.94-2.06-.94L8.5 2.5l-.94 2.06-2.06.94zm10 10l.94 2.06.94-2.06 2.06-.94-2.06-.94-.94-2.06-.94 2.06-2.06.94z\"/><path d=\"M17.41 7.96l-1.37-1.37c-.4-.4-.92-.59-1.43-.59-.52 0-1.04.2-1.43.59L10.3 9.45l-7.72 7.72c-.78.78-.78 2.05 0 2.83L4 21.41c.39.39.9.59 1.41.59.51 0 1.02-.2 1.41-.59l7.78-7.78 2.81-2.81c.8-.78.8-2.07 0-2.86zM5.41 20L4 18.59l7.72-7.72 1.47 1.35L5.41 20z\"/>\n",
              "  </svg>\n",
              "      </button>\n",
              "      \n",
              "  <style>\n",
              "    .colab-df-container {\n",
              "      display:flex;\n",
              "      flex-wrap:wrap;\n",
              "      gap: 12px;\n",
              "    }\n",
              "\n",
              "    .colab-df-convert {\n",
              "      background-color: #E8F0FE;\n",
              "      border: none;\n",
              "      border-radius: 50%;\n",
              "      cursor: pointer;\n",
              "      display: none;\n",
              "      fill: #1967D2;\n",
              "      height: 32px;\n",
              "      padding: 0 0 0 0;\n",
              "      width: 32px;\n",
              "    }\n",
              "\n",
              "    .colab-df-convert:hover {\n",
              "      background-color: #E2EBFA;\n",
              "      box-shadow: 0px 1px 2px rgba(60, 64, 67, 0.3), 0px 1px 3px 1px rgba(60, 64, 67, 0.15);\n",
              "      fill: #174EA6;\n",
              "    }\n",
              "\n",
              "    [theme=dark] .colab-df-convert {\n",
              "      background-color: #3B4455;\n",
              "      fill: #D2E3FC;\n",
              "    }\n",
              "\n",
              "    [theme=dark] .colab-df-convert:hover {\n",
              "      background-color: #434B5C;\n",
              "      box-shadow: 0px 1px 3px 1px rgba(0, 0, 0, 0.15);\n",
              "      filter: drop-shadow(0px 1px 2px rgba(0, 0, 0, 0.3));\n",
              "      fill: #FFFFFF;\n",
              "    }\n",
              "  </style>\n",
              "\n",
              "      <script>\n",
              "        const buttonEl =\n",
              "          document.querySelector('#df-c6bfe847-ff44-436d-b77e-52b428d5146f button.colab-df-convert');\n",
              "        buttonEl.style.display =\n",
              "          google.colab.kernel.accessAllowed ? 'block' : 'none';\n",
              "\n",
              "        async function convertToInteractive(key) {\n",
              "          const element = document.querySelector('#df-c6bfe847-ff44-436d-b77e-52b428d5146f');\n",
              "          const dataTable =\n",
              "            await google.colab.kernel.invokeFunction('convertToInteractive',\n",
              "                                                     [key], {});\n",
              "          if (!dataTable) return;\n",
              "\n",
              "          const docLinkHtml = 'Like what you see? Visit the ' +\n",
              "            '<a target=\"_blank\" href=https://colab.research.google.com/notebooks/data_table.ipynb>data table notebook</a>'\n",
              "            + ' to learn more about interactive tables.';\n",
              "          element.innerHTML = '';\n",
              "          dataTable['output_type'] = 'display_data';\n",
              "          await google.colab.output.renderOutput(dataTable, element);\n",
              "          const docLink = document.createElement('div');\n",
              "          docLink.innerHTML = docLinkHtml;\n",
              "          element.appendChild(docLink);\n",
              "        }\n",
              "      </script>\n",
              "    </div>\n",
              "  </div>\n",
              "  "
            ]
          },
          "metadata": {}
        }
      ],
      "source": [
        "display(dados[dados['texto'].str.len()<400].sample(n=5)[['classe', 'texto', 'texto_limpo', 'qtde_limpo']])"
      ]
    },
    {
      "cell_type": "markdown",
      "source": [
        "### Carga da spaCy para limpeza de dados\n",
        "\n",
        "Lemmatizer (o resultado é a raiz da palavra que existe na gramática, mantendo o contexto)  \n",
        "Remove stopworks, mas a pontuação é mantida pois é relevante para o modelo."
      ],
      "metadata": {
        "id": "hNMSEIaqL1mq"
      }
    },
    {
      "cell_type": "code",
      "source": [
        "nlp = pt_core_news_sm.load()\n",
        "dados[\"texto_lematizado\"] = dados.texto_limpo.progress_apply(\n",
        "    lambda texto: \" \".join(\n",
        "          [token.lemma_ for token in nlp(texto)   # lematiza\n",
        "          if not token.is_stop]))                 # se não é uma stopword\n",
        "dados[\"qtde_lematizado\"] = dados.texto_lematizado.apply(\n",
        "    lambda texto: len(re.findall(r\"[\\w']+\", texto)))"
      ],
      "metadata": {
        "id": "XGsD18siIalX",
        "outputId": "e4d42723-bc56-410b-feb8-a37929daf1f0",
        "colab": {
          "base_uri": "https://localhost:8080/",
          "height": 49,
          "referenced_widgets": [
            "cda815ef4a484602824001112db6b4fc",
            "62a31af6cb834b3daa1500fd2b9ff949",
            "995f9869c8b843b0a47cf829bc09fd4d",
            "1436a5d7b3df4c52a04e1668ae575058",
            "d28fed7e5dd941c1b24a36b8aae2649d",
            "010aad3049fd4927b22f25b872e71f47",
            "f2d1659c58ca4b06abf3920268b553b8",
            "a415582f20c941979c0c050ff5bf7360",
            "9f523850f39f4bd69699ae371546d07e",
            "62518d66c9594bfaa86c5e846ef49904",
            "12c0117fc42842b3bfc1271692d9ac7e"
          ]
        }
      },
      "execution_count": 341,
      "outputs": [
        {
          "output_type": "display_data",
          "data": {
            "text/plain": [
              "  0%|          | 0/9537 [00:00<?, ?it/s]"
            ],
            "application/vnd.jupyter.widget-view+json": {
              "version_major": 2,
              "version_minor": 0,
              "model_id": "cda815ef4a484602824001112db6b4fc"
            }
          },
          "metadata": {}
        }
      ]
    },
    {
      "cell_type": "code",
      "source": [
        "pd.set_option(\"display.max_rows\", 50, 'display.max_colwidth', 200)\n",
        "display(dados.sample(n=5)[['classe', 'qtde_limpo', 'qtde_lematizado', 'texto_limpo', 'texto_lematizado']])"
      ],
      "metadata": {
        "id": "ln8iMJ2JfKVo",
        "outputId": "5d883734-de68-49b2-fe3a-6c19a28f5c09",
        "colab": {
          "base_uri": "https://localhost:8080/",
          "height": 476
        }
      },
      "execution_count": 40,
      "outputs": [
        {
          "output_type": "display_data",
          "data": {
            "text/plain": [
              "      classe  qtde_limpo  qtde_lematizado  \\\n",
              "2135       0         631              327   \n",
              "1063       0         849              443   \n",
              "9438       0          20               13   \n",
              "852        0         695              383   \n",
              "6717       1         116               68   \n",
              "\n",
              "                                                                                                                                                                                                  texto_limpo  \\\n",
              "2135  Grupo que abriu caixão por achar que mulher foi enterrada viva deve responder por violação funerária, diz polícia. Caso ocorreu no município de Riachão das Neves, no oeste do estado. Polícia acred...   \n",
              "1063  Supremo reserva julgamentos polêmicos para semana pré-recesso. Estão pautadas ações sobre poder da Polícia Federal para fechar delações, pedido de liberdade do empresário Joesley Batista e paralis...   \n",
              "9438                                                                                               Observem este diálogo entre Jeca Tatu e Dom Pedro ll no filme O gato da Madame\" 1956 Mais atual impossível   \n",
              "852   Fachin envia inquérito de Temer a Janot PGR tem 5 dias para decidir se denuncia. Presidente passou a ser investigado após delações de executivos da JBS ele tem negado todas as acusações. Documento...   \n",
              "6717  PF vasculha forro do Instituto Lula e apreende celulares, pen drives e computadores. Funcionárias do Instituto Lula informaram por meio de nota imprensa que a PF levou computadores, celulares e pe...   \n",
              "\n",
              "                                                                                                                                                                                             texto_lematizado  \n",
              "2135  abrir caixão achar mulher enterrar vivo responder violação funerário polícia caso ocorrer município Riachão Neves oeste polícia acreditar boato levar violação urna funerário pessoa abrir túmulo mu...  \n",
              "1063  Supremo reserva julgamento polêmico semana pré-recesso pautado ação Polícia Federal fechar delação pedir liberdade empresário Joesley Batista paralisação denúncia núcleo PMDB Supremo Tribunal Fede...  \n",
              "9438                                                                                                                          observem diálogo Jeca Tatu Dom Pedro ll filme gato madame 1956 atual impossível  \n",
              "852   fachin enviar inquérito Temer Janot PGR dia decidir denuncer presidente passar investigar delação executivo JBS negar acusação documento chegar PGR prazo decisão terminar terça 27 ministro Luiz Ed...  \n",
              "6717  PF vasculha forro Instituto Lula apreender celular pen drives computador funcionária Instituto Lula informar nota imprenso PF levar computador celular pendrives instituição aproximadamente 60 home...  "
            ],
            "text/html": [
              "\n",
              "  <div id=\"df-bb07c43e-ea55-499c-b6ca-9377ee137fa5\">\n",
              "    <div class=\"colab-df-container\">\n",
              "      <div>\n",
              "<style scoped>\n",
              "    .dataframe tbody tr th:only-of-type {\n",
              "        vertical-align: middle;\n",
              "    }\n",
              "\n",
              "    .dataframe tbody tr th {\n",
              "        vertical-align: top;\n",
              "    }\n",
              "\n",
              "    .dataframe thead th {\n",
              "        text-align: right;\n",
              "    }\n",
              "</style>\n",
              "<table border=\"1\" class=\"dataframe\">\n",
              "  <thead>\n",
              "    <tr style=\"text-align: right;\">\n",
              "      <th></th>\n",
              "      <th>classe</th>\n",
              "      <th>qtde_limpo</th>\n",
              "      <th>qtde_lematizado</th>\n",
              "      <th>texto_limpo</th>\n",
              "      <th>texto_lematizado</th>\n",
              "    </tr>\n",
              "  </thead>\n",
              "  <tbody>\n",
              "    <tr>\n",
              "      <th>2135</th>\n",
              "      <td>0</td>\n",
              "      <td>631</td>\n",
              "      <td>327</td>\n",
              "      <td>Grupo que abriu caixão por achar que mulher foi enterrada viva deve responder por violação funerária, diz polícia. Caso ocorreu no município de Riachão das Neves, no oeste do estado. Polícia acred...</td>\n",
              "      <td>abrir caixão achar mulher enterrar vivo responder violação funerário polícia caso ocorrer município Riachão Neves oeste polícia acreditar boato levar violação urna funerário pessoa abrir túmulo mu...</td>\n",
              "    </tr>\n",
              "    <tr>\n",
              "      <th>1063</th>\n",
              "      <td>0</td>\n",
              "      <td>849</td>\n",
              "      <td>443</td>\n",
              "      <td>Supremo reserva julgamentos polêmicos para semana pré-recesso. Estão pautadas ações sobre poder da Polícia Federal para fechar delações, pedido de liberdade do empresário Joesley Batista e paralis...</td>\n",
              "      <td>Supremo reserva julgamento polêmico semana pré-recesso pautado ação Polícia Federal fechar delação pedir liberdade empresário Joesley Batista paralisação denúncia núcleo PMDB Supremo Tribunal Fede...</td>\n",
              "    </tr>\n",
              "    <tr>\n",
              "      <th>9438</th>\n",
              "      <td>0</td>\n",
              "      <td>20</td>\n",
              "      <td>13</td>\n",
              "      <td>Observem este diálogo entre Jeca Tatu e Dom Pedro ll no filme O gato da Madame\" 1956 Mais atual impossível</td>\n",
              "      <td>observem diálogo Jeca Tatu Dom Pedro ll filme gato madame 1956 atual impossível</td>\n",
              "    </tr>\n",
              "    <tr>\n",
              "      <th>852</th>\n",
              "      <td>0</td>\n",
              "      <td>695</td>\n",
              "      <td>383</td>\n",
              "      <td>Fachin envia inquérito de Temer a Janot PGR tem 5 dias para decidir se denuncia. Presidente passou a ser investigado após delações de executivos da JBS ele tem negado todas as acusações. Documento...</td>\n",
              "      <td>fachin enviar inquérito Temer Janot PGR dia decidir denuncer presidente passar investigar delação executivo JBS negar acusação documento chegar PGR prazo decisão terminar terça 27 ministro Luiz Ed...</td>\n",
              "    </tr>\n",
              "    <tr>\n",
              "      <th>6717</th>\n",
              "      <td>1</td>\n",
              "      <td>116</td>\n",
              "      <td>68</td>\n",
              "      <td>PF vasculha forro do Instituto Lula e apreende celulares, pen drives e computadores. Funcionárias do Instituto Lula informaram por meio de nota imprensa que a PF levou computadores, celulares e pe...</td>\n",
              "      <td>PF vasculha forro Instituto Lula apreender celular pen drives computador funcionária Instituto Lula informar nota imprenso PF levar computador celular pendrives instituição aproximadamente 60 home...</td>\n",
              "    </tr>\n",
              "  </tbody>\n",
              "</table>\n",
              "</div>\n",
              "      <button class=\"colab-df-convert\" onclick=\"convertToInteractive('df-bb07c43e-ea55-499c-b6ca-9377ee137fa5')\"\n",
              "              title=\"Convert this dataframe to an interactive table.\"\n",
              "              style=\"display:none;\">\n",
              "        \n",
              "  <svg xmlns=\"http://www.w3.org/2000/svg\" height=\"24px\"viewBox=\"0 0 24 24\"\n",
              "       width=\"24px\">\n",
              "    <path d=\"M0 0h24v24H0V0z\" fill=\"none\"/>\n",
              "    <path d=\"M18.56 5.44l.94 2.06.94-2.06 2.06-.94-2.06-.94-.94-2.06-.94 2.06-2.06.94zm-11 1L8.5 8.5l.94-2.06 2.06-.94-2.06-.94L8.5 2.5l-.94 2.06-2.06.94zm10 10l.94 2.06.94-2.06 2.06-.94-2.06-.94-.94-2.06-.94 2.06-2.06.94z\"/><path d=\"M17.41 7.96l-1.37-1.37c-.4-.4-.92-.59-1.43-.59-.52 0-1.04.2-1.43.59L10.3 9.45l-7.72 7.72c-.78.78-.78 2.05 0 2.83L4 21.41c.39.39.9.59 1.41.59.51 0 1.02-.2 1.41-.59l7.78-7.78 2.81-2.81c.8-.78.8-2.07 0-2.86zM5.41 20L4 18.59l7.72-7.72 1.47 1.35L5.41 20z\"/>\n",
              "  </svg>\n",
              "      </button>\n",
              "      \n",
              "  <style>\n",
              "    .colab-df-container {\n",
              "      display:flex;\n",
              "      flex-wrap:wrap;\n",
              "      gap: 12px;\n",
              "    }\n",
              "\n",
              "    .colab-df-convert {\n",
              "      background-color: #E8F0FE;\n",
              "      border: none;\n",
              "      border-radius: 50%;\n",
              "      cursor: pointer;\n",
              "      display: none;\n",
              "      fill: #1967D2;\n",
              "      height: 32px;\n",
              "      padding: 0 0 0 0;\n",
              "      width: 32px;\n",
              "    }\n",
              "\n",
              "    .colab-df-convert:hover {\n",
              "      background-color: #E2EBFA;\n",
              "      box-shadow: 0px 1px 2px rgba(60, 64, 67, 0.3), 0px 1px 3px 1px rgba(60, 64, 67, 0.15);\n",
              "      fill: #174EA6;\n",
              "    }\n",
              "\n",
              "    [theme=dark] .colab-df-convert {\n",
              "      background-color: #3B4455;\n",
              "      fill: #D2E3FC;\n",
              "    }\n",
              "\n",
              "    [theme=dark] .colab-df-convert:hover {\n",
              "      background-color: #434B5C;\n",
              "      box-shadow: 0px 1px 3px 1px rgba(0, 0, 0, 0.15);\n",
              "      filter: drop-shadow(0px 1px 2px rgba(0, 0, 0, 0.3));\n",
              "      fill: #FFFFFF;\n",
              "    }\n",
              "  </style>\n",
              "\n",
              "      <script>\n",
              "        const buttonEl =\n",
              "          document.querySelector('#df-bb07c43e-ea55-499c-b6ca-9377ee137fa5 button.colab-df-convert');\n",
              "        buttonEl.style.display =\n",
              "          google.colab.kernel.accessAllowed ? 'block' : 'none';\n",
              "\n",
              "        async function convertToInteractive(key) {\n",
              "          const element = document.querySelector('#df-bb07c43e-ea55-499c-b6ca-9377ee137fa5');\n",
              "          const dataTable =\n",
              "            await google.colab.kernel.invokeFunction('convertToInteractive',\n",
              "                                                     [key], {});\n",
              "          if (!dataTable) return;\n",
              "\n",
              "          const docLinkHtml = 'Like what you see? Visit the ' +\n",
              "            '<a target=\"_blank\" href=https://colab.research.google.com/notebooks/data_table.ipynb>data table notebook</a>'\n",
              "            + ' to learn more about interactive tables.';\n",
              "          element.innerHTML = '';\n",
              "          dataTable['output_type'] = 'display_data';\n",
              "          await google.colab.output.renderOutput(dataTable, element);\n",
              "          const docLink = document.createElement('div');\n",
              "          docLink.innerHTML = docLinkHtml;\n",
              "          element.appendChild(docLink);\n",
              "        }\n",
              "      </script>\n",
              "    </div>\n",
              "  </div>\n",
              "  "
            ]
          },
          "metadata": {}
        }
      ]
    },
    {
      "cell_type": "markdown",
      "source": [
        "### O modelo BERTimbau é sensível ao CASE, precisa ser tratado "
      ],
      "metadata": {
        "id": "FOoyTb-6bqnc"
      }
    },
    {
      "cell_type": "code",
      "source": [
        "# Remove linhas com mais de 10% de palavras em maiúsculo\n",
        "antes = dados.shape[0]\n",
        "dados['qtde_maiusculas'] = dados['texto_lematizado'].apply(\n",
        "    lambda texto: len(re.findall(\"[A-Z][A-Z\\d]+\", texto)))\n",
        "dados = dados[(dados['qtde_maiusculas'] / dados[\"qtde_lematizado\"])<0.1].copy()\n",
        "# Das linhas que ficaram, capitaliza somente as palavras em MAIÚSCULO\n",
        "dados['texto_limpo'] = dados['texto_limpo'].apply(\n",
        "    lambda texto: re.sub(\"[A-Z][A-Z\\d]+\", \n",
        "    lambda grupo: grupo.group(0).capitalize(), texto))\n",
        "dados['texto_lematizado'] = dados['texto_lematizado'].apply(\n",
        "    lambda texto: re.sub(\"[A-Z][A-Z\\d]+\", \n",
        "    lambda grupo: grupo.group(0).capitalize(), texto))\n",
        "dados.drop('qtde_maiusculas', axis=1, inplace=True)\n",
        "display(f\"Qtde linhas antes: {antes}, depois: {dados.shape[0]},\" +\n",
        "        f\" removido: {antes-dados.shape[0]}\")"
      ],
      "metadata": {
        "id": "6P9MYoAmkxSD",
        "outputId": "cd34599b-dad7-42d2-bca1-b2fabc70968f",
        "colab": {
          "base_uri": "https://localhost:8080/",
          "height": 35
        }
      },
      "execution_count": 342,
      "outputs": [
        {
          "output_type": "display_data",
          "data": {
            "text/plain": [
              "'Qtde linhas antes: 9537, depois: 8808, removido: 729'"
            ],
            "application/vnd.google.colaboratory.intrinsic+json": {
              "type": "string"
            }
          },
          "metadata": {}
        }
      ]
    },
    {
      "cell_type": "markdown",
      "source": [
        "### Remover duplicatas (deveria estar marcado como viral na origem)"
      ],
      "metadata": {
        "id": "y1PRHW-cFk5a"
      }
    },
    {
      "cell_type": "code",
      "source": [
        "# Primeiramente remove duplicatas absolutas do texto\n",
        "antes = dados.shape[0]\n",
        "dados = dados.drop_duplicates(subset=['texto_lematizado'])\n",
        "display(f\"Qtde linhas antes: {antes}, depois: {dados.shape[0]}, removido: {antes-dados.shape[0]}\")"
      ],
      "metadata": {
        "id": "ISQh4kz87xIs",
        "outputId": "12b2d95c-a11b-437e-fc2d-1adb4b9bff2e",
        "colab": {
          "base_uri": "https://localhost:8080/",
          "height": 35
        }
      },
      "execution_count": 343,
      "outputs": [
        {
          "output_type": "display_data",
          "data": {
            "text/plain": [
              "'Qtde linhas antes: 8808, depois: 8661, removido: 147'"
            ],
            "application/vnd.google.colaboratory.intrinsic+json": {
              "type": "string"
            }
          },
          "metadata": {}
        }
      ]
    },
    {
      "cell_type": "markdown",
      "source": [
        "### Remover linhas com mais de 50% das palavras iguais, quando menos de 100 palavras lematizadas."
      ],
      "metadata": {
        "id": "2ZwE-74strY-"
      }
    },
    {
      "cell_type": "code",
      "source": [
        "dados_menos_100_palavras = dados[dados[\"qtde_lematizado\"]<100].copy()\n",
        "\n",
        "# Calcula quantidade de palavras duplicadas\n",
        "def confere_duplicidade(coluna_busca):\n",
        "  conjunto_palavras = set(re.findall(r\"[\\w']+\", coluna_busca))\n",
        "  dados_sem_busca = dados_menos_100_palavras.drop(dados.index[dados['texto_lematizado'] == coluna_busca]).copy()\n",
        "  dados_sem_busca['duplicado_corrente'] = dados_sem_busca.texto_lematizado.apply(\n",
        "      lambda texto: len(conjunto_palavras.intersection(set(re.findall(r\"[\\w']+\", texto)))))\n",
        "  return int(dados_sem_busca['duplicado_corrente'].max())\n",
        "\n",
        "dados['qtde_palavras_duplicadas'] = dados[dados[\"qtde_lematizado\"]<100].texto_lematizado.progress_apply(confere_duplicidade)\n",
        "dados_menos_100_palavras = pd.DataFrame() #libera área\n",
        "antes = dados.shape[0]\n",
        "dados = dados[((dados['qtde_palavras_duplicadas'] / dados[\"qtde_lematizado\"])<0.5) | (dados['qtde_palavras_duplicadas'].isnull())].copy()\n",
        "dados.drop('qtde_palavras_duplicadas', axis=1, inplace=True)\n",
        "display(f\"Qtde linhas antes: {antes}, depois: {dados.shape[0]}, removido: {antes-dados.shape[0]}\")"
      ],
      "metadata": {
        "id": "pspaI7JPPgib",
        "outputId": "1785f894-0edc-4bb2-f390-243eaae983c3",
        "colab": {
          "base_uri": "https://localhost:8080/",
          "height": 67,
          "referenced_widgets": [
            "15f2ad5a7d604d6683b53060166916f9",
            "81b03506d8b94f4d915186bea23ab496",
            "90d6fa2c87324b9d9e5376a44a180234",
            "ab8e54f0c6bc46049b5a3c0821a274d5",
            "c363253417454e93a44e08ea4ffc1bb3",
            "4ffad676b72b41e684ad3f72b4bb2427",
            "9a51999b865b4ed6a990c87bdb599395",
            "b759951507b748968d7f458135fa32ce",
            "fa9f9316fc3545aa8e3f608ec815e674",
            "3f94d0ac2bae4fa4af74959a19e3dcba",
            "f1febc37bff74e91a82240fa5fb87b40"
          ]
        }
      },
      "execution_count": 344,
      "outputs": [
        {
          "output_type": "display_data",
          "data": {
            "text/plain": [
              "  0%|          | 0/3324 [00:00<?, ?it/s]"
            ],
            "application/vnd.jupyter.widget-view+json": {
              "version_major": 2,
              "version_minor": 0,
              "model_id": "15f2ad5a7d604d6683b53060166916f9"
            }
          },
          "metadata": {}
        },
        {
          "output_type": "display_data",
          "data": {
            "text/plain": [
              "'Qtde linhas antes: 8661, depois: 7802, removido: 859'"
            ],
            "application/vnd.google.colaboratory.intrinsic+json": {
              "type": "string"
            }
          },
          "metadata": {}
        }
      ]
    },
    {
      "cell_type": "markdown",
      "metadata": {
        "id": "ozuvdAu5WAZX"
      },
      "source": [
        "## Confere a distribuição de palavras nas classes"
      ]
    },
    {
      "cell_type": "code",
      "source": [
        "ax, fig = plt.subplots(figsize=[5,6])\n",
        "ax = sns.boxplot(y=dados[\"qtde_lematizado\"],x=dados[\"classe\"])"
      ],
      "metadata": {
        "id": "rCp2Xcoenej5",
        "outputId": "c5804ab7-a7f7-43d2-b61a-ef7ff65efa1f",
        "colab": {
          "base_uri": "https://localhost:8080/",
          "height": 394
        }
      },
      "execution_count": 303,
      "outputs": [
        {
          "output_type": "display_data",
          "data": {
            "text/plain": [
              "<Figure size 360x432 with 1 Axes>"
            ],
            "image/png": "[encoded data removed]"
          },
          "metadata": {}
        }
      ]
    },
    {
      "cell_type": "code",
      "source": [
        "def grafico_distribuicao(dfplot, distrib_dados):\n",
        "  dfplot.columns = ['0 - Confiável', '1 - Falso']\n",
        "  fig, axes = plt.subplots(nrows=1, ncols=2, figsize=(12, 5))\n",
        "  axes1 = dfplot.plot(\n",
        "      ax=axes[0], kind='hist', stacked=True, bins=list(range(0, 2000, 100)), \n",
        "      title=\"Distribuição de palavras conforme a classe\")\n",
        "  axes2 = sns.countplot(x=\"classe\", data=distrib_dados)\n",
        "  axes2.set_xticklabels([\"0 = Confiável\", \"1 = Falso\"], fontsize=12)\n",
        "  axes2.set_title('Distribuição de classes', fontsize=14)\n",
        "  axes2.set_ylabel('quantidade')"
      ],
      "metadata": {
        "id": "g7X94_FIj_2L"
      },
      "execution_count": 345,
      "outputs": []
    },
    {
      "cell_type": "code",
      "execution_count": 346,
      "metadata": {
        "id": "Pi5kdSxGwwdJ",
        "outputId": "748b2d3e-11bb-49b5-9b4e-f3dd7b0c977c",
        "colab": {
          "base_uri": "https://localhost:8080/",
          "height": 394
        }
      },
      "outputs": [
        {
          "output_type": "display_data",
          "data": {
            "text/plain": [
              "[0, 1]"
            ]
          },
          "metadata": {}
        },
        {
          "output_type": "display_data",
          "data": {
            "text/plain": [
              "[3837, 3965]"
            ]
          },
          "metadata": {}
        },
        {
          "output_type": "display_data",
          "data": {
            "text/plain": [
              "<Figure size 864x360 with 2 Axes>"
            ],
            "image/png": "[encoded data removed]"
          },
          "metadata": {}
        }
      ],
      "source": [
        "grafico_distribuicao(dados.pivot(columns='classe').qtde_lematizado, dados)\n",
        "distribuicao = dados.groupby('classe').qtde_lematizado.count()\n",
        "display(distribuicao.index.to_list(), distribuicao.to_list())"
      ]
    },
    {
      "cell_type": "code",
      "source": [
        "antes = dados.shape[0]\n",
        "dados = dados.query(\n",
        "    'qtde_lematizado >= 50 and qtde_lematizado <= 1000'\n",
        ")\n",
        "display(f\"Qtde antes: {antes}, depois: {dados.shape[0]}, removido: {antes-dados.shape[0]}\")\n",
        "display(f\"Maximo de palavras: {dados['qtde_lematizado'].max()}\", f\"Mínimo de palavras: {dados['qtde_lematizado'].min()}\")"
      ],
      "metadata": {
        "id": "B00xdx-ESOV5",
        "outputId": "61a50ed7-7dd4-485a-dbfa-71e0436f1ede",
        "colab": {
          "base_uri": "https://localhost:8080/",
          "height": 72
        }
      },
      "execution_count": 367,
      "outputs": [
        {
          "output_type": "display_data",
          "data": {
            "text/plain": [
              "'Qtde antes: 7802, depois: 6703, removido: 1099'"
            ],
            "application/vnd.google.colaboratory.intrinsic+json": {
              "type": "string"
            }
          },
          "metadata": {}
        },
        {
          "output_type": "display_data",
          "data": {
            "text/plain": [
              "'Maximo de palavras: 1000'"
            ],
            "application/vnd.google.colaboratory.intrinsic+json": {
              "type": "string"
            }
          },
          "metadata": {}
        },
        {
          "output_type": "display_data",
          "data": {
            "text/plain": [
              "'Mínimo de palavras: 50'"
            ],
            "application/vnd.google.colaboratory.intrinsic+json": {
              "type": "string"
            }
          },
          "metadata": {}
        }
      ]
    },
    {
      "cell_type": "code",
      "source": [
        "grafico_distribuicao(dados.pivot(columns='classe').qtde_lematizado, dados)"
      ],
      "metadata": {
        "id": "Utv1GFJwMEor",
        "outputId": "21d61575-e418-4958-b3a1-49ce9ffd060e",
        "colab": {
          "base_uri": "https://localhost:8080/",
          "height": 359
        }
      },
      "execution_count": 366,
      "outputs": [
        {
          "output_type": "display_data",
          "data": {
            "text/plain": [
              "<Figure size 864x360 with 2 Axes>"
            ],
            "image/png": "[encoded data removed]"
          },
          "metadata": {}
        }
      ]
    },
    {
      "cell_type": "markdown",
      "source": [
        "### Carrega o modelo pré-treinado de sumarização"
      ],
      "metadata": {
        "id": "rkSRK7bQICBw"
      }
    },
    {
      "cell_type": "code",
      "source": [
        "# configura o device cpu ou gpu conforme disponibilidade\n",
        "device_disponivel = 'cuda' if torch.cuda.is_available() else 'cpu'\n",
        "# nome do modelo no portal HuggingFaces\n",
        "model_name = \"seidel/plsum-base-ptt5\"\n",
        "\n",
        "# carrega tokenizador\n",
        "tokenizer = AutoTokenizer.from_pretrained(model_name)\n",
        "# carrega pesos do modelo \"PLSUM\"\n",
        "model_pt = AutoModelForSeq2SeqLM.from_pretrained(model_name).to(device_disponivel)"
      ],
      "metadata": {
        "id": "bpd8iYp5CW4E"
      },
      "execution_count": 56,
      "outputs": []
    },
    {
      "cell_type": "markdown",
      "source": [
        "### Separação e salvamento do processo parcial antes de rodar o modelo que leva algumas horas"
      ],
      "metadata": {
        "id": "Q497LEn0lvqq"
      }
    },
    {
      "cell_type": "code",
      "source": [
        "# Divide o dataframe para executar o modelo somente nos textos grandes e salvar parte do trabalho devido a quedas pela demora\n",
        "df_menor, df_maior = dados.query('qtde_lematizado <= 300').copy(), dados.query('qtde_lematizado > 300').copy()\n",
        "\n",
        "# Salva novamente os dados para uso no notebook do próximo passo.\n",
        "df_menor.to_csv('/content/drive/MyDrive/PUC/TCC/dados/dataset_processado_menor.csv', sep = ',', index=False)\n",
        "df_maior.to_csv('/content/drive/MyDrive/PUC/TCC/dados/dataset_processado_maior.csv', sep = ',', index=False)\n",
        "\n",
        "display(f\"Menor: {df_menor.shape[0]}; Maior: {df_maior.shape[0]}\")"
      ],
      "metadata": {
        "id": "0aZx3fXi6hh5",
        "outputId": "794c8bd0-c8b2-442d-efc3-4b788f106ace",
        "colab": {
          "base_uri": "https://localhost:8080/",
          "height": 35
        }
      },
      "execution_count": 251,
      "outputs": [
        {
          "output_type": "display_data",
          "data": {
            "text/plain": [
              "'Menor: 4019; Maior: 3080'"
            ],
            "application/vnd.google.colaboratory.intrinsic+json": {
              "type": "string"
            }
          },
          "metadata": {}
        }
      ]
    },
    {
      "cell_type": "markdown",
      "source": [
        "### Principal método que gera os tokens, sumariza e transforma os tokens de volta em palavras"
      ],
      "metadata": {
        "id": "nNCd2eStgYlF"
      }
    },
    {
      "cell_type": "code",
      "source": [
        "def resumir_textos(texto):\n",
        "  # tokeniza o texto de entrada\n",
        "  input_ids = tokenizer([texto],\n",
        "      return_tensors=\"pt\",        # retorna o tensores pytorch\n",
        "      max_length=1500,            # tamanho máximo de entrada\n",
        "      truncation=True             # caso exceder, trunca, já limitei\n",
        "  )[\"input_ids\"]\n",
        "  t_tokens = input_ids.to(device_disponivel) \n",
        "  # gera tokens de sumarização\n",
        "  output_ids = model_pt.generate(   \n",
        "      input_ids=t_tokens,         # tokens de entrada\n",
        "      max_length=300,             # tamanho máximo\n",
        "      min_length=50,              # tamanho mínimo\n",
        "      no_repeat_ngram_size=2,     # n-grans que não deve repetir\n",
        "      length_penalty=1.5,         # penalti por tamanho, > 1 aproxima max_len\n",
        "      num_beams=4,                # valor para algoritmo de pesquisa heurística\n",
        "  )[0]\n",
        "  # decodifica a saída (converter tokens numéricos para texto)\n",
        "  resumo = tokenizer.decode(\n",
        "      output_ids,\n",
        "      skip_special_tokens=True,           # remove tokens especiais\n",
        "      clean_up_tokenization_spaces=False  # mantem espaços ao decodificar\n",
        "  )\n",
        "  return resumo"
      ],
      "metadata": {
        "id": "3aoN-Hh_CbBN"
      },
      "execution_count": 74,
      "outputs": []
    },
    {
      "cell_type": "code",
      "source": [
        "# Roda resumo em texto limpo pois ele será lematizado posteriormente\n",
        "df_maior[\"texto_lematizado\"] = df_maior['texto_limpo'].progress_apply(resumir_textos)\n",
        "df_maior[\"texto_lematizado\"] = df_maior.texto_resumido.apply(\n",
        "    lambda texto: len(re.findall(r\"[\\w']+\", texto))\n",
        ")\n",
        "\n",
        "# Depois do resumo roda novamente a lemtatização\n",
        "df_maior[\"texto_lematizado\"] = df_maior[\"texto_lematizado\"].progress_apply(\n",
        "    lambda texto: \" \".join(\n",
        "          [token.lemma_ for token in nlp(texto)   \n",
        "          if not token.is_stop]))          \n",
        "df_maior[\"qtde_lematizado\"] = df_maior[\"texto_lematizado\"].apply(\n",
        "    lambda texto: len(re.findall(r\"[\\w']+\", texto)))"
      ],
      "metadata": {
        "id": "X4HZAQaG1KWH"
      },
      "execution_count": null,
      "outputs": []
    },
    {
      "cell_type": "code",
      "source": [
        "dados_novo = pd.concat(\n",
        "    [df_menor, df_maior],\n",
        "    ignore_index=True,\n",
        "    copy=True,\n",
        ")"
      ],
      "metadata": {
        "id": "FiGFb7QrbEh0"
      },
      "execution_count": 389,
      "outputs": []
    },
    {
      "cell_type": "markdown",
      "source": [
        "### Plota novamente para ver como ficou"
      ],
      "metadata": {
        "id": "uBNVXR_lgmci"
      }
    },
    {
      "cell_type": "code",
      "source": [
        "def grafico_distribuicao_boxplot(dados):\n",
        "  dfplot = dados.pivot(columns='classe').qtde_lematizado\n",
        "  dfplot.columns = ['0 - Confiável', '1 - Falso']\n",
        "  fig, axes = plt.subplots(nrows=1, ncols=3, figsize=(17, 5))\n",
        "  axes1 = dfplot.plot(\n",
        "      ax=axes[0], kind='hist', stacked=True, bins=list(range(0, 300, 30)), \n",
        "      title=\"Distribuição de palavras conforme a classe\")\n",
        "  axes2 = sns.boxplot(y=dados[\"qtde_lematizado\"],x=dados[\"classe\"], ax=axes[1])\n",
        "  axes2.set_ylabel('Qtde_Palavras')  \n",
        "\n",
        "  axes3 = sns.countplot(x=\"classe\", data=dados, ax=axes[2])\n",
        "  axes3.set_xticklabels([\"0 = Confiável\", \"1 = Falso\"], fontsize=12)\n",
        "  axes3.set_title('Distribuição de classes', fontsize=14)\n",
        "  axes3.set_ylabel('quantidade')  "
      ],
      "metadata": {
        "id": "11gpb5dnHsS5"
      },
      "execution_count": 390,
      "outputs": []
    },
    {
      "cell_type": "code",
      "source": [
        "grafico_distribuicao_boxplot(dados_novo)"
      ],
      "metadata": {
        "id": "TJ5L0DDRrBIl",
        "outputId": "7cebfa0b-987d-4d93-e2cf-ac2fed89a60e",
        "colab": {
          "base_uri": "https://localhost:8080/",
          "height": 359
        }
      },
      "execution_count": 394,
      "outputs": [
        {
          "output_type": "display_data",
          "data": {
            "text/plain": [
              "<Figure size 1224x360 with 3 Axes>"
            ],
            "image/png": "[encoded data removed]"
          },
          "metadata": {}
        }
      ]
    },
    {
      "cell_type": "markdown",
      "source": [
        "### Salva resultado para usar na exploração"
      ],
      "metadata": {
        "id": "Zm-HnvurgrwG"
      }
    },
    {
      "cell_type": "code",
      "execution_count": 395,
      "metadata": {
        "id": "YCO1XnsHPtyd"
      },
      "outputs": [],
      "source": [
        "# Salva novamente os dados para uso no notebook do próximo passo.\n",
        "dados_novo.to_csv('/content/drive/MyDrive/PUC/TCC/dados/dataset_processado.csv', sep = ',', index=False)"
      ]
    }
  ],
  "metadata": {
    "colab": {
      "collapsed_sections": [],
      "machine_shape": "hm",
      "name": "ultimo_mesmo_fake_news_bertimbau.ipynb",
      "provenance": [],
      "background_execution": "on",
      "include_colab_link": true
    },
    "interpreter": {
      "hash": "50691a0bc379e9e647c9463feff34781ae883c7b810726d51a7ed60c4a02b637"
    },
    "kernelspec": {
      "display_name": "Python 3.8.13 ('tcc')",
      "language": "python",
      "name": "python3"
    },
    "language_info": {
      "codemirror_mode": {
        "name": "ipython",
        "version": 3
      },
      "file_extension": ".py",
      "mimetype": "text/x-python",
      "name": "python",
      "nbconvert_exporter": "python",
      "pygments_lexer": "ipython3",
      "version": "3.8.13"
    },
    "accelerator": "GPU",
    "gpuClass": "standard",
    "widgets": {
      "application/vnd.jupyter.widget-state+json": {
        "eabc46fb19ee41458cabfb41aff5cb0a": {
          "model_module": "@jupyter-widgets/controls",
          "model_name": "HBoxModel",
          "model_module_version": "1.5.0",
          "state": {
            "_dom_classes": [],
            "_model_module": "@jupyter-widgets/controls",
            "_model_module_version": "1.5.0",
            "_model_name": "HBoxModel",
            "_view_count": null,
            "_view_module": "@jupyter-widgets/controls",
            "_view_module_version": "1.5.0",
            "_view_name": "HBoxView",
            "box_style": "",
            "children": [
              "IPY_MODEL_da66763de86b4549a38ebee37fb01267",
              "IPY_MODEL_55443be689a44f3d9bf10d51443580b7",
              "IPY_MODEL_7d05006d48584809bf531778f3e4a915"
            ],
            "layout": "IPY_MODEL_e061274af9e247679c83bc445cd71ba6"
          }
        },
        "da66763de86b4549a38ebee37fb01267": {
          "model_module": "@jupyter-widgets/controls",
          "model_name": "HTMLModel",
          "model_module_version": "1.5.0",
          "state": {
            "_dom_classes": [],
            "_model_module": "@jupyter-widgets/controls",
            "_model_module_version": "1.5.0",
            "_model_name": "HTMLModel",
            "_view_count": null,
            "_view_module": "@jupyter-widgets/controls",
            "_view_module_version": "1.5.0",
            "_view_name": "HTMLView",
            "description": "",
            "description_tooltip": null,
            "layout": "IPY_MODEL_548700f226a74030bca78288c4ed9664",
            "placeholder": "​",
            "style": "IPY_MODEL_9c1f0be057624244ab58093bbea9b701",
            "value": "100%"
          }
        },
        "55443be689a44f3d9bf10d51443580b7": {
          "model_module": "@jupyter-widgets/controls",
          "model_name": "FloatProgressModel",
          "model_module_version": "1.5.0",
          "state": {
            "_dom_classes": [],
            "_model_module": "@jupyter-widgets/controls",
            "_model_module_version": "1.5.0",
            "_model_name": "FloatProgressModel",
            "_view_count": null,
            "_view_module": "@jupyter-widgets/controls",
            "_view_module_version": "1.5.0",
            "_view_name": "ProgressView",
            "bar_style": "success",
            "description": "",
            "description_tooltip": null,
            "layout": "IPY_MODEL_f644b69df2384fdca66238b61341e472",
            "max": 9537,
            "min": 0,
            "orientation": "horizontal",
            "style": "IPY_MODEL_e99d24a7c9be480aafc4126431cfef08",
            "value": 9537
          }
        },
        "7d05006d48584809bf531778f3e4a915": {
          "model_module": "@jupyter-widgets/controls",
          "model_name": "HTMLModel",
          "model_module_version": "1.5.0",
          "state": {
            "_dom_classes": [],
            "_model_module": "@jupyter-widgets/controls",
            "_model_module_version": "1.5.0",
            "_model_name": "HTMLModel",
            "_view_count": null,
            "_view_module": "@jupyter-widgets/controls",
            "_view_module_version": "1.5.0",
            "_view_name": "HTMLView",
            "description": "",
            "description_tooltip": null,
            "layout": "IPY_MODEL_2527707de4314f9087102bb341baf5ce",
            "placeholder": "​",
            "style": "IPY_MODEL_dab481dc2ba54ba0a0f7ca8c06bf3da3",
            "value": " 9537/9537 [00:15&lt;00:00, 1855.80it/s]"
          }
        },
        "e061274af9e247679c83bc445cd71ba6": {
          "model_module": "@jupyter-widgets/base",
          "model_name": "LayoutModel",
          "model_module_version": "1.2.0",
          "state": {
            "_model_module": "@jupyter-widgets/base",
            "_model_module_version": "1.2.0",
            "_model_name": "LayoutModel",
            "_view_count": null,
            "_view_module": "@jupyter-widgets/base",
            "_view_module_version": "1.2.0",
            "_view_name": "LayoutView",
            "align_content": null,
            "align_items": null,
            "align_self": null,
            "border": null,
            "bottom": null,
            "display": null,
            "flex": null,
            "flex_flow": null,
            "grid_area": null,
            "grid_auto_columns": null,
            "grid_auto_flow": null,
            "grid_auto_rows": null,
            "grid_column": null,
            "grid_gap": null,
            "grid_row": null,
            "grid_template_areas": null,
            "grid_template_columns": null,
            "grid_template_rows": null,
            "height": null,
            "justify_content": null,
            "justify_items": null,
            "left": null,
            "margin": null,
            "max_height": null,
            "max_width": null,
            "min_height": null,
            "min_width": null,
            "object_fit": null,
            "object_position": null,
            "order": null,
            "overflow": null,
            "overflow_x": null,
            "overflow_y": null,
            "padding": null,
            "right": null,
            "top": null,
            "visibility": null,
            "width": null
          }
        },
        "548700f226a74030bca78288c4ed9664": {
          "model_module": "@jupyter-widgets/base",
          "model_name": "LayoutModel",
          "model_module_version": "1.2.0",
          "state": {
            "_model_module": "@jupyter-widgets/base",
            "_model_module_version": "1.2.0",
            "_model_name": "LayoutModel",
            "_view_count": null,
            "_view_module": "@jupyter-widgets/base",
            "_view_module_version": "1.2.0",
            "_view_name": "LayoutView",
            "align_content": null,
            "align_items": null,
            "align_self": null,
            "border": null,
            "bottom": null,
            "display": null,
            "flex": null,
            "flex_flow": null,
            "grid_area": null,
            "grid_auto_columns": null,
            "grid_auto_flow": null,
            "grid_auto_rows": null,
            "grid_column": null,
            "grid_gap": null,
            "grid_row": null,
            "grid_template_areas": null,
            "grid_template_columns": null,
            "grid_template_rows": null,
            "height": null,
            "justify_content": null,
            "justify_items": null,
            "left": null,
            "margin": null,
            "max_height": null,
            "max_width": null,
            "min_height": null,
            "min_width": null,
            "object_fit": null,
            "object_position": null,
            "order": null,
            "overflow": null,
            "overflow_x": null,
            "overflow_y": null,
            "padding": null,
            "right": null,
            "top": null,
            "visibility": null,
            "width": null
          }
        },
        "9c1f0be057624244ab58093bbea9b701": {
          "model_module": "@jupyter-widgets/controls",
          "model_name": "DescriptionStyleModel",
          "model_module_version": "1.5.0",
          "state": {
            "_model_module": "@jupyter-widgets/controls",
            "_model_module_version": "1.5.0",
            "_model_name": "DescriptionStyleModel",
            "_view_count": null,
            "_view_module": "@jupyter-widgets/base",
            "_view_module_version": "1.2.0",
            "_view_name": "StyleView",
            "description_width": ""
          }
        },
        "f644b69df2384fdca66238b61341e472": {
          "model_module": "@jupyter-widgets/base",
          "model_name": "LayoutModel",
          "model_module_version": "1.2.0",
          "state": {
            "_model_module": "@jupyter-widgets/base",
            "_model_module_version": "1.2.0",
            "_model_name": "LayoutModel",
            "_view_count": null,
            "_view_module": "@jupyter-widgets/base",
            "_view_module_version": "1.2.0",
            "_view_name": "LayoutView",
            "align_content": null,
            "align_items": null,
            "align_self": null,
            "border": null,
            "bottom": null,
            "display": null,
            "flex": null,
            "flex_flow": null,
            "grid_area": null,
            "grid_auto_columns": null,
            "grid_auto_flow": null,
            "grid_auto_rows": null,
            "grid_column": null,
            "grid_gap": null,
            "grid_row": null,
            "grid_template_areas": null,
            "grid_template_columns": null,
            "grid_template_rows": null,
            "height": null,
            "justify_content": null,
            "justify_items": null,
            "left": null,
            "margin": null,
            "max_height": null,
            "max_width": null,
            "min_height": null,
            "min_width": null,
            "object_fit": null,
            "object_position": null,
            "order": null,
            "overflow": null,
            "overflow_x": null,
            "overflow_y": null,
            "padding": null,
            "right": null,
            "top": null,
            "visibility": null,
            "width": null
          }
        },
        "e99d24a7c9be480aafc4126431cfef08": {
          "model_module": "@jupyter-widgets/controls",
          "model_name": "ProgressStyleModel",
          "model_module_version": "1.5.0",
          "state": {
            "_model_module": "@jupyter-widgets/controls",
            "_model_module_version": "1.5.0",
            "_model_name": "ProgressStyleModel",
            "_view_count": null,
            "_view_module": "@jupyter-widgets/base",
            "_view_module_version": "1.2.0",
            "_view_name": "StyleView",
            "bar_color": null,
            "description_width": ""
          }
        },
        "2527707de4314f9087102bb341baf5ce": {
          "model_module": "@jupyter-widgets/base",
          "model_name": "LayoutModel",
          "model_module_version": "1.2.0",
          "state": {
            "_model_module": "@jupyter-widgets/base",
            "_model_module_version": "1.2.0",
            "_model_name": "LayoutModel",
            "_view_count": null,
            "_view_module": "@jupyter-widgets/base",
            "_view_module_version": "1.2.0",
            "_view_name": "LayoutView",
            "align_content": null,
            "align_items": null,
            "align_self": null,
            "border": null,
            "bottom": null,
            "display": null,
            "flex": null,
            "flex_flow": null,
            "grid_area": null,
            "grid_auto_columns": null,
            "grid_auto_flow": null,
            "grid_auto_rows": null,
            "grid_column": null,
            "grid_gap": null,
            "grid_row": null,
            "grid_template_areas": null,
            "grid_template_columns": null,
            "grid_template_rows": null,
            "height": null,
            "justify_content": null,
            "justify_items": null,
            "left": null,
            "margin": null,
            "max_height": null,
            "max_width": null,
            "min_height": null,
            "min_width": null,
            "object_fit": null,
            "object_position": null,
            "order": null,
            "overflow": null,
            "overflow_x": null,
            "overflow_y": null,
            "padding": null,
            "right": null,
            "top": null,
            "visibility": null,
            "width": null
          }
        },
        "dab481dc2ba54ba0a0f7ca8c06bf3da3": {
          "model_module": "@jupyter-widgets/controls",
          "model_name": "DescriptionStyleModel",
          "model_module_version": "1.5.0",
          "state": {
            "_model_module": "@jupyter-widgets/controls",
            "_model_module_version": "1.5.0",
            "_model_name": "DescriptionStyleModel",
            "_view_count": null,
            "_view_module": "@jupyter-widgets/base",
            "_view_module_version": "1.2.0",
            "_view_name": "StyleView",
            "description_width": ""
          }
        },
        "cda815ef4a484602824001112db6b4fc": {
          "model_module": "@jupyter-widgets/controls",
          "model_name": "HBoxModel",
          "model_module_version": "1.5.0",
          "state": {
            "_dom_classes": [],
            "_model_module": "@jupyter-widgets/controls",
            "_model_module_version": "1.5.0",
            "_model_name": "HBoxModel",
            "_view_count": null,
            "_view_module": "@jupyter-widgets/controls",
            "_view_module_version": "1.5.0",
            "_view_name": "HBoxView",
            "box_style": "",
            "children": [
              "IPY_MODEL_62a31af6cb834b3daa1500fd2b9ff949",
              "IPY_MODEL_995f9869c8b843b0a47cf829bc09fd4d",
              "IPY_MODEL_1436a5d7b3df4c52a04e1668ae575058"
            ],
            "layout": "IPY_MODEL_d28fed7e5dd941c1b24a36b8aae2649d"
          }
        },
        "62a31af6cb834b3daa1500fd2b9ff949": {
          "model_module": "@jupyter-widgets/controls",
          "model_name": "HTMLModel",
          "model_module_version": "1.5.0",
          "state": {
            "_dom_classes": [],
            "_model_module": "@jupyter-widgets/controls",
            "_model_module_version": "1.5.0",
            "_model_name": "HTMLModel",
            "_view_count": null,
            "_view_module": "@jupyter-widgets/controls",
            "_view_module_version": "1.5.0",
            "_view_name": "HTMLView",
            "description": "",
            "description_tooltip": null,
            "layout": "IPY_MODEL_010aad3049fd4927b22f25b872e71f47",
            "placeholder": "​",
            "style": "IPY_MODEL_f2d1659c58ca4b06abf3920268b553b8",
            "value": "100%"
          }
        },
        "995f9869c8b843b0a47cf829bc09fd4d": {
          "model_module": "@jupyter-widgets/controls",
          "model_name": "FloatProgressModel",
          "model_module_version": "1.5.0",
          "state": {
            "_dom_classes": [],
            "_model_module": "@jupyter-widgets/controls",
            "_model_module_version": "1.5.0",
            "_model_name": "FloatProgressModel",
            "_view_count": null,
            "_view_module": "@jupyter-widgets/controls",
            "_view_module_version": "1.5.0",
            "_view_name": "ProgressView",
            "bar_style": "success",
            "description": "",
            "description_tooltip": null,
            "layout": "IPY_MODEL_a415582f20c941979c0c050ff5bf7360",
            "max": 9537,
            "min": 0,
            "orientation": "horizontal",
            "style": "IPY_MODEL_9f523850f39f4bd69699ae371546d07e",
            "value": 9537
          }
        },
        "1436a5d7b3df4c52a04e1668ae575058": {
          "model_module": "@jupyter-widgets/controls",
          "model_name": "HTMLModel",
          "model_module_version": "1.5.0",
          "state": {
            "_dom_classes": [],
            "_model_module": "@jupyter-widgets/controls",
            "_model_module_version": "1.5.0",
            "_model_name": "HTMLModel",
            "_view_count": null,
            "_view_module": "@jupyter-widgets/controls",
            "_view_module_version": "1.5.0",
            "_view_name": "HTMLView",
            "description": "",
            "description_tooltip": null,
            "layout": "IPY_MODEL_62518d66c9594bfaa86c5e846ef49904",
            "placeholder": "​",
            "style": "IPY_MODEL_12c0117fc42842b3bfc1271692d9ac7e",
            "value": " 9537/9537 [06:29&lt;00:00, 36.56it/s]"
          }
        },
        "d28fed7e5dd941c1b24a36b8aae2649d": {
          "model_module": "@jupyter-widgets/base",
          "model_name": "LayoutModel",
          "model_module_version": "1.2.0",
          "state": {
            "_model_module": "@jupyter-widgets/base",
            "_model_module_version": "1.2.0",
            "_model_name": "LayoutModel",
            "_view_count": null,
            "_view_module": "@jupyter-widgets/base",
            "_view_module_version": "1.2.0",
            "_view_name": "LayoutView",
            "align_content": null,
            "align_items": null,
            "align_self": null,
            "border": null,
            "bottom": null,
            "display": null,
            "flex": null,
            "flex_flow": null,
            "grid_area": null,
            "grid_auto_columns": null,
            "grid_auto_flow": null,
            "grid_auto_rows": null,
            "grid_column": null,
            "grid_gap": null,
            "grid_row": null,
            "grid_template_areas": null,
            "grid_template_columns": null,
            "grid_template_rows": null,
            "height": null,
            "justify_content": null,
            "justify_items": null,
            "left": null,
            "margin": null,
            "max_height": null,
            "max_width": null,
            "min_height": null,
            "min_width": null,
            "object_fit": null,
            "object_position": null,
            "order": null,
            "overflow": null,
            "overflow_x": null,
            "overflow_y": null,
            "padding": null,
            "right": null,
            "top": null,
            "visibility": null,
            "width": null
          }
        },
        "010aad3049fd4927b22f25b872e71f47": {
          "model_module": "@jupyter-widgets/base",
          "model_name": "LayoutModel",
          "model_module_version": "1.2.0",
          "state": {
            "_model_module": "@jupyter-widgets/base",
            "_model_module_version": "1.2.0",
            "_model_name": "LayoutModel",
            "_view_count": null,
            "_view_module": "@jupyter-widgets/base",
            "_view_module_version": "1.2.0",
            "_view_name": "LayoutView",
            "align_content": null,
            "align_items": null,
            "align_self": null,
            "border": null,
            "bottom": null,
            "display": null,
            "flex": null,
            "flex_flow": null,
            "grid_area": null,
            "grid_auto_columns": null,
            "grid_auto_flow": null,
            "grid_auto_rows": null,
            "grid_column": null,
            "grid_gap": null,
            "grid_row": null,
            "grid_template_areas": null,
            "grid_template_columns": null,
            "grid_template_rows": null,
            "height": null,
            "justify_content": null,
            "justify_items": null,
            "left": null,
            "margin": null,
            "max_height": null,
            "max_width": null,
            "min_height": null,
            "min_width": null,
            "object_fit": null,
            "object_position": null,
            "order": null,
            "overflow": null,
            "overflow_x": null,
            "overflow_y": null,
            "padding": null,
            "right": null,
            "top": null,
            "visibility": null,
            "width": null
          }
        },
        "f2d1659c58ca4b06abf3920268b553b8": {
          "model_module": "@jupyter-widgets/controls",
          "model_name": "DescriptionStyleModel",
          "model_module_version": "1.5.0",
          "state": {
            "_model_module": "@jupyter-widgets/controls",
            "_model_module_version": "1.5.0",
            "_model_name": "DescriptionStyleModel",
            "_view_count": null,
            "_view_module": "@jupyter-widgets/base",
            "_view_module_version": "1.2.0",
            "_view_name": "StyleView",
            "description_width": ""
          }
        },
        "a415582f20c941979c0c050ff5bf7360": {
          "model_module": "@jupyter-widgets/base",
          "model_name": "LayoutModel",
          "model_module_version": "1.2.0",
          "state": {
            "_model_module": "@jupyter-widgets/base",
            "_model_module_version": "1.2.0",
            "_model_name": "LayoutModel",
            "_view_count": null,
            "_view_module": "@jupyter-widgets/base",
            "_view_module_version": "1.2.0",
            "_view_name": "LayoutView",
            "align_content": null,
            "align_items": null,
            "align_self": null,
            "border": null,
            "bottom": null,
            "display": null,
            "flex": null,
            "flex_flow": null,
            "grid_area": null,
            "grid_auto_columns": null,
            "grid_auto_flow": null,
            "grid_auto_rows": null,
            "grid_column": null,
            "grid_gap": null,
            "grid_row": null,
            "grid_template_areas": null,
            "grid_template_columns": null,
            "grid_template_rows": null,
            "height": null,
            "justify_content": null,
            "justify_items": null,
            "left": null,
            "margin": null,
            "max_height": null,
            "max_width": null,
            "min_height": null,
            "min_width": null,
            "object_fit": null,
            "object_position": null,
            "order": null,
            "overflow": null,
            "overflow_x": null,
            "overflow_y": null,
            "padding": null,
            "right": null,
            "top": null,
            "visibility": null,
            "width": null
          }
        },
        "9f523850f39f4bd69699ae371546d07e": {
          "model_module": "@jupyter-widgets/controls",
          "model_name": "ProgressStyleModel",
          "model_module_version": "1.5.0",
          "state": {
            "_model_module": "@jupyter-widgets/controls",
            "_model_module_version": "1.5.0",
            "_model_name": "ProgressStyleModel",
            "_view_count": null,
            "_view_module": "@jupyter-widgets/base",
            "_view_module_version": "1.2.0",
            "_view_name": "StyleView",
            "bar_color": null,
            "description_width": ""
          }
        },
        "62518d66c9594bfaa86c5e846ef49904": {
          "model_module": "@jupyter-widgets/base",
          "model_name": "LayoutModel",
          "model_module_version": "1.2.0",
          "state": {
            "_model_module": "@jupyter-widgets/base",
            "_model_module_version": "1.2.0",
            "_model_name": "LayoutModel",
            "_view_count": null,
            "_view_module": "@jupyter-widgets/base",
            "_view_module_version": "1.2.0",
            "_view_name": "LayoutView",
            "align_content": null,
            "align_items": null,
            "align_self": null,
            "border": null,
            "bottom": null,
            "display": null,
            "flex": null,
            "flex_flow": null,
            "grid_area": null,
            "grid_auto_columns": null,
            "grid_auto_flow": null,
            "grid_auto_rows": null,
            "grid_column": null,
            "grid_gap": null,
            "grid_row": null,
            "grid_template_areas": null,
            "grid_template_columns": null,
            "grid_template_rows": null,
            "height": null,
            "justify_content": null,
            "justify_items": null,
            "left": null,
            "margin": null,
            "max_height": null,
            "max_width": null,
            "min_height": null,
            "min_width": null,
            "object_fit": null,
            "object_position": null,
            "order": null,
            "overflow": null,
            "overflow_x": null,
            "overflow_y": null,
            "padding": null,
            "right": null,
            "top": null,
            "visibility": null,
            "width": null
          }
        },
        "12c0117fc42842b3bfc1271692d9ac7e": {
          "model_module": "@jupyter-widgets/controls",
          "model_name": "DescriptionStyleModel",
          "model_module_version": "1.5.0",
          "state": {
            "_model_module": "@jupyter-widgets/controls",
            "_model_module_version": "1.5.0",
            "_model_name": "DescriptionStyleModel",
            "_view_count": null,
            "_view_module": "@jupyter-widgets/base",
            "_view_module_version": "1.2.0",
            "_view_name": "StyleView",
            "description_width": ""
          }
        },
        "15f2ad5a7d604d6683b53060166916f9": {
          "model_module": "@jupyter-widgets/controls",
          "model_name": "HBoxModel",
          "model_module_version": "1.5.0",
          "state": {
            "_dom_classes": [],
            "_model_module": "@jupyter-widgets/controls",
            "_model_module_version": "1.5.0",
            "_model_name": "HBoxModel",
            "_view_count": null,
            "_view_module": "@jupyter-widgets/controls",
            "_view_module_version": "1.5.0",
            "_view_name": "HBoxView",
            "box_style": "",
            "children": [
              "IPY_MODEL_81b03506d8b94f4d915186bea23ab496",
              "IPY_MODEL_90d6fa2c87324b9d9e5376a44a180234",
              "IPY_MODEL_ab8e54f0c6bc46049b5a3c0821a274d5"
            ],
            "layout": "IPY_MODEL_c363253417454e93a44e08ea4ffc1bb3"
          }
        },
        "81b03506d8b94f4d915186bea23ab496": {
          "model_module": "@jupyter-widgets/controls",
          "model_name": "HTMLModel",
          "model_module_version": "1.5.0",
          "state": {
            "_dom_classes": [],
            "_model_module": "@jupyter-widgets/controls",
            "_model_module_version": "1.5.0",
            "_model_name": "HTMLModel",
            "_view_count": null,
            "_view_module": "@jupyter-widgets/controls",
            "_view_module_version": "1.5.0",
            "_view_name": "HTMLView",
            "description": "",
            "description_tooltip": null,
            "layout": "IPY_MODEL_4ffad676b72b41e684ad3f72b4bb2427",
            "placeholder": "​",
            "style": "IPY_MODEL_9a51999b865b4ed6a990c87bdb599395",
            "value": "100%"
          }
        },
        "90d6fa2c87324b9d9e5376a44a180234": {
          "model_module": "@jupyter-widgets/controls",
          "model_name": "FloatProgressModel",
          "model_module_version": "1.5.0",
          "state": {
            "_dom_classes": [],
            "_model_module": "@jupyter-widgets/controls",
            "_model_module_version": "1.5.0",
            "_model_name": "FloatProgressModel",
            "_view_count": null,
            "_view_module": "@jupyter-widgets/controls",
            "_view_module_version": "1.5.0",
            "_view_name": "ProgressView",
            "bar_style": "success",
            "description": "",
            "description_tooltip": null,
            "layout": "IPY_MODEL_b759951507b748968d7f458135fa32ce",
            "max": 3324,
            "min": 0,
            "orientation": "horizontal",
            "style": "IPY_MODEL_fa9f9316fc3545aa8e3f608ec815e674",
            "value": 3324
          }
        },
        "ab8e54f0c6bc46049b5a3c0821a274d5": {
          "model_module": "@jupyter-widgets/controls",
          "model_name": "HTMLModel",
          "model_module_version": "1.5.0",
          "state": {
            "_dom_classes": [],
            "_model_module": "@jupyter-widgets/controls",
            "_model_module_version": "1.5.0",
            "_model_name": "HTMLModel",
            "_view_count": null,
            "_view_module": "@jupyter-widgets/controls",
            "_view_module_version": "1.5.0",
            "_view_name": "HTMLView",
            "description": "",
            "description_tooltip": null,
            "layout": "IPY_MODEL_3f94d0ac2bae4fa4af74959a19e3dcba",
            "placeholder": "​",
            "style": "IPY_MODEL_f1febc37bff74e91a82240fa5fb87b40",
            "value": " 3324/3324 [03:32&lt;00:00, 15.85it/s]"
          }
        },
        "c363253417454e93a44e08ea4ffc1bb3": {
          "model_module": "@jupyter-widgets/base",
          "model_name": "LayoutModel",
          "model_module_version": "1.2.0",
          "state": {
            "_model_module": "@jupyter-widgets/base",
            "_model_module_version": "1.2.0",
            "_model_name": "LayoutModel",
            "_view_count": null,
            "_view_module": "@jupyter-widgets/base",
            "_view_module_version": "1.2.0",
            "_view_name": "LayoutView",
            "align_content": null,
            "align_items": null,
            "align_self": null,
            "border": null,
            "bottom": null,
            "display": null,
            "flex": null,
            "flex_flow": null,
            "grid_area": null,
            "grid_auto_columns": null,
            "grid_auto_flow": null,
            "grid_auto_rows": null,
            "grid_column": null,
            "grid_gap": null,
            "grid_row": null,
            "grid_template_areas": null,
            "grid_template_columns": null,
            "grid_template_rows": null,
            "height": null,
            "justify_content": null,
            "justify_items": null,
            "left": null,
            "margin": null,
            "max_height": null,
            "max_width": null,
            "min_height": null,
            "min_width": null,
            "object_fit": null,
            "object_position": null,
            "order": null,
            "overflow": null,
            "overflow_x": null,
            "overflow_y": null,
            "padding": null,
            "right": null,
            "top": null,
            "visibility": null,
            "width": null
          }
        },
        "4ffad676b72b41e684ad3f72b4bb2427": {
          "model_module": "@jupyter-widgets/base",
          "model_name": "LayoutModel",
          "model_module_version": "1.2.0",
          "state": {
            "_model_module": "@jupyter-widgets/base",
            "_model_module_version": "1.2.0",
            "_model_name": "LayoutModel",
            "_view_count": null,
            "_view_module": "@jupyter-widgets/base",
            "_view_module_version": "1.2.0",
            "_view_name": "LayoutView",
            "align_content": null,
            "align_items": null,
            "align_self": null,
            "border": null,
            "bottom": null,
            "display": null,
            "flex": null,
            "flex_flow": null,
            "grid_area": null,
            "grid_auto_columns": null,
            "grid_auto_flow": null,
            "grid_auto_rows": null,
            "grid_column": null,
            "grid_gap": null,
            "grid_row": null,
            "grid_template_areas": null,
            "grid_template_columns": null,
            "grid_template_rows": null,
            "height": null,
            "justify_content": null,
            "justify_items": null,
            "left": null,
            "margin": null,
            "max_height": null,
            "max_width": null,
            "min_height": null,
            "min_width": null,
            "object_fit": null,
            "object_position": null,
            "order": null,
            "overflow": null,
            "overflow_x": null,
            "overflow_y": null,
            "padding": null,
            "right": null,
            "top": null,
            "visibility": null,
            "width": null
          }
        },
        "9a51999b865b4ed6a990c87bdb599395": {
          "model_module": "@jupyter-widgets/controls",
          "model_name": "DescriptionStyleModel",
          "model_module_version": "1.5.0",
          "state": {
            "_model_module": "@jupyter-widgets/controls",
            "_model_module_version": "1.5.0",
            "_model_name": "DescriptionStyleModel",
            "_view_count": null,
            "_view_module": "@jupyter-widgets/base",
            "_view_module_version": "1.2.0",
            "_view_name": "StyleView",
            "description_width": ""
          }
        },
        "b759951507b748968d7f458135fa32ce": {
          "model_module": "@jupyter-widgets/base",
          "model_name": "LayoutModel",
          "model_module_version": "1.2.0",
          "state": {
            "_model_module": "@jupyter-widgets/base",
            "_model_module_version": "1.2.0",
            "_model_name": "LayoutModel",
            "_view_count": null,
            "_view_module": "@jupyter-widgets/base",
            "_view_module_version": "1.2.0",
            "_view_name": "LayoutView",
            "align_content": null,
            "align_items": null,
            "align_self": null,
            "border": null,
            "bottom": null,
            "display": null,
            "flex": null,
            "flex_flow": null,
            "grid_area": null,
            "grid_auto_columns": null,
            "grid_auto_flow": null,
            "grid_auto_rows": null,
            "grid_column": null,
            "grid_gap": null,
            "grid_row": null,
            "grid_template_areas": null,
            "grid_template_columns": null,
            "grid_template_rows": null,
            "height": null,
            "justify_content": null,
            "justify_items": null,
            "left": null,
            "margin": null,
            "max_height": null,
            "max_width": null,
            "min_height": null,
            "min_width": null,
            "object_fit": null,
            "object_position": null,
            "order": null,
            "overflow": null,
            "overflow_x": null,
            "overflow_y": null,
            "padding": null,
            "right": null,
            "top": null,
            "visibility": null,
            "width": null
          }
        },
        "fa9f9316fc3545aa8e3f608ec815e674": {
          "model_module": "@jupyter-widgets/controls",
          "model_name": "ProgressStyleModel",
          "model_module_version": "1.5.0",
          "state": {
            "_model_module": "@jupyter-widgets/controls",
            "_model_module_version": "1.5.0",
            "_model_name": "ProgressStyleModel",
            "_view_count": null,
            "_view_module": "@jupyter-widgets/base",
            "_view_module_version": "1.2.0",
            "_view_name": "StyleView",
            "bar_color": null,
            "description_width": ""
          }
        },
        "3f94d0ac2bae4fa4af74959a19e3dcba": {
          "model_module": "@jupyter-widgets/base",
          "model_name": "LayoutModel",
          "model_module_version": "1.2.0",
          "state": {
            "_model_module": "@jupyter-widgets/base",
            "_model_module_version": "1.2.0",
            "_model_name": "LayoutModel",
            "_view_count": null,
            "_view_module": "@jupyter-widgets/base",
            "_view_module_version": "1.2.0",
            "_view_name": "LayoutView",
            "align_content": null,
            "align_items": null,
            "align_self": null,
            "border": null,
            "bottom": null,
            "display": null,
            "flex": null,
            "flex_flow": null,
            "grid_area": null,
            "grid_auto_columns": null,
            "grid_auto_flow": null,
            "grid_auto_rows": null,
            "grid_column": null,
            "grid_gap": null,
            "grid_row": null,
            "grid_template_areas": null,
            "grid_template_columns": null,
            "grid_template_rows": null,
            "height": null,
            "justify_content": null,
            "justify_items": null,
            "left": null,
            "margin": null,
            "max_height": null,
            "max_width": null,
            "min_height": null,
            "min_width": null,
            "object_fit": null,
            "object_position": null,
            "order": null,
            "overflow": null,
            "overflow_x": null,
            "overflow_y": null,
            "padding": null,
            "right": null,
            "top": null,
            "visibility": null,
            "width": null
          }
        },
        "f1febc37bff74e91a82240fa5fb87b40": {
          "model_module": "@jupyter-widgets/controls",
          "model_name": "DescriptionStyleModel",
          "model_module_version": "1.5.0",
          "state": {
            "_model_module": "@jupyter-widgets/controls",
            "_model_module_version": "1.5.0",
            "_model_name": "DescriptionStyleModel",
            "_view_count": null,
            "_view_module": "@jupyter-widgets/base",
            "_view_module_version": "1.2.0",
            "_view_name": "StyleView",
            "description_width": ""
          }
        }
      }
    }
  },
  "nbformat": 4,
  "nbformat_minor": 0
}