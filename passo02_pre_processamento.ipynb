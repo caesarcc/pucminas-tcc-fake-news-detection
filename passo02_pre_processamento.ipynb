{
  "cells": [
    {
      "cell_type": "markdown",
      "metadata": {
        "id": "view-in-github",
        "colab_type": "text"
      },
      "source": [
        "<a href=\"https://colab.research.google.com/github/caesarcc/pucminas-tcc-fake-news-detection/blob/main/passo02_pre_processamento.ipynb\" target=\"_parent\"><img src=\"https://colab.research.google.com/assets/colab-badge.svg\" alt=\"Open In Colab\"/></a>"
      ]
    },
    {
      "cell_type": "markdown",
      "metadata": {
        "id": "WRxgfVVsPtyK"
      },
      "source": [
        "## Pre-Processamento e limpeza do dataset\n",
        "\n",
        "### Iniciando pela configuração do Google Colab"
      ]
    },
    {
      "cell_type": "code",
      "execution_count": 1,
      "metadata": {
        "colab": {
          "base_uri": "https://localhost:8080/"
        },
        "id": "6hB_K-J4iA-r",
        "outputId": "66913aa8-564d-43ea-c51f-8246c4042247"
      },
      "outputs": [
        {
          "output_type": "stream",
          "name": "stdout",
          "text": [
            "\u001b[?25l\r\u001b[K     |█▉                              | 10 kB 33.1 MB/s eta 0:00:01\r\u001b[K     |███▊                            | 20 kB 37.3 MB/s eta 0:00:01\r\u001b[K     |█████▋                          | 30 kB 26.3 MB/s eta 0:00:01\r\u001b[K     |███████▌                        | 40 kB 14.2 MB/s eta 0:00:01\r\u001b[K     |█████████▍                      | 51 kB 13.4 MB/s eta 0:00:01\r\u001b[K     |███████████▏                    | 61 kB 15.6 MB/s eta 0:00:01\r\u001b[K     |█████████████                   | 71 kB 12.5 MB/s eta 0:00:01\r\u001b[K     |███████████████                 | 81 kB 13.7 MB/s eta 0:00:01\r\u001b[K     |████████████████▉               | 92 kB 15.2 MB/s eta 0:00:01\r\u001b[K     |██████████████████▊             | 102 kB 14.2 MB/s eta 0:00:01\r\u001b[K     |████████████████████▌           | 112 kB 14.2 MB/s eta 0:00:01\r\u001b[K     |██████████████████████▍         | 122 kB 14.2 MB/s eta 0:00:01\r\u001b[K     |████████████████████████▎       | 133 kB 14.2 MB/s eta 0:00:01\r\u001b[K     |██████████████████████████▏     | 143 kB 14.2 MB/s eta 0:00:01\r\u001b[K     |████████████████████████████    | 153 kB 14.2 MB/s eta 0:00:01\r\u001b[K     |█████████████████████████████▉  | 163 kB 14.2 MB/s eta 0:00:01\r\u001b[K     |███████████████████████████████▊| 174 kB 14.2 MB/s eta 0:00:01\r\u001b[K     |████████████████████████████████| 175 kB 14.2 MB/s \n",
            "\u001b[?25h  Building wheel for emoji (setup.py) ... \u001b[?25l\u001b[?25hdone\n",
            "\u001b[K     |████████████████████████████████| 4.4 MB 14.5 MB/s \n",
            "\u001b[K     |████████████████████████████████| 6.6 MB 90.6 MB/s \n",
            "\u001b[K     |████████████████████████████████| 596 kB 68.6 MB/s \n",
            "\u001b[K     |████████████████████████████████| 101 kB 68.4 MB/s \n",
            "\u001b[K     |████████████████████████████████| 1.2 MB 15.6 MB/s \n",
            "\u001b[?25hLooking in indexes: https://pypi.org/simple, https://us-python.pkg.dev/colab-wheels/public/simple/\n",
            "Collecting pt-core-news-sm==3.3.0\n",
            "  Downloading https://github.com/explosion/spacy-models/releases/download/pt_core_news_sm-3.3.0/pt_core_news_sm-3.3.0-py3-none-any.whl (13.0 MB)\n",
            "\u001b[K     |████████████████████████████████| 13.0 MB 14.1 MB/s \n",
            "\u001b[?25hRequirement already satisfied: spacy<3.4.0,>=3.3.0.dev0 in /usr/local/lib/python3.7/dist-packages (from pt-core-news-sm==3.3.0) (3.3.1)\n",
            "Requirement already satisfied: preshed<3.1.0,>=3.0.2 in /usr/local/lib/python3.7/dist-packages (from spacy<3.4.0,>=3.3.0.dev0->pt-core-news-sm==3.3.0) (3.0.6)\n",
            "Requirement already satisfied: packaging>=20.0 in /usr/local/lib/python3.7/dist-packages (from spacy<3.4.0,>=3.3.0.dev0->pt-core-news-sm==3.3.0) (21.3)\n",
            "Requirement already satisfied: wasabi<1.1.0,>=0.9.1 in /usr/local/lib/python3.7/dist-packages (from spacy<3.4.0,>=3.3.0.dev0->pt-core-news-sm==3.3.0) (0.9.1)\n",
            "Requirement already satisfied: thinc<8.1.0,>=8.0.14 in /usr/local/lib/python3.7/dist-packages (from spacy<3.4.0,>=3.3.0.dev0->pt-core-news-sm==3.3.0) (8.0.17)\n",
            "Requirement already satisfied: catalogue<2.1.0,>=2.0.6 in /usr/local/lib/python3.7/dist-packages (from spacy<3.4.0,>=3.3.0.dev0->pt-core-news-sm==3.3.0) (2.0.7)\n",
            "Requirement already satisfied: srsly<3.0.0,>=2.4.3 in /usr/local/lib/python3.7/dist-packages (from spacy<3.4.0,>=3.3.0.dev0->pt-core-news-sm==3.3.0) (2.4.3)\n",
            "Requirement already satisfied: cymem<2.1.0,>=2.0.2 in /usr/local/lib/python3.7/dist-packages (from spacy<3.4.0,>=3.3.0.dev0->pt-core-news-sm==3.3.0) (2.0.6)\n",
            "Requirement already satisfied: spacy-legacy<3.1.0,>=3.0.9 in /usr/local/lib/python3.7/dist-packages (from spacy<3.4.0,>=3.3.0.dev0->pt-core-news-sm==3.3.0) (3.0.9)\n",
            "Requirement already satisfied: typer<0.5.0,>=0.3.0 in /usr/local/lib/python3.7/dist-packages (from spacy<3.4.0,>=3.3.0.dev0->pt-core-news-sm==3.3.0) (0.4.1)\n",
            "Requirement already satisfied: setuptools in /usr/local/lib/python3.7/dist-packages (from spacy<3.4.0,>=3.3.0.dev0->pt-core-news-sm==3.3.0) (57.4.0)\n",
            "Requirement already satisfied: murmurhash<1.1.0,>=0.28.0 in /usr/local/lib/python3.7/dist-packages (from spacy<3.4.0,>=3.3.0.dev0->pt-core-news-sm==3.3.0) (1.0.7)\n",
            "Requirement already satisfied: langcodes<4.0.0,>=3.2.0 in /usr/local/lib/python3.7/dist-packages (from spacy<3.4.0,>=3.3.0.dev0->pt-core-news-sm==3.3.0) (3.3.0)\n",
            "Requirement already satisfied: blis<0.8.0,>=0.4.0 in /usr/local/lib/python3.7/dist-packages (from spacy<3.4.0,>=3.3.0.dev0->pt-core-news-sm==3.3.0) (0.7.7)\n",
            "Requirement already satisfied: spacy-loggers<2.0.0,>=1.0.0 in /usr/local/lib/python3.7/dist-packages (from spacy<3.4.0,>=3.3.0.dev0->pt-core-news-sm==3.3.0) (1.0.2)\n",
            "Requirement already satisfied: numpy>=1.15.0 in /usr/local/lib/python3.7/dist-packages (from spacy<3.4.0,>=3.3.0.dev0->pt-core-news-sm==3.3.0) (1.21.6)\n",
            "Requirement already satisfied: tqdm<5.0.0,>=4.38.0 in /usr/local/lib/python3.7/dist-packages (from spacy<3.4.0,>=3.3.0.dev0->pt-core-news-sm==3.3.0) (4.64.0)\n",
            "Requirement already satisfied: typing-extensions<4.2.0,>=3.7.4 in /usr/local/lib/python3.7/dist-packages (from spacy<3.4.0,>=3.3.0.dev0->pt-core-news-sm==3.3.0) (4.1.1)\n",
            "Requirement already satisfied: jinja2 in /usr/local/lib/python3.7/dist-packages (from spacy<3.4.0,>=3.3.0.dev0->pt-core-news-sm==3.3.0) (2.11.3)\n",
            "Requirement already satisfied: pydantic!=1.8,!=1.8.1,<1.9.0,>=1.7.4 in /usr/local/lib/python3.7/dist-packages (from spacy<3.4.0,>=3.3.0.dev0->pt-core-news-sm==3.3.0) (1.8.2)\n",
            "Requirement already satisfied: requests<3.0.0,>=2.13.0 in /usr/local/lib/python3.7/dist-packages (from spacy<3.4.0,>=3.3.0.dev0->pt-core-news-sm==3.3.0) (2.23.0)\n",
            "Requirement already satisfied: pathy>=0.3.5 in /usr/local/lib/python3.7/dist-packages (from spacy<3.4.0,>=3.3.0.dev0->pt-core-news-sm==3.3.0) (0.6.1)\n",
            "Requirement already satisfied: zipp>=0.5 in /usr/local/lib/python3.7/dist-packages (from catalogue<2.1.0,>=2.0.6->spacy<3.4.0,>=3.3.0.dev0->pt-core-news-sm==3.3.0) (3.8.0)\n",
            "Requirement already satisfied: pyparsing!=3.0.5,>=2.0.2 in /usr/local/lib/python3.7/dist-packages (from packaging>=20.0->spacy<3.4.0,>=3.3.0.dev0->pt-core-news-sm==3.3.0) (3.0.9)\n",
            "Requirement already satisfied: smart-open<6.0.0,>=5.0.0 in /usr/local/lib/python3.7/dist-packages (from pathy>=0.3.5->spacy<3.4.0,>=3.3.0.dev0->pt-core-news-sm==3.3.0) (5.2.1)\n",
            "Requirement already satisfied: certifi>=2017.4.17 in /usr/local/lib/python3.7/dist-packages (from requests<3.0.0,>=2.13.0->spacy<3.4.0,>=3.3.0.dev0->pt-core-news-sm==3.3.0) (2022.6.15)\n",
            "Requirement already satisfied: urllib3!=1.25.0,!=1.25.1,<1.26,>=1.21.1 in /usr/local/lib/python3.7/dist-packages (from requests<3.0.0,>=2.13.0->spacy<3.4.0,>=3.3.0.dev0->pt-core-news-sm==3.3.0) (1.24.3)\n",
            "Requirement already satisfied: chardet<4,>=3.0.2 in /usr/local/lib/python3.7/dist-packages (from requests<3.0.0,>=2.13.0->spacy<3.4.0,>=3.3.0.dev0->pt-core-news-sm==3.3.0) (3.0.4)\n",
            "Requirement already satisfied: idna<3,>=2.5 in /usr/local/lib/python3.7/dist-packages (from requests<3.0.0,>=2.13.0->spacy<3.4.0,>=3.3.0.dev0->pt-core-news-sm==3.3.0) (2.10)\n",
            "Requirement already satisfied: click<9.0.0,>=7.1.1 in /usr/local/lib/python3.7/dist-packages (from typer<0.5.0,>=0.3.0->spacy<3.4.0,>=3.3.0.dev0->pt-core-news-sm==3.3.0) (7.1.2)\n",
            "Requirement already satisfied: MarkupSafe>=0.23 in /usr/local/lib/python3.7/dist-packages (from jinja2->spacy<3.4.0,>=3.3.0.dev0->pt-core-news-sm==3.3.0) (2.0.1)\n",
            "Installing collected packages: pt-core-news-sm\n",
            "Successfully installed pt-core-news-sm-3.3.0\n",
            "\u001b[38;5;2m✔ Download and installation successful\u001b[0m\n",
            "You can now load the package via spacy.load('pt_core_news_sm')\n"
          ]
        }
      ],
      "source": [
        "# Instalação de libs que não estão presentes no Colab\n",
        "!pip install -q emoji\n",
        "!pip install -q transformers --no-cache-dir\n",
        "!pip install -q sentencepiece\n",
        "# Configuração da lib Spacy\n",
        "!python -m spacy download pt_core_news_sm"
      ]
    },
    {
      "cell_type": "code",
      "execution_count": 2,
      "metadata": {
        "colab": {
          "base_uri": "https://localhost:8080/"
        },
        "id": "NC05ATj6Q5mp",
        "outputId": "06132c54-5aed-4120-c232-eeef5cf666b5"
      },
      "outputs": [
        {
          "output_type": "stream",
          "name": "stdout",
          "text": [
            "Mounted at /content/drive\n"
          ]
        }
      ],
      "source": [
        "# Configura acesso ao Google Driver onde serão salvos os arquivos grandes\n",
        "from google.colab import drive\n",
        "drive.mount('/content/drive')"
      ]
    },
    {
      "cell_type": "code",
      "execution_count": 78,
      "metadata": {
        "cellView": "form",
        "id": "CPzAh59THwj1"
      },
      "outputs": [],
      "source": [
        "# Importação de bibliotecas utilizadas no pré-processamento\n",
        "import re\n",
        "import emoji\n",
        "from tqdm.auto import tqdm\n",
        "import pandas as pd\n",
        "import numpy as np\n",
        "import matplotlib.pyplot as plt\n",
        "import seaborn as sns\n",
        "import torch\n",
        "import pt_core_news_sm\n",
        "from transformers import AutoTokenizer, AutoModelForSeq2SeqLM\n",
        "from IPython.display import display"
      ]
    },
    {
      "cell_type": "code",
      "source": [
        "#Configurações de ambiente\n",
        "%matplotlib inline\n",
        "# limites de impressão para o pandas\n",
        "pd.set_option(\"display.max_rows\", 50, 'display.max_colwidth', 350)\n",
        "# configura tema dos gráficos\n",
        "sns.set_theme(style=\"whitegrid\")\n",
        "#configura a barra de progressos para usar no apply\n",
        "tqdm.pandas()\n",
        "# Identifica device gpu ou cpu disponível\n",
        "device_disponivel = 'cuda' if torch.cuda.is_available() else 'cpu'"
      ],
      "metadata": {
        "id": "lKmAvvAxIOXO"
      },
      "execution_count": 79,
      "outputs": []
    },
    {
      "cell_type": "markdown",
      "metadata": {
        "id": "CAIEyECELbcI"
      },
      "source": [
        "### Carregar arquivo CSV das bases unificadas e validar"
      ]
    },
    {
      "cell_type": "code",
      "execution_count": 80,
      "metadata": {
        "colab": {
          "base_uri": "https://localhost:8080/"
        },
        "id": "x-_cNp9TLjj7",
        "outputId": "547c5323-6adc-435f-f5d0-8e19b3d17dc5"
      },
      "outputs": [
        {
          "output_type": "stream",
          "name": "stdout",
          "text": [
            "<class 'pandas.core.frame.DataFrame'>\n",
            "RangeIndex: 9537 entries, 0 to 9536\n",
            "Data columns (total 2 columns):\n",
            " #   Column  Non-Null Count  Dtype \n",
            "---  ------  --------------  ----- \n",
            " 0   texto   9537 non-null   object\n",
            " 1   classe  9537 non-null   int64 \n",
            "dtypes: int64(1), object(1)\n",
            "memory usage: 149.1+ KB\n"
          ]
        }
      ],
      "source": [
        "dados = pd.read_csv(r'/content/drive/MyDrive/PUC/TCC/dados/datasets_unificados.csv', \n",
        "                    sep = ',', names=['texto', 'classe'], header=1).reset_index(drop=True)\n",
        "dados.info()"
      ]
    },
    {
      "cell_type": "code",
      "execution_count": 84,
      "metadata": {
        "colab": {
          "base_uri": "https://localhost:8080/",
          "height": 372
        },
        "id": "foUthMFjVRxp",
        "outputId": "8d304b75-c2f0-4dd5-9961-901f50f58773"
      },
      "outputs": [
        {
          "output_type": "execute_result",
          "data": {
            "text/plain": [
              "                                                                                                                                                                                                                                                                                                                                                              texto  \\\n",
              "8838           *Reserva de camisas do Mito*\\n\\nVitor Hugo: 1⃣G 4⃣G    ✅\\nHorácio: 4⃣G 4⃣M✅\\nJairo: 1 camisa G preta\\nDjalma : 3⃣G✅\\nFernando Campelo: 4⃣ GG✅\\nNabell: 1 Branca P✅\\nCarlos Augusto: 1 preta e 1 Branca  P\\nMarcelo Mesquita: 1 G Branca ✅\\nEmerson Souza: 1 GG Branca✅\\nZito: 1 preta e 1 Branca, ambas M\\nGilson Batista : Branca G✅\\nHarlen: 2⃣G ✅   \n",
              "4591  Cabra nasce com rosto humano e população diz que \"é o demônio anunciando o fim do mundo\". .  A reportagem, feita pelo repórter Jorge Castro (jornal El Chorrillero) , se espalhou pelas redes sociais. \"Foi a própria família que divulgou as primeiras imagens do animal e o chamou de demônio\" informou o repórter argentino. No vídeo abaixo, é possíve...   \n",
              "8591                                                                                                                                                                      *E aí... Isso não é atentado a democracia Toffolli?*\\n\\nhttps://noticias.uol.com.br/politica/ultimas-noticias/2018/04/13/tem-que-fechar-o-supremo-tribunal-federal-diz-deputado-do-pt.htm   \n",
              "7769     Adélio Bispo de Oliveira é o nome do petista que tentou matar Jair Bolsonaro hoje em Juiz de Fora.\\nEle é filiado ao Partido narcoterrorista dos Trabalhadores.\\nÉ natural de Montes Claros, formado na Universidade Federal de Viçosa em Pedagogia!\\nÉ militante do PT, responsável pela campanha de Dilma Rousseff em Juiz de Fora.\\nPreso em flagrante!   \n",
              "9092                                                                                                                                                                                                      HOJE 17/09 - Paulo Guedes Ministro da Fazenda de  Bolsonaro, no Roda Viva da TV Cultura, às 22:10h, após o jornal da Cultura. Favor divulgarem. Obrigado.   \n",
              "\n",
              "      classe  \n",
              "8838       0  \n",
              "4591       1  \n",
              "8591       0  \n",
              "7769       1  \n",
              "9092       1  "
            ],
            "text/html": [
              "\n",
              "  <div id=\"df-c58d5277-074a-4f09-b7da-395918e3d670\">\n",
              "    <div class=\"colab-df-container\">\n",
              "      <div>\n",
              "<style scoped>\n",
              "    .dataframe tbody tr th:only-of-type {\n",
              "        vertical-align: middle;\n",
              "    }\n",
              "\n",
              "    .dataframe tbody tr th {\n",
              "        vertical-align: top;\n",
              "    }\n",
              "\n",
              "    .dataframe thead th {\n",
              "        text-align: right;\n",
              "    }\n",
              "</style>\n",
              "<table border=\"1\" class=\"dataframe\">\n",
              "  <thead>\n",
              "    <tr style=\"text-align: right;\">\n",
              "      <th></th>\n",
              "      <th>texto</th>\n",
              "      <th>classe</th>\n",
              "    </tr>\n",
              "  </thead>\n",
              "  <tbody>\n",
              "    <tr>\n",
              "      <th>8838</th>\n",
              "      <td>*Reserva de camisas do Mito*\\n\\nVitor Hugo: 1⃣G 4⃣G    ✅\\nHorácio: 4⃣G 4⃣M✅\\nJairo: 1 camisa G preta\\nDjalma : 3⃣G✅\\nFernando Campelo: 4⃣ GG✅\\nNabell: 1 Branca P✅\\nCarlos Augusto: 1 preta e 1 Branca  P\\nMarcelo Mesquita: 1 G Branca ✅\\nEmerson Souza: 1 GG Branca✅\\nZito: 1 preta e 1 Branca, ambas M\\nGilson Batista : Branca G✅\\nHarlen: 2⃣G ✅</td>\n",
              "      <td>0</td>\n",
              "    </tr>\n",
              "    <tr>\n",
              "      <th>4591</th>\n",
              "      <td>Cabra nasce com rosto humano e população diz que \"é o demônio anunciando o fim do mundo\". .  A reportagem, feita pelo repórter Jorge Castro (jornal El Chorrillero) , se espalhou pelas redes sociais. \"Foi a própria família que divulgou as primeiras imagens do animal e o chamou de demônio\" informou o repórter argentino. No vídeo abaixo, é possíve...</td>\n",
              "      <td>1</td>\n",
              "    </tr>\n",
              "    <tr>\n",
              "      <th>8591</th>\n",
              "      <td>*E aí... Isso não é atentado a democracia Toffolli?*\\n\\nhttps://noticias.uol.com.br/politica/ultimas-noticias/2018/04/13/tem-que-fechar-o-supremo-tribunal-federal-diz-deputado-do-pt.htm</td>\n",
              "      <td>0</td>\n",
              "    </tr>\n",
              "    <tr>\n",
              "      <th>7769</th>\n",
              "      <td>Adélio Bispo de Oliveira é o nome do petista que tentou matar Jair Bolsonaro hoje em Juiz de Fora.\\nEle é filiado ao Partido narcoterrorista dos Trabalhadores.\\nÉ natural de Montes Claros, formado na Universidade Federal de Viçosa em Pedagogia!\\nÉ militante do PT, responsável pela campanha de Dilma Rousseff em Juiz de Fora.\\nPreso em flagrante!</td>\n",
              "      <td>1</td>\n",
              "    </tr>\n",
              "    <tr>\n",
              "      <th>9092</th>\n",
              "      <td>HOJE 17/09 - Paulo Guedes Ministro da Fazenda de  Bolsonaro, no Roda Viva da TV Cultura, às 22:10h, após o jornal da Cultura. Favor divulgarem. Obrigado.</td>\n",
              "      <td>1</td>\n",
              "    </tr>\n",
              "  </tbody>\n",
              "</table>\n",
              "</div>\n",
              "      <button class=\"colab-df-convert\" onclick=\"convertToInteractive('df-c58d5277-074a-4f09-b7da-395918e3d670')\"\n",
              "              title=\"Convert this dataframe to an interactive table.\"\n",
              "              style=\"display:none;\">\n",
              "        \n",
              "  <svg xmlns=\"http://www.w3.org/2000/svg\" height=\"24px\"viewBox=\"0 0 24 24\"\n",
              "       width=\"24px\">\n",
              "    <path d=\"M0 0h24v24H0V0z\" fill=\"none\"/>\n",
              "    <path d=\"M18.56 5.44l.94 2.06.94-2.06 2.06-.94-2.06-.94-.94-2.06-.94 2.06-2.06.94zm-11 1L8.5 8.5l.94-2.06 2.06-.94-2.06-.94L8.5 2.5l-.94 2.06-2.06.94zm10 10l.94 2.06.94-2.06 2.06-.94-2.06-.94-.94-2.06-.94 2.06-2.06.94z\"/><path d=\"M17.41 7.96l-1.37-1.37c-.4-.4-.92-.59-1.43-.59-.52 0-1.04.2-1.43.59L10.3 9.45l-7.72 7.72c-.78.78-.78 2.05 0 2.83L4 21.41c.39.39.9.59 1.41.59.51 0 1.02-.2 1.41-.59l7.78-7.78 2.81-2.81c.8-.78.8-2.07 0-2.86zM5.41 20L4 18.59l7.72-7.72 1.47 1.35L5.41 20z\"/>\n",
              "  </svg>\n",
              "      </button>\n",
              "      \n",
              "  <style>\n",
              "    .colab-df-container {\n",
              "      display:flex;\n",
              "      flex-wrap:wrap;\n",
              "      gap: 12px;\n",
              "    }\n",
              "\n",
              "    .colab-df-convert {\n",
              "      background-color: #E8F0FE;\n",
              "      border: none;\n",
              "      border-radius: 50%;\n",
              "      cursor: pointer;\n",
              "      display: none;\n",
              "      fill: #1967D2;\n",
              "      height: 32px;\n",
              "      padding: 0 0 0 0;\n",
              "      width: 32px;\n",
              "    }\n",
              "\n",
              "    .colab-df-convert:hover {\n",
              "      background-color: #E2EBFA;\n",
              "      box-shadow: 0px 1px 2px rgba(60, 64, 67, 0.3), 0px 1px 3px 1px rgba(60, 64, 67, 0.15);\n",
              "      fill: #174EA6;\n",
              "    }\n",
              "\n",
              "    [theme=dark] .colab-df-convert {\n",
              "      background-color: #3B4455;\n",
              "      fill: #D2E3FC;\n",
              "    }\n",
              "\n",
              "    [theme=dark] .colab-df-convert:hover {\n",
              "      background-color: #434B5C;\n",
              "      box-shadow: 0px 1px 3px 1px rgba(0, 0, 0, 0.15);\n",
              "      filter: drop-shadow(0px 1px 2px rgba(0, 0, 0, 0.3));\n",
              "      fill: #FFFFFF;\n",
              "    }\n",
              "  </style>\n",
              "\n",
              "      <script>\n",
              "        const buttonEl =\n",
              "          document.querySelector('#df-c58d5277-074a-4f09-b7da-395918e3d670 button.colab-df-convert');\n",
              "        buttonEl.style.display =\n",
              "          google.colab.kernel.accessAllowed ? 'block' : 'none';\n",
              "\n",
              "        async function convertToInteractive(key) {\n",
              "          const element = document.querySelector('#df-c58d5277-074a-4f09-b7da-395918e3d670');\n",
              "          const dataTable =\n",
              "            await google.colab.kernel.invokeFunction('convertToInteractive',\n",
              "                                                     [key], {});\n",
              "          if (!dataTable) return;\n",
              "\n",
              "          const docLinkHtml = 'Like what you see? Visit the ' +\n",
              "            '<a target=\"_blank\" href=https://colab.research.google.com/notebooks/data_table.ipynb>data table notebook</a>'\n",
              "            + ' to learn more about interactive tables.';\n",
              "          element.innerHTML = '';\n",
              "          dataTable['output_type'] = 'display_data';\n",
              "          await google.colab.output.renderOutput(dataTable, element);\n",
              "          const docLink = document.createElement('div');\n",
              "          docLink.innerHTML = docLinkHtml;\n",
              "          element.appendChild(docLink);\n",
              "        }\n",
              "      </script>\n",
              "    </div>\n",
              "  </div>\n",
              "  "
            ]
          },
          "metadata": {},
          "execution_count": 84
        }
      ],
      "source": [
        "dados[dados['texto'].str.len()<400].sample(n=5)"
      ]
    },
    {
      "cell_type": "markdown",
      "metadata": {
        "id": "g31RWCqPZCH7"
      },
      "source": [
        "### Exploração e limpeza de dados"
      ]
    },
    {
      "cell_type": "code",
      "execution_count": 85,
      "metadata": {
        "id": "EbTZch_bPtyZ",
        "outputId": "c13f8b11-8048-427a-e790-cca9854f1247",
        "colab": {
          "base_uri": "https://localhost:8080/",
          "height": 49,
          "referenced_widgets": [
            "3f312562968c48fda9f87626dfb6a500",
            "e8c13456cb0244ab9710b1681e499f75",
            "729fa609d2a14d179532212afa2e4e7d",
            "e11a4ef314884b2bb01dd1fde8a3d82b",
            "bd05d0a219b64361af50dc6c0df23a37",
            "e07604eec7fb40cab5600dc4aa073e23",
            "6ad9df519a604b02b33dbb4e58d7498c",
            "e95e0bc5b3d24a82bd5758f7bab94914",
            "d6402ec7edb24e76a59f79431540a94a",
            "22e1a7f128fa488bbbbb51a9d68923b5",
            "131607f203034b9f8b768e4801eb1614"
          ]
        }
      },
      "outputs": [
        {
          "output_type": "display_data",
          "data": {
            "text/plain": [
              "  0%|          | 0/9537 [00:00<?, ?it/s]"
            ],
            "application/vnd.jupyter.widget-view+json": {
              "version_major": 2,
              "version_minor": 0,
              "model_id": "3f312562968c48fda9f87626dfb6a500"
            }
          },
          "metadata": {}
        }
      ],
      "source": [
        "def limpar_textos(texto):\n",
        "    # Corrige marcadores de nova linha indevidos (textuas e não textuais)\n",
        "    texto = re.sub(r'(\\n|\\r)', ' ', re.sub('(\\n|\\r)', ' ', texto))\n",
        "    # Remove urls no texto\n",
        "    texto = re.sub(r'(https|http|ftp)?:\\/\\/(\\w|\\.|-|\\/|\\?|\\=|\\&|\\%)*\\b', '', texto)\n",
        "    # Remove emojis por lib\n",
        "    texto = emoji.replace_emoji(texto, replace='')\n",
        "    # Mantem apenas caracteres alfanuméricos com e sem acentuação + pontuação\n",
        "    texto = re.sub(u'[^a-zA-Z0-9áéíóúÁÉÍÓÚâêîôÂÊÎÔãõÃÕçÇ:\\-,.\" ]', '', texto)\n",
        "    # Remove reticências e pontuação incorreta\n",
        "    texto = re.sub(r'(\\.\\.|\\.\\.\\.|\\.\\.\\.\\.|\\. \\.)', '', texto)\n",
        "    # Remove números concatenados ao final ou início de palavras\n",
        "    texto = re.sub(r'(?:([a-z])\\d+|\\d([a-z]))', r'\\1\\2', texto)\n",
        "    # Remove multiplos caracteres em branco\n",
        "    return re.sub(r'\\s+',' ', texto).strip()\n",
        "\n",
        "dados[\"texto_limpo\"] = dados.texto.progress_apply(limpar_textos)\n",
        "dados[\"qtde_limpo\"] = dados.texto_limpo.apply(\n",
        "                                lambda texto: len(re.findall(r\"[\\w']+\", texto)))"
      ]
    },
    {
      "cell_type": "code",
      "execution_count": null,
      "metadata": {
        "colab": {
          "base_uri": "https://localhost:8080/",
          "height": 337
        },
        "id": "xBxHYwFx-Vq5",
        "outputId": "f6fc376b-3b9f-467b-9d98-2205429770b6"
      },
      "outputs": [
        {
          "output_type": "display_data",
          "data": {
            "text/plain": [
              "      classe  \\\n",
              "8743       0   \n",
              "8157       0   \n",
              "7655       0   \n",
              "7966       0   \n",
              "8663       1   \n",
              "\n",
              "                                                                                                                                                                                                                                                          texto  \\\n",
              "8743                                                                                                                                                           Ouro Preto ontem, Haddad, Dilma e Pimentel, estava lotado, 🙈 acho que não vai ter segundo turno!   \n",
              "8157                                                                                                              Entrevista da candidata Dilma Rousseff ontem (8/09/2018) em Janaúba ao sr. Ambrósio Prates e jornalista e repórter da Rádio Torre FM 91,7 FM.   \n",
              "7655                                                                                                   https://www.oantagonista.com/tv/vazou-propaganda-eleitoral-de-bolsonaro/\\n\\n\\nMuito boa a propaganda eleitoral de Bolsonaro, o video está no antagonista   \n",
              "7966                                                                           Ontem eManaus parou com a grande manifestação da senadora e candidata a reeleição - Vanessa Graziotim - em favor de Lula e do PT. \\nVejam o vídeo, é de arrepiar com a multidão!   \n",
              "8663  De Lavada !!!!\\n\\nTracking BTG que acabou de sair para o mercado financeiro:\\n👉Bolsonaro 77%;\\n👇Haddad 23%.\\nPS: Votos válidos.\\n\\nTemos que espalhar ao máximo, pois os institutos de pesquisas podem  começar a divulgar as “falsas”pesquisas onde H...   \n",
              "\n",
              "                                                                                                                                                                                                                                               texto_processado  \n",
              "8743                                                                                                                                                              Ouro Preto ontem, Haddad, Dilma e Pimentel, estava lotado, acho que não vai ter segundo turno  \n",
              "8157                                                                                                                  Entrevista da candidata Dilma Rousseff ontem 8092018 em Janaúba ao sr. Ambrósio Prates e jornalista e repórter da Rádio Torre FM 91,7 FM.  \n",
              "7655                                                                                                                                                                                       boa a propaganda eleitoral de Bolsonaro, o video está no antagonista  \n",
              "7966                                                                              Ontem eManaus parou com a grande manifestação da senadora e candidata a reeleição - Vanessa Graziotim - em favor de Lula e do PT. Vejam o vídeo, é de arrepiar com a multidão  \n",
              "8663  De Lavada Tracking BTG que acabou de sair para o mercado financeiro:Bolsonaro 77Haddad 23.PS: Votos válidos.Temos que espalhar ao máximo, pois os institutos de pesquisas podem começar a divulgar as falsaspesquisas onde Haddad já se aproxima de Bo...  "
            ],
            "text/html": [
              "\n",
              "  <div id=\"df-73a8026e-d211-483f-b026-6d5501f59f77\">\n",
              "    <div class=\"colab-df-container\">\n",
              "      <div>\n",
              "<style scoped>\n",
              "    .dataframe tbody tr th:only-of-type {\n",
              "        vertical-align: middle;\n",
              "    }\n",
              "\n",
              "    .dataframe tbody tr th {\n",
              "        vertical-align: top;\n",
              "    }\n",
              "\n",
              "    .dataframe thead th {\n",
              "        text-align: right;\n",
              "    }\n",
              "</style>\n",
              "<table border=\"1\" class=\"dataframe\">\n",
              "  <thead>\n",
              "    <tr style=\"text-align: right;\">\n",
              "      <th></th>\n",
              "      <th>classe</th>\n",
              "      <th>texto</th>\n",
              "      <th>texto_processado</th>\n",
              "    </tr>\n",
              "  </thead>\n",
              "  <tbody>\n",
              "    <tr>\n",
              "      <th>8743</th>\n",
              "      <td>0</td>\n",
              "      <td>Ouro Preto ontem, Haddad, Dilma e Pimentel, estava lotado, 🙈 acho que não vai ter segundo turno!</td>\n",
              "      <td>Ouro Preto ontem, Haddad, Dilma e Pimentel, estava lotado, acho que não vai ter segundo turno</td>\n",
              "    </tr>\n",
              "    <tr>\n",
              "      <th>8157</th>\n",
              "      <td>0</td>\n",
              "      <td>Entrevista da candidata Dilma Rousseff ontem (8/09/2018) em Janaúba ao sr. Ambrósio Prates e jornalista e repórter da Rádio Torre FM 91,7 FM.</td>\n",
              "      <td>Entrevista da candidata Dilma Rousseff ontem 8092018 em Janaúba ao sr. Ambrósio Prates e jornalista e repórter da Rádio Torre FM 91,7 FM.</td>\n",
              "    </tr>\n",
              "    <tr>\n",
              "      <th>7655</th>\n",
              "      <td>0</td>\n",
              "      <td>https://www.oantagonista.com/tv/vazou-propaganda-eleitoral-de-bolsonaro/\\n\\n\\nMuito boa a propaganda eleitoral de Bolsonaro, o video está no antagonista</td>\n",
              "      <td>boa a propaganda eleitoral de Bolsonaro, o video está no antagonista</td>\n",
              "    </tr>\n",
              "    <tr>\n",
              "      <th>7966</th>\n",
              "      <td>0</td>\n",
              "      <td>Ontem eManaus parou com a grande manifestação da senadora e candidata a reeleição - Vanessa Graziotim - em favor de Lula e do PT. \\nVejam o vídeo, é de arrepiar com a multidão!</td>\n",
              "      <td>Ontem eManaus parou com a grande manifestação da senadora e candidata a reeleição - Vanessa Graziotim - em favor de Lula e do PT. Vejam o vídeo, é de arrepiar com a multidão</td>\n",
              "    </tr>\n",
              "    <tr>\n",
              "      <th>8663</th>\n",
              "      <td>1</td>\n",
              "      <td>De Lavada !!!!\\n\\nTracking BTG que acabou de sair para o mercado financeiro:\\n👉Bolsonaro 77%;\\n👇Haddad 23%.\\nPS: Votos válidos.\\n\\nTemos que espalhar ao máximo, pois os institutos de pesquisas podem  começar a divulgar as “falsas”pesquisas onde H...</td>\n",
              "      <td>De Lavada Tracking BTG que acabou de sair para o mercado financeiro:Bolsonaro 77Haddad 23.PS: Votos válidos.Temos que espalhar ao máximo, pois os institutos de pesquisas podem começar a divulgar as falsaspesquisas onde Haddad já se aproxima de Bo...</td>\n",
              "    </tr>\n",
              "  </tbody>\n",
              "</table>\n",
              "</div>\n",
              "      <button class=\"colab-df-convert\" onclick=\"convertToInteractive('df-73a8026e-d211-483f-b026-6d5501f59f77')\"\n",
              "              title=\"Convert this dataframe to an interactive table.\"\n",
              "              style=\"display:none;\">\n",
              "        \n",
              "  <svg xmlns=\"http://www.w3.org/2000/svg\" height=\"24px\"viewBox=\"0 0 24 24\"\n",
              "       width=\"24px\">\n",
              "    <path d=\"M0 0h24v24H0V0z\" fill=\"none\"/>\n",
              "    <path d=\"M18.56 5.44l.94 2.06.94-2.06 2.06-.94-2.06-.94-.94-2.06-.94 2.06-2.06.94zm-11 1L8.5 8.5l.94-2.06 2.06-.94-2.06-.94L8.5 2.5l-.94 2.06-2.06.94zm10 10l.94 2.06.94-2.06 2.06-.94-2.06-.94-.94-2.06-.94 2.06-2.06.94z\"/><path d=\"M17.41 7.96l-1.37-1.37c-.4-.4-.92-.59-1.43-.59-.52 0-1.04.2-1.43.59L10.3 9.45l-7.72 7.72c-.78.78-.78 2.05 0 2.83L4 21.41c.39.39.9.59 1.41.59.51 0 1.02-.2 1.41-.59l7.78-7.78 2.81-2.81c.8-.78.8-2.07 0-2.86zM5.41 20L4 18.59l7.72-7.72 1.47 1.35L5.41 20z\"/>\n",
              "  </svg>\n",
              "      </button>\n",
              "      \n",
              "  <style>\n",
              "    .colab-df-container {\n",
              "      display:flex;\n",
              "      flex-wrap:wrap;\n",
              "      gap: 12px;\n",
              "    }\n",
              "\n",
              "    .colab-df-convert {\n",
              "      background-color: #E8F0FE;\n",
              "      border: none;\n",
              "      border-radius: 50%;\n",
              "      cursor: pointer;\n",
              "      display: none;\n",
              "      fill: #1967D2;\n",
              "      height: 32px;\n",
              "      padding: 0 0 0 0;\n",
              "      width: 32px;\n",
              "    }\n",
              "\n",
              "    .colab-df-convert:hover {\n",
              "      background-color: #E2EBFA;\n",
              "      box-shadow: 0px 1px 2px rgba(60, 64, 67, 0.3), 0px 1px 3px 1px rgba(60, 64, 67, 0.15);\n",
              "      fill: #174EA6;\n",
              "    }\n",
              "\n",
              "    [theme=dark] .colab-df-convert {\n",
              "      background-color: #3B4455;\n",
              "      fill: #D2E3FC;\n",
              "    }\n",
              "\n",
              "    [theme=dark] .colab-df-convert:hover {\n",
              "      background-color: #434B5C;\n",
              "      box-shadow: 0px 1px 3px 1px rgba(0, 0, 0, 0.15);\n",
              "      filter: drop-shadow(0px 1px 2px rgba(0, 0, 0, 0.3));\n",
              "      fill: #FFFFFF;\n",
              "    }\n",
              "  </style>\n",
              "\n",
              "      <script>\n",
              "        const buttonEl =\n",
              "          document.querySelector('#df-73a8026e-d211-483f-b026-6d5501f59f77 button.colab-df-convert');\n",
              "        buttonEl.style.display =\n",
              "          google.colab.kernel.accessAllowed ? 'block' : 'none';\n",
              "\n",
              "        async function convertToInteractive(key) {\n",
              "          const element = document.querySelector('#df-73a8026e-d211-483f-b026-6d5501f59f77');\n",
              "          const dataTable =\n",
              "            await google.colab.kernel.invokeFunction('convertToInteractive',\n",
              "                                                     [key], {});\n",
              "          if (!dataTable) return;\n",
              "\n",
              "          const docLinkHtml = 'Like what you see? Visit the ' +\n",
              "            '<a target=\"_blank\" href=https://colab.research.google.com/notebooks/data_table.ipynb>data table notebook</a>'\n",
              "            + ' to learn more about interactive tables.';\n",
              "          element.innerHTML = '';\n",
              "          dataTable['output_type'] = 'display_data';\n",
              "          await google.colab.output.renderOutput(dataTable, element);\n",
              "          const docLink = document.createElement('div');\n",
              "          docLink.innerHTML = docLinkHtml;\n",
              "          element.appendChild(docLink);\n",
              "        }\n",
              "      </script>\n",
              "    </div>\n",
              "  </div>\n",
              "  "
            ]
          },
          "metadata": {}
        }
      ],
      "source": [
        "display(dados[dados['texto'].str.len()<400].sample(n=5)[['classe', 'texto', 'texto_limpo', 'qtde_limpo']])"
      ]
    },
    {
      "cell_type": "markdown",
      "source": [
        "### Carga da spaCy para limpeza de dados\n",
        "\n",
        "Lemmatizer (o resultado é a raiz da palavra que existe na gramática, mantendo o contexto)  \n",
        "Remove stopworks, mas a pontuação é mantida pois é relevante para o modelo."
      ],
      "metadata": {
        "id": "hNMSEIaqL1mq"
      }
    },
    {
      "cell_type": "code",
      "source": [
        "nlp = pt_core_news_sm.load()\n",
        "dados[\"texto_lematizado\"] = dados.texto_limpo.progress_apply(\n",
        "    lambda texto: \" \".join(\n",
        "          [token.lemma_ for token in nlp(texto)   # lematiza\n",
        "          if not token.is_stop                    # se não é uma stopword\n",
        "              and len(token.text) > 1]))          # e se não é caracter perdido\n",
        "dados[\"qtde_lematizado\"] = dados.texto_lematizado.apply(\n",
        "    lambda texto: len(re.findall(r\"[\\w']+\", texto)))"
      ],
      "metadata": {
        "id": "XGsD18siIalX",
        "outputId": "474ddab0-3ca6-4698-ecdb-355fae7c8290",
        "colab": {
          "base_uri": "https://localhost:8080/",
          "height": 49,
          "referenced_widgets": [
            "02bfcb6c285e43bbb49daa9ce1b9d90a",
            "8fabc1173b3a497b9567ad24aa7aea0a",
            "341468e84b5c4e2187eb0a5e7e763eb0",
            "020507f0b714409097a5a91fb3158878",
            "bcdb4e8a289047b681adf3c876be2fb2",
            "3e819bd3808d4dda9fa9e2f77bb02f82",
            "b19b94a24b814a54b757cec6172a59c6",
            "0ee48c84f29c4411b7dd80c1b803645e",
            "38bed9eaed1d4627b2171d1521ac111f",
            "63547fd063cf4f7b8cdf1f669d4c941b",
            "c18b25477dec48d896a9444e4ec79de2"
          ]
        }
      },
      "execution_count": null,
      "outputs": [
        {
          "output_type": "display_data",
          "data": {
            "text/plain": [
              "  0%|          | 0/9537 [00:00<?, ?it/s]"
            ],
            "application/vnd.jupyter.widget-view+json": {
              "version_major": 2,
              "version_minor": 0,
              "model_id": "02bfcb6c285e43bbb49daa9ce1b9d90a"
            }
          },
          "metadata": {}
        }
      ]
    },
    {
      "cell_type": "code",
      "source": [
        "pd.set_option(\"display.max_rows\", 50, 'display.max_colwidth', 200)\n",
        "display(dados[dados['texto'].str.len()<400].sample(n=5)[['classe', 'qtde_palavras', 'qtde_lematizado', 'texto', 'texto_lematizado']])"
      ],
      "metadata": {
        "id": "ln8iMJ2JfKVo",
        "outputId": "ceae5c2f-921e-4499-95d2-a0b599a4c349",
        "colab": {
          "base_uri": "https://localhost:8080/",
          "height": 580
        }
      },
      "execution_count": 10,
      "outputs": [
        {
          "output_type": "display_data",
          "data": {
            "text/plain": [
              "      classe  qtde_palavras  qtde_lematizado  \\\n",
              "8285       1             63               38   \n",
              "8559       0             13                9   \n",
              "7631       1             21               12   \n",
              "7990       1             14               12   \n",
              "8519       0             16                9   \n",
              "\n",
              "                                                                                                                                                                                                                                                                                                                                                              texto  \\\n",
              "8285  em 27 minutos BOLSONARO:\\n- lembrou que o bonner levou chifre\\n- que bonner ganha 4x mais que a Renata\\n- Mostrou que o kit gay pode ser usado na escola mas não mostrado na TV 22h da noite\\n- Que o chefe deles apoiou os militares\\nE, pra fechar com chave de ouro, anunciou o apartamento dele na globo, em horário nobre, sem gastar um centavo...😂😂😂😂😂   \n",
              "8559                                                                                                           Jovem médico, ativista pró-Bolsonaro, é executado covardemente (veja as suas últimas postagens) - https://www.jornaldacidadeonline.com.br/noticias/11800/jovem-medico-ativista-pro-bolsonaro-e-executado-covardemente-veja-as-suas-ultimas-postagens   \n",
              "7631                                                                                            Jair Bolsonaro chega a 39% dos votos validos, e fica mais perto de vencer disputa no 1° turno, diz BTG Pactual http://portaldeprefeitura.com.br/2018/09/jair-bolsonaro-chega-a-39-dos-votos-validos-e-fica-mais-perto-de-vencer-disputa-no-1-turno-diz-btg-pactual/   \n",
              "7990                                                *Só dar DESLIKE*\\n\\nAnitta\\nhttps://youtu.be/QmrnZobpyW8\\n\\nDaniella Mercury\\nhttps://youtu.be/GlrKJBfiXcI\\n\\nLetícia Sabatella\\nhttps://youtu.be/83Z0ZxqJvPA\\n\\nLetícia Colin\\nhttps://youtu.be/gtj9Ylc3Chc\\n\\nMarília Mendonça \\nhttps://youtu.be/jQGtJq3yZh0\\n\\nClipe \"EleNão\"\\nhttps://youtu.be/SBBVS84oYP8   \n",
              "8519                                                                                                                                                                                                                                                                         Passando só pra avisar que quem votou no Ciro vai continuar com o nome sujo kkkk👉🏻😎🇧🇷🙊   \n",
              "\n",
              "                                                                                                                                                                                                                             texto_lematizado  \n",
              "8285  27 minuto BOLSONARO lembrar bonner levar Chifre bonner ganhar x Renata Mostrou kit gay usar escola mostrar tv h noite chefe de eles apoiar militar pra fechar chave ouro anunciar apartamento de ele globo horário nobre gastar centavo  \n",
              "8559                                                                                                                                                               jovem médico ativistar pró-Bolsonaro executar covardemente último postagem  \n",
              "7631                                                                                                                                                               Jair Bolsonaro chegar 39 voto valir ficar vencer disputa turno BTG Pactual  \n",
              "7990                                                                                                                                            DESLIKE Anitta Daniella Mercury Letícia Sabatella Letícia Colin Marília Mendonça Clipe eleNão  \n",
              "8519                                                                                                                                                                                  Passando pra avisar votar Ciro continuar nome Sujo kkkk  "
            ],
            "text/html": [
              "\n",
              "  <div id=\"df-a6bbeb05-2dd3-46fa-b20c-89941673afcc\">\n",
              "    <div class=\"colab-df-container\">\n",
              "      <div>\n",
              "<style scoped>\n",
              "    .dataframe tbody tr th:only-of-type {\n",
              "        vertical-align: middle;\n",
              "    }\n",
              "\n",
              "    .dataframe tbody tr th {\n",
              "        vertical-align: top;\n",
              "    }\n",
              "\n",
              "    .dataframe thead th {\n",
              "        text-align: right;\n",
              "    }\n",
              "</style>\n",
              "<table border=\"1\" class=\"dataframe\">\n",
              "  <thead>\n",
              "    <tr style=\"text-align: right;\">\n",
              "      <th></th>\n",
              "      <th>classe</th>\n",
              "      <th>qtde_palavras</th>\n",
              "      <th>qtde_lematizado</th>\n",
              "      <th>texto</th>\n",
              "      <th>texto_lematizado</th>\n",
              "    </tr>\n",
              "  </thead>\n",
              "  <tbody>\n",
              "    <tr>\n",
              "      <th>8285</th>\n",
              "      <td>1</td>\n",
              "      <td>63</td>\n",
              "      <td>38</td>\n",
              "      <td>em 27 minutos BOLSONARO:\\n- lembrou que o bonner levou chifre\\n- que bonner ganha 4x mais que a Renata\\n- Mostrou que o kit gay pode ser usado na escola mas não mostrado na TV 22h da noite\\n- Que o chefe deles apoiou os militares\\nE, pra fechar com chave de ouro, anunciou o apartamento dele na globo, em horário nobre, sem gastar um centavo...😂😂😂😂😂</td>\n",
              "      <td>27 minuto BOLSONARO lembrar bonner levar Chifre bonner ganhar x Renata Mostrou kit gay usar escola mostrar tv h noite chefe de eles apoiar militar pra fechar chave ouro anunciar apartamento de ele globo horário nobre gastar centavo</td>\n",
              "    </tr>\n",
              "    <tr>\n",
              "      <th>8559</th>\n",
              "      <td>0</td>\n",
              "      <td>13</td>\n",
              "      <td>9</td>\n",
              "      <td>Jovem médico, ativista pró-Bolsonaro, é executado covardemente (veja as suas últimas postagens) - https://www.jornaldacidadeonline.com.br/noticias/11800/jovem-medico-ativista-pro-bolsonaro-e-executado-covardemente-veja-as-suas-ultimas-postagens</td>\n",
              "      <td>jovem médico ativistar pró-Bolsonaro executar covardemente último postagem</td>\n",
              "    </tr>\n",
              "    <tr>\n",
              "      <th>7631</th>\n",
              "      <td>1</td>\n",
              "      <td>21</td>\n",
              "      <td>12</td>\n",
              "      <td>Jair Bolsonaro chega a 39% dos votos validos, e fica mais perto de vencer disputa no 1° turno, diz BTG Pactual http://portaldeprefeitura.com.br/2018/09/jair-bolsonaro-chega-a-39-dos-votos-validos-e-fica-mais-perto-de-vencer-disputa-no-1-turno-diz-btg-pactual/</td>\n",
              "      <td>Jair Bolsonaro chegar 39 voto valir ficar vencer disputa turno BTG Pactual</td>\n",
              "    </tr>\n",
              "    <tr>\n",
              "      <th>7990</th>\n",
              "      <td>1</td>\n",
              "      <td>14</td>\n",
              "      <td>12</td>\n",
              "      <td>*Só dar DESLIKE*\\n\\nAnitta\\nhttps://youtu.be/QmrnZobpyW8\\n\\nDaniella Mercury\\nhttps://youtu.be/GlrKJBfiXcI\\n\\nLetícia Sabatella\\nhttps://youtu.be/83Z0ZxqJvPA\\n\\nLetícia Colin\\nhttps://youtu.be/gtj9Ylc3Chc\\n\\nMarília Mendonça \\nhttps://youtu.be/jQGtJq3yZh0\\n\\nClipe \"EleNão\"\\nhttps://youtu.be/SBBVS84oYP8</td>\n",
              "      <td>DESLIKE Anitta Daniella Mercury Letícia Sabatella Letícia Colin Marília Mendonça Clipe eleNão</td>\n",
              "    </tr>\n",
              "    <tr>\n",
              "      <th>8519</th>\n",
              "      <td>0</td>\n",
              "      <td>16</td>\n",
              "      <td>9</td>\n",
              "      <td>Passando só pra avisar que quem votou no Ciro vai continuar com o nome sujo kkkk👉🏻😎🇧🇷🙊</td>\n",
              "      <td>Passando pra avisar votar Ciro continuar nome Sujo kkkk</td>\n",
              "    </tr>\n",
              "  </tbody>\n",
              "</table>\n",
              "</div>\n",
              "      <button class=\"colab-df-convert\" onclick=\"convertToInteractive('df-a6bbeb05-2dd3-46fa-b20c-89941673afcc')\"\n",
              "              title=\"Convert this dataframe to an interactive table.\"\n",
              "              style=\"display:none;\">\n",
              "        \n",
              "  <svg xmlns=\"http://www.w3.org/2000/svg\" height=\"24px\"viewBox=\"0 0 24 24\"\n",
              "       width=\"24px\">\n",
              "    <path d=\"M0 0h24v24H0V0z\" fill=\"none\"/>\n",
              "    <path d=\"M18.56 5.44l.94 2.06.94-2.06 2.06-.94-2.06-.94-.94-2.06-.94 2.06-2.06.94zm-11 1L8.5 8.5l.94-2.06 2.06-.94-2.06-.94L8.5 2.5l-.94 2.06-2.06.94zm10 10l.94 2.06.94-2.06 2.06-.94-2.06-.94-.94-2.06-.94 2.06-2.06.94z\"/><path d=\"M17.41 7.96l-1.37-1.37c-.4-.4-.92-.59-1.43-.59-.52 0-1.04.2-1.43.59L10.3 9.45l-7.72 7.72c-.78.78-.78 2.05 0 2.83L4 21.41c.39.39.9.59 1.41.59.51 0 1.02-.2 1.41-.59l7.78-7.78 2.81-2.81c.8-.78.8-2.07 0-2.86zM5.41 20L4 18.59l7.72-7.72 1.47 1.35L5.41 20z\"/>\n",
              "  </svg>\n",
              "      </button>\n",
              "      \n",
              "  <style>\n",
              "    .colab-df-container {\n",
              "      display:flex;\n",
              "      flex-wrap:wrap;\n",
              "      gap: 12px;\n",
              "    }\n",
              "\n",
              "    .colab-df-convert {\n",
              "      background-color: #E8F0FE;\n",
              "      border: none;\n",
              "      border-radius: 50%;\n",
              "      cursor: pointer;\n",
              "      display: none;\n",
              "      fill: #1967D2;\n",
              "      height: 32px;\n",
              "      padding: 0 0 0 0;\n",
              "      width: 32px;\n",
              "    }\n",
              "\n",
              "    .colab-df-convert:hover {\n",
              "      background-color: #E2EBFA;\n",
              "      box-shadow: 0px 1px 2px rgba(60, 64, 67, 0.3), 0px 1px 3px 1px rgba(60, 64, 67, 0.15);\n",
              "      fill: #174EA6;\n",
              "    }\n",
              "\n",
              "    [theme=dark] .colab-df-convert {\n",
              "      background-color: #3B4455;\n",
              "      fill: #D2E3FC;\n",
              "    }\n",
              "\n",
              "    [theme=dark] .colab-df-convert:hover {\n",
              "      background-color: #434B5C;\n",
              "      box-shadow: 0px 1px 3px 1px rgba(0, 0, 0, 0.15);\n",
              "      filter: drop-shadow(0px 1px 2px rgba(0, 0, 0, 0.3));\n",
              "      fill: #FFFFFF;\n",
              "    }\n",
              "  </style>\n",
              "\n",
              "      <script>\n",
              "        const buttonEl =\n",
              "          document.querySelector('#df-a6bbeb05-2dd3-46fa-b20c-89941673afcc button.colab-df-convert');\n",
              "        buttonEl.style.display =\n",
              "          google.colab.kernel.accessAllowed ? 'block' : 'none';\n",
              "\n",
              "        async function convertToInteractive(key) {\n",
              "          const element = document.querySelector('#df-a6bbeb05-2dd3-46fa-b20c-89941673afcc');\n",
              "          const dataTable =\n",
              "            await google.colab.kernel.invokeFunction('convertToInteractive',\n",
              "                                                     [key], {});\n",
              "          if (!dataTable) return;\n",
              "\n",
              "          const docLinkHtml = 'Like what you see? Visit the ' +\n",
              "            '<a target=\"_blank\" href=https://colab.research.google.com/notebooks/data_table.ipynb>data table notebook</a>'\n",
              "            + ' to learn more about interactive tables.';\n",
              "          element.innerHTML = '';\n",
              "          dataTable['output_type'] = 'display_data';\n",
              "          await google.colab.output.renderOutput(dataTable, element);\n",
              "          const docLink = document.createElement('div');\n",
              "          docLink.innerHTML = docLinkHtml;\n",
              "          element.appendChild(docLink);\n",
              "        }\n",
              "      </script>\n",
              "    </div>\n",
              "  </div>\n",
              "  "
            ]
          },
          "metadata": {}
        }
      ]
    },
    {
      "cell_type": "markdown",
      "source": [
        "### O modelo BERTimbau é sensível ao CASE, precisa ser tratado "
      ],
      "metadata": {
        "id": "FOoyTb-6bqnc"
      }
    },
    {
      "cell_type": "code",
      "source": [
        "# Remove linhas com mais de 10% de palavras em maiúsculo\n",
        "antes = dados.shape[0]\n",
        "dados['qtde_maiusculas'] = dados.texto_lematizado.apply(\n",
        "    lambda texto: len(re.findall(\"[A-Z][A-Z\\d]+\", texto)))\n",
        "dados = dados[(dados['qtde_maiusculas'] / dados[\"qtde_lematizado\"])<0.1].copy()\n",
        "# Das linhas que ficaram, capitaliza somente as palavras em MAIÚSCULO\n",
        "dados['texto_lematizado'] = dados.texto_lematizado.apply(\n",
        "    lambda texto: re.sub(\"[A-Z][A-Z\\d]+\", \n",
        "    lambda grupo: grupo.group(0).capitalize(), texto))\n",
        "dados.drop('qtde_maiusculas', axis=1, inplace=True)\n",
        "display(f\"Qtde linhas antes: {antes}, depois: {dados.shape[0]},\" +\n",
        "        f\" removido: {antes-dados.shape[0]}\")"
      ],
      "metadata": {
        "id": "6P9MYoAmkxSD",
        "outputId": "bce6f64f-b004-4b55-c415-09778c5a82cc",
        "colab": {
          "base_uri": "https://localhost:8080/",
          "height": 35
        }
      },
      "execution_count": 11,
      "outputs": [
        {
          "output_type": "display_data",
          "data": {
            "text/plain": [
              "'Qtde linhas antes: 9537, depois: 8785, removido: 752'"
            ],
            "application/vnd.google.colaboratory.intrinsic+json": {
              "type": "string"
            }
          },
          "metadata": {}
        }
      ]
    },
    {
      "cell_type": "markdown",
      "source": [
        "### Remover duplicatas (deveria estar marcado como viral na origem)"
      ],
      "metadata": {
        "id": "y1PRHW-cFk5a"
      }
    },
    {
      "cell_type": "code",
      "source": [
        "# Primeiramente remove duplicatas absolutas do texto\n",
        "antes = dados.shape[0]\n",
        "dados = dados.drop_duplicates(subset=['texto_lematizado'])\n",
        "display(f\"Qtde linhas antes: {antes}, depois: {dados.shape[0]}, removido: {antes-dados.shape[0]}\")"
      ],
      "metadata": {
        "id": "ISQh4kz87xIs",
        "outputId": "143aed2c-0026-4565-e4eb-14444bee8839",
        "colab": {
          "base_uri": "https://localhost:8080/",
          "height": 35
        }
      },
      "execution_count": 12,
      "outputs": [
        {
          "output_type": "display_data",
          "data": {
            "text/plain": [
              "'Qtde linhas antes: 8785, depois: 8612, removido: 173'"
            ],
            "application/vnd.google.colaboratory.intrinsic+json": {
              "type": "string"
            }
          },
          "metadata": {}
        }
      ]
    },
    {
      "cell_type": "markdown",
      "source": [
        "### Remover linhas com mais de 50% das palavras iguais, quando menos de 100 palavras."
      ],
      "metadata": {
        "id": "2ZwE-74strY-"
      }
    },
    {
      "cell_type": "code",
      "source": [
        "dados_menos_100_palavras = dados[dados[\"qtde_lematizado\"]<100].copy()\n",
        "\n",
        "# Calcula quantidade de palavras duplicadas\n",
        "def confere_duplicidade(coluna_busca):\n",
        "  conjunto_palavras = set(re.findall(r\"[\\w']+\", coluna_busca))\n",
        "  dados_sem_busca = dados_menos_100_palavras.drop(dados.index[dados['texto_lematizado'] == coluna_busca]).copy()\n",
        "  dados_sem_busca['duplicado_corrente'] = dados_sem_busca.texto_lematizado.apply(\n",
        "      lambda texto: len(conjunto_palavras.intersection(set(re.findall(r\"[\\w']+\", texto)))))\n",
        "  return int(dados_sem_busca['duplicado_corrente'].max())\n",
        "\n",
        "dados['qtde_palavras_duplicadas'] = dados[dados[\"qtde_lematizado\"]<100].texto_lematizado.progress_apply(confere_duplicidade)\n",
        "dados_menos_100_palavras = pd.DataFrame() #libera área\n",
        "antes = dados.shape[0]\n",
        "dados = dados[((dados['qtde_palavras_duplicadas'] / dados[\"qtde_lematizado\"])<0.5) | (dados['qtde_palavras_duplicadas'].isnull())].copy()\n",
        "dados.drop('qtde_palavras_duplicadas', axis=1, inplace=True)\n",
        "display(f\"Qtde linhas antes: {antes}, depois: {dados.shape[0]}, removido: {antes-dados.shape[0]}\")"
      ],
      "metadata": {
        "id": "pspaI7JPPgib",
        "outputId": "b79866d2-acdd-4bc1-cab6-08cbcc9de06a",
        "colab": {
          "base_uri": "https://localhost:8080/",
          "height": 67,
          "referenced_widgets": [
            "f5747bcc4a7e4deca05bfa8592299063",
            "40d3bbfc9cca4be6a960fadce01e8029",
            "390b08bb0adc4bd2b10954c4cfe0af58",
            "c29035f2727943bdac5f94332791a8b6",
            "371c54ee218b4ce09bacde65a3eb65a2",
            "dc6ccab4da184ab9bbfe633af1d5b793",
            "d882d44a1a5b40daa0fda9c9fbc4cf65",
            "63e9c72d4a994cf2af286f6cbbd81107",
            "fef857f77b82485a834249b4ded18b1f",
            "6b11c53d3a3f4bb58c969c9e8beb8768",
            "28565ad8b81a47e9a30147ccb9fd94b0"
          ]
        }
      },
      "execution_count": 13,
      "outputs": [
        {
          "output_type": "display_data",
          "data": {
            "text/plain": [
              "  0%|          | 0/3339 [00:00<?, ?it/s]"
            ],
            "application/vnd.jupyter.widget-view+json": {
              "version_major": 2,
              "version_minor": 0,
              "model_id": "f5747bcc4a7e4deca05bfa8592299063"
            }
          },
          "metadata": {}
        },
        {
          "output_type": "display_data",
          "data": {
            "text/plain": [
              "'Qtde linhas antes: 8612, depois: 7769, removido: 843'"
            ],
            "application/vnd.google.colaboratory.intrinsic+json": {
              "type": "string"
            }
          },
          "metadata": {}
        }
      ]
    },
    {
      "cell_type": "markdown",
      "metadata": {
        "id": "ozuvdAu5WAZX"
      },
      "source": [
        "## Confere a distribuição de palavras nas classes"
      ]
    },
    {
      "cell_type": "code",
      "source": [
        "ax, fig = plt.subplots(figsize=[5,6])\n",
        "ax = sns.boxplot(y=dados[\"qtde_lematizado\"],x=dados[\"classe\"])"
      ],
      "metadata": {
        "id": "rCp2Xcoenej5",
        "outputId": "5749ad89-24d3-4659-cb3a-e77ed0d26add",
        "colab": {
          "base_uri": "https://localhost:8080/",
          "height": 394
        }
      },
      "execution_count": 76,
      "outputs": [
        {
          "output_type": "display_data",
          "data": {
            "text/plain": [
              "<Figure size 360x432 with 1 Axes>"
            ],
            "image/png": "[encoded data removed]"
          },
          "metadata": {}
        }
      ]
    },
    {
      "cell_type": "code",
      "source": [
        "def grafico_distribuicao(dfplot):\n",
        "  dfplot.columns = ['0 - Confiável', '1 - Falso']\n",
        "  fig, axes = plt.subplots(nrows=1, ncols=2, figsize=(12, 5))\n",
        "  axes1 = dfplot.plot(\n",
        "      ax=axes[0], kind='hist', stacked=True, bins=list(range(0, 2000, 100)), \n",
        "      title=\"Distribuição de palavras conforme a classe\")\n",
        "  axes2 = sns.countplot(x=\"classe\", data=dados)\n",
        "  axes2.set_xticklabels([\"0 = Confiável\", \"1 = Falso\"], fontsize=12)\n",
        "  axes2.set_title('Distribuição de classes', fontsize=14)\n",
        "  axes2.set_ylabel('quantidade')"
      ],
      "metadata": {
        "id": "g7X94_FIj_2L"
      },
      "execution_count": 14,
      "outputs": []
    },
    {
      "cell_type": "code",
      "execution_count": 15,
      "metadata": {
        "id": "Pi5kdSxGwwdJ",
        "outputId": "c5046d41-e159-4820-ba13-de5e8a7cb5e7",
        "colab": {
          "base_uri": "https://localhost:8080/",
          "height": 394
        }
      },
      "outputs": [
        {
          "output_type": "display_data",
          "data": {
            "text/plain": [
              "[0, 1]"
            ]
          },
          "metadata": {}
        },
        {
          "output_type": "display_data",
          "data": {
            "text/plain": [
              "[3815, 3954]"
            ]
          },
          "metadata": {}
        },
        {
          "output_type": "display_data",
          "data": {
            "text/plain": [
              "<Figure size 864x360 with 2 Axes>"
            ],
            "image/png": "[encoded data removed]"
          },
          "metadata": {}
        }
      ],
      "source": [
        "grafico_distribuicao(dados.pivot(columns='classe').qtde_lematizado)\n",
        "distribuicao = dados.groupby('classe').qtde_lematizado.count()\n",
        "display(distribuicao.index.to_list(), distribuicao.to_list())"
      ]
    },
    {
      "cell_type": "code",
      "source": [
        "antes = dados.shape[0]\n",
        "dados = dados.query(\n",
        "    'qtde_lematizado >= 50 and qtde_lematizado <= 2000'\n",
        ")\n",
        "display(f\"Qtde antes: {antes}, depois: {dados.shape[0]}, removido: {antes-dados.shape[0]}\")\n",
        "display(f\"Maximo de palavras: {dados['qtde_lematizado'].max()}\", f\"Mínimo de palavras: {dados['qtde_lematizado'].min()}\")"
      ],
      "metadata": {
        "id": "FXB3XxY4_2io",
        "outputId": "3479ee64-df29-4ece-84dd-4630e45f20c4",
        "colab": {
          "base_uri": "https://localhost:8080/",
          "height": 72
        }
      },
      "execution_count": 16,
      "outputs": [
        {
          "output_type": "display_data",
          "data": {
            "text/plain": [
              "'Qtde antes: 7769, depois: 7052, removido: 717'"
            ],
            "application/vnd.google.colaboratory.intrinsic+json": {
              "type": "string"
            }
          },
          "metadata": {}
        },
        {
          "output_type": "display_data",
          "data": {
            "text/plain": [
              "'Maximo de palavras: 1944'"
            ],
            "application/vnd.google.colaboratory.intrinsic+json": {
              "type": "string"
            }
          },
          "metadata": {}
        },
        {
          "output_type": "display_data",
          "data": {
            "text/plain": [
              "'Mínimo de palavras: 50'"
            ],
            "application/vnd.google.colaboratory.intrinsic+json": {
              "type": "string"
            }
          },
          "metadata": {}
        }
      ]
    },
    {
      "cell_type": "markdown",
      "source": [
        "### Carrega o modelo pré-treinado de sumarização"
      ],
      "metadata": {
        "id": "rkSRK7bQICBw"
      }
    },
    {
      "cell_type": "code",
      "source": [
        "# configura o device cpu ou gpu conforme disponibilidade\n",
        "device_disponivel = 'cuda' if torch.cuda.is_available() else 'cpu'\n",
        "# nome do modelo no portal HuggingFaces\n",
        "model_name = \"seidel/plsum-base-ptt5\"\n",
        "\n",
        "# carrega tokenizador\n",
        "tokenizer = AutoTokenizer.from_pretrained(model_name)\n",
        "# carrega pesos do modelo \"PLSUM\"\n",
        "model_pt = AutoModelForSeq2SeqLM.from_pretrained(model_name).to(device_disponivel)"
      ],
      "metadata": {
        "id": "bpd8iYp5CW4E",
        "outputId": "7df244d2-2f41-4429-83c3-abab66502eb6",
        "colab": {
          "base_uri": "https://localhost:8080/",
          "height": 177,
          "referenced_widgets": [
            "679173c9ed2640f49f7c4ade22866d37",
            "ca00cfbac8af41609bcab7c9fc763bfc",
            "a3c7221d313948beb0bba01dc02784b3",
            "7af6dd78ee1c49aa9d054aaa2d49939f",
            "ff60de3367ad4f3f8e798b8a73caccb2",
            "946bfedaa574486b9623be29c6649c41",
            "95d02ed0f28f4b14b73a95f09e255698",
            "66a6001cef6c4d9586ba0d02a6103298",
            "200a882546c749fb8ee33d8d090e7879",
            "5171e7342f5644589e83f8b9824fe82a",
            "c4816711f4e345a48e50a802e0ba6e24",
            "1304f5d572004be58c25391954870c57",
            "0ebed74bf01c41499e84b4bc31ecc370",
            "5ef8d8af54f0454f8368e95bb2a38bca",
            "00ea55f725634bfba831e71344ff8907",
            "e1a9c493e2d6477cabbcf58bdfd3877e",
            "a71eebeab8f34e3099cacd2dfe7f2bf2",
            "5c5a409817cc4dd9be4bc706f9b9dc7e",
            "fb664c91c1694f31a213186b870ad1cc",
            "daf6b9e973094243b763683b1e812a6d",
            "f04d33fe67d440c0ae4d3e08102a068f",
            "55d3e43fda55445e8f8da5735bdb6bfd",
            "e351a9b0e48a44e2b204fd300a834b41",
            "eaa8fd2f42f64f67a0e931c4ff0198b3",
            "c974de6c34454664ad6b1ed6360a088a",
            "3ef8194f40424a93bed1f442edbe69f7",
            "ee183ecb32a149cf9105b85a5639772b",
            "8dc325b93023426590975717326984e9",
            "8c44e5b5338c45a68b1150fe19ce6456",
            "b1d80f881aa44b2090e6293294b7b4b8",
            "b7ebd14c216249608b80faaa472cc3bb",
            "2ebbfda1335947f48971b79f223813b7",
            "ee11492500df44349b8be50802efb6b3",
            "a8a8e8d5b8234320b7638e430d8d10d7",
            "f2f91610fbd14aebb957392e4f026e24",
            "a599f7654bdc4e98b8559581e668207f",
            "fba0fa20a7ac4cf8b40ac442ecde4822",
            "6ad3b586e3dc4da898092e115641cff7",
            "1610e4f243ea44b3a06ef7891160c0e6",
            "060f510c79ab494c8b0f43c0d9636b5d",
            "74abdc36f0b74d02a3f3d24332e3ab68",
            "3c6d663feaa44f5e98fc09e0a6419b27",
            "a17cf0958d864e9588a24590db74b33c",
            "30a0edf742f84219a799be77d6514bac",
            "b39aa20d368d48a683c160d8fb05105f",
            "ee8c86ff1cf943ac900c2e40af783f0a",
            "cb49578a7f94422bb31f6cbf7c98a191",
            "b27bb4f815d74fa98e4ebcf9c7837b08",
            "3e62787b38214114a6884e26e6b2cc93",
            "a7f6b8195596486ca67146463dcad600",
            "44b5bca940cc45c4abc4a4e18dd70440",
            "e36a33ab0d0842ff9727c473ec3231fb",
            "916700b8164a46a6b3b85337f30eb47e",
            "830880c40b184261b0489cb526b1c14a",
            "56d6b36b5a9e4a10b718afb4be8c7fbd"
          ]
        }
      },
      "execution_count": 17,
      "outputs": [
        {
          "output_type": "display_data",
          "data": {
            "text/plain": [
              "Downloading:   0%|          | 0.00/1.88k [00:00<?, ?B/s]"
            ],
            "application/vnd.jupyter.widget-view+json": {
              "version_major": 2,
              "version_minor": 0,
              "model_id": "679173c9ed2640f49f7c4ade22866d37"
            }
          },
          "metadata": {}
        },
        {
          "output_type": "display_data",
          "data": {
            "text/plain": [
              "Downloading:   0%|          | 0.00/1.29M [00:00<?, ?B/s]"
            ],
            "application/vnd.jupyter.widget-view+json": {
              "version_major": 2,
              "version_minor": 0,
              "model_id": "1304f5d572004be58c25391954870c57"
            }
          },
          "metadata": {}
        },
        {
          "output_type": "display_data",
          "data": {
            "text/plain": [
              "Downloading:   0%|          | 0.00/1.74k [00:00<?, ?B/s]"
            ],
            "application/vnd.jupyter.widget-view+json": {
              "version_major": 2,
              "version_minor": 0,
              "model_id": "e351a9b0e48a44e2b204fd300a834b41"
            }
          },
          "metadata": {}
        },
        {
          "output_type": "display_data",
          "data": {
            "text/plain": [
              "Downloading:   0%|          | 0.00/804 [00:00<?, ?B/s]"
            ],
            "application/vnd.jupyter.widget-view+json": {
              "version_major": 2,
              "version_minor": 0,
              "model_id": "a8a8e8d5b8234320b7638e430d8d10d7"
            }
          },
          "metadata": {}
        },
        {
          "output_type": "display_data",
          "data": {
            "text/plain": [
              "Downloading:   0%|          | 0.00/850M [00:00<?, ?B/s]"
            ],
            "application/vnd.jupyter.widget-view+json": {
              "version_major": 2,
              "version_minor": 0,
              "model_id": "b39aa20d368d48a683c160d8fb05105f"
            }
          },
          "metadata": {}
        }
      ]
    },
    {
      "cell_type": "markdown",
      "source": [
        "### Separação e salvamento do processo parcial antes de rodar o modelo que leva algumas horas"
      ],
      "metadata": {
        "id": "Q497LEn0lvqq"
      }
    },
    {
      "cell_type": "code",
      "source": [
        "# Divide o dataframe para executar o modelo somente nos textos grandes e salvar parte do trabalho devido a quedas pela demora\n",
        "df_menor, df_maior = dados.query('qtde_lematizado <= 300').copy(), dados.query('qtde_lematizado > 300').copy()\n",
        "\n",
        "# Salva novamente os dados para uso no notebook do próximo passo.\n",
        "df_menor.to_csv('/content/drive/MyDrive/PUC/TCC/dados/dataset_processado_menor.csv', sep = ',', index=False)\n",
        "df_maior.to_csv('/content/drive/MyDrive/PUC/TCC/dados/dataset_processado_maior.csv', sep = ',', index=False)\n",
        "\n",
        "display(f\"Menor: {df_menor.shape[0]}; Maior: {df_maior.shape[0]}\")"
      ],
      "metadata": {
        "id": "0aZx3fXi6hh5",
        "outputId": "a138ee6f-dba0-4197-8883-d0a062ba09b0",
        "colab": {
          "base_uri": "https://localhost:8080/",
          "height": 35
        }
      },
      "execution_count": 18,
      "outputs": [
        {
          "output_type": "display_data",
          "data": {
            "text/plain": [
              "'Menor: 4006; Maior: 3046'"
            ],
            "application/vnd.google.colaboratory.intrinsic+json": {
              "type": "string"
            }
          },
          "metadata": {}
        }
      ]
    },
    {
      "cell_type": "markdown",
      "source": [
        "### Principal método que gera os tokens, sumariza e transforma os tokens de volta em palavras"
      ],
      "metadata": {
        "id": "nNCd2eStgYlF"
      }
    },
    {
      "cell_type": "code",
      "source": [
        "def resumir_textos(texto):\n",
        "  # tokeniza o texto de entrada\n",
        "  input_ids = tokenizer([texto],\n",
        "      return_tensors=\"pt\",        # retorna o tensores pytorch\n",
        "      max_length=1500,            # tamanho máximo de entrada\n",
        "      truncation=True             # caso exceder, trunca, já limitei\n",
        "  )[\"input_ids\"]\n",
        "  t_tokens = input_ids.to(device_disponivel) \n",
        "  # gera tokens de sumarização\n",
        "  output_ids = model_pt.generate(   \n",
        "      input_ids=t_tokens,         # tokens de entrada\n",
        "      max_length=300,             # tamanho máximo\n",
        "      min_length=50,              # tamanho mínimo\n",
        "      no_repeat_ngram_size=2,     # n-grans que não deve repetir\n",
        "      length_penalty=1.5,         # penalti por tamanho, > 1 aproxima max_len\n",
        "      num_beams=4,                # valor para algoritmo de pesquisa heurística\n",
        "  )[0]\n",
        "  # decodifica a saída (converter tokens numéricos para texto)\n",
        "  resumo = tokenizer.decode(\n",
        "      output_ids,\n",
        "      skip_special_tokens=True,           # remove tokens especiais\n",
        "      clean_up_tokenization_spaces=False  # mantem espaços ao decodificar\n",
        "  )\n",
        "  return resumo"
      ],
      "metadata": {
        "id": "3aoN-Hh_CbBN"
      },
      "execution_count": 32,
      "outputs": []
    },
    {
      "cell_type": "code",
      "source": [
        "#separar o processamento em 3 partes pois demora muito e a conexão com a internet cai e perco tudo\n",
        "dados01, dados02, dados03 = np.array_split(df_maior, 3)\n",
        "display(dados01.shape[0],dados02.shape[0],dados03.shape[0])"
      ],
      "metadata": {
        "id": "7LV6-SYnU0uH",
        "outputId": "c277b5d6-3da0-42bf-ba52-080babf1f586",
        "colab": {
          "base_uri": "https://localhost:8080/",
          "height": 69
        }
      },
      "execution_count": 30,
      "outputs": [
        {
          "output_type": "display_data",
          "data": {
            "text/plain": [
              "1016"
            ]
          },
          "metadata": {}
        },
        {
          "output_type": "display_data",
          "data": {
            "text/plain": [
              "1015"
            ]
          },
          "metadata": {}
        },
        {
          "output_type": "display_data",
          "data": {
            "text/plain": [
              "1015"
            ]
          },
          "metadata": {}
        }
      ]
    },
    {
      "cell_type": "code",
      "source": [
        "dados01[\"texto_resumido\"] = dados01['texto_lematizado'].progress_apply(resumir_textos)\n",
        "dados01[\"qtde_lematizado\"] = dados01.texto_resumido.apply(\n",
        "    lambda texto: len(re.findall(r\"[\\w']+\", texto))\n",
        ")\n",
        "dados01.to_csv('/content/drive/MyDrive/PUC/TCC/dados/dataset_processado_01.csv', sep = ',', index=False)"
      ],
      "metadata": {
        "id": "XXphSjg7DCFz",
        "outputId": "39593369-47a9-4753-a360-1b85197f3414",
        "colab": {
          "base_uri": "https://localhost:8080/",
          "height": 49,
          "referenced_widgets": [
            "84d7cc5a55224acfa93d5c31aba17e89",
            "4802ae760e354800be0175f0cd5dd21e",
            "7361cc4710ce4f2b8aa9f042add6bbda",
            "7c5021c87d3146d3b8ece468def01002",
            "b4edc43ec5c9462eadd74e6ebc1222df",
            "7bb690ca1a29432ba091d07f287d2b05",
            "5eedcd6f57f24f5999e043361706c51f",
            "4c4ef714ec184cf88e47dad2bd2dd698",
            "d72acb999d1f4b50ab97e29d20bcbf60",
            "f40915037d74474fb5e5c280155fc682",
            "8ebd5129cdfb4b349b7c3f20ae67bb54"
          ]
        }
      },
      "execution_count": 31,
      "outputs": [
        {
          "output_type": "display_data",
          "data": {
            "text/plain": [
              "  0%|          | 0/1016 [00:00<?, ?it/s]"
            ],
            "application/vnd.jupyter.widget-view+json": {
              "version_major": 2,
              "version_minor": 0,
              "model_id": "84d7cc5a55224acfa93d5c31aba17e89"
            }
          },
          "metadata": {}
        }
      ]
    },
    {
      "cell_type": "code",
      "source": [
        "pd.set_option(\"display.max_rows\", 50, 'display.max_colwidth', 0)\n",
        "dados01.head(1)"
      ],
      "metadata": {
        "id": "X4HZAQaG1KWH",
        "outputId": "a47c740a-b446-408c-864f-da4a564e4631",
        "colab": {
          "base_uri": "https://localhost:8080/",
          "height": 1000
        }
      },
      "execution_count": 45,
      "outputs": [
        {
          "output_type": "execute_result",
          "data": {
            "text/plain": [
              "                                                                                                                                                                                                                                                                                                                                                                                                                                                                                                                                                                                                                                                                                                                                                                                                                                                                                                                                                                                                                                                                                                                                                                                                                                                                                                                                                                                                                                                                                                                                                                                                                                                                                                                                                                                                                                                                                                                                                                                                                                                                                                                                                                                                                                                                                                                                                                                                                                                                                                                                                                                                                                                                                                                                                                                                                                                                                                                                                                                                                                                                                                                                                                                                                                                                                                                                                                                                                                                                                                                                                                                                                                                                                                                                                                                                                                                                                                                                                                                                                                                                                                                                                                                                                                                                                                                                                                                                                                                                                                                                                                                                                                                                                                                                                                                                                                                                                                                                                                                                                                                                                                                                                                                                                                                                                                                                                                                                                                                                                                                                              texto  \\\n",
              "8  Bolsonaro é um liberal completo, diz presidente do PSL\\n\\nPartido de pouca expressão nacional, o PSL vive momentos de destaque inédito em sua trajetória de duas décadas.\\n\\nNo dia 5, a sigla anunciou que \"receberia Jair Bolsonaro e sua pré-candidatura à Presidência da República\".\\n\\nA palavra \"filiação\" não consta no termo divulgado à imprensa, mas o presidente do PSL, o deputado federal Luciano Bivar (PE), diz à Folha que, \"tão certo como dois e dois são quatro\", o pré-candidato, hoje no PSC, migrará para seu partido em março.\\n\\nO acordo com o segundo colocado na corrida presidencial até o momento, segundo pesquisas do Datafolha, lançou luz sobre a sigla nanica, mas também provocou uma cisão: o movimento Livres rompeu uma união de quase dois anos com o PSL, que tinha como objetivo refundar o partido com nova liderança.\\n\\nPara os líderes do grupo, Bolsonaro representa o extremo oposto dos valores liberais, tanto em termos econômicos quanto comportamentais, que deveriam nortear a nova fase do partido.\\n\\nBivar, entretanto, diz que as críticas são preconceituosas. \"Foi um absurdo. A maior parte do partido foi favorável à união. Ter preconceito contra uma pessoa é fundamentalismo. Eu lamento.\"\\n\\nBolsonaro representa, diz Bivar, os princípios fundadores do partido: a economia de mercado, as liberdades individuais, a livre expressão de ideias, a autonomia das instituições, o Estado de Direito.\\n\\n\"Não vejo nada no comportamento dele que contradiga a ideologia liberal, na área econômica ou social. É um liberal ao aceitar que cada um faça suas escolhas. Jamais faríamos como o PT, por exemplo, que apoia Cuba, onde homossexuais iam para o paredão.\"\\n\\nBivar minimiza declarações do pré-candidato que contrariam essa imagem, como o elogio coronel Carlos Alberto Brilhante Ustra, um dos principais símbolos da repressão durante a ditadura militar, durante votação do processo de impeachment da ex-presidente Dilma Rousseff (PT) na Câmara, em 2016.\\n\\n\"Pela família e inocência das crianças que o PT nunca respeitou, contra o comunismo, o Foro de São Paulo e em memória do coronel Brilhante Ustra, o meu voto é sim\", declarou na ocasião.\\n\\n\"Não se deve rotular Bolsonaro por isso\", diz Bivar. \"Não foi um erro. Cada um tem suas convicções. Não sei se o Ustra foi um torturador ou não. Muitas vezes criam-se factoides e toma-se aquilo como verdadeiro.\"\\n\\nSegundo o relatório final da Comissão Nacional da Verdade, na gestão de Ustra o DOI-CODI de São Paulo foi responsável pela morte ou desaparecimento de ao menos 45 presos políticos.\\n\\nBivar também não vê contradição em um suposto liberal fazer elogios a uma ditadura.\\n\\n\"É preciso entender que naquele período [na ditadura] estávamos diante de uma situação muito delicada. A ameaça comunista era muito grande. Então o povo clamou pelos militares\", diz.\\n\\n\"Eu faço alguns elogios ao regime militar também. Toda a infraestrutura do Brasil foi feita no governo militar. Foi um regime de transição, e os próprios militares devolveram o poder de forma absolutamente espontânea. Reconhecer isso não torna ninguém menos liberal.\"\\n\\nSobre o fato de Bolsonaro ser réu Supremo Tribunal Federal, sob acusação de incitação ao estupro, avalia que as falas dele tiveram seu sentido deturpado. Em discurso no plenário da Câmara, em 2014, Bolsonaro disse que só não estupraria a colega Maria do Rosário (PT-RS), ex-ministra de Direitos Humanos, porque ela \"não merecia\".\\n\\n\"Ele nunca falou que iria estuprar a deputada. Nunca fez nenhuma incitação. Agora, se querem deturpar, paciência. Não faz sentido nenhum o acusarem.\"\\n\\n\"Além disso, como é que pode um cara ser processado por uma declaração dada na tribuna do Congresso, um direito legítimo e constitucional de você expressar suas opiniões? Essas coisas não podem existir no Estado de Direito.\"\\n\\nSegundo Bivar, Bolsonaro foi atraído pelo discurso transparente e probo do PSL.\\n\\n\"Se alguém no PSL pensa que vai se locupletar no futuro com uma eventual vitória de Bolsonaro, é melhor procurar outro partido. Ninguém se juntará a nós por achar que poderá participar do poder por participar.\"\\n\\nEle define o presidenciável como um homem bem intencionado e puro, que \"fala o que sente, o que vem da alma\". \"Essa é a grande diferença. Não é um político que fica em cima do muro. A imprensa terá uma surpresa muito grande e positiva com relação ao comportamento que vamos apresentar.\"\\n\\n*POLÊMICA NO FUTEBOL*\\n\\nLuciano Bivar foi eleito para a Câmara Federal pela primeira vez em 1998. Iniciou seu segundo mandato, como suplente, em julho do ano passado. Candidato a presidente em 2006, sempre pelo PSL, recebeu 0,06% dos votos.\\n\\nAlém da política, tem longa atuação como dirigente esportivo. Foi quatro vezes presidente do Sport Club do Recife.\\n\\nEm maio de 2013, foi suspenso do posto por 180 dias, pelo Superior Tribunal de Justiça Desportiva, após ter declarado que pagou a um lobista para \"empurrar\" um jogador do Sport, Leomar, para a seleção brasileira em 2001.\\n\\nNa ocasião, Bivar disse que a decisão foi absurda. \"Eu fiz marketing. Então a 9ine, do Ronaldinho, também deveria ser suspensa. É uma empresa de marketing\", declarou.\\n\\nEm dezembro de 2013 se afastou do comando do clube para se dedicar à campanha eleitoral do ano seguinte.\\n\\nNa eleição deste ano pretende se reeleger deputado federal.   \n",
              "\n",
              "   classe  qtde_palavras  \\\n",
              "8  0       860             \n",
              "\n",
              "                                                                                                                                                                                                                                                                                                                                                                                                                                                                                                                                                                                                                                                                                                                                                                                                                                                                                                                                                                                                                                                                                                                                                                                                                                                                                                                                                                                                                                                                                                                                                                                                                                                                                                                                                                                                                                                                                                                                                                                                                                                                                                                                                                                                                                                                                                                                                                                                                                                                                                                                                                                                                                                                                                                                                                                                                                                                                                                                                                                                                                                                                                                                                                                                                                                                                                                                                                                                                              texto_lematizado  \\\n",
              "8  Bolsonaro liberal completo presidente Psl Partido expressão nacional Psl viver momento destaque inédito trajetória década dia sigla anunciar receberia Jair Bolsonaro pré-candidatura presidência República palavra filiação constar termo divulgar imprensa presidente Psl deputado federal Luciano Bivar Pe Folha certo pré-candidato hoje Psc migrar partido março acordo colocado corrida presidencial pesquisa Datafolha lançar luz sigla nanica provocar cisão movimento Livres romper união quase ano Psl ter objetivo refundar partido liderança líder Bolsonaro representar extremo oposto valor liberal termos econômico comportamental dever nortear fase partido Bivar entretanto crítica preconceituoso absurdo partido favorável união preconceito pessoa fundamentalismo lamento Bolsonaro representar Bivar princípio fundador partido economia mercado liberdade individual livre expressão ideia autonomia instituição Direito vejor comportamento de ele contradigar ideologia liberal econômico social liberal aceitar fazer escolha jamais faríar Pt Cuba homossexual ir paredão bivar minimizar declaração pré-candidato contrarer imagem elogio coronel Carlos Alberto Brilhante Ustra principal símbolo repressão durante ditadura militar durante votação processo impeachment ex-presidente Dilma Rousseff Pt câmara 2016 família inocência criança Pt respeitar comunismo Foro Paulo memória coronel Brilhante Ustra voto declarar ocasião rotular Bolsonaro Bivar erro convicção Ustra torturador muitas criam se factoide toma-se verdadeiro relatório Comissão Nacional Verdade gestão Ustra Doi-Codi Paulo responsável morte desaparecimento 45 preso político Bivar ver contradição suposto liberal elogio ditadura preciso entender período ditadura estávamos situação delicado ameaça comunista clamar militar elogio regime militar infraestrutura Brasil fazer governo militar regime transição próprio militar devolver absolutamente espontâneo Reconhecer tornar ninguém liberal fato Bolsonaro réu Supremo Tribunal Federal acusação incitação estupro avaliar fala de ele sentido deturpado discurso plenário câmara 2014 Bolsonaro dizer estuprarir colega Maria Rosário Pt-Rs ex-ministra Direitos Humanos merecer falar ir estuprar deputada incitação deturpar paciência sentido nenhum acusar cara processar declaração dar tribuna congresso direito legítimo constitucional expressar opinião coisa existir Direito Bivar Bolsonaro atrair discurso transparente probo Psl alguém Psl pensar locupletar futuro vitória Bolsonaro bom procurar outro partido ninguém juntar achar participar participar definir presidenciável homem intencionado puro falar sentir alma diferença político ficar muro imprensa ter surpresa positivo comportamento ir apresentar PolÊMica Futebol Luciano Bivar eleger Câmara Federal 1998 Iniciou mandato suplente julho ano passado Candidato presidente 2006 Psl receber 0,06 voto política longo atuação dirigente esportivo presidente Sport Club Recife maio 2013 suspender posto 180 dia Superior Tribunal Justiça Desportiva declarar pagar lobista empurrar jogador Sport Leomar seleção brasileiro 2001 ocasião Bivar dizer decisão absurdo fiz marketing 9ine Ronaldinho dever suspender empresa marketing declarar dezembro 2013 afastar comando clube dedicar campanha eleitoral ano seguinte eleição ano pretender reeleger deputado federal   \n",
              "\n",
              "   qtde_lematizado  \\\n",
              "8  173               \n",
              "\n",
              "                                                                                                                                                                                                                                                                                                                                                                                                                                                                                                                                                                                                                                                                                                                                                                                                                                                                                                                                                                                                                                                                                                                                                                                                                                                                                                                                                                                     texto_resumido  \n",
              "8  Lula Bivar Pe Folha certo pré-candidato hoje Psc migrar partido março acordo colocado corrida presidencial pesquisa Datafolha lançar luz sigla nanica provocar cisão movimento Livres romper união quase ano psl ter objetivo refundar partido liderança líder Bolsonaro representar extremo oposto valor liberal termos econômico comportamental dever nortear fase partido Biva entretanto crítica preconceituoso absurdo partido favorável união preconceito pessoa fundamentalismo lamento Bolsonaro representação Bivada princípio fundador partido economia mercado liberdade individual livre expressão ideia autonomia instituição Direito vejor comportamento de ele contradigar ideologia liberal econômico social liberal aceitar fazer escolha jamais faríar Pt Cuba homossexual ir paredão bivar minimizar declaração pré candidat contrarer imagem elogio coronel Carlos Alberto Brilhante Ustra principal símbolo repressão durante ditadura militar durante votação processo impeachment ex-presidente Dilma Rousseff t câmara 2016 família inocência criança Ptt respeitar comunismo Foro Paulo memória coronel Brilhasnte ustra voto declarar ocasião rotular Bolsonaro Bivas erro convicção stra torturador muitas criam se factoide toma-se verdadeiro relatório Comissão Nacional Verdade gestão Utra Doi-Codi Paulo responsável morte desaparecimento 45 preso político Bi  "
            ],
            "text/html": [
              "\n",
              "  <div id=\"df-30bec98f-ea7f-46e2-8ce4-6c23bf39a10f\">\n",
              "    <div class=\"colab-df-container\">\n",
              "      <div>\n",
              "<style scoped>\n",
              "    .dataframe tbody tr th:only-of-type {\n",
              "        vertical-align: middle;\n",
              "    }\n",
              "\n",
              "    .dataframe tbody tr th {\n",
              "        vertical-align: top;\n",
              "    }\n",
              "\n",
              "    .dataframe thead th {\n",
              "        text-align: right;\n",
              "    }\n",
              "</style>\n",
              "<table border=\"1\" class=\"dataframe\">\n",
              "  <thead>\n",
              "    <tr style=\"text-align: right;\">\n",
              "      <th></th>\n",
              "      <th>texto</th>\n",
              "      <th>classe</th>\n",
              "      <th>qtde_palavras</th>\n",
              "      <th>texto_lematizado</th>\n",
              "      <th>qtde_lematizado</th>\n",
              "      <th>texto_resumido</th>\n",
              "    </tr>\n",
              "  </thead>\n",
              "  <tbody>\n",
              "    <tr>\n",
              "      <th>8</th>\n",
              "      <td>Bolsonaro é um liberal completo, diz presidente do PSL\\n\\nPartido de pouca expressão nacional, o PSL vive momentos de destaque inédito em sua trajetória de duas décadas.\\n\\nNo dia 5, a sigla anunciou que \"receberia Jair Bolsonaro e sua pré-candidatura à Presidência da República\".\\n\\nA palavra \"filiação\" não consta no termo divulgado à imprensa, mas o presidente do PSL, o deputado federal Luciano Bivar (PE), diz à Folha que, \"tão certo como dois e dois são quatro\", o pré-candidato, hoje no PSC, migrará para seu partido em março.\\n\\nO acordo com o segundo colocado na corrida presidencial até o momento, segundo pesquisas do Datafolha, lançou luz sobre a sigla nanica, mas também provocou uma cisão: o movimento Livres rompeu uma união de quase dois anos com o PSL, que tinha como objetivo refundar o partido com nova liderança.\\n\\nPara os líderes do grupo, Bolsonaro representa o extremo oposto dos valores liberais, tanto em termos econômicos quanto comportamentais, que deveriam nortear a nova fase do partido.\\n\\nBivar, entretanto, diz que as críticas são preconceituosas. \"Foi um absurdo. A maior parte do partido foi favorável à união. Ter preconceito contra uma pessoa é fundamentalismo. Eu lamento.\"\\n\\nBolsonaro representa, diz Bivar, os princípios fundadores do partido: a economia de mercado, as liberdades individuais, a livre expressão de ideias, a autonomia das instituições, o Estado de Direito.\\n\\n\"Não vejo nada no comportamento dele que contradiga a ideologia liberal, na área econômica ou social. É um liberal ao aceitar que cada um faça suas escolhas. Jamais faríamos como o PT, por exemplo, que apoia Cuba, onde homossexuais iam para o paredão.\"\\n\\nBivar minimiza declarações do pré-candidato que contrariam essa imagem, como o elogio coronel Carlos Alberto Brilhante Ustra, um dos principais símbolos da repressão durante a ditadura militar, durante votação do processo de impeachment da ex-presidente Dilma Rousseff (PT) na Câmara, em 2016.\\n\\n\"Pela família e inocência das crianças que o PT nunca respeitou, contra o comunismo, o Foro de São Paulo e em memória do coronel Brilhante Ustra, o meu voto é sim\", declarou na ocasião.\\n\\n\"Não se deve rotular Bolsonaro por isso\", diz Bivar. \"Não foi um erro. Cada um tem suas convicções. Não sei se o Ustra foi um torturador ou não. Muitas vezes criam-se factoides e toma-se aquilo como verdadeiro.\"\\n\\nSegundo o relatório final da Comissão Nacional da Verdade, na gestão de Ustra o DOI-CODI de São Paulo foi responsável pela morte ou desaparecimento de ao menos 45 presos políticos.\\n\\nBivar também não vê contradição em um suposto liberal fazer elogios a uma ditadura.\\n\\n\"É preciso entender que naquele período [na ditadura] estávamos diante de uma situação muito delicada. A ameaça comunista era muito grande. Então o povo clamou pelos militares\", diz.\\n\\n\"Eu faço alguns elogios ao regime militar também. Toda a infraestrutura do Brasil foi feita no governo militar. Foi um regime de transição, e os próprios militares devolveram o poder de forma absolutamente espontânea. Reconhecer isso não torna ninguém menos liberal.\"\\n\\nSobre o fato de Bolsonaro ser réu Supremo Tribunal Federal, sob acusação de incitação ao estupro, avalia que as falas dele tiveram seu sentido deturpado. Em discurso no plenário da Câmara, em 2014, Bolsonaro disse que só não estupraria a colega Maria do Rosário (PT-RS), ex-ministra de Direitos Humanos, porque ela \"não merecia\".\\n\\n\"Ele nunca falou que iria estuprar a deputada. Nunca fez nenhuma incitação. Agora, se querem deturpar, paciência. Não faz sentido nenhum o acusarem.\"\\n\\n\"Além disso, como é que pode um cara ser processado por uma declaração dada na tribuna do Congresso, um direito legítimo e constitucional de você expressar suas opiniões? Essas coisas não podem existir no Estado de Direito.\"\\n\\nSegundo Bivar, Bolsonaro foi atraído pelo discurso transparente e probo do PSL.\\n\\n\"Se alguém no PSL pensa que vai se locupletar no futuro com uma eventual vitória de Bolsonaro, é melhor procurar outro partido. Ninguém se juntará a nós por achar que poderá participar do poder por participar.\"\\n\\nEle define o presidenciável como um homem bem intencionado e puro, que \"fala o que sente, o que vem da alma\". \"Essa é a grande diferença. Não é um político que fica em cima do muro. A imprensa terá uma surpresa muito grande e positiva com relação ao comportamento que vamos apresentar.\"\\n\\n*POLÊMICA NO FUTEBOL*\\n\\nLuciano Bivar foi eleito para a Câmara Federal pela primeira vez em 1998. Iniciou seu segundo mandato, como suplente, em julho do ano passado. Candidato a presidente em 2006, sempre pelo PSL, recebeu 0,06% dos votos.\\n\\nAlém da política, tem longa atuação como dirigente esportivo. Foi quatro vezes presidente do Sport Club do Recife.\\n\\nEm maio de 2013, foi suspenso do posto por 180 dias, pelo Superior Tribunal de Justiça Desportiva, após ter declarado que pagou a um lobista para \"empurrar\" um jogador do Sport, Leomar, para a seleção brasileira em 2001.\\n\\nNa ocasião, Bivar disse que a decisão foi absurda. \"Eu fiz marketing. Então a 9ine, do Ronaldinho, também deveria ser suspensa. É uma empresa de marketing\", declarou.\\n\\nEm dezembro de 2013 se afastou do comando do clube para se dedicar à campanha eleitoral do ano seguinte.\\n\\nNa eleição deste ano pretende se reeleger deputado federal.</td>\n",
              "      <td>0</td>\n",
              "      <td>860</td>\n",
              "      <td>Bolsonaro liberal completo presidente Psl Partido expressão nacional Psl viver momento destaque inédito trajetória década dia sigla anunciar receberia Jair Bolsonaro pré-candidatura presidência República palavra filiação constar termo divulgar imprensa presidente Psl deputado federal Luciano Bivar Pe Folha certo pré-candidato hoje Psc migrar partido março acordo colocado corrida presidencial pesquisa Datafolha lançar luz sigla nanica provocar cisão movimento Livres romper união quase ano Psl ter objetivo refundar partido liderança líder Bolsonaro representar extremo oposto valor liberal termos econômico comportamental dever nortear fase partido Bivar entretanto crítica preconceituoso absurdo partido favorável união preconceito pessoa fundamentalismo lamento Bolsonaro representar Bivar princípio fundador partido economia mercado liberdade individual livre expressão ideia autonomia instituição Direito vejor comportamento de ele contradigar ideologia liberal econômico social liberal aceitar fazer escolha jamais faríar Pt Cuba homossexual ir paredão bivar minimizar declaração pré-candidato contrarer imagem elogio coronel Carlos Alberto Brilhante Ustra principal símbolo repressão durante ditadura militar durante votação processo impeachment ex-presidente Dilma Rousseff Pt câmara 2016 família inocência criança Pt respeitar comunismo Foro Paulo memória coronel Brilhante Ustra voto declarar ocasião rotular Bolsonaro Bivar erro convicção Ustra torturador muitas criam se factoide toma-se verdadeiro relatório Comissão Nacional Verdade gestão Ustra Doi-Codi Paulo responsável morte desaparecimento 45 preso político Bivar ver contradição suposto liberal elogio ditadura preciso entender período ditadura estávamos situação delicado ameaça comunista clamar militar elogio regime militar infraestrutura Brasil fazer governo militar regime transição próprio militar devolver absolutamente espontâneo Reconhecer tornar ninguém liberal fato Bolsonaro réu Supremo Tribunal Federal acusação incitação estupro avaliar fala de ele sentido deturpado discurso plenário câmara 2014 Bolsonaro dizer estuprarir colega Maria Rosário Pt-Rs ex-ministra Direitos Humanos merecer falar ir estuprar deputada incitação deturpar paciência sentido nenhum acusar cara processar declaração dar tribuna congresso direito legítimo constitucional expressar opinião coisa existir Direito Bivar Bolsonaro atrair discurso transparente probo Psl alguém Psl pensar locupletar futuro vitória Bolsonaro bom procurar outro partido ninguém juntar achar participar participar definir presidenciável homem intencionado puro falar sentir alma diferença político ficar muro imprensa ter surpresa positivo comportamento ir apresentar PolÊMica Futebol Luciano Bivar eleger Câmara Federal 1998 Iniciou mandato suplente julho ano passado Candidato presidente 2006 Psl receber 0,06 voto política longo atuação dirigente esportivo presidente Sport Club Recife maio 2013 suspender posto 180 dia Superior Tribunal Justiça Desportiva declarar pagar lobista empurrar jogador Sport Leomar seleção brasileiro 2001 ocasião Bivar dizer decisão absurdo fiz marketing 9ine Ronaldinho dever suspender empresa marketing declarar dezembro 2013 afastar comando clube dedicar campanha eleitoral ano seguinte eleição ano pretender reeleger deputado federal</td>\n",
              "      <td>173</td>\n",
              "      <td>Lula Bivar Pe Folha certo pré-candidato hoje Psc migrar partido março acordo colocado corrida presidencial pesquisa Datafolha lançar luz sigla nanica provocar cisão movimento Livres romper união quase ano psl ter objetivo refundar partido liderança líder Bolsonaro representar extremo oposto valor liberal termos econômico comportamental dever nortear fase partido Biva entretanto crítica preconceituoso absurdo partido favorável união preconceito pessoa fundamentalismo lamento Bolsonaro representação Bivada princípio fundador partido economia mercado liberdade individual livre expressão ideia autonomia instituição Direito vejor comportamento de ele contradigar ideologia liberal econômico social liberal aceitar fazer escolha jamais faríar Pt Cuba homossexual ir paredão bivar minimizar declaração pré candidat contrarer imagem elogio coronel Carlos Alberto Brilhante Ustra principal símbolo repressão durante ditadura militar durante votação processo impeachment ex-presidente Dilma Rousseff t câmara 2016 família inocência criança Ptt respeitar comunismo Foro Paulo memória coronel Brilhasnte ustra voto declarar ocasião rotular Bolsonaro Bivas erro convicção stra torturador muitas criam se factoide toma-se verdadeiro relatório Comissão Nacional Verdade gestão Utra Doi-Codi Paulo responsável morte desaparecimento 45 preso político Bi</td>\n",
              "    </tr>\n",
              "  </tbody>\n",
              "</table>\n",
              "</div>\n",
              "      <button class=\"colab-df-convert\" onclick=\"convertToInteractive('df-30bec98f-ea7f-46e2-8ce4-6c23bf39a10f')\"\n",
              "              title=\"Convert this dataframe to an interactive table.\"\n",
              "              style=\"display:none;\">\n",
              "        \n",
              "  <svg xmlns=\"http://www.w3.org/2000/svg\" height=\"24px\"viewBox=\"0 0 24 24\"\n",
              "       width=\"24px\">\n",
              "    <path d=\"M0 0h24v24H0V0z\" fill=\"none\"/>\n",
              "    <path d=\"M18.56 5.44l.94 2.06.94-2.06 2.06-.94-2.06-.94-.94-2.06-.94 2.06-2.06.94zm-11 1L8.5 8.5l.94-2.06 2.06-.94-2.06-.94L8.5 2.5l-.94 2.06-2.06.94zm10 10l.94 2.06.94-2.06 2.06-.94-2.06-.94-.94-2.06-.94 2.06-2.06.94z\"/><path d=\"M17.41 7.96l-1.37-1.37c-.4-.4-.92-.59-1.43-.59-.52 0-1.04.2-1.43.59L10.3 9.45l-7.72 7.72c-.78.78-.78 2.05 0 2.83L4 21.41c.39.39.9.59 1.41.59.51 0 1.02-.2 1.41-.59l7.78-7.78 2.81-2.81c.8-.78.8-2.07 0-2.86zM5.41 20L4 18.59l7.72-7.72 1.47 1.35L5.41 20z\"/>\n",
              "  </svg>\n",
              "      </button>\n",
              "      \n",
              "  <style>\n",
              "    .colab-df-container {\n",
              "      display:flex;\n",
              "      flex-wrap:wrap;\n",
              "      gap: 12px;\n",
              "    }\n",
              "\n",
              "    .colab-df-convert {\n",
              "      background-color: #E8F0FE;\n",
              "      border: none;\n",
              "      border-radius: 50%;\n",
              "      cursor: pointer;\n",
              "      display: none;\n",
              "      fill: #1967D2;\n",
              "      height: 32px;\n",
              "      padding: 0 0 0 0;\n",
              "      width: 32px;\n",
              "    }\n",
              "\n",
              "    .colab-df-convert:hover {\n",
              "      background-color: #E2EBFA;\n",
              "      box-shadow: 0px 1px 2px rgba(60, 64, 67, 0.3), 0px 1px 3px 1px rgba(60, 64, 67, 0.15);\n",
              "      fill: #174EA6;\n",
              "    }\n",
              "\n",
              "    [theme=dark] .colab-df-convert {\n",
              "      background-color: #3B4455;\n",
              "      fill: #D2E3FC;\n",
              "    }\n",
              "\n",
              "    [theme=dark] .colab-df-convert:hover {\n",
              "      background-color: #434B5C;\n",
              "      box-shadow: 0px 1px 3px 1px rgba(0, 0, 0, 0.15);\n",
              "      filter: drop-shadow(0px 1px 2px rgba(0, 0, 0, 0.3));\n",
              "      fill: #FFFFFF;\n",
              "    }\n",
              "  </style>\n",
              "\n",
              "      <script>\n",
              "        const buttonEl =\n",
              "          document.querySelector('#df-30bec98f-ea7f-46e2-8ce4-6c23bf39a10f button.colab-df-convert');\n",
              "        buttonEl.style.display =\n",
              "          google.colab.kernel.accessAllowed ? 'block' : 'none';\n",
              "\n",
              "        async function convertToInteractive(key) {\n",
              "          const element = document.querySelector('#df-30bec98f-ea7f-46e2-8ce4-6c23bf39a10f');\n",
              "          const dataTable =\n",
              "            await google.colab.kernel.invokeFunction('convertToInteractive',\n",
              "                                                     [key], {});\n",
              "          if (!dataTable) return;\n",
              "\n",
              "          const docLinkHtml = 'Like what you see? Visit the ' +\n",
              "            '<a target=\"_blank\" href=https://colab.research.google.com/notebooks/data_table.ipynb>data table notebook</a>'\n",
              "            + ' to learn more about interactive tables.';\n",
              "          element.innerHTML = '';\n",
              "          dataTable['output_type'] = 'display_data';\n",
              "          await google.colab.output.renderOutput(dataTable, element);\n",
              "          const docLink = document.createElement('div');\n",
              "          docLink.innerHTML = docLinkHtml;\n",
              "          element.appendChild(docLink);\n",
              "        }\n",
              "      </script>\n",
              "    </div>\n",
              "  </div>\n",
              "  "
            ]
          },
          "metadata": {},
          "execution_count": 45
        }
      ]
    },
    {
      "cell_type": "code",
      "source": [
        "texto = 'Bolsonaro é um liberal completo, diz presidente do PSL\\n\\nPartido de pouca expressão nacional, o PSL vive momentos de destaque inédito em sua trajetória de duas décadas.\\n\\nNo dia 5, a sigla anunciou que \"receberia Jair Bolsonaro e sua pré-candidatura à Presidência da República\".\\n\\nA palavra \"filiação\" não consta no termo divulgado à imprensa, mas o presidente do PSL, o deputado federal Luciano Bivar (PE), diz à Folha que, \"tão certo como dois e dois são quatro\", o pré-candidato, hoje no PSC, migrará para seu partido em março.\\n\\nO acordo com o segundo colocado na corrida presidencial até o momento, segundo pesquisas do Datafolha, lançou luz sobre a sigla nanica, mas também provocou uma cisão: o movimento Livres rompeu uma união de quase dois anos com o PSL, que tinha como objetivo refundar o partido com nova liderança.\\n\\nPara os líderes do grupo, Bolsonaro representa o extremo oposto dos valores liberais, tanto em termos econômicos quanto comportamentais, que deveriam nortear a nova fase do partido.\\n\\nBivar, entretanto, diz que as críticas são preconceituosas. \"Foi um absurdo. A maior parte do partido foi favorável à união. Ter preconceito contra uma pessoa é fundamentalismo. Eu lamento.\"\\n\\nBolsonaro representa, diz Bivar, os princípios fundadores do partido: a economia de mercado, as liberdades individuais, a livre expressão de ideias, a autonomia das instituições, o Estado de Direito.\\n\\n\"Não vejo nada no comportamento dele que contradiga a ideologia liberal, na área econômica ou social. É um liberal ao aceitar que cada um faça suas escolhas. Jamais faríamos como o PT, por exemplo, que apoia Cuba, onde homossexuais iam para o paredão.\"\\n\\nBivar minimiza declarações do pré-candidato que contrariam essa imagem, como o elogio coronel Carlos Alberto Brilhante Ustra, um dos principais símbolos da repressão durante a ditadura militar, durante votação do processo de impeachment da ex-presidente Dilma Rousseff (PT) na Câmara, em 2016.\\n\\n\"Pela família e inocência das crianças que o PT nunca respeitou, contra o comunismo, o Foro de São Paulo e em memória do coronel Brilhante Ustra, o meu voto é sim\", declarou na ocasião.\\n\\n\"Não se deve rotular Bolsonaro por isso\", diz Bivar. \"Não foi um erro. Cada um tem suas convicções. Não sei se o Ustra foi um torturador ou não. Muitas vezes criam-se factoides e toma-se aquilo como verdadeiro.\"\\n\\nSegundo o relatório final da Comissão Nacional da Verdade, na gestão de Ustra o DOI-CODI de São Paulo foi responsável pela morte ou desaparecimento de ao menos 45 presos políticos.\\n\\nBivar também não vê contradição em um suposto liberal fazer elogios a uma ditadura.\\n\\n\"É preciso entender que naquele período [na ditadura] estávamos diante de uma situação muito delicada. A ameaça comunista era muito grande. Então o povo clamou pelos militares\", diz.\\n\\n\"Eu faço alguns elogios ao regime militar também. Toda a infraestrutura do Brasil foi feita no governo militar. Foi um regime de transição, e os próprios militares devolveram o poder de forma absolutamente espontânea. Reconhecer isso não torna ninguém menos liberal.\"\\n\\nSobre o fato de Bolsonaro ser réu Supremo Tribunal Federal, sob acusação de incitação ao estupro, avalia que as falas dele tiveram seu sentido deturpado. Em discurso no plenário da Câmara, em 2014, Bolsonaro disse que só não estupraria a colega Maria do Rosário (PT-RS), ex-ministra de Direitos Humanos, porque ela \"não merecia\".\\n\\n\"Ele nunca falou que iria estuprar a deputada. Nunca fez nenhuma incitação. Agora, se querem deturpar, paciência. Não faz sentido nenhum o acusarem.\"\\n\\n\"Além disso, como é que pode um cara ser processado por uma declaração dada na tribuna do Congresso, um direito legítimo e constitucional de você expressar suas opiniões? Essas coisas não podem existir no Estado de Direito.\"\\n\\nSegundo Bivar, Bolsonaro foi atraído pelo discurso transparente e probo do PSL.\\n\\n\"Se alguém no PSL pensa que vai se locupletar no futuro com uma eventual vitória de Bolsonaro, é melhor procurar outro partido. Ninguém se juntará a nós por achar que poderá participar do poder por participar.\"\\n\\nEle define o presidenciável como um homem bem intencionado e puro, que \"fala o que sente, o que vem da alma\". \"Essa é a grande diferença. Não é um político que fica em cima do muro. A imprensa terá uma surpresa muito grande e positiva com relação ao comportamento que vamos apresentar.\"\\n\\n*POLÊMICA NO FUTEBOL*\\n\\nLuciano Bivar foi eleito para a Câmara Federal pela primeira vez em 1998. Iniciou seu segundo mandato, como suplente, em julho do ano passado. Candidato a presidente em 2006, sempre pelo PSL, recebeu 0,06% dos votos.\\n\\nAlém da política, tem longa atuação como dirigente esportivo. Foi quatro vezes presidente do Sport Club do Recife.\\n\\nEm maio de 2013, foi suspenso do posto por 180 dias, pelo Superior Tribunal de Justiça Desportiva, após ter declarado que pagou a um lobista para \"empurrar\" um jogador do Sport, Leomar, para a seleção brasileira em 2001.\\n\\nNa ocasião, Bivar disse que a decisão foi absurda. \"Eu fiz marketing. Então a 9ine, do Ronaldinho, também deveria ser suspensa. É uma empresa de marketing\", declarou.\\n\\nEm dezembro de 2013 se afastou do comando do clube para se dedicar à campanha eleitoral do ano seguinte.\\n\\nNa eleição deste ano pretende se reeleger deputado federal.'\n",
        "texto_limpo = limpar_textos(texto)\n",
        "print(resumir_textos(texto_limpo))"
      ],
      "metadata": {
        "id": "sQ1c59vA2Vtx",
        "outputId": "7c22cefb-e6f3-4248-8fe1-b40fe506960b",
        "colab": {
          "base_uri": "https://localhost:8080/"
        }
      },
      "execution_count": 50,
      "outputs": [
        {
          "output_type": "stream",
          "name": "stdout",
          "text": [
            "o deputado federal Luciano Bivar PE, diz Folha que, \"tão certo como dois e dois são quatro\", o pré-candidato, hoje no PSC, migrará para seu partido em março. O acordo com o segundo colocado na corrida presidencial até o momento, segundo pesquisas do Datafolha, lançou luz sobre a sigla nanica, mas também provocou uma cisão: o movimento Livres rompeu uma união de quase dois anos e o PSL, que tinha como objetivo refundar o partido com nova liderança. Para os líderes do grupo, Bolsonaro representa o extremo oposto dos valores liberais, tanto em termos econômicos quanto comportamentais, de deveriam nortear a nova fase do partido. Biva, entretanto, afirma que as críticas são preconceituosas. \"Foi um absurdo. A maior parte do PT foi favorável união. Ter preconceito contra uma pessoa é fundamentalismo. Eu lamento.\" Bolsonaro é um liberal completo ao aceitar que cada um faça suas escolhas, jamais faríamos como o PT, por exemplo, não apoia Cuba, onde homossexuais iam para o paredão.\n"
          ]
        }
      ]
    },
    {
      "cell_type": "code",
      "source": [
        "dados02[\"texto_resumido\"] = dados02['texto_lematizado'].progress_apply(resumir_textos)\n",
        "dados02[\"qtde_lematizado\"] = dados02.texto_resumido.apply(\n",
        "    lambda texto: len(re.findall(r\"[\\w']+\", texto))\n",
        ")\n",
        "dados02.to_csv('/content/drive/MyDrive/PUC/TCC/dados/dataset_processado_02.csv', sep = ',', index=False)"
      ],
      "metadata": {
        "id": "ikqaQ525c3yx"
      },
      "execution_count": null,
      "outputs": []
    },
    {
      "cell_type": "code",
      "source": [
        "dados03[\"texto_resumido\"] = dados03['texto_lematizado'].progress_apply(resumir_textos)\n",
        "dados03[\"qtde_lematizado\"] = dados03.texto_resumido.apply(\n",
        "    lambda texto: len(re.findall(r\"[\\w']+\", texto))\n",
        ")\n",
        "dados03.to_csv('/content/drive/MyDrive/PUC/TCC/dados/dataset_processado_03.csv', sep = ',', index=False)"
      ],
      "metadata": {
        "id": "G6IXkNnJdAOa"
      },
      "execution_count": null,
      "outputs": []
    },
    {
      "cell_type": "code",
      "source": [
        "df_maior = pd.concat(\n",
        "    [dados01, dados02, dados03],\n",
        "    ignore_index=True,\n",
        "    copy=True,\n",
        ")"
      ],
      "metadata": {
        "id": "TsXzS1BCdOkr"
      },
      "execution_count": null,
      "outputs": []
    },
    {
      "cell_type": "code",
      "source": [
        "df_maior.drop(\"texto_lematizado\", axis=1, inplace=True)\n",
        "df_maior.rename(columns = {'texto_resumido':'texto_lematizado'}, inplace = True)\n",
        "\n",
        "dados = pd.concat(\n",
        "    [df_menor, df_maior],\n",
        "    ignore_index=True,\n",
        "    copy=True,\n",
        ")"
      ],
      "metadata": {
        "id": "FiGFb7QrbEh0"
      },
      "execution_count": null,
      "outputs": []
    },
    {
      "cell_type": "markdown",
      "source": [
        "### Plota novamente para ver como ficou"
      ],
      "metadata": {
        "id": "uBNVXR_lgmci"
      }
    },
    {
      "cell_type": "code",
      "source": [
        "def grafico_distribuicao_boxplot(dados):\n",
        "  dfplot = dados.pivot(columns='classe').qtde_lematizado\n",
        "  dfplot.columns = ['0 - Confiável', '1 - Falso']\n",
        "  fig, axes = plt.subplots(nrows=1, ncols=2, figsize=(12, 5))\n",
        "  axes1 = dfplot.plot(\n",
        "      ax=axes[0], kind='hist', stacked=True, bins=list(range(0, 280, 30)), \n",
        "      title=\"Distribuição de palavras conforme a classe\")\n",
        "  axes2 = sns.boxplot(y=dados[\"qtde_lematizado\"],x=dados[\"classe\"])\n",
        "  axes2.set_ylabel('Qtde_Palavras')  "
      ],
      "metadata": {
        "id": "11gpb5dnHsS5"
      },
      "execution_count": null,
      "outputs": []
    },
    {
      "cell_type": "code",
      "source": [
        "grafico_distribuicao_boxplot(dados)"
      ],
      "metadata": {
        "id": "TJ5L0DDRrBIl",
        "outputId": "9e0dd4d4-082d-41e3-8ff4-46f25f1d9690",
        "colab": {
          "base_uri": "https://localhost:8080/",
          "height": 355
        }
      },
      "execution_count": null,
      "outputs": [
        {
          "output_type": "display_data",
          "data": {
            "text/plain": [
              "<Figure size 864x360 with 2 Axes>"
            ],
            "image/png": "[encoded data removed]"
          },
          "metadata": {}
        }
      ]
    },
    {
      "cell_type": "markdown",
      "source": [
        "### Salva resultado para usar na exploração"
      ],
      "metadata": {
        "id": "Zm-HnvurgrwG"
      }
    },
    {
      "cell_type": "code",
      "execution_count": null,
      "metadata": {
        "id": "YCO1XnsHPtyd"
      },
      "outputs": [],
      "source": [
        "# Salva novamente os dados para uso no notebook do próximo passo.\n",
        "dados.to_csv('/content/drive/MyDrive/PUC/TCC/dados/dataset_processado.csv', sep = ',', index=False)"
      ]
    }
  ],
  "metadata": {
    "colab": {
      "collapsed_sections": [],
      "machine_shape": "hm",
      "name": "ultimo_mesmo_fake_news_bertimbau.ipynb",
      "provenance": [],
      "include_colab_link": true
    },
    "interpreter": {
      "hash": "50691a0bc379e9e647c9463feff34781ae883c7b810726d51a7ed60c4a02b637"
    },
    "kernelspec": {
      "display_name": "Python 3.8.13 ('tcc')",
      "language": "python",
      "name": "python3"
    },
    "language_info": {
      "codemirror_mode": {
        "name": "ipython",
        "version": 3
      },
      "file_extension": ".py",
      "mimetype": "text/x-python",
      "name": "python",
      "nbconvert_exporter": "python",
      "pygments_lexer": "ipython3",
      "version": "3.8.13"
    },
    "accelerator": "GPU",
    "gpuClass": "standard",
    "widgets": {
      "application/vnd.jupyter.widget-state+json": {
        "3f312562968c48fda9f87626dfb6a500": {
          "model_module": "@jupyter-widgets/controls",
          "model_name": "HBoxModel",
          "model_module_version": "1.5.0",
          "state": {
            "_dom_classes": [],
            "_model_module": "@jupyter-widgets/controls",
            "_model_module_version": "1.5.0",
            "_model_name": "HBoxModel",
            "_view_count": null,
            "_view_module": "@jupyter-widgets/controls",
            "_view_module_version": "1.5.0",
            "_view_name": "HBoxView",
            "box_style": "",
            "children": [
              "IPY_MODEL_e8c13456cb0244ab9710b1681e499f75",
              "IPY_MODEL_729fa609d2a14d179532212afa2e4e7d",
              "IPY_MODEL_e11a4ef314884b2bb01dd1fde8a3d82b"
            ],
            "layout": "IPY_MODEL_bd05d0a219b64361af50dc6c0df23a37"
          }
        },
        "e8c13456cb0244ab9710b1681e499f75": {
          "model_module": "@jupyter-widgets/controls",
          "model_name": "HTMLModel",
          "model_module_version": "1.5.0",
          "state": {
            "_dom_classes": [],
            "_model_module": "@jupyter-widgets/controls",
            "_model_module_version": "1.5.0",
            "_model_name": "HTMLModel",
            "_view_count": null,
            "_view_module": "@jupyter-widgets/controls",
            "_view_module_version": "1.5.0",
            "_view_name": "HTMLView",
            "description": "",
            "description_tooltip": null,
            "layout": "IPY_MODEL_e07604eec7fb40cab5600dc4aa073e23",
            "placeholder": "​",
            "style": "IPY_MODEL_6ad9df519a604b02b33dbb4e58d7498c",
            "value": "100%"
          }
        },
        "729fa609d2a14d179532212afa2e4e7d": {
          "model_module": "@jupyter-widgets/controls",
          "model_name": "FloatProgressModel",
          "model_module_version": "1.5.0",
          "state": {
            "_dom_classes": [],
            "_model_module": "@jupyter-widgets/controls",
            "_model_module_version": "1.5.0",
            "_model_name": "FloatProgressModel",
            "_view_count": null,
            "_view_module": "@jupyter-widgets/controls",
            "_view_module_version": "1.5.0",
            "_view_name": "ProgressView",
            "bar_style": "success",
            "description": "",
            "description_tooltip": null,
            "layout": "IPY_MODEL_e95e0bc5b3d24a82bd5758f7bab94914",
            "max": 9537,
            "min": 0,
            "orientation": "horizontal",
            "style": "IPY_MODEL_d6402ec7edb24e76a59f79431540a94a",
            "value": 9537
          }
        },
        "e11a4ef314884b2bb01dd1fde8a3d82b": {
          "model_module": "@jupyter-widgets/controls",
          "model_name": "HTMLModel",
          "model_module_version": "1.5.0",
          "state": {
            "_dom_classes": [],
            "_model_module": "@jupyter-widgets/controls",
            "_model_module_version": "1.5.0",
            "_model_name": "HTMLModel",
            "_view_count": null,
            "_view_module": "@jupyter-widgets/controls",
            "_view_module_version": "1.5.0",
            "_view_name": "HTMLView",
            "description": "",
            "description_tooltip": null,
            "layout": "IPY_MODEL_22e1a7f128fa488bbbbb51a9d68923b5",
            "placeholder": "​",
            "style": "IPY_MODEL_131607f203034b9f8b768e4801eb1614",
            "value": " 9537/9537 [00:15&lt;00:00, 1797.57it/s]"
          }
        },
        "bd05d0a219b64361af50dc6c0df23a37": {
          "model_module": "@jupyter-widgets/base",
          "model_name": "LayoutModel",
          "model_module_version": "1.2.0",
          "state": {
            "_model_module": "@jupyter-widgets/base",
            "_model_module_version": "1.2.0",
            "_model_name": "LayoutModel",
            "_view_count": null,
            "_view_module": "@jupyter-widgets/base",
            "_view_module_version": "1.2.0",
            "_view_name": "LayoutView",
            "align_content": null,
            "align_items": null,
            "align_self": null,
            "border": null,
            "bottom": null,
            "display": null,
            "flex": null,
            "flex_flow": null,
            "grid_area": null,
            "grid_auto_columns": null,
            "grid_auto_flow": null,
            "grid_auto_rows": null,
            "grid_column": null,
            "grid_gap": null,
            "grid_row": null,
            "grid_template_areas": null,
            "grid_template_columns": null,
            "grid_template_rows": null,
            "height": null,
            "justify_content": null,
            "justify_items": null,
            "left": null,
            "margin": null,
            "max_height": null,
            "max_width": null,
            "min_height": null,
            "min_width": null,
            "object_fit": null,
            "object_position": null,
            "order": null,
            "overflow": null,
            "overflow_x": null,
            "overflow_y": null,
            "padding": null,
            "right": null,
            "top": null,
            "visibility": null,
            "width": null
          }
        },
        "e07604eec7fb40cab5600dc4aa073e23": {
          "model_module": "@jupyter-widgets/base",
          "model_name": "LayoutModel",
          "model_module_version": "1.2.0",
          "state": {
            "_model_module": "@jupyter-widgets/base",
            "_model_module_version": "1.2.0",
            "_model_name": "LayoutModel",
            "_view_count": null,
            "_view_module": "@jupyter-widgets/base",
            "_view_module_version": "1.2.0",
            "_view_name": "LayoutView",
            "align_content": null,
            "align_items": null,
            "align_self": null,
            "border": null,
            "bottom": null,
            "display": null,
            "flex": null,
            "flex_flow": null,
            "grid_area": null,
            "grid_auto_columns": null,
            "grid_auto_flow": null,
            "grid_auto_rows": null,
            "grid_column": null,
            "grid_gap": null,
            "grid_row": null,
            "grid_template_areas": null,
            "grid_template_columns": null,
            "grid_template_rows": null,
            "height": null,
            "justify_content": null,
            "justify_items": null,
            "left": null,
            "margin": null,
            "max_height": null,
            "max_width": null,
            "min_height": null,
            "min_width": null,
            "object_fit": null,
            "object_position": null,
            "order": null,
            "overflow": null,
            "overflow_x": null,
            "overflow_y": null,
            "padding": null,
            "right": null,
            "top": null,
            "visibility": null,
            "width": null
          }
        },
        "6ad9df519a604b02b33dbb4e58d7498c": {
          "model_module": "@jupyter-widgets/controls",
          "model_name": "DescriptionStyleModel",
          "model_module_version": "1.5.0",
          "state": {
            "_model_module": "@jupyter-widgets/controls",
            "_model_module_version": "1.5.0",
            "_model_name": "DescriptionStyleModel",
            "_view_count": null,
            "_view_module": "@jupyter-widgets/base",
            "_view_module_version": "1.2.0",
            "_view_name": "StyleView",
            "description_width": ""
          }
        },
        "e95e0bc5b3d24a82bd5758f7bab94914": {
          "model_module": "@jupyter-widgets/base",
          "model_name": "LayoutModel",
          "model_module_version": "1.2.0",
          "state": {
            "_model_module": "@jupyter-widgets/base",
            "_model_module_version": "1.2.0",
            "_model_name": "LayoutModel",
            "_view_count": null,
            "_view_module": "@jupyter-widgets/base",
            "_view_module_version": "1.2.0",
            "_view_name": "LayoutView",
            "align_content": null,
            "align_items": null,
            "align_self": null,
            "border": null,
            "bottom": null,
            "display": null,
            "flex": null,
            "flex_flow": null,
            "grid_area": null,
            "grid_auto_columns": null,
            "grid_auto_flow": null,
            "grid_auto_rows": null,
            "grid_column": null,
            "grid_gap": null,
            "grid_row": null,
            "grid_template_areas": null,
            "grid_template_columns": null,
            "grid_template_rows": null,
            "height": null,
            "justify_content": null,
            "justify_items": null,
            "left": null,
            "margin": null,
            "max_height": null,
            "max_width": null,
            "min_height": null,
            "min_width": null,
            "object_fit": null,
            "object_position": null,
            "order": null,
            "overflow": null,
            "overflow_x": null,
            "overflow_y": null,
            "padding": null,
            "right": null,
            "top": null,
            "visibility": null,
            "width": null
          }
        },
        "d6402ec7edb24e76a59f79431540a94a": {
          "model_module": "@jupyter-widgets/controls",
          "model_name": "ProgressStyleModel",
          "model_module_version": "1.5.0",
          "state": {
            "_model_module": "@jupyter-widgets/controls",
            "_model_module_version": "1.5.0",
            "_model_name": "ProgressStyleModel",
            "_view_count": null,
            "_view_module": "@jupyter-widgets/base",
            "_view_module_version": "1.2.0",
            "_view_name": "StyleView",
            "bar_color": null,
            "description_width": ""
          }
        },
        "22e1a7f128fa488bbbbb51a9d68923b5": {
          "model_module": "@jupyter-widgets/base",
          "model_name": "LayoutModel",
          "model_module_version": "1.2.0",
          "state": {
            "_model_module": "@jupyter-widgets/base",
            "_model_module_version": "1.2.0",
            "_model_name": "LayoutModel",
            "_view_count": null,
            "_view_module": "@jupyter-widgets/base",
            "_view_module_version": "1.2.0",
            "_view_name": "LayoutView",
            "align_content": null,
            "align_items": null,
            "align_self": null,
            "border": null,
            "bottom": null,
            "display": null,
            "flex": null,
            "flex_flow": null,
            "grid_area": null,
            "grid_auto_columns": null,
            "grid_auto_flow": null,
            "grid_auto_rows": null,
            "grid_column": null,
            "grid_gap": null,
            "grid_row": null,
            "grid_template_areas": null,
            "grid_template_columns": null,
            "grid_template_rows": null,
            "height": null,
            "justify_content": null,
            "justify_items": null,
            "left": null,
            "margin": null,
            "max_height": null,
            "max_width": null,
            "min_height": null,
            "min_width": null,
            "object_fit": null,
            "object_position": null,
            "order": null,
            "overflow": null,
            "overflow_x": null,
            "overflow_y": null,
            "padding": null,
            "right": null,
            "top": null,
            "visibility": null,
            "width": null
          }
        },
        "131607f203034b9f8b768e4801eb1614": {
          "model_module": "@jupyter-widgets/controls",
          "model_name": "DescriptionStyleModel",
          "model_module_version": "1.5.0",
          "state": {
            "_model_module": "@jupyter-widgets/controls",
            "_model_module_version": "1.5.0",
            "_model_name": "DescriptionStyleModel",
            "_view_count": null,
            "_view_module": "@jupyter-widgets/base",
            "_view_module_version": "1.2.0",
            "_view_name": "StyleView",
            "description_width": ""
          }
        },
        "02bfcb6c285e43bbb49daa9ce1b9d90a": {
          "model_module": "@jupyter-widgets/controls",
          "model_name": "HBoxModel",
          "model_module_version": "1.5.0",
          "state": {
            "_dom_classes": [],
            "_model_module": "@jupyter-widgets/controls",
            "_model_module_version": "1.5.0",
            "_model_name": "HBoxModel",
            "_view_count": null,
            "_view_module": "@jupyter-widgets/controls",
            "_view_module_version": "1.5.0",
            "_view_name": "HBoxView",
            "box_style": "",
            "children": [
              "IPY_MODEL_8fabc1173b3a497b9567ad24aa7aea0a",
              "IPY_MODEL_341468e84b5c4e2187eb0a5e7e763eb0",
              "IPY_MODEL_020507f0b714409097a5a91fb3158878"
            ],
            "layout": "IPY_MODEL_bcdb4e8a289047b681adf3c876be2fb2"
          }
        },
        "8fabc1173b3a497b9567ad24aa7aea0a": {
          "model_module": "@jupyter-widgets/controls",
          "model_name": "HTMLModel",
          "model_module_version": "1.5.0",
          "state": {
            "_dom_classes": [],
            "_model_module": "@jupyter-widgets/controls",
            "_model_module_version": "1.5.0",
            "_model_name": "HTMLModel",
            "_view_count": null,
            "_view_module": "@jupyter-widgets/controls",
            "_view_module_version": "1.5.0",
            "_view_name": "HTMLView",
            "description": "",
            "description_tooltip": null,
            "layout": "IPY_MODEL_3e819bd3808d4dda9fa9e2f77bb02f82",
            "placeholder": "​",
            "style": "IPY_MODEL_b19b94a24b814a54b757cec6172a59c6",
            "value": " 33%"
          }
        },
        "341468e84b5c4e2187eb0a5e7e763eb0": {
          "model_module": "@jupyter-widgets/controls",
          "model_name": "FloatProgressModel",
          "model_module_version": "1.5.0",
          "state": {
            "_dom_classes": [],
            "_model_module": "@jupyter-widgets/controls",
            "_model_module_version": "1.5.0",
            "_model_name": "FloatProgressModel",
            "_view_count": null,
            "_view_module": "@jupyter-widgets/controls",
            "_view_module_version": "1.5.0",
            "_view_name": "ProgressView",
            "bar_style": "",
            "description": "",
            "description_tooltip": null,
            "layout": "IPY_MODEL_0ee48c84f29c4411b7dd80c1b803645e",
            "max": 9537,
            "min": 0,
            "orientation": "horizontal",
            "style": "IPY_MODEL_38bed9eaed1d4627b2171d1521ac111f",
            "value": 3187
          }
        },
        "020507f0b714409097a5a91fb3158878": {
          "model_module": "@jupyter-widgets/controls",
          "model_name": "HTMLModel",
          "model_module_version": "1.5.0",
          "state": {
            "_dom_classes": [],
            "_model_module": "@jupyter-widgets/controls",
            "_model_module_version": "1.5.0",
            "_model_name": "HTMLModel",
            "_view_count": null,
            "_view_module": "@jupyter-widgets/controls",
            "_view_module_version": "1.5.0",
            "_view_name": "HTMLView",
            "description": "",
            "description_tooltip": null,
            "layout": "IPY_MODEL_63547fd063cf4f7b8cdf1f669d4c941b",
            "placeholder": "​",
            "style": "IPY_MODEL_c18b25477dec48d896a9444e4ec79de2",
            "value": " 3187/9537 [07:28&lt;12:10,  8.69it/s]"
          }
        },
        "bcdb4e8a289047b681adf3c876be2fb2": {
          "model_module": "@jupyter-widgets/base",
          "model_name": "LayoutModel",
          "model_module_version": "1.2.0",
          "state": {
            "_model_module": "@jupyter-widgets/base",
            "_model_module_version": "1.2.0",
            "_model_name": "LayoutModel",
            "_view_count": null,
            "_view_module": "@jupyter-widgets/base",
            "_view_module_version": "1.2.0",
            "_view_name": "LayoutView",
            "align_content": null,
            "align_items": null,
            "align_self": null,
            "border": null,
            "bottom": null,
            "display": null,
            "flex": null,
            "flex_flow": null,
            "grid_area": null,
            "grid_auto_columns": null,
            "grid_auto_flow": null,
            "grid_auto_rows": null,
            "grid_column": null,
            "grid_gap": null,
            "grid_row": null,
            "grid_template_areas": null,
            "grid_template_columns": null,
            "grid_template_rows": null,
            "height": null,
            "justify_content": null,
            "justify_items": null,
            "left": null,
            "margin": null,
            "max_height": null,
            "max_width": null,
            "min_height": null,
            "min_width": null,
            "object_fit": null,
            "object_position": null,
            "order": null,
            "overflow": null,
            "overflow_x": null,
            "overflow_y": null,
            "padding": null,
            "right": null,
            "top": null,
            "visibility": null,
            "width": null
          }
        },
        "3e819bd3808d4dda9fa9e2f77bb02f82": {
          "model_module": "@jupyter-widgets/base",
          "model_name": "LayoutModel",
          "model_module_version": "1.2.0",
          "state": {
            "_model_module": "@jupyter-widgets/base",
            "_model_module_version": "1.2.0",
            "_model_name": "LayoutModel",
            "_view_count": null,
            "_view_module": "@jupyter-widgets/base",
            "_view_module_version": "1.2.0",
            "_view_name": "LayoutView",
            "align_content": null,
            "align_items": null,
            "align_self": null,
            "border": null,
            "bottom": null,
            "display": null,
            "flex": null,
            "flex_flow": null,
            "grid_area": null,
            "grid_auto_columns": null,
            "grid_auto_flow": null,
            "grid_auto_rows": null,
            "grid_column": null,
            "grid_gap": null,
            "grid_row": null,
            "grid_template_areas": null,
            "grid_template_columns": null,
            "grid_template_rows": null,
            "height": null,
            "justify_content": null,
            "justify_items": null,
            "left": null,
            "margin": null,
            "max_height": null,
            "max_width": null,
            "min_height": null,
            "min_width": null,
            "object_fit": null,
            "object_position": null,
            "order": null,
            "overflow": null,
            "overflow_x": null,
            "overflow_y": null,
            "padding": null,
            "right": null,
            "top": null,
            "visibility": null,
            "width": null
          }
        },
        "b19b94a24b814a54b757cec6172a59c6": {
          "model_module": "@jupyter-widgets/controls",
          "model_name": "DescriptionStyleModel",
          "model_module_version": "1.5.0",
          "state": {
            "_model_module": "@jupyter-widgets/controls",
            "_model_module_version": "1.5.0",
            "_model_name": "DescriptionStyleModel",
            "_view_count": null,
            "_view_module": "@jupyter-widgets/base",
            "_view_module_version": "1.2.0",
            "_view_name": "StyleView",
            "description_width": ""
          }
        },
        "0ee48c84f29c4411b7dd80c1b803645e": {
          "model_module": "@jupyter-widgets/base",
          "model_name": "LayoutModel",
          "model_module_version": "1.2.0",
          "state": {
            "_model_module": "@jupyter-widgets/base",
            "_model_module_version": "1.2.0",
            "_model_name": "LayoutModel",
            "_view_count": null,
            "_view_module": "@jupyter-widgets/base",
            "_view_module_version": "1.2.0",
            "_view_name": "LayoutView",
            "align_content": null,
            "align_items": null,
            "align_self": null,
            "border": null,
            "bottom": null,
            "display": null,
            "flex": null,
            "flex_flow": null,
            "grid_area": null,
            "grid_auto_columns": null,
            "grid_auto_flow": null,
            "grid_auto_rows": null,
            "grid_column": null,
            "grid_gap": null,
            "grid_row": null,
            "grid_template_areas": null,
            "grid_template_columns": null,
            "grid_template_rows": null,
            "height": null,
            "justify_content": null,
            "justify_items": null,
            "left": null,
            "margin": null,
            "max_height": null,
            "max_width": null,
            "min_height": null,
            "min_width": null,
            "object_fit": null,
            "object_position": null,
            "order": null,
            "overflow": null,
            "overflow_x": null,
            "overflow_y": null,
            "padding": null,
            "right": null,
            "top": null,
            "visibility": null,
            "width": null
          }
        },
        "38bed9eaed1d4627b2171d1521ac111f": {
          "model_module": "@jupyter-widgets/controls",
          "model_name": "ProgressStyleModel",
          "model_module_version": "1.5.0",
          "state": {
            "_model_module": "@jupyter-widgets/controls",
            "_model_module_version": "1.5.0",
            "_model_name": "ProgressStyleModel",
            "_view_count": null,
            "_view_module": "@jupyter-widgets/base",
            "_view_module_version": "1.2.0",
            "_view_name": "StyleView",
            "bar_color": null,
            "description_width": ""
          }
        },
        "63547fd063cf4f7b8cdf1f669d4c941b": {
          "model_module": "@jupyter-widgets/base",
          "model_name": "LayoutModel",
          "model_module_version": "1.2.0",
          "state": {
            "_model_module": "@jupyter-widgets/base",
            "_model_module_version": "1.2.0",
            "_model_name": "LayoutModel",
            "_view_count": null,
            "_view_module": "@jupyter-widgets/base",
            "_view_module_version": "1.2.0",
            "_view_name": "LayoutView",
            "align_content": null,
            "align_items": null,
            "align_self": null,
            "border": null,
            "bottom": null,
            "display": null,
            "flex": null,
            "flex_flow": null,
            "grid_area": null,
            "grid_auto_columns": null,
            "grid_auto_flow": null,
            "grid_auto_rows": null,
            "grid_column": null,
            "grid_gap": null,
            "grid_row": null,
            "grid_template_areas": null,
            "grid_template_columns": null,
            "grid_template_rows": null,
            "height": null,
            "justify_content": null,
            "justify_items": null,
            "left": null,
            "margin": null,
            "max_height": null,
            "max_width": null,
            "min_height": null,
            "min_width": null,
            "object_fit": null,
            "object_position": null,
            "order": null,
            "overflow": null,
            "overflow_x": null,
            "overflow_y": null,
            "padding": null,
            "right": null,
            "top": null,
            "visibility": null,
            "width": null
          }
        },
        "c18b25477dec48d896a9444e4ec79de2": {
          "model_module": "@jupyter-widgets/controls",
          "model_name": "DescriptionStyleModel",
          "model_module_version": "1.5.0",
          "state": {
            "_model_module": "@jupyter-widgets/controls",
            "_model_module_version": "1.5.0",
            "_model_name": "DescriptionStyleModel",
            "_view_count": null,
            "_view_module": "@jupyter-widgets/base",
            "_view_module_version": "1.2.0",
            "_view_name": "StyleView",
            "description_width": ""
          }
        },
        "f5747bcc4a7e4deca05bfa8592299063": {
          "model_module": "@jupyter-widgets/controls",
          "model_name": "HBoxModel",
          "model_module_version": "1.5.0",
          "state": {
            "_dom_classes": [],
            "_model_module": "@jupyter-widgets/controls",
            "_model_module_version": "1.5.0",
            "_model_name": "HBoxModel",
            "_view_count": null,
            "_view_module": "@jupyter-widgets/controls",
            "_view_module_version": "1.5.0",
            "_view_name": "HBoxView",
            "box_style": "",
            "children": [
              "IPY_MODEL_40d3bbfc9cca4be6a960fadce01e8029",
              "IPY_MODEL_390b08bb0adc4bd2b10954c4cfe0af58",
              "IPY_MODEL_c29035f2727943bdac5f94332791a8b6"
            ],
            "layout": "IPY_MODEL_371c54ee218b4ce09bacde65a3eb65a2"
          }
        },
        "40d3bbfc9cca4be6a960fadce01e8029": {
          "model_module": "@jupyter-widgets/controls",
          "model_name": "HTMLModel",
          "model_module_version": "1.5.0",
          "state": {
            "_dom_classes": [],
            "_model_module": "@jupyter-widgets/controls",
            "_model_module_version": "1.5.0",
            "_model_name": "HTMLModel",
            "_view_count": null,
            "_view_module": "@jupyter-widgets/controls",
            "_view_module_version": "1.5.0",
            "_view_name": "HTMLView",
            "description": "",
            "description_tooltip": null,
            "layout": "IPY_MODEL_dc6ccab4da184ab9bbfe633af1d5b793",
            "placeholder": "​",
            "style": "IPY_MODEL_d882d44a1a5b40daa0fda9c9fbc4cf65",
            "value": "100%"
          }
        },
        "390b08bb0adc4bd2b10954c4cfe0af58": {
          "model_module": "@jupyter-widgets/controls",
          "model_name": "FloatProgressModel",
          "model_module_version": "1.5.0",
          "state": {
            "_dom_classes": [],
            "_model_module": "@jupyter-widgets/controls",
            "_model_module_version": "1.5.0",
            "_model_name": "FloatProgressModel",
            "_view_count": null,
            "_view_module": "@jupyter-widgets/controls",
            "_view_module_version": "1.5.0",
            "_view_name": "ProgressView",
            "bar_style": "success",
            "description": "",
            "description_tooltip": null,
            "layout": "IPY_MODEL_63e9c72d4a994cf2af286f6cbbd81107",
            "max": 3339,
            "min": 0,
            "orientation": "horizontal",
            "style": "IPY_MODEL_fef857f77b82485a834249b4ded18b1f",
            "value": 3339
          }
        },
        "c29035f2727943bdac5f94332791a8b6": {
          "model_module": "@jupyter-widgets/controls",
          "model_name": "HTMLModel",
          "model_module_version": "1.5.0",
          "state": {
            "_dom_classes": [],
            "_model_module": "@jupyter-widgets/controls",
            "_model_module_version": "1.5.0",
            "_model_name": "HTMLModel",
            "_view_count": null,
            "_view_module": "@jupyter-widgets/controls",
            "_view_module_version": "1.5.0",
            "_view_name": "HTMLView",
            "description": "",
            "description_tooltip": null,
            "layout": "IPY_MODEL_6b11c53d3a3f4bb58c969c9e8beb8768",
            "placeholder": "​",
            "style": "IPY_MODEL_28565ad8b81a47e9a30147ccb9fd94b0",
            "value": " 3339/3339 [03:18&lt;00:00, 16.51it/s]"
          }
        },
        "371c54ee218b4ce09bacde65a3eb65a2": {
          "model_module": "@jupyter-widgets/base",
          "model_name": "LayoutModel",
          "model_module_version": "1.2.0",
          "state": {
            "_model_module": "@jupyter-widgets/base",
            "_model_module_version": "1.2.0",
            "_model_name": "LayoutModel",
            "_view_count": null,
            "_view_module": "@jupyter-widgets/base",
            "_view_module_version": "1.2.0",
            "_view_name": "LayoutView",
            "align_content": null,
            "align_items": null,
            "align_self": null,
            "border": null,
            "bottom": null,
            "display": null,
            "flex": null,
            "flex_flow": null,
            "grid_area": null,
            "grid_auto_columns": null,
            "grid_auto_flow": null,
            "grid_auto_rows": null,
            "grid_column": null,
            "grid_gap": null,
            "grid_row": null,
            "grid_template_areas": null,
            "grid_template_columns": null,
            "grid_template_rows": null,
            "height": null,
            "justify_content": null,
            "justify_items": null,
            "left": null,
            "margin": null,
            "max_height": null,
            "max_width": null,
            "min_height": null,
            "min_width": null,
            "object_fit": null,
            "object_position": null,
            "order": null,
            "overflow": null,
            "overflow_x": null,
            "overflow_y": null,
            "padding": null,
            "right": null,
            "top": null,
            "visibility": null,
            "width": null
          }
        },
        "dc6ccab4da184ab9bbfe633af1d5b793": {
          "model_module": "@jupyter-widgets/base",
          "model_name": "LayoutModel",
          "model_module_version": "1.2.0",
          "state": {
            "_model_module": "@jupyter-widgets/base",
            "_model_module_version": "1.2.0",
            "_model_name": "LayoutModel",
            "_view_count": null,
            "_view_module": "@jupyter-widgets/base",
            "_view_module_version": "1.2.0",
            "_view_name": "LayoutView",
            "align_content": null,
            "align_items": null,
            "align_self": null,
            "border": null,
            "bottom": null,
            "display": null,
            "flex": null,
            "flex_flow": null,
            "grid_area": null,
            "grid_auto_columns": null,
            "grid_auto_flow": null,
            "grid_auto_rows": null,
            "grid_column": null,
            "grid_gap": null,
            "grid_row": null,
            "grid_template_areas": null,
            "grid_template_columns": null,
            "grid_template_rows": null,
            "height": null,
            "justify_content": null,
            "justify_items": null,
            "left": null,
            "margin": null,
            "max_height": null,
            "max_width": null,
            "min_height": null,
            "min_width": null,
            "object_fit": null,
            "object_position": null,
            "order": null,
            "overflow": null,
            "overflow_x": null,
            "overflow_y": null,
            "padding": null,
            "right": null,
            "top": null,
            "visibility": null,
            "width": null
          }
        },
        "d882d44a1a5b40daa0fda9c9fbc4cf65": {
          "model_module": "@jupyter-widgets/controls",
          "model_name": "DescriptionStyleModel",
          "model_module_version": "1.5.0",
          "state": {
            "_model_module": "@jupyter-widgets/controls",
            "_model_module_version": "1.5.0",
            "_model_name": "DescriptionStyleModel",
            "_view_count": null,
            "_view_module": "@jupyter-widgets/base",
            "_view_module_version": "1.2.0",
            "_view_name": "StyleView",
            "description_width": ""
          }
        },
        "63e9c72d4a994cf2af286f6cbbd81107": {
          "model_module": "@jupyter-widgets/base",
          "model_name": "LayoutModel",
          "model_module_version": "1.2.0",
          "state": {
            "_model_module": "@jupyter-widgets/base",
            "_model_module_version": "1.2.0",
            "_model_name": "LayoutModel",
            "_view_count": null,
            "_view_module": "@jupyter-widgets/base",
            "_view_module_version": "1.2.0",
            "_view_name": "LayoutView",
            "align_content": null,
            "align_items": null,
            "align_self": null,
            "border": null,
            "bottom": null,
            "display": null,
            "flex": null,
            "flex_flow": null,
            "grid_area": null,
            "grid_auto_columns": null,
            "grid_auto_flow": null,
            "grid_auto_rows": null,
            "grid_column": null,
            "grid_gap": null,
            "grid_row": null,
            "grid_template_areas": null,
            "grid_template_columns": null,
            "grid_template_rows": null,
            "height": null,
            "justify_content": null,
            "justify_items": null,
            "left": null,
            "margin": null,
            "max_height": null,
            "max_width": null,
            "min_height": null,
            "min_width": null,
            "object_fit": null,
            "object_position": null,
            "order": null,
            "overflow": null,
            "overflow_x": null,
            "overflow_y": null,
            "padding": null,
            "right": null,
            "top": null,
            "visibility": null,
            "width": null
          }
        },
        "fef857f77b82485a834249b4ded18b1f": {
          "model_module": "@jupyter-widgets/controls",
          "model_name": "ProgressStyleModel",
          "model_module_version": "1.5.0",
          "state": {
            "_model_module": "@jupyter-widgets/controls",
            "_model_module_version": "1.5.0",
            "_model_name": "ProgressStyleModel",
            "_view_count": null,
            "_view_module": "@jupyter-widgets/base",
            "_view_module_version": "1.2.0",
            "_view_name": "StyleView",
            "bar_color": null,
            "description_width": ""
          }
        },
        "6b11c53d3a3f4bb58c969c9e8beb8768": {
          "model_module": "@jupyter-widgets/base",
          "model_name": "LayoutModel",
          "model_module_version": "1.2.0",
          "state": {
            "_model_module": "@jupyter-widgets/base",
            "_model_module_version": "1.2.0",
            "_model_name": "LayoutModel",
            "_view_count": null,
            "_view_module": "@jupyter-widgets/base",
            "_view_module_version": "1.2.0",
            "_view_name": "LayoutView",
            "align_content": null,
            "align_items": null,
            "align_self": null,
            "border": null,
            "bottom": null,
            "display": null,
            "flex": null,
            "flex_flow": null,
            "grid_area": null,
            "grid_auto_columns": null,
            "grid_auto_flow": null,
            "grid_auto_rows": null,
            "grid_column": null,
            "grid_gap": null,
            "grid_row": null,
            "grid_template_areas": null,
            "grid_template_columns": null,
            "grid_template_rows": null,
            "height": null,
            "justify_content": null,
            "justify_items": null,
            "left": null,
            "margin": null,
            "max_height": null,
            "max_width": null,
            "min_height": null,
            "min_width": null,
            "object_fit": null,
            "object_position": null,
            "order": null,
            "overflow": null,
            "overflow_x": null,
            "overflow_y": null,
            "padding": null,
            "right": null,
            "top": null,
            "visibility": null,
            "width": null
          }
        },
        "28565ad8b81a47e9a30147ccb9fd94b0": {
          "model_module": "@jupyter-widgets/controls",
          "model_name": "DescriptionStyleModel",
          "model_module_version": "1.5.0",
          "state": {
            "_model_module": "@jupyter-widgets/controls",
            "_model_module_version": "1.5.0",
            "_model_name": "DescriptionStyleModel",
            "_view_count": null,
            "_view_module": "@jupyter-widgets/base",
            "_view_module_version": "1.2.0",
            "_view_name": "StyleView",
            "description_width": ""
          }
        },
        "679173c9ed2640f49f7c4ade22866d37": {
          "model_module": "@jupyter-widgets/controls",
          "model_name": "HBoxModel",
          "model_module_version": "1.5.0",
          "state": {
            "_dom_classes": [],
            "_model_module": "@jupyter-widgets/controls",
            "_model_module_version": "1.5.0",
            "_model_name": "HBoxModel",
            "_view_count": null,
            "_view_module": "@jupyter-widgets/controls",
            "_view_module_version": "1.5.0",
            "_view_name": "HBoxView",
            "box_style": "",
            "children": [
              "IPY_MODEL_ca00cfbac8af41609bcab7c9fc763bfc",
              "IPY_MODEL_a3c7221d313948beb0bba01dc02784b3",
              "IPY_MODEL_7af6dd78ee1c49aa9d054aaa2d49939f"
            ],
            "layout": "IPY_MODEL_ff60de3367ad4f3f8e798b8a73caccb2"
          }
        },
        "ca00cfbac8af41609bcab7c9fc763bfc": {
          "model_module": "@jupyter-widgets/controls",
          "model_name": "HTMLModel",
          "model_module_version": "1.5.0",
          "state": {
            "_dom_classes": [],
            "_model_module": "@jupyter-widgets/controls",
            "_model_module_version": "1.5.0",
            "_model_name": "HTMLModel",
            "_view_count": null,
            "_view_module": "@jupyter-widgets/controls",
            "_view_module_version": "1.5.0",
            "_view_name": "HTMLView",
            "description": "",
            "description_tooltip": null,
            "layout": "IPY_MODEL_946bfedaa574486b9623be29c6649c41",
            "placeholder": "​",
            "style": "IPY_MODEL_95d02ed0f28f4b14b73a95f09e255698",
            "value": "Downloading: 100%"
          }
        },
        "a3c7221d313948beb0bba01dc02784b3": {
          "model_module": "@jupyter-widgets/controls",
          "model_name": "FloatProgressModel",
          "model_module_version": "1.5.0",
          "state": {
            "_dom_classes": [],
            "_model_module": "@jupyter-widgets/controls",
            "_model_module_version": "1.5.0",
            "_model_name": "FloatProgressModel",
            "_view_count": null,
            "_view_module": "@jupyter-widgets/controls",
            "_view_module_version": "1.5.0",
            "_view_name": "ProgressView",
            "bar_style": "success",
            "description": "",
            "description_tooltip": null,
            "layout": "IPY_MODEL_66a6001cef6c4d9586ba0d02a6103298",
            "max": 1923,
            "min": 0,
            "orientation": "horizontal",
            "style": "IPY_MODEL_200a882546c749fb8ee33d8d090e7879",
            "value": 1923
          }
        },
        "7af6dd78ee1c49aa9d054aaa2d49939f": {
          "model_module": "@jupyter-widgets/controls",
          "model_name": "HTMLModel",
          "model_module_version": "1.5.0",
          "state": {
            "_dom_classes": [],
            "_model_module": "@jupyter-widgets/controls",
            "_model_module_version": "1.5.0",
            "_model_name": "HTMLModel",
            "_view_count": null,
            "_view_module": "@jupyter-widgets/controls",
            "_view_module_version": "1.5.0",
            "_view_name": "HTMLView",
            "description": "",
            "description_tooltip": null,
            "layout": "IPY_MODEL_5171e7342f5644589e83f8b9824fe82a",
            "placeholder": "​",
            "style": "IPY_MODEL_c4816711f4e345a48e50a802e0ba6e24",
            "value": " 1.88k/1.88k [00:00&lt;00:00, 77.2kB/s]"
          }
        },
        "ff60de3367ad4f3f8e798b8a73caccb2": {
          "model_module": "@jupyter-widgets/base",
          "model_name": "LayoutModel",
          "model_module_version": "1.2.0",
          "state": {
            "_model_module": "@jupyter-widgets/base",
            "_model_module_version": "1.2.0",
            "_model_name": "LayoutModel",
            "_view_count": null,
            "_view_module": "@jupyter-widgets/base",
            "_view_module_version": "1.2.0",
            "_view_name": "LayoutView",
            "align_content": null,
            "align_items": null,
            "align_self": null,
            "border": null,
            "bottom": null,
            "display": null,
            "flex": null,
            "flex_flow": null,
            "grid_area": null,
            "grid_auto_columns": null,
            "grid_auto_flow": null,
            "grid_auto_rows": null,
            "grid_column": null,
            "grid_gap": null,
            "grid_row": null,
            "grid_template_areas": null,
            "grid_template_columns": null,
            "grid_template_rows": null,
            "height": null,
            "justify_content": null,
            "justify_items": null,
            "left": null,
            "margin": null,
            "max_height": null,
            "max_width": null,
            "min_height": null,
            "min_width": null,
            "object_fit": null,
            "object_position": null,
            "order": null,
            "overflow": null,
            "overflow_x": null,
            "overflow_y": null,
            "padding": null,
            "right": null,
            "top": null,
            "visibility": null,
            "width": null
          }
        },
        "946bfedaa574486b9623be29c6649c41": {
          "model_module": "@jupyter-widgets/base",
          "model_name": "LayoutModel",
          "model_module_version": "1.2.0",
          "state": {
            "_model_module": "@jupyter-widgets/base",
            "_model_module_version": "1.2.0",
            "_model_name": "LayoutModel",
            "_view_count": null,
            "_view_module": "@jupyter-widgets/base",
            "_view_module_version": "1.2.0",
            "_view_name": "LayoutView",
            "align_content": null,
            "align_items": null,
            "align_self": null,
            "border": null,
            "bottom": null,
            "display": null,
            "flex": null,
            "flex_flow": null,
            "grid_area": null,
            "grid_auto_columns": null,
            "grid_auto_flow": null,
            "grid_auto_rows": null,
            "grid_column": null,
            "grid_gap": null,
            "grid_row": null,
            "grid_template_areas": null,
            "grid_template_columns": null,
            "grid_template_rows": null,
            "height": null,
            "justify_content": null,
            "justify_items": null,
            "left": null,
            "margin": null,
            "max_height": null,
            "max_width": null,
            "min_height": null,
            "min_width": null,
            "object_fit": null,
            "object_position": null,
            "order": null,
            "overflow": null,
            "overflow_x": null,
            "overflow_y": null,
            "padding": null,
            "right": null,
            "top": null,
            "visibility": null,
            "width": null
          }
        },
        "95d02ed0f28f4b14b73a95f09e255698": {
          "model_module": "@jupyter-widgets/controls",
          "model_name": "DescriptionStyleModel",
          "model_module_version": "1.5.0",
          "state": {
            "_model_module": "@jupyter-widgets/controls",
            "_model_module_version": "1.5.0",
            "_model_name": "DescriptionStyleModel",
            "_view_count": null,
            "_view_module": "@jupyter-widgets/base",
            "_view_module_version": "1.2.0",
            "_view_name": "StyleView",
            "description_width": ""
          }
        },
        "66a6001cef6c4d9586ba0d02a6103298": {
          "model_module": "@jupyter-widgets/base",
          "model_name": "LayoutModel",
          "model_module_version": "1.2.0",
          "state": {
            "_model_module": "@jupyter-widgets/base",
            "_model_module_version": "1.2.0",
            "_model_name": "LayoutModel",
            "_view_count": null,
            "_view_module": "@jupyter-widgets/base",
            "_view_module_version": "1.2.0",
            "_view_name": "LayoutView",
            "align_content": null,
            "align_items": null,
            "align_self": null,
            "border": null,
            "bottom": null,
            "display": null,
            "flex": null,
            "flex_flow": null,
            "grid_area": null,
            "grid_auto_columns": null,
            "grid_auto_flow": null,
            "grid_auto_rows": null,
            "grid_column": null,
            "grid_gap": null,
            "grid_row": null,
            "grid_template_areas": null,
            "grid_template_columns": null,
            "grid_template_rows": null,
            "height": null,
            "justify_content": null,
            "justify_items": null,
            "left": null,
            "margin": null,
            "max_height": null,
            "max_width": null,
            "min_height": null,
            "min_width": null,
            "object_fit": null,
            "object_position": null,
            "order": null,
            "overflow": null,
            "overflow_x": null,
            "overflow_y": null,
            "padding": null,
            "right": null,
            "top": null,
            "visibility": null,
            "width": null
          }
        },
        "200a882546c749fb8ee33d8d090e7879": {
          "model_module": "@jupyter-widgets/controls",
          "model_name": "ProgressStyleModel",
          "model_module_version": "1.5.0",
          "state": {
            "_model_module": "@jupyter-widgets/controls",
            "_model_module_version": "1.5.0",
            "_model_name": "ProgressStyleModel",
            "_view_count": null,
            "_view_module": "@jupyter-widgets/base",
            "_view_module_version": "1.2.0",
            "_view_name": "StyleView",
            "bar_color": null,
            "description_width": ""
          }
        },
        "5171e7342f5644589e83f8b9824fe82a": {
          "model_module": "@jupyter-widgets/base",
          "model_name": "LayoutModel",
          "model_module_version": "1.2.0",
          "state": {
            "_model_module": "@jupyter-widgets/base",
            "_model_module_version": "1.2.0",
            "_model_name": "LayoutModel",
            "_view_count": null,
            "_view_module": "@jupyter-widgets/base",
            "_view_module_version": "1.2.0",
            "_view_name": "LayoutView",
            "align_content": null,
            "align_items": null,
            "align_self": null,
            "border": null,
            "bottom": null,
            "display": null,
            "flex": null,
            "flex_flow": null,
            "grid_area": null,
            "grid_auto_columns": null,
            "grid_auto_flow": null,
            "grid_auto_rows": null,
            "grid_column": null,
            "grid_gap": null,
            "grid_row": null,
            "grid_template_areas": null,
            "grid_template_columns": null,
            "grid_template_rows": null,
            "height": null,
            "justify_content": null,
            "justify_items": null,
            "left": null,
            "margin": null,
            "max_height": null,
            "max_width": null,
            "min_height": null,
            "min_width": null,
            "object_fit": null,
            "object_position": null,
            "order": null,
            "overflow": null,
            "overflow_x": null,
            "overflow_y": null,
            "padding": null,
            "right": null,
            "top": null,
            "visibility": null,
            "width": null
          }
        },
        "c4816711f4e345a48e50a802e0ba6e24": {
          "model_module": "@jupyter-widgets/controls",
          "model_name": "DescriptionStyleModel",
          "model_module_version": "1.5.0",
          "state": {
            "_model_module": "@jupyter-widgets/controls",
            "_model_module_version": "1.5.0",
            "_model_name": "DescriptionStyleModel",
            "_view_count": null,
            "_view_module": "@jupyter-widgets/base",
            "_view_module_version": "1.2.0",
            "_view_name": "StyleView",
            "description_width": ""
          }
        },
        "1304f5d572004be58c25391954870c57": {
          "model_module": "@jupyter-widgets/controls",
          "model_name": "HBoxModel",
          "model_module_version": "1.5.0",
          "state": {
            "_dom_classes": [],
            "_model_module": "@jupyter-widgets/controls",
            "_model_module_version": "1.5.0",
            "_model_name": "HBoxModel",
            "_view_count": null,
            "_view_module": "@jupyter-widgets/controls",
            "_view_module_version": "1.5.0",
            "_view_name": "HBoxView",
            "box_style": "",
            "children": [
              "IPY_MODEL_0ebed74bf01c41499e84b4bc31ecc370",
              "IPY_MODEL_5ef8d8af54f0454f8368e95bb2a38bca",
              "IPY_MODEL_00ea55f725634bfba831e71344ff8907"
            ],
            "layout": "IPY_MODEL_e1a9c493e2d6477cabbcf58bdfd3877e"
          }
        },
        "0ebed74bf01c41499e84b4bc31ecc370": {
          "model_module": "@jupyter-widgets/controls",
          "model_name": "HTMLModel",
          "model_module_version": "1.5.0",
          "state": {
            "_dom_classes": [],
            "_model_module": "@jupyter-widgets/controls",
            "_model_module_version": "1.5.0",
            "_model_name": "HTMLModel",
            "_view_count": null,
            "_view_module": "@jupyter-widgets/controls",
            "_view_module_version": "1.5.0",
            "_view_name": "HTMLView",
            "description": "",
            "description_tooltip": null,
            "layout": "IPY_MODEL_a71eebeab8f34e3099cacd2dfe7f2bf2",
            "placeholder": "​",
            "style": "IPY_MODEL_5c5a409817cc4dd9be4bc706f9b9dc7e",
            "value": "Downloading: 100%"
          }
        },
        "5ef8d8af54f0454f8368e95bb2a38bca": {
          "model_module": "@jupyter-widgets/controls",
          "model_name": "FloatProgressModel",
          "model_module_version": "1.5.0",
          "state": {
            "_dom_classes": [],
            "_model_module": "@jupyter-widgets/controls",
            "_model_module_version": "1.5.0",
            "_model_name": "FloatProgressModel",
            "_view_count": null,
            "_view_module": "@jupyter-widgets/controls",
            "_view_module_version": "1.5.0",
            "_view_name": "ProgressView",
            "bar_style": "success",
            "description": "",
            "description_tooltip": null,
            "layout": "IPY_MODEL_fb664c91c1694f31a213186b870ad1cc",
            "max": 1351493,
            "min": 0,
            "orientation": "horizontal",
            "style": "IPY_MODEL_daf6b9e973094243b763683b1e812a6d",
            "value": 1351493
          }
        },
        "00ea55f725634bfba831e71344ff8907": {
          "model_module": "@jupyter-widgets/controls",
          "model_name": "HTMLModel",
          "model_module_version": "1.5.0",
          "state": {
            "_dom_classes": [],
            "_model_module": "@jupyter-widgets/controls",
            "_model_module_version": "1.5.0",
            "_model_name": "HTMLModel",
            "_view_count": null,
            "_view_module": "@jupyter-widgets/controls",
            "_view_module_version": "1.5.0",
            "_view_name": "HTMLView",
            "description": "",
            "description_tooltip": null,
            "layout": "IPY_MODEL_f04d33fe67d440c0ae4d3e08102a068f",
            "placeholder": "​",
            "style": "IPY_MODEL_55d3e43fda55445e8f8da5735bdb6bfd",
            "value": " 1.29M/1.29M [00:00&lt;00:00, 2.21MB/s]"
          }
        },
        "e1a9c493e2d6477cabbcf58bdfd3877e": {
          "model_module": "@jupyter-widgets/base",
          "model_name": "LayoutModel",
          "model_module_version": "1.2.0",
          "state": {
            "_model_module": "@jupyter-widgets/base",
            "_model_module_version": "1.2.0",
            "_model_name": "LayoutModel",
            "_view_count": null,
            "_view_module": "@jupyter-widgets/base",
            "_view_module_version": "1.2.0",
            "_view_name": "LayoutView",
            "align_content": null,
            "align_items": null,
            "align_self": null,
            "border": null,
            "bottom": null,
            "display": null,
            "flex": null,
            "flex_flow": null,
            "grid_area": null,
            "grid_auto_columns": null,
            "grid_auto_flow": null,
            "grid_auto_rows": null,
            "grid_column": null,
            "grid_gap": null,
            "grid_row": null,
            "grid_template_areas": null,
            "grid_template_columns": null,
            "grid_template_rows": null,
            "height": null,
            "justify_content": null,
            "justify_items": null,
            "left": null,
            "margin": null,
            "max_height": null,
            "max_width": null,
            "min_height": null,
            "min_width": null,
            "object_fit": null,
            "object_position": null,
            "order": null,
            "overflow": null,
            "overflow_x": null,
            "overflow_y": null,
            "padding": null,
            "right": null,
            "top": null,
            "visibility": null,
            "width": null
          }
        },
        "a71eebeab8f34e3099cacd2dfe7f2bf2": {
          "model_module": "@jupyter-widgets/base",
          "model_name": "LayoutModel",
          "model_module_version": "1.2.0",
          "state": {
            "_model_module": "@jupyter-widgets/base",
            "_model_module_version": "1.2.0",
            "_model_name": "LayoutModel",
            "_view_count": null,
            "_view_module": "@jupyter-widgets/base",
            "_view_module_version": "1.2.0",
            "_view_name": "LayoutView",
            "align_content": null,
            "align_items": null,
            "align_self": null,
            "border": null,
            "bottom": null,
            "display": null,
            "flex": null,
            "flex_flow": null,
            "grid_area": null,
            "grid_auto_columns": null,
            "grid_auto_flow": null,
            "grid_auto_rows": null,
            "grid_column": null,
            "grid_gap": null,
            "grid_row": null,
            "grid_template_areas": null,
            "grid_template_columns": null,
            "grid_template_rows": null,
            "height": null,
            "justify_content": null,
            "justify_items": null,
            "left": null,
            "margin": null,
            "max_height": null,
            "max_width": null,
            "min_height": null,
            "min_width": null,
            "object_fit": null,
            "object_position": null,
            "order": null,
            "overflow": null,
            "overflow_x": null,
            "overflow_y": null,
            "padding": null,
            "right": null,
            "top": null,
            "visibility": null,
            "width": null
          }
        },
        "5c5a409817cc4dd9be4bc706f9b9dc7e": {
          "model_module": "@jupyter-widgets/controls",
          "model_name": "DescriptionStyleModel",
          "model_module_version": "1.5.0",
          "state": {
            "_model_module": "@jupyter-widgets/controls",
            "_model_module_version": "1.5.0",
            "_model_name": "DescriptionStyleModel",
            "_view_count": null,
            "_view_module": "@jupyter-widgets/base",
            "_view_module_version": "1.2.0",
            "_view_name": "StyleView",
            "description_width": ""
          }
        },
        "fb664c91c1694f31a213186b870ad1cc": {
          "model_module": "@jupyter-widgets/base",
          "model_name": "LayoutModel",
          "model_module_version": "1.2.0",
          "state": {
            "_model_module": "@jupyter-widgets/base",
            "_model_module_version": "1.2.0",
            "_model_name": "LayoutModel",
            "_view_count": null,
            "_view_module": "@jupyter-widgets/base",
            "_view_module_version": "1.2.0",
            "_view_name": "LayoutView",
            "align_content": null,
            "align_items": null,
            "align_self": null,
            "border": null,
            "bottom": null,
            "display": null,
            "flex": null,
            "flex_flow": null,
            "grid_area": null,
            "grid_auto_columns": null,
            "grid_auto_flow": null,
            "grid_auto_rows": null,
            "grid_column": null,
            "grid_gap": null,
            "grid_row": null,
            "grid_template_areas": null,
            "grid_template_columns": null,
            "grid_template_rows": null,
            "height": null,
            "justify_content": null,
            "justify_items": null,
            "left": null,
            "margin": null,
            "max_height": null,
            "max_width": null,
            "min_height": null,
            "min_width": null,
            "object_fit": null,
            "object_position": null,
            "order": null,
            "overflow": null,
            "overflow_x": null,
            "overflow_y": null,
            "padding": null,
            "right": null,
            "top": null,
            "visibility": null,
            "width": null
          }
        },
        "daf6b9e973094243b763683b1e812a6d": {
          "model_module": "@jupyter-widgets/controls",
          "model_name": "ProgressStyleModel",
          "model_module_version": "1.5.0",
          "state": {
            "_model_module": "@jupyter-widgets/controls",
            "_model_module_version": "1.5.0",
            "_model_name": "ProgressStyleModel",
            "_view_count": null,
            "_view_module": "@jupyter-widgets/base",
            "_view_module_version": "1.2.0",
            "_view_name": "StyleView",
            "bar_color": null,
            "description_width": ""
          }
        },
        "f04d33fe67d440c0ae4d3e08102a068f": {
          "model_module": "@jupyter-widgets/base",
          "model_name": "LayoutModel",
          "model_module_version": "1.2.0",
          "state": {
            "_model_module": "@jupyter-widgets/base",
            "_model_module_version": "1.2.0",
            "_model_name": "LayoutModel",
            "_view_count": null,
            "_view_module": "@jupyter-widgets/base",
            "_view_module_version": "1.2.0",
            "_view_name": "LayoutView",
            "align_content": null,
            "align_items": null,
            "align_self": null,
            "border": null,
            "bottom": null,
            "display": null,
            "flex": null,
            "flex_flow": null,
            "grid_area": null,
            "grid_auto_columns": null,
            "grid_auto_flow": null,
            "grid_auto_rows": null,
            "grid_column": null,
            "grid_gap": null,
            "grid_row": null,
            "grid_template_areas": null,
            "grid_template_columns": null,
            "grid_template_rows": null,
            "height": null,
            "justify_content": null,
            "justify_items": null,
            "left": null,
            "margin": null,
            "max_height": null,
            "max_width": null,
            "min_height": null,
            "min_width": null,
            "object_fit": null,
            "object_position": null,
            "order": null,
            "overflow": null,
            "overflow_x": null,
            "overflow_y": null,
            "padding": null,
            "right": null,
            "top": null,
            "visibility": null,
            "width": null
          }
        },
        "55d3e43fda55445e8f8da5735bdb6bfd": {
          "model_module": "@jupyter-widgets/controls",
          "model_name": "DescriptionStyleModel",
          "model_module_version": "1.5.0",
          "state": {
            "_model_module": "@jupyter-widgets/controls",
            "_model_module_version": "1.5.0",
            "_model_name": "DescriptionStyleModel",
            "_view_count": null,
            "_view_module": "@jupyter-widgets/base",
            "_view_module_version": "1.2.0",
            "_view_name": "StyleView",
            "description_width": ""
          }
        },
        "e351a9b0e48a44e2b204fd300a834b41": {
          "model_module": "@jupyter-widgets/controls",
          "model_name": "HBoxModel",
          "model_module_version": "1.5.0",
          "state": {
            "_dom_classes": [],
            "_model_module": "@jupyter-widgets/controls",
            "_model_module_version": "1.5.0",
            "_model_name": "HBoxModel",
            "_view_count": null,
            "_view_module": "@jupyter-widgets/controls",
            "_view_module_version": "1.5.0",
            "_view_name": "HBoxView",
            "box_style": "",
            "children": [
              "IPY_MODEL_eaa8fd2f42f64f67a0e931c4ff0198b3",
              "IPY_MODEL_c974de6c34454664ad6b1ed6360a088a",
              "IPY_MODEL_3ef8194f40424a93bed1f442edbe69f7"
            ],
            "layout": "IPY_MODEL_ee183ecb32a149cf9105b85a5639772b"
          }
        },
        "eaa8fd2f42f64f67a0e931c4ff0198b3": {
          "model_module": "@jupyter-widgets/controls",
          "model_name": "HTMLModel",
          "model_module_version": "1.5.0",
          "state": {
            "_dom_classes": [],
            "_model_module": "@jupyter-widgets/controls",
            "_model_module_version": "1.5.0",
            "_model_name": "HTMLModel",
            "_view_count": null,
            "_view_module": "@jupyter-widgets/controls",
            "_view_module_version": "1.5.0",
            "_view_name": "HTMLView",
            "description": "",
            "description_tooltip": null,
            "layout": "IPY_MODEL_8dc325b93023426590975717326984e9",
            "placeholder": "​",
            "style": "IPY_MODEL_8c44e5b5338c45a68b1150fe19ce6456",
            "value": "Downloading: 100%"
          }
        },
        "c974de6c34454664ad6b1ed6360a088a": {
          "model_module": "@jupyter-widgets/controls",
          "model_name": "FloatProgressModel",
          "model_module_version": "1.5.0",
          "state": {
            "_dom_classes": [],
            "_model_module": "@jupyter-widgets/controls",
            "_model_module_version": "1.5.0",
            "_model_name": "FloatProgressModel",
            "_view_count": null,
            "_view_module": "@jupyter-widgets/controls",
            "_view_module_version": "1.5.0",
            "_view_name": "ProgressView",
            "bar_style": "success",
            "description": "",
            "description_tooltip": null,
            "layout": "IPY_MODEL_b1d80f881aa44b2090e6293294b7b4b8",
            "max": 1786,
            "min": 0,
            "orientation": "horizontal",
            "style": "IPY_MODEL_b7ebd14c216249608b80faaa472cc3bb",
            "value": 1786
          }
        },
        "3ef8194f40424a93bed1f442edbe69f7": {
          "model_module": "@jupyter-widgets/controls",
          "model_name": "HTMLModel",
          "model_module_version": "1.5.0",
          "state": {
            "_dom_classes": [],
            "_model_module": "@jupyter-widgets/controls",
            "_model_module_version": "1.5.0",
            "_model_name": "HTMLModel",
            "_view_count": null,
            "_view_module": "@jupyter-widgets/controls",
            "_view_module_version": "1.5.0",
            "_view_name": "HTMLView",
            "description": "",
            "description_tooltip": null,
            "layout": "IPY_MODEL_2ebbfda1335947f48971b79f223813b7",
            "placeholder": "​",
            "style": "IPY_MODEL_ee11492500df44349b8be50802efb6b3",
            "value": " 1.74k/1.74k [00:00&lt;00:00, 67.1kB/s]"
          }
        },
        "ee183ecb32a149cf9105b85a5639772b": {
          "model_module": "@jupyter-widgets/base",
          "model_name": "LayoutModel",
          "model_module_version": "1.2.0",
          "state": {
            "_model_module": "@jupyter-widgets/base",
            "_model_module_version": "1.2.0",
            "_model_name": "LayoutModel",
            "_view_count": null,
            "_view_module": "@jupyter-widgets/base",
            "_view_module_version": "1.2.0",
            "_view_name": "LayoutView",
            "align_content": null,
            "align_items": null,
            "align_self": null,
            "border": null,
            "bottom": null,
            "display": null,
            "flex": null,
            "flex_flow": null,
            "grid_area": null,
            "grid_auto_columns": null,
            "grid_auto_flow": null,
            "grid_auto_rows": null,
            "grid_column": null,
            "grid_gap": null,
            "grid_row": null,
            "grid_template_areas": null,
            "grid_template_columns": null,
            "grid_template_rows": null,
            "height": null,
            "justify_content": null,
            "justify_items": null,
            "left": null,
            "margin": null,
            "max_height": null,
            "max_width": null,
            "min_height": null,
            "min_width": null,
            "object_fit": null,
            "object_position": null,
            "order": null,
            "overflow": null,
            "overflow_x": null,
            "overflow_y": null,
            "padding": null,
            "right": null,
            "top": null,
            "visibility": null,
            "width": null
          }
        },
        "8dc325b93023426590975717326984e9": {
          "model_module": "@jupyter-widgets/base",
          "model_name": "LayoutModel",
          "model_module_version": "1.2.0",
          "state": {
            "_model_module": "@jupyter-widgets/base",
            "_model_module_version": "1.2.0",
            "_model_name": "LayoutModel",
            "_view_count": null,
            "_view_module": "@jupyter-widgets/base",
            "_view_module_version": "1.2.0",
            "_view_name": "LayoutView",
            "align_content": null,
            "align_items": null,
            "align_self": null,
            "border": null,
            "bottom": null,
            "display": null,
            "flex": null,
            "flex_flow": null,
            "grid_area": null,
            "grid_auto_columns": null,
            "grid_auto_flow": null,
            "grid_auto_rows": null,
            "grid_column": null,
            "grid_gap": null,
            "grid_row": null,
            "grid_template_areas": null,
            "grid_template_columns": null,
            "grid_template_rows": null,
            "height": null,
            "justify_content": null,
            "justify_items": null,
            "left": null,
            "margin": null,
            "max_height": null,
            "max_width": null,
            "min_height": null,
            "min_width": null,
            "object_fit": null,
            "object_position": null,
            "order": null,
            "overflow": null,
            "overflow_x": null,
            "overflow_y": null,
            "padding": null,
            "right": null,
            "top": null,
            "visibility": null,
            "width": null
          }
        },
        "8c44e5b5338c45a68b1150fe19ce6456": {
          "model_module": "@jupyter-widgets/controls",
          "model_name": "DescriptionStyleModel",
          "model_module_version": "1.5.0",
          "state": {
            "_model_module": "@jupyter-widgets/controls",
            "_model_module_version": "1.5.0",
            "_model_name": "DescriptionStyleModel",
            "_view_count": null,
            "_view_module": "@jupyter-widgets/base",
            "_view_module_version": "1.2.0",
            "_view_name": "StyleView",
            "description_width": ""
          }
        },
        "b1d80f881aa44b2090e6293294b7b4b8": {
          "model_module": "@jupyter-widgets/base",
          "model_name": "LayoutModel",
          "model_module_version": "1.2.0",
          "state": {
            "_model_module": "@jupyter-widgets/base",
            "_model_module_version": "1.2.0",
            "_model_name": "LayoutModel",
            "_view_count": null,
            "_view_module": "@jupyter-widgets/base",
            "_view_module_version": "1.2.0",
            "_view_name": "LayoutView",
            "align_content": null,
            "align_items": null,
            "align_self": null,
            "border": null,
            "bottom": null,
            "display": null,
            "flex": null,
            "flex_flow": null,
            "grid_area": null,
            "grid_auto_columns": null,
            "grid_auto_flow": null,
            "grid_auto_rows": null,
            "grid_column": null,
            "grid_gap": null,
            "grid_row": null,
            "grid_template_areas": null,
            "grid_template_columns": null,
            "grid_template_rows": null,
            "height": null,
            "justify_content": null,
            "justify_items": null,
            "left": null,
            "margin": null,
            "max_height": null,
            "max_width": null,
            "min_height": null,
            "min_width": null,
            "object_fit": null,
            "object_position": null,
            "order": null,
            "overflow": null,
            "overflow_x": null,
            "overflow_y": null,
            "padding": null,
            "right": null,
            "top": null,
            "visibility": null,
            "width": null
          }
        },
        "b7ebd14c216249608b80faaa472cc3bb": {
          "model_module": "@jupyter-widgets/controls",
          "model_name": "ProgressStyleModel",
          "model_module_version": "1.5.0",
          "state": {
            "_model_module": "@jupyter-widgets/controls",
            "_model_module_version": "1.5.0",
            "_model_name": "ProgressStyleModel",
            "_view_count": null,
            "_view_module": "@jupyter-widgets/base",
            "_view_module_version": "1.2.0",
            "_view_name": "StyleView",
            "bar_color": null,
            "description_width": ""
          }
        },
        "2ebbfda1335947f48971b79f223813b7": {
          "model_module": "@jupyter-widgets/base",
          "model_name": "LayoutModel",
          "model_module_version": "1.2.0",
          "state": {
            "_model_module": "@jupyter-widgets/base",
            "_model_module_version": "1.2.0",
            "_model_name": "LayoutModel",
            "_view_count": null,
            "_view_module": "@jupyter-widgets/base",
            "_view_module_version": "1.2.0",
            "_view_name": "LayoutView",
            "align_content": null,
            "align_items": null,
            "align_self": null,
            "border": null,
            "bottom": null,
            "display": null,
            "flex": null,
            "flex_flow": null,
            "grid_area": null,
            "grid_auto_columns": null,
            "grid_auto_flow": null,
            "grid_auto_rows": null,
            "grid_column": null,
            "grid_gap": null,
            "grid_row": null,
            "grid_template_areas": null,
            "grid_template_columns": null,
            "grid_template_rows": null,
            "height": null,
            "justify_content": null,
            "justify_items": null,
            "left": null,
            "margin": null,
            "max_height": null,
            "max_width": null,
            "min_height": null,
            "min_width": null,
            "object_fit": null,
            "object_position": null,
            "order": null,
            "overflow": null,
            "overflow_x": null,
            "overflow_y": null,
            "padding": null,
            "right": null,
            "top": null,
            "visibility": null,
            "width": null
          }
        },
        "ee11492500df44349b8be50802efb6b3": {
          "model_module": "@jupyter-widgets/controls",
          "model_name": "DescriptionStyleModel",
          "model_module_version": "1.5.0",
          "state": {
            "_model_module": "@jupyter-widgets/controls",
            "_model_module_version": "1.5.0",
            "_model_name": "DescriptionStyleModel",
            "_view_count": null,
            "_view_module": "@jupyter-widgets/base",
            "_view_module_version": "1.2.0",
            "_view_name": "StyleView",
            "description_width": ""
          }
        },
        "a8a8e8d5b8234320b7638e430d8d10d7": {
          "model_module": "@jupyter-widgets/controls",
          "model_name": "HBoxModel",
          "model_module_version": "1.5.0",
          "state": {
            "_dom_classes": [],
            "_model_module": "@jupyter-widgets/controls",
            "_model_module_version": "1.5.0",
            "_model_name": "HBoxModel",
            "_view_count": null,
            "_view_module": "@jupyter-widgets/controls",
            "_view_module_version": "1.5.0",
            "_view_name": "HBoxView",
            "box_style": "",
            "children": [
              "IPY_MODEL_f2f91610fbd14aebb957392e4f026e24",
              "IPY_MODEL_a599f7654bdc4e98b8559581e668207f",
              "IPY_MODEL_fba0fa20a7ac4cf8b40ac442ecde4822"
            ],
            "layout": "IPY_MODEL_6ad3b586e3dc4da898092e115641cff7"
          }
        },
        "f2f91610fbd14aebb957392e4f026e24": {
          "model_module": "@jupyter-widgets/controls",
          "model_name": "HTMLModel",
          "model_module_version": "1.5.0",
          "state": {
            "_dom_classes": [],
            "_model_module": "@jupyter-widgets/controls",
            "_model_module_version": "1.5.0",
            "_model_name": "HTMLModel",
            "_view_count": null,
            "_view_module": "@jupyter-widgets/controls",
            "_view_module_version": "1.5.0",
            "_view_name": "HTMLView",
            "description": "",
            "description_tooltip": null,
            "layout": "IPY_MODEL_1610e4f243ea44b3a06ef7891160c0e6",
            "placeholder": "​",
            "style": "IPY_MODEL_060f510c79ab494c8b0f43c0d9636b5d",
            "value": "Downloading: 100%"
          }
        },
        "a599f7654bdc4e98b8559581e668207f": {
          "model_module": "@jupyter-widgets/controls",
          "model_name": "FloatProgressModel",
          "model_module_version": "1.5.0",
          "state": {
            "_dom_classes": [],
            "_model_module": "@jupyter-widgets/controls",
            "_model_module_version": "1.5.0",
            "_model_name": "FloatProgressModel",
            "_view_count": null,
            "_view_module": "@jupyter-widgets/controls",
            "_view_module_version": "1.5.0",
            "_view_name": "ProgressView",
            "bar_style": "success",
            "description": "",
            "description_tooltip": null,
            "layout": "IPY_MODEL_74abdc36f0b74d02a3f3d24332e3ab68",
            "max": 804,
            "min": 0,
            "orientation": "horizontal",
            "style": "IPY_MODEL_3c6d663feaa44f5e98fc09e0a6419b27",
            "value": 804
          }
        },
        "fba0fa20a7ac4cf8b40ac442ecde4822": {
          "model_module": "@jupyter-widgets/controls",
          "model_name": "HTMLModel",
          "model_module_version": "1.5.0",
          "state": {
            "_dom_classes": [],
            "_model_module": "@jupyter-widgets/controls",
            "_model_module_version": "1.5.0",
            "_model_name": "HTMLModel",
            "_view_count": null,
            "_view_module": "@jupyter-widgets/controls",
            "_view_module_version": "1.5.0",
            "_view_name": "HTMLView",
            "description": "",
            "description_tooltip": null,
            "layout": "IPY_MODEL_a17cf0958d864e9588a24590db74b33c",
            "placeholder": "​",
            "style": "IPY_MODEL_30a0edf742f84219a799be77d6514bac",
            "value": " 804/804 [00:00&lt;00:00, 33.6kB/s]"
          }
        },
        "6ad3b586e3dc4da898092e115641cff7": {
          "model_module": "@jupyter-widgets/base",
          "model_name": "LayoutModel",
          "model_module_version": "1.2.0",
          "state": {
            "_model_module": "@jupyter-widgets/base",
            "_model_module_version": "1.2.0",
            "_model_name": "LayoutModel",
            "_view_count": null,
            "_view_module": "@jupyter-widgets/base",
            "_view_module_version": "1.2.0",
            "_view_name": "LayoutView",
            "align_content": null,
            "align_items": null,
            "align_self": null,
            "border": null,
            "bottom": null,
            "display": null,
            "flex": null,
            "flex_flow": null,
            "grid_area": null,
            "grid_auto_columns": null,
            "grid_auto_flow": null,
            "grid_auto_rows": null,
            "grid_column": null,
            "grid_gap": null,
            "grid_row": null,
            "grid_template_areas": null,
            "grid_template_columns": null,
            "grid_template_rows": null,
            "height": null,
            "justify_content": null,
            "justify_items": null,
            "left": null,
            "margin": null,
            "max_height": null,
            "max_width": null,
            "min_height": null,
            "min_width": null,
            "object_fit": null,
            "object_position": null,
            "order": null,
            "overflow": null,
            "overflow_x": null,
            "overflow_y": null,
            "padding": null,
            "right": null,
            "top": null,
            "visibility": null,
            "width": null
          }
        },
        "1610e4f243ea44b3a06ef7891160c0e6": {
          "model_module": "@jupyter-widgets/base",
          "model_name": "LayoutModel",
          "model_module_version": "1.2.0",
          "state": {
            "_model_module": "@jupyter-widgets/base",
            "_model_module_version": "1.2.0",
            "_model_name": "LayoutModel",
            "_view_count": null,
            "_view_module": "@jupyter-widgets/base",
            "_view_module_version": "1.2.0",
            "_view_name": "LayoutView",
            "align_content": null,
            "align_items": null,
            "align_self": null,
            "border": null,
            "bottom": null,
            "display": null,
            "flex": null,
            "flex_flow": null,
            "grid_area": null,
            "grid_auto_columns": null,
            "grid_auto_flow": null,
            "grid_auto_rows": null,
            "grid_column": null,
            "grid_gap": null,
            "grid_row": null,
            "grid_template_areas": null,
            "grid_template_columns": null,
            "grid_template_rows": null,
            "height": null,
            "justify_content": null,
            "justify_items": null,
            "left": null,
            "margin": null,
            "max_height": null,
            "max_width": null,
            "min_height": null,
            "min_width": null,
            "object_fit": null,
            "object_position": null,
            "order": null,
            "overflow": null,
            "overflow_x": null,
            "overflow_y": null,
            "padding": null,
            "right": null,
            "top": null,
            "visibility": null,
            "width": null
          }
        },
        "060f510c79ab494c8b0f43c0d9636b5d": {
          "model_module": "@jupyter-widgets/controls",
          "model_name": "DescriptionStyleModel",
          "model_module_version": "1.5.0",
          "state": {
            "_model_module": "@jupyter-widgets/controls",
            "_model_module_version": "1.5.0",
            "_model_name": "DescriptionStyleModel",
            "_view_count": null,
            "_view_module": "@jupyter-widgets/base",
            "_view_module_version": "1.2.0",
            "_view_name": "StyleView",
            "description_width": ""
          }
        },
        "74abdc36f0b74d02a3f3d24332e3ab68": {
          "model_module": "@jupyter-widgets/base",
          "model_name": "LayoutModel",
          "model_module_version": "1.2.0",
          "state": {
            "_model_module": "@jupyter-widgets/base",
            "_model_module_version": "1.2.0",
            "_model_name": "LayoutModel",
            "_view_count": null,
            "_view_module": "@jupyter-widgets/base",
            "_view_module_version": "1.2.0",
            "_view_name": "LayoutView",
            "align_content": null,
            "align_items": null,
            "align_self": null,
            "border": null,
            "bottom": null,
            "display": null,
            "flex": null,
            "flex_flow": null,
            "grid_area": null,
            "grid_auto_columns": null,
            "grid_auto_flow": null,
            "grid_auto_rows": null,
            "grid_column": null,
            "grid_gap": null,
            "grid_row": null,
            "grid_template_areas": null,
            "grid_template_columns": null,
            "grid_template_rows": null,
            "height": null,
            "justify_content": null,
            "justify_items": null,
            "left": null,
            "margin": null,
            "max_height": null,
            "max_width": null,
            "min_height": null,
            "min_width": null,
            "object_fit": null,
            "object_position": null,
            "order": null,
            "overflow": null,
            "overflow_x": null,
            "overflow_y": null,
            "padding": null,
            "right": null,
            "top": null,
            "visibility": null,
            "width": null
          }
        },
        "3c6d663feaa44f5e98fc09e0a6419b27": {
          "model_module": "@jupyter-widgets/controls",
          "model_name": "ProgressStyleModel",
          "model_module_version": "1.5.0",
          "state": {
            "_model_module": "@jupyter-widgets/controls",
            "_model_module_version": "1.5.0",
            "_model_name": "ProgressStyleModel",
            "_view_count": null,
            "_view_module": "@jupyter-widgets/base",
            "_view_module_version": "1.2.0",
            "_view_name": "StyleView",
            "bar_color": null,
            "description_width": ""
          }
        },
        "a17cf0958d864e9588a24590db74b33c": {
          "model_module": "@jupyter-widgets/base",
          "model_name": "LayoutModel",
          "model_module_version": "1.2.0",
          "state": {
            "_model_module": "@jupyter-widgets/base",
            "_model_module_version": "1.2.0",
            "_model_name": "LayoutModel",
            "_view_count": null,
            "_view_module": "@jupyter-widgets/base",
            "_view_module_version": "1.2.0",
            "_view_name": "LayoutView",
            "align_content": null,
            "align_items": null,
            "align_self": null,
            "border": null,
            "bottom": null,
            "display": null,
            "flex": null,
            "flex_flow": null,
            "grid_area": null,
            "grid_auto_columns": null,
            "grid_auto_flow": null,
            "grid_auto_rows": null,
            "grid_column": null,
            "grid_gap": null,
            "grid_row": null,
            "grid_template_areas": null,
            "grid_template_columns": null,
            "grid_template_rows": null,
            "height": null,
            "justify_content": null,
            "justify_items": null,
            "left": null,
            "margin": null,
            "max_height": null,
            "max_width": null,
            "min_height": null,
            "min_width": null,
            "object_fit": null,
            "object_position": null,
            "order": null,
            "overflow": null,
            "overflow_x": null,
            "overflow_y": null,
            "padding": null,
            "right": null,
            "top": null,
            "visibility": null,
            "width": null
          }
        },
        "30a0edf742f84219a799be77d6514bac": {
          "model_module": "@jupyter-widgets/controls",
          "model_name": "DescriptionStyleModel",
          "model_module_version": "1.5.0",
          "state": {
            "_model_module": "@jupyter-widgets/controls",
            "_model_module_version": "1.5.0",
            "_model_name": "DescriptionStyleModel",
            "_view_count": null,
            "_view_module": "@jupyter-widgets/base",
            "_view_module_version": "1.2.0",
            "_view_name": "StyleView",
            "description_width": ""
          }
        },
        "b39aa20d368d48a683c160d8fb05105f": {
          "model_module": "@jupyter-widgets/controls",
          "model_name": "HBoxModel",
          "model_module_version": "1.5.0",
          "state": {
            "_dom_classes": [],
            "_model_module": "@jupyter-widgets/controls",
            "_model_module_version": "1.5.0",
            "_model_name": "HBoxModel",
            "_view_count": null,
            "_view_module": "@jupyter-widgets/controls",
            "_view_module_version": "1.5.0",
            "_view_name": "HBoxView",
            "box_style": "",
            "children": [
              "IPY_MODEL_ee8c86ff1cf943ac900c2e40af783f0a",
              "IPY_MODEL_cb49578a7f94422bb31f6cbf7c98a191",
              "IPY_MODEL_b27bb4f815d74fa98e4ebcf9c7837b08"
            ],
            "layout": "IPY_MODEL_3e62787b38214114a6884e26e6b2cc93"
          }
        },
        "ee8c86ff1cf943ac900c2e40af783f0a": {
          "model_module": "@jupyter-widgets/controls",
          "model_name": "HTMLModel",
          "model_module_version": "1.5.0",
          "state": {
            "_dom_classes": [],
            "_model_module": "@jupyter-widgets/controls",
            "_model_module_version": "1.5.0",
            "_model_name": "HTMLModel",
            "_view_count": null,
            "_view_module": "@jupyter-widgets/controls",
            "_view_module_version": "1.5.0",
            "_view_name": "HTMLView",
            "description": "",
            "description_tooltip": null,
            "layout": "IPY_MODEL_a7f6b8195596486ca67146463dcad600",
            "placeholder": "​",
            "style": "IPY_MODEL_44b5bca940cc45c4abc4a4e18dd70440",
            "value": "Downloading: 100%"
          }
        },
        "cb49578a7f94422bb31f6cbf7c98a191": {
          "model_module": "@jupyter-widgets/controls",
          "model_name": "FloatProgressModel",
          "model_module_version": "1.5.0",
          "state": {
            "_dom_classes": [],
            "_model_module": "@jupyter-widgets/controls",
            "_model_module_version": "1.5.0",
            "_model_name": "FloatProgressModel",
            "_view_count": null,
            "_view_module": "@jupyter-widgets/controls",
            "_view_module_version": "1.5.0",
            "_view_name": "ProgressView",
            "bar_style": "success",
            "description": "",
            "description_tooltip": null,
            "layout": "IPY_MODEL_e36a33ab0d0842ff9727c473ec3231fb",
            "max": 891727295,
            "min": 0,
            "orientation": "horizontal",
            "style": "IPY_MODEL_916700b8164a46a6b3b85337f30eb47e",
            "value": 891727295
          }
        },
        "b27bb4f815d74fa98e4ebcf9c7837b08": {
          "model_module": "@jupyter-widgets/controls",
          "model_name": "HTMLModel",
          "model_module_version": "1.5.0",
          "state": {
            "_dom_classes": [],
            "_model_module": "@jupyter-widgets/controls",
            "_model_module_version": "1.5.0",
            "_model_name": "HTMLModel",
            "_view_count": null,
            "_view_module": "@jupyter-widgets/controls",
            "_view_module_version": "1.5.0",
            "_view_name": "HTMLView",
            "description": "",
            "description_tooltip": null,
            "layout": "IPY_MODEL_830880c40b184261b0489cb526b1c14a",
            "placeholder": "​",
            "style": "IPY_MODEL_56d6b36b5a9e4a10b718afb4be8c7fbd",
            "value": " 850M/850M [00:22&lt;00:00, 41.1MB/s]"
          }
        },
        "3e62787b38214114a6884e26e6b2cc93": {
          "model_module": "@jupyter-widgets/base",
          "model_name": "LayoutModel",
          "model_module_version": "1.2.0",
          "state": {
            "_model_module": "@jupyter-widgets/base",
            "_model_module_version": "1.2.0",
            "_model_name": "LayoutModel",
            "_view_count": null,
            "_view_module": "@jupyter-widgets/base",
            "_view_module_version": "1.2.0",
            "_view_name": "LayoutView",
            "align_content": null,
            "align_items": null,
            "align_self": null,
            "border": null,
            "bottom": null,
            "display": null,
            "flex": null,
            "flex_flow": null,
            "grid_area": null,
            "grid_auto_columns": null,
            "grid_auto_flow": null,
            "grid_auto_rows": null,
            "grid_column": null,
            "grid_gap": null,
            "grid_row": null,
            "grid_template_areas": null,
            "grid_template_columns": null,
            "grid_template_rows": null,
            "height": null,
            "justify_content": null,
            "justify_items": null,
            "left": null,
            "margin": null,
            "max_height": null,
            "max_width": null,
            "min_height": null,
            "min_width": null,
            "object_fit": null,
            "object_position": null,
            "order": null,
            "overflow": null,
            "overflow_x": null,
            "overflow_y": null,
            "padding": null,
            "right": null,
            "top": null,
            "visibility": null,
            "width": null
          }
        },
        "a7f6b8195596486ca67146463dcad600": {
          "model_module": "@jupyter-widgets/base",
          "model_name": "LayoutModel",
          "model_module_version": "1.2.0",
          "state": {
            "_model_module": "@jupyter-widgets/base",
            "_model_module_version": "1.2.0",
            "_model_name": "LayoutModel",
            "_view_count": null,
            "_view_module": "@jupyter-widgets/base",
            "_view_module_version": "1.2.0",
            "_view_name": "LayoutView",
            "align_content": null,
            "align_items": null,
            "align_self": null,
            "border": null,
            "bottom": null,
            "display": null,
            "flex": null,
            "flex_flow": null,
            "grid_area": null,
            "grid_auto_columns": null,
            "grid_auto_flow": null,
            "grid_auto_rows": null,
            "grid_column": null,
            "grid_gap": null,
            "grid_row": null,
            "grid_template_areas": null,
            "grid_template_columns": null,
            "grid_template_rows": null,
            "height": null,
            "justify_content": null,
            "justify_items": null,
            "left": null,
            "margin": null,
            "max_height": null,
            "max_width": null,
            "min_height": null,
            "min_width": null,
            "object_fit": null,
            "object_position": null,
            "order": null,
            "overflow": null,
            "overflow_x": null,
            "overflow_y": null,
            "padding": null,
            "right": null,
            "top": null,
            "visibility": null,
            "width": null
          }
        },
        "44b5bca940cc45c4abc4a4e18dd70440": {
          "model_module": "@jupyter-widgets/controls",
          "model_name": "DescriptionStyleModel",
          "model_module_version": "1.5.0",
          "state": {
            "_model_module": "@jupyter-widgets/controls",
            "_model_module_version": "1.5.0",
            "_model_name": "DescriptionStyleModel",
            "_view_count": null,
            "_view_module": "@jupyter-widgets/base",
            "_view_module_version": "1.2.0",
            "_view_name": "StyleView",
            "description_width": ""
          }
        },
        "e36a33ab0d0842ff9727c473ec3231fb": {
          "model_module": "@jupyter-widgets/base",
          "model_name": "LayoutModel",
          "model_module_version": "1.2.0",
          "state": {
            "_model_module": "@jupyter-widgets/base",
            "_model_module_version": "1.2.0",
            "_model_name": "LayoutModel",
            "_view_count": null,
            "_view_module": "@jupyter-widgets/base",
            "_view_module_version": "1.2.0",
            "_view_name": "LayoutView",
            "align_content": null,
            "align_items": null,
            "align_self": null,
            "border": null,
            "bottom": null,
            "display": null,
            "flex": null,
            "flex_flow": null,
            "grid_area": null,
            "grid_auto_columns": null,
            "grid_auto_flow": null,
            "grid_auto_rows": null,
            "grid_column": null,
            "grid_gap": null,
            "grid_row": null,
            "grid_template_areas": null,
            "grid_template_columns": null,
            "grid_template_rows": null,
            "height": null,
            "justify_content": null,
            "justify_items": null,
            "left": null,
            "margin": null,
            "max_height": null,
            "max_width": null,
            "min_height": null,
            "min_width": null,
            "object_fit": null,
            "object_position": null,
            "order": null,
            "overflow": null,
            "overflow_x": null,
            "overflow_y": null,
            "padding": null,
            "right": null,
            "top": null,
            "visibility": null,
            "width": null
          }
        },
        "916700b8164a46a6b3b85337f30eb47e": {
          "model_module": "@jupyter-widgets/controls",
          "model_name": "ProgressStyleModel",
          "model_module_version": "1.5.0",
          "state": {
            "_model_module": "@jupyter-widgets/controls",
            "_model_module_version": "1.5.0",
            "_model_name": "ProgressStyleModel",
            "_view_count": null,
            "_view_module": "@jupyter-widgets/base",
            "_view_module_version": "1.2.0",
            "_view_name": "StyleView",
            "bar_color": null,
            "description_width": ""
          }
        },
        "830880c40b184261b0489cb526b1c14a": {
          "model_module": "@jupyter-widgets/base",
          "model_name": "LayoutModel",
          "model_module_version": "1.2.0",
          "state": {
            "_model_module": "@jupyter-widgets/base",
            "_model_module_version": "1.2.0",
            "_model_name": "LayoutModel",
            "_view_count": null,
            "_view_module": "@jupyter-widgets/base",
            "_view_module_version": "1.2.0",
            "_view_name": "LayoutView",
            "align_content": null,
            "align_items": null,
            "align_self": null,
            "border": null,
            "bottom": null,
            "display": null,
            "flex": null,
            "flex_flow": null,
            "grid_area": null,
            "grid_auto_columns": null,
            "grid_auto_flow": null,
            "grid_auto_rows": null,
            "grid_column": null,
            "grid_gap": null,
            "grid_row": null,
            "grid_template_areas": null,
            "grid_template_columns": null,
            "grid_template_rows": null,
            "height": null,
            "justify_content": null,
            "justify_items": null,
            "left": null,
            "margin": null,
            "max_height": null,
            "max_width": null,
            "min_height": null,
            "min_width": null,
            "object_fit": null,
            "object_position": null,
            "order": null,
            "overflow": null,
            "overflow_x": null,
            "overflow_y": null,
            "padding": null,
            "right": null,
            "top": null,
            "visibility": null,
            "width": null
          }
        },
        "56d6b36b5a9e4a10b718afb4be8c7fbd": {
          "model_module": "@jupyter-widgets/controls",
          "model_name": "DescriptionStyleModel",
          "model_module_version": "1.5.0",
          "state": {
            "_model_module": "@jupyter-widgets/controls",
            "_model_module_version": "1.5.0",
            "_model_name": "DescriptionStyleModel",
            "_view_count": null,
            "_view_module": "@jupyter-widgets/base",
            "_view_module_version": "1.2.0",
            "_view_name": "StyleView",
            "description_width": ""
          }
        },
        "84d7cc5a55224acfa93d5c31aba17e89": {
          "model_module": "@jupyter-widgets/controls",
          "model_name": "HBoxModel",
          "model_module_version": "1.5.0",
          "state": {
            "_dom_classes": [],
            "_model_module": "@jupyter-widgets/controls",
            "_model_module_version": "1.5.0",
            "_model_name": "HBoxModel",
            "_view_count": null,
            "_view_module": "@jupyter-widgets/controls",
            "_view_module_version": "1.5.0",
            "_view_name": "HBoxView",
            "box_style": "",
            "children": [
              "IPY_MODEL_4802ae760e354800be0175f0cd5dd21e",
              "IPY_MODEL_7361cc4710ce4f2b8aa9f042add6bbda",
              "IPY_MODEL_7c5021c87d3146d3b8ece468def01002"
            ],
            "layout": "IPY_MODEL_b4edc43ec5c9462eadd74e6ebc1222df"
          }
        },
        "4802ae760e354800be0175f0cd5dd21e": {
          "model_module": "@jupyter-widgets/controls",
          "model_name": "HTMLModel",
          "model_module_version": "1.5.0",
          "state": {
            "_dom_classes": [],
            "_model_module": "@jupyter-widgets/controls",
            "_model_module_version": "1.5.0",
            "_model_name": "HTMLModel",
            "_view_count": null,
            "_view_module": "@jupyter-widgets/controls",
            "_view_module_version": "1.5.0",
            "_view_name": "HTMLView",
            "description": "",
            "description_tooltip": null,
            "layout": "IPY_MODEL_7bb690ca1a29432ba091d07f287d2b05",
            "placeholder": "​",
            "style": "IPY_MODEL_5eedcd6f57f24f5999e043361706c51f",
            "value": "100%"
          }
        },
        "7361cc4710ce4f2b8aa9f042add6bbda": {
          "model_module": "@jupyter-widgets/controls",
          "model_name": "FloatProgressModel",
          "model_module_version": "1.5.0",
          "state": {
            "_dom_classes": [],
            "_model_module": "@jupyter-widgets/controls",
            "_model_module_version": "1.5.0",
            "_model_name": "FloatProgressModel",
            "_view_count": null,
            "_view_module": "@jupyter-widgets/controls",
            "_view_module_version": "1.5.0",
            "_view_name": "ProgressView",
            "bar_style": "success",
            "description": "",
            "description_tooltip": null,
            "layout": "IPY_MODEL_4c4ef714ec184cf88e47dad2bd2dd698",
            "max": 1016,
            "min": 0,
            "orientation": "horizontal",
            "style": "IPY_MODEL_d72acb999d1f4b50ab97e29d20bcbf60",
            "value": 1016
          }
        },
        "7c5021c87d3146d3b8ece468def01002": {
          "model_module": "@jupyter-widgets/controls",
          "model_name": "HTMLModel",
          "model_module_version": "1.5.0",
          "state": {
            "_dom_classes": [],
            "_model_module": "@jupyter-widgets/controls",
            "_model_module_version": "1.5.0",
            "_model_name": "HTMLModel",
            "_view_count": null,
            "_view_module": "@jupyter-widgets/controls",
            "_view_module_version": "1.5.0",
            "_view_name": "HTMLView",
            "description": "",
            "description_tooltip": null,
            "layout": "IPY_MODEL_f40915037d74474fb5e5c280155fc682",
            "placeholder": "​",
            "style": "IPY_MODEL_8ebd5129cdfb4b349b7c3f20ae67bb54",
            "value": " 1016/1016 [6:09:22&lt;00:00, 22.62s/it]"
          }
        },
        "b4edc43ec5c9462eadd74e6ebc1222df": {
          "model_module": "@jupyter-widgets/base",
          "model_name": "LayoutModel",
          "model_module_version": "1.2.0",
          "state": {
            "_model_module": "@jupyter-widgets/base",
            "_model_module_version": "1.2.0",
            "_model_name": "LayoutModel",
            "_view_count": null,
            "_view_module": "@jupyter-widgets/base",
            "_view_module_version": "1.2.0",
            "_view_name": "LayoutView",
            "align_content": null,
            "align_items": null,
            "align_self": null,
            "border": null,
            "bottom": null,
            "display": null,
            "flex": null,
            "flex_flow": null,
            "grid_area": null,
            "grid_auto_columns": null,
            "grid_auto_flow": null,
            "grid_auto_rows": null,
            "grid_column": null,
            "grid_gap": null,
            "grid_row": null,
            "grid_template_areas": null,
            "grid_template_columns": null,
            "grid_template_rows": null,
            "height": null,
            "justify_content": null,
            "justify_items": null,
            "left": null,
            "margin": null,
            "max_height": null,
            "max_width": null,
            "min_height": null,
            "min_width": null,
            "object_fit": null,
            "object_position": null,
            "order": null,
            "overflow": null,
            "overflow_x": null,
            "overflow_y": null,
            "padding": null,
            "right": null,
            "top": null,
            "visibility": null,
            "width": null
          }
        },
        "7bb690ca1a29432ba091d07f287d2b05": {
          "model_module": "@jupyter-widgets/base",
          "model_name": "LayoutModel",
          "model_module_version": "1.2.0",
          "state": {
            "_model_module": "@jupyter-widgets/base",
            "_model_module_version": "1.2.0",
            "_model_name": "LayoutModel",
            "_view_count": null,
            "_view_module": "@jupyter-widgets/base",
            "_view_module_version": "1.2.0",
            "_view_name": "LayoutView",
            "align_content": null,
            "align_items": null,
            "align_self": null,
            "border": null,
            "bottom": null,
            "display": null,
            "flex": null,
            "flex_flow": null,
            "grid_area": null,
            "grid_auto_columns": null,
            "grid_auto_flow": null,
            "grid_auto_rows": null,
            "grid_column": null,
            "grid_gap": null,
            "grid_row": null,
            "grid_template_areas": null,
            "grid_template_columns": null,
            "grid_template_rows": null,
            "height": null,
            "justify_content": null,
            "justify_items": null,
            "left": null,
            "margin": null,
            "max_height": null,
            "max_width": null,
            "min_height": null,
            "min_width": null,
            "object_fit": null,
            "object_position": null,
            "order": null,
            "overflow": null,
            "overflow_x": null,
            "overflow_y": null,
            "padding": null,
            "right": null,
            "top": null,
            "visibility": null,
            "width": null
          }
        },
        "5eedcd6f57f24f5999e043361706c51f": {
          "model_module": "@jupyter-widgets/controls",
          "model_name": "DescriptionStyleModel",
          "model_module_version": "1.5.0",
          "state": {
            "_model_module": "@jupyter-widgets/controls",
            "_model_module_version": "1.5.0",
            "_model_name": "DescriptionStyleModel",
            "_view_count": null,
            "_view_module": "@jupyter-widgets/base",
            "_view_module_version": "1.2.0",
            "_view_name": "StyleView",
            "description_width": ""
          }
        },
        "4c4ef714ec184cf88e47dad2bd2dd698": {
          "model_module": "@jupyter-widgets/base",
          "model_name": "LayoutModel",
          "model_module_version": "1.2.0",
          "state": {
            "_model_module": "@jupyter-widgets/base",
            "_model_module_version": "1.2.0",
            "_model_name": "LayoutModel",
            "_view_count": null,
            "_view_module": "@jupyter-widgets/base",
            "_view_module_version": "1.2.0",
            "_view_name": "LayoutView",
            "align_content": null,
            "align_items": null,
            "align_self": null,
            "border": null,
            "bottom": null,
            "display": null,
            "flex": null,
            "flex_flow": null,
            "grid_area": null,
            "grid_auto_columns": null,
            "grid_auto_flow": null,
            "grid_auto_rows": null,
            "grid_column": null,
            "grid_gap": null,
            "grid_row": null,
            "grid_template_areas": null,
            "grid_template_columns": null,
            "grid_template_rows": null,
            "height": null,
            "justify_content": null,
            "justify_items": null,
            "left": null,
            "margin": null,
            "max_height": null,
            "max_width": null,
            "min_height": null,
            "min_width": null,
            "object_fit": null,
            "object_position": null,
            "order": null,
            "overflow": null,
            "overflow_x": null,
            "overflow_y": null,
            "padding": null,
            "right": null,
            "top": null,
            "visibility": null,
            "width": null
          }
        },
        "d72acb999d1f4b50ab97e29d20bcbf60": {
          "model_module": "@jupyter-widgets/controls",
          "model_name": "ProgressStyleModel",
          "model_module_version": "1.5.0",
          "state": {
            "_model_module": "@jupyter-widgets/controls",
            "_model_module_version": "1.5.0",
            "_model_name": "ProgressStyleModel",
            "_view_count": null,
            "_view_module": "@jupyter-widgets/base",
            "_view_module_version": "1.2.0",
            "_view_name": "StyleView",
            "bar_color": null,
            "description_width": ""
          }
        },
        "f40915037d74474fb5e5c280155fc682": {
          "model_module": "@jupyter-widgets/base",
          "model_name": "LayoutModel",
          "model_module_version": "1.2.0",
          "state": {
            "_model_module": "@jupyter-widgets/base",
            "_model_module_version": "1.2.0",
            "_model_name": "LayoutModel",
            "_view_count": null,
            "_view_module": "@jupyter-widgets/base",
            "_view_module_version": "1.2.0",
            "_view_name": "LayoutView",
            "align_content": null,
            "align_items": null,
            "align_self": null,
            "border": null,
            "bottom": null,
            "display": null,
            "flex": null,
            "flex_flow": null,
            "grid_area": null,
            "grid_auto_columns": null,
            "grid_auto_flow": null,
            "grid_auto_rows": null,
            "grid_column": null,
            "grid_gap": null,
            "grid_row": null,
            "grid_template_areas": null,
            "grid_template_columns": null,
            "grid_template_rows": null,
            "height": null,
            "justify_content": null,
            "justify_items": null,
            "left": null,
            "margin": null,
            "max_height": null,
            "max_width": null,
            "min_height": null,
            "min_width": null,
            "object_fit": null,
            "object_position": null,
            "order": null,
            "overflow": null,
            "overflow_x": null,
            "overflow_y": null,
            "padding": null,
            "right": null,
            "top": null,
            "visibility": null,
            "width": null
          }
        },
        "8ebd5129cdfb4b349b7c3f20ae67bb54": {
          "model_module": "@jupyter-widgets/controls",
          "model_name": "DescriptionStyleModel",
          "model_module_version": "1.5.0",
          "state": {
            "_model_module": "@jupyter-widgets/controls",
            "_model_module_version": "1.5.0",
            "_model_name": "DescriptionStyleModel",
            "_view_count": null,
            "_view_module": "@jupyter-widgets/base",
            "_view_module_version": "1.2.0",
            "_view_name": "StyleView",
            "description_width": ""
          }
        }
      }
    }
  },
  "nbformat": 4,
  "nbformat_minor": 0
}