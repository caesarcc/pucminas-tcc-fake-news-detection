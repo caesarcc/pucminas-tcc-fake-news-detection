{
  "cells": [
    {
      "cell_type": "markdown",
      "metadata": {
        "id": "view-in-github",
        "colab_type": "text"
      },
      "source": [
        "<a href=\"https://colab.research.google.com/github/caesarcc/pucminas-tcc-fake-news-detection/blob/main/passo02_preparacao_do_PLSUM_sumarizador.ipynb\" target=\"_parent\"><img src=\"https://colab.research.google.com/assets/colab-badge.svg\" alt=\"Open In Colab\"/></a>"
      ]
    },
    {
      "cell_type": "markdown",
      "metadata": {
        "id": "dRD3HmqT1EKZ"
      },
      "source": [
        "## Preparação do Modelo PLSUM, pré-treinado em PT-BR, para sumarização\n",
        "\n",
        "### Iniciando pela configuração do Google Colab, libs externas e acesso ao Google Drive"
      ]
    },
    {
      "cell_type": "code",
      "execution_count": 1,
      "metadata": {
        "colab": {
          "base_uri": "https://localhost:8080/"
        },
        "id": "GLWPP5tE97EJ",
        "outputId": "6458d1d5-ded3-4bee-c681-a8257926682e"
      },
      "outputs": [
        {
          "output_type": "stream",
          "name": "stdout",
          "text": [
            "\u001b[K     |████████████████████████████████| 4.0 MB 5.1 MB/s \n",
            "\u001b[K     |████████████████████████████████| 880 kB 49.3 MB/s \n",
            "\u001b[K     |████████████████████████████████| 6.6 MB 38.9 MB/s \n",
            "\u001b[K     |████████████████████████████████| 596 kB 58.2 MB/s \n",
            "\u001b[K     |████████████████████████████████| 86 kB 4.7 MB/s \n",
            "\u001b[?25h  Building wheel for sacremoses (setup.py) ... \u001b[?25l\u001b[?25hdone\n",
            "\u001b[K     |████████████████████████████████| 1.2 MB 5.2 MB/s \n",
            "\u001b[K     |████████████████████████████████| 211 kB 5.1 MB/s \n",
            "\u001b[K     |████████████████████████████████| 81 kB 8.6 MB/s \n",
            "\u001b[K     |████████████████████████████████| 93 kB 1.6 MB/s \n",
            "\u001b[K     |████████████████████████████████| 7.4 MB 59.4 MB/s \n",
            "\u001b[?25h  Building wheel for tinysegmenter (setup.py) ... \u001b[?25l\u001b[?25hdone\n",
            "  Building wheel for feedfinder2 (setup.py) ... \u001b[?25l\u001b[?25hdone\n",
            "  Building wheel for jieba3k (setup.py) ... \u001b[?25l\u001b[?25hdone\n",
            "  Building wheel for sgmllib3k (setup.py) ... \u001b[?25l\u001b[?25hdone\n"
          ]
        }
      ],
      "source": [
        "# lib para utilizar arquitetura transformers\n",
        "!pip install -q transformers==4.18.0\n",
        "# lib necessária para o tokenizador   \n",
        "!pip install -q sentencepiece\n",
        "# lib auxiliar para facilitar o scraping de artigos na web\n",
        "!pip install -q newspaper3k"
      ]
    },
    {
      "cell_type": "code",
      "execution_count": null,
      "metadata": {
        "colab": {
          "base_uri": "https://localhost:8080/"
        },
        "id": "3EZomSUMMKAf",
        "outputId": "bb4aafa2-d5f8-4944-e061-91a68abe29a6"
      },
      "outputs": [
        {
          "output_type": "stream",
          "name": "stdout",
          "text": [
            "Mounted at /content/drive\n"
          ]
        }
      ],
      "source": [
        "# Acesso ao Google Driver onde serão salvos os arquivos grandes\n",
        "# Atenção: Todos arquivos usados também estão disponíveis nas pastas modelos e dados, respectivamente\n",
        "from google.colab import drive\n",
        "drive.mount('/content/drive')"
      ]
    },
    {
      "cell_type": "code",
      "execution_count": 14,
      "metadata": {
        "cellView": "form",
        "id": "CPzAh59THwj1"
      },
      "outputs": [],
      "source": [
        "# Importação de bibliotecas\n",
        "import re\n",
        "import time\n",
        "import newspaper\n",
        "import torch\n",
        "import pandas as pd\n",
        "from transformers import T5TokenizerFast\n",
        "from transformers import T5ForConditionalGeneration"
      ]
    },
    {
      "cell_type": "markdown",
      "source": [
        "### Carga dos modelos pré-treinados em arquitetura transformers, disponíveis na plataforma [Hugging Face](https://huggingface.co/models)"
      ],
      "metadata": {
        "id": "2Oeh72_K2WCf"
      }
    },
    {
      "cell_type": "code",
      "execution_count": 15,
      "metadata": {
        "id": "XJXnv0l_JFOG"
      },
      "outputs": [],
      "source": [
        "# Modelo trainado em PT-BR\n",
        "model_name = 'seidel/plsum-base-ptt5'\n",
        "# Identifica device gpu ou cpu disponível\n",
        "device_disponivel = 'cuda' if torch.cuda.is_available() else 'cpu'\n",
        "\n",
        "# Tokenizador para ptbr\n",
        "tokenizer = T5TokenizerFast.from_pretrained(model_name)\n",
        "# Pesos do modelo em PyTorch\n",
        "model_pt = T5ForConditionalGeneration.from_pretrained(model_name, use_cache=False).to(device_disponivel)"
      ]
    },
    {
      "cell_type": "markdown",
      "source": [
        "### Coleta automatizada de notícias na capa do portal do UOL"
      ],
      "metadata": {
        "id": "e2RW7BG_TVyp"
      }
    },
    {
      "cell_type": "code",
      "source": [
        "df_noticias = pd.DataFrame(columns=['titulo', 'texto', 'url'])\n",
        "\n",
        "uol_paper = newspaper.build('https://noticias.uol.com.br/')\n",
        "for uol_article in uol_paper.articles:\n",
        "  try:\n",
        "    uol_article.download()\n",
        "    uol_article.parse()\n",
        "    df_noticias = df_noticias.append({'titulo': uol_article.title, \n",
        "                                      'texto': uol_article.text,\n",
        "                                      'url': uol_article.url}, ignore_index=True)\n",
        "    time.sleep(5)\n",
        "  except:\n",
        "    break\n",
        "\n",
        "df_noticias.shape"
      ],
      "metadata": {
        "id": "NGEjjo3rKOM8",
        "outputId": "ffaf7c3d-e945-447d-9fc7-4e2309454045",
        "colab": {
          "base_uri": "https://localhost:8080/"
        }
      },
      "execution_count": null,
      "outputs": [
        {
          "output_type": "execute_result",
          "data": {
            "text/plain": [
              "(52, 3)"
            ]
          },
          "metadata": {},
          "execution_count": 71
        }
      ]
    },
    {
      "cell_type": "code",
      "source": [
        "# limpa urls e marcadores não textuais\n",
        "def limpar_textos(texto):\n",
        "    # Quebra de linha é importante para o modelo de sumarização\n",
        "    #texto = re.sub(r'(\\n|\\r)', ' ', texto) \n",
        "    # Corrige marcadores não interpretados\n",
        "    texto = re.sub('(\\n|\\r)', '', texto)\n",
        "    # Remove urls no texto\n",
        "    texto = re.sub(r'(https|http|ftp)?:\\/\\/(\\w|\\.|-|\\/|\\?|\\=|\\&|\\%)*\\b', '', texto)\n",
        "    return texto.strip()\n",
        "\n",
        "df_noticias[\"texto\"] = df_noticias.texto.apply(limpar_textos)"
      ],
      "metadata": {
        "id": "30atsQGLW9bu"
      },
      "execution_count": null,
      "outputs": []
    },
    {
      "cell_type": "code",
      "execution_count": null,
      "metadata": {
        "colab": {
          "base_uri": "https://localhost:8080/",
          "height": 363
        },
        "id": "sdLq4bK4JFOK",
        "outputId": "fe623cba-81ae-4d7b-d4ab-73d6971ba3e0"
      },
      "outputs": [
        {
          "output_type": "execute_result",
          "data": {
            "text/plain": [
              "                                               titulo  \\\n",
              "35  Caso Marielle: 'Nunca havia visto um crime tão...   \n",
              "29  Vídeo faz alegações enganosas para colocar em ...   \n",
              "32  Em novo plano, campanha de Lula muda revogação...   \n",
              "49  Iphan atropela conselho que cuida de tombament...   \n",
              "33  Herpes zoster: vacina já está disponível em cl...   \n",
              "36  Congresso tem poder inédito sobre Orçamento e ...   \n",
              "46  Absurdos de Bolsonaro com Petrobras são inútei...   \n",
              "23  Spirulina: benefícios surpreendentes dessa mic...   \n",
              "0   Valendo ouro: após reajuste, gasolina é encont...   \n",
              "45  Dólar sobe a R$ 5,186, maior valor em 4 meses;...   \n",
              "\n",
              "                                                texto  \\\n",
              "35  Primeiro delegado designado para investigar o ...   \n",
              "29  Conteúdo investigado: Vídeo em que autor reúne...   \n",
              "32  O novo texto com as diretrizes para o programa...   \n",
              "49  São Paulo e BrasíliaO Instituto do Patrimônio ...   \n",
              "33  Lançada no Brasil neste mês, a vacina contra o...   \n",
              "36  Protagonista da maior renovação política desde...   \n",
              "46  Conteúdo exclusivo para assinantesJornalista p...   \n",
              "23  O termo superalimento, usado para designar ali...   \n",
              "0   O reajuste anunciado pela Petrobras de 5,2% na...   \n",
              "45  O dólar comercial abriu a semana em valorizaçã...   \n",
              "\n",
              "                                                  url  qtde_palavras  \n",
              "35  https://noticias.uol.com.br/ultimas-noticias/a...           2770  \n",
              "29  https://noticias.uol.com.br/comprova/ultimas-n...           2674  \n",
              "32  https://www.uol.com.br/eleicoes/2022/06/20/dir...           1513  \n",
              "49  https://www1.folha.uol.com.br/ilustrada/2022/0...           1362  \n",
              "33  https://noticias.uol.com.br/ultimas-noticias/a...           1321  \n",
              "36  https://noticias.uol.com.br/ultimas-noticias/a...           1228  \n",
              "46  https://economia.uol.com.br/colunas/jose-paulo...           1146  \n",
              "23  https://midiamax.uol.com.br/variedades/saude/2...           1073  \n",
              "0   https://midiamax.uol.com.br/cotidiano/2022/val...            771  \n",
              "45  https://economia.uol.com.br/cotacoes/noticias/...            755  "
            ],
            "text/html": [
              "\n",
              "  <div id=\"df-8a95b1fc-21bb-41a9-9122-59875e402871\">\n",
              "    <div class=\"colab-df-container\">\n",
              "      <div>\n",
              "<style scoped>\n",
              "    .dataframe tbody tr th:only-of-type {\n",
              "        vertical-align: middle;\n",
              "    }\n",
              "\n",
              "    .dataframe tbody tr th {\n",
              "        vertical-align: top;\n",
              "    }\n",
              "\n",
              "    .dataframe thead th {\n",
              "        text-align: right;\n",
              "    }\n",
              "</style>\n",
              "<table border=\"1\" class=\"dataframe\">\n",
              "  <thead>\n",
              "    <tr style=\"text-align: right;\">\n",
              "      <th></th>\n",
              "      <th>titulo</th>\n",
              "      <th>texto</th>\n",
              "      <th>url</th>\n",
              "      <th>qtde_palavras</th>\n",
              "    </tr>\n",
              "  </thead>\n",
              "  <tbody>\n",
              "    <tr>\n",
              "      <th>35</th>\n",
              "      <td>Caso Marielle: 'Nunca havia visto um crime tão...</td>\n",
              "      <td>Primeiro delegado designado para investigar o ...</td>\n",
              "      <td>https://noticias.uol.com.br/ultimas-noticias/a...</td>\n",
              "      <td>2770</td>\n",
              "    </tr>\n",
              "    <tr>\n",
              "      <th>29</th>\n",
              "      <td>Vídeo faz alegações enganosas para colocar em ...</td>\n",
              "      <td>Conteúdo investigado: Vídeo em que autor reúne...</td>\n",
              "      <td>https://noticias.uol.com.br/comprova/ultimas-n...</td>\n",
              "      <td>2674</td>\n",
              "    </tr>\n",
              "    <tr>\n",
              "      <th>32</th>\n",
              "      <td>Em novo plano, campanha de Lula muda revogação...</td>\n",
              "      <td>O novo texto com as diretrizes para o programa...</td>\n",
              "      <td>https://www.uol.com.br/eleicoes/2022/06/20/dir...</td>\n",
              "      <td>1513</td>\n",
              "    </tr>\n",
              "    <tr>\n",
              "      <th>49</th>\n",
              "      <td>Iphan atropela conselho que cuida de tombament...</td>\n",
              "      <td>São Paulo e BrasíliaO Instituto do Patrimônio ...</td>\n",
              "      <td>https://www1.folha.uol.com.br/ilustrada/2022/0...</td>\n",
              "      <td>1362</td>\n",
              "    </tr>\n",
              "    <tr>\n",
              "      <th>33</th>\n",
              "      <td>Herpes zoster: vacina já está disponível em cl...</td>\n",
              "      <td>Lançada no Brasil neste mês, a vacina contra o...</td>\n",
              "      <td>https://noticias.uol.com.br/ultimas-noticias/a...</td>\n",
              "      <td>1321</td>\n",
              "    </tr>\n",
              "    <tr>\n",
              "      <th>36</th>\n",
              "      <td>Congresso tem poder inédito sobre Orçamento e ...</td>\n",
              "      <td>Protagonista da maior renovação política desde...</td>\n",
              "      <td>https://noticias.uol.com.br/ultimas-noticias/a...</td>\n",
              "      <td>1228</td>\n",
              "    </tr>\n",
              "    <tr>\n",
              "      <th>46</th>\n",
              "      <td>Absurdos de Bolsonaro com Petrobras são inútei...</td>\n",
              "      <td>Conteúdo exclusivo para assinantesJornalista p...</td>\n",
              "      <td>https://economia.uol.com.br/colunas/jose-paulo...</td>\n",
              "      <td>1146</td>\n",
              "    </tr>\n",
              "    <tr>\n",
              "      <th>23</th>\n",
              "      <td>Spirulina: benefícios surpreendentes dessa mic...</td>\n",
              "      <td>O termo superalimento, usado para designar ali...</td>\n",
              "      <td>https://midiamax.uol.com.br/variedades/saude/2...</td>\n",
              "      <td>1073</td>\n",
              "    </tr>\n",
              "    <tr>\n",
              "      <th>0</th>\n",
              "      <td>Valendo ouro: após reajuste, gasolina é encont...</td>\n",
              "      <td>O reajuste anunciado pela Petrobras de 5,2% na...</td>\n",
              "      <td>https://midiamax.uol.com.br/cotidiano/2022/val...</td>\n",
              "      <td>771</td>\n",
              "    </tr>\n",
              "    <tr>\n",
              "      <th>45</th>\n",
              "      <td>Dólar sobe a R$ 5,186, maior valor em 4 meses;...</td>\n",
              "      <td>O dólar comercial abriu a semana em valorizaçã...</td>\n",
              "      <td>https://economia.uol.com.br/cotacoes/noticias/...</td>\n",
              "      <td>755</td>\n",
              "    </tr>\n",
              "  </tbody>\n",
              "</table>\n",
              "</div>\n",
              "      <button class=\"colab-df-convert\" onclick=\"convertToInteractive('df-8a95b1fc-21bb-41a9-9122-59875e402871')\"\n",
              "              title=\"Convert this dataframe to an interactive table.\"\n",
              "              style=\"display:none;\">\n",
              "        \n",
              "  <svg xmlns=\"http://www.w3.org/2000/svg\" height=\"24px\"viewBox=\"0 0 24 24\"\n",
              "       width=\"24px\">\n",
              "    <path d=\"M0 0h24v24H0V0z\" fill=\"none\"/>\n",
              "    <path d=\"M18.56 5.44l.94 2.06.94-2.06 2.06-.94-2.06-.94-.94-2.06-.94 2.06-2.06.94zm-11 1L8.5 8.5l.94-2.06 2.06-.94-2.06-.94L8.5 2.5l-.94 2.06-2.06.94zm10 10l.94 2.06.94-2.06 2.06-.94-2.06-.94-.94-2.06-.94 2.06-2.06.94z\"/><path d=\"M17.41 7.96l-1.37-1.37c-.4-.4-.92-.59-1.43-.59-.52 0-1.04.2-1.43.59L10.3 9.45l-7.72 7.72c-.78.78-.78 2.05 0 2.83L4 21.41c.39.39.9.59 1.41.59.51 0 1.02-.2 1.41-.59l7.78-7.78 2.81-2.81c.8-.78.8-2.07 0-2.86zM5.41 20L4 18.59l7.72-7.72 1.47 1.35L5.41 20z\"/>\n",
              "  </svg>\n",
              "      </button>\n",
              "      \n",
              "  <style>\n",
              "    .colab-df-container {\n",
              "      display:flex;\n",
              "      flex-wrap:wrap;\n",
              "      gap: 12px;\n",
              "    }\n",
              "\n",
              "    .colab-df-convert {\n",
              "      background-color: #E8F0FE;\n",
              "      border: none;\n",
              "      border-radius: 50%;\n",
              "      cursor: pointer;\n",
              "      display: none;\n",
              "      fill: #1967D2;\n",
              "      height: 32px;\n",
              "      padding: 0 0 0 0;\n",
              "      width: 32px;\n",
              "    }\n",
              "\n",
              "    .colab-df-convert:hover {\n",
              "      background-color: #E2EBFA;\n",
              "      box-shadow: 0px 1px 2px rgba(60, 64, 67, 0.3), 0px 1px 3px 1px rgba(60, 64, 67, 0.15);\n",
              "      fill: #174EA6;\n",
              "    }\n",
              "\n",
              "    [theme=dark] .colab-df-convert {\n",
              "      background-color: #3B4455;\n",
              "      fill: #D2E3FC;\n",
              "    }\n",
              "\n",
              "    [theme=dark] .colab-df-convert:hover {\n",
              "      background-color: #434B5C;\n",
              "      box-shadow: 0px 1px 3px 1px rgba(0, 0, 0, 0.15);\n",
              "      filter: drop-shadow(0px 1px 2px rgba(0, 0, 0, 0.3));\n",
              "      fill: #FFFFFF;\n",
              "    }\n",
              "  </style>\n",
              "\n",
              "      <script>\n",
              "        const buttonEl =\n",
              "          document.querySelector('#df-8a95b1fc-21bb-41a9-9122-59875e402871 button.colab-df-convert');\n",
              "        buttonEl.style.display =\n",
              "          google.colab.kernel.accessAllowed ? 'block' : 'none';\n",
              "\n",
              "        async function convertToInteractive(key) {\n",
              "          const element = document.querySelector('#df-8a95b1fc-21bb-41a9-9122-59875e402871');\n",
              "          const dataTable =\n",
              "            await google.colab.kernel.invokeFunction('convertToInteractive',\n",
              "                                                     [key], {});\n",
              "          if (!dataTable) return;\n",
              "\n",
              "          const docLinkHtml = 'Like what you see? Visit the ' +\n",
              "            '<a target=\"_blank\" href=https://colab.research.google.com/notebooks/data_table.ipynb>data table notebook</a>'\n",
              "            + ' to learn more about interactive tables.';\n",
              "          element.innerHTML = '';\n",
              "          dataTable['output_type'] = 'display_data';\n",
              "          await google.colab.output.renderOutput(dataTable, element);\n",
              "          const docLink = document.createElement('div');\n",
              "          docLink.innerHTML = docLinkHtml;\n",
              "          element.appendChild(docLink);\n",
              "        }\n",
              "      </script>\n",
              "    </div>\n",
              "  </div>\n",
              "  "
            ]
          },
          "metadata": {},
          "execution_count": 73
        }
      ],
      "source": [
        "# conta palavras\n",
        "df_noticias['qtde_palavras'] = df_noticias.texto.apply(lambda texto: len(re.findall(r\"[\\w']+|[.,!?;:/\\\"]\", texto)))\n",
        "# cria df com as 10 maiores notícias (em quantidade de palavras)\n",
        "df_noticias_longas = df_noticias.nlargest(10,'qtde_palavras')\n",
        "df_noticias_longas.head(10)"
      ]
    },
    {
      "cell_type": "markdown",
      "source": [
        "### Codifica (Tokeniza) notícias no dataframe"
      ],
      "metadata": {
        "id": "eZholx5EIWIQ"
      }
    },
    {
      "cell_type": "code",
      "source": [
        "df_noticias_longas['tokens'] = df_noticias_longas.texto.apply(lambda texto: tokenizer.encode(texto, return_tensors=\"pt\"))\n",
        "df_noticias_longas['qtde_tokens'] = df_noticias_longas.tokens.apply(lambda tokens: len(tokens[0]))\n",
        "df_noticias_longas.head(10)"
      ],
      "metadata": {
        "id": "N6FrrPhPCDDK",
        "outputId": "c270dab8-f6ad-4fd1-892b-3e9da45edcce",
        "colab": {
          "base_uri": "https://localhost:8080/",
          "height": 363
        }
      },
      "execution_count": null,
      "outputs": [
        {
          "output_type": "execute_result",
          "data": {
            "text/plain": [
              "                                               titulo  \\\n",
              "35  Caso Marielle: 'Nunca havia visto um crime tão...   \n",
              "29  Vídeo faz alegações enganosas para colocar em ...   \n",
              "32  Em novo plano, campanha de Lula muda revogação...   \n",
              "49  Iphan atropela conselho que cuida de tombament...   \n",
              "33  Herpes zoster: vacina já está disponível em cl...   \n",
              "36  Congresso tem poder inédito sobre Orçamento e ...   \n",
              "46  Absurdos de Bolsonaro com Petrobras são inútei...   \n",
              "23  Spirulina: benefícios surpreendentes dessa mic...   \n",
              "0   Valendo ouro: após reajuste, gasolina é encont...   \n",
              "45  Dólar sobe a R$ 5,186, maior valor em 4 meses;...   \n",
              "\n",
              "                                                texto  \\\n",
              "35  Primeiro delegado designado para investigar o ...   \n",
              "29  Conteúdo investigado: Vídeo em que autor reúne...   \n",
              "32  O novo texto com as diretrizes para o programa...   \n",
              "49  São Paulo e BrasíliaO Instituto do Patrimônio ...   \n",
              "33  Lançada no Brasil neste mês, a vacina contra o...   \n",
              "36  Protagonista da maior renovação política desde...   \n",
              "46  Conteúdo exclusivo para assinantesJornalista p...   \n",
              "23  O termo superalimento, usado para designar ali...   \n",
              "0   O reajuste anunciado pela Petrobras de 5,2% na...   \n",
              "45  O dólar comercial abriu a semana em valorizaçã...   \n",
              "\n",
              "                                                  url  qtde_palavras  \\\n",
              "35  https://noticias.uol.com.br/ultimas-noticias/a...           2770   \n",
              "29  https://noticias.uol.com.br/comprova/ultimas-n...           2674   \n",
              "32  https://www.uol.com.br/eleicoes/2022/06/20/dir...           1513   \n",
              "49  https://www1.folha.uol.com.br/ilustrada/2022/0...           1362   \n",
              "33  https://noticias.uol.com.br/ultimas-noticias/a...           1321   \n",
              "36  https://noticias.uol.com.br/ultimas-noticias/a...           1228   \n",
              "46  https://economia.uol.com.br/colunas/jose-paulo...           1146   \n",
              "23  https://midiamax.uol.com.br/variedades/saude/2...           1073   \n",
              "0   https://midiamax.uol.com.br/cotidiano/2022/val...            771   \n",
              "45  https://economia.uol.com.br/cotacoes/noticias/...            755   \n",
              "\n",
              "                                               tokens  qtde_tokens  \n",
              "35  [[tensor(3967), tensor(8873), tensor(4086), te...         3223  \n",
              "29  [[tensor(631), tensor(146), tensor(709), tenso...         3112  \n",
              "32  [[tensor(28), tensor(288), tensor(1958), tenso...         1848  \n",
              "49  [[tensor(99), tensor(196), tensor(8), tensor(3...         1570  \n",
              "33  [[tensor(5215), tensor(7056), tensor(19), tens...         1678  \n",
              "36  [[tensor(743), tensor(5938), tensor(11846), te...         1454  \n",
              "46  [[tensor(631), tensor(146), tensor(709), tenso...         1355  \n",
              "23  [[tensor(28), tensor(762), tensor(1312), tenso...         1513  \n",
              "0   [[tensor(28), tensor(3044), tensor(12067), ten...         1028  \n",
              "45  [[tensor(28), tensor(20419), tensor(1618), ten...          884  "
            ],
            "text/html": [
              "\n",
              "  <div id=\"df-fc1da810-0488-4783-92c1-144c4e536505\">\n",
              "    <div class=\"colab-df-container\">\n",
              "      <div>\n",
              "<style scoped>\n",
              "    .dataframe tbody tr th:only-of-type {\n",
              "        vertical-align: middle;\n",
              "    }\n",
              "\n",
              "    .dataframe tbody tr th {\n",
              "        vertical-align: top;\n",
              "    }\n",
              "\n",
              "    .dataframe thead th {\n",
              "        text-align: right;\n",
              "    }\n",
              "</style>\n",
              "<table border=\"1\" class=\"dataframe\">\n",
              "  <thead>\n",
              "    <tr style=\"text-align: right;\">\n",
              "      <th></th>\n",
              "      <th>titulo</th>\n",
              "      <th>texto</th>\n",
              "      <th>url</th>\n",
              "      <th>qtde_palavras</th>\n",
              "      <th>tokens</th>\n",
              "      <th>qtde_tokens</th>\n",
              "    </tr>\n",
              "  </thead>\n",
              "  <tbody>\n",
              "    <tr>\n",
              "      <th>35</th>\n",
              "      <td>Caso Marielle: 'Nunca havia visto um crime tão...</td>\n",
              "      <td>Primeiro delegado designado para investigar o ...</td>\n",
              "      <td>https://noticias.uol.com.br/ultimas-noticias/a...</td>\n",
              "      <td>2770</td>\n",
              "      <td>[[tensor(3967), tensor(8873), tensor(4086), te...</td>\n",
              "      <td>3223</td>\n",
              "    </tr>\n",
              "    <tr>\n",
              "      <th>29</th>\n",
              "      <td>Vídeo faz alegações enganosas para colocar em ...</td>\n",
              "      <td>Conteúdo investigado: Vídeo em que autor reúne...</td>\n",
              "      <td>https://noticias.uol.com.br/comprova/ultimas-n...</td>\n",
              "      <td>2674</td>\n",
              "      <td>[[tensor(631), tensor(146), tensor(709), tenso...</td>\n",
              "      <td>3112</td>\n",
              "    </tr>\n",
              "    <tr>\n",
              "      <th>32</th>\n",
              "      <td>Em novo plano, campanha de Lula muda revogação...</td>\n",
              "      <td>O novo texto com as diretrizes para o programa...</td>\n",
              "      <td>https://www.uol.com.br/eleicoes/2022/06/20/dir...</td>\n",
              "      <td>1513</td>\n",
              "      <td>[[tensor(28), tensor(288), tensor(1958), tenso...</td>\n",
              "      <td>1848</td>\n",
              "    </tr>\n",
              "    <tr>\n",
              "      <th>49</th>\n",
              "      <td>Iphan atropela conselho que cuida de tombament...</td>\n",
              "      <td>São Paulo e BrasíliaO Instituto do Patrimônio ...</td>\n",
              "      <td>https://www1.folha.uol.com.br/ilustrada/2022/0...</td>\n",
              "      <td>1362</td>\n",
              "      <td>[[tensor(99), tensor(196), tensor(8), tensor(3...</td>\n",
              "      <td>1570</td>\n",
              "    </tr>\n",
              "    <tr>\n",
              "      <th>33</th>\n",
              "      <td>Herpes zoster: vacina já está disponível em cl...</td>\n",
              "      <td>Lançada no Brasil neste mês, a vacina contra o...</td>\n",
              "      <td>https://noticias.uol.com.br/ultimas-noticias/a...</td>\n",
              "      <td>1321</td>\n",
              "      <td>[[tensor(5215), tensor(7056), tensor(19), tens...</td>\n",
              "      <td>1678</td>\n",
              "    </tr>\n",
              "    <tr>\n",
              "      <th>36</th>\n",
              "      <td>Congresso tem poder inédito sobre Orçamento e ...</td>\n",
              "      <td>Protagonista da maior renovação política desde...</td>\n",
              "      <td>https://noticias.uol.com.br/ultimas-noticias/a...</td>\n",
              "      <td>1228</td>\n",
              "      <td>[[tensor(743), tensor(5938), tensor(11846), te...</td>\n",
              "      <td>1454</td>\n",
              "    </tr>\n",
              "    <tr>\n",
              "      <th>46</th>\n",
              "      <td>Absurdos de Bolsonaro com Petrobras são inútei...</td>\n",
              "      <td>Conteúdo exclusivo para assinantesJornalista p...</td>\n",
              "      <td>https://economia.uol.com.br/colunas/jose-paulo...</td>\n",
              "      <td>1146</td>\n",
              "      <td>[[tensor(631), tensor(146), tensor(709), tenso...</td>\n",
              "      <td>1355</td>\n",
              "    </tr>\n",
              "    <tr>\n",
              "      <th>23</th>\n",
              "      <td>Spirulina: benefícios surpreendentes dessa mic...</td>\n",
              "      <td>O termo superalimento, usado para designar ali...</td>\n",
              "      <td>https://midiamax.uol.com.br/variedades/saude/2...</td>\n",
              "      <td>1073</td>\n",
              "      <td>[[tensor(28), tensor(762), tensor(1312), tenso...</td>\n",
              "      <td>1513</td>\n",
              "    </tr>\n",
              "    <tr>\n",
              "      <th>0</th>\n",
              "      <td>Valendo ouro: após reajuste, gasolina é encont...</td>\n",
              "      <td>O reajuste anunciado pela Petrobras de 5,2% na...</td>\n",
              "      <td>https://midiamax.uol.com.br/cotidiano/2022/val...</td>\n",
              "      <td>771</td>\n",
              "      <td>[[tensor(28), tensor(3044), tensor(12067), ten...</td>\n",
              "      <td>1028</td>\n",
              "    </tr>\n",
              "    <tr>\n",
              "      <th>45</th>\n",
              "      <td>Dólar sobe a R$ 5,186, maior valor em 4 meses;...</td>\n",
              "      <td>O dólar comercial abriu a semana em valorizaçã...</td>\n",
              "      <td>https://economia.uol.com.br/cotacoes/noticias/...</td>\n",
              "      <td>755</td>\n",
              "      <td>[[tensor(28), tensor(20419), tensor(1618), ten...</td>\n",
              "      <td>884</td>\n",
              "    </tr>\n",
              "  </tbody>\n",
              "</table>\n",
              "</div>\n",
              "      <button class=\"colab-df-convert\" onclick=\"convertToInteractive('df-fc1da810-0488-4783-92c1-144c4e536505')\"\n",
              "              title=\"Convert this dataframe to an interactive table.\"\n",
              "              style=\"display:none;\">\n",
              "        \n",
              "  <svg xmlns=\"http://www.w3.org/2000/svg\" height=\"24px\"viewBox=\"0 0 24 24\"\n",
              "       width=\"24px\">\n",
              "    <path d=\"M0 0h24v24H0V0z\" fill=\"none\"/>\n",
              "    <path d=\"M18.56 5.44l.94 2.06.94-2.06 2.06-.94-2.06-.94-.94-2.06-.94 2.06-2.06.94zm-11 1L8.5 8.5l.94-2.06 2.06-.94-2.06-.94L8.5 2.5l-.94 2.06-2.06.94zm10 10l.94 2.06.94-2.06 2.06-.94-2.06-.94-.94-2.06-.94 2.06-2.06.94z\"/><path d=\"M17.41 7.96l-1.37-1.37c-.4-.4-.92-.59-1.43-.59-.52 0-1.04.2-1.43.59L10.3 9.45l-7.72 7.72c-.78.78-.78 2.05 0 2.83L4 21.41c.39.39.9.59 1.41.59.51 0 1.02-.2 1.41-.59l7.78-7.78 2.81-2.81c.8-.78.8-2.07 0-2.86zM5.41 20L4 18.59l7.72-7.72 1.47 1.35L5.41 20z\"/>\n",
              "  </svg>\n",
              "      </button>\n",
              "      \n",
              "  <style>\n",
              "    .colab-df-container {\n",
              "      display:flex;\n",
              "      flex-wrap:wrap;\n",
              "      gap: 12px;\n",
              "    }\n",
              "\n",
              "    .colab-df-convert {\n",
              "      background-color: #E8F0FE;\n",
              "      border: none;\n",
              "      border-radius: 50%;\n",
              "      cursor: pointer;\n",
              "      display: none;\n",
              "      fill: #1967D2;\n",
              "      height: 32px;\n",
              "      padding: 0 0 0 0;\n",
              "      width: 32px;\n",
              "    }\n",
              "\n",
              "    .colab-df-convert:hover {\n",
              "      background-color: #E2EBFA;\n",
              "      box-shadow: 0px 1px 2px rgba(60, 64, 67, 0.3), 0px 1px 3px 1px rgba(60, 64, 67, 0.15);\n",
              "      fill: #174EA6;\n",
              "    }\n",
              "\n",
              "    [theme=dark] .colab-df-convert {\n",
              "      background-color: #3B4455;\n",
              "      fill: #D2E3FC;\n",
              "    }\n",
              "\n",
              "    [theme=dark] .colab-df-convert:hover {\n",
              "      background-color: #434B5C;\n",
              "      box-shadow: 0px 1px 3px 1px rgba(0, 0, 0, 0.15);\n",
              "      filter: drop-shadow(0px 1px 2px rgba(0, 0, 0, 0.3));\n",
              "      fill: #FFFFFF;\n",
              "    }\n",
              "  </style>\n",
              "\n",
              "      <script>\n",
              "        const buttonEl =\n",
              "          document.querySelector('#df-fc1da810-0488-4783-92c1-144c4e536505 button.colab-df-convert');\n",
              "        buttonEl.style.display =\n",
              "          google.colab.kernel.accessAllowed ? 'block' : 'none';\n",
              "\n",
              "        async function convertToInteractive(key) {\n",
              "          const element = document.querySelector('#df-fc1da810-0488-4783-92c1-144c4e536505');\n",
              "          const dataTable =\n",
              "            await google.colab.kernel.invokeFunction('convertToInteractive',\n",
              "                                                     [key], {});\n",
              "          if (!dataTable) return;\n",
              "\n",
              "          const docLinkHtml = 'Like what you see? Visit the ' +\n",
              "            '<a target=\"_blank\" href=https://colab.research.google.com/notebooks/data_table.ipynb>data table notebook</a>'\n",
              "            + ' to learn more about interactive tables.';\n",
              "          element.innerHTML = '';\n",
              "          dataTable['output_type'] = 'display_data';\n",
              "          await google.colab.output.renderOutput(dataTable, element);\n",
              "          const docLink = document.createElement('div');\n",
              "          docLink.innerHTML = docLinkHtml;\n",
              "          element.appendChild(docLink);\n",
              "        }\n",
              "      </script>\n",
              "    </div>\n",
              "  </div>\n",
              "  "
            ]
          },
          "metadata": {},
          "execution_count": 74
        }
      ]
    },
    {
      "cell_type": "markdown",
      "source": [
        "### Gera resumo dos tokens pelo modelo carregado"
      ],
      "metadata": {
        "id": "DklKYa47IxYi"
      }
    },
    {
      "cell_type": "code",
      "execution_count": null,
      "metadata": {
        "id": "QyLD8QdGJFOM"
      },
      "outputs": [],
      "source": [
        "def gerar_resumo(tokens):\n",
        "  # coloca os tokens no devise\n",
        "  tensor_tokens = tokens.to(device_disponivel)\n",
        "  # max_length: O número máximo de tokens a serem gerado.\n",
        "  # length_penalty: Penalidade exponencial para o comprimento, 1,0 significa sem penalidade.\n",
        "  # num_beams: Especifica como usar busca heurística (beam search) em vez de busca gulosa (greedy search), \n",
        "  #            O modelo tentará manter as 4 hipóteses mais prováveis ​​em cada passo de tempo.\n",
        "  # early_stopping: A geração seja concluída quando todas as hipóteses (beams) atingirem o final do token de string ( EOS ).\n",
        "  outputs = model_pt.generate(\n",
        "      tensor_tokens, \n",
        "      max_length=400, \n",
        "      length_penalty=2.0, \n",
        "      num_beams=4, \n",
        "      early_stopping=True)\n",
        "  return outputs"
      ]
    },
    {
      "cell_type": "code",
      "source": [
        "# gera os resumos e contar os tokens gerados em cada linha do dataset\n",
        "df_noticias_longas['tokens_gerados'] = df_noticias_longas.tokens.apply(lambda tokens: gerar_resumo(tokens))\n",
        "df_noticias_longas['qtde_tokens_gerados'] = df_noticias_longas.tokens_gerados.apply(lambda tokens: len(tokens[0]))\n",
        "df_noticias_longas.head()"
      ],
      "metadata": {
        "id": "pMBgTRiBeYDx",
        "outputId": "43eaa0d0-0860-4302-b2a0-dbb71863c588",
        "colab": {
          "base_uri": "https://localhost:8080/",
          "height": 337
        }
      },
      "execution_count": null,
      "outputs": [
        {
          "output_type": "execute_result",
          "data": {
            "text/plain": [
              "                                               titulo  \\\n",
              "35  Caso Marielle: 'Nunca havia visto um crime tão...   \n",
              "29  Vídeo faz alegações enganosas para colocar em ...   \n",
              "32  Em novo plano, campanha de Lula muda revogação...   \n",
              "49  Iphan atropela conselho que cuida de tombament...   \n",
              "33  Herpes zoster: vacina já está disponível em cl...   \n",
              "\n",
              "                                                texto  \\\n",
              "35  Primeiro delegado designado para investigar o ...   \n",
              "29  Conteúdo investigado: Vídeo em que autor reúne...   \n",
              "32  O novo texto com as diretrizes para o programa...   \n",
              "49  São Paulo e BrasíliaO Instituto do Patrimônio ...   \n",
              "33  Lançada no Brasil neste mês, a vacina contra o...   \n",
              "\n",
              "                                                  url  qtde_palavras  \\\n",
              "35  https://noticias.uol.com.br/ultimas-noticias/a...           2770   \n",
              "29  https://noticias.uol.com.br/comprova/ultimas-n...           2674   \n",
              "32  https://www.uol.com.br/eleicoes/2022/06/20/dir...           1513   \n",
              "49  https://www1.folha.uol.com.br/ilustrada/2022/0...           1362   \n",
              "33  https://noticias.uol.com.br/ultimas-noticias/a...           1321   \n",
              "\n",
              "                                               tokens  qtde_tokens  \\\n",
              "35  [[tensor(3967), tensor(8873), tensor(4086), te...         3223   \n",
              "29  [[tensor(631), tensor(146), tensor(709), tenso...         3112   \n",
              "32  [[tensor(28), tensor(288), tensor(1958), tenso...         1848   \n",
              "49  [[tensor(99), tensor(196), tensor(8), tensor(3...         1570   \n",
              "33  [[tensor(5215), tensor(7056), tensor(19), tens...         1678   \n",
              "\n",
              "                                       tokens_gerados  qtde_tokens_gerados  \n",
              "35  [[tensor(0, device='cuda:0'), tensor(28, devic...                  368  \n",
              "29  [[tensor(0, device='cuda:0'), tensor(9, device...                  400  \n",
              "32  [[tensor(0, device='cuda:0'), tensor(9, device...                  346  \n",
              "49  [[tensor(0, device='cuda:0'), tensor(9, device...                  400  \n",
              "33  [[tensor(0, device='cuda:0'), tensor(9, device...                  285  "
            ],
            "text/html": [
              "\n",
              "  <div id=\"df-5dd25f10-d49c-4a6b-a2dc-2957cdf8a780\">\n",
              "    <div class=\"colab-df-container\">\n",
              "      <div>\n",
              "<style scoped>\n",
              "    .dataframe tbody tr th:only-of-type {\n",
              "        vertical-align: middle;\n",
              "    }\n",
              "\n",
              "    .dataframe tbody tr th {\n",
              "        vertical-align: top;\n",
              "    }\n",
              "\n",
              "    .dataframe thead th {\n",
              "        text-align: right;\n",
              "    }\n",
              "</style>\n",
              "<table border=\"1\" class=\"dataframe\">\n",
              "  <thead>\n",
              "    <tr style=\"text-align: right;\">\n",
              "      <th></th>\n",
              "      <th>titulo</th>\n",
              "      <th>texto</th>\n",
              "      <th>url</th>\n",
              "      <th>qtde_palavras</th>\n",
              "      <th>tokens</th>\n",
              "      <th>qtde_tokens</th>\n",
              "      <th>tokens_gerados</th>\n",
              "      <th>qtde_tokens_gerados</th>\n",
              "    </tr>\n",
              "  </thead>\n",
              "  <tbody>\n",
              "    <tr>\n",
              "      <th>35</th>\n",
              "      <td>Caso Marielle: 'Nunca havia visto um crime tão...</td>\n",
              "      <td>Primeiro delegado designado para investigar o ...</td>\n",
              "      <td>https://noticias.uol.com.br/ultimas-noticias/a...</td>\n",
              "      <td>2770</td>\n",
              "      <td>[[tensor(3967), tensor(8873), tensor(4086), te...</td>\n",
              "      <td>3223</td>\n",
              "      <td>[[tensor(0, device='cuda:0'), tensor(28, devic...</td>\n",
              "      <td>368</td>\n",
              "    </tr>\n",
              "    <tr>\n",
              "      <th>29</th>\n",
              "      <td>Vídeo faz alegações enganosas para colocar em ...</td>\n",
              "      <td>Conteúdo investigado: Vídeo em que autor reúne...</td>\n",
              "      <td>https://noticias.uol.com.br/comprova/ultimas-n...</td>\n",
              "      <td>2674</td>\n",
              "      <td>[[tensor(631), tensor(146), tensor(709), tenso...</td>\n",
              "      <td>3112</td>\n",
              "      <td>[[tensor(0, device='cuda:0'), tensor(9, device...</td>\n",
              "      <td>400</td>\n",
              "    </tr>\n",
              "    <tr>\n",
              "      <th>32</th>\n",
              "      <td>Em novo plano, campanha de Lula muda revogação...</td>\n",
              "      <td>O novo texto com as diretrizes para o programa...</td>\n",
              "      <td>https://www.uol.com.br/eleicoes/2022/06/20/dir...</td>\n",
              "      <td>1513</td>\n",
              "      <td>[[tensor(28), tensor(288), tensor(1958), tenso...</td>\n",
              "      <td>1848</td>\n",
              "      <td>[[tensor(0, device='cuda:0'), tensor(9, device...</td>\n",
              "      <td>346</td>\n",
              "    </tr>\n",
              "    <tr>\n",
              "      <th>49</th>\n",
              "      <td>Iphan atropela conselho que cuida de tombament...</td>\n",
              "      <td>São Paulo e BrasíliaO Instituto do Patrimônio ...</td>\n",
              "      <td>https://www1.folha.uol.com.br/ilustrada/2022/0...</td>\n",
              "      <td>1362</td>\n",
              "      <td>[[tensor(99), tensor(196), tensor(8), tensor(3...</td>\n",
              "      <td>1570</td>\n",
              "      <td>[[tensor(0, device='cuda:0'), tensor(9, device...</td>\n",
              "      <td>400</td>\n",
              "    </tr>\n",
              "    <tr>\n",
              "      <th>33</th>\n",
              "      <td>Herpes zoster: vacina já está disponível em cl...</td>\n",
              "      <td>Lançada no Brasil neste mês, a vacina contra o...</td>\n",
              "      <td>https://noticias.uol.com.br/ultimas-noticias/a...</td>\n",
              "      <td>1321</td>\n",
              "      <td>[[tensor(5215), tensor(7056), tensor(19), tens...</td>\n",
              "      <td>1678</td>\n",
              "      <td>[[tensor(0, device='cuda:0'), tensor(9, device...</td>\n",
              "      <td>285</td>\n",
              "    </tr>\n",
              "  </tbody>\n",
              "</table>\n",
              "</div>\n",
              "      <button class=\"colab-df-convert\" onclick=\"convertToInteractive('df-5dd25f10-d49c-4a6b-a2dc-2957cdf8a780')\"\n",
              "              title=\"Convert this dataframe to an interactive table.\"\n",
              "              style=\"display:none;\">\n",
              "        \n",
              "  <svg xmlns=\"http://www.w3.org/2000/svg\" height=\"24px\"viewBox=\"0 0 24 24\"\n",
              "       width=\"24px\">\n",
              "    <path d=\"M0 0h24v24H0V0z\" fill=\"none\"/>\n",
              "    <path d=\"M18.56 5.44l.94 2.06.94-2.06 2.06-.94-2.06-.94-.94-2.06-.94 2.06-2.06.94zm-11 1L8.5 8.5l.94-2.06 2.06-.94-2.06-.94L8.5 2.5l-.94 2.06-2.06.94zm10 10l.94 2.06.94-2.06 2.06-.94-2.06-.94-.94-2.06-.94 2.06-2.06.94z\"/><path d=\"M17.41 7.96l-1.37-1.37c-.4-.4-.92-.59-1.43-.59-.52 0-1.04.2-1.43.59L10.3 9.45l-7.72 7.72c-.78.78-.78 2.05 0 2.83L4 21.41c.39.39.9.59 1.41.59.51 0 1.02-.2 1.41-.59l7.78-7.78 2.81-2.81c.8-.78.8-2.07 0-2.86zM5.41 20L4 18.59l7.72-7.72 1.47 1.35L5.41 20z\"/>\n",
              "  </svg>\n",
              "      </button>\n",
              "      \n",
              "  <style>\n",
              "    .colab-df-container {\n",
              "      display:flex;\n",
              "      flex-wrap:wrap;\n",
              "      gap: 12px;\n",
              "    }\n",
              "\n",
              "    .colab-df-convert {\n",
              "      background-color: #E8F0FE;\n",
              "      border: none;\n",
              "      border-radius: 50%;\n",
              "      cursor: pointer;\n",
              "      display: none;\n",
              "      fill: #1967D2;\n",
              "      height: 32px;\n",
              "      padding: 0 0 0 0;\n",
              "      width: 32px;\n",
              "    }\n",
              "\n",
              "    .colab-df-convert:hover {\n",
              "      background-color: #E2EBFA;\n",
              "      box-shadow: 0px 1px 2px rgba(60, 64, 67, 0.3), 0px 1px 3px 1px rgba(60, 64, 67, 0.15);\n",
              "      fill: #174EA6;\n",
              "    }\n",
              "\n",
              "    [theme=dark] .colab-df-convert {\n",
              "      background-color: #3B4455;\n",
              "      fill: #D2E3FC;\n",
              "    }\n",
              "\n",
              "    [theme=dark] .colab-df-convert:hover {\n",
              "      background-color: #434B5C;\n",
              "      box-shadow: 0px 1px 3px 1px rgba(0, 0, 0, 0.15);\n",
              "      filter: drop-shadow(0px 1px 2px rgba(0, 0, 0, 0.3));\n",
              "      fill: #FFFFFF;\n",
              "    }\n",
              "  </style>\n",
              "\n",
              "      <script>\n",
              "        const buttonEl =\n",
              "          document.querySelector('#df-5dd25f10-d49c-4a6b-a2dc-2957cdf8a780 button.colab-df-convert');\n",
              "        buttonEl.style.display =\n",
              "          google.colab.kernel.accessAllowed ? 'block' : 'none';\n",
              "\n",
              "        async function convertToInteractive(key) {\n",
              "          const element = document.querySelector('#df-5dd25f10-d49c-4a6b-a2dc-2957cdf8a780');\n",
              "          const dataTable =\n",
              "            await google.colab.kernel.invokeFunction('convertToInteractive',\n",
              "                                                     [key], {});\n",
              "          if (!dataTable) return;\n",
              "\n",
              "          const docLinkHtml = 'Like what you see? Visit the ' +\n",
              "            '<a target=\"_blank\" href=https://colab.research.google.com/notebooks/data_table.ipynb>data table notebook</a>'\n",
              "            + ' to learn more about interactive tables.';\n",
              "          element.innerHTML = '';\n",
              "          dataTable['output_type'] = 'display_data';\n",
              "          await google.colab.output.renderOutput(dataTable, element);\n",
              "          const docLink = document.createElement('div');\n",
              "          docLink.innerHTML = docLinkHtml;\n",
              "          element.appendChild(docLink);\n",
              "        }\n",
              "      </script>\n",
              "    </div>\n",
              "  </div>\n",
              "  "
            ]
          },
          "metadata": {},
          "execution_count": 76
        }
      ]
    },
    {
      "cell_type": "markdown",
      "source": [
        "### Decodifica tokens de resumo gerados com máximo de 400 palavras"
      ],
      "metadata": {
        "id": "Z32QpltgIgNd"
      }
    },
    {
      "cell_type": "code",
      "execution_count": null,
      "metadata": {
        "id": "-sdJtLhNJFOO"
      },
      "outputs": [],
      "source": [
        "df_noticias_longas['texto_resumido'] = df_noticias_longas.tokens_gerados.apply(lambda tokens: tokenizer.decode(tokens[0], skip_special_tokens=True))"
      ]
    },
    {
      "cell_type": "code",
      "source": [
        "# Salva dados gerados para conferencia\n",
        "df_noticias_longas.head(10)[['titulo','texto','texto_resumido','url']]\n",
        "df_noticias_longas[['titulo','texto','texto_resumido','url']].to_csv('drive/MyDrive/PUC/TCC/dados/resumos_noticias_teste.csv', sep = ',', index = True)"
      ],
      "metadata": {
        "id": "_Z2h9B8hgJ6i"
      },
      "execution_count": null,
      "outputs": []
    },
    {
      "cell_type": "markdown",
      "metadata": {
        "id": "nYVq1HCgX5zB"
      },
      "source": [
        "### Salva modelo no Google Drive para facilitar reuso (evitar novo download)"
      ]
    },
    {
      "cell_type": "code",
      "execution_count": null,
      "metadata": {
        "colab": {
          "base_uri": "https://localhost:8080/"
        },
        "id": "OJfQlVjsNqug",
        "outputId": "1224fe36-82ee-4b61-d420-0289c0459d89"
      },
      "outputs": [
        {
          "output_type": "execute_result",
          "data": {
            "text/plain": [
              "('drive/MyDrive/PUC/TCC/modelos/sumarizador_plsum/tokenizer_config.json',\n",
              " 'drive/MyDrive/PUC/TCC/modelos/sumarizador_plsum/special_tokens_map.json',\n",
              " 'drive/MyDrive/PUC/TCC/modelos/sumarizador_plsum/tokenizer.json')"
            ]
          },
          "metadata": {},
          "execution_count": 89
        }
      ],
      "source": [
        "CAMINHO_MODELO = \"drive/MyDrive/PUC/TCC/modelos/sumarizador_plsum\"\n",
        "model_pt.save_pretrained(f\"{CAMINHO_MODELO}\")\n",
        "tokenizer.save_pretrained(f\"{CAMINHO_MODELO}\")"
      ]
    },
    {
      "cell_type": "code",
      "source": [
        "# Últimos teste com a primeira página do TCC, resumindo para 200 palavras\n",
        "texto_tcc = \"\"\"Nos dias de hoje seria ingênuo culpar a popularização da internet pelos problemas da sociedade, pois não há mais como evitar sua expansão, nem tão pouco é possível imaginar o mundo sem a conectividade que conquistamos. No entanto, é importante ressaltar que os indivíduos desta sociedade podem ser perigosamente anônimos e criativos, além de carregados de desejos, histórias e, como não poderia deixar de ser, vieses negativos e positivos.\n",
        "Tendo em vista tanta criatividade anônima interconectada fica fácil imaginar como surge um boato, uma história repassada sem verificação, ou uma opinião transformada em fato. Estas situações, aparentemente inofensivas no mundo real, tornam-se perigosas no virtual, pois a checagem de fatos não é uma atividade inerente ao ser humano, nem tão pouco há jornalistas suficientes para revisar todo conteúdo que é publicado, a cada segundo, nesta enorme rede.\n",
        "É justamente neste contexto de geração e consumo de textos, em escala global e ritmo exponencial, que surgiram os sistemas automatizados de checagem e análise de conteúdo textual. A área de estudo deste tipo de sistema é o Processamento de Linguagem Natural (P.L.N.), na qual ainda temos muito para evoluir, visto que somente nos últimos anos o aprendizado profundo se popularizou e foi capaz de surpreender em algumas atividades textuais tipicamente humanas.\n",
        "Hoje temos redes neurais capazes de criar histórias, resumir conteúdos, responder questionários e até mesmo transferir todo conhecimento adquirido em uma destas tarefas para a realização de outra, assim como nós humanos fazemos. Alguns trabalhos já tiveram grande destaque acadêmico e sua publicação auxilia novos pesquisadores nesta evolução de forma mais assertiva.\n",
        "\"\"\"\n",
        "tokens = tokenizer.encode(texto_tcc, return_tensors=\"pt\").to(device_disponivel)\n",
        "gerados = model_pt.generate(\n",
        "      tokens, \n",
        "      max_length=200, \n",
        "      length_penalty=2.0, \n",
        "      num_beams=4, \n",
        "      early_stopping=True)\n",
        "print(tokenizer.decode(gerados[0], skip_special_tokens=True))\n"
      ],
      "metadata": {
        "colab": {
          "base_uri": "https://localhost:8080/"
        },
        "id": "YUFROxmxfUeI",
        "outputId": "151546b8-b23f-45be-ce38-f76c30c480cf"
      },
      "execution_count": 22,
      "outputs": [
        {
          "output_type": "stream",
          "name": "stdout",
          "text": [
            "o processamento de linguagem natural (P.L.N.), na qual ainda temos muito para evoluir, visto que somente nos últimos anos o aprendizado profundo se popularizou e foi capaz de surpreender em algumas atividades textuais tipicamente humanas. Hoje temos redes neurais capazes de criar histórias, resumir conteúdos, responder questionários e até mesmo transferir todo conhecimento adquirido em uma destas tarefas para a realização de outra, assim como nós humanos fazemos. Alguns trabalhos já tiveram grande destaque acadêmico e sua publicação auxilia novos pesquisadores nesta evolução de forma mais assertiva. \n"
          ]
        }
      ]
    }
  ],
  "metadata": {
    "accelerator": "GPU",
    "colab": {
      "collapsed_sections": [],
      "machine_shape": "hm",
      "name": "classificacao_passo02_treino_avaliacao.ipynb",
      "provenance": [],
      "include_colab_link": true
    },
    "interpreter": {
      "hash": "50691a0bc379e9e647c9463feff34781ae883c7b810726d51a7ed60c4a02b637"
    },
    "kernelspec": {
      "display_name": "Python 3.8.13 ('tcc')",
      "language": "python",
      "name": "python3"
    },
    "language_info": {
      "codemirror_mode": {
        "name": "ipython",
        "version": 3
      },
      "file_extension": ".py",
      "mimetype": "text/x-python",
      "name": "python",
      "nbconvert_exporter": "python",
      "pygments_lexer": "ipython3",
      "version": "3.8.13"
    }
  },
  "nbformat": 4,
  "nbformat_minor": 0
}