{
  "cells": [
    {
      "cell_type": "markdown",
      "metadata": {
        "id": "view-in-github",
        "colab_type": "text"
      },
      "source": [
        "<a href=\"https://colab.research.google.com/github/caesarcc/pucminas-tcc-fake-news-detection/blob/main/passo02_preparacao_do_PTT5_sumarizador.ipynb\" target=\"_parent\"><img src=\"https://colab.research.google.com/assets/colab-badge.svg\" alt=\"Open In Colab\"/></a>"
      ]
    },
    {
      "cell_type": "markdown",
      "metadata": {
        "id": "dRD3HmqT1EKZ"
      },
      "source": [
        "## Preparação do Modelo T5, pré-treinado em PT-BR, para sumarização\n",
        "\n",
        "### Iniciando pela configuração do Google Colab, libs externas e acesso ao Google Drive"
      ]
    },
    {
      "cell_type": "code",
      "execution_count": 1,
      "metadata": {
        "colab": {
          "base_uri": "https://localhost:8080/"
        },
        "id": "GLWPP5tE97EJ",
        "outputId": "231e73b1-b84c-47a4-af09-4093f022cf36"
      },
      "outputs": [
        {
          "output_type": "stream",
          "name": "stdout",
          "text": [
            "\u001b[K     |████████████████████████████████| 4.0 MB 5.2 MB/s \n",
            "\u001b[K     |████████████████████████████████| 596 kB 85.4 MB/s \n",
            "\u001b[K     |████████████████████████████████| 880 kB 58.1 MB/s \n",
            "\u001b[K     |████████████████████████████████| 86 kB 5.9 MB/s \n",
            "\u001b[K     |████████████████████████████████| 6.6 MB 55.4 MB/s \n",
            "\u001b[?25h  Building wheel for sacremoses (setup.py) ... \u001b[?25l\u001b[?25hdone\n",
            "\u001b[K     |████████████████████████████████| 1.2 MB 5.2 MB/s \n",
            "\u001b[K     |████████████████████████████████| 211 kB 5.1 MB/s \n",
            "\u001b[K     |████████████████████████████████| 81 kB 10.3 MB/s \n",
            "\u001b[K     |████████████████████████████████| 93 kB 2.2 MB/s \n",
            "\u001b[K     |████████████████████████████████| 7.4 MB 23.6 MB/s \n",
            "\u001b[?25h  Building wheel for tinysegmenter (setup.py) ... \u001b[?25l\u001b[?25hdone\n",
            "  Building wheel for feedfinder2 (setup.py) ... \u001b[?25l\u001b[?25hdone\n",
            "  Building wheel for jieba3k (setup.py) ... \u001b[?25l\u001b[?25hdone\n",
            "  Building wheel for sgmllib3k (setup.py) ... \u001b[?25l\u001b[?25hdone\n"
          ]
        }
      ],
      "source": [
        "# lib para utilizar arquitetura transformers\n",
        "!pip install -q transformers==4.18.0\n",
        "# lib necessária para o tokenizador   \n",
        "!pip install -q sentencepiece\n",
        "# lib auxiliar para facilitar o scraping de artigos na web\n",
        "!pip install -q newspaper3k"
      ]
    },
    {
      "cell_type": "code",
      "execution_count": 2,
      "metadata": {
        "colab": {
          "base_uri": "https://localhost:8080/"
        },
        "id": "3EZomSUMMKAf",
        "outputId": "c367c888-973e-4e6f-f12f-923856cda671"
      },
      "outputs": [
        {
          "output_type": "stream",
          "name": "stdout",
          "text": [
            "Mounted at /content/drive\n"
          ]
        }
      ],
      "source": [
        "# Acesso ao Google Driver onde serão salvos os arquivos grandes\n",
        "# Atenção: Todos arquivos usados também estão disponíveis nas pastas modelos e dados, respectivamente\n",
        "from google.colab import drive\n",
        "drive.mount('/content/drive')"
      ]
    },
    {
      "cell_type": "code",
      "execution_count": 3,
      "metadata": {
        "cellView": "form",
        "id": "CPzAh59THwj1"
      },
      "outputs": [],
      "source": [
        "# Importação de bibliotecas\n",
        "import re\n",
        "import newspaper\n",
        "import torch\n",
        "from transformers import T5Tokenizer\n",
        "from transformers import T5Model, T5ForConditionalGeneration"
      ]
    },
    {
      "cell_type": "markdown",
      "source": [
        "### Carga dos modelos pré-treinados em arquitetura transformers, disponíveis na plataforma [Hugging Face](https://huggingface.co/models)"
      ],
      "metadata": {
        "id": "2Oeh72_K2WCf"
      }
    },
    {
      "cell_type": "code",
      "execution_count": 4,
      "metadata": {
        "colab": {
          "base_uri": "https://localhost:8080/",
          "height": 113,
          "referenced_widgets": [
            "871ef13344fa4f67802f5d87f365eadc",
            "f67c4d70883e4147a56eec5d244b3d6e",
            "a3896129c35f411083117764bd331f56",
            "a89b7c2709cc4186b593ecf876d98381",
            "d999474fb2024bada24968b433a734f3",
            "f5fa82f16cf4429ab140a6829a40c9bc",
            "a04b970086694825a82c0562aed98a09",
            "e70dbaa013154f28a291e3b161bebc23",
            "0ffbcce0956e4e86a257e45c0936d0fd",
            "08c99192707a47fabe2cbed8c69dfd27",
            "8cde27e38e7544b7ab954e98480cadd6",
            "3f86c80af8cd48cdb04a1a5c014aa7bd",
            "cea13eb3ec4b4ce5bc88b59f3aa12962",
            "200017dd7c2e4cf480007e26908a6a18",
            "28af701a993e4e94b81677222262b127",
            "39021e3bf00b436dba7b26d88f30aa5e",
            "95c63f3106e948c3b918a611172d12dc",
            "5b2d3ab7c17343c3a4933cee283220c3",
            "fb5c4d03867f456ea9c87543d765e1b2",
            "4002448f560f4f0b8058d7e90c0b9f19",
            "f5f1331ac71f4567a2f0c90670c06a4c",
            "8386163e232748c99cdf428b07641bb1",
            "d5154caf5ec34d61ae108f85d5865b7f",
            "38765e87cd604259a26b7f3c753e67b1",
            "86ceb943d1034bf980fb871bff4483a1",
            "f88ab27cf3f345c38120c96f6d4c6eaf",
            "72b20395fc354f72bcb1da1c192b8771",
            "c9dbafdc349249e9b2c1da691f8d3166",
            "afd88c65e9404b3fb49e462c1c61b4a2",
            "18fc54728e2f438789312f1c491f3dc9",
            "9b21476133684b6481784223463655bb",
            "4741bbcb7c4c413cbf04de07467abc17",
            "441c69a495e34cde9fb1fb482c0945be"
          ]
        },
        "id": "XJXnv0l_JFOG",
        "outputId": "af1d567c-2f2d-4004-ab26-dd00810cad10"
      },
      "outputs": [
        {
          "output_type": "display_data",
          "data": {
            "text/plain": [
              "Downloading:   0%|          | 0.00/738k [00:00<?, ?B/s]"
            ],
            "application/vnd.jupyter.widget-view+json": {
              "version_major": 2,
              "version_minor": 0,
              "model_id": "871ef13344fa4f67802f5d87f365eadc"
            }
          },
          "metadata": {}
        },
        {
          "output_type": "display_data",
          "data": {
            "text/plain": [
              "Downloading:   0%|          | 0.00/456 [00:00<?, ?B/s]"
            ],
            "application/vnd.jupyter.widget-view+json": {
              "version_major": 2,
              "version_minor": 0,
              "model_id": "3f86c80af8cd48cdb04a1a5c014aa7bd"
            }
          },
          "metadata": {}
        },
        {
          "output_type": "display_data",
          "data": {
            "text/plain": [
              "Downloading:   0%|          | 0.00/850M [00:00<?, ?B/s]"
            ],
            "application/vnd.jupyter.widget-view+json": {
              "version_major": 2,
              "version_minor": 0,
              "model_id": "d5154caf5ec34d61ae108f85d5865b7f"
            }
          },
          "metadata": {}
        }
      ],
      "source": [
        "# Modelo trainado em PT-BR\n",
        "model_name = 'unicamp-dl/ptt5-base-portuguese-vocab'\n",
        "# Tokenizador para ptbr\n",
        "tokenizer = T5Tokenizer.from_pretrained(model_name)\n",
        "# Pesos do modelo em PyTorch\n",
        "model_pt = T5ForConditionalGeneration.from_pretrained(model_name)"
      ]
    },
    {
      "cell_type": "code",
      "execution_count": 30,
      "metadata": {
        "id": "ouGMVUwBJFOI"
      },
      "outputs": [],
      "source": [
        "artigo = newspaper.Article('https://www.bbc.com/portuguese/internacional-61818563', language='pt')\n",
        "artigo.download()\n",
        "artigo.parse()\n",
        "#print(artigo.text[295:])"
      ]
    },
    {
      "cell_type": "code",
      "execution_count": 48,
      "metadata": {
        "colab": {
          "base_uri": "https://localhost:8080/",
          "height": 522
        },
        "id": "sdLq4bK4JFOK",
        "outputId": "e6ebad81-e6ad-4b69-e9d3-c04cfa887c09"
      },
      "outputs": [
        {
          "output_type": "display_data",
          "data": {
            "text/plain": [
              "'Quantidade de palavras: 1162'"
            ],
            "application/vnd.google.colaboratory.intrinsic+json": {
              "type": "string"
            }
          },
          "metadata": {}
        },
        {
          "output_type": "display_data",
          "data": {
            "text/plain": [
              "'Sem negar nem confirmar o teor de uma reportagem da agência Bloomberg, que afirmou que o presidente brasileiro Jair Bolsonaro PL teria pedido ao seu colega americano Joe Biden ajuda para se reeleger nas eleições presidenciais de outubro, a Casa Branca afirmou BBC News Brasil, por meio de um porta-voz, que espera que \"os candidatos respeitem o resultado constitucional do processo eleitoral\" e reafirmou \"total confiança\" no sistema de eleições do país. \"Falando amplamente, temos total confiança no sistema eleitoral do Brasil. Em uma democracia consolidada como a brasileira, esperamos que os candidatos respeitem o resultado constitucional do processo eleitoral\", afirmou um porta-voz da Casa Branca. A manifestação acontece menos de uma semana após o primeiro encontro entre Bolsonaro e Biden, em Los Angeles, s margens da 9a Cúpula das Américas, das quais os americanos eram anfitriões. Durante os primeiros dez minutos da reunião, abertos para a imprensa, o presidente americano fez questão de citar que o país sul-americano tem \"instituições eleitorais fortes\" e uma \"democracia inclusiva\". Os comentários eram respostas s repetidas alegações - sem provas - de Bolsonaro de que as urnas eletrônicas não seriam confiáveis, que os militares deveriam se envolver na contagem de votos e que ele poderia não aceitar o resultado do pleito que acontece em menos de 4 meses. Em sondagens eleitorais, o presidente, que tenta a reeleição, tem aparecido em segundo lugar na preferência popular. Diante de Biden e da imprensa, Bolsonaro afirmou que \"tenho certeza que serão realizadas as eleições neste estilo democrático. Cheguei pela democracia e tenho certeza que quando deixar o governo, também será de forma democrática\". Ele porém voltou a citar que \"nós queremos eleições limpas, confiáveis e auditáveis, para que não haja nenhuma dúvida após o pleito\", típico argumento que vem repetindo ao acusar o Tribunal Superior Eleitoral TSE de não garantir a segurança e a confiabilidade do processo, cujos resultados, repete Bolsonaro, não seriam verificáveis, algo que o TSE refuta. Pule Podcast e continue lendo Podcast BBC Lê A equipe da BBC News Brasil lê para você algumas de suas melhores reportagens Episódios Fim do Podcast Depois desses minutos iniciais, no entanto, a conversa se estendeu por mais de meia hora. Na parte final, Bolsonaro quebrou o protocolo e pediu para ficar a sós com Biden, sem os oito auxiliares que acompanhavam cada um dos líderes na sala. No fim, apenas os presidentes, um tradutor e os dois chefes de política exterior dos países ficaram na sala. Bolsonaro afirmou que o que foi tratado ali, quando ambos os mandatários ficaram \"a menos de um metro de distância\" e \"sem máscaras\", era \"segredo de Estado\". Mas, segundo reportagem da Bloomberg publicada há 4 dias, Bolsonaro aproveitou do clima mais intimista para pedir a Biden que o ajudasse a se reeleger no Brasil. O veículo americano atribui a informação a \"pessoas familiarizadas com o assunto\", afirma que Bolsonaro se referiu a Lula como \"esquerdista radical\" e \"contrário aos interesses americanos\" e diz que Biden simplesmente mudou de assunto diante do pedido. Questionados pela BBC News Brasil sobre se confirmariam tal relato, tanto a Casa Branca quanto o Departamento de Estado e o Conselho de Segurança Nacional dos EUA evitaram desmentir ou chancelar o teor da reportagem. Crédito, ITAMARATY Legenda da foto, Segundo reportagem da Bloomberg, Bolsonaro teria pedido a Biden ajuda para se reeleger nas eleições presidenciais de outubro \"Os Estados Unidos expressaram em várias ocasiões confiança nas instituições democráticas do Brasil e respeito pelo forte histórico do Brasil de eleições livres e justas\", afirmou BBC News Brasil um porta-voz do Departamento de Estado. Já Bolsonaro, nesta terça, 146, negou que tenha feito tal pedido. \"Não existe isso aí. Teve uma reunião bilateral ampliada, com 20 pessoas presentes, 30 minutos de conversa e depois pedi uma reservada com Joe Biden. O que nós tratamos ali é reservado, cada um pode falar o que bem entender. Agora, a Bloomberg não cita fontes, segundo tal pessoal. O que eu conversei com o Biden não sai de mim, nem do ministro das Relações Exteriores Carlos França. É especulação\", disse Bolsonaro, em entrevista rádio CBN Recife. Estados Unidos não toleram intervenção Tanto durante a conversa bilateral quanto em seu discurso na Cúpula, Bolsonaro tentou mostrar aos americanos que não só o Brasil, mas também seu governo, estão alinhados com os interesses da Casa Branca. Enquanto Biden era abertamente criticado por outros líderes latinos por ter optado por excluir da Cúpula Cuba, Nicarágua e Venezuela, Bolsonaro se colocou diante do mandatário americano como um anteparo ao avanço de regimes autoritários de esquerda no continente, algo valorizado em Washington. Por outro lado, o governo Biden se mostra insatisfeito com os crescentes ataques de Bolsonaro s eleições no Brasil e vê no comportamento do brasileiro ecos da postura adotada pelo republicano Donald Trump, que desaguaram na invasão do Congresso dos EUA, em janeiro de 2021. Segundo disse a porta-voz do Departamento de Estado, Kristina Rosales, um dia após o encontro, Biden deixou claro a Bolsonaro que \"os Estados Unidos não toleram, não aceitam intervenção no sistema eleitoral em nenhum lugar\". \"A gente entende muito bem que há eleições no Brasil em outubro, nos próximos meses. Entendemos muito a preocupação do povo brasileiro com esse tema. Tanto que na reunião, o próprio presidente Bolsonaro falou que ele respeita a democracia, que vai respeitar o resultado. A gente vai levar a sério essa declaração que foi feita pelo presidente Bolsonaro ontem dia 96\", afirmou Rosales. Depois do encontro e antes de partir dos EUA, Bolsonaro se encontrou com apoiadores em Orlando, na Flórida, e voltou a renovar suas alegações de desconfiança sobre as eleições no Brasil. Bolsonaro disse que o único jeito de evitar \"problemas\" - como atos violentos ao estilo da invasão do Capitólio - seria o TSE dialogar com as Forças Armadas para fazer a eleição e citou frase recente do presidenciável do PDT, Ciro Gomes, para quem \"se Lula ganhar, o Brasil amanhece em guerra\". Este texto foi publicado originalmente na BBC News Brasil. Sabia que a BBC está também no Telegram Inscreva-se no canal.'"
            ],
            "application/vnd.google.colaboratory.intrinsic+json": {
              "type": "string"
            }
          },
          "metadata": {}
        }
      ],
      "source": [
        "# Limpar textos\n",
        "def limpar_textos(texto):\n",
        "    # Corrige marcadores de nova linha indevidos (textuas e não textuais)\n",
        "    texto = re.sub(r'(\\n|\\r)', ' ', texto)\n",
        "    texto = re.sub('(\\n|\\r)', '', texto)\n",
        "    # Remove urls no texto\n",
        "    texto = re.sub(r'(https|http|ftp)?:\\/\\/(\\w|\\.|-|\\/|\\?|\\=|\\&|\\%)*\\b', '', texto)\n",
        "    # Limpa restante do texto para manter apenas conteúdo útil\n",
        "    texto = re.sub(u'[^a-zA-Z0-9áéíóúÁÉÍÓÚâêîôÂÊÎÔãõÃÕçÇ:\\-,.\" ]', '', texto)\n",
        "    # Remove reticências e pontuação incorreta\n",
        "    texto = texto.replace('...', '').replace(\"..\", \".\").replace(\". .\", \".\")\n",
        "    # Remove multiplos caracteres em branco\n",
        "    texto = re.sub(r'\\s+',' ', texto)\n",
        "    return texto.strip()\n",
        "\n",
        "texto = limpar_textos(artigo.text[295:])\n",
        "qtde_tokens = len(re.findall(r\"[\\w']+|[.,!?;:/\\\"]\", texto))\n",
        "display(f\"Quantidade de palavras: {qtde_tokens}\", texto)"
      ]
    },
    {
      "cell_type": "markdown",
      "source": [
        "### Codifica (Tokeniza) o texto de entrada"
      ],
      "metadata": {
        "id": "eZholx5EIWIQ"
      }
    },
    {
      "cell_type": "code",
      "source": [
        "tokens_entrada = tokenizer.encode(texto, return_tensors=\"pt\")\n",
        "print(f\"Quantidade de tokens gerados: {len(tokens_entrada[0])}\")"
      ],
      "metadata": {
        "id": "N6FrrPhPCDDK",
        "outputId": "3bdf6c50-6c69-4b3b-a523-e41bc7b0b9fa",
        "colab": {
          "base_uri": "https://localhost:8080/"
        }
      },
      "execution_count": 53,
      "outputs": [
        {
          "output_type": "stream",
          "name": "stdout",
          "text": [
            "Quantidade de tokens gerados: 1328\n"
          ]
        }
      ]
    },
    {
      "cell_type": "markdown",
      "source": [
        "### Coloca o modelo e os tokens gerados no device disponível, usar Colab para GPU"
      ],
      "metadata": {
        "id": "woYv1fh5F7gP"
      }
    },
    {
      "cell_type": "code",
      "source": [
        "# adiciona o modelo ao device disponível\n",
        "device_disponivel = 'cuda' if torch.cuda.is_available() else 'cpu'\n",
        "model_pt.to(device_disponivel)\n",
        "tokens_entrada = tokens_entrada.to(device_disponivel)"
      ],
      "metadata": {
        "id": "7VoBIdelF58U"
      },
      "execution_count": 50,
      "outputs": []
    },
    {
      "cell_type": "markdown",
      "source": [
        "### Gera a sumarização do texto com o modelo carregado"
      ],
      "metadata": {
        "id": "8CyBDqOuCZva"
      }
    },
    {
      "cell_type": "code",
      "execution_count": 51,
      "metadata": {
        "colab": {
          "base_uri": "https://localhost:8080/",
          "height": 746
        },
        "id": "QyLD8QdGJFOM",
        "outputId": "837ed724-62c0-4a41-96c7-14a77a6a808d"
      },
      "outputs": [
        {
          "output_type": "display_data",
          "data": {
            "text/plain": [
              "400"
            ]
          },
          "metadata": {}
        },
        {
          "output_type": "display_data",
          "data": {
            "text/plain": [
              "tensor([[    0,  3647,  6955,    33,  1162, 16355,     9,  9258,     4,    17,\n",
              "         14152,    11,  5797, 18259,  2702,     3,    13,  1670,    13,     9,\n",
              "           409,   364, 13475, 15980,   310,   503,   989,  2621,    37,    45,\n",
              "          6755,   574,  3853,  1287,   939,  1153,    20,    35,   115,  2406,\n",
              "          1208,   117,  1364, 14368,     4,   312,     3,     7,   908,  5927,\n",
              "          1670,  5184,  6612,   112,     3,    26,   386,     4,    16,  2215,\n",
              "            14, 12045,     3,    13,  4185,    13,    15,   300,  4327, 16040,\n",
              "          1954,  3633,     9,   849,  6950,    10,   519,  5720,    27,     8,\n",
              "          3044,  9140,  6199,    15,   123,  1308,  7008,    27,    19,   276,\n",
              "             4,  1364,    10,   221,     5,    15,  3528,   104,    59,  4103,\n",
              "             3,  5428,   547,  7008,    19,   276,  5720,    10,   112,     5,\n",
              "            40,    17,  8159,  7720,    58,    29,     7,   677,     3,  4185,\n",
              "           573,    13,    30,  4327, 16040,  1954,  3633,     9,   849,  6950,\n",
              "            10,   519,  5720,    49,  1670,    16,  2215,    14, 12045,    11,\n",
              "           908,  5927,     5,    25, 10769,  3486,   454,     4,    17,  1082,\n",
              "           144,     9,    90,  3230,    60, 15980,     8,  1287,   939,     3,\n",
              "            12,  1641,  1775,     3,    31,     6,  4187,    11,   351,    44,\n",
              "           201,   709,  8945,    51, 13710,     3,    51,   369,    30,  4479,\n",
              "           282,  3658,   861,  1770,   803,     5,   440,    30,   642,  1463,\n",
              "          1131,    11,  3815,     3, 11889,    20,     7,  2375,     3,     9,\n",
              "           409,   574,   261,  2289,     4, 13352,    13,     9,   221,   391,\n",
              "            14,   706,    87,    15,  2768, 10324,   229, 16017,  3246,    27,\n",
              "             8,    17,    15,    86,   257, 18881,   164, 15532,    64,    85,\n",
              "          7120,   282, 11156,    31,     6, 16671,     6, 17420,    78,   203,\n",
              "          2941,    78,     4, 15980,     4,    13,    42, 20399,  5441,     6,\n",
              "            47,  2705, 22068,     3,    13,    30,  1458,  6311,    35, 11469,\n",
              "            22, 10985,     4,  1214,     8,    13,    68,  1220,    47,  6394,\n",
              "             9,   849,    10, 14799,    13,  3486,    12,   454,     4,   163,\n",
              "           739,     5,    40,  7278,  2766, 16017,     3,     9,   409,     3,\n",
              "            13,  2630,     7, 11463,     3,    87,     7,  1294,  4732,    12,\n",
              "           176,   287,    22,  9507,   860,     5, 13781,     4,  1287,   939,\n",
              "             8,    11,  2375,     3, 15980,  1670,    13,    15,   146,  2511,\n",
              "          9406,    13,  3715,  2909,    42,  1364,  1228,   718, 15279,     5,\n",
              "          2240,  1066,    76,    50,  8159,     8, 14479,  9406,    13,    94,\n",
              "          1975,     9,   269,     3,    55,  1133,     4,   156, 14114,    64,\n",
              "           128,   596,  1212,     7, 13352,    13,    15,  5854,     6,    13,\n",
              "          9582,  1364, 11236,     6,     3, 22068,     8,     7,  9230,  7356,\n",
              "             3,    20,    13,    47,  7700,  1921,  8212,   144,     9, 14799,\n",
              "            49,  8030,  8032,    13,  1693, 22820,    37,  8705,    33,     9,\n",
              "          2330,  2844,  7744,   299,  6449,     4,    47,  3939,     7,  1453]],\n",
              "       device='cuda:0')"
            ]
          },
          "metadata": {}
        }
      ],
      "source": [
        "# max_length: O número máximo de tokens a serem gerado.\n",
        "# length_penalty: Penalidade exponencial para o comprimento, 1,0 significa sem penalidade.\n",
        "# num_beams: Especifica como usar busca heurística (beam search) em vez de busca gulosa (greedy search), \n",
        "#            O modelo tentará manter as 4 hipóteses mais prováveis ​​em cada passo de tempo.\n",
        "# early_stopping: A geração seja concluída quando todas as hipóteses (beams) atingirem o final do token de string ( EOS ).\n",
        "outputs = model_pt.generate(\n",
        "    tokens_entrada, \n",
        "    max_length=400, \n",
        "    length_penalty=2.0, \n",
        "    num_beams=4, \n",
        "    early_stopping=True)\n",
        "display(len(outputs[0]), outputs)"
      ]
    },
    {
      "cell_type": "markdown",
      "source": [
        "### Decodifica tokens de resumo gerados com máximo de 400 palavras"
      ],
      "metadata": {
        "id": "Z32QpltgIgNd"
      }
    },
    {
      "cell_type": "code",
      "execution_count": 54,
      "metadata": {
        "id": "-sdJtLhNJFOO"
      },
      "outputs": [],
      "source": [
        "texto_resumido = tokenizer.decode(outputs[0], skip_special_tokens=True, clean_up_tokenization_spaces=False)"
      ]
    },
    {
      "cell_type": "code",
      "source": [
        "qtde_tokens = len(re.findall(r\"[\\w']+|[.,!?;:/\\\"]\", texto_resumido))\n",
        "# pode tranquilamente gerar menos de 400, só não pode gerar mais.\n",
        "display(f\"Quantidade de palavras: {qtde_tokens}\", texto_resumido)"
      ],
      "metadata": {
        "id": "4RmGzw9iBu1G",
        "outputId": "6d6026b5-4df5-4c2c-d07a-1da30402d5e1",
        "colab": {
          "base_uri": "https://localhost:8080/",
          "height": 193
        }
      },
      "execution_count": 55,
      "outputs": [
        {
          "output_type": "display_data",
          "data": {
            "text/plain": [
              "'Quantidade de palavras: 351'"
            ],
            "application/vnd.google.colaboratory.intrinsic+json": {
              "type": "string"
            }
          },
          "metadata": {}
        },
        {
          "output_type": "display_data",
          "data": {
            "text/plain": [
              "'Sem negar nem confirmar o teor de uma reportagem da agência Bloomberg, que afirmou que o presidente brasileiro Jair Bolsonaro PL teria pedido ao seu colega americano Joe Biden ajuda para se reeleger nas eleições presidenciais de outubro, a Casa Branca afirmou BBC News Brasil, por meio de um porta-voz, que espera que \"os candidatos respeitem o resultado constitucional do processo eleitoral\" e reafirmou \"total confiança\" no sistema de eleições do país. \"Falando amplamente, temos total confiança no sistema eleitoral do Brasil. Em uma democracia consolidada como a brasileira, esperamos que os candidatos respeitem o resultado constitucional do processo eleitoral\", afirmou um porta-voz da Casa Branca. A manifestação acontece menos de uma semana após o primeiro encontro entre Bolsonaro e Biden, em Los Angeles, s margens da 9a Cúpula das Américas, das quais os americanos eram anfitriões. Durante os primeiros dez minutos da reunião, abertos para a imprensa, o presidente americano fez questão de citar que o país sul-americano tem \"instituições eleitorais fortes\" e uma \"democracia inclusiva\". Os comentários eram respostas s repetidas alegações - sem provas - de Bolsonaro de que as urnas eletrônicas não seriam confiáveis, que os militares deveriam se envolver na contagem de votos e que ele poderia não aceitar o resultado do pleito que acontece em menos de 4 meses. Em sondagens eleitorais, o presidente, que tenta a reeleição, tem aparecido em segundo lugar na preferência popular. Diante de Biden e da imprensa, Bolsonaro afirmou que \"tenho certeza que serão realizadas as eleições neste estilo democrático. Cheguei pela democracia e tenho certeza que quando deixar o governo, também será de forma democrática\". Ele porém voltou a citar que \"nós queremos eleições limpas, confiáveis e auditáveis, para que não haja nenhuma dúvida após o pleito\", típico argumento que vem repetindo ao acusar o Tribunal Superior Eleitoral TSE de não garantir a segurança'"
            ],
            "application/vnd.google.colaboratory.intrinsic+json": {
              "type": "string"
            }
          },
          "metadata": {}
        }
      ]
    },
    {
      "cell_type": "markdown",
      "metadata": {
        "id": "nYVq1HCgX5zB"
      },
      "source": [
        "### Salva modelo no Google Drive para facilitar reuso (evitar novo download)"
      ]
    },
    {
      "cell_type": "code",
      "execution_count": 56,
      "metadata": {
        "colab": {
          "base_uri": "https://localhost:8080/"
        },
        "id": "OJfQlVjsNqug",
        "outputId": "c7885b7d-16e5-4fe1-aab1-7bb0007e35b8"
      },
      "outputs": [
        {
          "output_type": "execute_result",
          "data": {
            "text/plain": [
              "('drive/MyDrive/PUC/TCC/modelos/sumarizador_ptt5/tokenizer_config.json',\n",
              " 'drive/MyDrive/PUC/TCC/modelos/sumarizador_ptt5/special_tokens_map.json',\n",
              " 'drive/MyDrive/PUC/TCC/modelos/sumarizador_ptt5/spiece.model',\n",
              " 'drive/MyDrive/PUC/TCC/modelos/sumarizador_ptt5/added_tokens.json')"
            ]
          },
          "metadata": {},
          "execution_count": 56
        }
      ],
      "source": [
        "CAMINHO_MODELO = \"drive/MyDrive/PUC/TCC/modelos/sumarizador_ptt5\"\n",
        "model_pt.save_pretrained(f\"{CAMINHO_MODELO}\")\n",
        "tokenizer.save_pretrained(f\"{CAMINHO_MODELO}\")"
      ]
    }
  ],
  "metadata": {
    "accelerator": "GPU",
    "colab": {
      "collapsed_sections": [],
      "machine_shape": "hm",
      "name": "classificacao_passo02_treino_avaliacao.ipynb",
      "provenance": [],
      "include_colab_link": true
    },
    "interpreter": {
      "hash": "50691a0bc379e9e647c9463feff34781ae883c7b810726d51a7ed60c4a02b637"
    },
    "kernelspec": {
      "display_name": "Python 3.8.13 ('tcc')",
      "language": "python",
      "name": "python3"
    },
    "language_info": {
      "codemirror_mode": {
        "name": "ipython",
        "version": 3
      },
      "file_extension": ".py",
      "mimetype": "text/x-python",
      "name": "python",
      "nbconvert_exporter": "python",
      "pygments_lexer": "ipython3",
      "version": "3.8.13"
    },
    "widgets": {
      "application/vnd.jupyter.widget-state+json": {
        "871ef13344fa4f67802f5d87f365eadc": {
          "model_module": "@jupyter-widgets/controls",
          "model_name": "HBoxModel",
          "model_module_version": "1.5.0",
          "state": {
            "_dom_classes": [],
            "_model_module": "@jupyter-widgets/controls",
            "_model_module_version": "1.5.0",
            "_model_name": "HBoxModel",
            "_view_count": null,
            "_view_module": "@jupyter-widgets/controls",
            "_view_module_version": "1.5.0",
            "_view_name": "HBoxView",
            "box_style": "",
            "children": [
              "IPY_MODEL_f67c4d70883e4147a56eec5d244b3d6e",
              "IPY_MODEL_a3896129c35f411083117764bd331f56",
              "IPY_MODEL_a89b7c2709cc4186b593ecf876d98381"
            ],
            "layout": "IPY_MODEL_d999474fb2024bada24968b433a734f3"
          }
        },
        "f67c4d70883e4147a56eec5d244b3d6e": {
          "model_module": "@jupyter-widgets/controls",
          "model_name": "HTMLModel",
          "model_module_version": "1.5.0",
          "state": {
            "_dom_classes": [],
            "_model_module": "@jupyter-widgets/controls",
            "_model_module_version": "1.5.0",
            "_model_name": "HTMLModel",
            "_view_count": null,
            "_view_module": "@jupyter-widgets/controls",
            "_view_module_version": "1.5.0",
            "_view_name": "HTMLView",
            "description": "",
            "description_tooltip": null,
            "layout": "IPY_MODEL_f5fa82f16cf4429ab140a6829a40c9bc",
            "placeholder": "​",
            "style": "IPY_MODEL_a04b970086694825a82c0562aed98a09",
            "value": "Downloading: 100%"
          }
        },
        "a3896129c35f411083117764bd331f56": {
          "model_module": "@jupyter-widgets/controls",
          "model_name": "FloatProgressModel",
          "model_module_version": "1.5.0",
          "state": {
            "_dom_classes": [],
            "_model_module": "@jupyter-widgets/controls",
            "_model_module_version": "1.5.0",
            "_model_name": "FloatProgressModel",
            "_view_count": null,
            "_view_module": "@jupyter-widgets/controls",
            "_view_module_version": "1.5.0",
            "_view_name": "ProgressView",
            "bar_style": "success",
            "description": "",
            "description_tooltip": null,
            "layout": "IPY_MODEL_e70dbaa013154f28a291e3b161bebc23",
            "max": 755569,
            "min": 0,
            "orientation": "horizontal",
            "style": "IPY_MODEL_0ffbcce0956e4e86a257e45c0936d0fd",
            "value": 755569
          }
        },
        "a89b7c2709cc4186b593ecf876d98381": {
          "model_module": "@jupyter-widgets/controls",
          "model_name": "HTMLModel",
          "model_module_version": "1.5.0",
          "state": {
            "_dom_classes": [],
            "_model_module": "@jupyter-widgets/controls",
            "_model_module_version": "1.5.0",
            "_model_name": "HTMLModel",
            "_view_count": null,
            "_view_module": "@jupyter-widgets/controls",
            "_view_module_version": "1.5.0",
            "_view_name": "HTMLView",
            "description": "",
            "description_tooltip": null,
            "layout": "IPY_MODEL_08c99192707a47fabe2cbed8c69dfd27",
            "placeholder": "​",
            "style": "IPY_MODEL_8cde27e38e7544b7ab954e98480cadd6",
            "value": " 738k/738k [00:00&lt;00:00, 4.35MB/s]"
          }
        },
        "d999474fb2024bada24968b433a734f3": {
          "model_module": "@jupyter-widgets/base",
          "model_name": "LayoutModel",
          "model_module_version": "1.2.0",
          "state": {
            "_model_module": "@jupyter-widgets/base",
            "_model_module_version": "1.2.0",
            "_model_name": "LayoutModel",
            "_view_count": null,
            "_view_module": "@jupyter-widgets/base",
            "_view_module_version": "1.2.0",
            "_view_name": "LayoutView",
            "align_content": null,
            "align_items": null,
            "align_self": null,
            "border": null,
            "bottom": null,
            "display": null,
            "flex": null,
            "flex_flow": null,
            "grid_area": null,
            "grid_auto_columns": null,
            "grid_auto_flow": null,
            "grid_auto_rows": null,
            "grid_column": null,
            "grid_gap": null,
            "grid_row": null,
            "grid_template_areas": null,
            "grid_template_columns": null,
            "grid_template_rows": null,
            "height": null,
            "justify_content": null,
            "justify_items": null,
            "left": null,
            "margin": null,
            "max_height": null,
            "max_width": null,
            "min_height": null,
            "min_width": null,
            "object_fit": null,
            "object_position": null,
            "order": null,
            "overflow": null,
            "overflow_x": null,
            "overflow_y": null,
            "padding": null,
            "right": null,
            "top": null,
            "visibility": null,
            "width": null
          }
        },
        "f5fa82f16cf4429ab140a6829a40c9bc": {
          "model_module": "@jupyter-widgets/base",
          "model_name": "LayoutModel",
          "model_module_version": "1.2.0",
          "state": {
            "_model_module": "@jupyter-widgets/base",
            "_model_module_version": "1.2.0",
            "_model_name": "LayoutModel",
            "_view_count": null,
            "_view_module": "@jupyter-widgets/base",
            "_view_module_version": "1.2.0",
            "_view_name": "LayoutView",
            "align_content": null,
            "align_items": null,
            "align_self": null,
            "border": null,
            "bottom": null,
            "display": null,
            "flex": null,
            "flex_flow": null,
            "grid_area": null,
            "grid_auto_columns": null,
            "grid_auto_flow": null,
            "grid_auto_rows": null,
            "grid_column": null,
            "grid_gap": null,
            "grid_row": null,
            "grid_template_areas": null,
            "grid_template_columns": null,
            "grid_template_rows": null,
            "height": null,
            "justify_content": null,
            "justify_items": null,
            "left": null,
            "margin": null,
            "max_height": null,
            "max_width": null,
            "min_height": null,
            "min_width": null,
            "object_fit": null,
            "object_position": null,
            "order": null,
            "overflow": null,
            "overflow_x": null,
            "overflow_y": null,
            "padding": null,
            "right": null,
            "top": null,
            "visibility": null,
            "width": null
          }
        },
        "a04b970086694825a82c0562aed98a09": {
          "model_module": "@jupyter-widgets/controls",
          "model_name": "DescriptionStyleModel",
          "model_module_version": "1.5.0",
          "state": {
            "_model_module": "@jupyter-widgets/controls",
            "_model_module_version": "1.5.0",
            "_model_name": "DescriptionStyleModel",
            "_view_count": null,
            "_view_module": "@jupyter-widgets/base",
            "_view_module_version": "1.2.0",
            "_view_name": "StyleView",
            "description_width": ""
          }
        },
        "e70dbaa013154f28a291e3b161bebc23": {
          "model_module": "@jupyter-widgets/base",
          "model_name": "LayoutModel",
          "model_module_version": "1.2.0",
          "state": {
            "_model_module": "@jupyter-widgets/base",
            "_model_module_version": "1.2.0",
            "_model_name": "LayoutModel",
            "_view_count": null,
            "_view_module": "@jupyter-widgets/base",
            "_view_module_version": "1.2.0",
            "_view_name": "LayoutView",
            "align_content": null,
            "align_items": null,
            "align_self": null,
            "border": null,
            "bottom": null,
            "display": null,
            "flex": null,
            "flex_flow": null,
            "grid_area": null,
            "grid_auto_columns": null,
            "grid_auto_flow": null,
            "grid_auto_rows": null,
            "grid_column": null,
            "grid_gap": null,
            "grid_row": null,
            "grid_template_areas": null,
            "grid_template_columns": null,
            "grid_template_rows": null,
            "height": null,
            "justify_content": null,
            "justify_items": null,
            "left": null,
            "margin": null,
            "max_height": null,
            "max_width": null,
            "min_height": null,
            "min_width": null,
            "object_fit": null,
            "object_position": null,
            "order": null,
            "overflow": null,
            "overflow_x": null,
            "overflow_y": null,
            "padding": null,
            "right": null,
            "top": null,
            "visibility": null,
            "width": null
          }
        },
        "0ffbcce0956e4e86a257e45c0936d0fd": {
          "model_module": "@jupyter-widgets/controls",
          "model_name": "ProgressStyleModel",
          "model_module_version": "1.5.0",
          "state": {
            "_model_module": "@jupyter-widgets/controls",
            "_model_module_version": "1.5.0",
            "_model_name": "ProgressStyleModel",
            "_view_count": null,
            "_view_module": "@jupyter-widgets/base",
            "_view_module_version": "1.2.0",
            "_view_name": "StyleView",
            "bar_color": null,
            "description_width": ""
          }
        },
        "08c99192707a47fabe2cbed8c69dfd27": {
          "model_module": "@jupyter-widgets/base",
          "model_name": "LayoutModel",
          "model_module_version": "1.2.0",
          "state": {
            "_model_module": "@jupyter-widgets/base",
            "_model_module_version": "1.2.0",
            "_model_name": "LayoutModel",
            "_view_count": null,
            "_view_module": "@jupyter-widgets/base",
            "_view_module_version": "1.2.0",
            "_view_name": "LayoutView",
            "align_content": null,
            "align_items": null,
            "align_self": null,
            "border": null,
            "bottom": null,
            "display": null,
            "flex": null,
            "flex_flow": null,
            "grid_area": null,
            "grid_auto_columns": null,
            "grid_auto_flow": null,
            "grid_auto_rows": null,
            "grid_column": null,
            "grid_gap": null,
            "grid_row": null,
            "grid_template_areas": null,
            "grid_template_columns": null,
            "grid_template_rows": null,
            "height": null,
            "justify_content": null,
            "justify_items": null,
            "left": null,
            "margin": null,
            "max_height": null,
            "max_width": null,
            "min_height": null,
            "min_width": null,
            "object_fit": null,
            "object_position": null,
            "order": null,
            "overflow": null,
            "overflow_x": null,
            "overflow_y": null,
            "padding": null,
            "right": null,
            "top": null,
            "visibility": null,
            "width": null
          }
        },
        "8cde27e38e7544b7ab954e98480cadd6": {
          "model_module": "@jupyter-widgets/controls",
          "model_name": "DescriptionStyleModel",
          "model_module_version": "1.5.0",
          "state": {
            "_model_module": "@jupyter-widgets/controls",
            "_model_module_version": "1.5.0",
            "_model_name": "DescriptionStyleModel",
            "_view_count": null,
            "_view_module": "@jupyter-widgets/base",
            "_view_module_version": "1.2.0",
            "_view_name": "StyleView",
            "description_width": ""
          }
        },
        "3f86c80af8cd48cdb04a1a5c014aa7bd": {
          "model_module": "@jupyter-widgets/controls",
          "model_name": "HBoxModel",
          "model_module_version": "1.5.0",
          "state": {
            "_dom_classes": [],
            "_model_module": "@jupyter-widgets/controls",
            "_model_module_version": "1.5.0",
            "_model_name": "HBoxModel",
            "_view_count": null,
            "_view_module": "@jupyter-widgets/controls",
            "_view_module_version": "1.5.0",
            "_view_name": "HBoxView",
            "box_style": "",
            "children": [
              "IPY_MODEL_cea13eb3ec4b4ce5bc88b59f3aa12962",
              "IPY_MODEL_200017dd7c2e4cf480007e26908a6a18",
              "IPY_MODEL_28af701a993e4e94b81677222262b127"
            ],
            "layout": "IPY_MODEL_39021e3bf00b436dba7b26d88f30aa5e"
          }
        },
        "cea13eb3ec4b4ce5bc88b59f3aa12962": {
          "model_module": "@jupyter-widgets/controls",
          "model_name": "HTMLModel",
          "model_module_version": "1.5.0",
          "state": {
            "_dom_classes": [],
            "_model_module": "@jupyter-widgets/controls",
            "_model_module_version": "1.5.0",
            "_model_name": "HTMLModel",
            "_view_count": null,
            "_view_module": "@jupyter-widgets/controls",
            "_view_module_version": "1.5.0",
            "_view_name": "HTMLView",
            "description": "",
            "description_tooltip": null,
            "layout": "IPY_MODEL_95c63f3106e948c3b918a611172d12dc",
            "placeholder": "​",
            "style": "IPY_MODEL_5b2d3ab7c17343c3a4933cee283220c3",
            "value": "Downloading: 100%"
          }
        },
        "200017dd7c2e4cf480007e26908a6a18": {
          "model_module": "@jupyter-widgets/controls",
          "model_name": "FloatProgressModel",
          "model_module_version": "1.5.0",
          "state": {
            "_dom_classes": [],
            "_model_module": "@jupyter-widgets/controls",
            "_model_module_version": "1.5.0",
            "_model_name": "FloatProgressModel",
            "_view_count": null,
            "_view_module": "@jupyter-widgets/controls",
            "_view_module_version": "1.5.0",
            "_view_name": "ProgressView",
            "bar_style": "success",
            "description": "",
            "description_tooltip": null,
            "layout": "IPY_MODEL_fb5c4d03867f456ea9c87543d765e1b2",
            "max": 456,
            "min": 0,
            "orientation": "horizontal",
            "style": "IPY_MODEL_4002448f560f4f0b8058d7e90c0b9f19",
            "value": 456
          }
        },
        "28af701a993e4e94b81677222262b127": {
          "model_module": "@jupyter-widgets/controls",
          "model_name": "HTMLModel",
          "model_module_version": "1.5.0",
          "state": {
            "_dom_classes": [],
            "_model_module": "@jupyter-widgets/controls",
            "_model_module_version": "1.5.0",
            "_model_name": "HTMLModel",
            "_view_count": null,
            "_view_module": "@jupyter-widgets/controls",
            "_view_module_version": "1.5.0",
            "_view_name": "HTMLView",
            "description": "",
            "description_tooltip": null,
            "layout": "IPY_MODEL_f5f1331ac71f4567a2f0c90670c06a4c",
            "placeholder": "​",
            "style": "IPY_MODEL_8386163e232748c99cdf428b07641bb1",
            "value": " 456/456 [00:00&lt;00:00, 16.7kB/s]"
          }
        },
        "39021e3bf00b436dba7b26d88f30aa5e": {
          "model_module": "@jupyter-widgets/base",
          "model_name": "LayoutModel",
          "model_module_version": "1.2.0",
          "state": {
            "_model_module": "@jupyter-widgets/base",
            "_model_module_version": "1.2.0",
            "_model_name": "LayoutModel",
            "_view_count": null,
            "_view_module": "@jupyter-widgets/base",
            "_view_module_version": "1.2.0",
            "_view_name": "LayoutView",
            "align_content": null,
            "align_items": null,
            "align_self": null,
            "border": null,
            "bottom": null,
            "display": null,
            "flex": null,
            "flex_flow": null,
            "grid_area": null,
            "grid_auto_columns": null,
            "grid_auto_flow": null,
            "grid_auto_rows": null,
            "grid_column": null,
            "grid_gap": null,
            "grid_row": null,
            "grid_template_areas": null,
            "grid_template_columns": null,
            "grid_template_rows": null,
            "height": null,
            "justify_content": null,
            "justify_items": null,
            "left": null,
            "margin": null,
            "max_height": null,
            "max_width": null,
            "min_height": null,
            "min_width": null,
            "object_fit": null,
            "object_position": null,
            "order": null,
            "overflow": null,
            "overflow_x": null,
            "overflow_y": null,
            "padding": null,
            "right": null,
            "top": null,
            "visibility": null,
            "width": null
          }
        },
        "95c63f3106e948c3b918a611172d12dc": {
          "model_module": "@jupyter-widgets/base",
          "model_name": "LayoutModel",
          "model_module_version": "1.2.0",
          "state": {
            "_model_module": "@jupyter-widgets/base",
            "_model_module_version": "1.2.0",
            "_model_name": "LayoutModel",
            "_view_count": null,
            "_view_module": "@jupyter-widgets/base",
            "_view_module_version": "1.2.0",
            "_view_name": "LayoutView",
            "align_content": null,
            "align_items": null,
            "align_self": null,
            "border": null,
            "bottom": null,
            "display": null,
            "flex": null,
            "flex_flow": null,
            "grid_area": null,
            "grid_auto_columns": null,
            "grid_auto_flow": null,
            "grid_auto_rows": null,
            "grid_column": null,
            "grid_gap": null,
            "grid_row": null,
            "grid_template_areas": null,
            "grid_template_columns": null,
            "grid_template_rows": null,
            "height": null,
            "justify_content": null,
            "justify_items": null,
            "left": null,
            "margin": null,
            "max_height": null,
            "max_width": null,
            "min_height": null,
            "min_width": null,
            "object_fit": null,
            "object_position": null,
            "order": null,
            "overflow": null,
            "overflow_x": null,
            "overflow_y": null,
            "padding": null,
            "right": null,
            "top": null,
            "visibility": null,
            "width": null
          }
        },
        "5b2d3ab7c17343c3a4933cee283220c3": {
          "model_module": "@jupyter-widgets/controls",
          "model_name": "DescriptionStyleModel",
          "model_module_version": "1.5.0",
          "state": {
            "_model_module": "@jupyter-widgets/controls",
            "_model_module_version": "1.5.0",
            "_model_name": "DescriptionStyleModel",
            "_view_count": null,
            "_view_module": "@jupyter-widgets/base",
            "_view_module_version": "1.2.0",
            "_view_name": "StyleView",
            "description_width": ""
          }
        },
        "fb5c4d03867f456ea9c87543d765e1b2": {
          "model_module": "@jupyter-widgets/base",
          "model_name": "LayoutModel",
          "model_module_version": "1.2.0",
          "state": {
            "_model_module": "@jupyter-widgets/base",
            "_model_module_version": "1.2.0",
            "_model_name": "LayoutModel",
            "_view_count": null,
            "_view_module": "@jupyter-widgets/base",
            "_view_module_version": "1.2.0",
            "_view_name": "LayoutView",
            "align_content": null,
            "align_items": null,
            "align_self": null,
            "border": null,
            "bottom": null,
            "display": null,
            "flex": null,
            "flex_flow": null,
            "grid_area": null,
            "grid_auto_columns": null,
            "grid_auto_flow": null,
            "grid_auto_rows": null,
            "grid_column": null,
            "grid_gap": null,
            "grid_row": null,
            "grid_template_areas": null,
            "grid_template_columns": null,
            "grid_template_rows": null,
            "height": null,
            "justify_content": null,
            "justify_items": null,
            "left": null,
            "margin": null,
            "max_height": null,
            "max_width": null,
            "min_height": null,
            "min_width": null,
            "object_fit": null,
            "object_position": null,
            "order": null,
            "overflow": null,
            "overflow_x": null,
            "overflow_y": null,
            "padding": null,
            "right": null,
            "top": null,
            "visibility": null,
            "width": null
          }
        },
        "4002448f560f4f0b8058d7e90c0b9f19": {
          "model_module": "@jupyter-widgets/controls",
          "model_name": "ProgressStyleModel",
          "model_module_version": "1.5.0",
          "state": {
            "_model_module": "@jupyter-widgets/controls",
            "_model_module_version": "1.5.0",
            "_model_name": "ProgressStyleModel",
            "_view_count": null,
            "_view_module": "@jupyter-widgets/base",
            "_view_module_version": "1.2.0",
            "_view_name": "StyleView",
            "bar_color": null,
            "description_width": ""
          }
        },
        "f5f1331ac71f4567a2f0c90670c06a4c": {
          "model_module": "@jupyter-widgets/base",
          "model_name": "LayoutModel",
          "model_module_version": "1.2.0",
          "state": {
            "_model_module": "@jupyter-widgets/base",
            "_model_module_version": "1.2.0",
            "_model_name": "LayoutModel",
            "_view_count": null,
            "_view_module": "@jupyter-widgets/base",
            "_view_module_version": "1.2.0",
            "_view_name": "LayoutView",
            "align_content": null,
            "align_items": null,
            "align_self": null,
            "border": null,
            "bottom": null,
            "display": null,
            "flex": null,
            "flex_flow": null,
            "grid_area": null,
            "grid_auto_columns": null,
            "grid_auto_flow": null,
            "grid_auto_rows": null,
            "grid_column": null,
            "grid_gap": null,
            "grid_row": null,
            "grid_template_areas": null,
            "grid_template_columns": null,
            "grid_template_rows": null,
            "height": null,
            "justify_content": null,
            "justify_items": null,
            "left": null,
            "margin": null,
            "max_height": null,
            "max_width": null,
            "min_height": null,
            "min_width": null,
            "object_fit": null,
            "object_position": null,
            "order": null,
            "overflow": null,
            "overflow_x": null,
            "overflow_y": null,
            "padding": null,
            "right": null,
            "top": null,
            "visibility": null,
            "width": null
          }
        },
        "8386163e232748c99cdf428b07641bb1": {
          "model_module": "@jupyter-widgets/controls",
          "model_name": "DescriptionStyleModel",
          "model_module_version": "1.5.0",
          "state": {
            "_model_module": "@jupyter-widgets/controls",
            "_model_module_version": "1.5.0",
            "_model_name": "DescriptionStyleModel",
            "_view_count": null,
            "_view_module": "@jupyter-widgets/base",
            "_view_module_version": "1.2.0",
            "_view_name": "StyleView",
            "description_width": ""
          }
        },
        "d5154caf5ec34d61ae108f85d5865b7f": {
          "model_module": "@jupyter-widgets/controls",
          "model_name": "HBoxModel",
          "model_module_version": "1.5.0",
          "state": {
            "_dom_classes": [],
            "_model_module": "@jupyter-widgets/controls",
            "_model_module_version": "1.5.0",
            "_model_name": "HBoxModel",
            "_view_count": null,
            "_view_module": "@jupyter-widgets/controls",
            "_view_module_version": "1.5.0",
            "_view_name": "HBoxView",
            "box_style": "",
            "children": [
              "IPY_MODEL_38765e87cd604259a26b7f3c753e67b1",
              "IPY_MODEL_86ceb943d1034bf980fb871bff4483a1",
              "IPY_MODEL_f88ab27cf3f345c38120c96f6d4c6eaf"
            ],
            "layout": "IPY_MODEL_72b20395fc354f72bcb1da1c192b8771"
          }
        },
        "38765e87cd604259a26b7f3c753e67b1": {
          "model_module": "@jupyter-widgets/controls",
          "model_name": "HTMLModel",
          "model_module_version": "1.5.0",
          "state": {
            "_dom_classes": [],
            "_model_module": "@jupyter-widgets/controls",
            "_model_module_version": "1.5.0",
            "_model_name": "HTMLModel",
            "_view_count": null,
            "_view_module": "@jupyter-widgets/controls",
            "_view_module_version": "1.5.0",
            "_view_name": "HTMLView",
            "description": "",
            "description_tooltip": null,
            "layout": "IPY_MODEL_c9dbafdc349249e9b2c1da691f8d3166",
            "placeholder": "​",
            "style": "IPY_MODEL_afd88c65e9404b3fb49e462c1c61b4a2",
            "value": "Downloading: 100%"
          }
        },
        "86ceb943d1034bf980fb871bff4483a1": {
          "model_module": "@jupyter-widgets/controls",
          "model_name": "FloatProgressModel",
          "model_module_version": "1.5.0",
          "state": {
            "_dom_classes": [],
            "_model_module": "@jupyter-widgets/controls",
            "_model_module_version": "1.5.0",
            "_model_name": "FloatProgressModel",
            "_view_count": null,
            "_view_module": "@jupyter-widgets/controls",
            "_view_module_version": "1.5.0",
            "_view_name": "ProgressView",
            "bar_style": "success",
            "description": "",
            "description_tooltip": null,
            "layout": "IPY_MODEL_18fc54728e2f438789312f1c491f3dc9",
            "max": 891688708,
            "min": 0,
            "orientation": "horizontal",
            "style": "IPY_MODEL_9b21476133684b6481784223463655bb",
            "value": 891688708
          }
        },
        "f88ab27cf3f345c38120c96f6d4c6eaf": {
          "model_module": "@jupyter-widgets/controls",
          "model_name": "HTMLModel",
          "model_module_version": "1.5.0",
          "state": {
            "_dom_classes": [],
            "_model_module": "@jupyter-widgets/controls",
            "_model_module_version": "1.5.0",
            "_model_name": "HTMLModel",
            "_view_count": null,
            "_view_module": "@jupyter-widgets/controls",
            "_view_module_version": "1.5.0",
            "_view_name": "HTMLView",
            "description": "",
            "description_tooltip": null,
            "layout": "IPY_MODEL_4741bbcb7c4c413cbf04de07467abc17",
            "placeholder": "​",
            "style": "IPY_MODEL_441c69a495e34cde9fb1fb482c0945be",
            "value": " 850M/850M [00:13&lt;00:00, 64.6MB/s]"
          }
        },
        "72b20395fc354f72bcb1da1c192b8771": {
          "model_module": "@jupyter-widgets/base",
          "model_name": "LayoutModel",
          "model_module_version": "1.2.0",
          "state": {
            "_model_module": "@jupyter-widgets/base",
            "_model_module_version": "1.2.0",
            "_model_name": "LayoutModel",
            "_view_count": null,
            "_view_module": "@jupyter-widgets/base",
            "_view_module_version": "1.2.0",
            "_view_name": "LayoutView",
            "align_content": null,
            "align_items": null,
            "align_self": null,
            "border": null,
            "bottom": null,
            "display": null,
            "flex": null,
            "flex_flow": null,
            "grid_area": null,
            "grid_auto_columns": null,
            "grid_auto_flow": null,
            "grid_auto_rows": null,
            "grid_column": null,
            "grid_gap": null,
            "grid_row": null,
            "grid_template_areas": null,
            "grid_template_columns": null,
            "grid_template_rows": null,
            "height": null,
            "justify_content": null,
            "justify_items": null,
            "left": null,
            "margin": null,
            "max_height": null,
            "max_width": null,
            "min_height": null,
            "min_width": null,
            "object_fit": null,
            "object_position": null,
            "order": null,
            "overflow": null,
            "overflow_x": null,
            "overflow_y": null,
            "padding": null,
            "right": null,
            "top": null,
            "visibility": null,
            "width": null
          }
        },
        "c9dbafdc349249e9b2c1da691f8d3166": {
          "model_module": "@jupyter-widgets/base",
          "model_name": "LayoutModel",
          "model_module_version": "1.2.0",
          "state": {
            "_model_module": "@jupyter-widgets/base",
            "_model_module_version": "1.2.0",
            "_model_name": "LayoutModel",
            "_view_count": null,
            "_view_module": "@jupyter-widgets/base",
            "_view_module_version": "1.2.0",
            "_view_name": "LayoutView",
            "align_content": null,
            "align_items": null,
            "align_self": null,
            "border": null,
            "bottom": null,
            "display": null,
            "flex": null,
            "flex_flow": null,
            "grid_area": null,
            "grid_auto_columns": null,
            "grid_auto_flow": null,
            "grid_auto_rows": null,
            "grid_column": null,
            "grid_gap": null,
            "grid_row": null,
            "grid_template_areas": null,
            "grid_template_columns": null,
            "grid_template_rows": null,
            "height": null,
            "justify_content": null,
            "justify_items": null,
            "left": null,
            "margin": null,
            "max_height": null,
            "max_width": null,
            "min_height": null,
            "min_width": null,
            "object_fit": null,
            "object_position": null,
            "order": null,
            "overflow": null,
            "overflow_x": null,
            "overflow_y": null,
            "padding": null,
            "right": null,
            "top": null,
            "visibility": null,
            "width": null
          }
        },
        "afd88c65e9404b3fb49e462c1c61b4a2": {
          "model_module": "@jupyter-widgets/controls",
          "model_name": "DescriptionStyleModel",
          "model_module_version": "1.5.0",
          "state": {
            "_model_module": "@jupyter-widgets/controls",
            "_model_module_version": "1.5.0",
            "_model_name": "DescriptionStyleModel",
            "_view_count": null,
            "_view_module": "@jupyter-widgets/base",
            "_view_module_version": "1.2.0",
            "_view_name": "StyleView",
            "description_width": ""
          }
        },
        "18fc54728e2f438789312f1c491f3dc9": {
          "model_module": "@jupyter-widgets/base",
          "model_name": "LayoutModel",
          "model_module_version": "1.2.0",
          "state": {
            "_model_module": "@jupyter-widgets/base",
            "_model_module_version": "1.2.0",
            "_model_name": "LayoutModel",
            "_view_count": null,
            "_view_module": "@jupyter-widgets/base",
            "_view_module_version": "1.2.0",
            "_view_name": "LayoutView",
            "align_content": null,
            "align_items": null,
            "align_self": null,
            "border": null,
            "bottom": null,
            "display": null,
            "flex": null,
            "flex_flow": null,
            "grid_area": null,
            "grid_auto_columns": null,
            "grid_auto_flow": null,
            "grid_auto_rows": null,
            "grid_column": null,
            "grid_gap": null,
            "grid_row": null,
            "grid_template_areas": null,
            "grid_template_columns": null,
            "grid_template_rows": null,
            "height": null,
            "justify_content": null,
            "justify_items": null,
            "left": null,
            "margin": null,
            "max_height": null,
            "max_width": null,
            "min_height": null,
            "min_width": null,
            "object_fit": null,
            "object_position": null,
            "order": null,
            "overflow": null,
            "overflow_x": null,
            "overflow_y": null,
            "padding": null,
            "right": null,
            "top": null,
            "visibility": null,
            "width": null
          }
        },
        "9b21476133684b6481784223463655bb": {
          "model_module": "@jupyter-widgets/controls",
          "model_name": "ProgressStyleModel",
          "model_module_version": "1.5.0",
          "state": {
            "_model_module": "@jupyter-widgets/controls",
            "_model_module_version": "1.5.0",
            "_model_name": "ProgressStyleModel",
            "_view_count": null,
            "_view_module": "@jupyter-widgets/base",
            "_view_module_version": "1.2.0",
            "_view_name": "StyleView",
            "bar_color": null,
            "description_width": ""
          }
        },
        "4741bbcb7c4c413cbf04de07467abc17": {
          "model_module": "@jupyter-widgets/base",
          "model_name": "LayoutModel",
          "model_module_version": "1.2.0",
          "state": {
            "_model_module": "@jupyter-widgets/base",
            "_model_module_version": "1.2.0",
            "_model_name": "LayoutModel",
            "_view_count": null,
            "_view_module": "@jupyter-widgets/base",
            "_view_module_version": "1.2.0",
            "_view_name": "LayoutView",
            "align_content": null,
            "align_items": null,
            "align_self": null,
            "border": null,
            "bottom": null,
            "display": null,
            "flex": null,
            "flex_flow": null,
            "grid_area": null,
            "grid_auto_columns": null,
            "grid_auto_flow": null,
            "grid_auto_rows": null,
            "grid_column": null,
            "grid_gap": null,
            "grid_row": null,
            "grid_template_areas": null,
            "grid_template_columns": null,
            "grid_template_rows": null,
            "height": null,
            "justify_content": null,
            "justify_items": null,
            "left": null,
            "margin": null,
            "max_height": null,
            "max_width": null,
            "min_height": null,
            "min_width": null,
            "object_fit": null,
            "object_position": null,
            "order": null,
            "overflow": null,
            "overflow_x": null,
            "overflow_y": null,
            "padding": null,
            "right": null,
            "top": null,
            "visibility": null,
            "width": null
          }
        },
        "441c69a495e34cde9fb1fb482c0945be": {
          "model_module": "@jupyter-widgets/controls",
          "model_name": "DescriptionStyleModel",
          "model_module_version": "1.5.0",
          "state": {
            "_model_module": "@jupyter-widgets/controls",
            "_model_module_version": "1.5.0",
            "_model_name": "DescriptionStyleModel",
            "_view_count": null,
            "_view_module": "@jupyter-widgets/base",
            "_view_module_version": "1.2.0",
            "_view_name": "StyleView",
            "description_width": ""
          }
        }
      }
    }
  },
  "nbformat": 4,
  "nbformat_minor": 0
}