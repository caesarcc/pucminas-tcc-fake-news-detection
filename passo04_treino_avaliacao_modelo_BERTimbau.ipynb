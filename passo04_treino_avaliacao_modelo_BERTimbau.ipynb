{
  "cells": [
    {
      "cell_type": "markdown",
      "metadata": {
        "id": "view-in-github",
        "colab_type": "text"
      },
      "source": [
        "<a href=\"https://colab.research.google.com/github/caesarcc/pucminas-tcc-fake-news-detection/blob/main/passo04_treino_avaliacao_modelo_BERTimbau.ipynb\" target=\"_parent\"><img src=\"https://colab.research.google.com/assets/colab-badge.svg\" alt=\"Open In Colab\"/></a>"
      ]
    },
    {
      "cell_type": "markdown",
      "metadata": {
        "id": "k04XI2wn9ps9"
      },
      "source": [
        "## Treino e Avaliação do Modelo BERTimbau\n",
        "\n",
        "### Iniciando pela configuração do Google Colab"
      ]
    },
    {
      "cell_type": "code",
      "execution_count": 1,
      "metadata": {
        "colab": {
          "base_uri": "https://localhost:8080/"
        },
        "id": "GLWPP5tE97EJ",
        "outputId": "99119911-1949-4755-b290-8718748c46b2"
      },
      "outputs": [
        {
          "output_type": "stream",
          "name": "stdout",
          "text": [
            "\u001b[K     |████████████████████████████████| 4.4 MB 14.9 MB/s \n",
            "\u001b[K     |████████████████████████████████| 6.6 MB 57.9 MB/s \n",
            "\u001b[K     |████████████████████████████████| 101 kB 10.2 MB/s \n",
            "\u001b[K     |████████████████████████████████| 596 kB 61.1 MB/s \n",
            "\u001b[?25h"
          ]
        }
      ],
      "source": [
        "!pip install -q transformers"
      ]
    },
    {
      "cell_type": "code",
      "execution_count": 2,
      "metadata": {
        "colab": {
          "base_uri": "https://localhost:8080/"
        },
        "id": "3EZomSUMMKAf",
        "outputId": "4b7e0d19-8f9d-415f-c374-ee0a1575f3a8"
      },
      "outputs": [
        {
          "output_type": "stream",
          "name": "stdout",
          "text": [
            "Mounted at /content/drive\n"
          ]
        }
      ],
      "source": [
        "from google.colab import drive\n",
        "drive.mount('/content/drive')"
      ]
    },
    {
      "cell_type": "code",
      "execution_count": 3,
      "metadata": {
        "cellView": "form",
        "id": "CPzAh59THwj1"
      },
      "outputs": [],
      "source": [
        "# Importação de bibliotecas utilizadas no treino e avaliação\n",
        "import datetime\n",
        "import os\n",
        "import random\n",
        "import time\n",
        "import numpy as np\n",
        "import pandas as pd\n",
        "from tqdm.auto import tqdm\n",
        "import matplotlib.pyplot as plt\n",
        "import seaborn as sns\n",
        "import torch\n",
        "from IPython.display import display\n",
        "from sklearn.metrics import (accuracy_score, auc, classification_report, f1_score,\n",
        "                             confusion_matrix, ConfusionMatrixDisplay, roc_curve)\n",
        "from torch.utils.data import (DataLoader, RandomSampler, SequentialSampler,\n",
        "                              TensorDataset)\n",
        "from transformers import (AutoModelForSequenceClassification, AutoTokenizer,\n",
        "                          get_linear_schedule_with_warmup)\n",
        "from transformers.file_utils import is_torch_available"
      ]
    },
    {
      "cell_type": "code",
      "source": [
        "#Configurações de ambiente\n",
        "%matplotlib inline\n",
        "# limites de impressão para o pandas\n",
        "pd.set_option(\"display.max_rows\", 50, 'display.max_colwidth', 250)\n",
        "# configura tema dos gráficos\n",
        "sns.set_theme(style=\"white\")\n",
        "#configura a barra de progressos para usar no apply\n",
        "tqdm.pandas()\n",
        "\n",
        "def format_time(elapsed):\n",
        "    elapsed_rounded = int(round((elapsed)))\n",
        "    return str(datetime.timedelta(seconds=elapsed_rounded))"
      ],
      "metadata": {
        "id": "YQIBNchuK-_V"
      },
      "execution_count": 13,
      "outputs": []
    },
    {
      "cell_type": "markdown",
      "metadata": {
        "id": "nYVq1HCgX5zB"
      },
      "source": [
        "### Carrega dados processados no passo 1"
      ]
    },
    {
      "cell_type": "code",
      "execution_count": 5,
      "metadata": {
        "colab": {
          "base_uri": "https://localhost:8080/"
        },
        "id": "GLNk1WPwXznk",
        "outputId": "e5f89e9c-5d4d-447c-a9c3-318218f2973e"
      },
      "outputs": [
        {
          "output_type": "stream",
          "name": "stdout",
          "text": [
            "<class 'pandas.core.frame.DataFrame'>\n",
            "RangeIndex: 6703 entries, 0 to 6702\n",
            "Data columns (total 6 columns):\n",
            " #   Column            Non-Null Count  Dtype \n",
            "---  ------            --------------  ----- \n",
            " 0   texto             6703 non-null   object\n",
            " 1   classe            6703 non-null   int64 \n",
            " 2   texto_limpo       6703 non-null   object\n",
            " 3   qtde_limpo        6703 non-null   int64 \n",
            " 4   texto_lematizado  6703 non-null   object\n",
            " 5   qtde_lematizado   6703 non-null   int64 \n",
            "dtypes: int64(3), object(3)\n",
            "memory usage: 314.3+ KB\n"
          ]
        }
      ],
      "source": [
        "dados = pd.read_csv(r'/content/drive/MyDrive/PUC/TCC/dados/dataset_processado.csv', sep = ',')\n",
        "dados.info()"
      ]
    },
    {
      "cell_type": "markdown",
      "metadata": {
        "id": "kwgNPYpg9ptK"
      },
      "source": [
        "### Geração de seed  \n",
        "Rotina para garantir a reprodução dos resultados mesmo que o ambiente for reiniciado.  \n",
        "Semente aplicada às libs random, numpy e torch."
      ]
    },
    {
      "cell_type": "code",
      "execution_count": 14,
      "metadata": {
        "id": "TwFrnP8c9ptL"
      },
      "outputs": [],
      "source": [
        "RANDOM_SEED = 42\n",
        "def garantir_reprodutividade(seed: int):\n",
        "    random.seed(seed)\n",
        "    np.random.seed(seed)\n",
        "    if is_torch_available():\n",
        "        torch.manual_seed(seed)\n",
        "        if torch.cuda.is_available():\n",
        "            torch.cuda.manual_seed_all(seed)\n",
        "            return \"cuda\"\n",
        "    return \"cpu\"\n",
        "\n",
        "device = garantir_reprodutividade(RANDOM_SEED)"
      ]
    },
    {
      "cell_type": "markdown",
      "metadata": {
        "id": "tlDLC7k59ptM"
      },
      "source": [
        "### Carregando o modelo pré-treinado BERTimbau"
      ]
    },
    {
      "cell_type": "code",
      "execution_count": 48,
      "metadata": {
        "colab": {
          "base_uri": "https://localhost:8080/"
        },
        "id": "VQkF_nDy9ptM",
        "outputId": "c9b17d63-5051-4a24-c835-f58bdd85f187"
      },
      "outputs": [
        {
          "output_type": "stream",
          "name": "stderr",
          "text": [
            "Some weights of the model checkpoint at neuralmind/bert-base-portuguese-cased were not used when initializing BertForSequenceClassification: ['cls.predictions.transform.dense.bias', 'cls.predictions.bias', 'cls.predictions.transform.dense.weight', 'cls.seq_relationship.bias', 'cls.predictions.decoder.weight', 'cls.predictions.transform.LayerNorm.bias', 'cls.seq_relationship.weight', 'cls.predictions.transform.LayerNorm.weight']\n",
            "- This IS expected if you are initializing BertForSequenceClassification from the checkpoint of a model trained on another task or with another architecture (e.g. initializing a BertForSequenceClassification model from a BertForPreTraining model).\n",
            "- This IS NOT expected if you are initializing BertForSequenceClassification from the checkpoint of a model that you expect to be exactly identical (initializing a BertForSequenceClassification model from a BertForSequenceClassification model).\n",
            "Some weights of BertForSequenceClassification were not initialized from the model checkpoint at neuralmind/bert-base-portuguese-cased and are newly initialized: ['classifier.weight', 'classifier.bias']\n",
            "You should probably TRAIN this model on a down-stream task to be able to use it for predictions and inference.\n"
          ]
        }
      ],
      "source": [
        "MODELO_LOCAL = \"/content/drive/MyDrive/PUC/TCC/modelos/classificador_bertimbau\"\n",
        "MODELO_ORIGEM = \"neuralmind/bert-base-portuguese-cased\"\n",
        "\n",
        "# carrega tokenizador\n",
        "tokenizer = AutoTokenizer.from_pretrained(\n",
        "    MODELO_ORIGEM, \n",
        "    # não altera case, pois o modelo é case-sensitive\n",
        "    do_lower_case=False\n",
        ")\n",
        "# carrega pesos do modelo \"BERTimbau\"\n",
        "model_bert = AutoModelForSequenceClassification.from_pretrained(\n",
        "    MODELO_ORIGEM, \n",
        "    num_labels=2          # número de classes da classificação\n",
        ").to(device)   # coloca o modelo para rodar na GPU\n",
        "# configura otimizador com learning rate baixo\n",
        "optimizer = torch.optim.AdamW(model_bert.parameters(), lr = 1e-5)"
      ]
    },
    {
      "cell_type": "markdown",
      "source": [
        "### Tokeniza todos textos para acelerar o treino"
      ],
      "metadata": {
        "id": "WN7A3JOsSw4R"
      }
    },
    {
      "cell_type": "code",
      "source": [
        "campo_texto = 'texto_lematizado' #'texto_wordcloud_nomes_numeros'\n",
        "dados_token = dados[['classe', campo_texto]].copy()\n",
        "dados_token['TOKENS'] = dados_token[campo_texto].progress_apply(\n",
        "    lambda x: np.array(\n",
        "        tokenizer.encode(x, padding='max_length', \n",
        "                         truncation=True, max_length=300)))\n",
        "dados_token.rename(columns={'classe':'LABELS'}, inplace=True)"
      ],
      "metadata": {
        "id": "qb1k7REPUC5H",
        "outputId": "09ec1fbc-b6fd-4893-989e-8dc88e1209bd",
        "colab": {
          "base_uri": "https://localhost:8080/",
          "height": 49,
          "referenced_widgets": [
            "1debb88034724998b498c10baee160e8",
            "ba5e793354744a249bee77eb280c2265",
            "b2004f8a98234a16a2743286c31bf4de",
            "39e1251a56c74fee9d67232433765ca1",
            "9800a2a6c63d4cc1aa4e3d6ecd942a86",
            "e60fd9b43e2e4b24821bb342113feb2c",
            "f9dc90e0b00c479ab124c023914839c2",
            "bc8cb04266b7454097d4e80e6adb6f4a",
            "8250d0a59b33475a8b0c40dd27ceba07",
            "43e055521206414eb206b0049a4312b2",
            "360bbfb30bc54c97bc394b1c624b2571"
          ]
        }
      },
      "execution_count": 8,
      "outputs": [
        {
          "output_type": "display_data",
          "data": {
            "text/plain": [
              "  0%|          | 0/6703 [00:00<?, ?it/s]"
            ],
            "application/vnd.jupyter.widget-view+json": {
              "version_major": 2,
              "version_minor": 0,
              "model_id": "1debb88034724998b498c10baee160e8"
            }
          },
          "metadata": {}
        }
      ]
    },
    {
      "cell_type": "markdown",
      "source": [
        "### Separa treino, validação e teste e gera datasets de tensoes"
      ],
      "metadata": {
        "id": "EVaxeU2PgdtQ"
      }
    },
    {
      "cell_type": "code",
      "source": [
        "# Separa 70% para treino, 10% para validação e 20% para teste\n",
        "dados_treino, dados_validacao, dados_teste = np.split(\n",
        "    dados_token.sample(frac=1), [\n",
        "      int(.7*len(dados_token)), \n",
        "      int(.8*len(dados_token))\n",
        "])\n",
        "lote_tamanho = 8\n",
        "lote_status = lote_tamanho * 20\n",
        "\n",
        "# gera dataset e leitor de dados de treino\n",
        "treino_dados = TensorDataset(\n",
        "    torch.tensor(np.array(dados_treino['TOKENS'].to_list())).to(device), \n",
        "    torch.tensor(np.array(dados_treino['LABELS'].values)).to(device))\n",
        "treino_leitor = DataLoader(treino_dados, batch_size=lote_tamanho, shuffle=True)\n",
        "\n",
        "# gera dataset e leitor de dados de validação\n",
        "validacao_dados = TensorDataset(\n",
        "    torch.tensor(np.array(dados_validacao['TOKENS'].to_list())).to(device), \n",
        "    torch.tensor(np.array(dados_validacao['LABELS'].values)).to(device))\n",
        "validacao_leitor = DataLoader(validacao_dados, batch_size=lote_tamanho, shuffle=True)\n",
        "\n",
        "# gera dataset e leitor de dados de validação\n",
        "teste_dados = TensorDataset(\n",
        "    torch.tensor(np.array(dados_teste['TOKENS'].to_list())).to(device), \n",
        "    torch.tensor(np.array(dados_teste['LABELS'].values)).to(device))\n",
        "teste_leitor = DataLoader(teste_dados, batch_size=lote_tamanho, shuffle=True)\n"
      ],
      "metadata": {
        "id": "H7FuPhXbZyBR"
      },
      "execution_count": 49,
      "outputs": []
    },
    {
      "cell_type": "markdown",
      "source": [
        "### Treinamento do Modelo"
      ],
      "metadata": {
        "id": "7MjqyRBBiW-M"
      }
    },
    {
      "cell_type": "code",
      "source": [
        "def avaliar_modelo(modelo, dados):\n",
        "  modelo.eval() # coloca o modelo em avaliação\n",
        "  classes_real, classes_pred = [], []\n",
        "  for idx_lote, lote in enumerate(dados):\n",
        "    # pega os dados do lote\n",
        "    lote_valores = lote[0].to(device)\n",
        "    lote_classes = lote[1].to(device)\n",
        "\n",
        "    # realiza predição\n",
        "    outputs = model_bert(lote_valores)    \n",
        "    # Salva o loss de validação\n",
        "    losses.append(float(output.loss))\n",
        "    # retorna indice de maior valor na predição\n",
        "    pred_classes = torch.argmax(outputs.logits, 1)\n",
        "    # salva retorno para medição\n",
        "    classes_real.extend(lote[1].tolist())\n",
        "    classes_pred.extend(pred_classes.tolist())\n",
        "    # exibe progresso\n",
        "    if (idx_lote+1) % (lote_status) == 0:\n",
        "      print('Progresso:', round(idx_lote / len(dados), 2), idx_lote)\n",
        "  \n",
        "  # Gera relatório a cada avaliação\n",
        "  print(classification_report(classes_real, classes_pred, labels=[0, 1], \n",
        "                              target_names=['Confiável', 'Falso']))\n",
        "  # Obtem f1 e acurácia para retornar\n",
        "  f1 = f1_score(classes_real, classes_pred, average='weighted')\n",
        "  acuracia = accuracy_score(classes_real, classes_pred)\n",
        "  return f1, acuracia, losses"
      ],
      "metadata": {
        "id": "rZFKmz8koAIO"
      },
      "execution_count": 50,
      "outputs": []
    },
    {
      "cell_type": "code",
      "source": [
        "epocas = 5\n",
        "parar_treino = 2    \n",
        "max_f1, repetir_treino = 0, 0\n",
        "estatisticas = []\n",
        "inicio = time.time()\n",
        "\n",
        "for epoca in range(0, epocas):\n",
        "  f1, acc, _ = avaliar_modelo(model_bert, validacao_leitor)\n",
        "  model_bert.train()\n",
        "  losses = []\n",
        "  for idx_lote, lote in enumerate(treino_leitor):\n",
        "    # pega os dados do lote\n",
        "    lote_valores = lote[0].to(device)\n",
        "    lote_classes = lote[1].to(device)\n",
        "\n",
        "    # treina no lote atual\n",
        "    output = model_bert(lote_valores, labels=lote_classes)\n",
        "    # Salva o loss\n",
        "    loss = output.loss\n",
        "    losses.append(float(loss))\n",
        "    # Backpropagation\n",
        "    loss.backward()\n",
        "    optimizer.step()\n",
        "    optimizer.zero_grad()\n",
        "\n",
        "    # imprime processo\n",
        "    if (idx_lote+1) % (lote_status) == 0:\n",
        "      print(\"Época: {} [{}/{} ({:.0f}%)]\".format(epoca + 1, idx_lote+1, \\\n",
        "        len(dados_treino), 100. * idx_lote / len(dados_treino)) \\\n",
        "        + \"\\tLoss: {:.6f}\\tLoss Total: {:.6f}\".format(\n",
        "            float(loss) , round(sum(losses) / len(losses), 5)))\n",
        "  \n",
        "  f1, acc, losses_val = avaliar_modelo(model_bert, validacao_leitor)\n",
        "  print('F1: ', f1, 'Acurácia: ', acc)\n",
        "\n",
        "  # grava as estatísticas por época.\n",
        "  estatisticas.append(\n",
        "      {\n",
        "          'epoca': epoca + 1,\n",
        "          'Loss de Treinamento': round(sum(losses) / len(losses), 5),\n",
        "          'Loss de Validação': round(sum(losses_val) / len(losses_val), 5),\n",
        "          'F1': f1,\n",
        "          'Acurácia de Validação': acc\n",
        "      }\n",
        "  )\n",
        "\n",
        "  if f1 > max_f1:\n",
        "    model_bert.save_pretrained(MODELO_LOCAL)\n",
        "    max_f1 = f1\n",
        "    repeat = 0\n",
        "    print('Salvando melhor modelo...')\n",
        "  else:\n",
        "    repetir_treino += 1\n",
        "  if repetir_treino == parar_treino:\n",
        "    break\n",
        "\n",
        "print(\"Tempo total do treino {:} (h:mm:ss)\".format(format_time(time.time()-inicio)))"
      ],
      "metadata": {
        "id": "ZgXnJjjDpGuJ",
        "outputId": "8159697a-7c29-4287-8d85-f2bb010f796c",
        "colab": {
          "base_uri": "https://localhost:8080/"
        }
      },
      "execution_count": 51,
      "outputs": [
        {
          "output_type": "stream",
          "name": "stdout",
          "text": [
            "              precision    recall  f1-score   support\n",
            "\n",
            "   Confiável       0.54      0.40      0.46       326\n",
            "       Falso       0.54      0.68      0.61       344\n",
            "\n",
            "    accuracy                           0.54       670\n",
            "   macro avg       0.54      0.54      0.53       670\n",
            "weighted avg       0.54      0.54      0.53       670\n",
            "\n",
            "Época: 1 [160/4692 (3%)]\tLoss: 0.088017\tLoss Total: 0.309620\n",
            "Época: 1 [320/4692 (7%)]\tLoss: 0.026497\tLoss Total: 0.245240\n",
            "Época: 1 [480/4692 (10%)]\tLoss: 0.165292\tLoss Total: 0.215900\n",
            "              precision    recall  f1-score   support\n",
            "\n",
            "   Confiável       0.97      0.99      0.98       326\n",
            "       Falso       0.99      0.97      0.98       344\n",
            "\n",
            "    accuracy                           0.98       670\n",
            "   macro avg       0.98      0.98      0.98       670\n",
            "weighted avg       0.98      0.98      0.98       670\n",
            "\n",
            "F1:  0.9776157815669202 Acurácia:  0.9776119402985075\n",
            "Salvando melhor modelo...\n",
            "              precision    recall  f1-score   support\n",
            "\n",
            "   Confiável       0.97      0.99      0.98       326\n",
            "       Falso       0.99      0.97      0.98       344\n",
            "\n",
            "    accuracy                           0.98       670\n",
            "   macro avg       0.98      0.98      0.98       670\n",
            "weighted avg       0.98      0.98      0.98       670\n",
            "\n",
            "Época: 2 [160/4692 (3%)]\tLoss: 0.025996\tLoss Total: 0.086040\n",
            "Época: 2 [320/4692 (7%)]\tLoss: 0.010073\tLoss Total: 0.081010\n",
            "Época: 2 [480/4692 (10%)]\tLoss: 0.042123\tLoss Total: 0.075620\n",
            "              precision    recall  f1-score   support\n",
            "\n",
            "   Confiável       0.97      0.98      0.98       326\n",
            "       Falso       0.98      0.97      0.98       344\n",
            "\n",
            "    accuracy                           0.98       670\n",
            "   macro avg       0.98      0.98      0.98       670\n",
            "weighted avg       0.98      0.98      0.98       670\n",
            "\n",
            "F1:  0.9776141857159847 Acurácia:  0.9776119402985075\n",
            "              precision    recall  f1-score   support\n",
            "\n",
            "   Confiável       0.97      0.98      0.98       326\n",
            "       Falso       0.98      0.97      0.98       344\n",
            "\n",
            "    accuracy                           0.98       670\n",
            "   macro avg       0.98      0.98      0.98       670\n",
            "weighted avg       0.98      0.98      0.98       670\n",
            "\n",
            "Época: 3 [160/4692 (3%)]\tLoss: 0.002287\tLoss Total: 0.028200\n",
            "Época: 3 [320/4692 (7%)]\tLoss: 0.072545\tLoss Total: 0.024550\n",
            "Época: 3 [480/4692 (10%)]\tLoss: 0.064185\tLoss Total: 0.027140\n",
            "              precision    recall  f1-score   support\n",
            "\n",
            "   Confiável       0.96      1.00      0.98       326\n",
            "       Falso       1.00      0.96      0.98       344\n",
            "\n",
            "    accuracy                           0.98       670\n",
            "   macro avg       0.98      0.98      0.98       670\n",
            "weighted avg       0.98      0.98      0.98       670\n",
            "\n",
            "F1:  0.9776151822341924 Acurácia:  0.9776119402985075\n",
            "Tempo total do treino 0:04:29 (h:mm:ss)\n"
          ]
        }
      ]
    },
    {
      "cell_type": "code",
      "source": [
        "estatisticas"
      ],
      "metadata": {
        "id": "C_QnL-uxzTxj"
      },
      "execution_count": null,
      "outputs": []
    },
    {
      "cell_type": "markdown",
      "source": [
        "### Validação do Modelo tunado"
      ],
      "metadata": {
        "id": "ZNBk7HKMrwaj"
      }
    },
    {
      "cell_type": "code",
      "source": [
        "classes_previstas , classes_verdadeiras = [], []\n",
        "\n",
        "for lote in teste_leitor:\n",
        "    # coloca o lote na GPUS\n",
        "    lote = tuple(t.to(device) for t in lote)\n",
        "    lote_valores, lote_classes = lote\n",
        "    with torch.no_grad():\n",
        "        outputs = model_bert(lote_valores)\n",
        "\n",
        "    # Adiciona as prediões e as classes para a CPU\n",
        "    outputs = outputs.logits.detach().cpu().numpy()\n",
        "    classes = lote_classes.to('cpu').numpy()\n",
        "\n",
        "    # Salva as predições e as classes corretos\n",
        "    classes_previstas.append(outputs)\n",
        "    classes_verdadeiras.append(classes) "
      ],
      "metadata": {
        "id": "SGtx0zzarme0"
      },
      "execution_count": null,
      "outputs": []
    },
    {
      "cell_type": "code",
      "execution_count": 17,
      "metadata": {
        "id": "R9kiwZpPQGwZ"
      },
      "outputs": [],
      "source": [
        "# prepara resultado\n",
        "lista_previsoes = np.concatenate(classes_previstas, axis=0)\n",
        "lista_previsoes = np.argmax(lista_previsoes, axis=1).flatten()\n",
        "lista_classes_verdadeiras = np.concatenate(classes_verdadeiras, axis=0)"
      ]
    },
    {
      "cell_type": "markdown",
      "metadata": {
        "id": "Hgk3AvF_QfiL"
      },
      "source": [
        "### Relatório de classificação"
      ]
    },
    {
      "cell_type": "code",
      "execution_count": 18,
      "metadata": {
        "colab": {
          "base_uri": "https://localhost:8080/"
        },
        "id": "xV9buFKaQZPt",
        "outputId": "ece81ed2-0018-472c-b823-9add698c640d"
      },
      "outputs": [
        {
          "output_type": "stream",
          "name": "stdout",
          "text": [
            "              precision    recall  f1-score   support\n",
            "\n",
            "   confiável       0.98      0.98      0.98       655\n",
            "       falso       0.98      0.98      0.98       686\n",
            "\n",
            "    accuracy                           0.98      1341\n",
            "   macro avg       0.98      0.98      0.98      1341\n",
            "weighted avg       0.98      0.98      0.98      1341\n",
            "\n"
          ]
        }
      ],
      "source": [
        "print(classification_report(lista_classes_verdadeiras, lista_previsoes,target_names=['confiável','falso']))"
      ]
    },
    {
      "cell_type": "markdown",
      "metadata": {
        "id": "3SVK-__2QlnR"
      },
      "source": [
        "### Curva ROC"
      ]
    },
    {
      "cell_type": "code",
      "execution_count": 19,
      "metadata": {
        "colab": {
          "base_uri": "https://localhost:8080/",
          "height": 301
        },
        "id": "QQ4_BROGQnro",
        "outputId": "67a72f5e-e53b-47b5-e037-99969b535da8"
      },
      "outputs": [
        {
          "output_type": "display_data",
          "data": {
            "text/plain": [
              "<Figure size 432x288 with 1 Axes>"
            ],
            "image/png": "[encoded data removed]"
          },
          "metadata": {}
        }
      ],
      "source": [
        "fpr, tpr, _ = roc_curve(lista_classes_verdadeiras, lista_previsoes)\n",
        "roc_auc = auc(fpr, tpr)\n",
        "\n",
        "plt.figure()\n",
        "lw = 2\n",
        "plt.plot(fpr, tpr, color='darkorange',\n",
        "         lw=lw, label='Curva ROC (área = %0.2f)' % roc_auc)\n",
        "plt.plot([0, 1], [0, 1], color='navy', lw=lw, linestyle='--')\n",
        "plt.xlim([0.0, 1.0])\n",
        "plt.ylim([0.0, 1.05])\n",
        "plt.xlabel('Taxa Falso Positivo')\n",
        "plt.ylabel('Taxa Positive Real')\n",
        "plt.title('Receiver Operating Characteristic')\n",
        "plt.legend(loc=\"lower right\")\n",
        "plt.show()"
      ]
    },
    {
      "cell_type": "markdown",
      "metadata": {
        "id": "8NDl-wTARPK_"
      },
      "source": [
        "### Gráfico da Acurácia"
      ]
    },
    {
      "cell_type": "code",
      "execution_count": 20,
      "metadata": {
        "colab": {
          "base_uri": "https://localhost:8080/"
        },
        "id": "8OvFJDKhRPnL",
        "outputId": "fcb7fca4-f3eb-4122-f9a4-a95ad3061a22"
      },
      "outputs": [
        {
          "output_type": "stream",
          "name": "stdout",
          "text": [
            "0.9761372110365399\n"
          ]
        }
      ],
      "source": [
        "print(accuracy_score(lista_classes_verdadeiras, lista_previsoes))"
      ]
    },
    {
      "cell_type": "markdown",
      "metadata": {
        "id": "VSwGnmkSRWih"
      },
      "source": [
        "### Matriz de confusão"
      ]
    },
    {
      "cell_type": "code",
      "execution_count": 21,
      "metadata": {
        "colab": {
          "base_uri": "https://localhost:8080/",
          "height": 340
        },
        "id": "oxyqsf-xRYIt",
        "outputId": "0702181f-385a-41a4-a25d-8035e403abcf"
      },
      "outputs": [
        {
          "output_type": "stream",
          "name": "stdout",
          "text": [
            "[[639  16]\n",
            " [ 16 670]]\n"
          ]
        },
        {
          "output_type": "execute_result",
          "data": {
            "text/plain": [
              "<sklearn.metrics._plot.confusion_matrix.ConfusionMatrixDisplay at 0x7f634c057e10>"
            ]
          },
          "metadata": {},
          "execution_count": 21
        },
        {
          "output_type": "display_data",
          "data": {
            "text/plain": [
              "<Figure size 432x288 with 2 Axes>"
            ],
            "image/png": "[encoded data removed]"
          },
          "metadata": {}
        }
      ],
      "source": [
        "conf = confusion_matrix(lista_classes_verdadeiras, lista_previsoes)\n",
        "print(conf)\n",
        "cmd = ConfusionMatrixDisplay(conf, display_labels=['confiável','falso'])\n",
        "cmd.plot()"
      ]
    },
    {
      "cell_type": "markdown",
      "metadata": {
        "id": "ZsP7h_bYRfOn"
      },
      "source": [
        "### Gera as estatísticas do treino"
      ]
    },
    {
      "cell_type": "code",
      "execution_count": 22,
      "metadata": {
        "id": "CF9E0G2jRkUf"
      },
      "outputs": [],
      "source": [
        "# Cria um dataframe das estatísticas\n",
        "pd.set_option('precision', 2)\n",
        "df_estatisticas = pd.DataFrame(data=estatisticas)\n",
        "df_estatisticas = df_estatisticas.set_index('epoca')"
      ]
    },
    {
      "cell_type": "markdown",
      "metadata": {
        "id": "McJfNhcNRvMV"
      },
      "source": [
        "### Curva de aprendizado"
      ]
    },
    {
      "cell_type": "code",
      "execution_count": 23,
      "metadata": {
        "colab": {
          "base_uri": "https://localhost:8080/",
          "height": 302
        },
        "id": "vL6_52WnRqxf",
        "outputId": "79259b04-566a-4f2d-89fc-d43e70e6ea62"
      },
      "outputs": [
        {
          "output_type": "display_data",
          "data": {
            "text/plain": [
              "<Figure size 432x288 with 1 Axes>"
            ],
            "image/png": "[encoded data removed]"
          },
          "metadata": {}
        }
      ],
      "source": [
        "plt.figure()\n",
        "# Mostra curva de aprendizado.\n",
        "plt.plot(df_estatisticas['Loss de Treinamento'], 'b-o', label=\"Treinamento\")\n",
        "plt.plot(df_estatisticas['Loss de Validação'], 'g-o', label=\"Validação\")\n",
        "plt.title(\"Loss de Treinamento vs Validação\")\n",
        "plt.xlabel(\"Época\")\n",
        "plt.ylabel(\"Loss\")\n",
        "plt.legend()\n",
        "plt.xticks([1, 2, 3, 4])\n",
        "plt.show()"
      ]
    },
    {
      "cell_type": "markdown",
      "metadata": {
        "id": "dvJb4GhoRx_P"
      },
      "source": [
        "### Acurácia"
      ]
    },
    {
      "cell_type": "code",
      "execution_count": 24,
      "metadata": {
        "colab": {
          "base_uri": "https://localhost:8080/",
          "height": 302
        },
        "id": "EknVQrBHR3a3",
        "outputId": "e4490e68-833f-435e-e9de-7e22fe498e24"
      },
      "outputs": [
        {
          "output_type": "display_data",
          "data": {
            "text/plain": [
              "<Figure size 432x288 with 1 Axes>"
            ],
            "image/png": "[encoded data removed]"
          },
          "metadata": {}
        }
      ],
      "source": [
        "plt.figure()\n",
        "plt.plot(df_estatisticas['Acurácia de Validação'], 'g-o', label=\"Validação\")\n",
        "plt.title(\"Acurácia de Validação\")\n",
        "plt.xlabel(\"Época\")\n",
        "plt.ylabel(\"Acurácia\")\n",
        "plt.legend(loc=\"lower right\")\n",
        "plt.xticks([1, 2, 3, 4])\n",
        "plt.show()"
      ]
    },
    {
      "cell_type": "markdown",
      "metadata": {
        "id": "cnebgfT8Ny6M"
      },
      "source": [
        "### Salvando o melhor modelo"
      ]
    },
    {
      "cell_type": "code",
      "execution_count": 25,
      "metadata": {
        "colab": {
          "base_uri": "https://localhost:8080/"
        },
        "id": "OJfQlVjsNqug",
        "outputId": "acefe5b8-6f75-409f-a87b-509511a7fbac"
      },
      "outputs": [
        {
          "output_type": "execute_result",
          "data": {
            "text/plain": [
              "('/content/drive/MyDrive/PUC/TCC/modelos/classificador_bertimbau/tokenizer_config.json',\n",
              " '/content/drive/MyDrive/PUC/TCC/modelos/classificador_bertimbau/special_tokens_map.json',\n",
              " '/content/drive/MyDrive/PUC/TCC/modelos/classificador_bertimbau/vocab.txt',\n",
              " '/content/drive/MyDrive/PUC/TCC/modelos/classificador_bertimbau/added_tokens.json',\n",
              " '/content/drive/MyDrive/PUC/TCC/modelos/classificador_bertimbau/tokenizer.json')"
            ]
          },
          "metadata": {},
          "execution_count": 25
        }
      ],
      "source": [
        "CAMINHO_MODELO = \"/content/drive/MyDrive/PUC/TCC/modelos/classificador_bertimbau\"\n",
        "model_bert.save_pretrained(f\"{CAMINHO_MODELO}\")\n",
        "tokenizer.save_pretrained(f\"{CAMINHO_MODELO}\")"
      ]
    }
  ],
  "metadata": {
    "accelerator": "GPU",
    "colab": {
      "collapsed_sections": [],
      "machine_shape": "hm",
      "name": "classificacao_passo02_treino_avaliacao.ipynb",
      "provenance": [],
      "include_colab_link": true
    },
    "kernelspec": {
      "display_name": "Python 3",
      "name": "python3"
    },
    "language_info": {
      "codemirror_mode": {
        "name": "ipython",
        "version": 3
      },
      "file_extension": ".py",
      "mimetype": "text/x-python",
      "name": "python",
      "nbconvert_exporter": "python",
      "pygments_lexer": "ipython3",
      "version": "3.8.13"
    },
    "widgets": {
      "application/vnd.jupyter.widget-state+json": {
        "1debb88034724998b498c10baee160e8": {
          "model_module": "@jupyter-widgets/controls",
          "model_name": "HBoxModel",
          "model_module_version": "1.5.0",
          "state": {
            "_dom_classes": [],
            "_model_module": "@jupyter-widgets/controls",
            "_model_module_version": "1.5.0",
            "_model_name": "HBoxModel",
            "_view_count": null,
            "_view_module": "@jupyter-widgets/controls",
            "_view_module_version": "1.5.0",
            "_view_name": "HBoxView",
            "box_style": "",
            "children": [
              "IPY_MODEL_ba5e793354744a249bee77eb280c2265",
              "IPY_MODEL_b2004f8a98234a16a2743286c31bf4de",
              "IPY_MODEL_39e1251a56c74fee9d67232433765ca1"
            ],
            "layout": "IPY_MODEL_9800a2a6c63d4cc1aa4e3d6ecd942a86"
          }
        },
        "ba5e793354744a249bee77eb280c2265": {
          "model_module": "@jupyter-widgets/controls",
          "model_name": "HTMLModel",
          "model_module_version": "1.5.0",
          "state": {
            "_dom_classes": [],
            "_model_module": "@jupyter-widgets/controls",
            "_model_module_version": "1.5.0",
            "_model_name": "HTMLModel",
            "_view_count": null,
            "_view_module": "@jupyter-widgets/controls",
            "_view_module_version": "1.5.0",
            "_view_name": "HTMLView",
            "description": "",
            "description_tooltip": null,
            "layout": "IPY_MODEL_e60fd9b43e2e4b24821bb342113feb2c",
            "placeholder": "​",
            "style": "IPY_MODEL_f9dc90e0b00c479ab124c023914839c2",
            "value": "100%"
          }
        },
        "b2004f8a98234a16a2743286c31bf4de": {
          "model_module": "@jupyter-widgets/controls",
          "model_name": "FloatProgressModel",
          "model_module_version": "1.5.0",
          "state": {
            "_dom_classes": [],
            "_model_module": "@jupyter-widgets/controls",
            "_model_module_version": "1.5.0",
            "_model_name": "FloatProgressModel",
            "_view_count": null,
            "_view_module": "@jupyter-widgets/controls",
            "_view_module_version": "1.5.0",
            "_view_name": "ProgressView",
            "bar_style": "success",
            "description": "",
            "description_tooltip": null,
            "layout": "IPY_MODEL_bc8cb04266b7454097d4e80e6adb6f4a",
            "max": 6703,
            "min": 0,
            "orientation": "horizontal",
            "style": "IPY_MODEL_8250d0a59b33475a8b0c40dd27ceba07",
            "value": 6703
          }
        },
        "39e1251a56c74fee9d67232433765ca1": {
          "model_module": "@jupyter-widgets/controls",
          "model_name": "HTMLModel",
          "model_module_version": "1.5.0",
          "state": {
            "_dom_classes": [],
            "_model_module": "@jupyter-widgets/controls",
            "_model_module_version": "1.5.0",
            "_model_name": "HTMLModel",
            "_view_count": null,
            "_view_module": "@jupyter-widgets/controls",
            "_view_module_version": "1.5.0",
            "_view_name": "HTMLView",
            "description": "",
            "description_tooltip": null,
            "layout": "IPY_MODEL_43e055521206414eb206b0049a4312b2",
            "placeholder": "​",
            "style": "IPY_MODEL_360bbfb30bc54c97bc394b1c624b2571",
            "value": " 6703/6703 [00:05&lt;00:00, 1188.55it/s]"
          }
        },
        "9800a2a6c63d4cc1aa4e3d6ecd942a86": {
          "model_module": "@jupyter-widgets/base",
          "model_name": "LayoutModel",
          "model_module_version": "1.2.0",
          "state": {
            "_model_module": "@jupyter-widgets/base",
            "_model_module_version": "1.2.0",
            "_model_name": "LayoutModel",
            "_view_count": null,
            "_view_module": "@jupyter-widgets/base",
            "_view_module_version": "1.2.0",
            "_view_name": "LayoutView",
            "align_content": null,
            "align_items": null,
            "align_self": null,
            "border": null,
            "bottom": null,
            "display": null,
            "flex": null,
            "flex_flow": null,
            "grid_area": null,
            "grid_auto_columns": null,
            "grid_auto_flow": null,
            "grid_auto_rows": null,
            "grid_column": null,
            "grid_gap": null,
            "grid_row": null,
            "grid_template_areas": null,
            "grid_template_columns": null,
            "grid_template_rows": null,
            "height": null,
            "justify_content": null,
            "justify_items": null,
            "left": null,
            "margin": null,
            "max_height": null,
            "max_width": null,
            "min_height": null,
            "min_width": null,
            "object_fit": null,
            "object_position": null,
            "order": null,
            "overflow": null,
            "overflow_x": null,
            "overflow_y": null,
            "padding": null,
            "right": null,
            "top": null,
            "visibility": null,
            "width": null
          }
        },
        "e60fd9b43e2e4b24821bb342113feb2c": {
          "model_module": "@jupyter-widgets/base",
          "model_name": "LayoutModel",
          "model_module_version": "1.2.0",
          "state": {
            "_model_module": "@jupyter-widgets/base",
            "_model_module_version": "1.2.0",
            "_model_name": "LayoutModel",
            "_view_count": null,
            "_view_module": "@jupyter-widgets/base",
            "_view_module_version": "1.2.0",
            "_view_name": "LayoutView",
            "align_content": null,
            "align_items": null,
            "align_self": null,
            "border": null,
            "bottom": null,
            "display": null,
            "flex": null,
            "flex_flow": null,
            "grid_area": null,
            "grid_auto_columns": null,
            "grid_auto_flow": null,
            "grid_auto_rows": null,
            "grid_column": null,
            "grid_gap": null,
            "grid_row": null,
            "grid_template_areas": null,
            "grid_template_columns": null,
            "grid_template_rows": null,
            "height": null,
            "justify_content": null,
            "justify_items": null,
            "left": null,
            "margin": null,
            "max_height": null,
            "max_width": null,
            "min_height": null,
            "min_width": null,
            "object_fit": null,
            "object_position": null,
            "order": null,
            "overflow": null,
            "overflow_x": null,
            "overflow_y": null,
            "padding": null,
            "right": null,
            "top": null,
            "visibility": null,
            "width": null
          }
        },
        "f9dc90e0b00c479ab124c023914839c2": {
          "model_module": "@jupyter-widgets/controls",
          "model_name": "DescriptionStyleModel",
          "model_module_version": "1.5.0",
          "state": {
            "_model_module": "@jupyter-widgets/controls",
            "_model_module_version": "1.5.0",
            "_model_name": "DescriptionStyleModel",
            "_view_count": null,
            "_view_module": "@jupyter-widgets/base",
            "_view_module_version": "1.2.0",
            "_view_name": "StyleView",
            "description_width": ""
          }
        },
        "bc8cb04266b7454097d4e80e6adb6f4a": {
          "model_module": "@jupyter-widgets/base",
          "model_name": "LayoutModel",
          "model_module_version": "1.2.0",
          "state": {
            "_model_module": "@jupyter-widgets/base",
            "_model_module_version": "1.2.0",
            "_model_name": "LayoutModel",
            "_view_count": null,
            "_view_module": "@jupyter-widgets/base",
            "_view_module_version": "1.2.0",
            "_view_name": "LayoutView",
            "align_content": null,
            "align_items": null,
            "align_self": null,
            "border": null,
            "bottom": null,
            "display": null,
            "flex": null,
            "flex_flow": null,
            "grid_area": null,
            "grid_auto_columns": null,
            "grid_auto_flow": null,
            "grid_auto_rows": null,
            "grid_column": null,
            "grid_gap": null,
            "grid_row": null,
            "grid_template_areas": null,
            "grid_template_columns": null,
            "grid_template_rows": null,
            "height": null,
            "justify_content": null,
            "justify_items": null,
            "left": null,
            "margin": null,
            "max_height": null,
            "max_width": null,
            "min_height": null,
            "min_width": null,
            "object_fit": null,
            "object_position": null,
            "order": null,
            "overflow": null,
            "overflow_x": null,
            "overflow_y": null,
            "padding": null,
            "right": null,
            "top": null,
            "visibility": null,
            "width": null
          }
        },
        "8250d0a59b33475a8b0c40dd27ceba07": {
          "model_module": "@jupyter-widgets/controls",
          "model_name": "ProgressStyleModel",
          "model_module_version": "1.5.0",
          "state": {
            "_model_module": "@jupyter-widgets/controls",
            "_model_module_version": "1.5.0",
            "_model_name": "ProgressStyleModel",
            "_view_count": null,
            "_view_module": "@jupyter-widgets/base",
            "_view_module_version": "1.2.0",
            "_view_name": "StyleView",
            "bar_color": null,
            "description_width": ""
          }
        },
        "43e055521206414eb206b0049a4312b2": {
          "model_module": "@jupyter-widgets/base",
          "model_name": "LayoutModel",
          "model_module_version": "1.2.0",
          "state": {
            "_model_module": "@jupyter-widgets/base",
            "_model_module_version": "1.2.0",
            "_model_name": "LayoutModel",
            "_view_count": null,
            "_view_module": "@jupyter-widgets/base",
            "_view_module_version": "1.2.0",
            "_view_name": "LayoutView",
            "align_content": null,
            "align_items": null,
            "align_self": null,
            "border": null,
            "bottom": null,
            "display": null,
            "flex": null,
            "flex_flow": null,
            "grid_area": null,
            "grid_auto_columns": null,
            "grid_auto_flow": null,
            "grid_auto_rows": null,
            "grid_column": null,
            "grid_gap": null,
            "grid_row": null,
            "grid_template_areas": null,
            "grid_template_columns": null,
            "grid_template_rows": null,
            "height": null,
            "justify_content": null,
            "justify_items": null,
            "left": null,
            "margin": null,
            "max_height": null,
            "max_width": null,
            "min_height": null,
            "min_width": null,
            "object_fit": null,
            "object_position": null,
            "order": null,
            "overflow": null,
            "overflow_x": null,
            "overflow_y": null,
            "padding": null,
            "right": null,
            "top": null,
            "visibility": null,
            "width": null
          }
        },
        "360bbfb30bc54c97bc394b1c624b2571": {
          "model_module": "@jupyter-widgets/controls",
          "model_name": "DescriptionStyleModel",
          "model_module_version": "1.5.0",
          "state": {
            "_model_module": "@jupyter-widgets/controls",
            "_model_module_version": "1.5.0",
            "_model_name": "DescriptionStyleModel",
            "_view_count": null,
            "_view_module": "@jupyter-widgets/base",
            "_view_module_version": "1.2.0",
            "_view_name": "StyleView",
            "description_width": ""
          }
        }
      }
    }
  },
  "nbformat": 4,
  "nbformat_minor": 0
}