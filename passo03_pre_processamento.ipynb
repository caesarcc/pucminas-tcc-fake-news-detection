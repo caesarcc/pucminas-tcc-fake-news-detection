{
  "cells": [
    {
      "cell_type": "markdown",
      "metadata": {
        "id": "view-in-github",
        "colab_type": "text"
      },
      "source": [
        "<a href=\"https://colab.research.google.com/github/caesarcc/pucminas-tcc-fake-news-detection/blob/main/passo03_pre_processamento.ipynb\" target=\"_parent\"><img src=\"https://colab.research.google.com/assets/colab-badge.svg\" alt=\"Open In Colab\"/></a>"
      ]
    },
    {
      "cell_type": "markdown",
      "metadata": {
        "id": "WRxgfVVsPtyK"
      },
      "source": [
        "## Pre-Processamento e limpeza do dataset\n",
        "\n",
        "### Iniciando pela configuração do Google Colab"
      ]
    },
    {
      "cell_type": "code",
      "execution_count": 2,
      "metadata": {
        "colab": {
          "base_uri": "https://localhost:8080/"
        },
        "id": "6hB_K-J4iA-r",
        "outputId": "2caecd53-7fa6-4802-9c72-6e3d72fcc7c9"
      },
      "outputs": [
        {
          "output_type": "stream",
          "name": "stdout",
          "text": [
            "Looking in indexes: https://pypi.org/simple, https://us-python.pkg.dev/colab-wheels/public/simple/\n",
            "Collecting emoji\n",
            "  Downloading emoji-1.7.0.tar.gz (175 kB)\n",
            "\u001b[?25l\r\u001b[K     |█▉                              | 10 kB 26.0 MB/s eta 0:00:01\r\u001b[K     |███▊                            | 20 kB 23.2 MB/s eta 0:00:01\r\u001b[K     |█████▋                          | 30 kB 16.5 MB/s eta 0:00:01\r\u001b[K     |███████▌                        | 40 kB 14.7 MB/s eta 0:00:01\r\u001b[K     |█████████▍                      | 51 kB 6.8 MB/s eta 0:00:01\r\u001b[K     |███████████▏                    | 61 kB 8.0 MB/s eta 0:00:01\r\u001b[K     |█████████████                   | 71 kB 8.5 MB/s eta 0:00:01\r\u001b[K     |███████████████                 | 81 kB 8.6 MB/s eta 0:00:01\r\u001b[K     |████████████████▉               | 92 kB 9.5 MB/s eta 0:00:01\r\u001b[K     |██████████████████▊             | 102 kB 7.9 MB/s eta 0:00:01\r\u001b[K     |████████████████████▌           | 112 kB 7.9 MB/s eta 0:00:01\r\u001b[K     |██████████████████████▍         | 122 kB 7.9 MB/s eta 0:00:01\r\u001b[K     |████████████████████████▎       | 133 kB 7.9 MB/s eta 0:00:01\r\u001b[K     |██████████████████████████▏     | 143 kB 7.9 MB/s eta 0:00:01\r\u001b[K     |████████████████████████████    | 153 kB 7.9 MB/s eta 0:00:01\r\u001b[K     |█████████████████████████████▉  | 163 kB 7.9 MB/s eta 0:00:01\r\u001b[K     |███████████████████████████████▊| 174 kB 7.9 MB/s eta 0:00:01\r\u001b[K     |████████████████████████████████| 175 kB 7.9 MB/s \n",
            "\u001b[?25hBuilding wheels for collected packages: emoji\n",
            "  Building wheel for emoji (setup.py) ... \u001b[?25l\u001b[?25hdone\n",
            "  Created wheel for emoji: filename=emoji-1.7.0-py3-none-any.whl size=171046 sha256=8037b649e7adb1ef03c2ad216d9bddf8b3be551b562b83aa29b44aa397ec970c\n",
            "  Stored in directory: /root/.cache/pip/wheels/8a/4e/b6/57b01db010d17ef6ea9b40300af725ef3e210cb1acfb7ac8b6\n",
            "Successfully built emoji\n",
            "Installing collected packages: emoji\n",
            "Successfully installed emoji-1.7.0\n",
            "\u001b[K     |████████████████████████████████| 4.4 MB 9.7 MB/s \n",
            "\u001b[K     |████████████████████████████████| 6.6 MB 44.5 MB/s \n",
            "\u001b[K     |████████████████████████████████| 596 kB 59.1 MB/s \n",
            "\u001b[K     |████████████████████████████████| 86 kB 5.1 MB/s \n",
            "\u001b[K     |████████████████████████████████| 1.2 MB 8.1 MB/s \n",
            "\u001b[?25hLooking in indexes: https://pypi.org/simple, https://us-python.pkg.dev/colab-wheels/public/simple/\n",
            "Collecting pt-core-news-sm==3.3.0\n",
            "  Downloading https://github.com/explosion/spacy-models/releases/download/pt_core_news_sm-3.3.0/pt_core_news_sm-3.3.0-py3-none-any.whl (13.0 MB)\n",
            "\u001b[K     |████████████████████████████████| 13.0 MB 9.0 MB/s \n",
            "\u001b[?25hRequirement already satisfied: spacy<3.4.0,>=3.3.0.dev0 in /usr/local/lib/python3.7/dist-packages (from pt-core-news-sm==3.3.0) (3.3.1)\n",
            "Requirement already satisfied: jinja2 in /usr/local/lib/python3.7/dist-packages (from spacy<3.4.0,>=3.3.0.dev0->pt-core-news-sm==3.3.0) (2.11.3)\n",
            "Requirement already satisfied: pathy>=0.3.5 in /usr/local/lib/python3.7/dist-packages (from spacy<3.4.0,>=3.3.0.dev0->pt-core-news-sm==3.3.0) (0.6.1)\n",
            "Requirement already satisfied: cymem<2.1.0,>=2.0.2 in /usr/local/lib/python3.7/dist-packages (from spacy<3.4.0,>=3.3.0.dev0->pt-core-news-sm==3.3.0) (2.0.6)\n",
            "Requirement already satisfied: spacy-loggers<2.0.0,>=1.0.0 in /usr/local/lib/python3.7/dist-packages (from spacy<3.4.0,>=3.3.0.dev0->pt-core-news-sm==3.3.0) (1.0.2)\n",
            "Requirement already satisfied: setuptools in /usr/local/lib/python3.7/dist-packages (from spacy<3.4.0,>=3.3.0.dev0->pt-core-news-sm==3.3.0) (57.4.0)\n",
            "Requirement already satisfied: preshed<3.1.0,>=3.0.2 in /usr/local/lib/python3.7/dist-packages (from spacy<3.4.0,>=3.3.0.dev0->pt-core-news-sm==3.3.0) (3.0.6)\n",
            "Requirement already satisfied: srsly<3.0.0,>=2.4.3 in /usr/local/lib/python3.7/dist-packages (from spacy<3.4.0,>=3.3.0.dev0->pt-core-news-sm==3.3.0) (2.4.3)\n",
            "Requirement already satisfied: thinc<8.1.0,>=8.0.14 in /usr/local/lib/python3.7/dist-packages (from spacy<3.4.0,>=3.3.0.dev0->pt-core-news-sm==3.3.0) (8.0.17)\n",
            "Requirement already satisfied: blis<0.8.0,>=0.4.0 in /usr/local/lib/python3.7/dist-packages (from spacy<3.4.0,>=3.3.0.dev0->pt-core-news-sm==3.3.0) (0.7.7)\n",
            "Requirement already satisfied: typer<0.5.0,>=0.3.0 in /usr/local/lib/python3.7/dist-packages (from spacy<3.4.0,>=3.3.0.dev0->pt-core-news-sm==3.3.0) (0.4.1)\n",
            "Requirement already satisfied: numpy>=1.15.0 in /usr/local/lib/python3.7/dist-packages (from spacy<3.4.0,>=3.3.0.dev0->pt-core-news-sm==3.3.0) (1.21.6)\n",
            "Requirement already satisfied: packaging>=20.0 in /usr/local/lib/python3.7/dist-packages (from spacy<3.4.0,>=3.3.0.dev0->pt-core-news-sm==3.3.0) (21.3)\n",
            "Requirement already satisfied: catalogue<2.1.0,>=2.0.6 in /usr/local/lib/python3.7/dist-packages (from spacy<3.4.0,>=3.3.0.dev0->pt-core-news-sm==3.3.0) (2.0.7)\n",
            "Requirement already satisfied: requests<3.0.0,>=2.13.0 in /usr/local/lib/python3.7/dist-packages (from spacy<3.4.0,>=3.3.0.dev0->pt-core-news-sm==3.3.0) (2.23.0)\n",
            "Requirement already satisfied: wasabi<1.1.0,>=0.9.1 in /usr/local/lib/python3.7/dist-packages (from spacy<3.4.0,>=3.3.0.dev0->pt-core-news-sm==3.3.0) (0.9.1)\n",
            "Requirement already satisfied: tqdm<5.0.0,>=4.38.0 in /usr/local/lib/python3.7/dist-packages (from spacy<3.4.0,>=3.3.0.dev0->pt-core-news-sm==3.3.0) (4.64.0)\n",
            "Requirement already satisfied: pydantic!=1.8,!=1.8.1,<1.9.0,>=1.7.4 in /usr/local/lib/python3.7/dist-packages (from spacy<3.4.0,>=3.3.0.dev0->pt-core-news-sm==3.3.0) (1.8.2)\n",
            "Requirement already satisfied: spacy-legacy<3.1.0,>=3.0.9 in /usr/local/lib/python3.7/dist-packages (from spacy<3.4.0,>=3.3.0.dev0->pt-core-news-sm==3.3.0) (3.0.9)\n",
            "Requirement already satisfied: typing-extensions<4.2.0,>=3.7.4 in /usr/local/lib/python3.7/dist-packages (from spacy<3.4.0,>=3.3.0.dev0->pt-core-news-sm==3.3.0) (4.1.1)\n",
            "Requirement already satisfied: murmurhash<1.1.0,>=0.28.0 in /usr/local/lib/python3.7/dist-packages (from spacy<3.4.0,>=3.3.0.dev0->pt-core-news-sm==3.3.0) (1.0.7)\n",
            "Requirement already satisfied: langcodes<4.0.0,>=3.2.0 in /usr/local/lib/python3.7/dist-packages (from spacy<3.4.0,>=3.3.0.dev0->pt-core-news-sm==3.3.0) (3.3.0)\n",
            "Requirement already satisfied: zipp>=0.5 in /usr/local/lib/python3.7/dist-packages (from catalogue<2.1.0,>=2.0.6->spacy<3.4.0,>=3.3.0.dev0->pt-core-news-sm==3.3.0) (3.8.0)\n",
            "Requirement already satisfied: pyparsing!=3.0.5,>=2.0.2 in /usr/local/lib/python3.7/dist-packages (from packaging>=20.0->spacy<3.4.0,>=3.3.0.dev0->pt-core-news-sm==3.3.0) (3.0.9)\n",
            "Requirement already satisfied: smart-open<6.0.0,>=5.0.0 in /usr/local/lib/python3.7/dist-packages (from pathy>=0.3.5->spacy<3.4.0,>=3.3.0.dev0->pt-core-news-sm==3.3.0) (5.2.1)\n",
            "Requirement already satisfied: urllib3!=1.25.0,!=1.25.1,<1.26,>=1.21.1 in /usr/local/lib/python3.7/dist-packages (from requests<3.0.0,>=2.13.0->spacy<3.4.0,>=3.3.0.dev0->pt-core-news-sm==3.3.0) (1.24.3)\n",
            "Requirement already satisfied: idna<3,>=2.5 in /usr/local/lib/python3.7/dist-packages (from requests<3.0.0,>=2.13.0->spacy<3.4.0,>=3.3.0.dev0->pt-core-news-sm==3.3.0) (2.10)\n",
            "Requirement already satisfied: certifi>=2017.4.17 in /usr/local/lib/python3.7/dist-packages (from requests<3.0.0,>=2.13.0->spacy<3.4.0,>=3.3.0.dev0->pt-core-news-sm==3.3.0) (2022.6.15)\n",
            "Requirement already satisfied: chardet<4,>=3.0.2 in /usr/local/lib/python3.7/dist-packages (from requests<3.0.0,>=2.13.0->spacy<3.4.0,>=3.3.0.dev0->pt-core-news-sm==3.3.0) (3.0.4)\n",
            "Requirement already satisfied: click<9.0.0,>=7.1.1 in /usr/local/lib/python3.7/dist-packages (from typer<0.5.0,>=0.3.0->spacy<3.4.0,>=3.3.0.dev0->pt-core-news-sm==3.3.0) (7.1.2)\n",
            "Requirement already satisfied: MarkupSafe>=0.23 in /usr/local/lib/python3.7/dist-packages (from jinja2->spacy<3.4.0,>=3.3.0.dev0->pt-core-news-sm==3.3.0) (2.0.1)\n",
            "Installing collected packages: pt-core-news-sm\n",
            "Successfully installed pt-core-news-sm-3.3.0\n",
            "\u001b[38;5;2m✔ Download and installation successful\u001b[0m\n",
            "You can now load the package via spacy.load('pt_core_news_sm')\n"
          ]
        }
      ],
      "source": [
        "# Instalação de libs que não estão presentes no Colab\n",
        "!pip install emoji\n",
        "!pip install -q transformers\n",
        "!pip install -q sentencepiece\n",
        "# Configuração da lib Spacy\n",
        "!python -m spacy download pt_core_news_sm"
      ]
    },
    {
      "cell_type": "code",
      "execution_count": 3,
      "metadata": {
        "colab": {
          "base_uri": "https://localhost:8080/"
        },
        "id": "NC05ATj6Q5mp",
        "outputId": "cfa9e060-0e45-4797-f4c2-8bf3d8f26563"
      },
      "outputs": [
        {
          "output_type": "stream",
          "name": "stdout",
          "text": [
            "Mounted at /content/drive\n"
          ]
        }
      ],
      "source": [
        "# Configura acesso ao Google Driver onde serão salvos os arquivos grandes\n",
        "from google.colab import drive\n",
        "drive.mount('/content/drive')"
      ]
    },
    {
      "cell_type": "code",
      "execution_count": 20,
      "metadata": {
        "cellView": "form",
        "id": "CPzAh59THwj1"
      },
      "outputs": [],
      "source": [
        "# Importação de bibliotecas utilizadas no pré-processamento\n",
        "import os\n",
        "import re\n",
        "import emoji\n",
        "import pandas as pd\n",
        "import numpy as np\n",
        "import matplotlib.pyplot as plt\n",
        "import seaborn as sns\n",
        "import pt_core_news_sm\n",
        "from transformers import T5TokenizerFast\n",
        "from transformers import T5ForConditionalGeneration\n",
        "from wordcloud import WordCloud\n",
        "from IPython.display import display\n",
        "%matplotlib inline\n",
        "pd.set_option(\"display.max_rows\", 50, 'display.max_colwidth', 0)"
      ]
    },
    {
      "cell_type": "markdown",
      "metadata": {
        "id": "CAIEyECELbcI"
      },
      "source": [
        "### Carregar arquivo CSV das bases unificadas e validar"
      ]
    },
    {
      "cell_type": "code",
      "execution_count": 21,
      "metadata": {
        "colab": {
          "base_uri": "https://localhost:8080/"
        },
        "id": "x-_cNp9TLjj7",
        "outputId": "5df9d157-78f3-45b1-ee7e-efde6b02cff1"
      },
      "outputs": [
        {
          "output_type": "stream",
          "name": "stdout",
          "text": [
            "<class 'pandas.core.frame.DataFrame'>\n",
            "RangeIndex: 9537 entries, 0 to 9536\n",
            "Data columns (total 2 columns):\n",
            " #   Column  Non-Null Count  Dtype \n",
            "---  ------  --------------  ----- \n",
            " 0   texto   9537 non-null   object\n",
            " 1   classe  9537 non-null   int64 \n",
            "dtypes: int64(1), object(1)\n",
            "memory usage: 149.1+ KB\n"
          ]
        }
      ],
      "source": [
        "dados = pd.read_csv(r'/content/drive/MyDrive/PUC/TCC/dados/datasets_unificados.csv', sep = ',', names=['texto', 'classe'], header=1).reset_index(drop=True)\n",
        "dados.info()"
      ]
    },
    {
      "cell_type": "code",
      "execution_count": 22,
      "metadata": {
        "colab": {
          "base_uri": "https://localhost:8080/",
          "height": 285
        },
        "id": "foUthMFjVRxp",
        "outputId": "e27be6be-1586-430b-c020-947f319be08f"
      },
      "outputs": [
        {
          "output_type": "execute_result",
          "data": {
            "text/plain": [
              "                                                                                                                                                                                                                                                                                                                                                                                texto  \\\n",
              "8623  Barra da Tijuca, Rio, após entrevista do Bolsonaro no Jornal Nacional.                                                                                                                                                                                                                                                                                                            \n",
              "9471  O Bolsonaro vai ser bom? \\nO futuro dirá! \\n\\nO PT vai ser bom?\\nO passado já disse!                                                                                                                                                                                                                                                                                              \n",
              "8680  O Vice-presidente da Guiné Equatorial foi preso ao tentar entrar no Brasil com alguns milhões de dólares em dinheiro. Por coincidência é o país que o Lula perdoou uma dívida bilionária e teve várias obras bilionárias feitas com dinheiro do BNDES.\\nPor coincidência ele trouxe este fortuna em plena época eleitoral.                                                        \n",
              "7557  “Tracking BTG que acabou de sair para o mercado financeiro:\\n👉Bolsonaro 63%;\\n👇Haddad 37%.\\nPS: Votos válidos.\\n\\nTemos que espalhar ao máximo, pois os institutos de pesquisas comprados vão começar a divulgar as falsas pesquisas onde Haddad em apenas 3 dias já se aproxima de Bolsonaro.  Querem manipular as pesquisas para fraudar os resultados. Compartilhem sem dó!”   \n",
              "9535  \"Tem que fechar o Supremo Tribunal Federal\", diz deputado do PT - http://noticias.uol.com.br/politica/ultimas-noticias/2018/04/13/tem-que-fechar-o-supremo-tribunal-federal-diz-deputado-do-pt.htm                                                                                                                                                                                \n",
              "\n",
              "      classe  \n",
              "8623  0       \n",
              "9471  0       \n",
              "8680  1       \n",
              "7557  1       \n",
              "9535  0       "
            ],
            "text/html": [
              "\n",
              "  <div id=\"df-6183a174-39ab-43e4-bb1a-98513a5abfaa\">\n",
              "    <div class=\"colab-df-container\">\n",
              "      <div>\n",
              "<style scoped>\n",
              "    .dataframe tbody tr th:only-of-type {\n",
              "        vertical-align: middle;\n",
              "    }\n",
              "\n",
              "    .dataframe tbody tr th {\n",
              "        vertical-align: top;\n",
              "    }\n",
              "\n",
              "    .dataframe thead th {\n",
              "        text-align: right;\n",
              "    }\n",
              "</style>\n",
              "<table border=\"1\" class=\"dataframe\">\n",
              "  <thead>\n",
              "    <tr style=\"text-align: right;\">\n",
              "      <th></th>\n",
              "      <th>texto</th>\n",
              "      <th>classe</th>\n",
              "    </tr>\n",
              "  </thead>\n",
              "  <tbody>\n",
              "    <tr>\n",
              "      <th>8623</th>\n",
              "      <td>Barra da Tijuca, Rio, após entrevista do Bolsonaro no Jornal Nacional.</td>\n",
              "      <td>0</td>\n",
              "    </tr>\n",
              "    <tr>\n",
              "      <th>9471</th>\n",
              "      <td>O Bolsonaro vai ser bom? \\nO futuro dirá! \\n\\nO PT vai ser bom?\\nO passado já disse!</td>\n",
              "      <td>0</td>\n",
              "    </tr>\n",
              "    <tr>\n",
              "      <th>8680</th>\n",
              "      <td>O Vice-presidente da Guiné Equatorial foi preso ao tentar entrar no Brasil com alguns milhões de dólares em dinheiro. Por coincidência é o país que o Lula perdoou uma dívida bilionária e teve várias obras bilionárias feitas com dinheiro do BNDES.\\nPor coincidência ele trouxe este fortuna em plena época eleitoral.</td>\n",
              "      <td>1</td>\n",
              "    </tr>\n",
              "    <tr>\n",
              "      <th>7557</th>\n",
              "      <td>“Tracking BTG que acabou de sair para o mercado financeiro:\\n👉Bolsonaro 63%;\\n👇Haddad 37%.\\nPS: Votos válidos.\\n\\nTemos que espalhar ao máximo, pois os institutos de pesquisas comprados vão começar a divulgar as falsas pesquisas onde Haddad em apenas 3 dias já se aproxima de Bolsonaro.  Querem manipular as pesquisas para fraudar os resultados. Compartilhem sem dó!”</td>\n",
              "      <td>1</td>\n",
              "    </tr>\n",
              "    <tr>\n",
              "      <th>9535</th>\n",
              "      <td>\"Tem que fechar o Supremo Tribunal Federal\", diz deputado do PT - http://noticias.uol.com.br/politica/ultimas-noticias/2018/04/13/tem-que-fechar-o-supremo-tribunal-federal-diz-deputado-do-pt.htm</td>\n",
              "      <td>0</td>\n",
              "    </tr>\n",
              "  </tbody>\n",
              "</table>\n",
              "</div>\n",
              "      <button class=\"colab-df-convert\" onclick=\"convertToInteractive('df-6183a174-39ab-43e4-bb1a-98513a5abfaa')\"\n",
              "              title=\"Convert this dataframe to an interactive table.\"\n",
              "              style=\"display:none;\">\n",
              "        \n",
              "  <svg xmlns=\"http://www.w3.org/2000/svg\" height=\"24px\"viewBox=\"0 0 24 24\"\n",
              "       width=\"24px\">\n",
              "    <path d=\"M0 0h24v24H0V0z\" fill=\"none\"/>\n",
              "    <path d=\"M18.56 5.44l.94 2.06.94-2.06 2.06-.94-2.06-.94-.94-2.06-.94 2.06-2.06.94zm-11 1L8.5 8.5l.94-2.06 2.06-.94-2.06-.94L8.5 2.5l-.94 2.06-2.06.94zm10 10l.94 2.06.94-2.06 2.06-.94-2.06-.94-.94-2.06-.94 2.06-2.06.94z\"/><path d=\"M17.41 7.96l-1.37-1.37c-.4-.4-.92-.59-1.43-.59-.52 0-1.04.2-1.43.59L10.3 9.45l-7.72 7.72c-.78.78-.78 2.05 0 2.83L4 21.41c.39.39.9.59 1.41.59.51 0 1.02-.2 1.41-.59l7.78-7.78 2.81-2.81c.8-.78.8-2.07 0-2.86zM5.41 20L4 18.59l7.72-7.72 1.47 1.35L5.41 20z\"/>\n",
              "  </svg>\n",
              "      </button>\n",
              "      \n",
              "  <style>\n",
              "    .colab-df-container {\n",
              "      display:flex;\n",
              "      flex-wrap:wrap;\n",
              "      gap: 12px;\n",
              "    }\n",
              "\n",
              "    .colab-df-convert {\n",
              "      background-color: #E8F0FE;\n",
              "      border: none;\n",
              "      border-radius: 50%;\n",
              "      cursor: pointer;\n",
              "      display: none;\n",
              "      fill: #1967D2;\n",
              "      height: 32px;\n",
              "      padding: 0 0 0 0;\n",
              "      width: 32px;\n",
              "    }\n",
              "\n",
              "    .colab-df-convert:hover {\n",
              "      background-color: #E2EBFA;\n",
              "      box-shadow: 0px 1px 2px rgba(60, 64, 67, 0.3), 0px 1px 3px 1px rgba(60, 64, 67, 0.15);\n",
              "      fill: #174EA6;\n",
              "    }\n",
              "\n",
              "    [theme=dark] .colab-df-convert {\n",
              "      background-color: #3B4455;\n",
              "      fill: #D2E3FC;\n",
              "    }\n",
              "\n",
              "    [theme=dark] .colab-df-convert:hover {\n",
              "      background-color: #434B5C;\n",
              "      box-shadow: 0px 1px 3px 1px rgba(0, 0, 0, 0.15);\n",
              "      filter: drop-shadow(0px 1px 2px rgba(0, 0, 0, 0.3));\n",
              "      fill: #FFFFFF;\n",
              "    }\n",
              "  </style>\n",
              "\n",
              "      <script>\n",
              "        const buttonEl =\n",
              "          document.querySelector('#df-6183a174-39ab-43e4-bb1a-98513a5abfaa button.colab-df-convert');\n",
              "        buttonEl.style.display =\n",
              "          google.colab.kernel.accessAllowed ? 'block' : 'none';\n",
              "\n",
              "        async function convertToInteractive(key) {\n",
              "          const element = document.querySelector('#df-6183a174-39ab-43e4-bb1a-98513a5abfaa');\n",
              "          const dataTable =\n",
              "            await google.colab.kernel.invokeFunction('convertToInteractive',\n",
              "                                                     [key], {});\n",
              "          if (!dataTable) return;\n",
              "\n",
              "          const docLinkHtml = 'Like what you see? Visit the ' +\n",
              "            '<a target=\"_blank\" href=https://colab.research.google.com/notebooks/data_table.ipynb>data table notebook</a>'\n",
              "            + ' to learn more about interactive tables.';\n",
              "          element.innerHTML = '';\n",
              "          dataTable['output_type'] = 'display_data';\n",
              "          await google.colab.output.renderOutput(dataTable, element);\n",
              "          const docLink = document.createElement('div');\n",
              "          docLink.innerHTML = docLinkHtml;\n",
              "          element.appendChild(docLink);\n",
              "        }\n",
              "      </script>\n",
              "    </div>\n",
              "  </div>\n",
              "  "
            ]
          },
          "metadata": {},
          "execution_count": 22
        }
      ],
      "source": [
        "dados[dados['texto'].str.len()<400].sample(n=5)"
      ]
    },
    {
      "cell_type": "markdown",
      "metadata": {
        "id": "g31RWCqPZCH7"
      },
      "source": [
        "### Exploração e limpeza de dados"
      ]
    },
    {
      "cell_type": "code",
      "execution_count": 23,
      "metadata": {
        "id": "EbTZch_bPtyZ"
      },
      "outputs": [],
      "source": [
        "def limpar_textos(texto):\n",
        "    # Corrige marcadores de nova linha indevidos (textuas e não textuais)\n",
        "    texto = re.sub(r'(\\n|\\r)', ' ', texto)\n",
        "    texto = re.sub('(\\n|\\r)', '', texto)\n",
        "    # Remove urls no texto\n",
        "    texto = re.sub(r'(https|http|ftp)?:\\/\\/(\\w|\\.|-|\\/|\\?|\\=|\\&|\\%)*\\b', '', texto)\n",
        "    # Remove emojis por lib\n",
        "    texto = emoji.replace_emoji(texto, replace='')\n",
        "    # Limpa restante do texto para manter apenas conteúdo útil\n",
        "    texto = re.sub(u'[^a-zA-Z0-9áéíóúÁÉÍÓÚâêîôÂÊÎÔãõÃÕçÇ:\\-,.\" ]', '', texto)\n",
        "    # Remove reticências e pontuação incorreta\n",
        "    texto = texto.replace('...', '').replace(\"..\", \".\").replace(\". .\", \".\")\n",
        "    # Remove multiplos caracteres em branco\n",
        "    texto = re.sub(r'\\s+',' ', texto)\n",
        "    return texto.strip()\n",
        "\n",
        "dados[\"texto_limpo\"] = dados.texto.apply(limpar_textos)"
      ]
    },
    {
      "cell_type": "code",
      "execution_count": 27,
      "metadata": {
        "colab": {
          "base_uri": "https://localhost:8080/",
          "height": 389
        },
        "id": "xBxHYwFx-Vq5",
        "outputId": "e3fd91cb-b4a6-475e-e7dd-5c7ae4cd89a5"
      },
      "outputs": [
        {
          "output_type": "display_data",
          "data": {
            "text/plain": [
              "      classe  \\\n",
              "3886       1   \n",
              "7017       1   \n",
              "7960       0   \n",
              "5509       1   \n",
              "8264       0   \n",
              "\n",
              "                                                                                                                                                                                                                                                          texto  \\\n",
              "3886  Thiago Lacerda solta o verbo: \"Artistas defendem o PT para não perder a \"boquinha\" na Lei Rouanet\".  O ator Thiago Lacerda usou seu twitter e disse tudo aquilo que estava entalado na garganta (dele e de muitos brasileiros).  Thiago já se manifest...   \n",
              "7017  R7: Vídeo completo do Ultimate Fighter Brasília.  A vergonha que está percorrendo o mundo.  Uma briga de tapas entre os deputados Ze Geraldo (PT-PA) e Wellington Roberto (PR-PB).  O presidente do Conselho de Ética,  deputado José Carlos Araujo (P...   \n",
              "7960                                                                                                                  Denise Gomes te convidou para assistir uma transmissão no app Mano!\\n\\nClique para participar: https://mano.ip.tv/s/channel/tvbolsonaro-p   \n",
              "5509  A carta de demissão de Geddel: \"Avolumaram-se as críticas sobre mim. Cheguei no limite da dor\". .  \"Avolumaram-se as críticas sobre mim. Em Salvador,  vejo o sofrimento dos meus familiares. Quem me conhece sabe ser esse o limite da dor que suport...   \n",
              "8264                                                                                Gente doida!!!🤣\\nPerguntaram se eu tinha militar na família p/votar no Bolsonaro,eu disse NÃO!\\nE perguntei: \" Vc tem ladrão na sua p/  votar no PT?\\n...me bloqueou!!!👋🤣🤣🤣   \n",
              "\n",
              "                                                                                                                                                                                                                                                    texto_limpo  \n",
              "3886  Thiago Lacerda solta o verbo: \"Artistas defendem o PT para não perder a \"boquinha\" na Lei Rouanet\". O ator Thiago Lacerda usou seu twitter e disse tudo aquilo que estava entalado na garganta dele e de muitos brasileiros. Thiago já se manifestou o...  \n",
              "7017  R7: Vídeo completo do Ultimate Fighter Brasília. A vergonha que está percorrendo o mundo. Uma briga de tapas entre os deputados Ze Geraldo PT-PA e Wellington Roberto PR-PB. O presidente do Conselho de Ética, deputado José Carlos Araujo PSD-BA , s...  \n",
              "7960                                                                                                                                                                 Denise Gomes te convidou para assistir uma transmissão no app Mano Clique para participar:  \n",
              "5509  A carta de demissão de Geddel: \"Avolumaram-se as críticas sobre mim. Cheguei no limite da dor\". \"Avolumaram-se as críticas sobre mim. Em Salvador, vejo o sofrimento dos meus familiares. Quem me conhece sabe ser esse o limite da dor que suporto. É...  \n",
              "8264                                                                                                      Gente doida Perguntaram se eu tinha militar na família pvotar no Bolsonaro,eu disse NÃO E perguntei: \" Vc tem ladrão na sua p votar no PT me bloqueou  "
            ],
            "text/html": [
              "\n",
              "  <div id=\"df-f94623c1-8b11-40ff-a0b8-2e138f6612d4\">\n",
              "    <div class=\"colab-df-container\">\n",
              "      <div>\n",
              "<style scoped>\n",
              "    .dataframe tbody tr th:only-of-type {\n",
              "        vertical-align: middle;\n",
              "    }\n",
              "\n",
              "    .dataframe tbody tr th {\n",
              "        vertical-align: top;\n",
              "    }\n",
              "\n",
              "    .dataframe thead th {\n",
              "        text-align: right;\n",
              "    }\n",
              "</style>\n",
              "<table border=\"1\" class=\"dataframe\">\n",
              "  <thead>\n",
              "    <tr style=\"text-align: right;\">\n",
              "      <th></th>\n",
              "      <th>classe</th>\n",
              "      <th>texto</th>\n",
              "      <th>texto_limpo</th>\n",
              "    </tr>\n",
              "  </thead>\n",
              "  <tbody>\n",
              "    <tr>\n",
              "      <th>3886</th>\n",
              "      <td>1</td>\n",
              "      <td>Thiago Lacerda solta o verbo: \"Artistas defendem o PT para não perder a \"boquinha\" na Lei Rouanet\".  O ator Thiago Lacerda usou seu twitter e disse tudo aquilo que estava entalado na garganta (dele e de muitos brasileiros).  Thiago já se manifest...</td>\n",
              "      <td>Thiago Lacerda solta o verbo: \"Artistas defendem o PT para não perder a \"boquinha\" na Lei Rouanet\". O ator Thiago Lacerda usou seu twitter e disse tudo aquilo que estava entalado na garganta dele e de muitos brasileiros. Thiago já se manifestou o...</td>\n",
              "    </tr>\n",
              "    <tr>\n",
              "      <th>7017</th>\n",
              "      <td>1</td>\n",
              "      <td>R7: Vídeo completo do Ultimate Fighter Brasília.  A vergonha que está percorrendo o mundo.  Uma briga de tapas entre os deputados Ze Geraldo (PT-PA) e Wellington Roberto (PR-PB).  O presidente do Conselho de Ética,  deputado José Carlos Araujo (P...</td>\n",
              "      <td>R7: Vídeo completo do Ultimate Fighter Brasília. A vergonha que está percorrendo o mundo. Uma briga de tapas entre os deputados Ze Geraldo PT-PA e Wellington Roberto PR-PB. O presidente do Conselho de Ética, deputado José Carlos Araujo PSD-BA , s...</td>\n",
              "    </tr>\n",
              "    <tr>\n",
              "      <th>7960</th>\n",
              "      <td>0</td>\n",
              "      <td>Denise Gomes te convidou para assistir uma transmissão no app Mano!\\n\\nClique para participar: https://mano.ip.tv/s/channel/tvbolsonaro-p</td>\n",
              "      <td>Denise Gomes te convidou para assistir uma transmissão no app Mano Clique para participar:</td>\n",
              "    </tr>\n",
              "    <tr>\n",
              "      <th>5509</th>\n",
              "      <td>1</td>\n",
              "      <td>A carta de demissão de Geddel: \"Avolumaram-se as críticas sobre mim. Cheguei no limite da dor\". .  \"Avolumaram-se as críticas sobre mim. Em Salvador,  vejo o sofrimento dos meus familiares. Quem me conhece sabe ser esse o limite da dor que suport...</td>\n",
              "      <td>A carta de demissão de Geddel: \"Avolumaram-se as críticas sobre mim. Cheguei no limite da dor\". \"Avolumaram-se as críticas sobre mim. Em Salvador, vejo o sofrimento dos meus familiares. Quem me conhece sabe ser esse o limite da dor que suporto. É...</td>\n",
              "    </tr>\n",
              "    <tr>\n",
              "      <th>8264</th>\n",
              "      <td>0</td>\n",
              "      <td>Gente doida!!!🤣\\nPerguntaram se eu tinha militar na família p/votar no Bolsonaro,eu disse NÃO!\\nE perguntei: \" Vc tem ladrão na sua p/  votar no PT?\\n...me bloqueou!!!👋🤣🤣🤣</td>\n",
              "      <td>Gente doida Perguntaram se eu tinha militar na família pvotar no Bolsonaro,eu disse NÃO E perguntei: \" Vc tem ladrão na sua p votar no PT me bloqueou</td>\n",
              "    </tr>\n",
              "  </tbody>\n",
              "</table>\n",
              "</div>\n",
              "      <button class=\"colab-df-convert\" onclick=\"convertToInteractive('df-f94623c1-8b11-40ff-a0b8-2e138f6612d4')\"\n",
              "              title=\"Convert this dataframe to an interactive table.\"\n",
              "              style=\"display:none;\">\n",
              "        \n",
              "  <svg xmlns=\"http://www.w3.org/2000/svg\" height=\"24px\"viewBox=\"0 0 24 24\"\n",
              "       width=\"24px\">\n",
              "    <path d=\"M0 0h24v24H0V0z\" fill=\"none\"/>\n",
              "    <path d=\"M18.56 5.44l.94 2.06.94-2.06 2.06-.94-2.06-.94-.94-2.06-.94 2.06-2.06.94zm-11 1L8.5 8.5l.94-2.06 2.06-.94-2.06-.94L8.5 2.5l-.94 2.06-2.06.94zm10 10l.94 2.06.94-2.06 2.06-.94-2.06-.94-.94-2.06-.94 2.06-2.06.94z\"/><path d=\"M17.41 7.96l-1.37-1.37c-.4-.4-.92-.59-1.43-.59-.52 0-1.04.2-1.43.59L10.3 9.45l-7.72 7.72c-.78.78-.78 2.05 0 2.83L4 21.41c.39.39.9.59 1.41.59.51 0 1.02-.2 1.41-.59l7.78-7.78 2.81-2.81c.8-.78.8-2.07 0-2.86zM5.41 20L4 18.59l7.72-7.72 1.47 1.35L5.41 20z\"/>\n",
              "  </svg>\n",
              "      </button>\n",
              "      \n",
              "  <style>\n",
              "    .colab-df-container {\n",
              "      display:flex;\n",
              "      flex-wrap:wrap;\n",
              "      gap: 12px;\n",
              "    }\n",
              "\n",
              "    .colab-df-convert {\n",
              "      background-color: #E8F0FE;\n",
              "      border: none;\n",
              "      border-radius: 50%;\n",
              "      cursor: pointer;\n",
              "      display: none;\n",
              "      fill: #1967D2;\n",
              "      height: 32px;\n",
              "      padding: 0 0 0 0;\n",
              "      width: 32px;\n",
              "    }\n",
              "\n",
              "    .colab-df-convert:hover {\n",
              "      background-color: #E2EBFA;\n",
              "      box-shadow: 0px 1px 2px rgba(60, 64, 67, 0.3), 0px 1px 3px 1px rgba(60, 64, 67, 0.15);\n",
              "      fill: #174EA6;\n",
              "    }\n",
              "\n",
              "    [theme=dark] .colab-df-convert {\n",
              "      background-color: #3B4455;\n",
              "      fill: #D2E3FC;\n",
              "    }\n",
              "\n",
              "    [theme=dark] .colab-df-convert:hover {\n",
              "      background-color: #434B5C;\n",
              "      box-shadow: 0px 1px 3px 1px rgba(0, 0, 0, 0.15);\n",
              "      filter: drop-shadow(0px 1px 2px rgba(0, 0, 0, 0.3));\n",
              "      fill: #FFFFFF;\n",
              "    }\n",
              "  </style>\n",
              "\n",
              "      <script>\n",
              "        const buttonEl =\n",
              "          document.querySelector('#df-f94623c1-8b11-40ff-a0b8-2e138f6612d4 button.colab-df-convert');\n",
              "        buttonEl.style.display =\n",
              "          google.colab.kernel.accessAllowed ? 'block' : 'none';\n",
              "\n",
              "        async function convertToInteractive(key) {\n",
              "          const element = document.querySelector('#df-f94623c1-8b11-40ff-a0b8-2e138f6612d4');\n",
              "          const dataTable =\n",
              "            await google.colab.kernel.invokeFunction('convertToInteractive',\n",
              "                                                     [key], {});\n",
              "          if (!dataTable) return;\n",
              "\n",
              "          const docLinkHtml = 'Like what you see? Visit the ' +\n",
              "            '<a target=\"_blank\" href=https://colab.research.google.com/notebooks/data_table.ipynb>data table notebook</a>'\n",
              "            + ' to learn more about interactive tables.';\n",
              "          element.innerHTML = '';\n",
              "          dataTable['output_type'] = 'display_data';\n",
              "          await google.colab.output.renderOutput(dataTable, element);\n",
              "          const docLink = document.createElement('div');\n",
              "          docLink.innerHTML = docLinkHtml;\n",
              "          element.appendChild(docLink);\n",
              "        }\n",
              "      </script>\n",
              "    </div>\n",
              "  </div>\n",
              "  "
            ]
          },
          "metadata": {}
        }
      ],
      "source": [
        "pd.set_option(\"display.max_rows\", 50, 'display.max_colwidth', 250)\n",
        "display(dados[dados['texto'].str.len()<500].sample(n=5)[['classe', 'texto', 'texto_limpo']])"
      ]
    },
    {
      "cell_type": "markdown",
      "source": [
        "### No projeto que serviu de inspiração o texto mínimo era de 100 palavras, vamos tentar uma redução para 30 palavras, pois já é suficiente para o BERTimbau diferenciar contexto.\n",
        "No método preditor será avisado que o resultado não é confiável"
      ],
      "metadata": {
        "id": "1mT-m_VElOEU"
      }
    },
    {
      "cell_type": "code",
      "source": [
        "dados[\"qtde_palavras\"] = dados.texto_limpo.apply(\n",
        "    lambda texto: len(re.findall(r\"[\\w']+\", texto)))\n",
        "antes = dados.shape[0]\n",
        "dados = dados[dados[\"qtde_palavras\"] >= 30].copy()\n",
        "display(f\"Qtde linhas antes: {antes}, depois: {dados.shape[0]}, removido: {antes-dados.shape[0]}\")"
      ],
      "metadata": {
        "id": "awF8Fm0KoBY_",
        "outputId": "225f3e01-1e08-48f4-f14d-3c8011ba0345",
        "colab": {
          "base_uri": "https://localhost:8080/",
          "height": 35
        }
      },
      "execution_count": 28,
      "outputs": [
        {
          "output_type": "display_data",
          "data": {
            "text/plain": [
              "'Qtde linhas antes: 9537, depois: 8856, removido: 681'"
            ],
            "application/vnd.google.colaboratory.intrinsic+json": {
              "type": "string"
            }
          },
          "metadata": {}
        }
      ]
    },
    {
      "cell_type": "code",
      "source": [
        "display(f\"Maximo de palavras: {dados['qtde_palavras'].max()}\", f\"Mínimo de palavras: {dados['qtde_palavras'].min()}\")\n",
        "display(dados.nsmallest(n=5, columns=['qtde_palavras'])[['texto_limpo', 'qtde_palavras']])"
      ],
      "metadata": {
        "id": "cFyNEwqu0U9B",
        "outputId": "2a685a06-24a6-466f-ef8d-21d9cfa8e913",
        "colab": {
          "base_uri": "https://localhost:8080/",
          "height": 305
        }
      },
      "execution_count": 29,
      "outputs": [
        {
          "output_type": "display_data",
          "data": {
            "text/plain": [
              "'Maximo de palavras: 7572'"
            ],
            "application/vnd.google.colaboratory.intrinsic+json": {
              "type": "string"
            }
          },
          "metadata": {}
        },
        {
          "output_type": "display_data",
          "data": {
            "text/plain": [
              "'Mínimo de palavras: 30'"
            ],
            "application/vnd.google.colaboratory.intrinsic+json": {
              "type": "string"
            }
          },
          "metadata": {}
        },
        {
          "output_type": "display_data",
          "data": {
            "text/plain": [
              "                                                                                                                                                                                                         texto_limpo  \\\n",
              "4536                                                   Lindbergh Farias parte pra cima de senador de 81 anos e quase apanha no senado vídeo. Era pra ser um simples sessão de ética . isso mesmo que você leu ÉTICA.   \n",
              "4749               Site hospedado na Hungria vaza telefone fixo, endereço, celular e até email de brasileiros. O site informa endereço, telefones incluindo celulares e, em alguns casos, até e-mail de brasileiros.   \n",
              "4937  Trava-línguas da Odebrecht: Delator diz que \"Salsicha\" repassou dinheiro para \"Chuchu\" em \"Caixa2\". Geraldo Alckmin, que é conhecido pela alcunha de \"Picolé de Chuchu\", recebeu agrado através do \"Salsicha\".   \n",
              "5255                    Presidente do STF autoriza a retomada das delações da Odebrecht. A ministra Cármen Lúcia, presidente do STF, autorizou a retomada das delações da Odebrecht no âmbito da Operação Lava Jato.   \n",
              "7161                                  O caráter de um homem em 3 atos vídeo. Quais são as características básicas para se tornar um presidente da república. Assista o vídeo abaixo e tire suas próprias conclusões:   \n",
              "\n",
              "      qtde_palavras  \n",
              "4536             30  \n",
              "4749             30  \n",
              "4937             30  \n",
              "5255             30  \n",
              "7161             30  "
            ],
            "text/html": [
              "\n",
              "  <div id=\"df-7c88bb9d-49b5-4986-a340-d9e0acdb8f97\">\n",
              "    <div class=\"colab-df-container\">\n",
              "      <div>\n",
              "<style scoped>\n",
              "    .dataframe tbody tr th:only-of-type {\n",
              "        vertical-align: middle;\n",
              "    }\n",
              "\n",
              "    .dataframe tbody tr th {\n",
              "        vertical-align: top;\n",
              "    }\n",
              "\n",
              "    .dataframe thead th {\n",
              "        text-align: right;\n",
              "    }\n",
              "</style>\n",
              "<table border=\"1\" class=\"dataframe\">\n",
              "  <thead>\n",
              "    <tr style=\"text-align: right;\">\n",
              "      <th></th>\n",
              "      <th>texto_limpo</th>\n",
              "      <th>qtde_palavras</th>\n",
              "    </tr>\n",
              "  </thead>\n",
              "  <tbody>\n",
              "    <tr>\n",
              "      <th>4536</th>\n",
              "      <td>Lindbergh Farias parte pra cima de senador de 81 anos e quase apanha no senado vídeo. Era pra ser um simples sessão de ética . isso mesmo que você leu ÉTICA.</td>\n",
              "      <td>30</td>\n",
              "    </tr>\n",
              "    <tr>\n",
              "      <th>4749</th>\n",
              "      <td>Site hospedado na Hungria vaza telefone fixo, endereço, celular e até email de brasileiros. O site informa endereço, telefones incluindo celulares e, em alguns casos, até e-mail de brasileiros.</td>\n",
              "      <td>30</td>\n",
              "    </tr>\n",
              "    <tr>\n",
              "      <th>4937</th>\n",
              "      <td>Trava-línguas da Odebrecht: Delator diz que \"Salsicha\" repassou dinheiro para \"Chuchu\" em \"Caixa2\". Geraldo Alckmin, que é conhecido pela alcunha de \"Picolé de Chuchu\", recebeu agrado através do \"Salsicha\".</td>\n",
              "      <td>30</td>\n",
              "    </tr>\n",
              "    <tr>\n",
              "      <th>5255</th>\n",
              "      <td>Presidente do STF autoriza a retomada das delações da Odebrecht. A ministra Cármen Lúcia, presidente do STF, autorizou a retomada das delações da Odebrecht no âmbito da Operação Lava Jato.</td>\n",
              "      <td>30</td>\n",
              "    </tr>\n",
              "    <tr>\n",
              "      <th>7161</th>\n",
              "      <td>O caráter de um homem em 3 atos vídeo. Quais são as características básicas para se tornar um presidente da república. Assista o vídeo abaixo e tire suas próprias conclusões:</td>\n",
              "      <td>30</td>\n",
              "    </tr>\n",
              "  </tbody>\n",
              "</table>\n",
              "</div>\n",
              "      <button class=\"colab-df-convert\" onclick=\"convertToInteractive('df-7c88bb9d-49b5-4986-a340-d9e0acdb8f97')\"\n",
              "              title=\"Convert this dataframe to an interactive table.\"\n",
              "              style=\"display:none;\">\n",
              "        \n",
              "  <svg xmlns=\"http://www.w3.org/2000/svg\" height=\"24px\"viewBox=\"0 0 24 24\"\n",
              "       width=\"24px\">\n",
              "    <path d=\"M0 0h24v24H0V0z\" fill=\"none\"/>\n",
              "    <path d=\"M18.56 5.44l.94 2.06.94-2.06 2.06-.94-2.06-.94-.94-2.06-.94 2.06-2.06.94zm-11 1L8.5 8.5l.94-2.06 2.06-.94-2.06-.94L8.5 2.5l-.94 2.06-2.06.94zm10 10l.94 2.06.94-2.06 2.06-.94-2.06-.94-.94-2.06-.94 2.06-2.06.94z\"/><path d=\"M17.41 7.96l-1.37-1.37c-.4-.4-.92-.59-1.43-.59-.52 0-1.04.2-1.43.59L10.3 9.45l-7.72 7.72c-.78.78-.78 2.05 0 2.83L4 21.41c.39.39.9.59 1.41.59.51 0 1.02-.2 1.41-.59l7.78-7.78 2.81-2.81c.8-.78.8-2.07 0-2.86zM5.41 20L4 18.59l7.72-7.72 1.47 1.35L5.41 20z\"/>\n",
              "  </svg>\n",
              "      </button>\n",
              "      \n",
              "  <style>\n",
              "    .colab-df-container {\n",
              "      display:flex;\n",
              "      flex-wrap:wrap;\n",
              "      gap: 12px;\n",
              "    }\n",
              "\n",
              "    .colab-df-convert {\n",
              "      background-color: #E8F0FE;\n",
              "      border: none;\n",
              "      border-radius: 50%;\n",
              "      cursor: pointer;\n",
              "      display: none;\n",
              "      fill: #1967D2;\n",
              "      height: 32px;\n",
              "      padding: 0 0 0 0;\n",
              "      width: 32px;\n",
              "    }\n",
              "\n",
              "    .colab-df-convert:hover {\n",
              "      background-color: #E2EBFA;\n",
              "      box-shadow: 0px 1px 2px rgba(60, 64, 67, 0.3), 0px 1px 3px 1px rgba(60, 64, 67, 0.15);\n",
              "      fill: #174EA6;\n",
              "    }\n",
              "\n",
              "    [theme=dark] .colab-df-convert {\n",
              "      background-color: #3B4455;\n",
              "      fill: #D2E3FC;\n",
              "    }\n",
              "\n",
              "    [theme=dark] .colab-df-convert:hover {\n",
              "      background-color: #434B5C;\n",
              "      box-shadow: 0px 1px 3px 1px rgba(0, 0, 0, 0.15);\n",
              "      filter: drop-shadow(0px 1px 2px rgba(0, 0, 0, 0.3));\n",
              "      fill: #FFFFFF;\n",
              "    }\n",
              "  </style>\n",
              "\n",
              "      <script>\n",
              "        const buttonEl =\n",
              "          document.querySelector('#df-7c88bb9d-49b5-4986-a340-d9e0acdb8f97 button.colab-df-convert');\n",
              "        buttonEl.style.display =\n",
              "          google.colab.kernel.accessAllowed ? 'block' : 'none';\n",
              "\n",
              "        async function convertToInteractive(key) {\n",
              "          const element = document.querySelector('#df-7c88bb9d-49b5-4986-a340-d9e0acdb8f97');\n",
              "          const dataTable =\n",
              "            await google.colab.kernel.invokeFunction('convertToInteractive',\n",
              "                                                     [key], {});\n",
              "          if (!dataTable) return;\n",
              "\n",
              "          const docLinkHtml = 'Like what you see? Visit the ' +\n",
              "            '<a target=\"_blank\" href=https://colab.research.google.com/notebooks/data_table.ipynb>data table notebook</a>'\n",
              "            + ' to learn more about interactive tables.';\n",
              "          element.innerHTML = '';\n",
              "          dataTable['output_type'] = 'display_data';\n",
              "          await google.colab.output.renderOutput(dataTable, element);\n",
              "          const docLink = document.createElement('div');\n",
              "          docLink.innerHTML = docLinkHtml;\n",
              "          element.appendChild(docLink);\n",
              "        }\n",
              "      </script>\n",
              "    </div>\n",
              "  </div>\n",
              "  "
            ]
          },
          "metadata": {}
        }
      ]
    },
    {
      "cell_type": "markdown",
      "source": [
        "### O modelo BERTimbau escolhido é sensível ao CASE, precisa ser tratado \n",
        "No método preditor será avisado que o resultado não é confiável"
      ],
      "metadata": {
        "id": "FOoyTb-6bqnc"
      }
    },
    {
      "cell_type": "code",
      "source": [
        "dados['qtde_maiusculas'] = dados.texto_limpo.apply(\n",
        "    lambda texto: len(re.findall(\"[A-Z]+[A-Z]+[A-Z]*[\\s]+\", texto)))\n",
        "antes = dados.shape[0]\n",
        "# Remove linhas com mais de 10% de palavras em maiúsculo\n",
        "dados = dados[(dados['qtde_maiusculas'] / dados[\"qtde_palavras\"])<0.1][\n",
        "          ['classe', 'texto', 'texto_limpo', 'qtde_palavras']]\n",
        "display(f\"Qtde linhas antes: {antes}, depois: {dados.shape[0]}, removido: {antes-dados.shape[0]}\")"
      ],
      "metadata": {
        "id": "6P9MYoAmkxSD",
        "outputId": "08c14940-2780-48fa-80e2-ee3ca964317c",
        "colab": {
          "base_uri": "https://localhost:8080/",
          "height": 35
        }
      },
      "execution_count": 30,
      "outputs": [
        {
          "output_type": "display_data",
          "data": {
            "text/plain": [
              "'Qtde linhas antes: 8856, depois: 8602, removido: 254'"
            ],
            "application/vnd.google.colaboratory.intrinsic+json": {
              "type": "string"
            }
          },
          "metadata": {}
        }
      ]
    },
    {
      "cell_type": "markdown",
      "source": [
        "### Remover duplicatas (deveria estar marcado como viral na origem)"
      ],
      "metadata": {
        "id": "y1PRHW-cFk5a"
      }
    },
    {
      "cell_type": "code",
      "source": [
        "# Primeiramente remove duplicatas absolutas do texto\n",
        "antes = dados.shape[0]\n",
        "dados = dados.drop_duplicates(subset=['texto_limpo'])\n",
        "display(f\"Qtde linhas antes: {antes}, depois: {dados.shape[0]}, removido: {antes-dados.shape[0]}\")"
      ],
      "metadata": {
        "id": "ISQh4kz87xIs",
        "outputId": "46e9e6a4-9dfc-43c9-a6d5-612c17ae9781",
        "colab": {
          "base_uri": "https://localhost:8080/",
          "height": 35
        }
      },
      "execution_count": 31,
      "outputs": [
        {
          "output_type": "display_data",
          "data": {
            "text/plain": [
              "'Qtde linhas antes: 8602, depois: 8525, removido: 77'"
            ],
            "application/vnd.google.colaboratory.intrinsic+json": {
              "type": "string"
            }
          },
          "metadata": {}
        }
      ]
    },
    {
      "cell_type": "markdown",
      "source": [
        "### Remover linhas com mais de 50% das palavras iguais, quando menos de 100 palavras."
      ],
      "metadata": {
        "id": "2ZwE-74strY-"
      }
    },
    {
      "cell_type": "code",
      "source": [
        "dados_menos_100_palavras = dados[dados[\"qtde_palavras\"]<100]\n",
        "\n",
        "# Calcula quantidade de palavras duplicadas\n",
        "def confere_duplicidade(coluna_busca):\n",
        "  conjunto_palavras = set(re.findall(r\"[\\w']+\", coluna_busca))\n",
        "  dados_sem_busca = dados_menos_100_palavras.drop(dados.index[dados['texto_limpo'] == coluna_busca])\n",
        "  dados_sem_busca['duplicado_corrente'] = dados_sem_busca.texto_limpo.apply(lambda texto: len(conjunto_palavras.intersection(set(re.findall(r\"[\\w']+\", texto)))))\n",
        "  return int(dados_sem_busca['duplicado_corrente'].max())\n",
        "\n",
        "dados['qtde_palavras_duplicadas'] = dados[dados[\"qtde_palavras\"]<100].texto_limpo.apply(confere_duplicidade)"
      ],
      "metadata": {
        "id": "pspaI7JPPgib"
      },
      "execution_count": 32,
      "outputs": []
    },
    {
      "cell_type": "code",
      "source": [
        "antes = dados.shape[0]\n",
        "dados = dados[((dados['qtde_palavras_duplicadas'] / dados[\"qtde_palavras\"])<0.5) | (dados['qtde_palavras_duplicadas'].isnull())].copy()\n",
        "dados.drop('qtde_palavras_duplicadas', axis=1, inplace=True)\n",
        "display(f\"Qtde linhas antes: {antes}, depois: {dados.shape[0]}, removido: {antes-dados.shape[0]}\")"
      ],
      "metadata": {
        "id": "GIbAVq7qRaTG",
        "outputId": "343e5d05-5ae5-42f8-cc9b-13a31ce5659f",
        "colab": {
          "base_uri": "https://localhost:8080/",
          "height": 35
        }
      },
      "execution_count": 33,
      "outputs": [
        {
          "output_type": "display_data",
          "data": {
            "text/plain": [
              "'Qtde linhas antes: 8525, depois: 8066, removido: 459'"
            ],
            "application/vnd.google.colaboratory.intrinsic+json": {
              "type": "string"
            }
          },
          "metadata": {}
        }
      ]
    },
    {
      "cell_type": "markdown",
      "metadata": {
        "id": "ozuvdAu5WAZX"
      },
      "source": [
        "### Pré-processamento com Spacy\n",
        "Lemmatizer (o resultado é a raiz da palavra que existe na gramática, mantendo o contexto)   \n",
        "Stemming (palavra resultante pode não existir, apenas reduz a dimencionalidade) \n"
      ]
    },
    {
      "cell_type": "code",
      "execution_count": 34,
      "metadata": {
        "id": "9qxGGkt4Ptya"
      },
      "outputs": [],
      "source": [
        "nlp = pt_core_news_sm.load()\n",
        "# Remover stopwords e lematizar setenças, a pontuação foi mantida token.is_punct (pontuação)\n",
        "dados[\"texto_processado\"] = dados.texto_limpo.apply(\n",
        "    lambda texto: \" \".join([token.lemma_ for token in nlp(texto) if not token.is_stop]))\n",
        "# Atualiza quantidade de palavras para texto processado, texto limpo não será mais usado\n",
        "dados[\"qtde_palavras\"] = dados.texto_processado.apply(lambda texto: len(re.findall(r\"[\\w']+\", texto)))"
      ]
    },
    {
      "cell_type": "code",
      "execution_count": 35,
      "metadata": {
        "colab": {
          "base_uri": "https://localhost:8080/",
          "height": 535
        },
        "id": "Pi5kdSxGwwdJ",
        "outputId": "d6b1822b-3d0a-4d7b-8d57-736c19547cb0"
      },
      "outputs": [
        {
          "output_type": "execute_result",
          "data": {
            "text/plain": [
              "Text(0, 0.5, 'quantidade')"
            ]
          },
          "metadata": {},
          "execution_count": 35
        },
        {
          "output_type": "display_data",
          "data": {
            "text/plain": [
              "<Figure size 1440x576 with 2 Axes>"
            ],
            "image/png": "[encoded data removed]"
          },
          "metadata": {
            "needs_background": "light"
          }
        }
      ],
      "source": [
        "dfplot = dados.pivot(columns='classe').qtde_palavras\n",
        "dfplot.columns = ['0 - Confiável', '1 - Falso']\n",
        "fig, axes = plt.subplots(nrows=1, ncols=2, figsize=(20, 8))\n",
        "axes1 = dfplot.plot(\n",
        "    ax=axes[0], kind='hist', stacked=True, bins=list(range(0, 1500, 100)), \n",
        "    title=\"Distribuição de palavras conforme a classe\")\n",
        "axes2 = sns.countplot(x=\"classe\", data=dados)\n",
        "axes2.set_xticklabels([\"0 = Confiável\", \"1 = Falso\"], fontsize=12)\n",
        "axes2.set_title('Distribuição de classes', fontsize=14)\n",
        "axes2.set_ylabel('quantidade')"
      ]
    },
    {
      "cell_type": "code",
      "execution_count": 36,
      "metadata": {
        "id": "YCO1XnsHPtyd"
      },
      "outputs": [],
      "source": [
        "# Salva dados para uso no notebook do próximo passo.\n",
        "dados.to_csv('/content/drive/MyDrive/PUC/TCC/dados/dataset_tratado.csv', sep = ',')"
      ]
    }
  ],
  "metadata": {
    "colab": {
      "collapsed_sections": [],
      "machine_shape": "hm",
      "name": "ultimo_mesmo_fake_news_bertimbau.ipynb",
      "provenance": [],
      "include_colab_link": true
    },
    "interpreter": {
      "hash": "50691a0bc379e9e647c9463feff34781ae883c7b810726d51a7ed60c4a02b637"
    },
    "kernelspec": {
      "display_name": "Python 3.8.13 ('tcc')",
      "language": "python",
      "name": "python3"
    },
    "language_info": {
      "codemirror_mode": {
        "name": "ipython",
        "version": 3
      },
      "file_extension": ".py",
      "mimetype": "text/x-python",
      "name": "python",
      "nbconvert_exporter": "python",
      "pygments_lexer": "ipython3",
      "version": "3.8.13"
    },
    "accelerator": "GPU",
    "gpuClass": "standard"
  },
  "nbformat": 4,
  "nbformat_minor": 0
}