{
  "cells": [
    {
      "cell_type": "markdown",
      "metadata": {
        "id": "view-in-github",
        "colab_type": "text"
      },
      "source": [
        "<a href=\"https://colab.research.google.com/github/caesarcc/pucminas-tcc-fake-news-detection/blob/main/passo05_teste_do_modelo_treinado.ipynb\" target=\"_parent\"><img src=\"https://colab.research.google.com/assets/colab-badge.svg\" alt=\"Open In Colab\"/></a>"
      ]
    },
    {
      "cell_type": "markdown",
      "metadata": {
        "id": "k04XI2wn9ps9"
      },
      "source": [
        "## Treino e Avaliação do Modelo BERTimbau\n",
        "\n",
        "### Iniciando pela configuração do Google Colab"
      ]
    },
    {
      "cell_type": "code",
      "execution_count": 1,
      "metadata": {
        "colab": {
          "base_uri": "https://localhost:8080/"
        },
        "id": "GLWPP5tE97EJ",
        "outputId": "6967e077-45a2-4fd2-f59e-284bc50c6931"
      },
      "outputs": [
        {
          "output_type": "stream",
          "name": "stdout",
          "text": [
            "\u001b[K     |████████████████████████████████| 4.4 MB 4.1 MB/s \n",
            "\u001b[K     |████████████████████████████████| 596 kB 84.5 MB/s \n",
            "\u001b[K     |████████████████████████████████| 6.6 MB 82.6 MB/s \n",
            "\u001b[K     |████████████████████████████████| 101 kB 10.2 MB/s \n",
            "\u001b[?25h"
          ]
        }
      ],
      "source": [
        "!pip install -q transformers"
      ]
    },
    {
      "cell_type": "code",
      "execution_count": 2,
      "metadata": {
        "colab": {
          "base_uri": "https://localhost:8080/"
        },
        "id": "3EZomSUMMKAf",
        "outputId": "f4b120f5-56f6-41b0-d855-cee939da820e"
      },
      "outputs": [
        {
          "output_type": "stream",
          "name": "stdout",
          "text": [
            "Mounted at /content/drive\n"
          ]
        }
      ],
      "source": [
        "from google.colab import drive\n",
        "drive.mount('/content/drive')"
      ]
    },
    {
      "cell_type": "code",
      "execution_count": 3,
      "metadata": {
        "cellView": "form",
        "id": "CPzAh59THwj1"
      },
      "outputs": [],
      "source": [
        "# Importação de bibliotecas utilizadas no treino e avaliação\n",
        "import datetime\n",
        "import os\n",
        "import random\n",
        "import time\n",
        "import numpy as np\n",
        "import pandas as pd\n",
        "from tqdm.auto import tqdm\n",
        "import matplotlib.pyplot as plt\n",
        "import seaborn as sns\n",
        "import torch\n",
        "from IPython.display import display\n",
        "from sklearn.metrics import (accuracy_score, auc, classification_report, f1_score,\n",
        "                             confusion_matrix, ConfusionMatrixDisplay, roc_curve,\n",
        "                             mean_squared_error)\n",
        "from torch.utils.data import (DataLoader, TensorDataset)\n",
        "from transformers import (AutoModelForSequenceClassification, AutoTokenizer)\n",
        "from transformers.file_utils import is_torch_available"
      ]
    },
    {
      "cell_type": "code",
      "source": [
        "#Configurações de ambiente\n",
        "%matplotlib inline\n",
        "# limites de impressão para o pandas\n",
        "pd.set_option(\"display.max_rows\", 50, 'display.max_colwidth', 250)\n",
        "# configura tema dos gráficos\n",
        "sns.set_theme(style=\"white\")\n",
        "#configura a barra de progressos para usar no apply\n",
        "tqdm.pandas()\n",
        "\n",
        "def format_time(elapsed):\n",
        "    elapsed_rounded = int(round((elapsed)))\n",
        "    return str(datetime.timedelta(seconds=elapsed_rounded))"
      ],
      "metadata": {
        "id": "YQIBNchuK-_V"
      },
      "execution_count": 4,
      "outputs": []
    },
    {
      "cell_type": "markdown",
      "metadata": {
        "id": "nYVq1HCgX5zB"
      },
      "source": [
        "### Carrega dados pré-processados"
      ]
    },
    {
      "cell_type": "code",
      "execution_count": 5,
      "metadata": {
        "colab": {
          "base_uri": "https://localhost:8080/"
        },
        "id": "GLNk1WPwXznk",
        "outputId": "7444ba8e-8761-4b95-dc7b-6174d1ec91e4"
      },
      "outputs": [
        {
          "output_type": "stream",
          "name": "stdout",
          "text": [
            "<class 'pandas.core.frame.DataFrame'>\n",
            "RangeIndex: 6703 entries, 0 to 6702\n",
            "Data columns (total 6 columns):\n",
            " #   Column            Non-Null Count  Dtype \n",
            "---  ------            --------------  ----- \n",
            " 0   texto             6703 non-null   object\n",
            " 1   classe            6703 non-null   int64 \n",
            " 2   texto_limpo       6703 non-null   object\n",
            " 3   qtde_limpo        6703 non-null   int64 \n",
            " 4   texto_lematizado  6703 non-null   object\n",
            " 5   qtde_lematizado   6703 non-null   int64 \n",
            "dtypes: int64(3), object(3)\n",
            "memory usage: 314.3+ KB\n"
          ]
        }
      ],
      "source": [
        "dados = pd.read_csv(r'/content/drive/MyDrive/PUC/TCC/dados/dataset_processado.csv', sep = ',')\n",
        "dados.info()"
      ]
    },
    {
      "cell_type": "markdown",
      "metadata": {
        "id": "kwgNPYpg9ptK"
      },
      "source": [
        "### Geração de seed  \n",
        "Rotina para garantir a reprodução dos resultados mesmo que o ambiente for reiniciado.  \n",
        "Semente aplicada às libs random, numpy e torch."
      ]
    },
    {
      "cell_type": "code",
      "execution_count": 6,
      "metadata": {
        "id": "TwFrnP8c9ptL"
      },
      "outputs": [],
      "source": [
        "RANDOM_SEED = 42\n",
        "def garantir_reprodutividade(seed: int):\n",
        "    random.seed(seed)\n",
        "    np.random.seed(seed)\n",
        "    if is_torch_available():\n",
        "        torch.manual_seed(seed)\n",
        "        if torch.cuda.is_available():\n",
        "            torch.cuda.manual_seed_all(seed)\n",
        "            return \"cuda\"\n",
        "    return \"cpu\"\n",
        "\n",
        "device = garantir_reprodutividade(RANDOM_SEED)"
      ]
    },
    {
      "cell_type": "markdown",
      "metadata": {
        "id": "tlDLC7k59ptM"
      },
      "source": [
        "### Carregando o modelo pré-treinado BERTimbau"
      ]
    },
    {
      "cell_type": "code",
      "execution_count": null,
      "metadata": {
        "colab": {
          "base_uri": "https://localhost:8080/",
          "height": 320,
          "referenced_widgets": [
            "2f4f19bd2639477e87dbeada4481ae25",
            "71c510f8b50443aca8f12d14729215a3",
            "3306b1d0895a47e1a1fc66b933413aa7",
            "429d433e78864ebaa6e090589b737f84",
            "2aeaa0d6c55449c497f6c0cf1c4cfdb1",
            "979e93eb437b4b018a65d02c1a5f6706",
            "cad42714c47c4627b558478b3a439bb8",
            "c0a2e88f07694feb9a5db0ce13082aa6",
            "00d0af616dd049e5b4ecb4ea9d82cb52",
            "cb4926033e0341c88b2c12b31e549ae1",
            "d9f28443768941629e29828b3389148c",
            "0d3e258a15b14669837abc021cdc8c61",
            "239868694e364523b9ec10ad4f6e85f8",
            "9f472d95585a4968bc9cef2694492fde",
            "7e857350e44045d08308cb75dfa6000b",
            "35df674634864f80a97b78867a8c10ba",
            "e0ed4ac91a8a4ab0b3b43a7c2ae8d8c7",
            "2ac95af44b0d4587aecd7f5a4dbd86b2",
            "b65cc05858e84c818108c0e4f12c7897",
            "366c4e44c520451a9e247fe7ddf8dbbf",
            "3af7ec37e7b64cf292e27b6720f85ed3",
            "df2ce757e0344e9ea6c53ba2b40c3f56",
            "97c5cf9f825b4ac0a89d454f4482fc18",
            "1d366564ce9648d9adf7bd1450f94477",
            "c6726b9a4216429da4969dc7598f2de6",
            "31f4d3166e504b40bb0dfe4c4b925d16",
            "395455771b5a407488b34985f3a225c0",
            "495e1ad49e4e41acbeeb27a7f6ef84df",
            "862eb4aa00d14aa396235c3e6e8e4b8d",
            "303b93e732c04417b54c034837f61f17",
            "a5c5f5da7bf44072ad89ccc872cfd3ca",
            "5cb414f81752463a881a69c1a579ad2f",
            "29b581742fcc42b4bbafc71273d6336e",
            "8f55a15b70fb44788f9f8018b1539339",
            "57305ddfa3984941b241454223327da7",
            "df4865e629f1413ba22ccf2192694fd7",
            "afb3b7e7a79042d5b66dc817b3169e86",
            "299b84022f244439a13a01929320878d",
            "aaad25609be94cd3aa1242f277e2fbf9",
            "c7f99d7feb0749bfa46744faa9cdef94",
            "12abee2b044e42e69953108846e835a2",
            "c948f6129958473eba05ee0ce096ec1e",
            "4e33cad77582481f988f3a352b7921bc",
            "ae561dbcd4db43a686f0edef5db2112a",
            "e7c0e5d42a64469c8170488a597b675f",
            "ed60c63cc30f4072a1b87f24894fc648",
            "375fc399f8d34ff8b099482392001583",
            "6e5c5c39d95b44578bdbbdd192b99e30",
            "199a40fc91824e6dac90c33429e23bce",
            "073fb69369ae494fb3543c916f357edf",
            "94712be4762f4312bd051f003d272a95",
            "e962c5063d454452aee8d83b050e2311",
            "4053253d2b6a483e83ec784eb6e4981f",
            "d0ef727bdf2841fdb24277993291c97d",
            "92507aae77d14368b23d0f5dfa9b104e",
            "1e5fef1b648545f6af528322815723a4",
            "862ffe693ea647aebeddca941be9fe5d",
            "023565512f4648d39cd07600b2cae51f",
            "9eed0178b66544009b2400c68c83cd4e",
            "0182a0ecd73441a89250a759572ac39c",
            "2ec0afd693e74b9ea85ead99dd8d88dd",
            "023620a0a21244f7a508a7bce77fe3d5",
            "8af08cf406be4477af0a3411521ab83a",
            "e6dee638667c4d278fca3abdca6d898e",
            "076427369d504de386c34392dcb813bc",
            "2543839346d5435b8a6b961668bcf8a1"
          ]
        },
        "id": "VQkF_nDy9ptM",
        "outputId": "493fde68-166a-4555-ff3a-c19c38b69c48"
      },
      "outputs": [
        {
          "output_type": "display_data",
          "data": {
            "text/plain": [
              "Downloading:   0%|          | 0.00/155 [00:00<?, ?B/s]"
            ],
            "application/vnd.jupyter.widget-view+json": {
              "version_major": 2,
              "version_minor": 0,
              "model_id": "2f4f19bd2639477e87dbeada4481ae25"
            }
          },
          "metadata": {}
        },
        {
          "output_type": "display_data",
          "data": {
            "text/plain": [
              "Downloading:   0%|          | 0.00/648 [00:00<?, ?B/s]"
            ],
            "application/vnd.jupyter.widget-view+json": {
              "version_major": 2,
              "version_minor": 0,
              "model_id": "0d3e258a15b14669837abc021cdc8c61"
            }
          },
          "metadata": {}
        },
        {
          "output_type": "display_data",
          "data": {
            "text/plain": [
              "Downloading:   0%|          | 0.00/205k [00:00<?, ?B/s]"
            ],
            "application/vnd.jupyter.widget-view+json": {
              "version_major": 2,
              "version_minor": 0,
              "model_id": "97c5cf9f825b4ac0a89d454f4482fc18"
            }
          },
          "metadata": {}
        },
        {
          "output_type": "display_data",
          "data": {
            "text/plain": [
              "Downloading:   0%|          | 0.00/2.00 [00:00<?, ?B/s]"
            ],
            "application/vnd.jupyter.widget-view+json": {
              "version_major": 2,
              "version_minor": 0,
              "model_id": "8f55a15b70fb44788f9f8018b1539339"
            }
          },
          "metadata": {}
        },
        {
          "output_type": "display_data",
          "data": {
            "text/plain": [
              "Downloading:   0%|          | 0.00/112 [00:00<?, ?B/s]"
            ],
            "application/vnd.jupyter.widget-view+json": {
              "version_major": 2,
              "version_minor": 0,
              "model_id": "e7c0e5d42a64469c8170488a597b675f"
            }
          },
          "metadata": {}
        },
        {
          "output_type": "display_data",
          "data": {
            "text/plain": [
              "Downloading:   0%|          | 0.00/1.25G [00:00<?, ?B/s]"
            ],
            "application/vnd.jupyter.widget-view+json": {
              "version_major": 2,
              "version_minor": 0,
              "model_id": "1e5fef1b648545f6af528322815723a4"
            }
          },
          "metadata": {}
        },
        {
          "output_type": "stream",
          "name": "stderr",
          "text": [
            "Some weights of the model checkpoint at neuralmind/bert-large-portuguese-cased were not used when initializing BertForSequenceClassification: ['cls.predictions.transform.dense.bias', 'cls.predictions.transform.LayerNorm.weight', 'cls.predictions.decoder.weight', 'cls.seq_relationship.weight', 'cls.predictions.transform.dense.weight', 'cls.predictions.transform.LayerNorm.bias', 'cls.predictions.bias', 'cls.seq_relationship.bias']\n",
            "- This IS expected if you are initializing BertForSequenceClassification from the checkpoint of a model trained on another task or with another architecture (e.g. initializing a BertForSequenceClassification model from a BertForPreTraining model).\n",
            "- This IS NOT expected if you are initializing BertForSequenceClassification from the checkpoint of a model that you expect to be exactly identical (initializing a BertForSequenceClassification model from a BertForSequenceClassification model).\n",
            "Some weights of BertForSequenceClassification were not initialized from the model checkpoint at neuralmind/bert-large-portuguese-cased and are newly initialized: ['classifier.weight', 'classifier.bias']\n",
            "You should probably TRAIN this model on a down-stream task to be able to use it for predictions and inference.\n"
          ]
        }
      ],
      "source": [
        "MODELO_LOCAL = \"/content/drive/MyDrive/PUC/TCC/modelos/classificador_bertimbau\"\n",
        "\n",
        "MODELO_ORIGEM = \"neuralmind/bert-large-portuguese-cased\"\n",
        "# carrega tokenizador\n",
        "tokenizer = AutoTokenizer.from_pretrained(\n",
        "    MODELO_ORIGEM, \n",
        "    # não altera case, pois o modelo é case-sensitive\n",
        "    do_lower_case=False\n",
        ")\n",
        "\n",
        "# carrega pesos do modelo \"BERTimbau\"\n",
        "model_bert = AutoModelForSequenceClassification.from_pretrained(\n",
        "    MODELO_ORIGEM, \n",
        "    num_labels=2          # número de classes da classificação\n",
        ").to(device)              # coloca o modelo para rodar na GPU\n",
        "\n",
        "# configura otimizador conforme Huggingfaces\n",
        "optimizer = torch.optim.AdamW(\n",
        "    model_bert.parameters(), \n",
        "    lr = 1e-5                 # learning rate baixo\n",
        ")"
      ]
    },
    {
      "cell_type": "markdown",
      "source": [
        "### Tokeniza todos textos para acelerar o treino"
      ],
      "metadata": {
        "id": "WN7A3JOsSw4R"
      }
    },
    {
      "cell_type": "code",
      "source": [
        "campo_texto = 'texto_lematizado' #'texto_wordcloud_nomes_numeros'\n",
        "dados_token = dados[['classe', campo_texto]].copy()\n",
        "dados_token['TOKENS'] = dados_token[campo_texto].progress_apply(\n",
        "    lambda x: np.array(\n",
        "        tokenizer.encode(x, padding='max_length', \n",
        "                         truncation=True, max_length=300)))\n",
        "dados_token.rename(columns={'classe':'LABELS'}, inplace=True)"
      ],
      "metadata": {
        "id": "qb1k7REPUC5H",
        "outputId": "143d1650-3955-4f68-a85e-8602cb7791ba",
        "colab": {
          "base_uri": "https://localhost:8080/",
          "height": 49,
          "referenced_widgets": [
            "7b28bf4171104b74bd5a135e2b721155",
            "d8403ded1a9c458fa6d2323200593027",
            "f821adc103854e06833c5837924faaa3",
            "7be99d516d7a4dc1a26cd0b1ffa4805d",
            "fe8b8ea771c7490390377569c4a69a8a",
            "46a1f6d768804deabbeda27c2be6fa76",
            "de928fe62c8a445b8e2dab2ba2804a47",
            "12f6641868074146b7db976979c701a0",
            "ee2bdd41733947228fcfe3d24c7e4f9f",
            "0e4358c7bac84e72b8874fc7a16af107",
            "2230459bd0f3412ca2a5f4360b89200a"
          ]
        }
      },
      "execution_count": null,
      "outputs": [
        {
          "output_type": "display_data",
          "data": {
            "text/plain": [
              "  0%|          | 0/6703 [00:00<?, ?it/s]"
            ],
            "application/vnd.jupyter.widget-view+json": {
              "version_major": 2,
              "version_minor": 0,
              "model_id": "7b28bf4171104b74bd5a135e2b721155"
            }
          },
          "metadata": {}
        }
      ]
    },
    {
      "cell_type": "markdown",
      "source": [
        "### Separa treino, validação e teste e gera datasets de tensoes"
      ],
      "metadata": {
        "id": "EVaxeU2PgdtQ"
      }
    },
    {
      "cell_type": "code",
      "source": [
        "# Separa 60% para treino, 20% para validação e 20% para teste\n",
        "dados_treino, dados_validacao, dados_teste = np.split(\n",
        "    dados_token.sample(frac=1), [\n",
        "      int(.6*len(dados_token)), \n",
        "      int(.8*len(dados_token))\n",
        "])\n",
        "lote_tamanho = 4\n",
        "\n",
        "# gera dataset e leitor de dados de treino\n",
        "treino_dados = TensorDataset(\n",
        "    torch.tensor(np.array(dados_treino['TOKENS'].to_list())).to(device), \n",
        "    torch.tensor(np.array(dados_treino['LABELS'].values)).to(device))\n",
        "treino_leitor = DataLoader(treino_dados, batch_size=lote_tamanho, shuffle=True)\n",
        "\n",
        "# gera dataset e leitor de dados de validação\n",
        "validacao_dados = TensorDataset(\n",
        "    torch.tensor(np.array(dados_validacao['TOKENS'].to_list())).to(device), \n",
        "    torch.tensor(np.array(dados_validacao['LABELS'].values)).to(device))\n",
        "validacao_leitor = DataLoader(validacao_dados, batch_size=lote_tamanho, shuffle=True)\n",
        "\n",
        "# gera dataset e leitor de dados de validação\n",
        "teste_dados = TensorDataset(\n",
        "    torch.tensor(np.array(dados_teste['TOKENS'].to_list())).to(device), \n",
        "    torch.tensor(np.array(dados_teste['LABELS'].values)).to(device))\n",
        "teste_leitor = DataLoader(teste_dados, batch_size=lote_tamanho, shuffle=True)"
      ],
      "metadata": {
        "id": "H7FuPhXbZyBR"
      },
      "execution_count": null,
      "outputs": []
    },
    {
      "cell_type": "markdown",
      "source": [
        "### Método de Avaliação do Modelo"
      ],
      "metadata": {
        "id": "7MjqyRBBiW-M"
      }
    },
    {
      "cell_type": "code",
      "source": [
        "def avaliar_modelo(modelo, dados):\n",
        "  modelo.eval() # coloca o modelo em avaliação\n",
        "  classes_real, classes_pred = [], []\n",
        "  for idx_lote, lote in enumerate(dados):\n",
        "    # pega os dados do lote\n",
        "    lote_valores = lote[0].to(device)\n",
        "    lote_classes = lote[1].to(device)\n",
        "\n",
        "    # realiza predição\n",
        "    outputs = model_bert(lote_valores)    \n",
        "    # retorna indice de maior valor na predição\n",
        "    pred_classes = torch.argmax(outputs.logits, 1)\n",
        "    # salva retorno para medição\n",
        "    classes_real.extend(lote[1].tolist())\n",
        "    classes_pred.extend(pred_classes.tolist())\n",
        "\n",
        "  # Obtem f1, acurácia e loss da validação\n",
        "  f1 = f1_score(classes_real, classes_pred, average='weighted')\n",
        "  acuracia = accuracy_score(classes_real, classes_pred)\n",
        "  loss = mean_squared_error(classes_real, classes_pred)\n",
        "  return f1, acuracia, loss"
      ],
      "metadata": {
        "id": "rZFKmz8koAIO"
      },
      "execution_count": null,
      "outputs": []
    },
    {
      "cell_type": "markdown",
      "source": [
        "### Treinamento Completo"
      ],
      "metadata": {
        "id": "txAUAB30FgAH"
      }
    },
    {
      "cell_type": "code",
      "source": [
        "epocas = 5\n",
        "lote_status = 32\n",
        "parar_treino = 2    \n",
        "max_f1, repetir_treino = 0, 0\n",
        "estatisticas = []\n",
        "inicio = time.time()\n",
        "\n",
        "for epoca in range(0, epocas):\n",
        "  f1, acc, _ = avaliar_modelo(model_bert, validacao_leitor)\n",
        "  model_bert.train()\n",
        "  losses = []\n",
        "  for idx_lote, lote in enumerate(treino_leitor):\n",
        "    # pega os dados do lote\n",
        "    lote_valores = lote[0].to(device)\n",
        "    lote_classes = lote[1].to(device)\n",
        "\n",
        "    # treina no lote atual\n",
        "    output = model_bert(lote_valores, labels=lote_classes)\n",
        "    # Salva o loss\n",
        "    loss = output.loss\n",
        "    losses.append(float(loss))\n",
        "    # Backpropagation\n",
        "    loss.backward()\n",
        "    optimizer.step()\n",
        "    optimizer.zero_grad()\n",
        "\n",
        "    # imprime processo\n",
        "    if (idx_lote+1) % (lote_status) == 0:\n",
        "      print(\"Época: {} [{}/{} ({:.0f}%)]\".format(epoca + 1, idx_lote+1, \\\n",
        "        len(treino_leitor), 100. * idx_lote / len(treino_leitor)) \\\n",
        "        + \"\\tLoss: {:.6f}\\tLoss Total: {:.6f}\".format(\n",
        "            float(loss) , round(sum(losses) / len(losses), 5)))\n",
        "  \n",
        "  print('Validando...')\n",
        "  f1, acc, losses_val = avaliar_modelo(model_bert, validacao_leitor)\n",
        "  print('F1: ', f1, 'Acurácia: ', acc, 'Loss: ', losses_val)\n",
        "\n",
        "  # grava as estatísticas por época.\n",
        "  estatisticas.append(\n",
        "      {\n",
        "          'epoca': epoca + 1,\n",
        "          'Loss de Treinamento': round(sum(losses) / len(losses), 5),\n",
        "          'Loss de Validação': round(losses_val, 5),\n",
        "          'F1': round(f1, 5),\n",
        "          'Acurácia de Validação': round(acc, 5)\n",
        "      }\n",
        "  )\n",
        "\n",
        "  if f1 > max_f1:\n",
        "    model_bert.save_pretrained(MODELO_LOCAL)\n",
        "    max_f1 = f1\n",
        "    repeat = 0\n",
        "    print('Salvando melhor modelo...')\n",
        "  else:\n",
        "    repetir_treino += 1\n",
        "  if repetir_treino == parar_treino:\n",
        "    break\n",
        "\n",
        "print(\"Tempo total do treino {:} (h:mm:ss)\".format(format_time(time.time()-inicio)))"
      ],
      "metadata": {
        "id": "ZgXnJjjDpGuJ",
        "outputId": "ab1581e9-d808-4d35-e8d4-baf8c858494b",
        "colab": {
          "base_uri": "https://localhost:8080/"
        }
      },
      "execution_count": null,
      "outputs": [
        {
          "output_type": "stream",
          "name": "stdout",
          "text": [
            "Época: 1 [32/1006 (3%)]\tLoss: 0.624921\tLoss Total: 0.667690\n",
            "Época: 1 [64/1006 (6%)]\tLoss: 0.486644\tLoss Total: 0.595100\n",
            "Época: 1 [96/1006 (9%)]\tLoss: 0.138586\tLoss Total: 0.527290\n",
            "Época: 1 [128/1006 (13%)]\tLoss: 0.183561\tLoss Total: 0.482800\n",
            "Época: 1 [160/1006 (16%)]\tLoss: 0.293256\tLoss Total: 0.448590\n",
            "Época: 1 [192/1006 (19%)]\tLoss: 0.211693\tLoss Total: 0.416430\n",
            "Época: 1 [224/1006 (22%)]\tLoss: 0.092114\tLoss Total: 0.394900\n",
            "Época: 1 [256/1006 (25%)]\tLoss: 0.660646\tLoss Total: 0.400690\n",
            "Época: 1 [288/1006 (29%)]\tLoss: 0.143826\tLoss Total: 0.394190\n",
            "Época: 1 [320/1006 (32%)]\tLoss: 0.154520\tLoss Total: 0.378420\n",
            "Época: 1 [352/1006 (35%)]\tLoss: 0.089995\tLoss Total: 0.364260\n",
            "Época: 1 [384/1006 (38%)]\tLoss: 0.022473\tLoss Total: 0.353020\n",
            "Época: 1 [416/1006 (41%)]\tLoss: 0.024034\tLoss Total: 0.337380\n",
            "Época: 1 [448/1006 (44%)]\tLoss: 0.185195\tLoss Total: 0.324180\n",
            "Época: 1 [480/1006 (48%)]\tLoss: 0.023557\tLoss Total: 0.312940\n",
            "Época: 1 [512/1006 (51%)]\tLoss: 0.058276\tLoss Total: 0.310280\n",
            "Época: 1 [544/1006 (54%)]\tLoss: 0.768311\tLoss Total: 0.300900\n",
            "Época: 1 [576/1006 (57%)]\tLoss: 0.177660\tLoss Total: 0.296580\n",
            "Época: 1 [608/1006 (60%)]\tLoss: 0.052354\tLoss Total: 0.293740\n",
            "Época: 1 [640/1006 (64%)]\tLoss: 0.044532\tLoss Total: 0.286420\n",
            "Época: 1 [672/1006 (67%)]\tLoss: 0.026914\tLoss Total: 0.279220\n",
            "Época: 1 [704/1006 (70%)]\tLoss: 0.006918\tLoss Total: 0.272740\n",
            "Época: 1 [736/1006 (73%)]\tLoss: 0.029905\tLoss Total: 0.266910\n",
            "Época: 1 [768/1006 (76%)]\tLoss: 0.722658\tLoss Total: 0.261560\n",
            "Época: 1 [800/1006 (79%)]\tLoss: 0.283938\tLoss Total: 0.257680\n",
            "Época: 1 [832/1006 (83%)]\tLoss: 0.196009\tLoss Total: 0.253410\n",
            "Época: 1 [864/1006 (86%)]\tLoss: 0.022087\tLoss Total: 0.247510\n",
            "Época: 1 [896/1006 (89%)]\tLoss: 0.010894\tLoss Total: 0.242420\n",
            "Época: 1 [928/1006 (92%)]\tLoss: 0.037751\tLoss Total: 0.238310\n",
            "Época: 1 [960/1006 (95%)]\tLoss: 0.057820\tLoss Total: 0.233130\n",
            "Época: 1 [992/1006 (99%)]\tLoss: 0.012240\tLoss Total: 0.228400\n",
            "Validando...\n",
            "F1:  0.9574380065700051 Acurácia:  0.9574944071588367 Loss:  0.042505592841163314\n",
            "Salvando melhor modelo...\n",
            "Época: 2 [32/1006 (3%)]\tLoss: 0.002278\tLoss Total: 0.106570\n",
            "Época: 2 [64/1006 (6%)]\tLoss: 0.226533\tLoss Total: 0.092360\n",
            "Época: 2 [96/1006 (9%)]\tLoss: 0.444440\tLoss Total: 0.084250\n",
            "Época: 2 [128/1006 (13%)]\tLoss: 0.002173\tLoss Total: 0.071140\n",
            "Época: 2 [160/1006 (16%)]\tLoss: 0.038492\tLoss Total: 0.074820\n",
            "Época: 2 [192/1006 (19%)]\tLoss: 0.026452\tLoss Total: 0.070870\n",
            "Época: 2 [224/1006 (22%)]\tLoss: 0.025063\tLoss Total: 0.077490\n",
            "Época: 2 [256/1006 (25%)]\tLoss: 0.814053\tLoss Total: 0.087020\n",
            "Época: 2 [288/1006 (29%)]\tLoss: 0.687476\tLoss Total: 0.088560\n",
            "Época: 2 [320/1006 (32%)]\tLoss: 0.311396\tLoss Total: 0.092040\n",
            "Época: 2 [352/1006 (35%)]\tLoss: 0.012776\tLoss Total: 0.095050\n",
            "Época: 2 [384/1006 (38%)]\tLoss: 0.004909\tLoss Total: 0.094140\n",
            "Época: 2 [416/1006 (41%)]\tLoss: 0.006446\tLoss Total: 0.092210\n",
            "Época: 2 [448/1006 (44%)]\tLoss: 0.007486\tLoss Total: 0.089580\n",
            "Época: 2 [480/1006 (48%)]\tLoss: 0.002872\tLoss Total: 0.089220\n",
            "Época: 2 [512/1006 (51%)]\tLoss: 0.044841\tLoss Total: 0.090060\n",
            "Época: 2 [544/1006 (54%)]\tLoss: 0.052764\tLoss Total: 0.087250\n",
            "Época: 2 [576/1006 (57%)]\tLoss: 0.016747\tLoss Total: 0.091730\n",
            "Época: 2 [608/1006 (60%)]\tLoss: 0.114148\tLoss Total: 0.093370\n",
            "Época: 2 [640/1006 (64%)]\tLoss: 0.915345\tLoss Total: 0.096900\n",
            "Época: 2 [672/1006 (67%)]\tLoss: 0.009864\tLoss Total: 0.097500\n",
            "Época: 2 [704/1006 (70%)]\tLoss: 0.057002\tLoss Total: 0.096830\n",
            "Época: 2 [736/1006 (73%)]\tLoss: 0.053778\tLoss Total: 0.094980\n",
            "Época: 2 [768/1006 (76%)]\tLoss: 0.011042\tLoss Total: 0.095890\n",
            "Época: 2 [800/1006 (79%)]\tLoss: 0.009186\tLoss Total: 0.095450\n",
            "Época: 2 [832/1006 (83%)]\tLoss: 0.017320\tLoss Total: 0.092210\n",
            "Época: 2 [864/1006 (86%)]\tLoss: 0.002000\tLoss Total: 0.090960\n",
            "Época: 2 [896/1006 (89%)]\tLoss: 0.083790\tLoss Total: 0.092100\n",
            "Época: 2 [928/1006 (92%)]\tLoss: 0.024846\tLoss Total: 0.091290\n",
            "Época: 2 [960/1006 (95%)]\tLoss: 0.005651\tLoss Total: 0.089390\n",
            "Época: 2 [992/1006 (99%)]\tLoss: 0.004646\tLoss Total: 0.091360\n",
            "Validando...\n",
            "F1:  0.9229395348579286 Acurácia:  0.9231916480238628 Loss:  0.07680835197613721\n",
            "Época: 3 [32/1006 (3%)]\tLoss: 0.018922\tLoss Total: 0.060910\n",
            "Época: 3 [64/1006 (6%)]\tLoss: 0.006148\tLoss Total: 0.064530\n",
            "Época: 3 [96/1006 (9%)]\tLoss: 0.129038\tLoss Total: 0.058220\n",
            "Época: 3 [128/1006 (13%)]\tLoss: 0.050482\tLoss Total: 0.047360\n",
            "Época: 3 [160/1006 (16%)]\tLoss: 0.023742\tLoss Total: 0.042800\n",
            "Época: 3 [192/1006 (19%)]\tLoss: 0.003916\tLoss Total: 0.037240\n",
            "Época: 3 [224/1006 (22%)]\tLoss: 0.002102\tLoss Total: 0.039480\n",
            "Época: 3 [256/1006 (25%)]\tLoss: 0.002135\tLoss Total: 0.036450\n",
            "Época: 3 [288/1006 (29%)]\tLoss: 0.003851\tLoss Total: 0.033380\n",
            "Época: 3 [320/1006 (32%)]\tLoss: 0.001850\tLoss Total: 0.031320\n",
            "Época: 3 [352/1006 (35%)]\tLoss: 0.002028\tLoss Total: 0.031930\n",
            "Época: 3 [384/1006 (38%)]\tLoss: 0.012205\tLoss Total: 0.033000\n",
            "Época: 3 [416/1006 (41%)]\tLoss: 0.001629\tLoss Total: 0.034720\n",
            "Época: 3 [448/1006 (44%)]\tLoss: 0.001090\tLoss Total: 0.032770\n",
            "Época: 3 [480/1006 (48%)]\tLoss: 0.002388\tLoss Total: 0.030890\n",
            "Época: 3 [512/1006 (51%)]\tLoss: 0.001834\tLoss Total: 0.031440\n",
            "Época: 3 [544/1006 (54%)]\tLoss: 0.004730\tLoss Total: 0.030470\n",
            "Época: 3 [576/1006 (57%)]\tLoss: 0.001379\tLoss Total: 0.029180\n",
            "Época: 3 [608/1006 (60%)]\tLoss: 0.000456\tLoss Total: 0.028410\n",
            "Época: 3 [640/1006 (64%)]\tLoss: 0.000471\tLoss Total: 0.027850\n",
            "Época: 3 [672/1006 (67%)]\tLoss: 0.010536\tLoss Total: 0.028190\n",
            "Época: 3 [704/1006 (70%)]\tLoss: 0.003794\tLoss Total: 0.030740\n",
            "Época: 3 [736/1006 (73%)]\tLoss: 0.001822\tLoss Total: 0.032450\n",
            "Época: 3 [768/1006 (76%)]\tLoss: 0.001366\tLoss Total: 0.034480\n",
            "Época: 3 [800/1006 (79%)]\tLoss: 1.093728\tLoss Total: 0.034890\n",
            "Época: 3 [832/1006 (83%)]\tLoss: 0.041618\tLoss Total: 0.035040\n",
            "Época: 3 [864/1006 (86%)]\tLoss: 0.324447\tLoss Total: 0.035420\n",
            "Época: 3 [896/1006 (89%)]\tLoss: 0.002323\tLoss Total: 0.034520\n",
            "Época: 3 [928/1006 (92%)]\tLoss: 0.000404\tLoss Total: 0.034700\n",
            "Época: 3 [960/1006 (95%)]\tLoss: 0.041515\tLoss Total: 0.034510\n",
            "Época: 3 [992/1006 (99%)]\tLoss: 0.086134\tLoss Total: 0.034100\n",
            "Validando...\n",
            "F1:  0.9686816569857847 Acurácia:  0.9686800894854586 Loss:  0.03131991051454139\n",
            "Salvando melhor modelo...\n",
            "Época: 4 [32/1006 (3%)]\tLoss: 0.000475\tLoss Total: 0.009010\n",
            "Época: 4 [64/1006 (6%)]\tLoss: 0.000450\tLoss Total: 0.005620\n",
            "Época: 4 [96/1006 (9%)]\tLoss: 0.004773\tLoss Total: 0.013220\n",
            "Época: 4 [128/1006 (13%)]\tLoss: 0.000914\tLoss Total: 0.039200\n",
            "Época: 4 [160/1006 (16%)]\tLoss: 0.003115\tLoss Total: 0.037910\n",
            "Época: 4 [192/1006 (19%)]\tLoss: 0.001428\tLoss Total: 0.035000\n",
            "Época: 4 [224/1006 (22%)]\tLoss: 0.006579\tLoss Total: 0.031980\n",
            "Época: 4 [256/1006 (25%)]\tLoss: 0.000457\tLoss Total: 0.028860\n",
            "Época: 4 [288/1006 (29%)]\tLoss: 0.000667\tLoss Total: 0.026190\n",
            "Época: 4 [320/1006 (32%)]\tLoss: 0.000573\tLoss Total: 0.023880\n",
            "Época: 4 [352/1006 (35%)]\tLoss: 0.006923\tLoss Total: 0.021860\n",
            "Época: 4 [384/1006 (38%)]\tLoss: 0.004513\tLoss Total: 0.030950\n",
            "Época: 4 [416/1006 (41%)]\tLoss: 0.028241\tLoss Total: 0.030230\n",
            "Época: 4 [448/1006 (44%)]\tLoss: 0.001298\tLoss Total: 0.030450\n",
            "Época: 4 [480/1006 (48%)]\tLoss: 0.000993\tLoss Total: 0.029050\n",
            "Época: 4 [512/1006 (51%)]\tLoss: 0.002551\tLoss Total: 0.028030\n",
            "Época: 4 [544/1006 (54%)]\tLoss: 0.001831\tLoss Total: 0.027000\n",
            "Época: 4 [576/1006 (57%)]\tLoss: 0.000398\tLoss Total: 0.028010\n",
            "Época: 4 [608/1006 (60%)]\tLoss: 0.041633\tLoss Total: 0.027260\n",
            "Época: 4 [640/1006 (64%)]\tLoss: 0.002426\tLoss Total: 0.026430\n",
            "Época: 4 [672/1006 (67%)]\tLoss: 0.001549\tLoss Total: 0.027330\n",
            "Época: 4 [704/1006 (70%)]\tLoss: 0.847131\tLoss Total: 0.027930\n",
            "Época: 4 [736/1006 (73%)]\tLoss: 0.000877\tLoss Total: 0.027160\n",
            "Época: 4 [768/1006 (76%)]\tLoss: 0.002881\tLoss Total: 0.026790\n",
            "Época: 4 [800/1006 (79%)]\tLoss: 0.000826\tLoss Total: 0.026230\n",
            "Época: 4 [832/1006 (83%)]\tLoss: 0.000385\tLoss Total: 0.025410\n",
            "Época: 4 [864/1006 (86%)]\tLoss: 0.000385\tLoss Total: 0.024730\n",
            "Época: 4 [896/1006 (89%)]\tLoss: 0.000218\tLoss Total: 0.023980\n",
            "Época: 4 [928/1006 (92%)]\tLoss: 0.001870\tLoss Total: 0.023630\n",
            "Época: 4 [960/1006 (95%)]\tLoss: 0.001631\tLoss Total: 0.024610\n",
            "Época: 4 [992/1006 (99%)]\tLoss: 0.001471\tLoss Total: 0.025370\n",
            "Validando...\n",
            "F1:  0.9514918247088677 Acurácia:  0.9515287099179717 Loss:  0.048471290082028336\n",
            "Tempo total do treino 1:06:35 (h:mm:ss)\n"
          ]
        }
      ]
    },
    {
      "cell_type": "markdown",
      "metadata": {
        "id": "ZsP7h_bYRfOn"
      },
      "source": [
        "### Gera as estatísticas do treino"
      ]
    },
    {
      "cell_type": "code",
      "execution_count": null,
      "metadata": {
        "id": "CF9E0G2jRkUf"
      },
      "outputs": [],
      "source": [
        "# Cria um dataframe das estatísticas\n",
        "pd.set_option('precision', 3)\n",
        "df_estatisticas = pd.DataFrame(data=estatisticas)\n",
        "df_estatisticas = df_estatisticas.set_index('epoca')"
      ]
    },
    {
      "cell_type": "markdown",
      "metadata": {
        "id": "McJfNhcNRvMV"
      },
      "source": [
        "### Curva de aprendizado"
      ]
    },
    {
      "cell_type": "code",
      "execution_count": null,
      "metadata": {
        "colab": {
          "base_uri": "https://localhost:8080/",
          "height": 302
        },
        "id": "vL6_52WnRqxf",
        "outputId": "5de06d16-28b1-46de-fb5b-e8eff14b28a6"
      },
      "outputs": [
        {
          "output_type": "display_data",
          "data": {
            "text/plain": [
              "<Figure size 432x288 with 1 Axes>"
            ],
            "image/png": "[encoded data removed]"
          },
          "metadata": {}
        }
      ],
      "source": [
        "plt.figure()\n",
        "# Mostra curva de aprendizado.\n",
        "plt.plot(df_estatisticas['Loss de Treinamento'], 'b-o', label=\"Treinamento\")\n",
        "plt.plot(df_estatisticas['Loss de Validação'], 'g-o', label=\"Validação\")\n",
        "plt.title(\"Loss de Treinamento vs Validação\")\n",
        "plt.xlabel(\"Época\")\n",
        "plt.ylabel(\"Loss\")\n",
        "plt.legend()\n",
        "plt.xticks([1, 2, 3, 4, 5])\n",
        "plt.show()"
      ]
    },
    {
      "cell_type": "markdown",
      "metadata": {
        "id": "dvJb4GhoRx_P"
      },
      "source": [
        "### Acurácia"
      ]
    },
    {
      "cell_type": "code",
      "execution_count": null,
      "metadata": {
        "colab": {
          "base_uri": "https://localhost:8080/",
          "height": 302
        },
        "id": "EknVQrBHR3a3",
        "outputId": "0c95d09d-6abe-4a24-c3ff-fc9199ef9c68"
      },
      "outputs": [
        {
          "output_type": "display_data",
          "data": {
            "text/plain": [
              "<Figure size 432x288 with 1 Axes>"
            ],
            "image/png": "[encoded data removed]"
          },
          "metadata": {}
        }
      ],
      "source": [
        "plt.figure()\n",
        "plt.plot(df_estatisticas['Acurácia de Validação'], 'g-o', label=\"Validação\")\n",
        "plt.title(\"Acurácia de Validação\")\n",
        "plt.xlabel(\"Época\")\n",
        "plt.ylabel(\"Acurácia\")\n",
        "plt.legend(loc=\"lower right\")\n",
        "plt.xticks([1, 2, 3, 4, 5])\n",
        "plt.show()"
      ]
    },
    {
      "cell_type": "markdown",
      "source": [
        "### Teste do Modelo tunado"
      ],
      "metadata": {
        "id": "ZNBk7HKMrwaj"
      }
    },
    {
      "cell_type": "code",
      "source": [
        "classes_previstas , classes_verdadeiras = [], []\n",
        "\n",
        "MODELO_LOCAL = \"/content/drive/MyDrive/PUC/TCC/modelos/classificador_bertimbau\"\n",
        "\n",
        "tokenizer = AutoTokenizer.from_pretrained(MODELO_LOCAL, do_lower_case=False)\n",
        "model_bert = AutoModelForSequenceClassification.from_pretrained(MODELO_ORIGEM, num_labels=2)\n",
        "model_bert.to(device)\n",
        "\n",
        "for lote in teste_leitor:\n",
        "    # coloca o lote na GPUS\n",
        "    lote = tuple(t.to(device) for t in lote)\n",
        "    lote_valores, lote_classes = lote\n",
        "    with torch.no_grad():\n",
        "        outputs = model_bert(lote_valores)\n",
        "    # Adiciona as prediões e as classes para a CPU\n",
        "    outputs = outputs.logits.detach().cpu().numpy()\n",
        "    classes = lote_classes.to('cpu').numpy()\n",
        "    # Salva as predições e as classes corretos\n",
        "    classes_previstas.append(outputs)\n",
        "    classes_verdadeiras.append(classes) \n",
        "\n",
        "# prepara resultado\n",
        "lista_previsoes = np.concatenate(classes_previstas, axis=0)\n",
        "lista_previsoes = np.argmax(lista_previsoes, axis=1).flatten()\n",
        "lista_classes_verdadeiras = np.concatenate(classes_verdadeiras, axis=0)"
      ],
      "metadata": {
        "id": "SGtx0zzarme0"
      },
      "execution_count": null,
      "outputs": []
    },
    {
      "cell_type": "markdown",
      "metadata": {
        "id": "Hgk3AvF_QfiL"
      },
      "source": [
        "### Relatório de classificação"
      ]
    },
    {
      "cell_type": "code",
      "execution_count": null,
      "metadata": {
        "colab": {
          "base_uri": "https://localhost:8080/"
        },
        "id": "xV9buFKaQZPt",
        "outputId": "692e6273-65e7-4b5f-95f1-c875864d6d1a"
      },
      "outputs": [
        {
          "output_type": "stream",
          "name": "stdout",
          "text": [
            "              precision    recall  f1-score   support\n",
            "\n",
            "   confiável       0.94      0.99      0.97       675\n",
            "       falso       0.99      0.94      0.96       666\n",
            "\n",
            "    accuracy                           0.96      1341\n",
            "   macro avg       0.97      0.96      0.96      1341\n",
            "weighted avg       0.97      0.96      0.96      1341\n",
            "\n"
          ]
        }
      ],
      "source": [
        "print(classification_report(\n",
        "    lista_classes_verdadeiras, \n",
        "    lista_previsoes,target_names=['confiável','falso']))"
      ]
    },
    {
      "cell_type": "markdown",
      "metadata": {
        "id": "VSwGnmkSRWih"
      },
      "source": [
        "### Matriz de confusão"
      ]
    },
    {
      "cell_type": "code",
      "execution_count": null,
      "metadata": {
        "colab": {
          "base_uri": "https://localhost:8080/",
          "height": 339
        },
        "id": "oxyqsf-xRYIt",
        "outputId": "1f98ed0e-ac50-4669-a933-754c061a94c9"
      },
      "outputs": [
        {
          "output_type": "stream",
          "name": "stdout",
          "text": [
            "[[667   8]\n",
            " [ 40 626]]\n"
          ]
        },
        {
          "output_type": "execute_result",
          "data": {
            "text/plain": [
              "<sklearn.metrics._plot.confusion_matrix.ConfusionMatrixDisplay at 0x7f1de7aa6d50>"
            ]
          },
          "metadata": {},
          "execution_count": 24
        },
        {
          "output_type": "display_data",
          "data": {
            "text/plain": [
              "<Figure size 432x288 with 2 Axes>"
            ],
            "image/png": "[encoded data removed]"
          },
          "metadata": {}
        }
      ],
      "source": [
        "conf = confusion_matrix(lista_classes_verdadeiras, lista_previsoes)\n",
        "print(conf)\n",
        "cmd = ConfusionMatrixDisplay(conf, display_labels=['confiável','falso'])\n",
        "cmd.plot()"
      ]
    },
    {
      "cell_type": "markdown",
      "source": [
        "### Curva ROC\n",
        "Receiver Operating Characteristic Curve"
      ],
      "metadata": {
        "id": "PfO0SkfQqp-Q"
      }
    },
    {
      "cell_type": "code",
      "source": [
        "fpr, tpr, _ = roc_curve(lista_classes_verdadeiras, lista_previsoes)\n",
        "roc_auc = auc(fpr, tpr)\n",
        "\n",
        "plt.figure()\n",
        "lw = 2\n",
        "plt.plot(fpr, tpr, color='darkorange',\n",
        "         lw=lw, label='Curva ROC (área = %0.2f)' % roc_auc)\n",
        "plt.plot([0, 1], [0, 1], color='navy', lw=lw, linestyle='--')\n",
        "plt.xlim([0.0, 1.0])\n",
        "plt.ylim([0.0, 1.05])\n",
        "plt.xlabel('Taxa Falso Positivo')\n",
        "plt.ylabel('Taxa Positive Real')\n",
        "plt.title('Receiver Operating Characteristic')\n",
        "plt.legend(loc=\"lower right\")\n",
        "plt.show()"
      ],
      "metadata": {
        "id": "D9U8P0cdqhe7",
        "outputId": "76e4901d-afe8-4869-d6ae-697509df7c70",
        "colab": {
          "base_uri": "https://localhost:8080/",
          "height": 301
        }
      },
      "execution_count": null,
      "outputs": [
        {
          "output_type": "display_data",
          "data": {
            "text/plain": [
              "<Figure size 432x288 with 1 Axes>"
            ],
            "image/png": "[encoded data removed]"
          },
          "metadata": {}
        }
      ]
    }
  ],
  "metadata": {
    "accelerator": "GPU",
    "colab": {
      "collapsed_sections": [],
      "machine_shape": "hm",
      "name": "classificacao_passo02_treino_avaliacao.ipynb",
      "provenance": [],
      "background_execution": "on",
      "include_colab_link": true
    },
    "kernelspec": {
      "display_name": "Python 3",
      "name": "python3"
    },
    "language_info": {
      "codemirror_mode": {
        "name": "ipython",
        "version": 3
      },
      "file_extension": ".py",
      "mimetype": "text/x-python",
      "name": "python",
      "nbconvert_exporter": "python",
      "pygments_lexer": "ipython3",
      "version": "3.8.13"
    },
    "widgets": {
      "application/vnd.jupyter.widget-state+json": {
        "2f4f19bd2639477e87dbeada4481ae25": {
          "model_module": "@jupyter-widgets/controls",
          "model_name": "HBoxModel",
          "model_module_version": "1.5.0",
          "state": {
            "_dom_classes": [],
            "_model_module": "@jupyter-widgets/controls",
            "_model_module_version": "1.5.0",
            "_model_name": "HBoxModel",
            "_view_count": null,
            "_view_module": "@jupyter-widgets/controls",
            "_view_module_version": "1.5.0",
            "_view_name": "HBoxView",
            "box_style": "",
            "children": [
              "IPY_MODEL_71c510f8b50443aca8f12d14729215a3",
              "IPY_MODEL_3306b1d0895a47e1a1fc66b933413aa7",
              "IPY_MODEL_429d433e78864ebaa6e090589b737f84"
            ],
            "layout": "IPY_MODEL_2aeaa0d6c55449c497f6c0cf1c4cfdb1"
          }
        },
        "71c510f8b50443aca8f12d14729215a3": {
          "model_module": "@jupyter-widgets/controls",
          "model_name": "HTMLModel",
          "model_module_version": "1.5.0",
          "state": {
            "_dom_classes": [],
            "_model_module": "@jupyter-widgets/controls",
            "_model_module_version": "1.5.0",
            "_model_name": "HTMLModel",
            "_view_count": null,
            "_view_module": "@jupyter-widgets/controls",
            "_view_module_version": "1.5.0",
            "_view_name": "HTMLView",
            "description": "",
            "description_tooltip": null,
            "layout": "IPY_MODEL_979e93eb437b4b018a65d02c1a5f6706",
            "placeholder": "​",
            "style": "IPY_MODEL_cad42714c47c4627b558478b3a439bb8",
            "value": "Downloading: 100%"
          }
        },
        "3306b1d0895a47e1a1fc66b933413aa7": {
          "model_module": "@jupyter-widgets/controls",
          "model_name": "FloatProgressModel",
          "model_module_version": "1.5.0",
          "state": {
            "_dom_classes": [],
            "_model_module": "@jupyter-widgets/controls",
            "_model_module_version": "1.5.0",
            "_model_name": "FloatProgressModel",
            "_view_count": null,
            "_view_module": "@jupyter-widgets/controls",
            "_view_module_version": "1.5.0",
            "_view_name": "ProgressView",
            "bar_style": "success",
            "description": "",
            "description_tooltip": null,
            "layout": "IPY_MODEL_c0a2e88f07694feb9a5db0ce13082aa6",
            "max": 155,
            "min": 0,
            "orientation": "horizontal",
            "style": "IPY_MODEL_00d0af616dd049e5b4ecb4ea9d82cb52",
            "value": 155
          }
        },
        "429d433e78864ebaa6e090589b737f84": {
          "model_module": "@jupyter-widgets/controls",
          "model_name": "HTMLModel",
          "model_module_version": "1.5.0",
          "state": {
            "_dom_classes": [],
            "_model_module": "@jupyter-widgets/controls",
            "_model_module_version": "1.5.0",
            "_model_name": "HTMLModel",
            "_view_count": null,
            "_view_module": "@jupyter-widgets/controls",
            "_view_module_version": "1.5.0",
            "_view_name": "HTMLView",
            "description": "",
            "description_tooltip": null,
            "layout": "IPY_MODEL_cb4926033e0341c88b2c12b31e549ae1",
            "placeholder": "​",
            "style": "IPY_MODEL_d9f28443768941629e29828b3389148c",
            "value": " 155/155 [00:00&lt;00:00, 4.40kB/s]"
          }
        },
        "2aeaa0d6c55449c497f6c0cf1c4cfdb1": {
          "model_module": "@jupyter-widgets/base",
          "model_name": "LayoutModel",
          "model_module_version": "1.2.0",
          "state": {
            "_model_module": "@jupyter-widgets/base",
            "_model_module_version": "1.2.0",
            "_model_name": "LayoutModel",
            "_view_count": null,
            "_view_module": "@jupyter-widgets/base",
            "_view_module_version": "1.2.0",
            "_view_name": "LayoutView",
            "align_content": null,
            "align_items": null,
            "align_self": null,
            "border": null,
            "bottom": null,
            "display": null,
            "flex": null,
            "flex_flow": null,
            "grid_area": null,
            "grid_auto_columns": null,
            "grid_auto_flow": null,
            "grid_auto_rows": null,
            "grid_column": null,
            "grid_gap": null,
            "grid_row": null,
            "grid_template_areas": null,
            "grid_template_columns": null,
            "grid_template_rows": null,
            "height": null,
            "justify_content": null,
            "justify_items": null,
            "left": null,
            "margin": null,
            "max_height": null,
            "max_width": null,
            "min_height": null,
            "min_width": null,
            "object_fit": null,
            "object_position": null,
            "order": null,
            "overflow": null,
            "overflow_x": null,
            "overflow_y": null,
            "padding": null,
            "right": null,
            "top": null,
            "visibility": null,
            "width": null
          }
        },
        "979e93eb437b4b018a65d02c1a5f6706": {
          "model_module": "@jupyter-widgets/base",
          "model_name": "LayoutModel",
          "model_module_version": "1.2.0",
          "state": {
            "_model_module": "@jupyter-widgets/base",
            "_model_module_version": "1.2.0",
            "_model_name": "LayoutModel",
            "_view_count": null,
            "_view_module": "@jupyter-widgets/base",
            "_view_module_version": "1.2.0",
            "_view_name": "LayoutView",
            "align_content": null,
            "align_items": null,
            "align_self": null,
            "border": null,
            "bottom": null,
            "display": null,
            "flex": null,
            "flex_flow": null,
            "grid_area": null,
            "grid_auto_columns": null,
            "grid_auto_flow": null,
            "grid_auto_rows": null,
            "grid_column": null,
            "grid_gap": null,
            "grid_row": null,
            "grid_template_areas": null,
            "grid_template_columns": null,
            "grid_template_rows": null,
            "height": null,
            "justify_content": null,
            "justify_items": null,
            "left": null,
            "margin": null,
            "max_height": null,
            "max_width": null,
            "min_height": null,
            "min_width": null,
            "object_fit": null,
            "object_position": null,
            "order": null,
            "overflow": null,
            "overflow_x": null,
            "overflow_y": null,
            "padding": null,
            "right": null,
            "top": null,
            "visibility": null,
            "width": null
          }
        },
        "cad42714c47c4627b558478b3a439bb8": {
          "model_module": "@jupyter-widgets/controls",
          "model_name": "DescriptionStyleModel",
          "model_module_version": "1.5.0",
          "state": {
            "_model_module": "@jupyter-widgets/controls",
            "_model_module_version": "1.5.0",
            "_model_name": "DescriptionStyleModel",
            "_view_count": null,
            "_view_module": "@jupyter-widgets/base",
            "_view_module_version": "1.2.0",
            "_view_name": "StyleView",
            "description_width": ""
          }
        },
        "c0a2e88f07694feb9a5db0ce13082aa6": {
          "model_module": "@jupyter-widgets/base",
          "model_name": "LayoutModel",
          "model_module_version": "1.2.0",
          "state": {
            "_model_module": "@jupyter-widgets/base",
            "_model_module_version": "1.2.0",
            "_model_name": "LayoutModel",
            "_view_count": null,
            "_view_module": "@jupyter-widgets/base",
            "_view_module_version": "1.2.0",
            "_view_name": "LayoutView",
            "align_content": null,
            "align_items": null,
            "align_self": null,
            "border": null,
            "bottom": null,
            "display": null,
            "flex": null,
            "flex_flow": null,
            "grid_area": null,
            "grid_auto_columns": null,
            "grid_auto_flow": null,
            "grid_auto_rows": null,
            "grid_column": null,
            "grid_gap": null,
            "grid_row": null,
            "grid_template_areas": null,
            "grid_template_columns": null,
            "grid_template_rows": null,
            "height": null,
            "justify_content": null,
            "justify_items": null,
            "left": null,
            "margin": null,
            "max_height": null,
            "max_width": null,
            "min_height": null,
            "min_width": null,
            "object_fit": null,
            "object_position": null,
            "order": null,
            "overflow": null,
            "overflow_x": null,
            "overflow_y": null,
            "padding": null,
            "right": null,
            "top": null,
            "visibility": null,
            "width": null
          }
        },
        "00d0af616dd049e5b4ecb4ea9d82cb52": {
          "model_module": "@jupyter-widgets/controls",
          "model_name": "ProgressStyleModel",
          "model_module_version": "1.5.0",
          "state": {
            "_model_module": "@jupyter-widgets/controls",
            "_model_module_version": "1.5.0",
            "_model_name": "ProgressStyleModel",
            "_view_count": null,
            "_view_module": "@jupyter-widgets/base",
            "_view_module_version": "1.2.0",
            "_view_name": "StyleView",
            "bar_color": null,
            "description_width": ""
          }
        },
        "cb4926033e0341c88b2c12b31e549ae1": {
          "model_module": "@jupyter-widgets/base",
          "model_name": "LayoutModel",
          "model_module_version": "1.2.0",
          "state": {
            "_model_module": "@jupyter-widgets/base",
            "_model_module_version": "1.2.0",
            "_model_name": "LayoutModel",
            "_view_count": null,
            "_view_module": "@jupyter-widgets/base",
            "_view_module_version": "1.2.0",
            "_view_name": "LayoutView",
            "align_content": null,
            "align_items": null,
            "align_self": null,
            "border": null,
            "bottom": null,
            "display": null,
            "flex": null,
            "flex_flow": null,
            "grid_area": null,
            "grid_auto_columns": null,
            "grid_auto_flow": null,
            "grid_auto_rows": null,
            "grid_column": null,
            "grid_gap": null,
            "grid_row": null,
            "grid_template_areas": null,
            "grid_template_columns": null,
            "grid_template_rows": null,
            "height": null,
            "justify_content": null,
            "justify_items": null,
            "left": null,
            "margin": null,
            "max_height": null,
            "max_width": null,
            "min_height": null,
            "min_width": null,
            "object_fit": null,
            "object_position": null,
            "order": null,
            "overflow": null,
            "overflow_x": null,
            "overflow_y": null,
            "padding": null,
            "right": null,
            "top": null,
            "visibility": null,
            "width": null
          }
        },
        "d9f28443768941629e29828b3389148c": {
          "model_module": "@jupyter-widgets/controls",
          "model_name": "DescriptionStyleModel",
          "model_module_version": "1.5.0",
          "state": {
            "_model_module": "@jupyter-widgets/controls",
            "_model_module_version": "1.5.0",
            "_model_name": "DescriptionStyleModel",
            "_view_count": null,
            "_view_module": "@jupyter-widgets/base",
            "_view_module_version": "1.2.0",
            "_view_name": "StyleView",
            "description_width": ""
          }
        },
        "0d3e258a15b14669837abc021cdc8c61": {
          "model_module": "@jupyter-widgets/controls",
          "model_name": "HBoxModel",
          "model_module_version": "1.5.0",
          "state": {
            "_dom_classes": [],
            "_model_module": "@jupyter-widgets/controls",
            "_model_module_version": "1.5.0",
            "_model_name": "HBoxModel",
            "_view_count": null,
            "_view_module": "@jupyter-widgets/controls",
            "_view_module_version": "1.5.0",
            "_view_name": "HBoxView",
            "box_style": "",
            "children": [
              "IPY_MODEL_239868694e364523b9ec10ad4f6e85f8",
              "IPY_MODEL_9f472d95585a4968bc9cef2694492fde",
              "IPY_MODEL_7e857350e44045d08308cb75dfa6000b"
            ],
            "layout": "IPY_MODEL_35df674634864f80a97b78867a8c10ba"
          }
        },
        "239868694e364523b9ec10ad4f6e85f8": {
          "model_module": "@jupyter-widgets/controls",
          "model_name": "HTMLModel",
          "model_module_version": "1.5.0",
          "state": {
            "_dom_classes": [],
            "_model_module": "@jupyter-widgets/controls",
            "_model_module_version": "1.5.0",
            "_model_name": "HTMLModel",
            "_view_count": null,
            "_view_module": "@jupyter-widgets/controls",
            "_view_module_version": "1.5.0",
            "_view_name": "HTMLView",
            "description": "",
            "description_tooltip": null,
            "layout": "IPY_MODEL_e0ed4ac91a8a4ab0b3b43a7c2ae8d8c7",
            "placeholder": "​",
            "style": "IPY_MODEL_2ac95af44b0d4587aecd7f5a4dbd86b2",
            "value": "Downloading: 100%"
          }
        },
        "9f472d95585a4968bc9cef2694492fde": {
          "model_module": "@jupyter-widgets/controls",
          "model_name": "FloatProgressModel",
          "model_module_version": "1.5.0",
          "state": {
            "_dom_classes": [],
            "_model_module": "@jupyter-widgets/controls",
            "_model_module_version": "1.5.0",
            "_model_name": "FloatProgressModel",
            "_view_count": null,
            "_view_module": "@jupyter-widgets/controls",
            "_view_module_version": "1.5.0",
            "_view_name": "ProgressView",
            "bar_style": "success",
            "description": "",
            "description_tooltip": null,
            "layout": "IPY_MODEL_b65cc05858e84c818108c0e4f12c7897",
            "max": 648,
            "min": 0,
            "orientation": "horizontal",
            "style": "IPY_MODEL_366c4e44c520451a9e247fe7ddf8dbbf",
            "value": 648
          }
        },
        "7e857350e44045d08308cb75dfa6000b": {
          "model_module": "@jupyter-widgets/controls",
          "model_name": "HTMLModel",
          "model_module_version": "1.5.0",
          "state": {
            "_dom_classes": [],
            "_model_module": "@jupyter-widgets/controls",
            "_model_module_version": "1.5.0",
            "_model_name": "HTMLModel",
            "_view_count": null,
            "_view_module": "@jupyter-widgets/controls",
            "_view_module_version": "1.5.0",
            "_view_name": "HTMLView",
            "description": "",
            "description_tooltip": null,
            "layout": "IPY_MODEL_3af7ec37e7b64cf292e27b6720f85ed3",
            "placeholder": "​",
            "style": "IPY_MODEL_df2ce757e0344e9ea6c53ba2b40c3f56",
            "value": " 648/648 [00:00&lt;00:00, 12.3kB/s]"
          }
        },
        "35df674634864f80a97b78867a8c10ba": {
          "model_module": "@jupyter-widgets/base",
          "model_name": "LayoutModel",
          "model_module_version": "1.2.0",
          "state": {
            "_model_module": "@jupyter-widgets/base",
            "_model_module_version": "1.2.0",
            "_model_name": "LayoutModel",
            "_view_count": null,
            "_view_module": "@jupyter-widgets/base",
            "_view_module_version": "1.2.0",
            "_view_name": "LayoutView",
            "align_content": null,
            "align_items": null,
            "align_self": null,
            "border": null,
            "bottom": null,
            "display": null,
            "flex": null,
            "flex_flow": null,
            "grid_area": null,
            "grid_auto_columns": null,
            "grid_auto_flow": null,
            "grid_auto_rows": null,
            "grid_column": null,
            "grid_gap": null,
            "grid_row": null,
            "grid_template_areas": null,
            "grid_template_columns": null,
            "grid_template_rows": null,
            "height": null,
            "justify_content": null,
            "justify_items": null,
            "left": null,
            "margin": null,
            "max_height": null,
            "max_width": null,
            "min_height": null,
            "min_width": null,
            "object_fit": null,
            "object_position": null,
            "order": null,
            "overflow": null,
            "overflow_x": null,
            "overflow_y": null,
            "padding": null,
            "right": null,
            "top": null,
            "visibility": null,
            "width": null
          }
        },
        "e0ed4ac91a8a4ab0b3b43a7c2ae8d8c7": {
          "model_module": "@jupyter-widgets/base",
          "model_name": "LayoutModel",
          "model_module_version": "1.2.0",
          "state": {
            "_model_module": "@jupyter-widgets/base",
            "_model_module_version": "1.2.0",
            "_model_name": "LayoutModel",
            "_view_count": null,
            "_view_module": "@jupyter-widgets/base",
            "_view_module_version": "1.2.0",
            "_view_name": "LayoutView",
            "align_content": null,
            "align_items": null,
            "align_self": null,
            "border": null,
            "bottom": null,
            "display": null,
            "flex": null,
            "flex_flow": null,
            "grid_area": null,
            "grid_auto_columns": null,
            "grid_auto_flow": null,
            "grid_auto_rows": null,
            "grid_column": null,
            "grid_gap": null,
            "grid_row": null,
            "grid_template_areas": null,
            "grid_template_columns": null,
            "grid_template_rows": null,
            "height": null,
            "justify_content": null,
            "justify_items": null,
            "left": null,
            "margin": null,
            "max_height": null,
            "max_width": null,
            "min_height": null,
            "min_width": null,
            "object_fit": null,
            "object_position": null,
            "order": null,
            "overflow": null,
            "overflow_x": null,
            "overflow_y": null,
            "padding": null,
            "right": null,
            "top": null,
            "visibility": null,
            "width": null
          }
        },
        "2ac95af44b0d4587aecd7f5a4dbd86b2": {
          "model_module": "@jupyter-widgets/controls",
          "model_name": "DescriptionStyleModel",
          "model_module_version": "1.5.0",
          "state": {
            "_model_module": "@jupyter-widgets/controls",
            "_model_module_version": "1.5.0",
            "_model_name": "DescriptionStyleModel",
            "_view_count": null,
            "_view_module": "@jupyter-widgets/base",
            "_view_module_version": "1.2.0",
            "_view_name": "StyleView",
            "description_width": ""
          }
        },
        "b65cc05858e84c818108c0e4f12c7897": {
          "model_module": "@jupyter-widgets/base",
          "model_name": "LayoutModel",
          "model_module_version": "1.2.0",
          "state": {
            "_model_module": "@jupyter-widgets/base",
            "_model_module_version": "1.2.0",
            "_model_name": "LayoutModel",
            "_view_count": null,
            "_view_module": "@jupyter-widgets/base",
            "_view_module_version": "1.2.0",
            "_view_name": "LayoutView",
            "align_content": null,
            "align_items": null,
            "align_self": null,
            "border": null,
            "bottom": null,
            "display": null,
            "flex": null,
            "flex_flow": null,
            "grid_area": null,
            "grid_auto_columns": null,
            "grid_auto_flow": null,
            "grid_auto_rows": null,
            "grid_column": null,
            "grid_gap": null,
            "grid_row": null,
            "grid_template_areas": null,
            "grid_template_columns": null,
            "grid_template_rows": null,
            "height": null,
            "justify_content": null,
            "justify_items": null,
            "left": null,
            "margin": null,
            "max_height": null,
            "max_width": null,
            "min_height": null,
            "min_width": null,
            "object_fit": null,
            "object_position": null,
            "order": null,
            "overflow": null,
            "overflow_x": null,
            "overflow_y": null,
            "padding": null,
            "right": null,
            "top": null,
            "visibility": null,
            "width": null
          }
        },
        "366c4e44c520451a9e247fe7ddf8dbbf": {
          "model_module": "@jupyter-widgets/controls",
          "model_name": "ProgressStyleModel",
          "model_module_version": "1.5.0",
          "state": {
            "_model_module": "@jupyter-widgets/controls",
            "_model_module_version": "1.5.0",
            "_model_name": "ProgressStyleModel",
            "_view_count": null,
            "_view_module": "@jupyter-widgets/base",
            "_view_module_version": "1.2.0",
            "_view_name": "StyleView",
            "bar_color": null,
            "description_width": ""
          }
        },
        "3af7ec37e7b64cf292e27b6720f85ed3": {
          "model_module": "@jupyter-widgets/base",
          "model_name": "LayoutModel",
          "model_module_version": "1.2.0",
          "state": {
            "_model_module": "@jupyter-widgets/base",
            "_model_module_version": "1.2.0",
            "_model_name": "LayoutModel",
            "_view_count": null,
            "_view_module": "@jupyter-widgets/base",
            "_view_module_version": "1.2.0",
            "_view_name": "LayoutView",
            "align_content": null,
            "align_items": null,
            "align_self": null,
            "border": null,
            "bottom": null,
            "display": null,
            "flex": null,
            "flex_flow": null,
            "grid_area": null,
            "grid_auto_columns": null,
            "grid_auto_flow": null,
            "grid_auto_rows": null,
            "grid_column": null,
            "grid_gap": null,
            "grid_row": null,
            "grid_template_areas": null,
            "grid_template_columns": null,
            "grid_template_rows": null,
            "height": null,
            "justify_content": null,
            "justify_items": null,
            "left": null,
            "margin": null,
            "max_height": null,
            "max_width": null,
            "min_height": null,
            "min_width": null,
            "object_fit": null,
            "object_position": null,
            "order": null,
            "overflow": null,
            "overflow_x": null,
            "overflow_y": null,
            "padding": null,
            "right": null,
            "top": null,
            "visibility": null,
            "width": null
          }
        },
        "df2ce757e0344e9ea6c53ba2b40c3f56": {
          "model_module": "@jupyter-widgets/controls",
          "model_name": "DescriptionStyleModel",
          "model_module_version": "1.5.0",
          "state": {
            "_model_module": "@jupyter-widgets/controls",
            "_model_module_version": "1.5.0",
            "_model_name": "DescriptionStyleModel",
            "_view_count": null,
            "_view_module": "@jupyter-widgets/base",
            "_view_module_version": "1.2.0",
            "_view_name": "StyleView",
            "description_width": ""
          }
        },
        "97c5cf9f825b4ac0a89d454f4482fc18": {
          "model_module": "@jupyter-widgets/controls",
          "model_name": "HBoxModel",
          "model_module_version": "1.5.0",
          "state": {
            "_dom_classes": [],
            "_model_module": "@jupyter-widgets/controls",
            "_model_module_version": "1.5.0",
            "_model_name": "HBoxModel",
            "_view_count": null,
            "_view_module": "@jupyter-widgets/controls",
            "_view_module_version": "1.5.0",
            "_view_name": "HBoxView",
            "box_style": "",
            "children": [
              "IPY_MODEL_1d366564ce9648d9adf7bd1450f94477",
              "IPY_MODEL_c6726b9a4216429da4969dc7598f2de6",
              "IPY_MODEL_31f4d3166e504b40bb0dfe4c4b925d16"
            ],
            "layout": "IPY_MODEL_395455771b5a407488b34985f3a225c0"
          }
        },
        "1d366564ce9648d9adf7bd1450f94477": {
          "model_module": "@jupyter-widgets/controls",
          "model_name": "HTMLModel",
          "model_module_version": "1.5.0",
          "state": {
            "_dom_classes": [],
            "_model_module": "@jupyter-widgets/controls",
            "_model_module_version": "1.5.0",
            "_model_name": "HTMLModel",
            "_view_count": null,
            "_view_module": "@jupyter-widgets/controls",
            "_view_module_version": "1.5.0",
            "_view_name": "HTMLView",
            "description": "",
            "description_tooltip": null,
            "layout": "IPY_MODEL_495e1ad49e4e41acbeeb27a7f6ef84df",
            "placeholder": "​",
            "style": "IPY_MODEL_862eb4aa00d14aa396235c3e6e8e4b8d",
            "value": "Downloading: 100%"
          }
        },
        "c6726b9a4216429da4969dc7598f2de6": {
          "model_module": "@jupyter-widgets/controls",
          "model_name": "FloatProgressModel",
          "model_module_version": "1.5.0",
          "state": {
            "_dom_classes": [],
            "_model_module": "@jupyter-widgets/controls",
            "_model_module_version": "1.5.0",
            "_model_name": "FloatProgressModel",
            "_view_count": null,
            "_view_module": "@jupyter-widgets/controls",
            "_view_module_version": "1.5.0",
            "_view_name": "ProgressView",
            "bar_style": "success",
            "description": "",
            "description_tooltip": null,
            "layout": "IPY_MODEL_303b93e732c04417b54c034837f61f17",
            "max": 209528,
            "min": 0,
            "orientation": "horizontal",
            "style": "IPY_MODEL_a5c5f5da7bf44072ad89ccc872cfd3ca",
            "value": 209528
          }
        },
        "31f4d3166e504b40bb0dfe4c4b925d16": {
          "model_module": "@jupyter-widgets/controls",
          "model_name": "HTMLModel",
          "model_module_version": "1.5.0",
          "state": {
            "_dom_classes": [],
            "_model_module": "@jupyter-widgets/controls",
            "_model_module_version": "1.5.0",
            "_model_name": "HTMLModel",
            "_view_count": null,
            "_view_module": "@jupyter-widgets/controls",
            "_view_module_version": "1.5.0",
            "_view_name": "HTMLView",
            "description": "",
            "description_tooltip": null,
            "layout": "IPY_MODEL_5cb414f81752463a881a69c1a579ad2f",
            "placeholder": "​",
            "style": "IPY_MODEL_29b581742fcc42b4bbafc71273d6336e",
            "value": " 205k/205k [00:00&lt;00:00, 270kB/s]"
          }
        },
        "395455771b5a407488b34985f3a225c0": {
          "model_module": "@jupyter-widgets/base",
          "model_name": "LayoutModel",
          "model_module_version": "1.2.0",
          "state": {
            "_model_module": "@jupyter-widgets/base",
            "_model_module_version": "1.2.0",
            "_model_name": "LayoutModel",
            "_view_count": null,
            "_view_module": "@jupyter-widgets/base",
            "_view_module_version": "1.2.0",
            "_view_name": "LayoutView",
            "align_content": null,
            "align_items": null,
            "align_self": null,
            "border": null,
            "bottom": null,
            "display": null,
            "flex": null,
            "flex_flow": null,
            "grid_area": null,
            "grid_auto_columns": null,
            "grid_auto_flow": null,
            "grid_auto_rows": null,
            "grid_column": null,
            "grid_gap": null,
            "grid_row": null,
            "grid_template_areas": null,
            "grid_template_columns": null,
            "grid_template_rows": null,
            "height": null,
            "justify_content": null,
            "justify_items": null,
            "left": null,
            "margin": null,
            "max_height": null,
            "max_width": null,
            "min_height": null,
            "min_width": null,
            "object_fit": null,
            "object_position": null,
            "order": null,
            "overflow": null,
            "overflow_x": null,
            "overflow_y": null,
            "padding": null,
            "right": null,
            "top": null,
            "visibility": null,
            "width": null
          }
        },
        "495e1ad49e4e41acbeeb27a7f6ef84df": {
          "model_module": "@jupyter-widgets/base",
          "model_name": "LayoutModel",
          "model_module_version": "1.2.0",
          "state": {
            "_model_module": "@jupyter-widgets/base",
            "_model_module_version": "1.2.0",
            "_model_name": "LayoutModel",
            "_view_count": null,
            "_view_module": "@jupyter-widgets/base",
            "_view_module_version": "1.2.0",
            "_view_name": "LayoutView",
            "align_content": null,
            "align_items": null,
            "align_self": null,
            "border": null,
            "bottom": null,
            "display": null,
            "flex": null,
            "flex_flow": null,
            "grid_area": null,
            "grid_auto_columns": null,
            "grid_auto_flow": null,
            "grid_auto_rows": null,
            "grid_column": null,
            "grid_gap": null,
            "grid_row": null,
            "grid_template_areas": null,
            "grid_template_columns": null,
            "grid_template_rows": null,
            "height": null,
            "justify_content": null,
            "justify_items": null,
            "left": null,
            "margin": null,
            "max_height": null,
            "max_width": null,
            "min_height": null,
            "min_width": null,
            "object_fit": null,
            "object_position": null,
            "order": null,
            "overflow": null,
            "overflow_x": null,
            "overflow_y": null,
            "padding": null,
            "right": null,
            "top": null,
            "visibility": null,
            "width": null
          }
        },
        "862eb4aa00d14aa396235c3e6e8e4b8d": {
          "model_module": "@jupyter-widgets/controls",
          "model_name": "DescriptionStyleModel",
          "model_module_version": "1.5.0",
          "state": {
            "_model_module": "@jupyter-widgets/controls",
            "_model_module_version": "1.5.0",
            "_model_name": "DescriptionStyleModel",
            "_view_count": null,
            "_view_module": "@jupyter-widgets/base",
            "_view_module_version": "1.2.0",
            "_view_name": "StyleView",
            "description_width": ""
          }
        },
        "303b93e732c04417b54c034837f61f17": {
          "model_module": "@jupyter-widgets/base",
          "model_name": "LayoutModel",
          "model_module_version": "1.2.0",
          "state": {
            "_model_module": "@jupyter-widgets/base",
            "_model_module_version": "1.2.0",
            "_model_name": "LayoutModel",
            "_view_count": null,
            "_view_module": "@jupyter-widgets/base",
            "_view_module_version": "1.2.0",
            "_view_name": "LayoutView",
            "align_content": null,
            "align_items": null,
            "align_self": null,
            "border": null,
            "bottom": null,
            "display": null,
            "flex": null,
            "flex_flow": null,
            "grid_area": null,
            "grid_auto_columns": null,
            "grid_auto_flow": null,
            "grid_auto_rows": null,
            "grid_column": null,
            "grid_gap": null,
            "grid_row": null,
            "grid_template_areas": null,
            "grid_template_columns": null,
            "grid_template_rows": null,
            "height": null,
            "justify_content": null,
            "justify_items": null,
            "left": null,
            "margin": null,
            "max_height": null,
            "max_width": null,
            "min_height": null,
            "min_width": null,
            "object_fit": null,
            "object_position": null,
            "order": null,
            "overflow": null,
            "overflow_x": null,
            "overflow_y": null,
            "padding": null,
            "right": null,
            "top": null,
            "visibility": null,
            "width": null
          }
        },
        "a5c5f5da7bf44072ad89ccc872cfd3ca": {
          "model_module": "@jupyter-widgets/controls",
          "model_name": "ProgressStyleModel",
          "model_module_version": "1.5.0",
          "state": {
            "_model_module": "@jupyter-widgets/controls",
            "_model_module_version": "1.5.0",
            "_model_name": "ProgressStyleModel",
            "_view_count": null,
            "_view_module": "@jupyter-widgets/base",
            "_view_module_version": "1.2.0",
            "_view_name": "StyleView",
            "bar_color": null,
            "description_width": ""
          }
        },
        "5cb414f81752463a881a69c1a579ad2f": {
          "model_module": "@jupyter-widgets/base",
          "model_name": "LayoutModel",
          "model_module_version": "1.2.0",
          "state": {
            "_model_module": "@jupyter-widgets/base",
            "_model_module_version": "1.2.0",
            "_model_name": "LayoutModel",
            "_view_count": null,
            "_view_module": "@jupyter-widgets/base",
            "_view_module_version": "1.2.0",
            "_view_name": "LayoutView",
            "align_content": null,
            "align_items": null,
            "align_self": null,
            "border": null,
            "bottom": null,
            "display": null,
            "flex": null,
            "flex_flow": null,
            "grid_area": null,
            "grid_auto_columns": null,
            "grid_auto_flow": null,
            "grid_auto_rows": null,
            "grid_column": null,
            "grid_gap": null,
            "grid_row": null,
            "grid_template_areas": null,
            "grid_template_columns": null,
            "grid_template_rows": null,
            "height": null,
            "justify_content": null,
            "justify_items": null,
            "left": null,
            "margin": null,
            "max_height": null,
            "max_width": null,
            "min_height": null,
            "min_width": null,
            "object_fit": null,
            "object_position": null,
            "order": null,
            "overflow": null,
            "overflow_x": null,
            "overflow_y": null,
            "padding": null,
            "right": null,
            "top": null,
            "visibility": null,
            "width": null
          }
        },
        "29b581742fcc42b4bbafc71273d6336e": {
          "model_module": "@jupyter-widgets/controls",
          "model_name": "DescriptionStyleModel",
          "model_module_version": "1.5.0",
          "state": {
            "_model_module": "@jupyter-widgets/controls",
            "_model_module_version": "1.5.0",
            "_model_name": "DescriptionStyleModel",
            "_view_count": null,
            "_view_module": "@jupyter-widgets/base",
            "_view_module_version": "1.2.0",
            "_view_name": "StyleView",
            "description_width": ""
          }
        },
        "8f55a15b70fb44788f9f8018b1539339": {
          "model_module": "@jupyter-widgets/controls",
          "model_name": "HBoxModel",
          "model_module_version": "1.5.0",
          "state": {
            "_dom_classes": [],
            "_model_module": "@jupyter-widgets/controls",
            "_model_module_version": "1.5.0",
            "_model_name": "HBoxModel",
            "_view_count": null,
            "_view_module": "@jupyter-widgets/controls",
            "_view_module_version": "1.5.0",
            "_view_name": "HBoxView",
            "box_style": "",
            "children": [
              "IPY_MODEL_57305ddfa3984941b241454223327da7",
              "IPY_MODEL_df4865e629f1413ba22ccf2192694fd7",
              "IPY_MODEL_afb3b7e7a79042d5b66dc817b3169e86"
            ],
            "layout": "IPY_MODEL_299b84022f244439a13a01929320878d"
          }
        },
        "57305ddfa3984941b241454223327da7": {
          "model_module": "@jupyter-widgets/controls",
          "model_name": "HTMLModel",
          "model_module_version": "1.5.0",
          "state": {
            "_dom_classes": [],
            "_model_module": "@jupyter-widgets/controls",
            "_model_module_version": "1.5.0",
            "_model_name": "HTMLModel",
            "_view_count": null,
            "_view_module": "@jupyter-widgets/controls",
            "_view_module_version": "1.5.0",
            "_view_name": "HTMLView",
            "description": "",
            "description_tooltip": null,
            "layout": "IPY_MODEL_aaad25609be94cd3aa1242f277e2fbf9",
            "placeholder": "​",
            "style": "IPY_MODEL_c7f99d7feb0749bfa46744faa9cdef94",
            "value": "Downloading: 100%"
          }
        },
        "df4865e629f1413ba22ccf2192694fd7": {
          "model_module": "@jupyter-widgets/controls",
          "model_name": "FloatProgressModel",
          "model_module_version": "1.5.0",
          "state": {
            "_dom_classes": [],
            "_model_module": "@jupyter-widgets/controls",
            "_model_module_version": "1.5.0",
            "_model_name": "FloatProgressModel",
            "_view_count": null,
            "_view_module": "@jupyter-widgets/controls",
            "_view_module_version": "1.5.0",
            "_view_name": "ProgressView",
            "bar_style": "success",
            "description": "",
            "description_tooltip": null,
            "layout": "IPY_MODEL_12abee2b044e42e69953108846e835a2",
            "max": 2,
            "min": 0,
            "orientation": "horizontal",
            "style": "IPY_MODEL_c948f6129958473eba05ee0ce096ec1e",
            "value": 2
          }
        },
        "afb3b7e7a79042d5b66dc817b3169e86": {
          "model_module": "@jupyter-widgets/controls",
          "model_name": "HTMLModel",
          "model_module_version": "1.5.0",
          "state": {
            "_dom_classes": [],
            "_model_module": "@jupyter-widgets/controls",
            "_model_module_version": "1.5.0",
            "_model_name": "HTMLModel",
            "_view_count": null,
            "_view_module": "@jupyter-widgets/controls",
            "_view_module_version": "1.5.0",
            "_view_name": "HTMLView",
            "description": "",
            "description_tooltip": null,
            "layout": "IPY_MODEL_4e33cad77582481f988f3a352b7921bc",
            "placeholder": "​",
            "style": "IPY_MODEL_ae561dbcd4db43a686f0edef5db2112a",
            "value": " 2.00/2.00 [00:00&lt;00:00, 52.2B/s]"
          }
        },
        "299b84022f244439a13a01929320878d": {
          "model_module": "@jupyter-widgets/base",
          "model_name": "LayoutModel",
          "model_module_version": "1.2.0",
          "state": {
            "_model_module": "@jupyter-widgets/base",
            "_model_module_version": "1.2.0",
            "_model_name": "LayoutModel",
            "_view_count": null,
            "_view_module": "@jupyter-widgets/base",
            "_view_module_version": "1.2.0",
            "_view_name": "LayoutView",
            "align_content": null,
            "align_items": null,
            "align_self": null,
            "border": null,
            "bottom": null,
            "display": null,
            "flex": null,
            "flex_flow": null,
            "grid_area": null,
            "grid_auto_columns": null,
            "grid_auto_flow": null,
            "grid_auto_rows": null,
            "grid_column": null,
            "grid_gap": null,
            "grid_row": null,
            "grid_template_areas": null,
            "grid_template_columns": null,
            "grid_template_rows": null,
            "height": null,
            "justify_content": null,
            "justify_items": null,
            "left": null,
            "margin": null,
            "max_height": null,
            "max_width": null,
            "min_height": null,
            "min_width": null,
            "object_fit": null,
            "object_position": null,
            "order": null,
            "overflow": null,
            "overflow_x": null,
            "overflow_y": null,
            "padding": null,
            "right": null,
            "top": null,
            "visibility": null,
            "width": null
          }
        },
        "aaad25609be94cd3aa1242f277e2fbf9": {
          "model_module": "@jupyter-widgets/base",
          "model_name": "LayoutModel",
          "model_module_version": "1.2.0",
          "state": {
            "_model_module": "@jupyter-widgets/base",
            "_model_module_version": "1.2.0",
            "_model_name": "LayoutModel",
            "_view_count": null,
            "_view_module": "@jupyter-widgets/base",
            "_view_module_version": "1.2.0",
            "_view_name": "LayoutView",
            "align_content": null,
            "align_items": null,
            "align_self": null,
            "border": null,
            "bottom": null,
            "display": null,
            "flex": null,
            "flex_flow": null,
            "grid_area": null,
            "grid_auto_columns": null,
            "grid_auto_flow": null,
            "grid_auto_rows": null,
            "grid_column": null,
            "grid_gap": null,
            "grid_row": null,
            "grid_template_areas": null,
            "grid_template_columns": null,
            "grid_template_rows": null,
            "height": null,
            "justify_content": null,
            "justify_items": null,
            "left": null,
            "margin": null,
            "max_height": null,
            "max_width": null,
            "min_height": null,
            "min_width": null,
            "object_fit": null,
            "object_position": null,
            "order": null,
            "overflow": null,
            "overflow_x": null,
            "overflow_y": null,
            "padding": null,
            "right": null,
            "top": null,
            "visibility": null,
            "width": null
          }
        },
        "c7f99d7feb0749bfa46744faa9cdef94": {
          "model_module": "@jupyter-widgets/controls",
          "model_name": "DescriptionStyleModel",
          "model_module_version": "1.5.0",
          "state": {
            "_model_module": "@jupyter-widgets/controls",
            "_model_module_version": "1.5.0",
            "_model_name": "DescriptionStyleModel",
            "_view_count": null,
            "_view_module": "@jupyter-widgets/base",
            "_view_module_version": "1.2.0",
            "_view_name": "StyleView",
            "description_width": ""
          }
        },
        "12abee2b044e42e69953108846e835a2": {
          "model_module": "@jupyter-widgets/base",
          "model_name": "LayoutModel",
          "model_module_version": "1.2.0",
          "state": {
            "_model_module": "@jupyter-widgets/base",
            "_model_module_version": "1.2.0",
            "_model_name": "LayoutModel",
            "_view_count": null,
            "_view_module": "@jupyter-widgets/base",
            "_view_module_version": "1.2.0",
            "_view_name": "LayoutView",
            "align_content": null,
            "align_items": null,
            "align_self": null,
            "border": null,
            "bottom": null,
            "display": null,
            "flex": null,
            "flex_flow": null,
            "grid_area": null,
            "grid_auto_columns": null,
            "grid_auto_flow": null,
            "grid_auto_rows": null,
            "grid_column": null,
            "grid_gap": null,
            "grid_row": null,
            "grid_template_areas": null,
            "grid_template_columns": null,
            "grid_template_rows": null,
            "height": null,
            "justify_content": null,
            "justify_items": null,
            "left": null,
            "margin": null,
            "max_height": null,
            "max_width": null,
            "min_height": null,
            "min_width": null,
            "object_fit": null,
            "object_position": null,
            "order": null,
            "overflow": null,
            "overflow_x": null,
            "overflow_y": null,
            "padding": null,
            "right": null,
            "top": null,
            "visibility": null,
            "width": null
          }
        },
        "c948f6129958473eba05ee0ce096ec1e": {
          "model_module": "@jupyter-widgets/controls",
          "model_name": "ProgressStyleModel",
          "model_module_version": "1.5.0",
          "state": {
            "_model_module": "@jupyter-widgets/controls",
            "_model_module_version": "1.5.0",
            "_model_name": "ProgressStyleModel",
            "_view_count": null,
            "_view_module": "@jupyter-widgets/base",
            "_view_module_version": "1.2.0",
            "_view_name": "StyleView",
            "bar_color": null,
            "description_width": ""
          }
        },
        "4e33cad77582481f988f3a352b7921bc": {
          "model_module": "@jupyter-widgets/base",
          "model_name": "LayoutModel",
          "model_module_version": "1.2.0",
          "state": {
            "_model_module": "@jupyter-widgets/base",
            "_model_module_version": "1.2.0",
            "_model_name": "LayoutModel",
            "_view_count": null,
            "_view_module": "@jupyter-widgets/base",
            "_view_module_version": "1.2.0",
            "_view_name": "LayoutView",
            "align_content": null,
            "align_items": null,
            "align_self": null,
            "border": null,
            "bottom": null,
            "display": null,
            "flex": null,
            "flex_flow": null,
            "grid_area": null,
            "grid_auto_columns": null,
            "grid_auto_flow": null,
            "grid_auto_rows": null,
            "grid_column": null,
            "grid_gap": null,
            "grid_row": null,
            "grid_template_areas": null,
            "grid_template_columns": null,
            "grid_template_rows": null,
            "height": null,
            "justify_content": null,
            "justify_items": null,
            "left": null,
            "margin": null,
            "max_height": null,
            "max_width": null,
            "min_height": null,
            "min_width": null,
            "object_fit": null,
            "object_position": null,
            "order": null,
            "overflow": null,
            "overflow_x": null,
            "overflow_y": null,
            "padding": null,
            "right": null,
            "top": null,
            "visibility": null,
            "width": null
          }
        },
        "ae561dbcd4db43a686f0edef5db2112a": {
          "model_module": "@jupyter-widgets/controls",
          "model_name": "DescriptionStyleModel",
          "model_module_version": "1.5.0",
          "state": {
            "_model_module": "@jupyter-widgets/controls",
            "_model_module_version": "1.5.0",
            "_model_name": "DescriptionStyleModel",
            "_view_count": null,
            "_view_module": "@jupyter-widgets/base",
            "_view_module_version": "1.2.0",
            "_view_name": "StyleView",
            "description_width": ""
          }
        },
        "e7c0e5d42a64469c8170488a597b675f": {
          "model_module": "@jupyter-widgets/controls",
          "model_name": "HBoxModel",
          "model_module_version": "1.5.0",
          "state": {
            "_dom_classes": [],
            "_model_module": "@jupyter-widgets/controls",
            "_model_module_version": "1.5.0",
            "_model_name": "HBoxModel",
            "_view_count": null,
            "_view_module": "@jupyter-widgets/controls",
            "_view_module_version": "1.5.0",
            "_view_name": "HBoxView",
            "box_style": "",
            "children": [
              "IPY_MODEL_ed60c63cc30f4072a1b87f24894fc648",
              "IPY_MODEL_375fc399f8d34ff8b099482392001583",
              "IPY_MODEL_6e5c5c39d95b44578bdbbdd192b99e30"
            ],
            "layout": "IPY_MODEL_199a40fc91824e6dac90c33429e23bce"
          }
        },
        "ed60c63cc30f4072a1b87f24894fc648": {
          "model_module": "@jupyter-widgets/controls",
          "model_name": "HTMLModel",
          "model_module_version": "1.5.0",
          "state": {
            "_dom_classes": [],
            "_model_module": "@jupyter-widgets/controls",
            "_model_module_version": "1.5.0",
            "_model_name": "HTMLModel",
            "_view_count": null,
            "_view_module": "@jupyter-widgets/controls",
            "_view_module_version": "1.5.0",
            "_view_name": "HTMLView",
            "description": "",
            "description_tooltip": null,
            "layout": "IPY_MODEL_073fb69369ae494fb3543c916f357edf",
            "placeholder": "​",
            "style": "IPY_MODEL_94712be4762f4312bd051f003d272a95",
            "value": "Downloading: 100%"
          }
        },
        "375fc399f8d34ff8b099482392001583": {
          "model_module": "@jupyter-widgets/controls",
          "model_name": "FloatProgressModel",
          "model_module_version": "1.5.0",
          "state": {
            "_dom_classes": [],
            "_model_module": "@jupyter-widgets/controls",
            "_model_module_version": "1.5.0",
            "_model_name": "FloatProgressModel",
            "_view_count": null,
            "_view_module": "@jupyter-widgets/controls",
            "_view_module_version": "1.5.0",
            "_view_name": "ProgressView",
            "bar_style": "success",
            "description": "",
            "description_tooltip": null,
            "layout": "IPY_MODEL_e962c5063d454452aee8d83b050e2311",
            "max": 112,
            "min": 0,
            "orientation": "horizontal",
            "style": "IPY_MODEL_4053253d2b6a483e83ec784eb6e4981f",
            "value": 112
          }
        },
        "6e5c5c39d95b44578bdbbdd192b99e30": {
          "model_module": "@jupyter-widgets/controls",
          "model_name": "HTMLModel",
          "model_module_version": "1.5.0",
          "state": {
            "_dom_classes": [],
            "_model_module": "@jupyter-widgets/controls",
            "_model_module_version": "1.5.0",
            "_model_name": "HTMLModel",
            "_view_count": null,
            "_view_module": "@jupyter-widgets/controls",
            "_view_module_version": "1.5.0",
            "_view_name": "HTMLView",
            "description": "",
            "description_tooltip": null,
            "layout": "IPY_MODEL_d0ef727bdf2841fdb24277993291c97d",
            "placeholder": "​",
            "style": "IPY_MODEL_92507aae77d14368b23d0f5dfa9b104e",
            "value": " 112/112 [00:00&lt;00:00, 3.21kB/s]"
          }
        },
        "199a40fc91824e6dac90c33429e23bce": {
          "model_module": "@jupyter-widgets/base",
          "model_name": "LayoutModel",
          "model_module_version": "1.2.0",
          "state": {
            "_model_module": "@jupyter-widgets/base",
            "_model_module_version": "1.2.0",
            "_model_name": "LayoutModel",
            "_view_count": null,
            "_view_module": "@jupyter-widgets/base",
            "_view_module_version": "1.2.0",
            "_view_name": "LayoutView",
            "align_content": null,
            "align_items": null,
            "align_self": null,
            "border": null,
            "bottom": null,
            "display": null,
            "flex": null,
            "flex_flow": null,
            "grid_area": null,
            "grid_auto_columns": null,
            "grid_auto_flow": null,
            "grid_auto_rows": null,
            "grid_column": null,
            "grid_gap": null,
            "grid_row": null,
            "grid_template_areas": null,
            "grid_template_columns": null,
            "grid_template_rows": null,
            "height": null,
            "justify_content": null,
            "justify_items": null,
            "left": null,
            "margin": null,
            "max_height": null,
            "max_width": null,
            "min_height": null,
            "min_width": null,
            "object_fit": null,
            "object_position": null,
            "order": null,
            "overflow": null,
            "overflow_x": null,
            "overflow_y": null,
            "padding": null,
            "right": null,
            "top": null,
            "visibility": null,
            "width": null
          }
        },
        "073fb69369ae494fb3543c916f357edf": {
          "model_module": "@jupyter-widgets/base",
          "model_name": "LayoutModel",
          "model_module_version": "1.2.0",
          "state": {
            "_model_module": "@jupyter-widgets/base",
            "_model_module_version": "1.2.0",
            "_model_name": "LayoutModel",
            "_view_count": null,
            "_view_module": "@jupyter-widgets/base",
            "_view_module_version": "1.2.0",
            "_view_name": "LayoutView",
            "align_content": null,
            "align_items": null,
            "align_self": null,
            "border": null,
            "bottom": null,
            "display": null,
            "flex": null,
            "flex_flow": null,
            "grid_area": null,
            "grid_auto_columns": null,
            "grid_auto_flow": null,
            "grid_auto_rows": null,
            "grid_column": null,
            "grid_gap": null,
            "grid_row": null,
            "grid_template_areas": null,
            "grid_template_columns": null,
            "grid_template_rows": null,
            "height": null,
            "justify_content": null,
            "justify_items": null,
            "left": null,
            "margin": null,
            "max_height": null,
            "max_width": null,
            "min_height": null,
            "min_width": null,
            "object_fit": null,
            "object_position": null,
            "order": null,
            "overflow": null,
            "overflow_x": null,
            "overflow_y": null,
            "padding": null,
            "right": null,
            "top": null,
            "visibility": null,
            "width": null
          }
        },
        "94712be4762f4312bd051f003d272a95": {
          "model_module": "@jupyter-widgets/controls",
          "model_name": "DescriptionStyleModel",
          "model_module_version": "1.5.0",
          "state": {
            "_model_module": "@jupyter-widgets/controls",
            "_model_module_version": "1.5.0",
            "_model_name": "DescriptionStyleModel",
            "_view_count": null,
            "_view_module": "@jupyter-widgets/base",
            "_view_module_version": "1.2.0",
            "_view_name": "StyleView",
            "description_width": ""
          }
        },
        "e962c5063d454452aee8d83b050e2311": {
          "model_module": "@jupyter-widgets/base",
          "model_name": "LayoutModel",
          "model_module_version": "1.2.0",
          "state": {
            "_model_module": "@jupyter-widgets/base",
            "_model_module_version": "1.2.0",
            "_model_name": "LayoutModel",
            "_view_count": null,
            "_view_module": "@jupyter-widgets/base",
            "_view_module_version": "1.2.0",
            "_view_name": "LayoutView",
            "align_content": null,
            "align_items": null,
            "align_self": null,
            "border": null,
            "bottom": null,
            "display": null,
            "flex": null,
            "flex_flow": null,
            "grid_area": null,
            "grid_auto_columns": null,
            "grid_auto_flow": null,
            "grid_auto_rows": null,
            "grid_column": null,
            "grid_gap": null,
            "grid_row": null,
            "grid_template_areas": null,
            "grid_template_columns": null,
            "grid_template_rows": null,
            "height": null,
            "justify_content": null,
            "justify_items": null,
            "left": null,
            "margin": null,
            "max_height": null,
            "max_width": null,
            "min_height": null,
            "min_width": null,
            "object_fit": null,
            "object_position": null,
            "order": null,
            "overflow": null,
            "overflow_x": null,
            "overflow_y": null,
            "padding": null,
            "right": null,
            "top": null,
            "visibility": null,
            "width": null
          }
        },
        "4053253d2b6a483e83ec784eb6e4981f": {
          "model_module": "@jupyter-widgets/controls",
          "model_name": "ProgressStyleModel",
          "model_module_version": "1.5.0",
          "state": {
            "_model_module": "@jupyter-widgets/controls",
            "_model_module_version": "1.5.0",
            "_model_name": "ProgressStyleModel",
            "_view_count": null,
            "_view_module": "@jupyter-widgets/base",
            "_view_module_version": "1.2.0",
            "_view_name": "StyleView",
            "bar_color": null,
            "description_width": ""
          }
        },
        "d0ef727bdf2841fdb24277993291c97d": {
          "model_module": "@jupyter-widgets/base",
          "model_name": "LayoutModel",
          "model_module_version": "1.2.0",
          "state": {
            "_model_module": "@jupyter-widgets/base",
            "_model_module_version": "1.2.0",
            "_model_name": "LayoutModel",
            "_view_count": null,
            "_view_module": "@jupyter-widgets/base",
            "_view_module_version": "1.2.0",
            "_view_name": "LayoutView",
            "align_content": null,
            "align_items": null,
            "align_self": null,
            "border": null,
            "bottom": null,
            "display": null,
            "flex": null,
            "flex_flow": null,
            "grid_area": null,
            "grid_auto_columns": null,
            "grid_auto_flow": null,
            "grid_auto_rows": null,
            "grid_column": null,
            "grid_gap": null,
            "grid_row": null,
            "grid_template_areas": null,
            "grid_template_columns": null,
            "grid_template_rows": null,
            "height": null,
            "justify_content": null,
            "justify_items": null,
            "left": null,
            "margin": null,
            "max_height": null,
            "max_width": null,
            "min_height": null,
            "min_width": null,
            "object_fit": null,
            "object_position": null,
            "order": null,
            "overflow": null,
            "overflow_x": null,
            "overflow_y": null,
            "padding": null,
            "right": null,
            "top": null,
            "visibility": null,
            "width": null
          }
        },
        "92507aae77d14368b23d0f5dfa9b104e": {
          "model_module": "@jupyter-widgets/controls",
          "model_name": "DescriptionStyleModel",
          "model_module_version": "1.5.0",
          "state": {
            "_model_module": "@jupyter-widgets/controls",
            "_model_module_version": "1.5.0",
            "_model_name": "DescriptionStyleModel",
            "_view_count": null,
            "_view_module": "@jupyter-widgets/base",
            "_view_module_version": "1.2.0",
            "_view_name": "StyleView",
            "description_width": ""
          }
        },
        "1e5fef1b648545f6af528322815723a4": {
          "model_module": "@jupyter-widgets/controls",
          "model_name": "HBoxModel",
          "model_module_version": "1.5.0",
          "state": {
            "_dom_classes": [],
            "_model_module": "@jupyter-widgets/controls",
            "_model_module_version": "1.5.0",
            "_model_name": "HBoxModel",
            "_view_count": null,
            "_view_module": "@jupyter-widgets/controls",
            "_view_module_version": "1.5.0",
            "_view_name": "HBoxView",
            "box_style": "",
            "children": [
              "IPY_MODEL_862ffe693ea647aebeddca941be9fe5d",
              "IPY_MODEL_023565512f4648d39cd07600b2cae51f",
              "IPY_MODEL_9eed0178b66544009b2400c68c83cd4e"
            ],
            "layout": "IPY_MODEL_0182a0ecd73441a89250a759572ac39c"
          }
        },
        "862ffe693ea647aebeddca941be9fe5d": {
          "model_module": "@jupyter-widgets/controls",
          "model_name": "HTMLModel",
          "model_module_version": "1.5.0",
          "state": {
            "_dom_classes": [],
            "_model_module": "@jupyter-widgets/controls",
            "_model_module_version": "1.5.0",
            "_model_name": "HTMLModel",
            "_view_count": null,
            "_view_module": "@jupyter-widgets/controls",
            "_view_module_version": "1.5.0",
            "_view_name": "HTMLView",
            "description": "",
            "description_tooltip": null,
            "layout": "IPY_MODEL_2ec0afd693e74b9ea85ead99dd8d88dd",
            "placeholder": "​",
            "style": "IPY_MODEL_023620a0a21244f7a508a7bce77fe3d5",
            "value": "Downloading: 100%"
          }
        },
        "023565512f4648d39cd07600b2cae51f": {
          "model_module": "@jupyter-widgets/controls",
          "model_name": "FloatProgressModel",
          "model_module_version": "1.5.0",
          "state": {
            "_dom_classes": [],
            "_model_module": "@jupyter-widgets/controls",
            "_model_module_version": "1.5.0",
            "_model_name": "FloatProgressModel",
            "_view_count": null,
            "_view_module": "@jupyter-widgets/controls",
            "_view_module_version": "1.5.0",
            "_view_name": "ProgressView",
            "bar_style": "success",
            "description": "",
            "description_tooltip": null,
            "layout": "IPY_MODEL_8af08cf406be4477af0a3411521ab83a",
            "max": 1342014951,
            "min": 0,
            "orientation": "horizontal",
            "style": "IPY_MODEL_e6dee638667c4d278fca3abdca6d898e",
            "value": 1342014951
          }
        },
        "9eed0178b66544009b2400c68c83cd4e": {
          "model_module": "@jupyter-widgets/controls",
          "model_name": "HTMLModel",
          "model_module_version": "1.5.0",
          "state": {
            "_dom_classes": [],
            "_model_module": "@jupyter-widgets/controls",
            "_model_module_version": "1.5.0",
            "_model_name": "HTMLModel",
            "_view_count": null,
            "_view_module": "@jupyter-widgets/controls",
            "_view_module_version": "1.5.0",
            "_view_name": "HTMLView",
            "description": "",
            "description_tooltip": null,
            "layout": "IPY_MODEL_076427369d504de386c34392dcb813bc",
            "placeholder": "​",
            "style": "IPY_MODEL_2543839346d5435b8a6b961668bcf8a1",
            "value": " 1.25G/1.25G [00:32&lt;00:00, 16.6MB/s]"
          }
        },
        "0182a0ecd73441a89250a759572ac39c": {
          "model_module": "@jupyter-widgets/base",
          "model_name": "LayoutModel",
          "model_module_version": "1.2.0",
          "state": {
            "_model_module": "@jupyter-widgets/base",
            "_model_module_version": "1.2.0",
            "_model_name": "LayoutModel",
            "_view_count": null,
            "_view_module": "@jupyter-widgets/base",
            "_view_module_version": "1.2.0",
            "_view_name": "LayoutView",
            "align_content": null,
            "align_items": null,
            "align_self": null,
            "border": null,
            "bottom": null,
            "display": null,
            "flex": null,
            "flex_flow": null,
            "grid_area": null,
            "grid_auto_columns": null,
            "grid_auto_flow": null,
            "grid_auto_rows": null,
            "grid_column": null,
            "grid_gap": null,
            "grid_row": null,
            "grid_template_areas": null,
            "grid_template_columns": null,
            "grid_template_rows": null,
            "height": null,
            "justify_content": null,
            "justify_items": null,
            "left": null,
            "margin": null,
            "max_height": null,
            "max_width": null,
            "min_height": null,
            "min_width": null,
            "object_fit": null,
            "object_position": null,
            "order": null,
            "overflow": null,
            "overflow_x": null,
            "overflow_y": null,
            "padding": null,
            "right": null,
            "top": null,
            "visibility": null,
            "width": null
          }
        },
        "2ec0afd693e74b9ea85ead99dd8d88dd": {
          "model_module": "@jupyter-widgets/base",
          "model_name": "LayoutModel",
          "model_module_version": "1.2.0",
          "state": {
            "_model_module": "@jupyter-widgets/base",
            "_model_module_version": "1.2.0",
            "_model_name": "LayoutModel",
            "_view_count": null,
            "_view_module": "@jupyter-widgets/base",
            "_view_module_version": "1.2.0",
            "_view_name": "LayoutView",
            "align_content": null,
            "align_items": null,
            "align_self": null,
            "border": null,
            "bottom": null,
            "display": null,
            "flex": null,
            "flex_flow": null,
            "grid_area": null,
            "grid_auto_columns": null,
            "grid_auto_flow": null,
            "grid_auto_rows": null,
            "grid_column": null,
            "grid_gap": null,
            "grid_row": null,
            "grid_template_areas": null,
            "grid_template_columns": null,
            "grid_template_rows": null,
            "height": null,
            "justify_content": null,
            "justify_items": null,
            "left": null,
            "margin": null,
            "max_height": null,
            "max_width": null,
            "min_height": null,
            "min_width": null,
            "object_fit": null,
            "object_position": null,
            "order": null,
            "overflow": null,
            "overflow_x": null,
            "overflow_y": null,
            "padding": null,
            "right": null,
            "top": null,
            "visibility": null,
            "width": null
          }
        },
        "023620a0a21244f7a508a7bce77fe3d5": {
          "model_module": "@jupyter-widgets/controls",
          "model_name": "DescriptionStyleModel",
          "model_module_version": "1.5.0",
          "state": {
            "_model_module": "@jupyter-widgets/controls",
            "_model_module_version": "1.5.0",
            "_model_name": "DescriptionStyleModel",
            "_view_count": null,
            "_view_module": "@jupyter-widgets/base",
            "_view_module_version": "1.2.0",
            "_view_name": "StyleView",
            "description_width": ""
          }
        },
        "8af08cf406be4477af0a3411521ab83a": {
          "model_module": "@jupyter-widgets/base",
          "model_name": "LayoutModel",
          "model_module_version": "1.2.0",
          "state": {
            "_model_module": "@jupyter-widgets/base",
            "_model_module_version": "1.2.0",
            "_model_name": "LayoutModel",
            "_view_count": null,
            "_view_module": "@jupyter-widgets/base",
            "_view_module_version": "1.2.0",
            "_view_name": "LayoutView",
            "align_content": null,
            "align_items": null,
            "align_self": null,
            "border": null,
            "bottom": null,
            "display": null,
            "flex": null,
            "flex_flow": null,
            "grid_area": null,
            "grid_auto_columns": null,
            "grid_auto_flow": null,
            "grid_auto_rows": null,
            "grid_column": null,
            "grid_gap": null,
            "grid_row": null,
            "grid_template_areas": null,
            "grid_template_columns": null,
            "grid_template_rows": null,
            "height": null,
            "justify_content": null,
            "justify_items": null,
            "left": null,
            "margin": null,
            "max_height": null,
            "max_width": null,
            "min_height": null,
            "min_width": null,
            "object_fit": null,
            "object_position": null,
            "order": null,
            "overflow": null,
            "overflow_x": null,
            "overflow_y": null,
            "padding": null,
            "right": null,
            "top": null,
            "visibility": null,
            "width": null
          }
        },
        "e6dee638667c4d278fca3abdca6d898e": {
          "model_module": "@jupyter-widgets/controls",
          "model_name": "ProgressStyleModel",
          "model_module_version": "1.5.0",
          "state": {
            "_model_module": "@jupyter-widgets/controls",
            "_model_module_version": "1.5.0",
            "_model_name": "ProgressStyleModel",
            "_view_count": null,
            "_view_module": "@jupyter-widgets/base",
            "_view_module_version": "1.2.0",
            "_view_name": "StyleView",
            "bar_color": null,
            "description_width": ""
          }
        },
        "076427369d504de386c34392dcb813bc": {
          "model_module": "@jupyter-widgets/base",
          "model_name": "LayoutModel",
          "model_module_version": "1.2.0",
          "state": {
            "_model_module": "@jupyter-widgets/base",
            "_model_module_version": "1.2.0",
            "_model_name": "LayoutModel",
            "_view_count": null,
            "_view_module": "@jupyter-widgets/base",
            "_view_module_version": "1.2.0",
            "_view_name": "LayoutView",
            "align_content": null,
            "align_items": null,
            "align_self": null,
            "border": null,
            "bottom": null,
            "display": null,
            "flex": null,
            "flex_flow": null,
            "grid_area": null,
            "grid_auto_columns": null,
            "grid_auto_flow": null,
            "grid_auto_rows": null,
            "grid_column": null,
            "grid_gap": null,
            "grid_row": null,
            "grid_template_areas": null,
            "grid_template_columns": null,
            "grid_template_rows": null,
            "height": null,
            "justify_content": null,
            "justify_items": null,
            "left": null,
            "margin": null,
            "max_height": null,
            "max_width": null,
            "min_height": null,
            "min_width": null,
            "object_fit": null,
            "object_position": null,
            "order": null,
            "overflow": null,
            "overflow_x": null,
            "overflow_y": null,
            "padding": null,
            "right": null,
            "top": null,
            "visibility": null,
            "width": null
          }
        },
        "2543839346d5435b8a6b961668bcf8a1": {
          "model_module": "@jupyter-widgets/controls",
          "model_name": "DescriptionStyleModel",
          "model_module_version": "1.5.0",
          "state": {
            "_model_module": "@jupyter-widgets/controls",
            "_model_module_version": "1.5.0",
            "_model_name": "DescriptionStyleModel",
            "_view_count": null,
            "_view_module": "@jupyter-widgets/base",
            "_view_module_version": "1.2.0",
            "_view_name": "StyleView",
            "description_width": ""
          }
        },
        "7b28bf4171104b74bd5a135e2b721155": {
          "model_module": "@jupyter-widgets/controls",
          "model_name": "HBoxModel",
          "model_module_version": "1.5.0",
          "state": {
            "_dom_classes": [],
            "_model_module": "@jupyter-widgets/controls",
            "_model_module_version": "1.5.0",
            "_model_name": "HBoxModel",
            "_view_count": null,
            "_view_module": "@jupyter-widgets/controls",
            "_view_module_version": "1.5.0",
            "_view_name": "HBoxView",
            "box_style": "",
            "children": [
              "IPY_MODEL_d8403ded1a9c458fa6d2323200593027",
              "IPY_MODEL_f821adc103854e06833c5837924faaa3",
              "IPY_MODEL_7be99d516d7a4dc1a26cd0b1ffa4805d"
            ],
            "layout": "IPY_MODEL_fe8b8ea771c7490390377569c4a69a8a"
          }
        },
        "d8403ded1a9c458fa6d2323200593027": {
          "model_module": "@jupyter-widgets/controls",
          "model_name": "HTMLModel",
          "model_module_version": "1.5.0",
          "state": {
            "_dom_classes": [],
            "_model_module": "@jupyter-widgets/controls",
            "_model_module_version": "1.5.0",
            "_model_name": "HTMLModel",
            "_view_count": null,
            "_view_module": "@jupyter-widgets/controls",
            "_view_module_version": "1.5.0",
            "_view_name": "HTMLView",
            "description": "",
            "description_tooltip": null,
            "layout": "IPY_MODEL_46a1f6d768804deabbeda27c2be6fa76",
            "placeholder": "​",
            "style": "IPY_MODEL_de928fe62c8a445b8e2dab2ba2804a47",
            "value": "100%"
          }
        },
        "f821adc103854e06833c5837924faaa3": {
          "model_module": "@jupyter-widgets/controls",
          "model_name": "FloatProgressModel",
          "model_module_version": "1.5.0",
          "state": {
            "_dom_classes": [],
            "_model_module": "@jupyter-widgets/controls",
            "_model_module_version": "1.5.0",
            "_model_name": "FloatProgressModel",
            "_view_count": null,
            "_view_module": "@jupyter-widgets/controls",
            "_view_module_version": "1.5.0",
            "_view_name": "ProgressView",
            "bar_style": "success",
            "description": "",
            "description_tooltip": null,
            "layout": "IPY_MODEL_12f6641868074146b7db976979c701a0",
            "max": 6703,
            "min": 0,
            "orientation": "horizontal",
            "style": "IPY_MODEL_ee2bdd41733947228fcfe3d24c7e4f9f",
            "value": 6703
          }
        },
        "7be99d516d7a4dc1a26cd0b1ffa4805d": {
          "model_module": "@jupyter-widgets/controls",
          "model_name": "HTMLModel",
          "model_module_version": "1.5.0",
          "state": {
            "_dom_classes": [],
            "_model_module": "@jupyter-widgets/controls",
            "_model_module_version": "1.5.0",
            "_model_name": "HTMLModel",
            "_view_count": null,
            "_view_module": "@jupyter-widgets/controls",
            "_view_module_version": "1.5.0",
            "_view_name": "HTMLView",
            "description": "",
            "description_tooltip": null,
            "layout": "IPY_MODEL_0e4358c7bac84e72b8874fc7a16af107",
            "placeholder": "​",
            "style": "IPY_MODEL_2230459bd0f3412ca2a5f4360b89200a",
            "value": " 6703/6703 [00:08&lt;00:00, 1086.29it/s]"
          }
        },
        "fe8b8ea771c7490390377569c4a69a8a": {
          "model_module": "@jupyter-widgets/base",
          "model_name": "LayoutModel",
          "model_module_version": "1.2.0",
          "state": {
            "_model_module": "@jupyter-widgets/base",
            "_model_module_version": "1.2.0",
            "_model_name": "LayoutModel",
            "_view_count": null,
            "_view_module": "@jupyter-widgets/base",
            "_view_module_version": "1.2.0",
            "_view_name": "LayoutView",
            "align_content": null,
            "align_items": null,
            "align_self": null,
            "border": null,
            "bottom": null,
            "display": null,
            "flex": null,
            "flex_flow": null,
            "grid_area": null,
            "grid_auto_columns": null,
            "grid_auto_flow": null,
            "grid_auto_rows": null,
            "grid_column": null,
            "grid_gap": null,
            "grid_row": null,
            "grid_template_areas": null,
            "grid_template_columns": null,
            "grid_template_rows": null,
            "height": null,
            "justify_content": null,
            "justify_items": null,
            "left": null,
            "margin": null,
            "max_height": null,
            "max_width": null,
            "min_height": null,
            "min_width": null,
            "object_fit": null,
            "object_position": null,
            "order": null,
            "overflow": null,
            "overflow_x": null,
            "overflow_y": null,
            "padding": null,
            "right": null,
            "top": null,
            "visibility": null,
            "width": null
          }
        },
        "46a1f6d768804deabbeda27c2be6fa76": {
          "model_module": "@jupyter-widgets/base",
          "model_name": "LayoutModel",
          "model_module_version": "1.2.0",
          "state": {
            "_model_module": "@jupyter-widgets/base",
            "_model_module_version": "1.2.0",
            "_model_name": "LayoutModel",
            "_view_count": null,
            "_view_module": "@jupyter-widgets/base",
            "_view_module_version": "1.2.0",
            "_view_name": "LayoutView",
            "align_content": null,
            "align_items": null,
            "align_self": null,
            "border": null,
            "bottom": null,
            "display": null,
            "flex": null,
            "flex_flow": null,
            "grid_area": null,
            "grid_auto_columns": null,
            "grid_auto_flow": null,
            "grid_auto_rows": null,
            "grid_column": null,
            "grid_gap": null,
            "grid_row": null,
            "grid_template_areas": null,
            "grid_template_columns": null,
            "grid_template_rows": null,
            "height": null,
            "justify_content": null,
            "justify_items": null,
            "left": null,
            "margin": null,
            "max_height": null,
            "max_width": null,
            "min_height": null,
            "min_width": null,
            "object_fit": null,
            "object_position": null,
            "order": null,
            "overflow": null,
            "overflow_x": null,
            "overflow_y": null,
            "padding": null,
            "right": null,
            "top": null,
            "visibility": null,
            "width": null
          }
        },
        "de928fe62c8a445b8e2dab2ba2804a47": {
          "model_module": "@jupyter-widgets/controls",
          "model_name": "DescriptionStyleModel",
          "model_module_version": "1.5.0",
          "state": {
            "_model_module": "@jupyter-widgets/controls",
            "_model_module_version": "1.5.0",
            "_model_name": "DescriptionStyleModel",
            "_view_count": null,
            "_view_module": "@jupyter-widgets/base",
            "_view_module_version": "1.2.0",
            "_view_name": "StyleView",
            "description_width": ""
          }
        },
        "12f6641868074146b7db976979c701a0": {
          "model_module": "@jupyter-widgets/base",
          "model_name": "LayoutModel",
          "model_module_version": "1.2.0",
          "state": {
            "_model_module": "@jupyter-widgets/base",
            "_model_module_version": "1.2.0",
            "_model_name": "LayoutModel",
            "_view_count": null,
            "_view_module": "@jupyter-widgets/base",
            "_view_module_version": "1.2.0",
            "_view_name": "LayoutView",
            "align_content": null,
            "align_items": null,
            "align_self": null,
            "border": null,
            "bottom": null,
            "display": null,
            "flex": null,
            "flex_flow": null,
            "grid_area": null,
            "grid_auto_columns": null,
            "grid_auto_flow": null,
            "grid_auto_rows": null,
            "grid_column": null,
            "grid_gap": null,
            "grid_row": null,
            "grid_template_areas": null,
            "grid_template_columns": null,
            "grid_template_rows": null,
            "height": null,
            "justify_content": null,
            "justify_items": null,
            "left": null,
            "margin": null,
            "max_height": null,
            "max_width": null,
            "min_height": null,
            "min_width": null,
            "object_fit": null,
            "object_position": null,
            "order": null,
            "overflow": null,
            "overflow_x": null,
            "overflow_y": null,
            "padding": null,
            "right": null,
            "top": null,
            "visibility": null,
            "width": null
          }
        },
        "ee2bdd41733947228fcfe3d24c7e4f9f": {
          "model_module": "@jupyter-widgets/controls",
          "model_name": "ProgressStyleModel",
          "model_module_version": "1.5.0",
          "state": {
            "_model_module": "@jupyter-widgets/controls",
            "_model_module_version": "1.5.0",
            "_model_name": "ProgressStyleModel",
            "_view_count": null,
            "_view_module": "@jupyter-widgets/base",
            "_view_module_version": "1.2.0",
            "_view_name": "StyleView",
            "bar_color": null,
            "description_width": ""
          }
        },
        "0e4358c7bac84e72b8874fc7a16af107": {
          "model_module": "@jupyter-widgets/base",
          "model_name": "LayoutModel",
          "model_module_version": "1.2.0",
          "state": {
            "_model_module": "@jupyter-widgets/base",
            "_model_module_version": "1.2.0",
            "_model_name": "LayoutModel",
            "_view_count": null,
            "_view_module": "@jupyter-widgets/base",
            "_view_module_version": "1.2.0",
            "_view_name": "LayoutView",
            "align_content": null,
            "align_items": null,
            "align_self": null,
            "border": null,
            "bottom": null,
            "display": null,
            "flex": null,
            "flex_flow": null,
            "grid_area": null,
            "grid_auto_columns": null,
            "grid_auto_flow": null,
            "grid_auto_rows": null,
            "grid_column": null,
            "grid_gap": null,
            "grid_row": null,
            "grid_template_areas": null,
            "grid_template_columns": null,
            "grid_template_rows": null,
            "height": null,
            "justify_content": null,
            "justify_items": null,
            "left": null,
            "margin": null,
            "max_height": null,
            "max_width": null,
            "min_height": null,
            "min_width": null,
            "object_fit": null,
            "object_position": null,
            "order": null,
            "overflow": null,
            "overflow_x": null,
            "overflow_y": null,
            "padding": null,
            "right": null,
            "top": null,
            "visibility": null,
            "width": null
          }
        },
        "2230459bd0f3412ca2a5f4360b89200a": {
          "model_module": "@jupyter-widgets/controls",
          "model_name": "DescriptionStyleModel",
          "model_module_version": "1.5.0",
          "state": {
            "_model_module": "@jupyter-widgets/controls",
            "_model_module_version": "1.5.0",
            "_model_name": "DescriptionStyleModel",
            "_view_count": null,
            "_view_module": "@jupyter-widgets/base",
            "_view_module_version": "1.2.0",
            "_view_name": "StyleView",
            "description_width": ""
          }
        }
      }
    },
    "gpuClass": "standard"
  },
  "nbformat": 4,
  "nbformat_minor": 0
}