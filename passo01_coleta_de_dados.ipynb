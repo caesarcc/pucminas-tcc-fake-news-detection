{
  "cells": [
    {
      "cell_type": "markdown",
      "metadata": {
        "id": "view-in-github",
        "colab_type": "text"
      },
      "source": [
        "<a href=\"https://colab.research.google.com/github/caesarcc/pucminas-tcc-fake-news-detection/blob/main/passo01_coleta_de_dados.ipynb\" target=\"_parent\"><img src=\"https://colab.research.google.com/assets/colab-badge.svg\" alt=\"Open In Colab\"/></a>"
      ]
    },
    {
      "cell_type": "markdown",
      "metadata": {
        "id": "WRxgfVVsPtyK"
      },
      "source": [
        "## Coleta e unificação dos datasets Fake.br-Corpus e FakeWhatsApp.Br"
      ]
    },
    {
      "cell_type": "code",
      "execution_count": null,
      "metadata": {
        "cellView": "form",
        "id": "CPzAh59THwj1"
      },
      "outputs": [],
      "source": [
        "# Importação de bibliotecas utilizadas no pré-processamento\n",
        "import os\n",
        "import re\n",
        "import pandas as pd\n",
        "import matplotlib.pyplot as plt\n",
        "import seaborn as sns\n",
        "from IPython.display import display\n",
        "%matplotlib inline\n",
        "pd.set_option(\"display.max_rows\", 50, 'display.max_colwidth', 0)"
      ]
    },
    {
      "cell_type": "markdown",
      "metadata": {
        "id": "nYVq1HCgX5zB"
      },
      "source": [
        "### Baixando dados do [Fake.br-Corpus](https://github.com/roneysco/Fake.br-Corpus)"
      ]
    },
    {
      "cell_type": "code",
      "execution_count": null,
      "metadata": {
        "colab": {
          "base_uri": "https://localhost:8080/"
        },
        "id": "GLNk1WPwXznk",
        "outputId": "83c1aa91-5c11-4eb5-bee3-900cffbb0f82"
      },
      "outputs": [
        {
          "output_type": "stream",
          "name": "stdout",
          "text": [
            "Cloning into 'Fake.br-Corpus'...\n",
            "remote: Enumerating objects: 28763, done.\u001b[K\n",
            "remote: Total 28763 (delta 0), reused 0 (delta 0), pack-reused 28763\u001b[K\n",
            "Receiving objects: 100% (28763/28763), 37.10 MiB | 13.35 MiB/s, done.\n",
            "Resolving deltas: 100% (14129/14129), done.\n",
            "Checking out files: 100% (21602/21602), done.\n"
          ]
        }
      ],
      "source": [
        "!git clone https://github.com/roneysco/Fake.br-Corpus"
      ]
    },
    {
      "cell_type": "markdown",
      "metadata": {
        "id": "GYFyNmetYS2k"
      },
      "source": [
        "### Carregando os dados\n",
        "\n",
        "Vou utilizar a amostra \"full_texts\" do Corpus para realizar novo processamento e limpeza dos dados conforme as novas hipóteses propostas."
      ]
    },
    {
      "cell_type": "code",
      "execution_count": null,
      "metadata": {
        "id": "OaTZgu98YhqB"
      },
      "outputs": [],
      "source": [
        "DADOS_CAMINHO = \"./Fake.br-Corpus/full_texts\"\n",
        "\n",
        "def load_txts(path):\n",
        "    txts = []\n",
        "    for filename in sorted(os.listdir(path), key=lambda x: int(re.match(\"[0-9]+\", x).group())):\n",
        "        with open(os.path.join(path, filename)) as f:\n",
        "            txts.append(f.read())\n",
        "    return [txt.rstrip() for txt in txts]\n",
        "\n",
        "true_txts = load_txts(os.path.join(DADOS_CAMINHO, \"true\"))\n",
        "fake_txts = load_txts(os.path.join(DADOS_CAMINHO, \"fake\"))\n",
        "\n",
        "#confere se tem a mesma quantidade (dataset é balanceado)\n",
        "assert(len(true_txts) == len(fake_txts))\n",
        "\n",
        "dados_fakebr = pd.DataFrame(\n",
        "    [{\"texto\": t, \"classe\": 0} for t in true_txts] \\\n",
        "         + [{\"texto\": f, \"classe\": 1}  for f in fake_txts]\n",
        ")"
      ]
    },
    {
      "cell_type": "code",
      "source": [
        "display(dados_fakebr[dados_fakebr['texto'].str.len()<400].sample(n=5)[['classe', 'texto']])"
      ],
      "metadata": {
        "id": "yjFZmi2pztMv",
        "outputId": "3d7a9483-6c39-4b89-f49f-d500643a5058",
        "colab": {
          "base_uri": "https://localhost:8080/",
          "height": 281
        }
      },
      "execution_count": null,
      "outputs": [
        {
          "output_type": "display_data",
          "data": {
            "text/plain": [
              "      classe  \\\n",
              "5565  1        \n",
              "5458  1        \n",
              "5604  1        \n",
              "7113  1        \n",
              "4440  1        \n",
              "\n",
              "                                                                                                                                                                                                                                                                                                                                                                                                         texto  \n",
              "5565  Delcídio abre o jogo: \"Desde o mensalão,  o PMDB é o principal aliado do PT. Vem muita bomba por aí\".  Em entrevista para o jornalista Claudio Tognolli (da Jovem Pan),  o ex-senador Delcídio do Amaral afirmou que as investigações contra o ex-presidente Lula já estão muito avançadas.  \"A defesa de Lula continua usando aquela estratégia da vitimização\" disse o ex-senador. confira:             \n",
              "5458  Lima Duarte: \"Lula é um imbecil e Dilma nunca esteve preparada para nos governar\".  \" Ela não está preparada para nos conduzir para um futuro melhor. Ela não sabe o que é isso. Que ela seja feliz em outro canto\".  O ator Lima Duarte,  juntamente com o jovem Tomé (do movimento Nas Ruas),  gravou um vídeo onde ele dá sua opinião sobre a situação pela qual o país está passando. Lima destacou:  \n",
              "5604  Pequenina,  fofa e brava! Bebê de 5 meses tem ataque de ciúmes quando seus pais se beijam.  Uma linda bebê de apenas 5 meses está encantando a internet.  Quando ela vê seus pais se beijando,  ela dispara um ataque de choro! A pequenina fica feliz novamente quando as atenções se voltam para ela! Não é uma fofura?                                                                                 \n",
              "7113  Mais uma trapalhada? Dilma diz que governo cumpriu com as fiscalizações na barragem da Samarco. .                                                                                                                                                                                                                                                                                                         \n",
              "4440  General diz que Constituição foi \"abandidada\": \"Os militares saberão resolver nosso grave problema\". .  Em uma publicação feita ontem, Chagas destacou que a Constituição Brasileira foi \"abandidada\" \"A atual CF, promulgada após o fim do Regime Militar, transformou a liberdade em libertinagem e instrumentalizou a impunidade\"                                                                      "
            ],
            "text/html": [
              "\n",
              "  <div id=\"df-8083f2b3-1669-4a92-9fb2-03e47a0d2a0e\">\n",
              "    <div class=\"colab-df-container\">\n",
              "      <div>\n",
              "<style scoped>\n",
              "    .dataframe tbody tr th:only-of-type {\n",
              "        vertical-align: middle;\n",
              "    }\n",
              "\n",
              "    .dataframe tbody tr th {\n",
              "        vertical-align: top;\n",
              "    }\n",
              "\n",
              "    .dataframe thead th {\n",
              "        text-align: right;\n",
              "    }\n",
              "</style>\n",
              "<table border=\"1\" class=\"dataframe\">\n",
              "  <thead>\n",
              "    <tr style=\"text-align: right;\">\n",
              "      <th></th>\n",
              "      <th>classe</th>\n",
              "      <th>texto</th>\n",
              "    </tr>\n",
              "  </thead>\n",
              "  <tbody>\n",
              "    <tr>\n",
              "      <th>5565</th>\n",
              "      <td>1</td>\n",
              "      <td>Delcídio abre o jogo: \"Desde o mensalão,  o PMDB é o principal aliado do PT. Vem muita bomba por aí\".  Em entrevista para o jornalista Claudio Tognolli (da Jovem Pan),  o ex-senador Delcídio do Amaral afirmou que as investigações contra o ex-presidente Lula já estão muito avançadas.  \"A defesa de Lula continua usando aquela estratégia da vitimização\" disse o ex-senador. confira:</td>\n",
              "    </tr>\n",
              "    <tr>\n",
              "      <th>5458</th>\n",
              "      <td>1</td>\n",
              "      <td>Lima Duarte: \"Lula é um imbecil e Dilma nunca esteve preparada para nos governar\".  \" Ela não está preparada para nos conduzir para um futuro melhor. Ela não sabe o que é isso. Que ela seja feliz em outro canto\".  O ator Lima Duarte,  juntamente com o jovem Tomé (do movimento Nas Ruas),  gravou um vídeo onde ele dá sua opinião sobre a situação pela qual o país está passando. Lima destacou:</td>\n",
              "    </tr>\n",
              "    <tr>\n",
              "      <th>5604</th>\n",
              "      <td>1</td>\n",
              "      <td>Pequenina,  fofa e brava! Bebê de 5 meses tem ataque de ciúmes quando seus pais se beijam.  Uma linda bebê de apenas 5 meses está encantando a internet.  Quando ela vê seus pais se beijando,  ela dispara um ataque de choro! A pequenina fica feliz novamente quando as atenções se voltam para ela! Não é uma fofura?</td>\n",
              "    </tr>\n",
              "    <tr>\n",
              "      <th>7113</th>\n",
              "      <td>1</td>\n",
              "      <td>Mais uma trapalhada? Dilma diz que governo cumpriu com as fiscalizações na barragem da Samarco. .</td>\n",
              "    </tr>\n",
              "    <tr>\n",
              "      <th>4440</th>\n",
              "      <td>1</td>\n",
              "      <td>General diz que Constituição foi \"abandidada\": \"Os militares saberão resolver nosso grave problema\". .  Em uma publicação feita ontem, Chagas destacou que a Constituição Brasileira foi \"abandidada\" \"A atual CF, promulgada após o fim do Regime Militar, transformou a liberdade em libertinagem e instrumentalizou a impunidade\"</td>\n",
              "    </tr>\n",
              "  </tbody>\n",
              "</table>\n",
              "</div>\n",
              "      <button class=\"colab-df-convert\" onclick=\"convertToInteractive('df-8083f2b3-1669-4a92-9fb2-03e47a0d2a0e')\"\n",
              "              title=\"Convert this dataframe to an interactive table.\"\n",
              "              style=\"display:none;\">\n",
              "        \n",
              "  <svg xmlns=\"http://www.w3.org/2000/svg\" height=\"24px\"viewBox=\"0 0 24 24\"\n",
              "       width=\"24px\">\n",
              "    <path d=\"M0 0h24v24H0V0z\" fill=\"none\"/>\n",
              "    <path d=\"M18.56 5.44l.94 2.06.94-2.06 2.06-.94-2.06-.94-.94-2.06-.94 2.06-2.06.94zm-11 1L8.5 8.5l.94-2.06 2.06-.94-2.06-.94L8.5 2.5l-.94 2.06-2.06.94zm10 10l.94 2.06.94-2.06 2.06-.94-2.06-.94-.94-2.06-.94 2.06-2.06.94z\"/><path d=\"M17.41 7.96l-1.37-1.37c-.4-.4-.92-.59-1.43-.59-.52 0-1.04.2-1.43.59L10.3 9.45l-7.72 7.72c-.78.78-.78 2.05 0 2.83L4 21.41c.39.39.9.59 1.41.59.51 0 1.02-.2 1.41-.59l7.78-7.78 2.81-2.81c.8-.78.8-2.07 0-2.86zM5.41 20L4 18.59l7.72-7.72 1.47 1.35L5.41 20z\"/>\n",
              "  </svg>\n",
              "      </button>\n",
              "      \n",
              "  <style>\n",
              "    .colab-df-container {\n",
              "      display:flex;\n",
              "      flex-wrap:wrap;\n",
              "      gap: 12px;\n",
              "    }\n",
              "\n",
              "    .colab-df-convert {\n",
              "      background-color: #E8F0FE;\n",
              "      border: none;\n",
              "      border-radius: 50%;\n",
              "      cursor: pointer;\n",
              "      display: none;\n",
              "      fill: #1967D2;\n",
              "      height: 32px;\n",
              "      padding: 0 0 0 0;\n",
              "      width: 32px;\n",
              "    }\n",
              "\n",
              "    .colab-df-convert:hover {\n",
              "      background-color: #E2EBFA;\n",
              "      box-shadow: 0px 1px 2px rgba(60, 64, 67, 0.3), 0px 1px 3px 1px rgba(60, 64, 67, 0.15);\n",
              "      fill: #174EA6;\n",
              "    }\n",
              "\n",
              "    [theme=dark] .colab-df-convert {\n",
              "      background-color: #3B4455;\n",
              "      fill: #D2E3FC;\n",
              "    }\n",
              "\n",
              "    [theme=dark] .colab-df-convert:hover {\n",
              "      background-color: #434B5C;\n",
              "      box-shadow: 0px 1px 3px 1px rgba(0, 0, 0, 0.15);\n",
              "      filter: drop-shadow(0px 1px 2px rgba(0, 0, 0, 0.3));\n",
              "      fill: #FFFFFF;\n",
              "    }\n",
              "  </style>\n",
              "\n",
              "      <script>\n",
              "        const buttonEl =\n",
              "          document.querySelector('#df-8083f2b3-1669-4a92-9fb2-03e47a0d2a0e button.colab-df-convert');\n",
              "        buttonEl.style.display =\n",
              "          google.colab.kernel.accessAllowed ? 'block' : 'none';\n",
              "\n",
              "        async function convertToInteractive(key) {\n",
              "          const element = document.querySelector('#df-8083f2b3-1669-4a92-9fb2-03e47a0d2a0e');\n",
              "          const dataTable =\n",
              "            await google.colab.kernel.invokeFunction('convertToInteractive',\n",
              "                                                     [key], {});\n",
              "          if (!dataTable) return;\n",
              "\n",
              "          const docLinkHtml = 'Like what you see? Visit the ' +\n",
              "            '<a target=\"_blank\" href=https://colab.research.google.com/notebooks/data_table.ipynb>data table notebook</a>'\n",
              "            + ' to learn more about interactive tables.';\n",
              "          element.innerHTML = '';\n",
              "          dataTable['output_type'] = 'display_data';\n",
              "          await google.colab.output.renderOutput(dataTable, element);\n",
              "          const docLink = document.createElement('div');\n",
              "          docLink.innerHTML = docLinkHtml;\n",
              "          element.appendChild(docLink);\n",
              "        }\n",
              "      </script>\n",
              "    </div>\n",
              "  </div>\n",
              "  "
            ]
          },
          "metadata": {}
        }
      ]
    },
    {
      "cell_type": "markdown",
      "source": [
        "### Baixando dados do [FakeWhatsApp.br](https://github.com/cabrau/FakeWhatsApp.Br)"
      ],
      "metadata": {
        "id": "LBD3ftYM3u9b"
      }
    },
    {
      "cell_type": "code",
      "source": [
        "!git clone https://github.com/cabrau/FakeWhatsApp.Br"
      ],
      "metadata": {
        "id": "HWXMPHMs3uEV",
        "outputId": "9c5e9a06-d503-4d61-c69f-586bd5a51c6e",
        "colab": {
          "base_uri": "https://localhost:8080/"
        }
      },
      "execution_count": null,
      "outputs": [
        {
          "output_type": "stream",
          "name": "stdout",
          "text": [
            "Cloning into 'FakeWhatsApp.Br'...\n",
            "remote: Enumerating objects: 1053, done.\u001b[K\n",
            "remote: Counting objects: 100% (189/189), done.\u001b[K\n",
            "remote: Compressing objects: 100% (102/102), done.\u001b[K\n",
            "remote: Total 1053 (delta 83), reused 189 (delta 83), pack-reused 864\u001b[K\n",
            "Receiving objects: 100% (1053/1053), 413.70 MiB | 12.07 MiB/s, done.\n",
            "Resolving deltas: 100% (329/329), done.\n",
            "Checking out files: 100% (235/235), done.\n"
          ]
        }
      ]
    },
    {
      "cell_type": "code",
      "source": [
        "DADOS_CAMINHO = \"/content/FakeWhatsApp.Br/data/2018/fakeWhatsApp.BR_2018.csv\"\n",
        "fakewhats_df = pd.read_csv(DADOS_CAMINHO, sep = ',', usecols=['text', 'misinformation','viral'])\n",
        "fakewhats_df.rename(columns={'text': 'texto', 'misinformation': 'classe'}, inplace=True)"
      ],
      "metadata": {
        "id": "-y1n9G0O27JI"
      },
      "execution_count": null,
      "outputs": []
    },
    {
      "cell_type": "code",
      "source": [
        "pd.DataFrame(fakewhats_df[['classe','viral']].melt(\n",
        "    var_name='campo', value_name='valor').value_counts()).rename(\n",
        "        columns={0: 'contagem'}).sort_values(by=['campo', 'contagem'])"
      ],
      "metadata": {
        "id": "wxVphbB15u9o",
        "outputId": "44404bf9-d46a-438f-ca4a-8d156a21bffe",
        "colab": {
          "base_uri": "https://localhost:8080/",
          "height": 238
        }
      },
      "execution_count": null,
      "outputs": [
        {
          "output_type": "execute_result",
          "data": {
            "text/plain": [
              "              contagem\n",
              "campo  valor          \n",
              "classe  0     9877    \n",
              "        1     11412   \n",
              "       -1     261312  \n",
              "viral   1     20872   \n",
              "        0     261729  "
            ],
            "text/html": [
              "\n",
              "  <div id=\"df-82b51c26-d05b-48d8-ad74-d7dbfdda929e\">\n",
              "    <div class=\"colab-df-container\">\n",
              "      <div>\n",
              "<style scoped>\n",
              "    .dataframe tbody tr th:only-of-type {\n",
              "        vertical-align: middle;\n",
              "    }\n",
              "\n",
              "    .dataframe tbody tr th {\n",
              "        vertical-align: top;\n",
              "    }\n",
              "\n",
              "    .dataframe thead th {\n",
              "        text-align: right;\n",
              "    }\n",
              "</style>\n",
              "<table border=\"1\" class=\"dataframe\">\n",
              "  <thead>\n",
              "    <tr style=\"text-align: right;\">\n",
              "      <th></th>\n",
              "      <th></th>\n",
              "      <th>contagem</th>\n",
              "    </tr>\n",
              "    <tr>\n",
              "      <th>campo</th>\n",
              "      <th>valor</th>\n",
              "      <th></th>\n",
              "    </tr>\n",
              "  </thead>\n",
              "  <tbody>\n",
              "    <tr>\n",
              "      <th rowspan=\"3\" valign=\"top\">classe</th>\n",
              "      <th>0</th>\n",
              "      <td>9877</td>\n",
              "    </tr>\n",
              "    <tr>\n",
              "      <th>1</th>\n",
              "      <td>11412</td>\n",
              "    </tr>\n",
              "    <tr>\n",
              "      <th>-1</th>\n",
              "      <td>261312</td>\n",
              "    </tr>\n",
              "    <tr>\n",
              "      <th rowspan=\"2\" valign=\"top\">viral</th>\n",
              "      <th>1</th>\n",
              "      <td>20872</td>\n",
              "    </tr>\n",
              "    <tr>\n",
              "      <th>0</th>\n",
              "      <td>261729</td>\n",
              "    </tr>\n",
              "  </tbody>\n",
              "</table>\n",
              "</div>\n",
              "      <button class=\"colab-df-convert\" onclick=\"convertToInteractive('df-82b51c26-d05b-48d8-ad74-d7dbfdda929e')\"\n",
              "              title=\"Convert this dataframe to an interactive table.\"\n",
              "              style=\"display:none;\">\n",
              "        \n",
              "  <svg xmlns=\"http://www.w3.org/2000/svg\" height=\"24px\"viewBox=\"0 0 24 24\"\n",
              "       width=\"24px\">\n",
              "    <path d=\"M0 0h24v24H0V0z\" fill=\"none\"/>\n",
              "    <path d=\"M18.56 5.44l.94 2.06.94-2.06 2.06-.94-2.06-.94-.94-2.06-.94 2.06-2.06.94zm-11 1L8.5 8.5l.94-2.06 2.06-.94-2.06-.94L8.5 2.5l-.94 2.06-2.06.94zm10 10l.94 2.06.94-2.06 2.06-.94-2.06-.94-.94-2.06-.94 2.06-2.06.94z\"/><path d=\"M17.41 7.96l-1.37-1.37c-.4-.4-.92-.59-1.43-.59-.52 0-1.04.2-1.43.59L10.3 9.45l-7.72 7.72c-.78.78-.78 2.05 0 2.83L4 21.41c.39.39.9.59 1.41.59.51 0 1.02-.2 1.41-.59l7.78-7.78 2.81-2.81c.8-.78.8-2.07 0-2.86zM5.41 20L4 18.59l7.72-7.72 1.47 1.35L5.41 20z\"/>\n",
              "  </svg>\n",
              "      </button>\n",
              "      \n",
              "  <style>\n",
              "    .colab-df-container {\n",
              "      display:flex;\n",
              "      flex-wrap:wrap;\n",
              "      gap: 12px;\n",
              "    }\n",
              "\n",
              "    .colab-df-convert {\n",
              "      background-color: #E8F0FE;\n",
              "      border: none;\n",
              "      border-radius: 50%;\n",
              "      cursor: pointer;\n",
              "      display: none;\n",
              "      fill: #1967D2;\n",
              "      height: 32px;\n",
              "      padding: 0 0 0 0;\n",
              "      width: 32px;\n",
              "    }\n",
              "\n",
              "    .colab-df-convert:hover {\n",
              "      background-color: #E2EBFA;\n",
              "      box-shadow: 0px 1px 2px rgba(60, 64, 67, 0.3), 0px 1px 3px 1px rgba(60, 64, 67, 0.15);\n",
              "      fill: #174EA6;\n",
              "    }\n",
              "\n",
              "    [theme=dark] .colab-df-convert {\n",
              "      background-color: #3B4455;\n",
              "      fill: #D2E3FC;\n",
              "    }\n",
              "\n",
              "    [theme=dark] .colab-df-convert:hover {\n",
              "      background-color: #434B5C;\n",
              "      box-shadow: 0px 1px 3px 1px rgba(0, 0, 0, 0.15);\n",
              "      filter: drop-shadow(0px 1px 2px rgba(0, 0, 0, 0.3));\n",
              "      fill: #FFFFFF;\n",
              "    }\n",
              "  </style>\n",
              "\n",
              "      <script>\n",
              "        const buttonEl =\n",
              "          document.querySelector('#df-82b51c26-d05b-48d8-ad74-d7dbfdda929e button.colab-df-convert');\n",
              "        buttonEl.style.display =\n",
              "          google.colab.kernel.accessAllowed ? 'block' : 'none';\n",
              "\n",
              "        async function convertToInteractive(key) {\n",
              "          const element = document.querySelector('#df-82b51c26-d05b-48d8-ad74-d7dbfdda929e');\n",
              "          const dataTable =\n",
              "            await google.colab.kernel.invokeFunction('convertToInteractive',\n",
              "                                                     [key], {});\n",
              "          if (!dataTable) return;\n",
              "\n",
              "          const docLinkHtml = 'Like what you see? Visit the ' +\n",
              "            '<a target=\"_blank\" href=https://colab.research.google.com/notebooks/data_table.ipynb>data table notebook</a>'\n",
              "            + ' to learn more about interactive tables.';\n",
              "          element.innerHTML = '';\n",
              "          dataTable['output_type'] = 'display_data';\n",
              "          await google.colab.output.renderOutput(dataTable, element);\n",
              "          const docLink = document.createElement('div');\n",
              "          docLink.innerHTML = docLinkHtml;\n",
              "          element.appendChild(docLink);\n",
              "        }\n",
              "      </script>\n",
              "    </div>\n",
              "  </div>\n",
              "  "
            ]
          },
          "metadata": {},
          "execution_count": 21
        }
      ]
    },
    {
      "cell_type": "code",
      "source": [
        "# Remove registros não forma anotados no dataset\n",
        "dados_fakewhats = fakewhats_df[fakewhats_df['classe'] > -1].copy()\n",
        "# Remove registros que são virais (estão repetidos no dataset ou são similares)\n",
        "dados_fakewhats = dados_fakewhats[dados_fakewhats['viral'] == 0].copy()\n",
        "# Remove coluna de viral\n",
        "dados_fakewhats.drop('viral', inplace=True, axis=1)"
      ],
      "metadata": {
        "id": "DSGuzPIW8kBD"
      },
      "execution_count": null,
      "outputs": []
    },
    {
      "cell_type": "code",
      "execution_count": null,
      "metadata": {
        "colab": {
          "base_uri": "https://localhost:8080/",
          "height": 231
        },
        "id": "xBxHYwFx-Vq5",
        "outputId": "37a9e649-4cb6-44ca-9255-cc2a18c21a09"
      },
      "outputs": [
        {
          "output_type": "display_data",
          "data": {
            "text/plain": [
              "        classe  \\\n",
              "85635   0        \n",
              "167416  0        \n",
              "19452   0        \n",
              "60017   0        \n",
              "154322  0        \n",
              "\n",
              "                                                                                                                                                                                                                                                          texto  \n",
              "85635   Alguém sabe me dizer se o feriado de sexta feira ainda tá de pé, já que o documento que D. Pedro I assinou decretando a independência foi queimado?                                                                                                      \n",
              "167416  *_Vamos começar uma campanha, quem é brasileiro e quer o bem do país, troque nesta semana sua foto do WhatsApp pela bandeira do Brasil, será a melhor pesquisa eleitoral que vc vai ver, espalhe essa ideia... Segunda voltamos ao normal, quem topa?_*  \n",
              "19452   VEJAM O QUE ACONTECEU NO DF \\n\\nColocamos hoje uma faixa no centro de Brasília, na rodoviária do Plano Piloto,\\n\\nEscrito: Bolsonaro Presidente Buzine \\n\\nOlhe o que aconteceu ...                                                                      \n",
              "60017   Eu vou votar meio a meio, \\nUm pouco do Pt e um pouco no Bolsonaro\\nAssim ninguém fica enchendo o saco.\\nVou digitar o 1 do Haddad e depois o 7 do bolsonaro...ai confirmo! \\nPronto, acabaram as brigas. 🇧🇷                                             \n",
              "154322  Eu voto em quem o Lula indicar, mostra o número aí Lula                                                                                                                                                                                                  "
            ],
            "text/html": [
              "\n",
              "  <div id=\"df-e4726d0e-6158-4a9c-beca-9ea25938157e\">\n",
              "    <div class=\"colab-df-container\">\n",
              "      <div>\n",
              "<style scoped>\n",
              "    .dataframe tbody tr th:only-of-type {\n",
              "        vertical-align: middle;\n",
              "    }\n",
              "\n",
              "    .dataframe tbody tr th {\n",
              "        vertical-align: top;\n",
              "    }\n",
              "\n",
              "    .dataframe thead th {\n",
              "        text-align: right;\n",
              "    }\n",
              "</style>\n",
              "<table border=\"1\" class=\"dataframe\">\n",
              "  <thead>\n",
              "    <tr style=\"text-align: right;\">\n",
              "      <th></th>\n",
              "      <th>classe</th>\n",
              "      <th>texto</th>\n",
              "    </tr>\n",
              "  </thead>\n",
              "  <tbody>\n",
              "    <tr>\n",
              "      <th>85635</th>\n",
              "      <td>0</td>\n",
              "      <td>Alguém sabe me dizer se o feriado de sexta feira ainda tá de pé, já que o documento que D. Pedro I assinou decretando a independência foi queimado?</td>\n",
              "    </tr>\n",
              "    <tr>\n",
              "      <th>167416</th>\n",
              "      <td>0</td>\n",
              "      <td>*_Vamos começar uma campanha, quem é brasileiro e quer o bem do país, troque nesta semana sua foto do WhatsApp pela bandeira do Brasil, será a melhor pesquisa eleitoral que vc vai ver, espalhe essa ideia... Segunda voltamos ao normal, quem topa?_*</td>\n",
              "    </tr>\n",
              "    <tr>\n",
              "      <th>19452</th>\n",
              "      <td>0</td>\n",
              "      <td>VEJAM O QUE ACONTECEU NO DF \\n\\nColocamos hoje uma faixa no centro de Brasília, na rodoviária do Plano Piloto,\\n\\nEscrito: Bolsonaro Presidente Buzine \\n\\nOlhe o que aconteceu ...</td>\n",
              "    </tr>\n",
              "    <tr>\n",
              "      <th>60017</th>\n",
              "      <td>0</td>\n",
              "      <td>Eu vou votar meio a meio, \\nUm pouco do Pt e um pouco no Bolsonaro\\nAssim ninguém fica enchendo o saco.\\nVou digitar o 1 do Haddad e depois o 7 do bolsonaro...ai confirmo! \\nPronto, acabaram as brigas. 🇧🇷</td>\n",
              "    </tr>\n",
              "    <tr>\n",
              "      <th>154322</th>\n",
              "      <td>0</td>\n",
              "      <td>Eu voto em quem o Lula indicar, mostra o número aí Lula</td>\n",
              "    </tr>\n",
              "  </tbody>\n",
              "</table>\n",
              "</div>\n",
              "      <button class=\"colab-df-convert\" onclick=\"convertToInteractive('df-e4726d0e-6158-4a9c-beca-9ea25938157e')\"\n",
              "              title=\"Convert this dataframe to an interactive table.\"\n",
              "              style=\"display:none;\">\n",
              "        \n",
              "  <svg xmlns=\"http://www.w3.org/2000/svg\" height=\"24px\"viewBox=\"0 0 24 24\"\n",
              "       width=\"24px\">\n",
              "    <path d=\"M0 0h24v24H0V0z\" fill=\"none\"/>\n",
              "    <path d=\"M18.56 5.44l.94 2.06.94-2.06 2.06-.94-2.06-.94-.94-2.06-.94 2.06-2.06.94zm-11 1L8.5 8.5l.94-2.06 2.06-.94-2.06-.94L8.5 2.5l-.94 2.06-2.06.94zm10 10l.94 2.06.94-2.06 2.06-.94-2.06-.94-.94-2.06-.94 2.06-2.06.94z\"/><path d=\"M17.41 7.96l-1.37-1.37c-.4-.4-.92-.59-1.43-.59-.52 0-1.04.2-1.43.59L10.3 9.45l-7.72 7.72c-.78.78-.78 2.05 0 2.83L4 21.41c.39.39.9.59 1.41.59.51 0 1.02-.2 1.41-.59l7.78-7.78 2.81-2.81c.8-.78.8-2.07 0-2.86zM5.41 20L4 18.59l7.72-7.72 1.47 1.35L5.41 20z\"/>\n",
              "  </svg>\n",
              "      </button>\n",
              "      \n",
              "  <style>\n",
              "    .colab-df-container {\n",
              "      display:flex;\n",
              "      flex-wrap:wrap;\n",
              "      gap: 12px;\n",
              "    }\n",
              "\n",
              "    .colab-df-convert {\n",
              "      background-color: #E8F0FE;\n",
              "      border: none;\n",
              "      border-radius: 50%;\n",
              "      cursor: pointer;\n",
              "      display: none;\n",
              "      fill: #1967D2;\n",
              "      height: 32px;\n",
              "      padding: 0 0 0 0;\n",
              "      width: 32px;\n",
              "    }\n",
              "\n",
              "    .colab-df-convert:hover {\n",
              "      background-color: #E2EBFA;\n",
              "      box-shadow: 0px 1px 2px rgba(60, 64, 67, 0.3), 0px 1px 3px 1px rgba(60, 64, 67, 0.15);\n",
              "      fill: #174EA6;\n",
              "    }\n",
              "\n",
              "    [theme=dark] .colab-df-convert {\n",
              "      background-color: #3B4455;\n",
              "      fill: #D2E3FC;\n",
              "    }\n",
              "\n",
              "    [theme=dark] .colab-df-convert:hover {\n",
              "      background-color: #434B5C;\n",
              "      box-shadow: 0px 1px 3px 1px rgba(0, 0, 0, 0.15);\n",
              "      filter: drop-shadow(0px 1px 2px rgba(0, 0, 0, 0.3));\n",
              "      fill: #FFFFFF;\n",
              "    }\n",
              "  </style>\n",
              "\n",
              "      <script>\n",
              "        const buttonEl =\n",
              "          document.querySelector('#df-e4726d0e-6158-4a9c-beca-9ea25938157e button.colab-df-convert');\n",
              "        buttonEl.style.display =\n",
              "          google.colab.kernel.accessAllowed ? 'block' : 'none';\n",
              "\n",
              "        async function convertToInteractive(key) {\n",
              "          const element = document.querySelector('#df-e4726d0e-6158-4a9c-beca-9ea25938157e');\n",
              "          const dataTable =\n",
              "            await google.colab.kernel.invokeFunction('convertToInteractive',\n",
              "                                                     [key], {});\n",
              "          if (!dataTable) return;\n",
              "\n",
              "          const docLinkHtml = 'Like what you see? Visit the ' +\n",
              "            '<a target=\"_blank\" href=https://colab.research.google.com/notebooks/data_table.ipynb>data table notebook</a>'\n",
              "            + ' to learn more about interactive tables.';\n",
              "          element.innerHTML = '';\n",
              "          dataTable['output_type'] = 'display_data';\n",
              "          await google.colab.output.renderOutput(dataTable, element);\n",
              "          const docLink = document.createElement('div');\n",
              "          docLink.innerHTML = docLinkHtml;\n",
              "          element.appendChild(docLink);\n",
              "        }\n",
              "      </script>\n",
              "    </div>\n",
              "  </div>\n",
              "  "
            ]
          },
          "metadata": {}
        }
      ],
      "source": [
        "display(dados_fakewhats[dados_fakewhats['texto'].str.len()<400].sample(n=5)[['classe', 'texto']])"
      ]
    },
    {
      "cell_type": "markdown",
      "source": [
        "### Concatena os dadasets, confere e salva em arquivo"
      ],
      "metadata": {
        "id": "BeDv1wrCAN3z"
      }
    },
    {
      "cell_type": "code",
      "source": [
        "dados_unidos = pd.concat(\n",
        "    [dados_fakebr, dados_fakewhats],\n",
        "    ignore_index=True,\n",
        "    copy=True,\n",
        ")\n",
        "display(dados_fakebr.shape, dados_fakewhats.shape, dados_unidos.shape)"
      ],
      "metadata": {
        "id": "1mJfCBk6-JMj",
        "outputId": "0c7c568d-cedf-4971-af9c-cb1e11265073",
        "colab": {
          "base_uri": "https://localhost:8080/",
          "height": 71
        }
      },
      "execution_count": null,
      "outputs": [
        {
          "output_type": "display_data",
          "data": {
            "text/plain": [
              "(7200, 2)"
            ]
          },
          "metadata": {}
        },
        {
          "output_type": "display_data",
          "data": {
            "text/plain": [
              "(2338, 2)"
            ]
          },
          "metadata": {}
        },
        {
          "output_type": "display_data",
          "data": {
            "text/plain": [
              "(9538, 2)"
            ]
          },
          "metadata": {}
        }
      ]
    },
    {
      "cell_type": "code",
      "execution_count": null,
      "metadata": {
        "colab": {
          "base_uri": "https://localhost:8080/",
          "height": 299
        },
        "id": "CHkOe1UfZEAM",
        "outputId": "acc2c150-b0ff-4e0e-899f-524e608eaa26"
      },
      "outputs": [
        {
          "output_type": "display_data",
          "data": {
            "text/plain": [
              "<Figure size 432x288 with 1 Axes>"
            ],
            "image/png": "[encoded data removed]"
          },
          "metadata": {
            "needs_background": "light"
          }
        }
      ],
      "source": [
        "ax = sns.countplot(x=\"classe\", data=dados_unidos)\n",
        "ax.set_xticklabels([\"0 = Confiável\", \"1 = Falso\"], fontsize=12)\n",
        "ax.set_title('Distribuição de valores', fontsize=14)\n",
        "ax.set_ylabel('quantidade')\n",
        "plt.show()"
      ]
    },
    {
      "cell_type": "code",
      "execution_count": null,
      "metadata": {
        "id": "YCO1XnsHPtyd",
        "outputId": "195d52ec-7ada-420e-bb0b-6e753918a3ea",
        "colab": {
          "base_uri": "https://localhost:8080/"
        }
      },
      "outputs": [
        {
          "output_type": "stream",
          "name": "stdout",
          "text": [
            "Mounted at /content/drive\n"
          ]
        }
      ],
      "source": [
        "# Configura acesso ao Google Driver onde serão salvos os arquivos grandes\n",
        "from google.colab import drive\n",
        "drive.mount('/content/drive')"
      ]
    },
    {
      "cell_type": "code",
      "source": [
        "# Salva dados para uso no notebook do próximo passo.\n",
        "os.makedirs(\"/content/drive/MyDrive/PUC/TCC/dados/\", exist_ok=True)\n",
        "dados_unidos.to_csv('/content/drive/MyDrive/PUC/TCC/dados/datasets_unificados.csv', sep = ',')"
      ],
      "metadata": {
        "id": "e0r7UsfiBRwN"
      },
      "execution_count": null,
      "outputs": []
    }
  ],
  "metadata": {
    "colab": {
      "collapsed_sections": [],
      "machine_shape": "hm",
      "name": "ultimo_mesmo_fake_news_bertimbau.ipynb",
      "provenance": [],
      "include_colab_link": true
    },
    "interpreter": {
      "hash": "50691a0bc379e9e647c9463feff34781ae883c7b810726d51a7ed60c4a02b637"
    },
    "kernelspec": {
      "display_name": "Python 3.8.13 ('tcc')",
      "language": "python",
      "name": "python3"
    },
    "language_info": {
      "codemirror_mode": {
        "name": "ipython",
        "version": 3
      },
      "file_extension": ".py",
      "mimetype": "text/x-python",
      "name": "python",
      "nbconvert_exporter": "python",
      "pygments_lexer": "ipython3",
      "version": "3.8.13"
    }
  },
  "nbformat": 4,
  "nbformat_minor": 0
}